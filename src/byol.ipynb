{
 "cells": [
  {
   "cell_type": "code",
   "execution_count": 1,
   "metadata": {},
   "outputs": [],
   "source": [
    "import os\n",
    "os.environ[\"CUDA_DEVICE_ORDER\"]=\"PCI_BUS_ID\"   # see issue #152\n",
    "os.environ[\"CUDA_VISIBLE_DEVICES\"]=\"0,2,3\"\n",
    "import numpy as np\n",
    "import torch\n",
    "import torch.nn as nn\n",
    "from facenet_pytorch import fixed_image_standardization\n",
    "#from torch.utils.tensorboard import SummaryWriter\n",
    "from torchvision import transforms\n",
    "from tqdm import tqdm\n",
    "from vit_pytorch import ViT\n",
    "from byol_pytorch import BYOL\n",
    "from data_loader import get_loader, read_dataset, CompositeDataset\n",
    "from model import FaceRecognitionCNN\n",
    "from utils import write_json, copy_file, count_parameters"
   ]
  },
  {
   "cell_type": "code",
   "execution_count": 2,
   "metadata": {},
   "outputs": [],
   "source": [
    "transform = transforms.Compose([\n",
    "        transforms.Resize((160, 160)),\n",
    "        np.float32,\n",
    "        transforms.ToTensor(),\n",
    "        fixed_image_standardization\n",
    "    ])"
   ]
  },
  {
   "cell_type": "code",
   "execution_count": 3,
   "metadata": {},
   "outputs": [
    {
     "name": "stdout",
     "output_type": "stream",
     "text": [
      "['deepfakes_faces_c23', 'original_faces_c23', 'face2face_faces_c23', 'neural_textures_faces_c23', 'faceswap_faces_c23']\n",
      "Using training data: \n",
      "deepfakes_faces_c23\n",
      "face2face_faces_c23\n",
      "faceswap_faces_c23\n",
      "neural_textures_faces_c23\n",
      "original_faces_c23\n"
     ]
    }
   ],
   "source": [
    "datasets = read_dataset(\n",
    "    '../dataset/mtcnn/', transform=transform,\n",
    "    max_images_per_video=10, max_videos=1000,\n",
    "    window_size=1, splits_path='../dataset/splits/'\n",
    ")\n",
    "# only neural textures c40 and original c40\n",
    "datasets = {\n",
    "    k: v for k, v in datasets.items() \n",
    "    if ('original' in k or 'neural' in k or 'face2face' in k or 'faceswap' in k or 'deepfakes' in k) and 'c23' in k\n",
    "}\n",
    "print('Using training data: ')\n",
    "print('\\n'.join(sorted(datasets.keys())))\n",
    "\n",
    "trains, vals, tests = [], [], []\n",
    "for data_dir_name, dataset in datasets.items():\n",
    "    train, val, test = dataset\n",
    "    # repeat original data multiple times to balance out training data\n",
    "    compression = data_dir_name.split('_')[-1]\n",
    "    num_tampered_with_same_compression = len({x for x in datasets.keys() if compression in x}) - 1\n",
    "    count = 1 if 'original' not in data_dir_name else num_tampered_with_same_compression\n",
    "    for _ in range(count):\n",
    "        trains.append(train)\n",
    "    vals.append(val)\n",
    "    tests.append(test)\n",
    "    \n",
    "train_dataset, val_dataset, test_dataset = CompositeDataset(*trains), CompositeDataset(*vals), CompositeDataset(*tests)"
   ]
  },
  {
   "cell_type": "code",
   "execution_count": 4,
   "metadata": {},
   "outputs": [
    {
     "name": "stdout",
     "output_type": "stream",
     "text": [
      "train data size: 57600, validation data size: 7000\n"
     ]
    }
   ],
   "source": [
    "tqdm.write('train data size: {}, validation data size: {}'.format(len(train_dataset), len(val_dataset)))"
   ]
  },
  {
   "cell_type": "code",
   "execution_count": 5,
   "metadata": {},
   "outputs": [],
   "source": [
    "train_loader = get_loader(\n",
    "    train_dataset, 64, shuffle=True, num_workers=2\n",
    ")\n",
    "val_loader = get_loader(\n",
    "    val_dataset, 256, shuffle=True, num_workers=2\n",
    ")"
   ]
  },
  {
   "cell_type": "code",
   "execution_count": 6,
   "metadata": {},
   "outputs": [
    {
     "name": "stdout",
     "output_type": "stream",
     "text": [
      "training on cuda\n"
     ]
    }
   ],
   "source": [
    "device = torch.device('cuda' if torch.cuda.is_available() else 'cpu')\n",
    "print('training on', device)"
   ]
  },
  {
   "cell_type": "code",
   "execution_count": 7,
   "metadata": {},
   "outputs": [],
   "source": [
    "PATCH_SIZE = 16\n",
    "DIM = 1024\n",
    "MLP_DIM = 2048\n",
    "DEPTH = 6\n",
    "HEADS = 16"
   ]
  },
  {
   "cell_type": "code",
   "execution_count": 8,
   "metadata": {},
   "outputs": [
    {
     "data": {
      "text/plain": [
       "BYOL(\n",
       "  (net): ViT(\n",
       "    (patch_to_embedding): Linear(in_features=768, out_features=1024, bias=True)\n",
       "    (dropout): Dropout(p=0.1, inplace=False)\n",
       "    (transformer): Transformer(\n",
       "      (layers): ModuleList(\n",
       "        (0): ModuleList(\n",
       "          (0): Residual(\n",
       "            (fn): PreNorm(\n",
       "              (norm): LayerNorm((1024,), eps=1e-05, elementwise_affine=True)\n",
       "              (fn): Attention(\n",
       "                (to_qkv): Linear(in_features=1024, out_features=3072, bias=False)\n",
       "                (to_out): Sequential(\n",
       "                  (0): Linear(in_features=1024, out_features=1024, bias=True)\n",
       "                  (1): Dropout(p=0.1, inplace=False)\n",
       "                )\n",
       "              )\n",
       "            )\n",
       "          )\n",
       "          (1): Residual(\n",
       "            (fn): PreNorm(\n",
       "              (norm): LayerNorm((1024,), eps=1e-05, elementwise_affine=True)\n",
       "              (fn): FeedForward(\n",
       "                (net): Sequential(\n",
       "                  (0): Linear(in_features=1024, out_features=2048, bias=True)\n",
       "                  (1): GELU()\n",
       "                  (2): Dropout(p=0.1, inplace=False)\n",
       "                  (3): Linear(in_features=2048, out_features=1024, bias=True)\n",
       "                  (4): Dropout(p=0.1, inplace=False)\n",
       "                )\n",
       "              )\n",
       "            )\n",
       "          )\n",
       "        )\n",
       "        (1): ModuleList(\n",
       "          (0): Residual(\n",
       "            (fn): PreNorm(\n",
       "              (norm): LayerNorm((1024,), eps=1e-05, elementwise_affine=True)\n",
       "              (fn): Attention(\n",
       "                (to_qkv): Linear(in_features=1024, out_features=3072, bias=False)\n",
       "                (to_out): Sequential(\n",
       "                  (0): Linear(in_features=1024, out_features=1024, bias=True)\n",
       "                  (1): Dropout(p=0.1, inplace=False)\n",
       "                )\n",
       "              )\n",
       "            )\n",
       "          )\n",
       "          (1): Residual(\n",
       "            (fn): PreNorm(\n",
       "              (norm): LayerNorm((1024,), eps=1e-05, elementwise_affine=True)\n",
       "              (fn): FeedForward(\n",
       "                (net): Sequential(\n",
       "                  (0): Linear(in_features=1024, out_features=2048, bias=True)\n",
       "                  (1): GELU()\n",
       "                  (2): Dropout(p=0.1, inplace=False)\n",
       "                  (3): Linear(in_features=2048, out_features=1024, bias=True)\n",
       "                  (4): Dropout(p=0.1, inplace=False)\n",
       "                )\n",
       "              )\n",
       "            )\n",
       "          )\n",
       "        )\n",
       "        (2): ModuleList(\n",
       "          (0): Residual(\n",
       "            (fn): PreNorm(\n",
       "              (norm): LayerNorm((1024,), eps=1e-05, elementwise_affine=True)\n",
       "              (fn): Attention(\n",
       "                (to_qkv): Linear(in_features=1024, out_features=3072, bias=False)\n",
       "                (to_out): Sequential(\n",
       "                  (0): Linear(in_features=1024, out_features=1024, bias=True)\n",
       "                  (1): Dropout(p=0.1, inplace=False)\n",
       "                )\n",
       "              )\n",
       "            )\n",
       "          )\n",
       "          (1): Residual(\n",
       "            (fn): PreNorm(\n",
       "              (norm): LayerNorm((1024,), eps=1e-05, elementwise_affine=True)\n",
       "              (fn): FeedForward(\n",
       "                (net): Sequential(\n",
       "                  (0): Linear(in_features=1024, out_features=2048, bias=True)\n",
       "                  (1): GELU()\n",
       "                  (2): Dropout(p=0.1, inplace=False)\n",
       "                  (3): Linear(in_features=2048, out_features=1024, bias=True)\n",
       "                  (4): Dropout(p=0.1, inplace=False)\n",
       "                )\n",
       "              )\n",
       "            )\n",
       "          )\n",
       "        )\n",
       "        (3): ModuleList(\n",
       "          (0): Residual(\n",
       "            (fn): PreNorm(\n",
       "              (norm): LayerNorm((1024,), eps=1e-05, elementwise_affine=True)\n",
       "              (fn): Attention(\n",
       "                (to_qkv): Linear(in_features=1024, out_features=3072, bias=False)\n",
       "                (to_out): Sequential(\n",
       "                  (0): Linear(in_features=1024, out_features=1024, bias=True)\n",
       "                  (1): Dropout(p=0.1, inplace=False)\n",
       "                )\n",
       "              )\n",
       "            )\n",
       "          )\n",
       "          (1): Residual(\n",
       "            (fn): PreNorm(\n",
       "              (norm): LayerNorm((1024,), eps=1e-05, elementwise_affine=True)\n",
       "              (fn): FeedForward(\n",
       "                (net): Sequential(\n",
       "                  (0): Linear(in_features=1024, out_features=2048, bias=True)\n",
       "                  (1): GELU()\n",
       "                  (2): Dropout(p=0.1, inplace=False)\n",
       "                  (3): Linear(in_features=2048, out_features=1024, bias=True)\n",
       "                  (4): Dropout(p=0.1, inplace=False)\n",
       "                )\n",
       "              )\n",
       "            )\n",
       "          )\n",
       "        )\n",
       "        (4): ModuleList(\n",
       "          (0): Residual(\n",
       "            (fn): PreNorm(\n",
       "              (norm): LayerNorm((1024,), eps=1e-05, elementwise_affine=True)\n",
       "              (fn): Attention(\n",
       "                (to_qkv): Linear(in_features=1024, out_features=3072, bias=False)\n",
       "                (to_out): Sequential(\n",
       "                  (0): Linear(in_features=1024, out_features=1024, bias=True)\n",
       "                  (1): Dropout(p=0.1, inplace=False)\n",
       "                )\n",
       "              )\n",
       "            )\n",
       "          )\n",
       "          (1): Residual(\n",
       "            (fn): PreNorm(\n",
       "              (norm): LayerNorm((1024,), eps=1e-05, elementwise_affine=True)\n",
       "              (fn): FeedForward(\n",
       "                (net): Sequential(\n",
       "                  (0): Linear(in_features=1024, out_features=2048, bias=True)\n",
       "                  (1): GELU()\n",
       "                  (2): Dropout(p=0.1, inplace=False)\n",
       "                  (3): Linear(in_features=2048, out_features=1024, bias=True)\n",
       "                  (4): Dropout(p=0.1, inplace=False)\n",
       "                )\n",
       "              )\n",
       "            )\n",
       "          )\n",
       "        )\n",
       "        (5): ModuleList(\n",
       "          (0): Residual(\n",
       "            (fn): PreNorm(\n",
       "              (norm): LayerNorm((1024,), eps=1e-05, elementwise_affine=True)\n",
       "              (fn): Attention(\n",
       "                (to_qkv): Linear(in_features=1024, out_features=3072, bias=False)\n",
       "                (to_out): Sequential(\n",
       "                  (0): Linear(in_features=1024, out_features=1024, bias=True)\n",
       "                  (1): Dropout(p=0.1, inplace=False)\n",
       "                )\n",
       "              )\n",
       "            )\n",
       "          )\n",
       "          (1): Residual(\n",
       "            (fn): PreNorm(\n",
       "              (norm): LayerNorm((1024,), eps=1e-05, elementwise_affine=True)\n",
       "              (fn): FeedForward(\n",
       "                (net): Sequential(\n",
       "                  (0): Linear(in_features=1024, out_features=2048, bias=True)\n",
       "                  (1): GELU()\n",
       "                  (2): Dropout(p=0.1, inplace=False)\n",
       "                  (3): Linear(in_features=2048, out_features=1024, bias=True)\n",
       "                  (4): Dropout(p=0.1, inplace=False)\n",
       "                )\n",
       "              )\n",
       "            )\n",
       "          )\n",
       "        )\n",
       "      )\n",
       "    )\n",
       "    (to_latent): Identity()\n",
       "    (mlp_head): Sequential(\n",
       "      (0): LayerNorm((1024,), eps=1e-05, elementwise_affine=True)\n",
       "      (1): Linear(in_features=1024, out_features=5, bias=True)\n",
       "    )\n",
       "  )\n",
       "  (augment1): Sequential(\n",
       "    (0): RandomApply(\n",
       "      (fn): ColorJitter(brightness=[0.19999999999999996, 1.8], contrast=[0.19999999999999996, 1.8], saturation=[0.19999999999999996, 1.8], hue=[-0.2, 0.2])\n",
       "    )\n",
       "    (1): RandomGrayscale(p=0.2)\n",
       "    (2): RandomHorizontalFlip(p=0.5)\n",
       "    (3): RandomApply(\n",
       "      (fn): GaussianBlur(kernel_size=(3, 3), sigma=(1.0, 2.0))\n",
       "    )\n",
       "    (4): RandomResizedCrop(size=(160, 160), scale=(0.08, 1.0), ratio=(0.75, 1.3333), interpolation=PIL.Image.BILINEAR)\n",
       "    (5): Normalize(mean=tensor([0.4850, 0.4560, 0.4060]), std=tensor([0.2290, 0.2240, 0.2250]))\n",
       "  )\n",
       "  (augment2): Sequential(\n",
       "    (0): RandomApply(\n",
       "      (fn): ColorJitter(brightness=[0.19999999999999996, 1.8], contrast=[0.19999999999999996, 1.8], saturation=[0.19999999999999996, 1.8], hue=[-0.2, 0.2])\n",
       "    )\n",
       "    (1): RandomGrayscale(p=0.2)\n",
       "    (2): RandomHorizontalFlip(p=0.5)\n",
       "    (3): RandomApply(\n",
       "      (fn): GaussianBlur(kernel_size=(3, 3), sigma=(1.0, 2.0))\n",
       "    )\n",
       "    (4): RandomResizedCrop(size=(160, 160), scale=(0.08, 1.0), ratio=(0.75, 1.3333), interpolation=PIL.Image.BILINEAR)\n",
       "    (5): Normalize(mean=tensor([0.4850, 0.4560, 0.4060]), std=tensor([0.2290, 0.2240, 0.2250]))\n",
       "  )\n",
       "  (online_encoder): NetWrapper(\n",
       "    (net): ViT(\n",
       "      (patch_to_embedding): Linear(in_features=768, out_features=1024, bias=True)\n",
       "      (dropout): Dropout(p=0.1, inplace=False)\n",
       "      (transformer): Transformer(\n",
       "        (layers): ModuleList(\n",
       "          (0): ModuleList(\n",
       "            (0): Residual(\n",
       "              (fn): PreNorm(\n",
       "                (norm): LayerNorm((1024,), eps=1e-05, elementwise_affine=True)\n",
       "                (fn): Attention(\n",
       "                  (to_qkv): Linear(in_features=1024, out_features=3072, bias=False)\n",
       "                  (to_out): Sequential(\n",
       "                    (0): Linear(in_features=1024, out_features=1024, bias=True)\n",
       "                    (1): Dropout(p=0.1, inplace=False)\n",
       "                  )\n",
       "                )\n",
       "              )\n",
       "            )\n",
       "            (1): Residual(\n",
       "              (fn): PreNorm(\n",
       "                (norm): LayerNorm((1024,), eps=1e-05, elementwise_affine=True)\n",
       "                (fn): FeedForward(\n",
       "                  (net): Sequential(\n",
       "                    (0): Linear(in_features=1024, out_features=2048, bias=True)\n",
       "                    (1): GELU()\n",
       "                    (2): Dropout(p=0.1, inplace=False)\n",
       "                    (3): Linear(in_features=2048, out_features=1024, bias=True)\n",
       "                    (4): Dropout(p=0.1, inplace=False)\n",
       "                  )\n",
       "                )\n",
       "              )\n",
       "            )\n",
       "          )\n",
       "          (1): ModuleList(\n",
       "            (0): Residual(\n",
       "              (fn): PreNorm(\n",
       "                (norm): LayerNorm((1024,), eps=1e-05, elementwise_affine=True)\n",
       "                (fn): Attention(\n",
       "                  (to_qkv): Linear(in_features=1024, out_features=3072, bias=False)\n",
       "                  (to_out): Sequential(\n",
       "                    (0): Linear(in_features=1024, out_features=1024, bias=True)\n",
       "                    (1): Dropout(p=0.1, inplace=False)\n",
       "                  )\n",
       "                )\n",
       "              )\n",
       "            )\n",
       "            (1): Residual(\n",
       "              (fn): PreNorm(\n",
       "                (norm): LayerNorm((1024,), eps=1e-05, elementwise_affine=True)\n",
       "                (fn): FeedForward(\n",
       "                  (net): Sequential(\n",
       "                    (0): Linear(in_features=1024, out_features=2048, bias=True)\n",
       "                    (1): GELU()\n",
       "                    (2): Dropout(p=0.1, inplace=False)\n",
       "                    (3): Linear(in_features=2048, out_features=1024, bias=True)\n",
       "                    (4): Dropout(p=0.1, inplace=False)\n",
       "                  )\n",
       "                )\n",
       "              )\n",
       "            )\n",
       "          )\n",
       "          (2): ModuleList(\n",
       "            (0): Residual(\n",
       "              (fn): PreNorm(\n",
       "                (norm): LayerNorm((1024,), eps=1e-05, elementwise_affine=True)\n",
       "                (fn): Attention(\n",
       "                  (to_qkv): Linear(in_features=1024, out_features=3072, bias=False)\n",
       "                  (to_out): Sequential(\n",
       "                    (0): Linear(in_features=1024, out_features=1024, bias=True)\n",
       "                    (1): Dropout(p=0.1, inplace=False)\n",
       "                  )\n",
       "                )\n",
       "              )\n",
       "            )\n",
       "            (1): Residual(\n",
       "              (fn): PreNorm(\n",
       "                (norm): LayerNorm((1024,), eps=1e-05, elementwise_affine=True)\n",
       "                (fn): FeedForward(\n",
       "                  (net): Sequential(\n",
       "                    (0): Linear(in_features=1024, out_features=2048, bias=True)\n",
       "                    (1): GELU()\n",
       "                    (2): Dropout(p=0.1, inplace=False)\n",
       "                    (3): Linear(in_features=2048, out_features=1024, bias=True)\n",
       "                    (4): Dropout(p=0.1, inplace=False)\n",
       "                  )\n",
       "                )\n",
       "              )\n",
       "            )\n",
       "          )\n",
       "          (3): ModuleList(\n",
       "            (0): Residual(\n",
       "              (fn): PreNorm(\n",
       "                (norm): LayerNorm((1024,), eps=1e-05, elementwise_affine=True)\n",
       "                (fn): Attention(\n",
       "                  (to_qkv): Linear(in_features=1024, out_features=3072, bias=False)\n",
       "                  (to_out): Sequential(\n",
       "                    (0): Linear(in_features=1024, out_features=1024, bias=True)\n",
       "                    (1): Dropout(p=0.1, inplace=False)\n",
       "                  )\n",
       "                )\n",
       "              )\n",
       "            )\n",
       "            (1): Residual(\n",
       "              (fn): PreNorm(\n",
       "                (norm): LayerNorm((1024,), eps=1e-05, elementwise_affine=True)\n",
       "                (fn): FeedForward(\n",
       "                  (net): Sequential(\n",
       "                    (0): Linear(in_features=1024, out_features=2048, bias=True)\n",
       "                    (1): GELU()\n",
       "                    (2): Dropout(p=0.1, inplace=False)\n",
       "                    (3): Linear(in_features=2048, out_features=1024, bias=True)\n",
       "                    (4): Dropout(p=0.1, inplace=False)\n",
       "                  )\n",
       "                )\n",
       "              )\n",
       "            )\n",
       "          )\n",
       "          (4): ModuleList(\n",
       "            (0): Residual(\n",
       "              (fn): PreNorm(\n",
       "                (norm): LayerNorm((1024,), eps=1e-05, elementwise_affine=True)\n",
       "                (fn): Attention(\n",
       "                  (to_qkv): Linear(in_features=1024, out_features=3072, bias=False)\n",
       "                  (to_out): Sequential(\n",
       "                    (0): Linear(in_features=1024, out_features=1024, bias=True)\n",
       "                    (1): Dropout(p=0.1, inplace=False)\n",
       "                  )\n",
       "                )\n",
       "              )\n",
       "            )\n",
       "            (1): Residual(\n",
       "              (fn): PreNorm(\n",
       "                (norm): LayerNorm((1024,), eps=1e-05, elementwise_affine=True)\n",
       "                (fn): FeedForward(\n",
       "                  (net): Sequential(\n",
       "                    (0): Linear(in_features=1024, out_features=2048, bias=True)\n",
       "                    (1): GELU()\n",
       "                    (2): Dropout(p=0.1, inplace=False)\n",
       "                    (3): Linear(in_features=2048, out_features=1024, bias=True)\n",
       "                    (4): Dropout(p=0.1, inplace=False)\n",
       "                  )\n",
       "                )\n",
       "              )\n",
       "            )\n",
       "          )\n",
       "          (5): ModuleList(\n",
       "            (0): Residual(\n",
       "              (fn): PreNorm(\n",
       "                (norm): LayerNorm((1024,), eps=1e-05, elementwise_affine=True)\n",
       "                (fn): Attention(\n",
       "                  (to_qkv): Linear(in_features=1024, out_features=3072, bias=False)\n",
       "                  (to_out): Sequential(\n",
       "                    (0): Linear(in_features=1024, out_features=1024, bias=True)\n",
       "                    (1): Dropout(p=0.1, inplace=False)\n",
       "                  )\n",
       "                )\n",
       "              )\n",
       "            )\n",
       "            (1): Residual(\n",
       "              (fn): PreNorm(\n",
       "                (norm): LayerNorm((1024,), eps=1e-05, elementwise_affine=True)\n",
       "                (fn): FeedForward(\n",
       "                  (net): Sequential(\n",
       "                    (0): Linear(in_features=1024, out_features=2048, bias=True)\n",
       "                    (1): GELU()\n",
       "                    (2): Dropout(p=0.1, inplace=False)\n",
       "                    (3): Linear(in_features=2048, out_features=1024, bias=True)\n",
       "                    (4): Dropout(p=0.1, inplace=False)\n",
       "                  )\n",
       "                )\n",
       "              )\n",
       "            )\n",
       "          )\n",
       "        )\n",
       "      )\n",
       "      (to_latent): Identity()\n",
       "      (mlp_head): Sequential(\n",
       "        (0): LayerNorm((1024,), eps=1e-05, elementwise_affine=True)\n",
       "        (1): Linear(in_features=1024, out_features=5, bias=True)\n",
       "      )\n",
       "    )\n",
       "    (projector): MLP(\n",
       "      (net): Sequential(\n",
       "        (0): Linear(in_features=1024, out_features=4096, bias=True)\n",
       "        (1): BatchNorm1d(4096, eps=1e-05, momentum=0.1, affine=True, track_running_stats=True)\n",
       "        (2): ReLU(inplace=True)\n",
       "        (3): Linear(in_features=4096, out_features=256, bias=True)\n",
       "      )\n",
       "    )\n",
       "  )\n",
       "  (online_predictor): MLP(\n",
       "    (net): Sequential(\n",
       "      (0): Linear(in_features=256, out_features=4096, bias=True)\n",
       "      (1): BatchNorm1d(4096, eps=1e-05, momentum=0.1, affine=True, track_running_stats=True)\n",
       "      (2): ReLU(inplace=True)\n",
       "      (3): Linear(in_features=4096, out_features=256, bias=True)\n",
       "    )\n",
       "  )\n",
       "  (target_encoder): NetWrapper(\n",
       "    (net): ViT(\n",
       "      (patch_to_embedding): Linear(in_features=768, out_features=1024, bias=True)\n",
       "      (dropout): Dropout(p=0.1, inplace=False)\n",
       "      (transformer): Transformer(\n",
       "        (layers): ModuleList(\n",
       "          (0): ModuleList(\n",
       "            (0): Residual(\n",
       "              (fn): PreNorm(\n",
       "                (norm): LayerNorm((1024,), eps=1e-05, elementwise_affine=True)\n",
       "                (fn): Attention(\n",
       "                  (to_qkv): Linear(in_features=1024, out_features=3072, bias=False)\n",
       "                  (to_out): Sequential(\n",
       "                    (0): Linear(in_features=1024, out_features=1024, bias=True)\n",
       "                    (1): Dropout(p=0.1, inplace=False)\n",
       "                  )\n",
       "                )\n",
       "              )\n",
       "            )\n",
       "            (1): Residual(\n",
       "              (fn): PreNorm(\n",
       "                (norm): LayerNorm((1024,), eps=1e-05, elementwise_affine=True)\n",
       "                (fn): FeedForward(\n",
       "                  (net): Sequential(\n",
       "                    (0): Linear(in_features=1024, out_features=2048, bias=True)\n",
       "                    (1): GELU()\n",
       "                    (2): Dropout(p=0.1, inplace=False)\n",
       "                    (3): Linear(in_features=2048, out_features=1024, bias=True)\n",
       "                    (4): Dropout(p=0.1, inplace=False)\n",
       "                  )\n",
       "                )\n",
       "              )\n",
       "            )\n",
       "          )\n",
       "          (1): ModuleList(\n",
       "            (0): Residual(\n",
       "              (fn): PreNorm(\n",
       "                (norm): LayerNorm((1024,), eps=1e-05, elementwise_affine=True)\n",
       "                (fn): Attention(\n",
       "                  (to_qkv): Linear(in_features=1024, out_features=3072, bias=False)\n",
       "                  (to_out): Sequential(\n",
       "                    (0): Linear(in_features=1024, out_features=1024, bias=True)\n",
       "                    (1): Dropout(p=0.1, inplace=False)\n",
       "                  )\n",
       "                )\n",
       "              )\n",
       "            )\n",
       "            (1): Residual(\n",
       "              (fn): PreNorm(\n",
       "                (norm): LayerNorm((1024,), eps=1e-05, elementwise_affine=True)\n",
       "                (fn): FeedForward(\n",
       "                  (net): Sequential(\n",
       "                    (0): Linear(in_features=1024, out_features=2048, bias=True)\n",
       "                    (1): GELU()\n",
       "                    (2): Dropout(p=0.1, inplace=False)\n",
       "                    (3): Linear(in_features=2048, out_features=1024, bias=True)\n",
       "                    (4): Dropout(p=0.1, inplace=False)\n",
       "                  )\n",
       "                )\n",
       "              )\n",
       "            )\n",
       "          )\n",
       "          (2): ModuleList(\n",
       "            (0): Residual(\n",
       "              (fn): PreNorm(\n",
       "                (norm): LayerNorm((1024,), eps=1e-05, elementwise_affine=True)\n",
       "                (fn): Attention(\n",
       "                  (to_qkv): Linear(in_features=1024, out_features=3072, bias=False)\n",
       "                  (to_out): Sequential(\n",
       "                    (0): Linear(in_features=1024, out_features=1024, bias=True)\n",
       "                    (1): Dropout(p=0.1, inplace=False)\n",
       "                  )\n",
       "                )\n",
       "              )\n",
       "            )\n",
       "            (1): Residual(\n",
       "              (fn): PreNorm(\n",
       "                (norm): LayerNorm((1024,), eps=1e-05, elementwise_affine=True)\n",
       "                (fn): FeedForward(\n",
       "                  (net): Sequential(\n",
       "                    (0): Linear(in_features=1024, out_features=2048, bias=True)\n",
       "                    (1): GELU()\n",
       "                    (2): Dropout(p=0.1, inplace=False)\n",
       "                    (3): Linear(in_features=2048, out_features=1024, bias=True)\n",
       "                    (4): Dropout(p=0.1, inplace=False)\n",
       "                  )\n",
       "                )\n",
       "              )\n",
       "            )\n",
       "          )\n",
       "          (3): ModuleList(\n",
       "            (0): Residual(\n",
       "              (fn): PreNorm(\n",
       "                (norm): LayerNorm((1024,), eps=1e-05, elementwise_affine=True)\n",
       "                (fn): Attention(\n",
       "                  (to_qkv): Linear(in_features=1024, out_features=3072, bias=False)\n",
       "                  (to_out): Sequential(\n",
       "                    (0): Linear(in_features=1024, out_features=1024, bias=True)\n",
       "                    (1): Dropout(p=0.1, inplace=False)\n",
       "                  )\n",
       "                )\n",
       "              )\n",
       "            )\n",
       "            (1): Residual(\n",
       "              (fn): PreNorm(\n",
       "                (norm): LayerNorm((1024,), eps=1e-05, elementwise_affine=True)\n",
       "                (fn): FeedForward(\n",
       "                  (net): Sequential(\n",
       "                    (0): Linear(in_features=1024, out_features=2048, bias=True)\n",
       "                    (1): GELU()\n",
       "                    (2): Dropout(p=0.1, inplace=False)\n",
       "                    (3): Linear(in_features=2048, out_features=1024, bias=True)\n",
       "                    (4): Dropout(p=0.1, inplace=False)\n",
       "                  )\n",
       "                )\n",
       "              )\n",
       "            )\n",
       "          )\n",
       "          (4): ModuleList(\n",
       "            (0): Residual(\n",
       "              (fn): PreNorm(\n",
       "                (norm): LayerNorm((1024,), eps=1e-05, elementwise_affine=True)\n",
       "                (fn): Attention(\n",
       "                  (to_qkv): Linear(in_features=1024, out_features=3072, bias=False)\n",
       "                  (to_out): Sequential(\n",
       "                    (0): Linear(in_features=1024, out_features=1024, bias=True)\n",
       "                    (1): Dropout(p=0.1, inplace=False)\n",
       "                  )\n",
       "                )\n",
       "              )\n",
       "            )\n",
       "            (1): Residual(\n",
       "              (fn): PreNorm(\n",
       "                (norm): LayerNorm((1024,), eps=1e-05, elementwise_affine=True)\n",
       "                (fn): FeedForward(\n",
       "                  (net): Sequential(\n",
       "                    (0): Linear(in_features=1024, out_features=2048, bias=True)\n",
       "                    (1): GELU()\n",
       "                    (2): Dropout(p=0.1, inplace=False)\n",
       "                    (3): Linear(in_features=2048, out_features=1024, bias=True)\n",
       "                    (4): Dropout(p=0.1, inplace=False)\n",
       "                  )\n",
       "                )\n",
       "              )\n",
       "            )\n",
       "          )\n",
       "          (5): ModuleList(\n",
       "            (0): Residual(\n",
       "              (fn): PreNorm(\n",
       "                (norm): LayerNorm((1024,), eps=1e-05, elementwise_affine=True)\n",
       "                (fn): Attention(\n",
       "                  (to_qkv): Linear(in_features=1024, out_features=3072, bias=False)\n",
       "                  (to_out): Sequential(\n",
       "                    (0): Linear(in_features=1024, out_features=1024, bias=True)\n",
       "                    (1): Dropout(p=0.1, inplace=False)\n",
       "                  )\n",
       "                )\n",
       "              )\n",
       "            )\n",
       "            (1): Residual(\n",
       "              (fn): PreNorm(\n",
       "                (norm): LayerNorm((1024,), eps=1e-05, elementwise_affine=True)\n",
       "                (fn): FeedForward(\n",
       "                  (net): Sequential(\n",
       "                    (0): Linear(in_features=1024, out_features=2048, bias=True)\n",
       "                    (1): GELU()\n",
       "                    (2): Dropout(p=0.1, inplace=False)\n",
       "                    (3): Linear(in_features=2048, out_features=1024, bias=True)\n",
       "                    (4): Dropout(p=0.1, inplace=False)\n",
       "                  )\n",
       "                )\n",
       "              )\n",
       "            )\n",
       "          )\n",
       "        )\n",
       "      )\n",
       "      (to_latent): Identity()\n",
       "      (mlp_head): Sequential(\n",
       "        (0): LayerNorm((1024,), eps=1e-05, elementwise_affine=True)\n",
       "        (1): Linear(in_features=1024, out_features=5, bias=True)\n",
       "      )\n",
       "    )\n",
       "    (projector): MLP(\n",
       "      (net): Sequential(\n",
       "        (0): Linear(in_features=1024, out_features=4096, bias=True)\n",
       "        (1): BatchNorm1d(4096, eps=1e-05, momentum=0.1, affine=True, track_running_stats=True)\n",
       "        (2): ReLU(inplace=True)\n",
       "        (3): Linear(in_features=4096, out_features=256, bias=True)\n",
       "      )\n",
       "    )\n",
       "  )\n",
       ")"
      ]
     },
     "execution_count": 8,
     "metadata": {},
     "output_type": "execute_result"
    }
   ],
   "source": [
    "model = ViT(\n",
    "    image_size = 160,\n",
    "    patch_size = PATCH_SIZE,\n",
    "    num_classes = 5,\n",
    "    dim = DIM,\n",
    "    depth = DEPTH,\n",
    "    heads = HEADS,\n",
    "    mlp_dim = MLP_DIM,\n",
    "    dropout = 0.1,\n",
    "    emb_dropout = 0.1\n",
    ")\n",
    "learner = BYOL(\n",
    "    model,\n",
    "    image_size = 160,\n",
    "    hidden_layer = 'to_latent'\n",
    ")\n",
    "#learner = nn.DataParallel(learner)\n",
    "learner.to(device)\n",
    "#if args.freeze_first_epoch:\n",
    "#for m in model.resnet.parameters():\n",
    "#    m.requires_grad_(False)"
   ]
  },
  {
   "cell_type": "code",
   "execution_count": 9,
   "metadata": {},
   "outputs": [
    {
     "name": "stdout",
     "output_type": "stream",
     "text": [
      "input shape torch.Size([64, 3, 160, 160])\n",
      "model params (trainable, total): (58644997, 115180298)\n"
     ]
    }
   ],
   "source": [
    "input_shape = next(iter(train_loader))[2].shape\n",
    "print('input shape', input_shape)\n",
    "# need to call this before summary!!!\n",
    "learner.eval()\n",
    "# summary(model, input_shape[1:], batch_size=input_shape[0], device=device)\n",
    "print('model params (trainable, total):', count_parameters(learner))"
   ]
  },
  {
   "cell_type": "code",
   "execution_count": 10,
   "metadata": {},
   "outputs": [],
   "source": [
    "optimizer = torch.optim.Adam(\n",
    "    learner.parameters(), lr=1e-5, weight_decay=1e-3\n",
    ")\n",
    "\n",
    "# decrease learning rate if validation accuracy has not increased\n",
    "lr_scheduler = torch.optim.lr_scheduler.ReduceLROnPlateau(\n",
    "    optimizer, mode='max', factor=1/4, patience=2, verbose=True,\n",
    ")"
   ]
  },
  {
   "cell_type": "code",
   "execution_count": 11,
   "metadata": {},
   "outputs": [],
   "source": [
    "def save_model_checkpoint(epoch, model, val_loss):\n",
    "    \n",
    "    model_dir = os.path.join('./model', 'byol')\n",
    "    os.makedirs(model_dir, exist_ok=True)\n",
    "\n",
    "    model_path = os.path.join(model_dir, f'model.pt')\n",
    "    torch.save(model.state_dict(), model_path)\n",
    "\n",
    "    model_info = {\n",
    "        'epoch': epoch,\n",
    "        'val_loss': val_loss,\n",
    "        'model_str': str(model)\n",
    "    }\n",
    "    json_path = os.path.join(model_dir, 'info.json')\n",
    "    write_json(model_info, json_path)\n",
    "\n",
    "    #src_model_file = os.path.join('facenet', 'model.py')\n",
    "    #dest_model_file = os.path.join(model_dir, 'model.py')\n",
    "    #copy_file(src_model_file, dest_model_file)\n",
    "\n",
    "    tqdm.write(f'New checkpoint saved at {model_path}')\n",
    "\n",
    "\n",
    "def print_training_info(loss, step):\n",
    "    log_info = 'Training - Loss: {:.4f}'.format(loss.item())\n",
    "    tqdm.write(log_info)\n",
    "\n",
    "    #writer.add_scalar('training loss', loss.item(), step)\n",
    "    #writer.add_scalar('training acc', batch_accuracy, step)\n",
    "\n",
    "\n",
    "def print_validation_info(device, model, val_loader, epoch, step):\n",
    "    model.eval()\n",
    "    with torch.no_grad():\n",
    "        loss_values = []\n",
    "        all_predictions = []\n",
    "        all_targets = []\n",
    "        targets = []\n",
    "        outputs = []\n",
    "        for video_ids, frame_ids, images, target in val_loader:\n",
    "            images = images.to(device)\n",
    "            loss = learner(images)\n",
    "            loss_values.append(loss.item())\n",
    "\n",
    "        val_loss = sum(loss_values) / len(loss_values)\n",
    "        \n",
    "        tqdm.write(\n",
    "            'Validation - Loss: {:.3f}'.format(val_loss)\n",
    "        )\n",
    "        \n",
    "    return val_loss\n"
   ]
  },
  {
   "cell_type": "code",
   "execution_count": null,
   "metadata": {},
   "outputs": [
    {
     "name": "stderr",
     "output_type": "stream",
     "text": [
      "training epoch 0:  33%|███▎      | 299/900 [04:17<08:56,  1.12it/s]"
     ]
    },
    {
     "name": "stdout",
     "output_type": "stream",
     "text": [
      "Training - Loss: 0.7737\n"
     ]
    },
    {
     "name": "stderr",
     "output_type": "stream",
     "text": [
      "training epoch 0:  33%|███▎      | 300/900 [05:08<2:40:54, 16.09s/it]"
     ]
    },
    {
     "name": "stdout",
     "output_type": "stream",
     "text": [
      "Validation - Loss: 1.794\n"
     ]
    },
    {
     "name": "stderr",
     "output_type": "stream",
     "text": [
      "training epoch 0:  67%|██████▋   | 599/900 [09:29<04:20,  1.15it/s]  "
     ]
    },
    {
     "name": "stdout",
     "output_type": "stream",
     "text": [
      "Training - Loss: 1.5848\n"
     ]
    },
    {
     "name": "stderr",
     "output_type": "stream",
     "text": [
      "training epoch 0:  67%|██████▋   | 600/900 [10:20<1:19:46, 15.95s/it]"
     ]
    },
    {
     "name": "stdout",
     "output_type": "stream",
     "text": [
      "Validation - Loss: 1.693\n"
     ]
    },
    {
     "name": "stderr",
     "output_type": "stream",
     "text": [
      "training epoch 0: 100%|█████████▉| 899/900 [14:42<00:00,  1.16it/s]  "
     ]
    },
    {
     "name": "stdout",
     "output_type": "stream",
     "text": [
      "Training - Loss: 0.5381\n"
     ]
    },
    {
     "name": "stderr",
     "output_type": "stream",
     "text": [
      "training epoch 0: 100%|██████████| 900/900 [15:33<00:00,  1.04s/it]"
     ]
    },
    {
     "name": "stdout",
     "output_type": "stream",
     "text": [
      "Validation - Loss: 1.619\n"
     ]
    },
    {
     "name": "stderr",
     "output_type": "stream",
     "text": [
      "\n"
     ]
    },
    {
     "name": "stdout",
     "output_type": "stream",
     "text": [
      "Validation - Loss: 2.283\n"
     ]
    },
    {
     "name": "stderr",
     "output_type": "stream",
     "text": [
      "training epoch 1:  33%|███▎      | 299/900 [04:23<08:48,  1.14it/s]"
     ]
    },
    {
     "name": "stdout",
     "output_type": "stream",
     "text": [
      "Training - Loss: 0.8399\n"
     ]
    },
    {
     "name": "stderr",
     "output_type": "stream",
     "text": [
      "training epoch 1:  33%|███▎      | 300/900 [05:13<2:40:10, 16.02s/it]"
     ]
    },
    {
     "name": "stdout",
     "output_type": "stream",
     "text": [
      "Validation - Loss: 1.636\n"
     ]
    },
    {
     "name": "stderr",
     "output_type": "stream",
     "text": [
      "training epoch 1:  67%|██████▋   | 599/900 [09:36<04:22,  1.15it/s]  "
     ]
    },
    {
     "name": "stdout",
     "output_type": "stream",
     "text": [
      "Training - Loss: 0.8121\n"
     ]
    },
    {
     "name": "stderr",
     "output_type": "stream",
     "text": [
      "training epoch 1:  67%|██████▋   | 600/900 [10:27<1:20:32, 16.11s/it]"
     ]
    },
    {
     "name": "stdout",
     "output_type": "stream",
     "text": [
      "Validation - Loss: 1.275\n"
     ]
    },
    {
     "name": "stderr",
     "output_type": "stream",
     "text": [
      "training epoch 1: 100%|█████████▉| 899/900 [14:49<00:00,  1.15it/s]  "
     ]
    },
    {
     "name": "stdout",
     "output_type": "stream",
     "text": [
      "Training - Loss: 0.4783\n"
     ]
    },
    {
     "name": "stderr",
     "output_type": "stream",
     "text": [
      "training epoch 1: 100%|██████████| 900/900 [15:40<00:00,  1.05s/it]"
     ]
    },
    {
     "name": "stdout",
     "output_type": "stream",
     "text": [
      "Validation - Loss: 1.174\n"
     ]
    },
    {
     "name": "stderr",
     "output_type": "stream",
     "text": [
      "\n"
     ]
    },
    {
     "name": "stdout",
     "output_type": "stream",
     "text": [
      "Validation - Loss: 1.777\n"
     ]
    },
    {
     "name": "stderr",
     "output_type": "stream",
     "text": [
      "training epoch 2:  33%|███▎      | 299/900 [04:22<08:57,  1.12it/s]"
     ]
    },
    {
     "name": "stdout",
     "output_type": "stream",
     "text": [
      "Training - Loss: 0.3861\n"
     ]
    },
    {
     "name": "stderr",
     "output_type": "stream",
     "text": [
      "training epoch 2:  33%|███▎      | 300/900 [05:12<2:39:12, 15.92s/it]"
     ]
    },
    {
     "name": "stdout",
     "output_type": "stream",
     "text": [
      "Validation - Loss: 1.374\n"
     ]
    },
    {
     "name": "stderr",
     "output_type": "stream",
     "text": [
      "training epoch 2:  67%|██████▋   | 599/900 [09:35<04:23,  1.14it/s]  "
     ]
    },
    {
     "name": "stdout",
     "output_type": "stream",
     "text": [
      "Training - Loss: 0.3017\n"
     ]
    },
    {
     "name": "stderr",
     "output_type": "stream",
     "text": [
      "training epoch 2:  67%|██████▋   | 600/900 [10:24<1:18:34, 15.72s/it]"
     ]
    },
    {
     "name": "stdout",
     "output_type": "stream",
     "text": [
      "Validation - Loss: 1.527\n"
     ]
    },
    {
     "name": "stderr",
     "output_type": "stream",
     "text": [
      "training epoch 2: 100%|█████████▉| 899/900 [14:46<00:00,  1.14it/s]  "
     ]
    },
    {
     "name": "stdout",
     "output_type": "stream",
     "text": [
      "Training - Loss: 0.2067\n"
     ]
    },
    {
     "name": "stderr",
     "output_type": "stream",
     "text": [
      "training epoch 2: 100%|██████████| 900/900 [15:36<00:00,  1.04s/it]"
     ]
    },
    {
     "name": "stdout",
     "output_type": "stream",
     "text": [
      "Validation - Loss: 1.442\n"
     ]
    },
    {
     "name": "stderr",
     "output_type": "stream",
     "text": [
      "\n"
     ]
    },
    {
     "name": "stdout",
     "output_type": "stream",
     "text": [
      "Validation - Loss: 1.127\n"
     ]
    },
    {
     "name": "stderr",
     "output_type": "stream",
     "text": [
      "training epoch 3:  33%|███▎      | 299/900 [04:23<08:39,  1.16it/s]"
     ]
    },
    {
     "name": "stdout",
     "output_type": "stream",
     "text": [
      "Training - Loss: 0.2841\n"
     ]
    },
    {
     "name": "stderr",
     "output_type": "stream",
     "text": [
      "training epoch 3:  33%|███▎      | 300/900 [05:13<2:39:41, 15.97s/it]"
     ]
    },
    {
     "name": "stdout",
     "output_type": "stream",
     "text": [
      "Validation - Loss: 1.360\n"
     ]
    },
    {
     "name": "stderr",
     "output_type": "stream",
     "text": [
      "training epoch 3:  67%|██████▋   | 599/900 [09:35<04:17,  1.17it/s]  "
     ]
    },
    {
     "name": "stdout",
     "output_type": "stream",
     "text": [
      "Training - Loss: 0.2694\n"
     ]
    },
    {
     "name": "stderr",
     "output_type": "stream",
     "text": [
      "training epoch 3:  67%|██████▋   | 600/900 [10:26<1:20:32, 16.11s/it]"
     ]
    },
    {
     "name": "stdout",
     "output_type": "stream",
     "text": [
      "Validation - Loss: 1.252\n"
     ]
    },
    {
     "name": "stderr",
     "output_type": "stream",
     "text": [
      "training epoch 3: 100%|█████████▉| 899/900 [14:49<00:00,  1.15it/s]  "
     ]
    },
    {
     "name": "stdout",
     "output_type": "stream",
     "text": [
      "Training - Loss: 0.4352\n"
     ]
    },
    {
     "name": "stderr",
     "output_type": "stream",
     "text": [
      "training epoch 3: 100%|██████████| 900/900 [15:39<00:00,  1.04s/it]"
     ]
    },
    {
     "name": "stdout",
     "output_type": "stream",
     "text": [
      "Validation - Loss: 1.508\n"
     ]
    },
    {
     "name": "stderr",
     "output_type": "stream",
     "text": [
      "\n"
     ]
    },
    {
     "name": "stdout",
     "output_type": "stream",
     "text": [
      "Validation - Loss: 1.296\n"
     ]
    },
    {
     "name": "stderr",
     "output_type": "stream",
     "text": [
      "training epoch 4:  33%|███▎      | 299/900 [04:22<08:33,  1.17it/s]"
     ]
    },
    {
     "name": "stdout",
     "output_type": "stream",
     "text": [
      "Training - Loss: 0.3090\n"
     ]
    },
    {
     "name": "stderr",
     "output_type": "stream",
     "text": [
      "training epoch 4:  33%|███▎      | 300/900 [05:12<2:39:45, 15.98s/it]"
     ]
    },
    {
     "name": "stdout",
     "output_type": "stream",
     "text": [
      "Validation - Loss: 1.308\n"
     ]
    },
    {
     "name": "stderr",
     "output_type": "stream",
     "text": [
      "training epoch 4:  67%|██████▋   | 599/900 [09:35<04:26,  1.13it/s]  "
     ]
    },
    {
     "name": "stdout",
     "output_type": "stream",
     "text": [
      "Training - Loss: 1.4596\n"
     ]
    },
    {
     "name": "stderr",
     "output_type": "stream",
     "text": [
      "training epoch 4:  67%|██████▋   | 600/900 [10:25<1:18:59, 15.80s/it]"
     ]
    },
    {
     "name": "stdout",
     "output_type": "stream",
     "text": [
      "Validation - Loss: 1.279\n"
     ]
    },
    {
     "name": "stderr",
     "output_type": "stream",
     "text": [
      "training epoch 4: 100%|█████████▉| 899/900 [14:47<00:00,  1.13it/s]  "
     ]
    },
    {
     "name": "stdout",
     "output_type": "stream",
     "text": [
      "Training - Loss: 0.7518\n"
     ]
    },
    {
     "name": "stderr",
     "output_type": "stream",
     "text": [
      "training epoch 4: 100%|██████████| 900/900 [15:38<00:00,  1.04s/it]"
     ]
    },
    {
     "name": "stdout",
     "output_type": "stream",
     "text": [
      "Validation - Loss: 1.437\n"
     ]
    },
    {
     "name": "stderr",
     "output_type": "stream",
     "text": [
      "\n"
     ]
    },
    {
     "name": "stdout",
     "output_type": "stream",
     "text": [
      "Validation - Loss: 1.452\n"
     ]
    },
    {
     "name": "stderr",
     "output_type": "stream",
     "text": [
      "training epoch 5:  33%|███▎      | 299/900 [04:23<08:44,  1.15it/s]"
     ]
    },
    {
     "name": "stdout",
     "output_type": "stream",
     "text": [
      "Training - Loss: 0.2401\n"
     ]
    },
    {
     "name": "stderr",
     "output_type": "stream",
     "text": [
      "training epoch 5:  33%|███▎      | 300/900 [05:13<2:38:27, 15.85s/it]"
     ]
    },
    {
     "name": "stdout",
     "output_type": "stream",
     "text": [
      "Validation - Loss: 1.512\n"
     ]
    },
    {
     "name": "stderr",
     "output_type": "stream",
     "text": [
      "training epoch 5:  67%|██████▋   | 599/900 [09:35<04:24,  1.14it/s]  "
     ]
    },
    {
     "name": "stdout",
     "output_type": "stream",
     "text": [
      "Training - Loss: 0.7365\n"
     ]
    },
    {
     "name": "stderr",
     "output_type": "stream",
     "text": [
      "training epoch 5:  67%|██████▋   | 600/900 [10:25<1:20:06, 16.02s/it]"
     ]
    },
    {
     "name": "stdout",
     "output_type": "stream",
     "text": [
      "Validation - Loss: 1.170\n"
     ]
    },
    {
     "name": "stderr",
     "output_type": "stream",
     "text": [
      "training epoch 5: 100%|█████████▉| 899/900 [14:48<00:00,  1.16it/s]  "
     ]
    },
    {
     "name": "stdout",
     "output_type": "stream",
     "text": [
      "Training - Loss: 0.4299\n"
     ]
    },
    {
     "name": "stderr",
     "output_type": "stream",
     "text": [
      "training epoch 5: 100%|██████████| 900/900 [15:37<00:00,  1.04s/it]"
     ]
    },
    {
     "name": "stdout",
     "output_type": "stream",
     "text": [
      "Validation - Loss: 1.186\n"
     ]
    },
    {
     "name": "stderr",
     "output_type": "stream",
     "text": [
      "\n"
     ]
    },
    {
     "name": "stdout",
     "output_type": "stream",
     "text": [
      "Validation - Loss: 1.190\n"
     ]
    },
    {
     "name": "stderr",
     "output_type": "stream",
     "text": [
      "training epoch 6:  33%|███▎      | 299/900 [04:22<08:42,  1.15it/s]"
     ]
    },
    {
     "name": "stdout",
     "output_type": "stream",
     "text": [
      "Training - Loss: 0.3916\n"
     ]
    },
    {
     "name": "stderr",
     "output_type": "stream",
     "text": [
      "training epoch 6:  33%|███▎      | 300/900 [05:12<2:36:54, 15.69s/it]"
     ]
    },
    {
     "name": "stdout",
     "output_type": "stream",
     "text": [
      "Validation - Loss: 1.413\n"
     ]
    },
    {
     "name": "stderr",
     "output_type": "stream",
     "text": [
      "training epoch 6:  67%|██████▋   | 599/900 [09:34<04:26,  1.13it/s]  "
     ]
    },
    {
     "name": "stdout",
     "output_type": "stream",
     "text": [
      "Training - Loss: 0.2962\n"
     ]
    },
    {
     "name": "stderr",
     "output_type": "stream",
     "text": [
      "training epoch 6:  67%|██████▋   | 600/900 [10:25<1:20:36, 16.12s/it]"
     ]
    },
    {
     "name": "stdout",
     "output_type": "stream",
     "text": [
      "Validation - Loss: 1.125\n"
     ]
    },
    {
     "name": "stderr",
     "output_type": "stream",
     "text": [
      "training epoch 6: 100%|█████████▉| 899/900 [14:48<00:00,  1.13it/s]  "
     ]
    },
    {
     "name": "stdout",
     "output_type": "stream",
     "text": [
      "Training - Loss: 0.8421\n"
     ]
    },
    {
     "name": "stderr",
     "output_type": "stream",
     "text": [
      "training epoch 6: 100%|██████████| 900/900 [15:39<00:00,  1.04s/it]"
     ]
    },
    {
     "name": "stdout",
     "output_type": "stream",
     "text": [
      "Validation - Loss: 1.672\n"
     ]
    },
    {
     "name": "stderr",
     "output_type": "stream",
     "text": [
      "\n"
     ]
    },
    {
     "name": "stdout",
     "output_type": "stream",
     "text": [
      "Validation - Loss: 1.124\n"
     ]
    },
    {
     "name": "stderr",
     "output_type": "stream",
     "text": [
      "training epoch 7:  18%|█▊        | 159/900 [02:19<10:47,  1.14it/s]"
     ]
    }
   ],
   "source": [
    "total_step = len(train_loader)\n",
    "step = 1\n",
    "best_val_loss = 1\n",
    "for epoch in range(30):\n",
    "    for i, (video_ids, frame_ids, images, targets) in \\\n",
    "            tqdm(enumerate(train_loader), desc=f'training epoch {epoch}', total=len(train_loader)):\n",
    "        learner.train()\n",
    "        # Set mini-batch dataset\n",
    "        images = images.to(device)\n",
    "        \n",
    "        # Forward, backward and optimize\n",
    "        loss = learner(images)\n",
    "        optimizer.zero_grad()\n",
    "        loss.backward()\n",
    "        optimizer.step()\n",
    "        learner.update_moving_average()\n",
    "\n",
    "        # Print log info\n",
    "        step += 1\n",
    "        \n",
    "        if (i + 1) % 300 == 0:\n",
    "            print_training_info(loss, step)\n",
    "\n",
    "        if (i + 1) % 300 == 0:\n",
    "            val_loss = print_validation_info(device, learner, val_loader, epoch, step\n",
    "            )\n",
    "            if val_loss < best_val_loss:\n",
    "                save_model_checkpoint(epoch, learner, val_loss)\n",
    "                best_val_loss = val_loss\n",
    "\n",
    "    # validation step after full epoch\n",
    "    val_loss = print_validation_info(device, learner, val_loader, epoch, step)\n",
    "    #lr_scheduler.step(val_loss)\n",
    "    if val_loss < best_val_loss:\n",
    "        save_model_checkpoint(epoch, learner, val_loss)\n",
    "        best_val_loss = val_loss"
   ]
  }
 ],
 "metadata": {
  "kernelspec": {
   "display_name": "Python 3",
   "language": "python",
   "name": "python3"
  },
  "language_info": {
   "codemirror_mode": {
    "name": "ipython",
    "version": 3
   },
   "file_extension": ".py",
   "mimetype": "text/x-python",
   "name": "python",
   "nbconvert_exporter": "python",
   "pygments_lexer": "ipython3",
   "version": "3.7.9"
  }
 },
 "nbformat": 4,
 "nbformat_minor": 4
}
