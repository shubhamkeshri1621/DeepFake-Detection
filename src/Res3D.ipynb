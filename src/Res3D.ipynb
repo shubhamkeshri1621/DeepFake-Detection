{
 "cells": [
  {
   "cell_type": "code",
   "execution_count": 1,
   "metadata": {},
   "outputs": [],
   "source": [
    "import os\n",
    "os.environ[\"CUDA_DEVICE_ORDER\"]=\"PCI_BUS_ID\"   # see issue #152\n",
    "os.environ[\"CUDA_VISIBLE_DEVICES\"]=\"1\"\n",
    "import numpy as np\n",
    "import torch\n",
    "import torch.nn as nn\n",
    "from facenet_pytorch import fixed_image_standardization\n",
    "#from torch.utils.tensorboard import SummaryWriter\n",
    "from torchvision import transforms\n",
    "from tqdm import tqdm\n",
    "\n",
    "from data_loader import get_loader, read_dataset, CompositeDataset\n",
    "from resnet3d import resnet10\n",
    "from utils import write_json, copy_file, count_parameters"
   ]
  },
  {
   "cell_type": "code",
   "execution_count": 2,
   "metadata": {},
   "outputs": [],
   "source": [
    "transform = transforms.Compose([\n",
    "        transforms.Resize((160, 160)),\n",
    "        np.float32,\n",
    "        transforms.ToTensor(),\n",
    "        fixed_image_standardization\n",
    "    ])"
   ]
  },
  {
   "cell_type": "code",
   "execution_count": 3,
   "metadata": {},
   "outputs": [
    {
     "name": "stdout",
     "output_type": "stream",
     "text": [
      "['deepfakes_faces_c23', 'original_faces_c23', 'face2face_faces_c23', 'neural_textures_faces_c23', 'faceswap_faces_c23']\n",
      "Using training data: \n",
      "deepfakes_faces_c23\n",
      "face2face_faces_c23\n",
      "faceswap_faces_c23\n",
      "neural_textures_faces_c23\n",
      "original_faces_c23\n"
     ]
    }
   ],
   "source": [
    "datasets = read_dataset(\n",
    "    '../dataset/mtcnn/', transform=transform,\n",
    "    max_images_per_video=10, max_videos=1000,\n",
    "    window_size=5, splits_path='../dataset/splits/'\n",
    ")\n",
    "# only neural textures c40 and original c40\n",
    "datasets = {\n",
    "    k: v for k, v in datasets.items() \n",
    "    if ('original' in k or 'neural' in k or 'face2face' in k or 'faceswap' in k or 'deepfakes' in k) and 'c23' in k\n",
    "}\n",
    "print('Using training data: ')\n",
    "print('\\n'.join(sorted(datasets.keys())))\n",
    "\n",
    "trains, vals, tests = [], [], []\n",
    "for data_dir_name, dataset in datasets.items():\n",
    "    train, val, test = dataset\n",
    "    # repeat original data multiple times to balance out training data\n",
    "    compression = data_dir_name.split('_')[-1]\n",
    "    num_tampered_with_same_compression = len({x for x in datasets.keys() if compression in x}) - 1\n",
    "    count = 1 if 'original' not in data_dir_name else num_tampered_with_same_compression\n",
    "    for _ in range(count):\n",
    "        trains.append(train)\n",
    "    vals.append(val)\n",
    "    tests.append(test)\n",
    "    \n",
    "train_dataset, val_dataset, test_dataset = CompositeDataset(*trains), CompositeDataset(*vals), CompositeDataset(*tests)"
   ]
  },
  {
   "cell_type": "code",
   "execution_count": 4,
   "metadata": {},
   "outputs": [
    {
     "name": "stdout",
     "output_type": "stream",
     "text": [
      "train data size: 57584, validation data size: 6990\n"
     ]
    }
   ],
   "source": [
    "tqdm.write('train data size: {}, validation data size: {}'.format(len(train_dataset), len(val_dataset)))"
   ]
  },
  {
   "cell_type": "code",
   "execution_count": 5,
   "metadata": {},
   "outputs": [],
   "source": [
    "train_loader = get_loader(\n",
    "    train_dataset, 64, shuffle=True, num_workers=2\n",
    ")\n",
    "val_loader = get_loader(\n",
    "    val_dataset, 64, shuffle=True, num_workers=2\n",
    ")"
   ]
  },
  {
   "cell_type": "code",
   "execution_count": 6,
   "metadata": {},
   "outputs": [
    {
     "name": "stdout",
     "output_type": "stream",
     "text": [
      "training on cuda\n"
     ]
    }
   ],
   "source": [
    "device = torch.device('cuda' if torch.cuda.is_available() else 'cpu')\n",
    "print('training on', device)"
   ]
  },
  {
   "cell_type": "code",
   "execution_count": 7,
   "metadata": {},
   "outputs": [],
   "source": [
    "model = resnet10(num_classes=5).to(device)\n",
    "#if args.freeze_first_epoch:\n",
    "#for m in model.resnet.parameters():\n",
    "#    m.requires_grad_(False)"
   ]
  },
  {
   "cell_type": "code",
   "execution_count": 8,
   "metadata": {},
   "outputs": [
    {
     "name": "stdout",
     "output_type": "stream",
     "text": [
      "input shape torch.Size([64, 3, 5, 160, 160])\n",
      "model params (trainable, total): (14401989, 14401989)\n"
     ]
    }
   ],
   "source": [
    "input_shape = next(iter(train_loader))[2].shape\n",
    "print('input shape', input_shape)\n",
    "# need to call this before summary!!!\n",
    "model.eval()\n",
    "# summary(model, input_shape[1:], batch_size=input_shape[0], device=device)\n",
    "print('model params (trainable, total):', count_parameters(model))"
   ]
  },
  {
   "cell_type": "code",
   "execution_count": 9,
   "metadata": {},
   "outputs": [],
   "source": [
    "criterion = nn.CrossEntropyLoss()\n",
    "optimizer = torch.optim.Adam(\n",
    "    model.parameters(), lr=1e-5, weight_decay=1e-3\n",
    ")\n",
    "\n",
    "# decrease learning rate if validation accuracy has not increased\n",
    "lr_scheduler = torch.optim.lr_scheduler.ReduceLROnPlateau(\n",
    "    optimizer, mode='max', factor=1/4, patience=2, verbose=True,\n",
    ")"
   ]
  },
  {
   "cell_type": "code",
   "execution_count": 10,
   "metadata": {},
   "outputs": [],
   "source": [
    "def save_model_checkpoint(epoch, model, val_acc):\n",
    "    \n",
    "    model_dir = os.path.join('./model', 'resnet3d')\n",
    "    os.makedirs(model_dir, exist_ok=True)\n",
    "\n",
    "    model_path = os.path.join(model_dir, f'model.pt')\n",
    "    torch.save(model.state_dict(), model_path)\n",
    "\n",
    "    model_info = {\n",
    "        'epoch': epoch,\n",
    "        'val_acc': val_acc[0],\n",
    "        'model_str': str(model)\n",
    "    }\n",
    "    json_path = os.path.join(model_dir, 'info.json')\n",
    "    write_json(model_info, json_path)\n",
    "\n",
    "    #src_model_file = os.path.join('facenet', 'model.py')\n",
    "    #dest_model_file = os.path.join(model_dir, 'model.py')\n",
    "    #copy_file(src_model_file, dest_model_file)\n",
    "\n",
    "    tqdm.write(f'New checkpoint saved at {model_path}')\n",
    "\n",
    "\n",
    "def print_training_info(batch_accuracy, loss, step):\n",
    "    log_info = 'Training - Loss: {:.4f}, Accuracy: {:.4f}'.format(loss.item(), batch_accuracy)\n",
    "    tqdm.write(log_info)\n",
    "\n",
    "    #writer.add_scalar('training loss', loss.item(), step)\n",
    "    #writer.add_scalar('training acc', batch_accuracy, step)\n",
    "\n",
    "\n",
    "def print_validation_info(criterion, device, model, val_loader, epoch, step):\n",
    "    model.eval()\n",
    "    with torch.no_grad():\n",
    "        loss_values = []\n",
    "        all_predictions = []\n",
    "        all_targets = []\n",
    "        for video_ids, frame_ids, images, targets in val_loader:\n",
    "            images = images.to(device)\n",
    "            targets = targets.to(device)\n",
    "            targets = targets.long()\n",
    "            outputs = model(images)\n",
    "            loss = criterion(outputs, targets)\n",
    "            loss_values.append(loss.item())\n",
    "\n",
    "            #predictions = outputs > 0.0\n",
    "            #all_predictions.append(predictions)\n",
    "            #all_targets.append(targets)\n",
    "            #if args.debug:\n",
    "            #    tqdm.write(outputs)\n",
    "            #    tqdm.write(predictions)\n",
    "            #    tqdm.write(targets)\n",
    "\n",
    "        val_loss = sum(loss_values) / len(loss_values)\n",
    "\n",
    "        val_accuracy = float((outputs.argmax(1)).eq(targets).sum()) / len(targets)\n",
    "        \n",
    "        total_target = targets.unique(return_counts=True)[1]\n",
    "        pristine = ((outputs.argmax(1) == 0) * (targets == 0)).sum() / total_target[0]\n",
    "        face2face = ((outputs.argmax(1) == 1) * (targets == 1)).sum() / total_target[1]\n",
    "        faceswap = ((outputs.argmax(1) == 2) * (targets == 2)).sum() / total_target[2]\n",
    "        neural = ((outputs.argmax(1) == 3) * (targets == 3)).sum() / total_target[3]\n",
    "        deepfake = ((outputs.argmax(1) == 4) * (targets == 4)).sum() / total_target[4]\n",
    "        \n",
    "        tqdm.write(\n",
    "            'Validation - Loss: {:.3f}, Acc: {:.3f}, Pr: {:.3f}, Ff: {:.3f}, Fs: {:.3f}, Nt: {:.3f}, Df: {:.3f}'.format(\n",
    "                val_loss, val_accuracy, pristine, face2face, faceswap, neural, deepfake\n",
    "            )\n",
    "        )\n",
    "        \n",
    "    return val_accuracy, pristine, face2face, faceswap, neural, deepfake\n"
   ]
  },
  {
   "cell_type": "code",
   "execution_count": 11,
   "metadata": {},
   "outputs": [
    {
     "name": "stderr",
     "output_type": "stream",
     "text": [
      "training epoch 0:  33%|███▎      | 299/899 [02:28<04:55,  2.03it/s]"
     ]
    },
    {
     "name": "stdout",
     "output_type": "stream",
     "text": [
      "Training - Loss: 1.4584, Accuracy: 0.3906\n"
     ]
    },
    {
     "name": "stderr",
     "output_type": "stream",
     "text": [
      "training epoch 0:  33%|███▎      | 300/899 [03:11<2:15:49, 13.61s/it]"
     ]
    },
    {
     "name": "stdout",
     "output_type": "stream",
     "text": [
      "Validation - Loss: 1.693, Acc: 0.297, Pr: 0.947, Ff: 0.000, Fs: 0.000, Nt: 0.000, Df: 0.111\n"
     ]
    },
    {
     "name": "stderr",
     "output_type": "stream",
     "text": [
      "training epoch 0:  67%|██████▋   | 599/899 [05:39<02:28,  2.02it/s]  "
     ]
    },
    {
     "name": "stdout",
     "output_type": "stream",
     "text": [
      "Training - Loss: 1.2205, Accuracy: 0.5000\n"
     ]
    },
    {
     "name": "stderr",
     "output_type": "stream",
     "text": [
      "training epoch 0:  67%|██████▋   | 600/899 [06:23<1:07:52, 13.62s/it]"
     ]
    },
    {
     "name": "stdout",
     "output_type": "stream",
     "text": [
      "Validation - Loss: 1.580, Acc: 0.219, Pr: 1.000, Ff: 0.000, Fs: 0.000, Nt: 0.000, Df: 0.182\n"
     ]
    },
    {
     "name": "stderr",
     "output_type": "stream",
     "text": [
      "training epoch 0: 100%|██████████| 899/899 [08:51<00:00,  1.69it/s]  \n"
     ]
    },
    {
     "name": "stdout",
     "output_type": "stream",
     "text": [
      "Validation - Loss: 1.569, Acc: 0.219, Pr: 0.833, Ff: 0.143, Fs: 0.000, Nt: 0.000, Df: 0.500\n"
     ]
    },
    {
     "name": "stderr",
     "output_type": "stream",
     "text": [
      "training epoch 1:  33%|███▎      | 299/899 [02:28<04:55,  2.03it/s]"
     ]
    },
    {
     "name": "stdout",
     "output_type": "stream",
     "text": [
      "Training - Loss: 1.0410, Accuracy: 0.6250\n"
     ]
    },
    {
     "name": "stderr",
     "output_type": "stream",
     "text": [
      "training epoch 1:  33%|███▎      | 300/899 [03:10<2:11:00, 13.12s/it]"
     ]
    },
    {
     "name": "stdout",
     "output_type": "stream",
     "text": [
      "Validation - Loss: 1.509, Acc: 0.344, Pr: 0.800, Ff: 0.083, Fs: 0.200, Nt: 0.000, Df: 0.538\n"
     ]
    },
    {
     "name": "stderr",
     "output_type": "stream",
     "text": [
      "training epoch 1:  67%|██████▋   | 599/899 [05:37<02:27,  2.04it/s]  "
     ]
    },
    {
     "name": "stdout",
     "output_type": "stream",
     "text": [
      "Training - Loss: 0.9252, Accuracy: 0.6875\n"
     ]
    },
    {
     "name": "stderr",
     "output_type": "stream",
     "text": [
      "training epoch 1:  67%|██████▋   | 600/899 [06:22<1:09:41, 13.99s/it]"
     ]
    },
    {
     "name": "stdout",
     "output_type": "stream",
     "text": [
      "Validation - Loss: 1.565, Acc: 0.406, Pr: 1.000, Ff: 0.077, Fs: 0.294, Nt: 0.000, Df: 0.600\n"
     ]
    },
    {
     "name": "stderr",
     "output_type": "stream",
     "text": [
      "training epoch 1: 100%|██████████| 899/899 [08:48<00:00,  1.70it/s]  \n"
     ]
    },
    {
     "name": "stdout",
     "output_type": "stream",
     "text": [
      "Validation - Loss: 1.330, Acc: 0.453, Pr: 0.350, Ff: 0.625, Fs: 0.600, Nt: 0.100, Df: 0.625\n"
     ]
    },
    {
     "name": "stderr",
     "output_type": "stream",
     "text": [
      "training epoch 2:  33%|███▎      | 299/899 [02:27<04:53,  2.04it/s]"
     ]
    },
    {
     "name": "stdout",
     "output_type": "stream",
     "text": [
      "Training - Loss: 0.6427, Accuracy: 0.7969\n"
     ]
    },
    {
     "name": "stderr",
     "output_type": "stream",
     "text": [
      "training epoch 2:  33%|███▎      | 300/899 [03:06<2:01:56, 12.21s/it]"
     ]
    },
    {
     "name": "stdout",
     "output_type": "stream",
     "text": [
      "Validation - Loss: 1.340, Acc: 0.406, Pr: 0.471, Ff: 0.417, Fs: 0.625, Nt: 0.053, Df: 0.875\n"
     ]
    },
    {
     "name": "stderr",
     "output_type": "stream",
     "text": [
      "training epoch 2:  67%|██████▋   | 599/899 [05:33<02:27,  2.04it/s]  "
     ]
    },
    {
     "name": "stdout",
     "output_type": "stream",
     "text": [
      "Training - Loss: 0.5557, Accuracy: 0.7969\n"
     ]
    },
    {
     "name": "stderr",
     "output_type": "stream",
     "text": [
      "training epoch 2:  67%|██████▋   | 600/899 [06:14<1:03:34, 12.76s/it]"
     ]
    },
    {
     "name": "stdout",
     "output_type": "stream",
     "text": [
      "Validation - Loss: 1.352, Acc: 0.250, Pr: 0.467, Ff: 0.100, Fs: 0.333, Nt: 0.053, Df: 0.500\n"
     ]
    },
    {
     "name": "stderr",
     "output_type": "stream",
     "text": [
      "training epoch 2: 100%|██████████| 899/899 [08:40<00:00,  1.73it/s]  \n"
     ]
    },
    {
     "name": "stdout",
     "output_type": "stream",
     "text": [
      "Validation - Loss: 1.330, Acc: 0.562, Pr: 0.417, Ff: 0.545, Fs: 0.812, Nt: 0.182, Df: 0.714\n",
      "New checkpoint saved at ./model/resnet3d/model.pt\n"
     ]
    },
    {
     "name": "stderr",
     "output_type": "stream",
     "text": [
      "training epoch 3:  33%|███▎      | 299/899 [02:27<04:55,  2.03it/s]"
     ]
    },
    {
     "name": "stdout",
     "output_type": "stream",
     "text": [
      "Training - Loss: 0.4241, Accuracy: 0.8594\n"
     ]
    },
    {
     "name": "stderr",
     "output_type": "stream",
     "text": [
      "training epoch 3:  33%|███▎      | 300/899 [03:05<1:58:12, 11.84s/it]"
     ]
    },
    {
     "name": "stdout",
     "output_type": "stream",
     "text": [
      "Validation - Loss: 1.382, Acc: 0.531, Pr: 0.333, Ff: 0.706, Fs: 0.583, Nt: 0.357, Df: 0.583\n"
     ]
    },
    {
     "name": "stderr",
     "output_type": "stream",
     "text": [
      "training epoch 3:  67%|██████▋   | 599/899 [05:32<02:28,  2.02it/s]  "
     ]
    },
    {
     "name": "stdout",
     "output_type": "stream",
     "text": [
      "Training - Loss: 0.3276, Accuracy: 0.9219\n"
     ]
    },
    {
     "name": "stderr",
     "output_type": "stream",
     "text": [
      "training epoch 3:  67%|██████▋   | 600/899 [06:09<58:04, 11.65s/it]"
     ]
    },
    {
     "name": "stdout",
     "output_type": "stream",
     "text": [
      "Validation - Loss: 1.348, Acc: 0.438, Pr: 0.444, Ff: 0.273, Fs: 0.667, Nt: 0.059, Df: 0.800\n"
     ]
    },
    {
     "name": "stderr",
     "output_type": "stream",
     "text": [
      "training epoch 3:  78%|███████▊  | 703/899 [07:00<01:57,  1.67it/s]\n"
     ]
    },
    {
     "ename": "KeyboardInterrupt",
     "evalue": "",
     "output_type": "error",
     "traceback": [
      "\u001b[0;31m---------------------------------------------------------------------------\u001b[0m",
      "\u001b[0;31mKeyboardInterrupt\u001b[0m                         Traceback (most recent call last)",
      "\u001b[0;32m<ipython-input-11-7c1b4e64de85>\u001b[0m in \u001b[0;36m<module>\u001b[0;34m\u001b[0m\n\u001b[1;32m     18\u001b[0m         \u001b[0moptimizer\u001b[0m\u001b[0;34m.\u001b[0m\u001b[0mstep\u001b[0m\u001b[0;34m(\u001b[0m\u001b[0;34m)\u001b[0m\u001b[0;34m\u001b[0m\u001b[0;34m\u001b[0m\u001b[0m\n\u001b[1;32m     19\u001b[0m \u001b[0;34m\u001b[0m\u001b[0m\n\u001b[0;32m---> 20\u001b[0;31m         \u001b[0mbatch_accuracy\u001b[0m \u001b[0;34m=\u001b[0m \u001b[0mfloat\u001b[0m\u001b[0;34m(\u001b[0m\u001b[0;34m(\u001b[0m\u001b[0moutputs\u001b[0m\u001b[0;34m.\u001b[0m\u001b[0margmax\u001b[0m\u001b[0;34m(\u001b[0m\u001b[0;36m1\u001b[0m\u001b[0;34m)\u001b[0m\u001b[0;34m)\u001b[0m\u001b[0;34m.\u001b[0m\u001b[0meq\u001b[0m\u001b[0;34m(\u001b[0m\u001b[0mtargets\u001b[0m\u001b[0;34m)\u001b[0m\u001b[0;34m.\u001b[0m\u001b[0msum\u001b[0m\u001b[0;34m(\u001b[0m\u001b[0;34m)\u001b[0m\u001b[0;34m)\u001b[0m \u001b[0;34m/\u001b[0m \u001b[0mlen\u001b[0m\u001b[0;34m(\u001b[0m\u001b[0mtargets\u001b[0m\u001b[0;34m)\u001b[0m\u001b[0;34m\u001b[0m\u001b[0;34m\u001b[0m\u001b[0m\n\u001b[0m\u001b[1;32m     21\u001b[0m \u001b[0;34m\u001b[0m\u001b[0m\n\u001b[1;32m     22\u001b[0m \u001b[0;34m\u001b[0m\u001b[0m\n",
      "\u001b[0;31mKeyboardInterrupt\u001b[0m: "
     ]
    }
   ],
   "source": [
    "total_step = len(train_loader)\n",
    "step = 1\n",
    "best_val_acc = 0.5\n",
    "for epoch in range(15):\n",
    "    for i, (video_ids, frame_ids, images, targets) in \\\n",
    "            tqdm(enumerate(train_loader), desc=f'training epoch {epoch}', total=len(train_loader)):\n",
    "        model.train()\n",
    "        # Set mini-batch dataset\n",
    "        images = images.to(device)\n",
    "        targets = targets.to(device)\n",
    "\n",
    "        # Forward, backward and optimize\n",
    "        outputs = model(images)\n",
    "        targets = targets.long()\n",
    "        loss = criterion(outputs, targets)\n",
    "        model.zero_grad()\n",
    "        loss.backward()\n",
    "        optimizer.step()\n",
    "\n",
    "        batch_accuracy = float((outputs.argmax(1)).eq(targets).sum()) / len(targets)\n",
    "        \n",
    "        \n",
    "\n",
    "        # Print log info\n",
    "        step += 1\n",
    "        \n",
    "        if (i + 1) % 300 == 0:\n",
    "            print_training_info(batch_accuracy, loss, step)\n",
    "\n",
    "        if (i + 1) % 300 == 0:\n",
    "            val_acc, pr_acc, ff_acc, fs_acc, nt_acc, df_acc = print_validation_info(\n",
    "                criterion, device, model, val_loader, epoch, step\n",
    "            )\n",
    "            if val_acc > best_val_acc:\n",
    "                save_model_checkpoint(epoch, model, (val_acc, pr_acc, ff_acc, fs_acc, nt_acc, df_acc))\n",
    "                best_val_acc = val_acc\n",
    "\n",
    "    # validation step after full epoch\n",
    "    val_acc, pr_acc, ff_acc, fs_acc, nt_acc, df_acc = print_validation_info(\n",
    "        criterion, device, model, val_loader, epoch, step\n",
    "    )\n",
    "    lr_scheduler.step(val_acc)\n",
    "    if val_acc > best_val_acc:\n",
    "        save_model_checkpoint(epoch, model, (val_acc, pr_acc, ff_acc, fs_acc, nt_acc, df_acc))\n",
    "        best_val_acc = val_acc"
   ]
  },
  {
   "cell_type": "code",
   "execution_count": null,
   "metadata": {},
   "outputs": [],
   "source": []
  }
 ],
 "metadata": {
  "kernelspec": {
   "display_name": "Python 3",
   "language": "python",
   "name": "python3"
  },
  "language_info": {
   "codemirror_mode": {
    "name": "ipython",
    "version": 3
   },
   "file_extension": ".py",
   "mimetype": "text/x-python",
   "name": "python",
   "nbconvert_exporter": "python",
   "pygments_lexer": "ipython3",
   "version": "3.7.9"
  }
 },
 "nbformat": 4,
 "nbformat_minor": 4
}
