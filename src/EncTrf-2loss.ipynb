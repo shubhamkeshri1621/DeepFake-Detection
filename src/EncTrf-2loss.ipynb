{
 "cells": [
  {
   "cell_type": "code",
   "execution_count": 1,
   "metadata": {},
   "outputs": [],
   "source": [
    "import os\n",
    "os.environ[\"CUDA_DEVICE_ORDER\"]=\"PCI_BUS_ID\"   # see issue #152\n",
    "os.environ[\"CUDA_VISIBLE_DEVICES\"]=\"0,1,2,3\"\n",
    "import numpy as np\n",
    "import torch\n",
    "import torch.nn as nn\n",
    "from facenet_pytorch import fixed_image_standardization\n",
    "from torchvision import transforms\n",
    "from tqdm import tqdm\n",
    "\n",
    "from data_loader import get_loader, read_dataset, CompositeDataset\n",
    "from model import FaceRecognitionCNN\n",
    "from utils import write_json, copy_file, count_parameters\n",
    "from sklearn.metrics import confusion_matrix\n",
    "import seaborn as sns\n",
    "import matplotlib.pyplot as plt\n",
    "%matplotlib inline"
   ]
  },
  {
   "cell_type": "code",
   "execution_count": 2,
   "metadata": {},
   "outputs": [],
   "source": [
    "def tile(a, dim, n_tile):\n",
    "    init_dim = a.size(dim)\n",
    "    repeat_idx = [1] * a.dim()\n",
    "    repeat_idx[dim] = n_tile\n",
    "    a = a.repeat(*(repeat_idx))\n",
    "    order_index = torch.LongTensor(np.concatenate([init_dim * np.arange(n_tile) + i for i in range(init_dim)]))\n",
    "    return torch.index_select(a, dim, order_index.to(device))"
   ]
  },
  {
   "cell_type": "code",
   "execution_count": 3,
   "metadata": {},
   "outputs": [],
   "source": [
    "class Flatten(nn.Module):\n",
    "    def __init__(self):\n",
    "        super(Flatten, self).__init__()\n",
    "        \n",
    "    def forward(self, x):\n",
    "        x = x.view(x.size(0), -1)\n",
    "        return x"
   ]
  },
  {
   "cell_type": "code",
   "execution_count": 4,
   "metadata": {},
   "outputs": [],
   "source": [
    "class Encoder2DTransformer(nn.Module):\n",
    "    def __init__(self, face_recognition_cnn_path=None):\n",
    "        super(Encoder2DTransformer, self).__init__()\n",
    "\n",
    "        face_cnn = FaceRecognitionCNN()\n",
    "        \n",
    "        if face_recognition_cnn_path is not None:\n",
    "            face_cnn = nn.DataParallel(face_cnn)\n",
    "            state_dict = torch.load(face_recognition_cnn_path, map_location='cpu')\n",
    "            face_cnn.load_state_dict(state_dict)\n",
    "\n",
    "        if face_recognition_cnn_path:\n",
    "            modules = list(face_cnn.module.resnet.children())[:-4]\n",
    "            self.encoder2d = nn.Sequential(*modules)\n",
    "            modules = list(face_cnn.module.resnet.children())[-4:-1]\n",
    "            self.disc1 = nn.Sequential(*[Flatten(), *modules])\n",
    "            self.disc2 = face_cnn.module.relu\n",
    "            self.disc3 = face_cnn.module.dropout\n",
    "            self.disc4 = nn.Linear(512, 1)\n",
    "\n",
    "        else:\n",
    "            modules = list(face_cnn.resnet.children())[:-4]\n",
    "            self.encoder2d = nn.Sequential(*modules)\n",
    "            modules = list(face_cnn.resnet.children())[-4:-1]\n",
    "            self.disc1 = nn.Sequential(*[Flatten(), *modules])\n",
    "            self.disc2 = face_cnn.relu\n",
    "            self.disc3 = face_cnn.dropout\n",
    "            self.disc4 = nn.Linear(512, 1)\n",
    "\n",
    "        self.encoder_layer = nn.TransformerEncoderLayer(d_model=1792, nhead=4)\n",
    "        self.transformer_encoder = nn.TransformerEncoder(self.encoder_layer, num_layers=4)\n",
    "        self.fc = nn.Linear(1792, 5)\n",
    "        self.relu = nn.ReLU()\n",
    "    \n",
    "    def forward(self, images):\n",
    "        batch_size, num_channels, depth, height, width = images.shape\n",
    "        images = images.permute(0, 2, 1, 3, 4)\n",
    "        images = images.reshape(batch_size * depth, num_channels, height, width)\n",
    "        out = self.encoder2d(images)\n",
    "        side = self.disc1(out)\n",
    "        side = self.disc2(side)\n",
    "        side = self.disc3(side)\n",
    "        side = self.disc4(side)\n",
    "        out = out.reshape(batch_size, depth, 1792, 1, 1)\n",
    "        out = out.squeeze(4)\n",
    "        out = out.squeeze(3)\n",
    "        out = out.permute(1, 0, 2)\n",
    "        out = self.transformer_encoder(out)\n",
    "        out = out.permute(1, 0, 2)\n",
    "        out = out.index_select(1, torch.tensor([0]).to(device))\n",
    "        out = out.squeeze()\n",
    "        out = self.relu(out)\n",
    "        out = self.fc(out)\n",
    "        \n",
    "        return  out, side"
   ]
  },
  {
   "cell_type": "code",
   "execution_count": 5,
   "metadata": {},
   "outputs": [],
   "source": [
    "transform = transforms.Compose([\n",
    "        transforms.Resize((160, 160)),\n",
    "        transforms.RandomRotation(10),\n",
    "        transforms.RandomVerticalFlip(p=0.5),\n",
    "        transforms.RandomHorizontalFlip(p=0.5),\n",
    "        transforms.RandomGrayscale(p=0.1),\n",
    "        np.float32,\n",
    "        transforms.ToTensor(),\n",
    "        fixed_image_standardization\n",
    "    ])"
   ]
  },
  {
   "cell_type": "code",
   "execution_count": 6,
   "metadata": {},
   "outputs": [
    {
     "name": "stdout",
     "output_type": "stream",
     "text": [
      "['deepfakes_faces_c23', 'original_faces_c23', 'face2face_faces_c23', 'neural_textures_faces_c23', 'faceswap_faces_c23']\n",
      "Using training data: \n",
      "deepfakes_faces_c23\n",
      "face2face_faces_c23\n",
      "faceswap_faces_c23\n",
      "neural_textures_faces_c23\n",
      "original_faces_c23\n"
     ]
    }
   ],
   "source": [
    "datasets = read_dataset(\n",
    "    '../dataset/mtcnn/', transform=transform,\n",
    "    max_images_per_video=11, max_videos=1000,\n",
    "    window_size=11, splits_path='../dataset/splits/'\n",
    ")\n",
    "# only neural textures c40 and original c40\n",
    "datasets = {\n",
    "    k: v for k, v in datasets.items() \n",
    "    if ('original' in k or 'neural' in k or 'face2face' in k or 'faceswap' in k or 'deepfakes' in k) and 'c23' in k\n",
    "}\n",
    "print('Using training data: ')\n",
    "print('\\n'.join(sorted(datasets.keys())))\n",
    "\n",
    "trains, vals, tests = [], [], []\n",
    "for data_dir_name, dataset in datasets.items():\n",
    "    train, val, test = dataset\n",
    "    # repeat original data multiple times to balance out training data\n",
    "    compression = data_dir_name.split('_')[-1]\n",
    "    num_tampered_with_same_compression = len({x for x in datasets.keys() if compression in x}) - 1\n",
    "    count = 1 if 'original' not in data_dir_name else num_tampered_with_same_compression\n",
    "    for _ in range(count):\n",
    "        trains.append(train)\n",
    "    vals.append(val)\n",
    "    tests.append(test)\n",
    "    \n",
    "train_dataset, val_dataset, test_dataset = CompositeDataset(*trains), CompositeDataset(*vals), CompositeDataset(*tests)"
   ]
  },
  {
   "cell_type": "code",
   "execution_count": 7,
   "metadata": {},
   "outputs": [
    {
     "name": "stdout",
     "output_type": "stream",
     "text": [
      "train data size: 63320, validation data size: 7675\n"
     ]
    }
   ],
   "source": [
    "tqdm.write('train data size: {}, validation data size: {}'.format(len(train_dataset), len(val_dataset)))"
   ]
  },
  {
   "cell_type": "code",
   "execution_count": 8,
   "metadata": {},
   "outputs": [],
   "source": [
    "train_loader = get_loader(\n",
    "    train_dataset, 64, shuffle=True, num_workers=2\n",
    ")\n",
    "val_loader = get_loader(\n",
    "    val_dataset, 64, shuffle=True, num_workers=2\n",
    ")"
   ]
  },
  {
   "cell_type": "code",
   "execution_count": 9,
   "metadata": {},
   "outputs": [
    {
     "name": "stdout",
     "output_type": "stream",
     "text": [
      "training on cuda\n"
     ]
    },
    {
     "data": {
      "text/plain": [
       "[device(type='cuda')]"
      ]
     },
     "execution_count": 9,
     "metadata": {},
     "output_type": "execute_result"
    }
   ],
   "source": [
    "device = torch.device('cuda' if torch.cuda.is_available() else 'cpu')\n",
    "print('training on', device)\n",
    "[device]"
   ]
  },
  {
   "cell_type": "code",
   "execution_count": 10,
   "metadata": {},
   "outputs": [
    {
     "data": {
      "text/plain": [
       "DataParallel(\n",
       "  (module): Encoder2DTransformer(\n",
       "    (encoder2d): Sequential(\n",
       "      (0): BasicConv2d(\n",
       "        (conv): Conv2d(3, 32, kernel_size=(3, 3), stride=(2, 2), bias=False)\n",
       "        (bn): BatchNorm2d(32, eps=0.001, momentum=0.1, affine=True, track_running_stats=True)\n",
       "        (relu): ReLU()\n",
       "      )\n",
       "      (1): BasicConv2d(\n",
       "        (conv): Conv2d(32, 32, kernel_size=(3, 3), stride=(1, 1), bias=False)\n",
       "        (bn): BatchNorm2d(32, eps=0.001, momentum=0.1, affine=True, track_running_stats=True)\n",
       "        (relu): ReLU()\n",
       "      )\n",
       "      (2): BasicConv2d(\n",
       "        (conv): Conv2d(32, 64, kernel_size=(3, 3), stride=(1, 1), padding=(1, 1), bias=False)\n",
       "        (bn): BatchNorm2d(64, eps=0.001, momentum=0.1, affine=True, track_running_stats=True)\n",
       "        (relu): ReLU()\n",
       "      )\n",
       "      (3): MaxPool2d(kernel_size=3, stride=2, padding=0, dilation=1, ceil_mode=False)\n",
       "      (4): BasicConv2d(\n",
       "        (conv): Conv2d(64, 80, kernel_size=(1, 1), stride=(1, 1), bias=False)\n",
       "        (bn): BatchNorm2d(80, eps=0.001, momentum=0.1, affine=True, track_running_stats=True)\n",
       "        (relu): ReLU()\n",
       "      )\n",
       "      (5): BasicConv2d(\n",
       "        (conv): Conv2d(80, 192, kernel_size=(3, 3), stride=(1, 1), bias=False)\n",
       "        (bn): BatchNorm2d(192, eps=0.001, momentum=0.1, affine=True, track_running_stats=True)\n",
       "        (relu): ReLU()\n",
       "      )\n",
       "      (6): BasicConv2d(\n",
       "        (conv): Conv2d(192, 256, kernel_size=(3, 3), stride=(2, 2), bias=False)\n",
       "        (bn): BatchNorm2d(256, eps=0.001, momentum=0.1, affine=True, track_running_stats=True)\n",
       "        (relu): ReLU()\n",
       "      )\n",
       "      (7): Sequential(\n",
       "        (0): Block35(\n",
       "          (branch0): BasicConv2d(\n",
       "            (conv): Conv2d(256, 32, kernel_size=(1, 1), stride=(1, 1), bias=False)\n",
       "            (bn): BatchNorm2d(32, eps=0.001, momentum=0.1, affine=True, track_running_stats=True)\n",
       "            (relu): ReLU()\n",
       "          )\n",
       "          (branch1): Sequential(\n",
       "            (0): BasicConv2d(\n",
       "              (conv): Conv2d(256, 32, kernel_size=(1, 1), stride=(1, 1), bias=False)\n",
       "              (bn): BatchNorm2d(32, eps=0.001, momentum=0.1, affine=True, track_running_stats=True)\n",
       "              (relu): ReLU()\n",
       "            )\n",
       "            (1): BasicConv2d(\n",
       "              (conv): Conv2d(32, 32, kernel_size=(3, 3), stride=(1, 1), padding=(1, 1), bias=False)\n",
       "              (bn): BatchNorm2d(32, eps=0.001, momentum=0.1, affine=True, track_running_stats=True)\n",
       "              (relu): ReLU()\n",
       "            )\n",
       "          )\n",
       "          (branch2): Sequential(\n",
       "            (0): BasicConv2d(\n",
       "              (conv): Conv2d(256, 32, kernel_size=(1, 1), stride=(1, 1), bias=False)\n",
       "              (bn): BatchNorm2d(32, eps=0.001, momentum=0.1, affine=True, track_running_stats=True)\n",
       "              (relu): ReLU()\n",
       "            )\n",
       "            (1): BasicConv2d(\n",
       "              (conv): Conv2d(32, 32, kernel_size=(3, 3), stride=(1, 1), padding=(1, 1), bias=False)\n",
       "              (bn): BatchNorm2d(32, eps=0.001, momentum=0.1, affine=True, track_running_stats=True)\n",
       "              (relu): ReLU()\n",
       "            )\n",
       "            (2): BasicConv2d(\n",
       "              (conv): Conv2d(32, 32, kernel_size=(3, 3), stride=(1, 1), padding=(1, 1), bias=False)\n",
       "              (bn): BatchNorm2d(32, eps=0.001, momentum=0.1, affine=True, track_running_stats=True)\n",
       "              (relu): ReLU()\n",
       "            )\n",
       "          )\n",
       "          (conv2d): Conv2d(96, 256, kernel_size=(1, 1), stride=(1, 1))\n",
       "          (relu): ReLU()\n",
       "        )\n",
       "        (1): Block35(\n",
       "          (branch0): BasicConv2d(\n",
       "            (conv): Conv2d(256, 32, kernel_size=(1, 1), stride=(1, 1), bias=False)\n",
       "            (bn): BatchNorm2d(32, eps=0.001, momentum=0.1, affine=True, track_running_stats=True)\n",
       "            (relu): ReLU()\n",
       "          )\n",
       "          (branch1): Sequential(\n",
       "            (0): BasicConv2d(\n",
       "              (conv): Conv2d(256, 32, kernel_size=(1, 1), stride=(1, 1), bias=False)\n",
       "              (bn): BatchNorm2d(32, eps=0.001, momentum=0.1, affine=True, track_running_stats=True)\n",
       "              (relu): ReLU()\n",
       "            )\n",
       "            (1): BasicConv2d(\n",
       "              (conv): Conv2d(32, 32, kernel_size=(3, 3), stride=(1, 1), padding=(1, 1), bias=False)\n",
       "              (bn): BatchNorm2d(32, eps=0.001, momentum=0.1, affine=True, track_running_stats=True)\n",
       "              (relu): ReLU()\n",
       "            )\n",
       "          )\n",
       "          (branch2): Sequential(\n",
       "            (0): BasicConv2d(\n",
       "              (conv): Conv2d(256, 32, kernel_size=(1, 1), stride=(1, 1), bias=False)\n",
       "              (bn): BatchNorm2d(32, eps=0.001, momentum=0.1, affine=True, track_running_stats=True)\n",
       "              (relu): ReLU()\n",
       "            )\n",
       "            (1): BasicConv2d(\n",
       "              (conv): Conv2d(32, 32, kernel_size=(3, 3), stride=(1, 1), padding=(1, 1), bias=False)\n",
       "              (bn): BatchNorm2d(32, eps=0.001, momentum=0.1, affine=True, track_running_stats=True)\n",
       "              (relu): ReLU()\n",
       "            )\n",
       "            (2): BasicConv2d(\n",
       "              (conv): Conv2d(32, 32, kernel_size=(3, 3), stride=(1, 1), padding=(1, 1), bias=False)\n",
       "              (bn): BatchNorm2d(32, eps=0.001, momentum=0.1, affine=True, track_running_stats=True)\n",
       "              (relu): ReLU()\n",
       "            )\n",
       "          )\n",
       "          (conv2d): Conv2d(96, 256, kernel_size=(1, 1), stride=(1, 1))\n",
       "          (relu): ReLU()\n",
       "        )\n",
       "        (2): Block35(\n",
       "          (branch0): BasicConv2d(\n",
       "            (conv): Conv2d(256, 32, kernel_size=(1, 1), stride=(1, 1), bias=False)\n",
       "            (bn): BatchNorm2d(32, eps=0.001, momentum=0.1, affine=True, track_running_stats=True)\n",
       "            (relu): ReLU()\n",
       "          )\n",
       "          (branch1): Sequential(\n",
       "            (0): BasicConv2d(\n",
       "              (conv): Conv2d(256, 32, kernel_size=(1, 1), stride=(1, 1), bias=False)\n",
       "              (bn): BatchNorm2d(32, eps=0.001, momentum=0.1, affine=True, track_running_stats=True)\n",
       "              (relu): ReLU()\n",
       "            )\n",
       "            (1): BasicConv2d(\n",
       "              (conv): Conv2d(32, 32, kernel_size=(3, 3), stride=(1, 1), padding=(1, 1), bias=False)\n",
       "              (bn): BatchNorm2d(32, eps=0.001, momentum=0.1, affine=True, track_running_stats=True)\n",
       "              (relu): ReLU()\n",
       "            )\n",
       "          )\n",
       "          (branch2): Sequential(\n",
       "            (0): BasicConv2d(\n",
       "              (conv): Conv2d(256, 32, kernel_size=(1, 1), stride=(1, 1), bias=False)\n",
       "              (bn): BatchNorm2d(32, eps=0.001, momentum=0.1, affine=True, track_running_stats=True)\n",
       "              (relu): ReLU()\n",
       "            )\n",
       "            (1): BasicConv2d(\n",
       "              (conv): Conv2d(32, 32, kernel_size=(3, 3), stride=(1, 1), padding=(1, 1), bias=False)\n",
       "              (bn): BatchNorm2d(32, eps=0.001, momentum=0.1, affine=True, track_running_stats=True)\n",
       "              (relu): ReLU()\n",
       "            )\n",
       "            (2): BasicConv2d(\n",
       "              (conv): Conv2d(32, 32, kernel_size=(3, 3), stride=(1, 1), padding=(1, 1), bias=False)\n",
       "              (bn): BatchNorm2d(32, eps=0.001, momentum=0.1, affine=True, track_running_stats=True)\n",
       "              (relu): ReLU()\n",
       "            )\n",
       "          )\n",
       "          (conv2d): Conv2d(96, 256, kernel_size=(1, 1), stride=(1, 1))\n",
       "          (relu): ReLU()\n",
       "        )\n",
       "        (3): Block35(\n",
       "          (branch0): BasicConv2d(\n",
       "            (conv): Conv2d(256, 32, kernel_size=(1, 1), stride=(1, 1), bias=False)\n",
       "            (bn): BatchNorm2d(32, eps=0.001, momentum=0.1, affine=True, track_running_stats=True)\n",
       "            (relu): ReLU()\n",
       "          )\n",
       "          (branch1): Sequential(\n",
       "            (0): BasicConv2d(\n",
       "              (conv): Conv2d(256, 32, kernel_size=(1, 1), stride=(1, 1), bias=False)\n",
       "              (bn): BatchNorm2d(32, eps=0.001, momentum=0.1, affine=True, track_running_stats=True)\n",
       "              (relu): ReLU()\n",
       "            )\n",
       "            (1): BasicConv2d(\n",
       "              (conv): Conv2d(32, 32, kernel_size=(3, 3), stride=(1, 1), padding=(1, 1), bias=False)\n",
       "              (bn): BatchNorm2d(32, eps=0.001, momentum=0.1, affine=True, track_running_stats=True)\n",
       "              (relu): ReLU()\n",
       "            )\n",
       "          )\n",
       "          (branch2): Sequential(\n",
       "            (0): BasicConv2d(\n",
       "              (conv): Conv2d(256, 32, kernel_size=(1, 1), stride=(1, 1), bias=False)\n",
       "              (bn): BatchNorm2d(32, eps=0.001, momentum=0.1, affine=True, track_running_stats=True)\n",
       "              (relu): ReLU()\n",
       "            )\n",
       "            (1): BasicConv2d(\n",
       "              (conv): Conv2d(32, 32, kernel_size=(3, 3), stride=(1, 1), padding=(1, 1), bias=False)\n",
       "              (bn): BatchNorm2d(32, eps=0.001, momentum=0.1, affine=True, track_running_stats=True)\n",
       "              (relu): ReLU()\n",
       "            )\n",
       "            (2): BasicConv2d(\n",
       "              (conv): Conv2d(32, 32, kernel_size=(3, 3), stride=(1, 1), padding=(1, 1), bias=False)\n",
       "              (bn): BatchNorm2d(32, eps=0.001, momentum=0.1, affine=True, track_running_stats=True)\n",
       "              (relu): ReLU()\n",
       "            )\n",
       "          )\n",
       "          (conv2d): Conv2d(96, 256, kernel_size=(1, 1), stride=(1, 1))\n",
       "          (relu): ReLU()\n",
       "        )\n",
       "        (4): Block35(\n",
       "          (branch0): BasicConv2d(\n",
       "            (conv): Conv2d(256, 32, kernel_size=(1, 1), stride=(1, 1), bias=False)\n",
       "            (bn): BatchNorm2d(32, eps=0.001, momentum=0.1, affine=True, track_running_stats=True)\n",
       "            (relu): ReLU()\n",
       "          )\n",
       "          (branch1): Sequential(\n",
       "            (0): BasicConv2d(\n",
       "              (conv): Conv2d(256, 32, kernel_size=(1, 1), stride=(1, 1), bias=False)\n",
       "              (bn): BatchNorm2d(32, eps=0.001, momentum=0.1, affine=True, track_running_stats=True)\n",
       "              (relu): ReLU()\n",
       "            )\n",
       "            (1): BasicConv2d(\n",
       "              (conv): Conv2d(32, 32, kernel_size=(3, 3), stride=(1, 1), padding=(1, 1), bias=False)\n",
       "              (bn): BatchNorm2d(32, eps=0.001, momentum=0.1, affine=True, track_running_stats=True)\n",
       "              (relu): ReLU()\n",
       "            )\n",
       "          )\n",
       "          (branch2): Sequential(\n",
       "            (0): BasicConv2d(\n",
       "              (conv): Conv2d(256, 32, kernel_size=(1, 1), stride=(1, 1), bias=False)\n",
       "              (bn): BatchNorm2d(32, eps=0.001, momentum=0.1, affine=True, track_running_stats=True)\n",
       "              (relu): ReLU()\n",
       "            )\n",
       "            (1): BasicConv2d(\n",
       "              (conv): Conv2d(32, 32, kernel_size=(3, 3), stride=(1, 1), padding=(1, 1), bias=False)\n",
       "              (bn): BatchNorm2d(32, eps=0.001, momentum=0.1, affine=True, track_running_stats=True)\n",
       "              (relu): ReLU()\n",
       "            )\n",
       "            (2): BasicConv2d(\n",
       "              (conv): Conv2d(32, 32, kernel_size=(3, 3), stride=(1, 1), padding=(1, 1), bias=False)\n",
       "              (bn): BatchNorm2d(32, eps=0.001, momentum=0.1, affine=True, track_running_stats=True)\n",
       "              (relu): ReLU()\n",
       "            )\n",
       "          )\n",
       "          (conv2d): Conv2d(96, 256, kernel_size=(1, 1), stride=(1, 1))\n",
       "          (relu): ReLU()\n",
       "        )\n",
       "      )\n",
       "      (8): Mixed_6a(\n",
       "        (branch0): BasicConv2d(\n",
       "          (conv): Conv2d(256, 384, kernel_size=(3, 3), stride=(2, 2), bias=False)\n",
       "          (bn): BatchNorm2d(384, eps=0.001, momentum=0.1, affine=True, track_running_stats=True)\n",
       "          (relu): ReLU()\n",
       "        )\n",
       "        (branch1): Sequential(\n",
       "          (0): BasicConv2d(\n",
       "            (conv): Conv2d(256, 192, kernel_size=(1, 1), stride=(1, 1), bias=False)\n",
       "            (bn): BatchNorm2d(192, eps=0.001, momentum=0.1, affine=True, track_running_stats=True)\n",
       "            (relu): ReLU()\n",
       "          )\n",
       "          (1): BasicConv2d(\n",
       "            (conv): Conv2d(192, 192, kernel_size=(3, 3), stride=(1, 1), padding=(1, 1), bias=False)\n",
       "            (bn): BatchNorm2d(192, eps=0.001, momentum=0.1, affine=True, track_running_stats=True)\n",
       "            (relu): ReLU()\n",
       "          )\n",
       "          (2): BasicConv2d(\n",
       "            (conv): Conv2d(192, 256, kernel_size=(3, 3), stride=(2, 2), bias=False)\n",
       "            (bn): BatchNorm2d(256, eps=0.001, momentum=0.1, affine=True, track_running_stats=True)\n",
       "            (relu): ReLU()\n",
       "          )\n",
       "        )\n",
       "        (branch2): MaxPool2d(kernel_size=3, stride=2, padding=0, dilation=1, ceil_mode=False)\n",
       "      )\n",
       "      (9): Sequential(\n",
       "        (0): Block17(\n",
       "          (branch0): BasicConv2d(\n",
       "            (conv): Conv2d(896, 128, kernel_size=(1, 1), stride=(1, 1), bias=False)\n",
       "            (bn): BatchNorm2d(128, eps=0.001, momentum=0.1, affine=True, track_running_stats=True)\n",
       "            (relu): ReLU()\n",
       "          )\n",
       "          (branch1): Sequential(\n",
       "            (0): BasicConv2d(\n",
       "              (conv): Conv2d(896, 128, kernel_size=(1, 1), stride=(1, 1), bias=False)\n",
       "              (bn): BatchNorm2d(128, eps=0.001, momentum=0.1, affine=True, track_running_stats=True)\n",
       "              (relu): ReLU()\n",
       "            )\n",
       "            (1): BasicConv2d(\n",
       "              (conv): Conv2d(128, 128, kernel_size=(1, 7), stride=(1, 1), padding=(0, 3), bias=False)\n",
       "              (bn): BatchNorm2d(128, eps=0.001, momentum=0.1, affine=True, track_running_stats=True)\n",
       "              (relu): ReLU()\n",
       "            )\n",
       "            (2): BasicConv2d(\n",
       "              (conv): Conv2d(128, 128, kernel_size=(7, 1), stride=(1, 1), padding=(3, 0), bias=False)\n",
       "              (bn): BatchNorm2d(128, eps=0.001, momentum=0.1, affine=True, track_running_stats=True)\n",
       "              (relu): ReLU()\n",
       "            )\n",
       "          )\n",
       "          (conv2d): Conv2d(256, 896, kernel_size=(1, 1), stride=(1, 1))\n",
       "          (relu): ReLU()\n",
       "        )\n",
       "        (1): Block17(\n",
       "          (branch0): BasicConv2d(\n",
       "            (conv): Conv2d(896, 128, kernel_size=(1, 1), stride=(1, 1), bias=False)\n",
       "            (bn): BatchNorm2d(128, eps=0.001, momentum=0.1, affine=True, track_running_stats=True)\n",
       "            (relu): ReLU()\n",
       "          )\n",
       "          (branch1): Sequential(\n",
       "            (0): BasicConv2d(\n",
       "              (conv): Conv2d(896, 128, kernel_size=(1, 1), stride=(1, 1), bias=False)\n",
       "              (bn): BatchNorm2d(128, eps=0.001, momentum=0.1, affine=True, track_running_stats=True)\n",
       "              (relu): ReLU()\n",
       "            )\n",
       "            (1): BasicConv2d(\n",
       "              (conv): Conv2d(128, 128, kernel_size=(1, 7), stride=(1, 1), padding=(0, 3), bias=False)\n",
       "              (bn): BatchNorm2d(128, eps=0.001, momentum=0.1, affine=True, track_running_stats=True)\n",
       "              (relu): ReLU()\n",
       "            )\n",
       "            (2): BasicConv2d(\n",
       "              (conv): Conv2d(128, 128, kernel_size=(7, 1), stride=(1, 1), padding=(3, 0), bias=False)\n",
       "              (bn): BatchNorm2d(128, eps=0.001, momentum=0.1, affine=True, track_running_stats=True)\n",
       "              (relu): ReLU()\n",
       "            )\n",
       "          )\n",
       "          (conv2d): Conv2d(256, 896, kernel_size=(1, 1), stride=(1, 1))\n",
       "          (relu): ReLU()\n",
       "        )\n",
       "        (2): Block17(\n",
       "          (branch0): BasicConv2d(\n",
       "            (conv): Conv2d(896, 128, kernel_size=(1, 1), stride=(1, 1), bias=False)\n",
       "            (bn): BatchNorm2d(128, eps=0.001, momentum=0.1, affine=True, track_running_stats=True)\n",
       "            (relu): ReLU()\n",
       "          )\n",
       "          (branch1): Sequential(\n",
       "            (0): BasicConv2d(\n",
       "              (conv): Conv2d(896, 128, kernel_size=(1, 1), stride=(1, 1), bias=False)\n",
       "              (bn): BatchNorm2d(128, eps=0.001, momentum=0.1, affine=True, track_running_stats=True)\n",
       "              (relu): ReLU()\n",
       "            )\n",
       "            (1): BasicConv2d(\n",
       "              (conv): Conv2d(128, 128, kernel_size=(1, 7), stride=(1, 1), padding=(0, 3), bias=False)\n",
       "              (bn): BatchNorm2d(128, eps=0.001, momentum=0.1, affine=True, track_running_stats=True)\n",
       "              (relu): ReLU()\n",
       "            )\n",
       "            (2): BasicConv2d(\n",
       "              (conv): Conv2d(128, 128, kernel_size=(7, 1), stride=(1, 1), padding=(3, 0), bias=False)\n",
       "              (bn): BatchNorm2d(128, eps=0.001, momentum=0.1, affine=True, track_running_stats=True)\n",
       "              (relu): ReLU()\n",
       "            )\n",
       "          )\n",
       "          (conv2d): Conv2d(256, 896, kernel_size=(1, 1), stride=(1, 1))\n",
       "          (relu): ReLU()\n",
       "        )\n",
       "        (3): Block17(\n",
       "          (branch0): BasicConv2d(\n",
       "            (conv): Conv2d(896, 128, kernel_size=(1, 1), stride=(1, 1), bias=False)\n",
       "            (bn): BatchNorm2d(128, eps=0.001, momentum=0.1, affine=True, track_running_stats=True)\n",
       "            (relu): ReLU()\n",
       "          )\n",
       "          (branch1): Sequential(\n",
       "            (0): BasicConv2d(\n",
       "              (conv): Conv2d(896, 128, kernel_size=(1, 1), stride=(1, 1), bias=False)\n",
       "              (bn): BatchNorm2d(128, eps=0.001, momentum=0.1, affine=True, track_running_stats=True)\n",
       "              (relu): ReLU()\n",
       "            )\n",
       "            (1): BasicConv2d(\n",
       "              (conv): Conv2d(128, 128, kernel_size=(1, 7), stride=(1, 1), padding=(0, 3), bias=False)\n",
       "              (bn): BatchNorm2d(128, eps=0.001, momentum=0.1, affine=True, track_running_stats=True)\n",
       "              (relu): ReLU()\n",
       "            )\n",
       "            (2): BasicConv2d(\n",
       "              (conv): Conv2d(128, 128, kernel_size=(7, 1), stride=(1, 1), padding=(3, 0), bias=False)\n",
       "              (bn): BatchNorm2d(128, eps=0.001, momentum=0.1, affine=True, track_running_stats=True)\n",
       "              (relu): ReLU()\n",
       "            )\n",
       "          )\n",
       "          (conv2d): Conv2d(256, 896, kernel_size=(1, 1), stride=(1, 1))\n",
       "          (relu): ReLU()\n",
       "        )\n",
       "        (4): Block17(\n",
       "          (branch0): BasicConv2d(\n",
       "            (conv): Conv2d(896, 128, kernel_size=(1, 1), stride=(1, 1), bias=False)\n",
       "            (bn): BatchNorm2d(128, eps=0.001, momentum=0.1, affine=True, track_running_stats=True)\n",
       "            (relu): ReLU()\n",
       "          )\n",
       "          (branch1): Sequential(\n",
       "            (0): BasicConv2d(\n",
       "              (conv): Conv2d(896, 128, kernel_size=(1, 1), stride=(1, 1), bias=False)\n",
       "              (bn): BatchNorm2d(128, eps=0.001, momentum=0.1, affine=True, track_running_stats=True)\n",
       "              (relu): ReLU()\n",
       "            )\n",
       "            (1): BasicConv2d(\n",
       "              (conv): Conv2d(128, 128, kernel_size=(1, 7), stride=(1, 1), padding=(0, 3), bias=False)\n",
       "              (bn): BatchNorm2d(128, eps=0.001, momentum=0.1, affine=True, track_running_stats=True)\n",
       "              (relu): ReLU()\n",
       "            )\n",
       "            (2): BasicConv2d(\n",
       "              (conv): Conv2d(128, 128, kernel_size=(7, 1), stride=(1, 1), padding=(3, 0), bias=False)\n",
       "              (bn): BatchNorm2d(128, eps=0.001, momentum=0.1, affine=True, track_running_stats=True)\n",
       "              (relu): ReLU()\n",
       "            )\n",
       "          )\n",
       "          (conv2d): Conv2d(256, 896, kernel_size=(1, 1), stride=(1, 1))\n",
       "          (relu): ReLU()\n",
       "        )\n",
       "        (5): Block17(\n",
       "          (branch0): BasicConv2d(\n",
       "            (conv): Conv2d(896, 128, kernel_size=(1, 1), stride=(1, 1), bias=False)\n",
       "            (bn): BatchNorm2d(128, eps=0.001, momentum=0.1, affine=True, track_running_stats=True)\n",
       "            (relu): ReLU()\n",
       "          )\n",
       "          (branch1): Sequential(\n",
       "            (0): BasicConv2d(\n",
       "              (conv): Conv2d(896, 128, kernel_size=(1, 1), stride=(1, 1), bias=False)\n",
       "              (bn): BatchNorm2d(128, eps=0.001, momentum=0.1, affine=True, track_running_stats=True)\n",
       "              (relu): ReLU()\n",
       "            )\n",
       "            (1): BasicConv2d(\n",
       "              (conv): Conv2d(128, 128, kernel_size=(1, 7), stride=(1, 1), padding=(0, 3), bias=False)\n",
       "              (bn): BatchNorm2d(128, eps=0.001, momentum=0.1, affine=True, track_running_stats=True)\n",
       "              (relu): ReLU()\n",
       "            )\n",
       "            (2): BasicConv2d(\n",
       "              (conv): Conv2d(128, 128, kernel_size=(7, 1), stride=(1, 1), padding=(3, 0), bias=False)\n",
       "              (bn): BatchNorm2d(128, eps=0.001, momentum=0.1, affine=True, track_running_stats=True)\n",
       "              (relu): ReLU()\n",
       "            )\n",
       "          )\n",
       "          (conv2d): Conv2d(256, 896, kernel_size=(1, 1), stride=(1, 1))\n",
       "          (relu): ReLU()\n",
       "        )\n",
       "        (6): Block17(\n",
       "          (branch0): BasicConv2d(\n",
       "            (conv): Conv2d(896, 128, kernel_size=(1, 1), stride=(1, 1), bias=False)\n",
       "            (bn): BatchNorm2d(128, eps=0.001, momentum=0.1, affine=True, track_running_stats=True)\n",
       "            (relu): ReLU()\n",
       "          )\n",
       "          (branch1): Sequential(\n",
       "            (0): BasicConv2d(\n",
       "              (conv): Conv2d(896, 128, kernel_size=(1, 1), stride=(1, 1), bias=False)\n",
       "              (bn): BatchNorm2d(128, eps=0.001, momentum=0.1, affine=True, track_running_stats=True)\n",
       "              (relu): ReLU()\n",
       "            )\n",
       "            (1): BasicConv2d(\n",
       "              (conv): Conv2d(128, 128, kernel_size=(1, 7), stride=(1, 1), padding=(0, 3), bias=False)\n",
       "              (bn): BatchNorm2d(128, eps=0.001, momentum=0.1, affine=True, track_running_stats=True)\n",
       "              (relu): ReLU()\n",
       "            )\n",
       "            (2): BasicConv2d(\n",
       "              (conv): Conv2d(128, 128, kernel_size=(7, 1), stride=(1, 1), padding=(3, 0), bias=False)\n",
       "              (bn): BatchNorm2d(128, eps=0.001, momentum=0.1, affine=True, track_running_stats=True)\n",
       "              (relu): ReLU()\n",
       "            )\n",
       "          )\n",
       "          (conv2d): Conv2d(256, 896, kernel_size=(1, 1), stride=(1, 1))\n",
       "          (relu): ReLU()\n",
       "        )\n",
       "        (7): Block17(\n",
       "          (branch0): BasicConv2d(\n",
       "            (conv): Conv2d(896, 128, kernel_size=(1, 1), stride=(1, 1), bias=False)\n",
       "            (bn): BatchNorm2d(128, eps=0.001, momentum=0.1, affine=True, track_running_stats=True)\n",
       "            (relu): ReLU()\n",
       "          )\n",
       "          (branch1): Sequential(\n",
       "            (0): BasicConv2d(\n",
       "              (conv): Conv2d(896, 128, kernel_size=(1, 1), stride=(1, 1), bias=False)\n",
       "              (bn): BatchNorm2d(128, eps=0.001, momentum=0.1, affine=True, track_running_stats=True)\n",
       "              (relu): ReLU()\n",
       "            )\n",
       "            (1): BasicConv2d(\n",
       "              (conv): Conv2d(128, 128, kernel_size=(1, 7), stride=(1, 1), padding=(0, 3), bias=False)\n",
       "              (bn): BatchNorm2d(128, eps=0.001, momentum=0.1, affine=True, track_running_stats=True)\n",
       "              (relu): ReLU()\n",
       "            )\n",
       "            (2): BasicConv2d(\n",
       "              (conv): Conv2d(128, 128, kernel_size=(7, 1), stride=(1, 1), padding=(3, 0), bias=False)\n",
       "              (bn): BatchNorm2d(128, eps=0.001, momentum=0.1, affine=True, track_running_stats=True)\n",
       "              (relu): ReLU()\n",
       "            )\n",
       "          )\n",
       "          (conv2d): Conv2d(256, 896, kernel_size=(1, 1), stride=(1, 1))\n",
       "          (relu): ReLU()\n",
       "        )\n",
       "        (8): Block17(\n",
       "          (branch0): BasicConv2d(\n",
       "            (conv): Conv2d(896, 128, kernel_size=(1, 1), stride=(1, 1), bias=False)\n",
       "            (bn): BatchNorm2d(128, eps=0.001, momentum=0.1, affine=True, track_running_stats=True)\n",
       "            (relu): ReLU()\n",
       "          )\n",
       "          (branch1): Sequential(\n",
       "            (0): BasicConv2d(\n",
       "              (conv): Conv2d(896, 128, kernel_size=(1, 1), stride=(1, 1), bias=False)\n",
       "              (bn): BatchNorm2d(128, eps=0.001, momentum=0.1, affine=True, track_running_stats=True)\n",
       "              (relu): ReLU()\n",
       "            )\n",
       "            (1): BasicConv2d(\n",
       "              (conv): Conv2d(128, 128, kernel_size=(1, 7), stride=(1, 1), padding=(0, 3), bias=False)\n",
       "              (bn): BatchNorm2d(128, eps=0.001, momentum=0.1, affine=True, track_running_stats=True)\n",
       "              (relu): ReLU()\n",
       "            )\n",
       "            (2): BasicConv2d(\n",
       "              (conv): Conv2d(128, 128, kernel_size=(7, 1), stride=(1, 1), padding=(3, 0), bias=False)\n",
       "              (bn): BatchNorm2d(128, eps=0.001, momentum=0.1, affine=True, track_running_stats=True)\n",
       "              (relu): ReLU()\n",
       "            )\n",
       "          )\n",
       "          (conv2d): Conv2d(256, 896, kernel_size=(1, 1), stride=(1, 1))\n",
       "          (relu): ReLU()\n",
       "        )\n",
       "        (9): Block17(\n",
       "          (branch0): BasicConv2d(\n",
       "            (conv): Conv2d(896, 128, kernel_size=(1, 1), stride=(1, 1), bias=False)\n",
       "            (bn): BatchNorm2d(128, eps=0.001, momentum=0.1, affine=True, track_running_stats=True)\n",
       "            (relu): ReLU()\n",
       "          )\n",
       "          (branch1): Sequential(\n",
       "            (0): BasicConv2d(\n",
       "              (conv): Conv2d(896, 128, kernel_size=(1, 1), stride=(1, 1), bias=False)\n",
       "              (bn): BatchNorm2d(128, eps=0.001, momentum=0.1, affine=True, track_running_stats=True)\n",
       "              (relu): ReLU()\n",
       "            )\n",
       "            (1): BasicConv2d(\n",
       "              (conv): Conv2d(128, 128, kernel_size=(1, 7), stride=(1, 1), padding=(0, 3), bias=False)\n",
       "              (bn): BatchNorm2d(128, eps=0.001, momentum=0.1, affine=True, track_running_stats=True)\n",
       "              (relu): ReLU()\n",
       "            )\n",
       "            (2): BasicConv2d(\n",
       "              (conv): Conv2d(128, 128, kernel_size=(7, 1), stride=(1, 1), padding=(3, 0), bias=False)\n",
       "              (bn): BatchNorm2d(128, eps=0.001, momentum=0.1, affine=True, track_running_stats=True)\n",
       "              (relu): ReLU()\n",
       "            )\n",
       "          )\n",
       "          (conv2d): Conv2d(256, 896, kernel_size=(1, 1), stride=(1, 1))\n",
       "          (relu): ReLU()\n",
       "        )\n",
       "      )\n",
       "      (10): Mixed_7a(\n",
       "        (branch0): Sequential(\n",
       "          (0): BasicConv2d(\n",
       "            (conv): Conv2d(896, 256, kernel_size=(1, 1), stride=(1, 1), bias=False)\n",
       "            (bn): BatchNorm2d(256, eps=0.001, momentum=0.1, affine=True, track_running_stats=True)\n",
       "            (relu): ReLU()\n",
       "          )\n",
       "          (1): BasicConv2d(\n",
       "            (conv): Conv2d(256, 384, kernel_size=(3, 3), stride=(2, 2), bias=False)\n",
       "            (bn): BatchNorm2d(384, eps=0.001, momentum=0.1, affine=True, track_running_stats=True)\n",
       "            (relu): ReLU()\n",
       "          )\n",
       "        )\n",
       "        (branch1): Sequential(\n",
       "          (0): BasicConv2d(\n",
       "            (conv): Conv2d(896, 256, kernel_size=(1, 1), stride=(1, 1), bias=False)\n",
       "            (bn): BatchNorm2d(256, eps=0.001, momentum=0.1, affine=True, track_running_stats=True)\n",
       "            (relu): ReLU()\n",
       "          )\n",
       "          (1): BasicConv2d(\n",
       "            (conv): Conv2d(256, 256, kernel_size=(3, 3), stride=(2, 2), bias=False)\n",
       "            (bn): BatchNorm2d(256, eps=0.001, momentum=0.1, affine=True, track_running_stats=True)\n",
       "            (relu): ReLU()\n",
       "          )\n",
       "        )\n",
       "        (branch2): Sequential(\n",
       "          (0): BasicConv2d(\n",
       "            (conv): Conv2d(896, 256, kernel_size=(1, 1), stride=(1, 1), bias=False)\n",
       "            (bn): BatchNorm2d(256, eps=0.001, momentum=0.1, affine=True, track_running_stats=True)\n",
       "            (relu): ReLU()\n",
       "          )\n",
       "          (1): BasicConv2d(\n",
       "            (conv): Conv2d(256, 256, kernel_size=(3, 3), stride=(1, 1), padding=(1, 1), bias=False)\n",
       "            (bn): BatchNorm2d(256, eps=0.001, momentum=0.1, affine=True, track_running_stats=True)\n",
       "            (relu): ReLU()\n",
       "          )\n",
       "          (2): BasicConv2d(\n",
       "            (conv): Conv2d(256, 256, kernel_size=(3, 3), stride=(2, 2), bias=False)\n",
       "            (bn): BatchNorm2d(256, eps=0.001, momentum=0.1, affine=True, track_running_stats=True)\n",
       "            (relu): ReLU()\n",
       "          )\n",
       "        )\n",
       "        (branch3): MaxPool2d(kernel_size=3, stride=2, padding=0, dilation=1, ceil_mode=False)\n",
       "      )\n",
       "      (11): Sequential(\n",
       "        (0): Block8(\n",
       "          (branch0): BasicConv2d(\n",
       "            (conv): Conv2d(1792, 192, kernel_size=(1, 1), stride=(1, 1), bias=False)\n",
       "            (bn): BatchNorm2d(192, eps=0.001, momentum=0.1, affine=True, track_running_stats=True)\n",
       "            (relu): ReLU()\n",
       "          )\n",
       "          (branch1): Sequential(\n",
       "            (0): BasicConv2d(\n",
       "              (conv): Conv2d(1792, 192, kernel_size=(1, 1), stride=(1, 1), bias=False)\n",
       "              (bn): BatchNorm2d(192, eps=0.001, momentum=0.1, affine=True, track_running_stats=True)\n",
       "              (relu): ReLU()\n",
       "            )\n",
       "            (1): BasicConv2d(\n",
       "              (conv): Conv2d(192, 192, kernel_size=(1, 3), stride=(1, 1), padding=(0, 1), bias=False)\n",
       "              (bn): BatchNorm2d(192, eps=0.001, momentum=0.1, affine=True, track_running_stats=True)\n",
       "              (relu): ReLU()\n",
       "            )\n",
       "            (2): BasicConv2d(\n",
       "              (conv): Conv2d(192, 192, kernel_size=(3, 1), stride=(1, 1), padding=(1, 0), bias=False)\n",
       "              (bn): BatchNorm2d(192, eps=0.001, momentum=0.1, affine=True, track_running_stats=True)\n",
       "              (relu): ReLU()\n",
       "            )\n",
       "          )\n",
       "          (conv2d): Conv2d(384, 1792, kernel_size=(1, 1), stride=(1, 1))\n",
       "          (relu): ReLU()\n",
       "        )\n",
       "        (1): Block8(\n",
       "          (branch0): BasicConv2d(\n",
       "            (conv): Conv2d(1792, 192, kernel_size=(1, 1), stride=(1, 1), bias=False)\n",
       "            (bn): BatchNorm2d(192, eps=0.001, momentum=0.1, affine=True, track_running_stats=True)\n",
       "            (relu): ReLU()\n",
       "          )\n",
       "          (branch1): Sequential(\n",
       "            (0): BasicConv2d(\n",
       "              (conv): Conv2d(1792, 192, kernel_size=(1, 1), stride=(1, 1), bias=False)\n",
       "              (bn): BatchNorm2d(192, eps=0.001, momentum=0.1, affine=True, track_running_stats=True)\n",
       "              (relu): ReLU()\n",
       "            )\n",
       "            (1): BasicConv2d(\n",
       "              (conv): Conv2d(192, 192, kernel_size=(1, 3), stride=(1, 1), padding=(0, 1), bias=False)\n",
       "              (bn): BatchNorm2d(192, eps=0.001, momentum=0.1, affine=True, track_running_stats=True)\n",
       "              (relu): ReLU()\n",
       "            )\n",
       "            (2): BasicConv2d(\n",
       "              (conv): Conv2d(192, 192, kernel_size=(3, 1), stride=(1, 1), padding=(1, 0), bias=False)\n",
       "              (bn): BatchNorm2d(192, eps=0.001, momentum=0.1, affine=True, track_running_stats=True)\n",
       "              (relu): ReLU()\n",
       "            )\n",
       "          )\n",
       "          (conv2d): Conv2d(384, 1792, kernel_size=(1, 1), stride=(1, 1))\n",
       "          (relu): ReLU()\n",
       "        )\n",
       "        (2): Block8(\n",
       "          (branch0): BasicConv2d(\n",
       "            (conv): Conv2d(1792, 192, kernel_size=(1, 1), stride=(1, 1), bias=False)\n",
       "            (bn): BatchNorm2d(192, eps=0.001, momentum=0.1, affine=True, track_running_stats=True)\n",
       "            (relu): ReLU()\n",
       "          )\n",
       "          (branch1): Sequential(\n",
       "            (0): BasicConv2d(\n",
       "              (conv): Conv2d(1792, 192, kernel_size=(1, 1), stride=(1, 1), bias=False)\n",
       "              (bn): BatchNorm2d(192, eps=0.001, momentum=0.1, affine=True, track_running_stats=True)\n",
       "              (relu): ReLU()\n",
       "            )\n",
       "            (1): BasicConv2d(\n",
       "              (conv): Conv2d(192, 192, kernel_size=(1, 3), stride=(1, 1), padding=(0, 1), bias=False)\n",
       "              (bn): BatchNorm2d(192, eps=0.001, momentum=0.1, affine=True, track_running_stats=True)\n",
       "              (relu): ReLU()\n",
       "            )\n",
       "            (2): BasicConv2d(\n",
       "              (conv): Conv2d(192, 192, kernel_size=(3, 1), stride=(1, 1), padding=(1, 0), bias=False)\n",
       "              (bn): BatchNorm2d(192, eps=0.001, momentum=0.1, affine=True, track_running_stats=True)\n",
       "              (relu): ReLU()\n",
       "            )\n",
       "          )\n",
       "          (conv2d): Conv2d(384, 1792, kernel_size=(1, 1), stride=(1, 1))\n",
       "          (relu): ReLU()\n",
       "        )\n",
       "        (3): Block8(\n",
       "          (branch0): BasicConv2d(\n",
       "            (conv): Conv2d(1792, 192, kernel_size=(1, 1), stride=(1, 1), bias=False)\n",
       "            (bn): BatchNorm2d(192, eps=0.001, momentum=0.1, affine=True, track_running_stats=True)\n",
       "            (relu): ReLU()\n",
       "          )\n",
       "          (branch1): Sequential(\n",
       "            (0): BasicConv2d(\n",
       "              (conv): Conv2d(1792, 192, kernel_size=(1, 1), stride=(1, 1), bias=False)\n",
       "              (bn): BatchNorm2d(192, eps=0.001, momentum=0.1, affine=True, track_running_stats=True)\n",
       "              (relu): ReLU()\n",
       "            )\n",
       "            (1): BasicConv2d(\n",
       "              (conv): Conv2d(192, 192, kernel_size=(1, 3), stride=(1, 1), padding=(0, 1), bias=False)\n",
       "              (bn): BatchNorm2d(192, eps=0.001, momentum=0.1, affine=True, track_running_stats=True)\n",
       "              (relu): ReLU()\n",
       "            )\n",
       "            (2): BasicConv2d(\n",
       "              (conv): Conv2d(192, 192, kernel_size=(3, 1), stride=(1, 1), padding=(1, 0), bias=False)\n",
       "              (bn): BatchNorm2d(192, eps=0.001, momentum=0.1, affine=True, track_running_stats=True)\n",
       "              (relu): ReLU()\n",
       "            )\n",
       "          )\n",
       "          (conv2d): Conv2d(384, 1792, kernel_size=(1, 1), stride=(1, 1))\n",
       "          (relu): ReLU()\n",
       "        )\n",
       "        (4): Block8(\n",
       "          (branch0): BasicConv2d(\n",
       "            (conv): Conv2d(1792, 192, kernel_size=(1, 1), stride=(1, 1), bias=False)\n",
       "            (bn): BatchNorm2d(192, eps=0.001, momentum=0.1, affine=True, track_running_stats=True)\n",
       "            (relu): ReLU()\n",
       "          )\n",
       "          (branch1): Sequential(\n",
       "            (0): BasicConv2d(\n",
       "              (conv): Conv2d(1792, 192, kernel_size=(1, 1), stride=(1, 1), bias=False)\n",
       "              (bn): BatchNorm2d(192, eps=0.001, momentum=0.1, affine=True, track_running_stats=True)\n",
       "              (relu): ReLU()\n",
       "            )\n",
       "            (1): BasicConv2d(\n",
       "              (conv): Conv2d(192, 192, kernel_size=(1, 3), stride=(1, 1), padding=(0, 1), bias=False)\n",
       "              (bn): BatchNorm2d(192, eps=0.001, momentum=0.1, affine=True, track_running_stats=True)\n",
       "              (relu): ReLU()\n",
       "            )\n",
       "            (2): BasicConv2d(\n",
       "              (conv): Conv2d(192, 192, kernel_size=(3, 1), stride=(1, 1), padding=(1, 0), bias=False)\n",
       "              (bn): BatchNorm2d(192, eps=0.001, momentum=0.1, affine=True, track_running_stats=True)\n",
       "              (relu): ReLU()\n",
       "            )\n",
       "          )\n",
       "          (conv2d): Conv2d(384, 1792, kernel_size=(1, 1), stride=(1, 1))\n",
       "          (relu): ReLU()\n",
       "        )\n",
       "      )\n",
       "      (12): Block8(\n",
       "        (branch0): BasicConv2d(\n",
       "          (conv): Conv2d(1792, 192, kernel_size=(1, 1), stride=(1, 1), bias=False)\n",
       "          (bn): BatchNorm2d(192, eps=0.001, momentum=0.1, affine=True, track_running_stats=True)\n",
       "          (relu): ReLU()\n",
       "        )\n",
       "        (branch1): Sequential(\n",
       "          (0): BasicConv2d(\n",
       "            (conv): Conv2d(1792, 192, kernel_size=(1, 1), stride=(1, 1), bias=False)\n",
       "            (bn): BatchNorm2d(192, eps=0.001, momentum=0.1, affine=True, track_running_stats=True)\n",
       "            (relu): ReLU()\n",
       "          )\n",
       "          (1): BasicConv2d(\n",
       "            (conv): Conv2d(192, 192, kernel_size=(1, 3), stride=(1, 1), padding=(0, 1), bias=False)\n",
       "            (bn): BatchNorm2d(192, eps=0.001, momentum=0.1, affine=True, track_running_stats=True)\n",
       "            (relu): ReLU()\n",
       "          )\n",
       "          (2): BasicConv2d(\n",
       "            (conv): Conv2d(192, 192, kernel_size=(3, 1), stride=(1, 1), padding=(1, 0), bias=False)\n",
       "            (bn): BatchNorm2d(192, eps=0.001, momentum=0.1, affine=True, track_running_stats=True)\n",
       "            (relu): ReLU()\n",
       "          )\n",
       "        )\n",
       "        (conv2d): Conv2d(384, 1792, kernel_size=(1, 1), stride=(1, 1))\n",
       "      )\n",
       "      (13): AdaptiveAvgPool2d(output_size=1)\n",
       "    )\n",
       "    (disc1): Sequential(\n",
       "      (0): Flatten()\n",
       "      (1): Dropout(p=0.6, inplace=False)\n",
       "      (2): Linear(in_features=1792, out_features=512, bias=False)\n",
       "      (3): BatchNorm1d(512, eps=0.001, momentum=0.1, affine=True, track_running_stats=True)\n",
       "    )\n",
       "    (disc2): ReLU()\n",
       "    (disc3): Dropout(p=0.5, inplace=False)\n",
       "    (disc4): Linear(in_features=512, out_features=1, bias=True)\n",
       "    (encoder_layer): TransformerEncoderLayer(\n",
       "      (self_attn): MultiheadAttention(\n",
       "        (out_proj): _LinearWithBias(in_features=1792, out_features=1792, bias=True)\n",
       "      )\n",
       "      (linear1): Linear(in_features=1792, out_features=2048, bias=True)\n",
       "      (dropout): Dropout(p=0.1, inplace=False)\n",
       "      (linear2): Linear(in_features=2048, out_features=1792, bias=True)\n",
       "      (norm1): LayerNorm((1792,), eps=1e-05, elementwise_affine=True)\n",
       "      (norm2): LayerNorm((1792,), eps=1e-05, elementwise_affine=True)\n",
       "      (dropout1): Dropout(p=0.1, inplace=False)\n",
       "      (dropout2): Dropout(p=0.1, inplace=False)\n",
       "    )\n",
       "    (transformer_encoder): TransformerEncoder(\n",
       "      (layers): ModuleList(\n",
       "        (0): TransformerEncoderLayer(\n",
       "          (self_attn): MultiheadAttention(\n",
       "            (out_proj): _LinearWithBias(in_features=1792, out_features=1792, bias=True)\n",
       "          )\n",
       "          (linear1): Linear(in_features=1792, out_features=2048, bias=True)\n",
       "          (dropout): Dropout(p=0.1, inplace=False)\n",
       "          (linear2): Linear(in_features=2048, out_features=1792, bias=True)\n",
       "          (norm1): LayerNorm((1792,), eps=1e-05, elementwise_affine=True)\n",
       "          (norm2): LayerNorm((1792,), eps=1e-05, elementwise_affine=True)\n",
       "          (dropout1): Dropout(p=0.1, inplace=False)\n",
       "          (dropout2): Dropout(p=0.1, inplace=False)\n",
       "        )\n",
       "        (1): TransformerEncoderLayer(\n",
       "          (self_attn): MultiheadAttention(\n",
       "            (out_proj): _LinearWithBias(in_features=1792, out_features=1792, bias=True)\n",
       "          )\n",
       "          (linear1): Linear(in_features=1792, out_features=2048, bias=True)\n",
       "          (dropout): Dropout(p=0.1, inplace=False)\n",
       "          (linear2): Linear(in_features=2048, out_features=1792, bias=True)\n",
       "          (norm1): LayerNorm((1792,), eps=1e-05, elementwise_affine=True)\n",
       "          (norm2): LayerNorm((1792,), eps=1e-05, elementwise_affine=True)\n",
       "          (dropout1): Dropout(p=0.1, inplace=False)\n",
       "          (dropout2): Dropout(p=0.1, inplace=False)\n",
       "        )\n",
       "        (2): TransformerEncoderLayer(\n",
       "          (self_attn): MultiheadAttention(\n",
       "            (out_proj): _LinearWithBias(in_features=1792, out_features=1792, bias=True)\n",
       "          )\n",
       "          (linear1): Linear(in_features=1792, out_features=2048, bias=True)\n",
       "          (dropout): Dropout(p=0.1, inplace=False)\n",
       "          (linear2): Linear(in_features=2048, out_features=1792, bias=True)\n",
       "          (norm1): LayerNorm((1792,), eps=1e-05, elementwise_affine=True)\n",
       "          (norm2): LayerNorm((1792,), eps=1e-05, elementwise_affine=True)\n",
       "          (dropout1): Dropout(p=0.1, inplace=False)\n",
       "          (dropout2): Dropout(p=0.1, inplace=False)\n",
       "        )\n",
       "        (3): TransformerEncoderLayer(\n",
       "          (self_attn): MultiheadAttention(\n",
       "            (out_proj): _LinearWithBias(in_features=1792, out_features=1792, bias=True)\n",
       "          )\n",
       "          (linear1): Linear(in_features=1792, out_features=2048, bias=True)\n",
       "          (dropout): Dropout(p=0.1, inplace=False)\n",
       "          (linear2): Linear(in_features=2048, out_features=1792, bias=True)\n",
       "          (norm1): LayerNorm((1792,), eps=1e-05, elementwise_affine=True)\n",
       "          (norm2): LayerNorm((1792,), eps=1e-05, elementwise_affine=True)\n",
       "          (dropout1): Dropout(p=0.1, inplace=False)\n",
       "          (dropout2): Dropout(p=0.1, inplace=False)\n",
       "        )\n",
       "      )\n",
       "    )\n",
       "    (fc): Linear(in_features=1792, out_features=5, bias=True)\n",
       "    (relu): ReLU()\n",
       "  )\n",
       ")"
      ]
     },
     "execution_count": 10,
     "metadata": {},
     "output_type": "execute_result"
    }
   ],
   "source": [
    "model = Encoder2DTransformer('./model/facenet/model.pt')\n",
    "#model = Encoder2DTransformer()\n",
    "model = nn.DataParallel(model)\n",
    "model.to(device)\n",
    "#if args.freeze_first_epoch:\n",
    "#for m in model.resnet.parameters():\n",
    "#    m.requires_grad_(False)"
   ]
  },
  {
   "cell_type": "code",
   "execution_count": 11,
   "metadata": {},
   "outputs": [
    {
     "name": "stdout",
     "output_type": "stream",
     "text": [
      "input shape torch.Size([64, 3, 11, 160, 160])\n",
      "model params (trainable, total): (124508422, 124508422)\n"
     ]
    }
   ],
   "source": [
    "input_shape = next(iter(train_loader))[2].shape\n",
    "print('input shape', input_shape)\n",
    "# need to call this before summary!!!\n",
    "model.eval()\n",
    "# summary(model, input_shape[1:], batch_size=input_shape[0], device=device)\n",
    "print('model params (trainable, total):', count_parameters(model))"
   ]
  },
  {
   "cell_type": "code",
   "execution_count": 12,
   "metadata": {},
   "outputs": [],
   "source": [
    "criterion = nn.CrossEntropyLoss(weight = torch.Tensor([0.8, 0.5, 0.5, 0.5, 0.5]).to(device)) \n",
    "criterion_side = nn.BCEWithLogitsLoss()\n",
    "optimizer = torch.optim.Adam(\n",
    "    model.parameters(), lr=1e-5, weight_decay=1e-3\n",
    ")\n",
    "\n",
    "# decrease learning rate if validation accuracy has not increased\n",
    "lr_scheduler = torch.optim.lr_scheduler.ReduceLROnPlateau(\n",
    "    optimizer, mode='max', factor=1/4, patience=2, verbose=True,\n",
    ")"
   ]
  },
  {
   "cell_type": "code",
   "execution_count": 13,
   "metadata": {},
   "outputs": [],
   "source": [
    "def save_model_checkpoint(epoch, model, val_acc):\n",
    "    \n",
    "    model_dir = os.path.join('./model', 'enctrf2loss')\n",
    "    os.makedirs(model_dir, exist_ok=True)\n",
    "\n",
    "    model_path = os.path.join(model_dir, f'model.pt')\n",
    "    torch.save(model.state_dict(), model_path)\n",
    "\n",
    "    model_info = {\n",
    "        'epoch': epoch,\n",
    "        'val_acc': val_acc[0],\n",
    "        'model_str': str(model)\n",
    "    }\n",
    "    json_path = os.path.join(model_dir, 'info.json')\n",
    "    write_json(model_info, json_path)\n",
    "\n",
    "    #src_model_file = os.path.join('facenet', 'model.py')\n",
    "    #dest_model_file = os.path.join(model_dir, 'model.py')\n",
    "    #copy_file(src_model_file, dest_model_file)\n",
    "\n",
    "    tqdm.write(f'New checkpoint saved at {model_path}')\n",
    "\n",
    "\n",
    "def print_training_info(batch_accuracy, loss, step):\n",
    "    log_info = 'Training - Loss: {:.4f}, Accuracy: {:.4f}'.format(loss.item(), batch_accuracy)\n",
    "    tqdm.write(log_info)\n",
    "\n",
    "    #writer.add_scalar('training loss', loss.item(), step)\n",
    "    #writer.add_scalar('training acc', batch_accuracy, step)\n",
    "\n",
    "\n",
    "def print_validation_info(criterion, device, model, val_loader, epoch, step):\n",
    "    model.eval()\n",
    "    with torch.no_grad():\n",
    "        loss_values = []\n",
    "        all_predictions = []\n",
    "        all_targets = []\n",
    "        targets = []\n",
    "        outputs = []\n",
    "        for video_ids, frame_ids, images, target in val_loader:\n",
    "            images = images.to(device)\n",
    "            target = target.to(device)\n",
    "            target = target.long()\n",
    "            output, _ = model(images)\n",
    "            loss = criterion(output, target)\n",
    "            loss_values.append(loss.item())\n",
    "            targets.append(target)\n",
    "            outputs.append(output)\n",
    "            #predictions = outputs > 0.0\n",
    "            #all_predictions.append(predictions)\n",
    "            #all_targets.append(targets)\n",
    "            #if args.debug:\n",
    "            #    tqdm.write(outputs)\n",
    "            #    tqdm.write(predictions)\n",
    "            #    tqdm.write(targets)\n",
    "        \n",
    "        val_loss = sum(loss_values) / len(loss_values)\n",
    "        \n",
    "        outputs = torch.cat(outputs, 0)\n",
    "        targets = torch.cat(targets, 0)\n",
    "        \n",
    "        val_accuracy = float((outputs.argmax(1)).eq(targets).sum()) / len(targets)\n",
    "        \n",
    "        total_target = targets.unique(return_counts=True)[1]\n",
    "        pristine = ((outputs.argmax(1) == 0) * (targets == 0)).sum() / total_target[0]\n",
    "        face2face = ((outputs.argmax(1) == 1) * (targets == 1)).sum() / total_target[1]\n",
    "        faceswap = ((outputs.argmax(1) == 2) * (targets == 2)).sum() / total_target[2]\n",
    "        neural = ((outputs.argmax(1) == 3) * (targets == 3)).sum() / total_target[3]\n",
    "        deepfake = ((outputs.argmax(1) == 4) * (targets == 4)).sum() / total_target[4]\n",
    "        \n",
    "        tqdm.write(\n",
    "            'Validation - Loss: {:.3f}, Acc: {:.3f}, Pr: {:.3f}, Ff: {:.3f}, Fs: {:.3f}, Nt: {:.3f}, Df: {:.3f}'.format(\n",
    "                val_loss, val_accuracy, pristine, face2face, faceswap, neural, deepfake\n",
    "            )\n",
    "        )\n",
    "        \n",
    "    return val_accuracy, pristine, face2face, faceswap, neural, deepfake"
   ]
  },
  {
   "cell_type": "code",
   "execution_count": 14,
   "metadata": {},
   "outputs": [
    {
     "name": "stderr",
     "output_type": "stream",
     "text": [
      "training epoch 0:  30%|███       | 299/989 [04:22<09:17,  1.24it/s]"
     ]
    },
    {
     "name": "stdout",
     "output_type": "stream",
     "text": [
      "Training - Loss: 0.1163, Accuracy: 0.9688\n"
     ]
    },
    {
     "name": "stderr",
     "output_type": "stream",
     "text": [
      "training epoch 0:  30%|███       | 299/989 [06:13<09:17,  1.24it/s]"
     ]
    },
    {
     "name": "stdout",
     "output_type": "stream",
     "text": [
      "Validation - Loss: 0.718, Acc: 0.791, Pr: 0.900, Ff: 0.787, Fs: 0.913, Nt: 0.504, Df: 0.851\n"
     ]
    },
    {
     "name": "stderr",
     "output_type": "stream",
     "text": [
      "training epoch 0:  30%|███       | 300/989 [06:21<6:59:15, 36.51s/it]"
     ]
    },
    {
     "name": "stdout",
     "output_type": "stream",
     "text": [
      "New checkpoint saved at ./model/enctrf2loss/model.pt\n"
     ]
    },
    {
     "name": "stderr",
     "output_type": "stream",
     "text": [
      "training epoch 0:  61%|██████    | 599/989 [10:30<05:58,  1.09it/s]  "
     ]
    },
    {
     "name": "stdout",
     "output_type": "stream",
     "text": [
      "Training - Loss: 0.0701, Accuracy: 0.9688\n"
     ]
    },
    {
     "name": "stderr",
     "output_type": "stream",
     "text": [
      "training epoch 0:  61%|██████    | 599/989 [12:17<05:58,  1.09it/s]"
     ]
    },
    {
     "name": "stdout",
     "output_type": "stream",
     "text": [
      "Validation - Loss: 0.713, Acc: 0.801, Pr: 0.823, Ff: 0.844, Fs: 0.786, Nt: 0.628, Df: 0.922\n"
     ]
    },
    {
     "name": "stderr",
     "output_type": "stream",
     "text": [
      "training epoch 0:  61%|██████    | 600/989 [12:24<3:46:13, 34.89s/it]"
     ]
    },
    {
     "name": "stdout",
     "output_type": "stream",
     "text": [
      "New checkpoint saved at ./model/enctrf2loss/model.pt\n"
     ]
    },
    {
     "name": "stderr",
     "output_type": "stream",
     "text": [
      "training epoch 0:  91%|█████████ | 899/989 [16:32<01:11,  1.26it/s]  "
     ]
    },
    {
     "name": "stdout",
     "output_type": "stream",
     "text": [
      "Training - Loss: 0.1570, Accuracy: 0.9688\n"
     ]
    },
    {
     "name": "stderr",
     "output_type": "stream",
     "text": [
      "training epoch 0:  91%|█████████ | 899/989 [18:18<01:11,  1.26it/s]"
     ]
    },
    {
     "name": "stdout",
     "output_type": "stream",
     "text": [
      "Validation - Loss: 0.757, Acc: 0.814, Pr: 0.612, Ff: 0.873, Fs: 0.922, Nt: 0.738, Df: 0.926\n"
     ]
    },
    {
     "name": "stderr",
     "output_type": "stream",
     "text": [
      "training epoch 0:  91%|█████████ | 900/989 [18:24<50:56, 34.34s/it]"
     ]
    },
    {
     "name": "stdout",
     "output_type": "stream",
     "text": [
      "New checkpoint saved at ./model/enctrf2loss/model.pt\n"
     ]
    },
    {
     "name": "stderr",
     "output_type": "stream",
     "text": [
      "training epoch 0: 100%|██████████| 989/989 [19:37<00:00,  1.19s/it]\n"
     ]
    },
    {
     "name": "stdout",
     "output_type": "stream",
     "text": [
      "Validation - Loss: 0.722, Acc: 0.813, Pr: 0.707, Ff: 0.924, Fs: 0.902, Nt: 0.629, Df: 0.902\n"
     ]
    },
    {
     "name": "stderr",
     "output_type": "stream",
     "text": [
      "training epoch 1:  30%|███       | 299/989 [04:28<10:21,  1.11it/s]"
     ]
    },
    {
     "name": "stdout",
     "output_type": "stream",
     "text": [
      "Training - Loss: 0.1134, Accuracy: 0.9375\n"
     ]
    },
    {
     "name": "stderr",
     "output_type": "stream",
     "text": [
      "training epoch 1:  30%|███       | 299/989 [06:21<10:21,  1.11it/s]"
     ]
    },
    {
     "name": "stdout",
     "output_type": "stream",
     "text": [
      "Validation - Loss: 0.793, Acc: 0.821, Pr: 0.645, Ff: 0.846, Fs: 0.932, Nt: 0.759, Df: 0.923\n"
     ]
    },
    {
     "name": "stderr",
     "output_type": "stream",
     "text": [
      "training epoch 1:  30%|███       | 300/989 [06:27<7:01:58, 36.75s/it]"
     ]
    },
    {
     "name": "stdout",
     "output_type": "stream",
     "text": [
      "New checkpoint saved at ./model/enctrf2loss/model.pt\n"
     ]
    },
    {
     "name": "stderr",
     "output_type": "stream",
     "text": [
      "training epoch 1:  61%|██████    | 599/989 [10:49<05:37,  1.16it/s]  "
     ]
    },
    {
     "name": "stdout",
     "output_type": "stream",
     "text": [
      "Training - Loss: 0.0207, Accuracy: 1.0000\n"
     ]
    },
    {
     "name": "stderr",
     "output_type": "stream",
     "text": [
      "training epoch 1:  61%|██████    | 600/989 [12:39<3:40:16, 33.98s/it]"
     ]
    },
    {
     "name": "stdout",
     "output_type": "stream",
     "text": [
      "Validation - Loss: 0.759, Acc: 0.816, Pr: 0.806, Ff: 0.886, Fs: 0.913, Nt: 0.525, Df: 0.947\n"
     ]
    },
    {
     "name": "stderr",
     "output_type": "stream",
     "text": [
      "training epoch 1:  91%|█████████ | 899/989 [17:00<01:25,  1.06it/s]  "
     ]
    },
    {
     "name": "stdout",
     "output_type": "stream",
     "text": [
      "Training - Loss: 0.0872, Accuracy: 0.9688\n"
     ]
    },
    {
     "name": "stderr",
     "output_type": "stream",
     "text": [
      "training epoch 1:  91%|█████████ | 899/989 [18:54<01:25,  1.06it/s]"
     ]
    },
    {
     "name": "stdout",
     "output_type": "stream",
     "text": [
      "Validation - Loss: 0.688, Acc: 0.833, Pr: 0.774, Ff: 0.839, Fs: 0.902, Nt: 0.740, Df: 0.909\n"
     ]
    },
    {
     "name": "stderr",
     "output_type": "stream",
     "text": [
      "training epoch 1:  91%|█████████ | 900/989 [19:00<54:33, 36.78s/it]"
     ]
    },
    {
     "name": "stdout",
     "output_type": "stream",
     "text": [
      "New checkpoint saved at ./model/enctrf2loss/model.pt\n"
     ]
    },
    {
     "name": "stderr",
     "output_type": "stream",
     "text": [
      "training epoch 1: 100%|██████████| 989/989 [20:14<00:00,  1.23s/it]\n"
     ]
    },
    {
     "name": "stdout",
     "output_type": "stream",
     "text": [
      "Validation - Loss: 0.815, Acc: 0.816, Pr: 0.711, Ff: 0.912, Fs: 0.862, Nt: 0.722, Df: 0.874\n"
     ]
    },
    {
     "name": "stderr",
     "output_type": "stream",
     "text": [
      "training epoch 2:  30%|███       | 299/989 [04:31<10:49,  1.06it/s]"
     ]
    },
    {
     "name": "stdout",
     "output_type": "stream",
     "text": [
      "Training - Loss: 0.0029, Accuracy: 1.0000\n"
     ]
    },
    {
     "name": "stderr",
     "output_type": "stream",
     "text": [
      "training epoch 2:  30%|███       | 300/989 [06:20<6:25:28, 33.57s/it]"
     ]
    },
    {
     "name": "stdout",
     "output_type": "stream",
     "text": [
      "Validation - Loss: 0.762, Acc: 0.831, Pr: 0.717, Ff: 0.885, Fs: 0.932, Nt: 0.740, Df: 0.881\n"
     ]
    },
    {
     "name": "stderr",
     "output_type": "stream",
     "text": [
      "training epoch 2:  61%|██████    | 599/989 [10:49<05:33,  1.17it/s]  "
     ]
    },
    {
     "name": "stdout",
     "output_type": "stream",
     "text": [
      "Training - Loss: 0.0100, Accuracy: 1.0000\n"
     ]
    },
    {
     "name": "stderr",
     "output_type": "stream",
     "text": [
      "training epoch 2:  61%|██████    | 599/989 [12:40<05:33,  1.17it/s]"
     ]
    },
    {
     "name": "stdout",
     "output_type": "stream",
     "text": [
      "Validation - Loss: 0.694, Acc: 0.843, Pr: 0.697, Ff: 0.846, Fs: 0.953, Nt: 0.808, Df: 0.911\n"
     ]
    },
    {
     "name": "stderr",
     "output_type": "stream",
     "text": [
      "training epoch 2:  61%|██████    | 600/989 [12:46<3:55:27, 36.32s/it]"
     ]
    },
    {
     "name": "stdout",
     "output_type": "stream",
     "text": [
      "New checkpoint saved at ./model/enctrf2loss/model.pt\n"
     ]
    },
    {
     "name": "stderr",
     "output_type": "stream",
     "text": [
      "training epoch 2:  91%|█████████ | 899/989 [17:13<01:25,  1.05it/s]  "
     ]
    },
    {
     "name": "stdout",
     "output_type": "stream",
     "text": [
      "Training - Loss: 0.0723, Accuracy: 0.9844\n"
     ]
    },
    {
     "name": "stderr",
     "output_type": "stream",
     "text": [
      "training epoch 2:  91%|█████████ | 900/989 [19:00<48:50, 32.93s/it]"
     ]
    },
    {
     "name": "stdout",
     "output_type": "stream",
     "text": [
      "Validation - Loss: 0.709, Acc: 0.837, Pr: 0.713, Ff: 0.827, Fs: 0.953, Nt: 0.742, Df: 0.947\n"
     ]
    },
    {
     "name": "stderr",
     "output_type": "stream",
     "text": [
      "training epoch 2: 100%|██████████| 989/989 [20:19<00:00,  1.23s/it]\n"
     ]
    },
    {
     "name": "stdout",
     "output_type": "stream",
     "text": [
      "Validation - Loss: 0.855, Acc: 0.820, Pr: 0.675, Ff: 0.936, Fs: 0.966, Nt: 0.602, Df: 0.919\n"
     ]
    },
    {
     "name": "stderr",
     "output_type": "stream",
     "text": [
      "training epoch 3:  30%|███       | 299/989 [04:31<10:43,  1.07it/s]"
     ]
    },
    {
     "name": "stdout",
     "output_type": "stream",
     "text": [
      "Training - Loss: 0.0016, Accuracy: 1.0000\n"
     ]
    },
    {
     "name": "stderr",
     "output_type": "stream",
     "text": [
      "training epoch 3:  30%|███       | 300/989 [06:24<6:37:31, 34.62s/it]"
     ]
    },
    {
     "name": "stdout",
     "output_type": "stream",
     "text": [
      "Validation - Loss: 0.738, Acc: 0.842, Pr: 0.719, Ff: 0.917, Fs: 0.933, Nt: 0.717, Df: 0.926\n"
     ]
    },
    {
     "name": "stderr",
     "output_type": "stream",
     "text": [
      "training epoch 3:  61%|██████    | 599/989 [10:49<05:49,  1.12it/s]  "
     ]
    },
    {
     "name": "stdout",
     "output_type": "stream",
     "text": [
      "Training - Loss: 0.0369, Accuracy: 0.9844\n"
     ]
    },
    {
     "name": "stderr",
     "output_type": "stream",
     "text": [
      "training epoch 3:  61%|██████    | 599/989 [12:40<05:49,  1.12it/s]"
     ]
    },
    {
     "name": "stdout",
     "output_type": "stream",
     "text": [
      "Validation - Loss: 0.693, Acc: 0.846, Pr: 0.757, Ff: 0.829, Fs: 0.942, Nt: 0.746, Df: 0.954\n"
     ]
    },
    {
     "name": "stderr",
     "output_type": "stream",
     "text": [
      "training epoch 3:  61%|██████    | 600/989 [12:46<3:53:44, 36.05s/it]"
     ]
    },
    {
     "name": "stdout",
     "output_type": "stream",
     "text": [
      "New checkpoint saved at ./model/enctrf2loss/model.pt\n"
     ]
    },
    {
     "name": "stderr",
     "output_type": "stream",
     "text": [
      "training epoch 3:  91%|█████████ | 899/989 [17:12<01:16,  1.18it/s]  "
     ]
    },
    {
     "name": "stdout",
     "output_type": "stream",
     "text": [
      "Training - Loss: 0.0758, Accuracy: 0.9688\n"
     ]
    },
    {
     "name": "stderr",
     "output_type": "stream",
     "text": [
      "training epoch 3:  91%|█████████ | 899/989 [19:06<01:16,  1.18it/s]"
     ]
    },
    {
     "name": "stdout",
     "output_type": "stream",
     "text": [
      "Validation - Loss: 0.671, Acc: 0.852, Pr: 0.775, Ff: 0.898, Fs: 0.959, Nt: 0.706, Df: 0.924\n"
     ]
    },
    {
     "name": "stderr",
     "output_type": "stream",
     "text": [
      "training epoch 3:  91%|█████████ | 900/989 [19:12<54:50, 36.97s/it]"
     ]
    },
    {
     "name": "stdout",
     "output_type": "stream",
     "text": [
      "New checkpoint saved at ./model/enctrf2loss/model.pt\n"
     ]
    },
    {
     "name": "stderr",
     "output_type": "stream",
     "text": [
      "training epoch 3: 100%|██████████| 989/989 [20:29<00:00,  1.24s/it]\n"
     ]
    },
    {
     "name": "stdout",
     "output_type": "stream",
     "text": [
      "Validation - Loss: 0.838, Acc: 0.837, Pr: 0.729, Ff: 0.931, Fs: 0.927, Nt: 0.705, Df: 0.892\n"
     ]
    },
    {
     "name": "stderr",
     "output_type": "stream",
     "text": [
      "training epoch 4:  30%|███       | 299/989 [04:22<09:21,  1.23it/s]"
     ]
    },
    {
     "name": "stdout",
     "output_type": "stream",
     "text": [
      "Training - Loss: 0.0077, Accuracy: 1.0000\n"
     ]
    },
    {
     "name": "stderr",
     "output_type": "stream",
     "text": [
      "training epoch 4:  30%|███       | 300/989 [06:16<6:42:24, 35.04s/it]"
     ]
    },
    {
     "name": "stdout",
     "output_type": "stream",
     "text": [
      "Validation - Loss: 0.755, Acc: 0.843, Pr: 0.725, Ff: 0.853, Fs: 0.934, Nt: 0.809, Df: 0.892\n"
     ]
    },
    {
     "name": "stderr",
     "output_type": "stream",
     "text": [
      "training epoch 4:  61%|██████    | 599/989 [10:33<05:08,  1.26it/s]  "
     ]
    },
    {
     "name": "stdout",
     "output_type": "stream",
     "text": [
      "Training - Loss: 0.0207, Accuracy: 0.9844\n"
     ]
    },
    {
     "name": "stderr",
     "output_type": "stream",
     "text": [
      "training epoch 4:  61%|██████    | 600/989 [12:26<3:45:53, 34.84s/it]"
     ]
    },
    {
     "name": "stdout",
     "output_type": "stream",
     "text": [
      "Validation - Loss: 0.792, Acc: 0.843, Pr: 0.702, Ff: 0.893, Fs: 0.957, Nt: 0.756, Df: 0.907\n"
     ]
    },
    {
     "name": "stderr",
     "output_type": "stream",
     "text": [
      "training epoch 4:  91%|█████████ | 899/989 [16:49<01:24,  1.06it/s]  "
     ]
    },
    {
     "name": "stdout",
     "output_type": "stream",
     "text": [
      "Training - Loss: 0.0036, Accuracy: 1.0000\n"
     ]
    },
    {
     "name": "stderr",
     "output_type": "stream",
     "text": [
      "training epoch 4:  91%|█████████ | 900/989 [18:43<51:38, 34.81s/it]"
     ]
    },
    {
     "name": "stdout",
     "output_type": "stream",
     "text": [
      "Validation - Loss: 0.787, Acc: 0.839, Pr: 0.701, Ff: 0.883, Fs: 0.965, Nt: 0.786, Df: 0.860\n"
     ]
    },
    {
     "name": "stderr",
     "output_type": "stream",
     "text": [
      "training epoch 4: 100%|██████████| 989/989 [19:59<00:00,  1.21s/it]\n"
     ]
    },
    {
     "name": "stdout",
     "output_type": "stream",
     "text": [
      "Validation - Loss: 0.885, Acc: 0.820, Pr: 0.671, Ff: 0.946, Fs: 0.930, Nt: 0.647, Df: 0.905\n"
     ]
    },
    {
     "name": "stderr",
     "output_type": "stream",
     "text": [
      "training epoch 5:  30%|███       | 299/989 [04:25<10:48,  1.06it/s]"
     ]
    },
    {
     "name": "stdout",
     "output_type": "stream",
     "text": [
      "Training - Loss: 0.0088, Accuracy: 1.0000\n"
     ]
    },
    {
     "name": "stderr",
     "output_type": "stream",
     "text": [
      "training epoch 5:  30%|███       | 300/989 [06:12<6:18:22, 32.95s/it]"
     ]
    },
    {
     "name": "stdout",
     "output_type": "stream",
     "text": [
      "Validation - Loss: 0.689, Acc: 0.846, Pr: 0.717, Ff: 0.883, Fs: 0.946, Nt: 0.739, Df: 0.945\n"
     ]
    },
    {
     "name": "stderr",
     "output_type": "stream",
     "text": [
      "training epoch 5:  61%|██████    | 599/989 [10:31<05:34,  1.16it/s]  "
     ]
    },
    {
     "name": "stdout",
     "output_type": "stream",
     "text": [
      "Training - Loss: 0.0017, Accuracy: 1.0000\n"
     ]
    },
    {
     "name": "stderr",
     "output_type": "stream",
     "text": [
      "training epoch 5:  61%|██████    | 600/989 [12:22<3:40:20, 33.98s/it]"
     ]
    },
    {
     "name": "stdout",
     "output_type": "stream",
     "text": [
      "Validation - Loss: 0.730, Acc: 0.845, Pr: 0.731, Ff: 0.888, Fs: 0.932, Nt: 0.761, Df: 0.913\n"
     ]
    },
    {
     "name": "stderr",
     "output_type": "stream",
     "text": [
      "training epoch 5:  91%|█████████ | 899/989 [16:42<01:25,  1.06it/s]  "
     ]
    },
    {
     "name": "stdout",
     "output_type": "stream",
     "text": [
      "Training - Loss: 0.0029, Accuracy: 1.0000\n"
     ]
    },
    {
     "name": "stderr",
     "output_type": "stream",
     "text": [
      "training epoch 5:  91%|█████████ | 900/989 [18:37<52:27, 35.36s/it]"
     ]
    },
    {
     "name": "stdout",
     "output_type": "stream",
     "text": [
      "Validation - Loss: 0.903, Acc: 0.822, Pr: 0.641, Ff: 0.878, Fs: 0.946, Nt: 0.828, Df: 0.815\n"
     ]
    },
    {
     "name": "stderr",
     "output_type": "stream",
     "text": [
      "training epoch 5: 100%|██████████| 989/989 [19:54<00:00,  1.21s/it]\n"
     ]
    },
    {
     "name": "stdout",
     "output_type": "stream",
     "text": [
      "Validation - Loss: 0.761, Acc: 0.840, Pr: 0.714, Ff: 0.909, Fs: 0.945, Nt: 0.730, Df: 0.904\n"
     ]
    },
    {
     "name": "stderr",
     "output_type": "stream",
     "text": [
      "training epoch 6:  30%|███       | 299/989 [04:36<11:23,  1.01it/s]"
     ]
    },
    {
     "name": "stdout",
     "output_type": "stream",
     "text": [
      "Training - Loss: 0.0373, Accuracy: 0.9844\n"
     ]
    },
    {
     "name": "stderr",
     "output_type": "stream",
     "text": [
      "training epoch 6:  30%|███       | 300/989 [06:28<6:37:48, 34.64s/it]"
     ]
    },
    {
     "name": "stdout",
     "output_type": "stream",
     "text": [
      "Validation - Loss: 0.698, Acc: 0.841, Pr: 0.805, Ff: 0.871, Fs: 0.892, Nt: 0.682, Df: 0.953\n"
     ]
    },
    {
     "name": "stderr",
     "output_type": "stream",
     "text": [
      "training epoch 6:  61%|██████    | 599/989 [10:54<06:38,  1.02s/it]  "
     ]
    },
    {
     "name": "stdout",
     "output_type": "stream",
     "text": [
      "Training - Loss: 0.0048, Accuracy: 1.0000\n"
     ]
    },
    {
     "name": "stderr",
     "output_type": "stream",
     "text": [
      "training epoch 6:  61%|██████    | 600/989 [12:50<3:51:41, 35.74s/it]"
     ]
    },
    {
     "name": "stdout",
     "output_type": "stream",
     "text": [
      "Validation - Loss: 0.747, Acc: 0.848, Pr: 0.742, Ff: 0.915, Fs: 0.929, Nt: 0.749, Df: 0.903\n"
     ]
    },
    {
     "name": "stderr",
     "output_type": "stream",
     "text": [
      "training epoch 6:  91%|█████████ | 899/989 [17:20<01:18,  1.14it/s]  "
     ]
    },
    {
     "name": "stdout",
     "output_type": "stream",
     "text": [
      "Training - Loss: 0.0046, Accuracy: 1.0000\n"
     ]
    },
    {
     "name": "stderr",
     "output_type": "stream",
     "text": [
      "training epoch 6:  91%|█████████ | 900/989 [19:09<50:02, 33.74s/it]"
     ]
    },
    {
     "name": "stdout",
     "output_type": "stream",
     "text": [
      "Validation - Loss: 0.702, Acc: 0.851, Pr: 0.704, Ff: 0.886, Fs: 0.948, Nt: 0.772, Df: 0.945\n"
     ]
    },
    {
     "name": "stderr",
     "output_type": "stream",
     "text": [
      "training epoch 6: 100%|██████████| 989/989 [20:28<00:00,  1.24s/it]\n"
     ]
    },
    {
     "name": "stdout",
     "output_type": "stream",
     "text": [
      "Validation - Loss: 0.748, Acc: 0.844, Pr: 0.680, Ff: 0.861, Fs: 0.934, Nt: 0.821, Df: 0.925\n"
     ]
    },
    {
     "name": "stderr",
     "output_type": "stream",
     "text": [
      "training epoch 7:  30%|███       | 299/989 [04:37<09:58,  1.15it/s]"
     ]
    },
    {
     "name": "stdout",
     "output_type": "stream",
     "text": [
      "Training - Loss: 0.1144, Accuracy: 0.9688\n"
     ]
    },
    {
     "name": "stderr",
     "output_type": "stream",
     "text": [
      "training epoch 7:  30%|███       | 300/989 [06:27<6:30:44, 34.03s/it]"
     ]
    },
    {
     "name": "stdout",
     "output_type": "stream",
     "text": [
      "Validation - Loss: 0.704, Acc: 0.847, Pr: 0.714, Ff: 0.906, Fs: 0.937, Nt: 0.748, Df: 0.930\n"
     ]
    },
    {
     "name": "stderr",
     "output_type": "stream",
     "text": [
      "training epoch 7:  61%|██████    | 599/989 [10:52<05:56,  1.09it/s]  "
     ]
    },
    {
     "name": "stdout",
     "output_type": "stream",
     "text": [
      "Training - Loss: 0.0011, Accuracy: 1.0000\n"
     ]
    },
    {
     "name": "stderr",
     "output_type": "stream",
     "text": [
      "training epoch 7:  61%|██████    | 599/989 [12:43<05:56,  1.09it/s]"
     ]
    },
    {
     "name": "stdout",
     "output_type": "stream",
     "text": [
      "Validation - Loss: 0.686, Acc: 0.855, Pr: 0.711, Ff: 0.889, Fs: 0.966, Nt: 0.762, Df: 0.947\n"
     ]
    },
    {
     "name": "stderr",
     "output_type": "stream",
     "text": [
      "training epoch 7:  61%|██████    | 600/989 [12:50<3:55:35, 36.34s/it]"
     ]
    },
    {
     "name": "stdout",
     "output_type": "stream",
     "text": [
      "New checkpoint saved at ./model/enctrf2loss/model.pt\n"
     ]
    },
    {
     "name": "stderr",
     "output_type": "stream",
     "text": [
      "training epoch 7:  91%|█████████ | 899/989 [17:05<01:15,  1.19it/s]  "
     ]
    },
    {
     "name": "stdout",
     "output_type": "stream",
     "text": [
      "Training - Loss: 0.0036, Accuracy: 1.0000\n"
     ]
    },
    {
     "name": "stderr",
     "output_type": "stream",
     "text": [
      "training epoch 7:  91%|█████████ | 900/989 [19:03<53:22, 35.98s/it]"
     ]
    },
    {
     "name": "stdout",
     "output_type": "stream",
     "text": [
      "Validation - Loss: 0.662, Acc: 0.848, Pr: 0.761, Ff: 0.914, Fs: 0.905, Nt: 0.733, Df: 0.926\n"
     ]
    },
    {
     "name": "stderr",
     "output_type": "stream",
     "text": [
      "training epoch 7: 100%|██████████| 989/989 [20:19<00:00,  1.23s/it]\n"
     ]
    },
    {
     "name": "stdout",
     "output_type": "stream",
     "text": [
      "Validation - Loss: 0.717, Acc: 0.838, Pr: 0.768, Ff: 0.710, Fs: 0.942, Nt: 0.834, Df: 0.938\n"
     ]
    },
    {
     "name": "stderr",
     "output_type": "stream",
     "text": [
      "training epoch 8:  30%|███       | 299/989 [04:28<11:13,  1.02it/s]"
     ]
    },
    {
     "name": "stdout",
     "output_type": "stream",
     "text": [
      "Training - Loss: 0.0032, Accuracy: 1.0000\n"
     ]
    },
    {
     "name": "stderr",
     "output_type": "stream",
     "text": [
      "training epoch 8:  30%|███       | 300/989 [06:11<6:07:04, 31.97s/it]"
     ]
    },
    {
     "name": "stdout",
     "output_type": "stream",
     "text": [
      "Validation - Loss: 0.815, Acc: 0.847, Pr: 0.674, Ff: 0.863, Fs: 0.956, Nt: 0.864, Df: 0.878\n"
     ]
    },
    {
     "name": "stderr",
     "output_type": "stream",
     "text": [
      "training epoch 8:  61%|██████    | 599/989 [10:35<06:19,  1.03it/s]  "
     ]
    },
    {
     "name": "stdout",
     "output_type": "stream",
     "text": [
      "Training - Loss: 0.0009, Accuracy: 1.0000\n"
     ]
    },
    {
     "name": "stderr",
     "output_type": "stream",
     "text": [
      "training epoch 8:  61%|██████    | 600/989 [12:20<3:29:29, 32.31s/it]"
     ]
    },
    {
     "name": "stdout",
     "output_type": "stream",
     "text": [
      "Validation - Loss: 0.689, Acc: 0.854, Pr: 0.727, Ff: 0.863, Fs: 0.949, Nt: 0.804, Df: 0.929\n"
     ]
    },
    {
     "name": "stderr",
     "output_type": "stream",
     "text": [
      "training epoch 8:  91%|█████████ | 899/989 [16:43<01:20,  1.11it/s]  "
     ]
    },
    {
     "name": "stdout",
     "output_type": "stream",
     "text": [
      "Training - Loss: 0.0017, Accuracy: 1.0000\n"
     ]
    },
    {
     "name": "stderr",
     "output_type": "stream",
     "text": [
      "training epoch 8:  91%|█████████ | 899/989 [18:34<01:20,  1.11it/s]"
     ]
    },
    {
     "name": "stdout",
     "output_type": "stream",
     "text": [
      "Validation - Loss: 0.648, Acc: 0.860, Pr: 0.731, Ff: 0.884, Fs: 0.957, Nt: 0.796, Df: 0.934\n"
     ]
    },
    {
     "name": "stderr",
     "output_type": "stream",
     "text": [
      "training epoch 8:  91%|█████████ | 900/989 [18:41<53:54, 36.34s/it]"
     ]
    },
    {
     "name": "stdout",
     "output_type": "stream",
     "text": [
      "New checkpoint saved at ./model/enctrf2loss/model.pt\n"
     ]
    },
    {
     "name": "stderr",
     "output_type": "stream",
     "text": [
      "training epoch 8: 100%|██████████| 989/989 [19:58<00:00,  1.21s/it]\n"
     ]
    },
    {
     "name": "stdout",
     "output_type": "stream",
     "text": [
      "Validation - Loss: 0.650, Acc: 0.850, Pr: 0.787, Ff: 0.918, Fs: 0.942, Nt: 0.670, Df: 0.935\n"
     ]
    },
    {
     "name": "stderr",
     "output_type": "stream",
     "text": [
      "training epoch 9:  30%|███       | 299/989 [04:23<10:10,  1.13it/s]"
     ]
    },
    {
     "name": "stdout",
     "output_type": "stream",
     "text": [
      "Training - Loss: 0.0012, Accuracy: 1.0000\n"
     ]
    },
    {
     "name": "stderr",
     "output_type": "stream",
     "text": [
      "training epoch 9:  30%|███       | 300/989 [06:15<6:34:48, 34.38s/it]"
     ]
    },
    {
     "name": "stdout",
     "output_type": "stream",
     "text": [
      "Validation - Loss: 0.742, Acc: 0.849, Pr: 0.671, Ff: 0.913, Fs: 0.940, Nt: 0.800, Df: 0.920\n"
     ]
    },
    {
     "name": "stderr",
     "output_type": "stream",
     "text": [
      "training epoch 9:  61%|██████    | 599/989 [10:34<05:35,  1.16it/s]  "
     ]
    },
    {
     "name": "stdout",
     "output_type": "stream",
     "text": [
      "Training - Loss: 0.0040, Accuracy: 1.0000\n"
     ]
    },
    {
     "name": "stderr",
     "output_type": "stream",
     "text": [
      "training epoch 9:  61%|██████    | 600/989 [12:26<3:43:18, 34.44s/it]"
     ]
    },
    {
     "name": "stdout",
     "output_type": "stream",
     "text": [
      "Validation - Loss: 0.762, Acc: 0.834, Pr: 0.812, Ff: 0.885, Fs: 0.862, Nt: 0.704, Df: 0.909\n"
     ]
    },
    {
     "name": "stderr",
     "output_type": "stream",
     "text": [
      "training epoch 9:  91%|█████████ | 899/989 [16:52<01:13,  1.23it/s]  "
     ]
    },
    {
     "name": "stdout",
     "output_type": "stream",
     "text": [
      "Training - Loss: 0.0173, Accuracy: 0.9844\n"
     ]
    },
    {
     "name": "stderr",
     "output_type": "stream",
     "text": [
      "training epoch 9:  91%|█████████ | 900/989 [18:45<51:28, 34.70s/it]"
     ]
    },
    {
     "name": "stdout",
     "output_type": "stream",
     "text": [
      "Validation - Loss: 0.831, Acc: 0.836, Pr: 0.703, Ff: 0.922, Fs: 0.892, Nt: 0.780, Df: 0.886\n"
     ]
    },
    {
     "name": "stderr",
     "output_type": "stream",
     "text": [
      "training epoch 9: 100%|██████████| 989/989 [20:01<00:00,  1.22s/it]\n"
     ]
    },
    {
     "name": "stdout",
     "output_type": "stream",
     "text": [
      "Validation - Loss: 0.672, Acc: 0.856, Pr: 0.758, Ff: 0.880, Fs: 0.927, Nt: 0.779, Df: 0.937\n"
     ]
    }
   ],
   "source": [
    "total_step = len(train_loader)\n",
    "step = 1\n",
    "best_val_acc = 0.5\n",
    "for epoch in range(10):\n",
    "    for i, (video_ids, frame_ids, images, targets) in \\\n",
    "            tqdm(enumerate(train_loader), desc=f'training epoch {epoch}', total=len(train_loader)):\n",
    "        model.train()\n",
    "        # Set mini-batch dataset\n",
    "        images = images.to(device)\n",
    "        targets = targets.to(device)\n",
    "\n",
    "        # Forward, backward and optimize\n",
    "        outputs, sides = model(images)\n",
    "        targets = targets.long()\n",
    "        tiled_targets = tile(targets, 0, 11)\n",
    "        side_targets = (tiled_targets == 0).unsqueeze(1).float()\n",
    "        loss = criterion(outputs, targets)\n",
    "        loss_side = criterion_side(sides, side_targets)\n",
    "        model.zero_grad()\n",
    "        if i % 2 == 0:\n",
    "            loss.backward()\n",
    "        else:\n",
    "            loss_side.backward()\n",
    "        optimizer.step()\n",
    "\n",
    "        batch_accuracy = float((outputs.argmax(1)).eq(targets).sum()) / len(targets)\n",
    "        \n",
    "        \n",
    "\n",
    "        # Print log info\n",
    "        step += 1\n",
    "        \n",
    "        if (i + 1) % 300 == 0:\n",
    "            print_training_info(batch_accuracy, loss, step)\n",
    "\n",
    "        if (i + 1) % 300 == 0:\n",
    "            val_acc, pr_acc, ff_acc, fs_acc, nt_acc, df_acc = print_validation_info(\n",
    "                criterion, device, model, val_loader, epoch, step\n",
    "            )\n",
    "            if val_acc > best_val_acc:\n",
    "                save_model_checkpoint(epoch, model, (val_acc, pr_acc, ff_acc, fs_acc, nt_acc, df_acc))\n",
    "                best_val_acc = val_acc\n",
    "\n",
    "    # validation step after full epoch\n",
    "    val_acc, pr_acc, ff_acc, fs_acc, nt_acc, df_acc = print_validation_info(\n",
    "        criterion, device, model, val_loader, epoch, step\n",
    "    )\n",
    "    lr_scheduler.step(val_acc)\n",
    "    if val_acc > best_val_acc:\n",
    "        save_model_checkpoint(epoch, model, (val_acc, pr_acc, ff_acc, fs_acc, nt_acc, df_acc))\n",
    "        best_val_acc = val_acc\n",
    "\n",
    "#    if epoch == 0:\n",
    "#        for m in model.resnet.parameters():\n",
    "#            m.requires_grad_(True)\n",
    "#        tqdm.write('Fine tuning on')"
   ]
  },
  {
   "cell_type": "code",
   "execution_count": 15,
   "metadata": {},
   "outputs": [
    {
     "name": "stderr",
     "output_type": "stream",
     "text": [
      "100%|██████████| 240/240 [01:42<00:00,  2.34it/s]"
     ]
    },
    {
     "name": "stdout",
     "output_type": "stream",
     "text": [
      "Test - Loss: 1.068, Acc: 0.782, Pr: 0.878, Ff: 0.732, Fs: 0.828, Nt: 0.598, Df: 0.874\n"
     ]
    },
    {
     "name": "stderr",
     "output_type": "stream",
     "text": [
      "\n"
     ]
    }
   ],
   "source": [
    "model = Encoder2DTransformer()\n",
    "model = nn.DataParallel(model)\n",
    "state_dict = torch.load('./model/enctrf2loss/model.pt', map_location='cpu')\n",
    "model.load_state_dict(state_dict)\n",
    "model.to(device)\n",
    "\n",
    "test_loader = get_loader(\n",
    "    test_dataset, 32, shuffle=True, num_workers=2, drop_last=False\n",
    ")\n",
    "with torch.no_grad():\n",
    "    loss_values = []\n",
    "    all_predictions = []\n",
    "    all_targets = []\n",
    "    targets = []\n",
    "    outputs = []\n",
    "    for video_ids, frame_ids, images, target in tqdm(test_loader):\n",
    "        images = images.to(device)\n",
    "        target = target.to(device)\n",
    "        target = target.long()\n",
    "        output, _ = model(images)\n",
    "        targets.append(target)\n",
    "        outputs.append(output)\n",
    "        loss = criterion(output, target)\n",
    "        loss_values.append(loss.item())\n",
    "\n",
    "#                 predictions = outputs > 0.0\n",
    "#                 all_predictions.append(predictions)\n",
    "#                 all_targets.append(targets)\n",
    "\n",
    "    val_loss = sum(loss_values) / len(loss_values)\n",
    "\n",
    "    outputs = torch.cat(outputs, 0)\n",
    "    targets = torch.cat(targets, 0)\n",
    "        \n",
    "    val_accuracy = float((outputs.argmax(1)).eq(targets).sum()) / len(targets)\n",
    "\n",
    "    total_target = targets.unique(return_counts=True)[1]\n",
    "    pristine = ((outputs.argmax(1) == 0) * (targets == 0)).sum() / total_target[0]\n",
    "    face2face = ((outputs.argmax(1) == 1) * (targets == 1)).sum() / total_target[1]\n",
    "    faceswap = ((outputs.argmax(1) == 2) * (targets == 2)).sum() / total_target[2]\n",
    "    neural = ((outputs.argmax(1) == 3) * (targets == 3)).sum() / total_target[3]\n",
    "    deepfake = ((outputs.argmax(1) == 4) * (targets == 4)).sum() / total_target[4]\n",
    "    tqdm.write(\n",
    "        'Test - Loss: {:.3f}, Acc: {:.3f}, Pr: {:.3f}, Ff: {:.3f}, Fs: {:.3f}, Nt: {:.3f}, Df: {:.3f}'.format(\n",
    "            val_loss, val_accuracy, pristine, face2face, faceswap, neural, deepfake\n",
    "        )\n",
    "    )"
   ]
  },
  {
   "cell_type": "code",
   "execution_count": 16,
   "metadata": {},
   "outputs": [],
   "source": [
    "cm = confusion_matrix(targets.cpu().numpy(), outputs.cpu().argmax(1).numpy())"
   ]
  },
  {
   "cell_type": "code",
   "execution_count": 17,
   "metadata": {},
   "outputs": [
    {
     "data": {
      "image/png": "[encoded data removed]",
      "text/plain": [
       "<Figure size 1152x648 with 2 Axes>"
      ]
     },
     "metadata": {
      "needs_background": "light"
     },
     "output_type": "display_data"
    }
   ],
   "source": [
    "fig, ax = plt.subplots(figsize=(16,9));\n",
    "ax = sns.heatmap(cm, xticklabels = ['Pr', 'Ff', 'Fs', 'Nt', 'Df'], yticklabels = ['Pr', 'Ff', 'Fs', 'Nt', 'Df'], annot = True);\n",
    "ax.set(xlabel = 'True', ylabel = 'Predicted');"
   ]
  },
  {
   "cell_type": "code",
   "execution_count": null,
   "metadata": {},
   "outputs": [],
   "source": []
  }
 ],
 "metadata": {
  "kernelspec": {
   "display_name": "Python 3",
   "language": "python",
   "name": "python3"
  },
  "language_info": {
   "codemirror_mode": {
    "name": "ipython",
    "version": 3
   },
   "file_extension": ".py",
   "mimetype": "text/x-python",
   "name": "python",
   "nbconvert_exporter": "python",
   "pygments_lexer": "ipython3",
   "version": "3.7.9"
  }
 },
 "nbformat": 4,
 "nbformat_minor": 4
}
