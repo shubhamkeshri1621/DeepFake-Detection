{
  "nbformat": 4,
  "nbformat_minor": 0,
  "metadata": {
    "colab": {
      "name": "fake facedetection.ipynb",
      "provenance": [],
      "collapsed_sections": []
    },
    "kernelspec": {
      "name": "python3",
      "display_name": "Python 3"
    },
    "language_info": {
      "name": "python"
    },
    "accelerator": "TPU"
  },
  "cells": [
    {
      "cell_type": "code",
      "source": [
        "!pip install mediapipe"
      ],
      "metadata": {
        "colab": {
          "base_uri": "https://localhost:8080/"
        },
        "id": "p7QJMA-yIi4Q",
        "outputId": "c50d64b2-c6bf-420b-ef90-68b352fd9186"
      },
      "execution_count": 1,
      "outputs": [
        {
          "output_type": "stream",
          "name": "stdout",
          "text": [
            "Collecting mediapipe\n",
            "  Downloading mediapipe-0.8.10-cp37-cp37m-manylinux_2_17_x86_64.manylinux2014_x86_64.whl (32.8 MB)\n",
            "\u001b[K     |████████████████████████████████| 32.8 MB 1.5 MB/s \n",
            "\u001b[?25hRequirement already satisfied: absl-py in /usr/local/lib/python3.7/dist-packages (from mediapipe) (1.0.0)\n",
            "Requirement already satisfied: numpy in /usr/local/lib/python3.7/dist-packages (from mediapipe) (1.21.6)\n",
            "Requirement already satisfied: matplotlib in /usr/local/lib/python3.7/dist-packages (from mediapipe) (3.2.2)\n",
            "Requirement already satisfied: opencv-contrib-python in /usr/local/lib/python3.7/dist-packages (from mediapipe) (4.1.2.30)\n",
            "Requirement already satisfied: attrs>=19.1.0 in /usr/local/lib/python3.7/dist-packages (from mediapipe) (21.4.0)\n",
            "Requirement already satisfied: protobuf>=3.11.4 in /usr/local/lib/python3.7/dist-packages (from mediapipe) (3.17.3)\n",
            "Requirement already satisfied: six>=1.9 in /usr/local/lib/python3.7/dist-packages (from protobuf>=3.11.4->mediapipe) (1.15.0)\n",
            "Requirement already satisfied: pyparsing!=2.0.4,!=2.1.2,!=2.1.6,>=2.0.1 in /usr/local/lib/python3.7/dist-packages (from matplotlib->mediapipe) (3.0.9)\n",
            "Requirement already satisfied: kiwisolver>=1.0.1 in /usr/local/lib/python3.7/dist-packages (from matplotlib->mediapipe) (1.4.2)\n",
            "Requirement already satisfied: python-dateutil>=2.1 in /usr/local/lib/python3.7/dist-packages (from matplotlib->mediapipe) (2.8.2)\n",
            "Requirement already satisfied: cycler>=0.10 in /usr/local/lib/python3.7/dist-packages (from matplotlib->mediapipe) (0.11.0)\n",
            "Requirement already satisfied: typing-extensions in /usr/local/lib/python3.7/dist-packages (from kiwisolver>=1.0.1->matplotlib->mediapipe) (4.2.0)\n",
            "Installing collected packages: mediapipe\n",
            "Successfully installed mediapipe-0.8.10\n"
          ]
        }
      ]
    },
    {
      "cell_type": "code",
      "source": [
        ""
      ],
      "metadata": {
        "id": "okgeyWBggKmQ"
      },
      "execution_count": 1,
      "outputs": []
    },
    {
      "cell_type": "code",
      "source": [
        "! pip install -q kaggle\n",
        "from google.colab import files\n",
        "files.upload()\n",
        "! mkdir ~/.kaggle\n",
        "!cp kaggle.json ~/.kaggle/\n",
        "! chmod 600 ~/.kaggle/kaggle.json\n"
      ],
      "metadata": {
        "colab": {
          "resources": {
            "http://localhost:8080/nbextensions/google.colab/files.js": {
              "data": "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",
              "ok": true,
              "headers": [
                [
                  "content-type",
                  "application/javascript"
                ]
              ],
              "status": 200,
              "status_text": ""
            }
          },
          "base_uri": "https://localhost:8080/",
          "height": 73
        },
        "id": "BU1GN2Y46ss2",
        "outputId": "f5d3dfc2-22cd-4c9a-96d6-621c50cccb51"
      },
      "execution_count": 2,
      "outputs": [
        {
          "output_type": "display_data",
          "data": {
            "text/plain": [
              "<IPython.core.display.HTML object>"
            ],
            "text/html": [
              "\n",
              "     <input type=\"file\" id=\"files-e92e6311-2010-4f8f-b0e7-0dace8b86339\" name=\"files[]\" multiple disabled\n",
              "        style=\"border:none\" />\n",
              "     <output id=\"result-e92e6311-2010-4f8f-b0e7-0dace8b86339\">\n",
              "      Upload widget is only available when the cell has been executed in the\n",
              "      current browser session. Please rerun this cell to enable.\n",
              "      </output>\n",
              "      <script src=\"/nbextensions/google.colab/files.js\"></script> "
            ]
          },
          "metadata": {}
        },
        {
          "output_type": "stream",
          "name": "stdout",
          "text": [
            "Saving kaggle.json to kaggle.json\n"
          ]
        }
      ]
    },
    {
      "cell_type": "code",
      "execution_count": 3,
      "metadata": {
        "id": "upeihdwW6W7P",
        "colab": {
          "base_uri": "https://localhost:8080/"
        },
        "outputId": "e1eacdaf-12e8-41c6-deec-c3e6635fba67"
      },
      "outputs": [
        {
          "output_type": "stream",
          "name": "stdout",
          "text": [
            "\u001b[1;30;43mStreaming output truncated to the last 5000 lines.\u001b[0m\n",
            "  inflating: /content/manipulated_sequences/Deepfakes/c23/videos/000_003.mp4  \n",
            "  inflating: /content/manipulated_sequences/Deepfakes/c23/videos/001_870.mp4  \n",
            "  inflating: /content/manipulated_sequences/Deepfakes/c23/videos/002_006.mp4  \n",
            "  inflating: /content/manipulated_sequences/Deepfakes/c23/videos/003_000.mp4  \n",
            "  inflating: /content/manipulated_sequences/Deepfakes/c23/videos/004_982.mp4  \n",
            "  inflating: /content/manipulated_sequences/Deepfakes/c23/videos/005_010.mp4  \n",
            "  inflating: /content/manipulated_sequences/Deepfakes/c23/videos/006_002.mp4  \n",
            "  inflating: /content/manipulated_sequences/Deepfakes/c23/videos/007_132.mp4  \n",
            "  inflating: /content/manipulated_sequences/Deepfakes/c23/videos/008_990.mp4  \n",
            "  inflating: /content/manipulated_sequences/Deepfakes/c23/videos/009_027.mp4  \n",
            "  inflating: /content/manipulated_sequences/Deepfakes/c23/videos/010_005.mp4  \n",
            "  inflating: /content/manipulated_sequences/Deepfakes/c23/videos/011_805.mp4  \n",
            "  inflating: /content/manipulated_sequences/Deepfakes/c23/videos/012_026.mp4  \n",
            "  inflating: /content/manipulated_sequences/Deepfakes/c23/videos/013_883.mp4  \n",
            "  inflating: /content/manipulated_sequences/Deepfakes/c23/videos/014_790.mp4  \n",
            "  inflating: /content/manipulated_sequences/Deepfakes/c23/videos/015_919.mp4  \n",
            "  inflating: /content/manipulated_sequences/Deepfakes/c23/videos/016_209.mp4  \n",
            "  inflating: /content/manipulated_sequences/Deepfakes/c23/videos/017_803.mp4  \n",
            "  inflating: /content/manipulated_sequences/Deepfakes/c23/videos/018_019.mp4  \n",
            "  inflating: /content/manipulated_sequences/Deepfakes/c23/videos/019_018.mp4  \n",
            "  inflating: /content/manipulated_sequences/Deepfakes/c23/videos/020_344.mp4  \n",
            "  inflating: /content/manipulated_sequences/Deepfakes/c23/videos/021_312.mp4  \n",
            "  inflating: /content/manipulated_sequences/Deepfakes/c23/videos/022_489.mp4  \n",
            "  inflating: /content/manipulated_sequences/Deepfakes/c23/videos/023_923.mp4  \n",
            "  inflating: /content/manipulated_sequences/Deepfakes/c23/videos/024_073.mp4  \n",
            "  inflating: /content/manipulated_sequences/Deepfakes/c23/videos/025_067.mp4  \n",
            "  inflating: /content/manipulated_sequences/Deepfakes/c23/videos/026_012.mp4  \n",
            "  inflating: /content/manipulated_sequences/Deepfakes/c23/videos/027_009.mp4  \n",
            "  inflating: /content/manipulated_sequences/Deepfakes/c23/videos/028_068.mp4  \n",
            "  inflating: /content/manipulated_sequences/Deepfakes/c23/videos/029_048.mp4  \n",
            "  inflating: /content/manipulated_sequences/Deepfakes/c23/videos/030_193.mp4  \n",
            "  inflating: /content/manipulated_sequences/Deepfakes/c23/videos/031_163.mp4  \n",
            "  inflating: /content/manipulated_sequences/Deepfakes/c23/videos/032_944.mp4  \n",
            "  inflating: /content/manipulated_sequences/Deepfakes/c23/videos/033_097.mp4  \n",
            "  inflating: /content/manipulated_sequences/Deepfakes/c23/videos/034_590.mp4  \n",
            "  inflating: /content/manipulated_sequences/Deepfakes/c23/videos/035_036.mp4  \n",
            "  inflating: /content/manipulated_sequences/Deepfakes/c23/videos/036_035.mp4  \n",
            "  inflating: /content/manipulated_sequences/Deepfakes/c23/videos/037_072.mp4  \n",
            "  inflating: /content/manipulated_sequences/Deepfakes/c23/videos/038_125.mp4  \n",
            "  inflating: /content/manipulated_sequences/Deepfakes/c23/videos/039_058.mp4  \n",
            "  inflating: /content/manipulated_sequences/Deepfakes/c23/videos/040_997.mp4  \n",
            "  inflating: /content/manipulated_sequences/Deepfakes/c23/videos/041_063.mp4  \n",
            "  inflating: /content/manipulated_sequences/Deepfakes/c23/videos/042_084.mp4  \n",
            "  inflating: /content/manipulated_sequences/Deepfakes/c23/videos/043_110.mp4  \n",
            "  inflating: /content/manipulated_sequences/Deepfakes/c23/videos/044_945.mp4  \n",
            "  inflating: /content/manipulated_sequences/Deepfakes/c23/videos/045_889.mp4  \n",
            "  inflating: /content/manipulated_sequences/Deepfakes/c23/videos/046_904.mp4  \n",
            "  inflating: /content/manipulated_sequences/Deepfakes/c23/videos/047_862.mp4  \n",
            "  inflating: /content/manipulated_sequences/Deepfakes/c23/videos/048_029.mp4  \n",
            "  inflating: /content/manipulated_sequences/Deepfakes/c23/videos/049_946.mp4  \n",
            "  inflating: /content/manipulated_sequences/Deepfakes/c23/videos/050_059.mp4  \n",
            "  inflating: /content/manipulated_sequences/Deepfakes/c23/videos/051_332.mp4  \n",
            "  inflating: /content/manipulated_sequences/Deepfakes/c23/videos/052_108.mp4  \n",
            "  inflating: /content/manipulated_sequences/Deepfakes/c23/videos/053_095.mp4  \n",
            "  inflating: /content/manipulated_sequences/Deepfakes/c23/videos/054_071.mp4  \n",
            "  inflating: /content/manipulated_sequences/Deepfakes/c23/videos/055_147.mp4  \n",
            "  inflating: /content/manipulated_sequences/Deepfakes/c23/videos/056_996.mp4  \n",
            "  inflating: /content/manipulated_sequences/Deepfakes/c23/videos/057_070.mp4  \n",
            "  inflating: /content/manipulated_sequences/Deepfakes/c23/videos/058_039.mp4  \n",
            "  inflating: /content/manipulated_sequences/Deepfakes/c23/videos/059_050.mp4  \n",
            "  inflating: /content/manipulated_sequences/Deepfakes/c23/videos/060_088.mp4  \n",
            "  inflating: /content/manipulated_sequences/Deepfakes/c23/videos/061_080.mp4  \n",
            "  inflating: /content/manipulated_sequences/Deepfakes/c23/videos/062_066.mp4  \n",
            "  inflating: /content/manipulated_sequences/Deepfakes/c23/videos/063_041.mp4  \n",
            "  inflating: /content/manipulated_sequences/Deepfakes/c23/videos/064_991.mp4  \n",
            "  inflating: /content/manipulated_sequences/Deepfakes/c23/videos/065_089.mp4  \n",
            "  inflating: /content/manipulated_sequences/Deepfakes/c23/videos/066_062.mp4  \n",
            "  inflating: /content/manipulated_sequences/Deepfakes/c23/videos/067_025.mp4  \n",
            "  inflating: /content/manipulated_sequences/Deepfakes/c23/videos/068_028.mp4  \n",
            "  inflating: /content/manipulated_sequences/Deepfakes/c23/videos/069_961.mp4  \n",
            "  inflating: /content/manipulated_sequences/Deepfakes/c23/videos/070_057.mp4  \n",
            "  inflating: /content/manipulated_sequences/Deepfakes/c23/videos/071_054.mp4  \n",
            "  inflating: /content/manipulated_sequences/Deepfakes/c23/videos/072_037.mp4  \n",
            "  inflating: /content/manipulated_sequences/Deepfakes/c23/videos/073_024.mp4  \n",
            "  inflating: /content/manipulated_sequences/Deepfakes/c23/videos/074_825.mp4  \n",
            "  inflating: /content/manipulated_sequences/Deepfakes/c23/videos/075_977.mp4  \n",
            "  inflating: /content/manipulated_sequences/Deepfakes/c23/videos/076_079.mp4  \n",
            "  inflating: /content/manipulated_sequences/Deepfakes/c23/videos/077_100.mp4  \n",
            "  inflating: /content/manipulated_sequences/Deepfakes/c23/videos/078_955.mp4  \n",
            "  inflating: /content/manipulated_sequences/Deepfakes/c23/videos/079_076.mp4  \n",
            "  inflating: /content/manipulated_sequences/Deepfakes/c23/videos/080_061.mp4  \n",
            "  inflating: /content/manipulated_sequences/Deepfakes/c23/videos/081_087.mp4  \n",
            "  inflating: /content/manipulated_sequences/Deepfakes/c23/videos/082_103.mp4  \n",
            "  inflating: /content/manipulated_sequences/Deepfakes/c23/videos/083_213.mp4  \n",
            "  inflating: /content/manipulated_sequences/Deepfakes/c23/videos/084_042.mp4  \n",
            "  inflating: /content/manipulated_sequences/Deepfakes/c23/videos/085_124.mp4  \n",
            "  inflating: /content/manipulated_sequences/Deepfakes/c23/videos/086_090.mp4  \n",
            "  inflating: /content/manipulated_sequences/Deepfakes/c23/videos/087_081.mp4  \n",
            "  inflating: /content/manipulated_sequences/Deepfakes/c23/videos/088_060.mp4  \n",
            "  inflating: /content/manipulated_sequences/Deepfakes/c23/videos/089_065.mp4  \n",
            "  inflating: /content/manipulated_sequences/Deepfakes/c23/videos/090_086.mp4  \n",
            "  inflating: /content/manipulated_sequences/Deepfakes/c23/videos/091_116.mp4  \n",
            "  inflating: /content/manipulated_sequences/Deepfakes/c23/videos/092_098.mp4  \n",
            "  inflating: /content/manipulated_sequences/Deepfakes/c23/videos/093_121.mp4  \n",
            "  inflating: /content/manipulated_sequences/Deepfakes/c23/videos/094_111.mp4  \n",
            "  inflating: /content/manipulated_sequences/Deepfakes/c23/videos/095_053.mp4  \n",
            "  inflating: /content/manipulated_sequences/Deepfakes/c23/videos/096_101.mp4  \n",
            "  inflating: /content/manipulated_sequences/Deepfakes/c23/videos/097_033.mp4  \n",
            "  inflating: /content/manipulated_sequences/Deepfakes/c23/videos/098_092.mp4  \n",
            "  inflating: /content/manipulated_sequences/Deepfakes/c23/videos/099_295.mp4  \n",
            "  inflating: /content/manipulated_sequences/Deepfakes/c23/videos/100_077.mp4  \n",
            "  inflating: /content/manipulated_sequences/Deepfakes/c23/videos/101_096.mp4  \n",
            "  inflating: /content/manipulated_sequences/Deepfakes/c23/videos/102_114.mp4  \n",
            "  inflating: /content/manipulated_sequences/Deepfakes/c23/videos/103_082.mp4  \n",
            "  inflating: /content/manipulated_sequences/Deepfakes/c23/videos/104_126.mp4  \n",
            "  inflating: /content/manipulated_sequences/Deepfakes/c23/videos/105_180.mp4  \n",
            "  inflating: /content/manipulated_sequences/Deepfakes/c23/videos/106_198.mp4  \n",
            "  inflating: /content/manipulated_sequences/Deepfakes/c23/videos/107_109.mp4  \n",
            "  inflating: /content/manipulated_sequences/Deepfakes/c23/videos/108_052.mp4  \n",
            "  inflating: /content/manipulated_sequences/Deepfakes/c23/videos/109_107.mp4  \n",
            "  inflating: /content/manipulated_sequences/Deepfakes/c23/videos/110_043.mp4  \n",
            "  inflating: /content/manipulated_sequences/Deepfakes/c23/videos/111_094.mp4  \n",
            "  inflating: /content/manipulated_sequences/Deepfakes/c23/videos/112_892.mp4  \n",
            "  inflating: /content/manipulated_sequences/Deepfakes/c23/videos/113_983.mp4  \n",
            "  inflating: /content/manipulated_sequences/Deepfakes/c23/videos/114_102.mp4  \n",
            "  inflating: /content/manipulated_sequences/Deepfakes/c23/videos/115_939.mp4  \n",
            "  inflating: /content/manipulated_sequences/Deepfakes/c23/videos/116_091.mp4  \n",
            "  inflating: /content/manipulated_sequences/Deepfakes/c23/videos/117_217.mp4  \n",
            "  inflating: /content/manipulated_sequences/Deepfakes/c23/videos/118_120.mp4  \n",
            "  inflating: /content/manipulated_sequences/Deepfakes/c23/videos/119_123.mp4  \n",
            "  inflating: /content/manipulated_sequences/Deepfakes/c23/videos/120_118.mp4  \n",
            "  inflating: /content/manipulated_sequences/Deepfakes/c23/videos/121_093.mp4  \n",
            "  inflating: /content/manipulated_sequences/Deepfakes/c23/videos/122_144.mp4  \n",
            "  inflating: /content/manipulated_sequences/Deepfakes/c23/videos/123_119.mp4  \n",
            "  inflating: /content/manipulated_sequences/Deepfakes/c23/videos/124_085.mp4  \n",
            "  inflating: /content/manipulated_sequences/Deepfakes/c23/videos/125_038.mp4  \n",
            "  inflating: /content/manipulated_sequences/Deepfakes/c23/videos/126_104.mp4  \n",
            "  inflating: /content/manipulated_sequences/Deepfakes/c23/videos/127_129.mp4  \n",
            "  inflating: /content/manipulated_sequences/Deepfakes/c23/videos/128_896.mp4  \n",
            "  inflating: /content/manipulated_sequences/Deepfakes/c23/videos/129_127.mp4  \n",
            "  inflating: /content/manipulated_sequences/Deepfakes/c23/videos/130_139.mp4  \n",
            "  inflating: /content/manipulated_sequences/Deepfakes/c23/videos/131_518.mp4  \n",
            "  inflating: /content/manipulated_sequences/Deepfakes/c23/videos/132_007.mp4  \n",
            "  inflating: /content/manipulated_sequences/Deepfakes/c23/videos/133_148.mp4  \n",
            "  inflating: /content/manipulated_sequences/Deepfakes/c23/videos/134_192.mp4  \n",
            "  inflating: /content/manipulated_sequences/Deepfakes/c23/videos/135_880.mp4  \n",
            "  inflating: /content/manipulated_sequences/Deepfakes/c23/videos/136_285.mp4  \n",
            "  inflating: /content/manipulated_sequences/Deepfakes/c23/videos/137_165.mp4  \n",
            "  inflating: /content/manipulated_sequences/Deepfakes/c23/videos/138_142.mp4  \n",
            "  inflating: /content/manipulated_sequences/Deepfakes/c23/videos/139_130.mp4  \n",
            "  inflating: /content/manipulated_sequences/Deepfakes/c23/videos/140_143.mp4  \n",
            "  inflating: /content/manipulated_sequences/Deepfakes/c23/videos/141_161.mp4  \n",
            "  inflating: /content/manipulated_sequences/Deepfakes/c23/videos/142_138.mp4  \n",
            "  inflating: /content/manipulated_sequences/Deepfakes/c23/videos/143_140.mp4  \n",
            "  inflating: /content/manipulated_sequences/Deepfakes/c23/videos/144_122.mp4  \n",
            "  inflating: /content/manipulated_sequences/Deepfakes/c23/videos/145_299.mp4  \n",
            "  inflating: /content/manipulated_sequences/Deepfakes/c23/videos/146_256.mp4  \n",
            "  inflating: /content/manipulated_sequences/Deepfakes/c23/videos/147_055.mp4  \n",
            "  inflating: /content/manipulated_sequences/Deepfakes/c23/videos/148_133.mp4  \n",
            "  inflating: /content/manipulated_sequences/Deepfakes/c23/videos/149_152.mp4  \n",
            "  inflating: /content/manipulated_sequences/Deepfakes/c23/videos/150_153.mp4  \n",
            "  inflating: /content/manipulated_sequences/Deepfakes/c23/videos/151_225.mp4  \n",
            "  inflating: /content/manipulated_sequences/Deepfakes/c23/videos/152_149.mp4  \n",
            "  inflating: /content/manipulated_sequences/Deepfakes/c23/videos/153_150.mp4  \n",
            "  inflating: /content/manipulated_sequences/Deepfakes/c23/videos/154_386.mp4  \n",
            "  inflating: /content/manipulated_sequences/Deepfakes/c23/videos/155_576.mp4  \n",
            "  inflating: /content/manipulated_sequences/Deepfakes/c23/videos/156_243.mp4  \n",
            "  inflating: /content/manipulated_sequences/Deepfakes/c23/videos/157_245.mp4  \n",
            "  inflating: /content/manipulated_sequences/Deepfakes/c23/videos/158_379.mp4  \n",
            "  inflating: /content/manipulated_sequences/Deepfakes/c23/videos/159_175.mp4  \n",
            "  inflating: /content/manipulated_sequences/Deepfakes/c23/videos/160_928.mp4  \n",
            "  inflating: /content/manipulated_sequences/Deepfakes/c23/videos/161_141.mp4  \n",
            "  inflating: /content/manipulated_sequences/Deepfakes/c23/videos/162_330.mp4  \n",
            "  inflating: /content/manipulated_sequences/Deepfakes/c23/videos/163_031.mp4  \n",
            "  inflating: /content/manipulated_sequences/Deepfakes/c23/videos/164_216.mp4  \n",
            "  inflating: /content/manipulated_sequences/Deepfakes/c23/videos/165_137.mp4  \n",
            "  inflating: /content/manipulated_sequences/Deepfakes/c23/videos/166_167.mp4  \n",
            "  inflating: /content/manipulated_sequences/Deepfakes/c23/videos/167_166.mp4  \n",
            "  inflating: /content/manipulated_sequences/Deepfakes/c23/videos/168_222.mp4  \n",
            "  inflating: /content/manipulated_sequences/Deepfakes/c23/videos/169_227.mp4  \n",
            "  inflating: /content/manipulated_sequences/Deepfakes/c23/videos/170_186.mp4  \n",
            "  inflating: /content/manipulated_sequences/Deepfakes/c23/videos/171_173.mp4  \n",
            "  inflating: /content/manipulated_sequences/Deepfakes/c23/videos/172_582.mp4  \n",
            "  inflating: /content/manipulated_sequences/Deepfakes/c23/videos/173_171.mp4  \n",
            "  inflating: /content/manipulated_sequences/Deepfakes/c23/videos/174_964.mp4  \n",
            "  inflating: /content/manipulated_sequences/Deepfakes/c23/videos/175_159.mp4  \n",
            "  inflating: /content/manipulated_sequences/Deepfakes/c23/videos/176_190.mp4  \n",
            "  inflating: /content/manipulated_sequences/Deepfakes/c23/videos/177_211.mp4  \n",
            "  inflating: /content/manipulated_sequences/Deepfakes/c23/videos/178_598.mp4  \n",
            "  inflating: /content/manipulated_sequences/Deepfakes/c23/videos/179_212.mp4  \n",
            "  inflating: /content/manipulated_sequences/Deepfakes/c23/videos/180_105.mp4  \n",
            "  inflating: /content/manipulated_sequences/Deepfakes/c23/videos/181_199.mp4  \n",
            "  inflating: /content/manipulated_sequences/Deepfakes/c23/videos/182_242.mp4  \n",
            "  inflating: /content/manipulated_sequences/Deepfakes/c23/videos/183_253.mp4  \n",
            "  inflating: /content/manipulated_sequences/Deepfakes/c23/videos/184_205.mp4  \n",
            "  inflating: /content/manipulated_sequences/Deepfakes/c23/videos/185_276.mp4  \n",
            "  inflating: /content/manipulated_sequences/Deepfakes/c23/videos/186_170.mp4  \n",
            "  inflating: /content/manipulated_sequences/Deepfakes/c23/videos/187_234.mp4  \n",
            "  inflating: /content/manipulated_sequences/Deepfakes/c23/videos/188_191.mp4  \n",
            "  inflating: /content/manipulated_sequences/Deepfakes/c23/videos/189_200.mp4  \n",
            "  inflating: /content/manipulated_sequences/Deepfakes/c23/videos/190_176.mp4  \n",
            "  inflating: /content/manipulated_sequences/Deepfakes/c23/videos/191_188.mp4  \n",
            "  inflating: /content/manipulated_sequences/Deepfakes/c23/videos/192_134.mp4  \n",
            "  inflating: /content/manipulated_sequences/Deepfakes/c23/videos/193_030.mp4  \n",
            "  inflating: /content/manipulated_sequences/Deepfakes/c23/videos/194_235.mp4  \n",
            "  inflating: /content/manipulated_sequences/Deepfakes/c23/videos/195_442.mp4  \n",
            "  inflating: /content/manipulated_sequences/Deepfakes/c23/videos/196_310.mp4  \n",
            "  inflating: /content/manipulated_sequences/Deepfakes/c23/videos/197_224.mp4  \n",
            "  inflating: /content/manipulated_sequences/Deepfakes/c23/videos/198_106.mp4  \n",
            "  inflating: /content/manipulated_sequences/Deepfakes/c23/videos/199_181.mp4  \n",
            "  inflating: /content/manipulated_sequences/Deepfakes/c23/videos/200_189.mp4  \n",
            "  inflating: /content/manipulated_sequences/Deepfakes/c23/videos/201_203.mp4  \n",
            "  inflating: /content/manipulated_sequences/Deepfakes/c23/videos/202_348.mp4  \n",
            "  inflating: /content/manipulated_sequences/Deepfakes/c23/videos/203_201.mp4  \n",
            "  inflating: /content/manipulated_sequences/Deepfakes/c23/videos/204_230.mp4  \n",
            "  inflating: /content/manipulated_sequences/Deepfakes/c23/videos/205_184.mp4  \n",
            "  inflating: /content/manipulated_sequences/Deepfakes/c23/videos/206_221.mp4  \n",
            "  inflating: /content/manipulated_sequences/Deepfakes/c23/videos/207_908.mp4  \n",
            "  inflating: /content/manipulated_sequences/Deepfakes/c23/videos/208_215.mp4  \n",
            "  inflating: /content/manipulated_sequences/Deepfakes/c23/videos/209_016.mp4  \n",
            "  inflating: /content/manipulated_sequences/Deepfakes/c23/videos/210_241.mp4  \n",
            "  inflating: /content/manipulated_sequences/Deepfakes/c23/videos/211_177.mp4  \n",
            "  inflating: /content/manipulated_sequences/Deepfakes/c23/videos/212_179.mp4  \n",
            "  inflating: /content/manipulated_sequences/Deepfakes/c23/videos/213_083.mp4  \n",
            "  inflating: /content/manipulated_sequences/Deepfakes/c23/videos/214_255.mp4  \n",
            "  inflating: /content/manipulated_sequences/Deepfakes/c23/videos/215_208.mp4  \n",
            "  inflating: /content/manipulated_sequences/Deepfakes/c23/videos/216_164.mp4  \n",
            "  inflating: /content/manipulated_sequences/Deepfakes/c23/videos/217_117.mp4  \n",
            "  inflating: /content/manipulated_sequences/Deepfakes/c23/videos/218_239.mp4  \n",
            "  inflating: /content/manipulated_sequences/Deepfakes/c23/videos/219_220.mp4  \n",
            "  inflating: /content/manipulated_sequences/Deepfakes/c23/videos/220_219.mp4  \n",
            "  inflating: /content/manipulated_sequences/Deepfakes/c23/videos/221_206.mp4  \n",
            "  inflating: /content/manipulated_sequences/Deepfakes/c23/videos/222_168.mp4  \n",
            "  inflating: /content/manipulated_sequences/Deepfakes/c23/videos/223_586.mp4  \n",
            "  inflating: /content/manipulated_sequences/Deepfakes/c23/videos/224_197.mp4  \n",
            "  inflating: /content/manipulated_sequences/Deepfakes/c23/videos/225_151.mp4  \n",
            "  inflating: /content/manipulated_sequences/Deepfakes/c23/videos/226_491.mp4  \n",
            "  inflating: /content/manipulated_sequences/Deepfakes/c23/videos/227_169.mp4  \n",
            "  inflating: /content/manipulated_sequences/Deepfakes/c23/videos/228_289.mp4  \n",
            "  inflating: /content/manipulated_sequences/Deepfakes/c23/videos/229_247.mp4  \n",
            "  inflating: /content/manipulated_sequences/Deepfakes/c23/videos/230_204.mp4  \n",
            "  inflating: /content/manipulated_sequences/Deepfakes/c23/videos/231_663.mp4  \n",
            "  inflating: /content/manipulated_sequences/Deepfakes/c23/videos/232_248.mp4  \n",
            "  inflating: /content/manipulated_sequences/Deepfakes/c23/videos/233_995.mp4  \n",
            "  inflating: /content/manipulated_sequences/Deepfakes/c23/videos/234_187.mp4  \n",
            "  inflating: /content/manipulated_sequences/Deepfakes/c23/videos/235_194.mp4  \n",
            "  inflating: /content/manipulated_sequences/Deepfakes/c23/videos/236_237.mp4  \n",
            "  inflating: /content/manipulated_sequences/Deepfakes/c23/videos/237_236.mp4  \n",
            "  inflating: /content/manipulated_sequences/Deepfakes/c23/videos/238_282.mp4  \n",
            "  inflating: /content/manipulated_sequences/Deepfakes/c23/videos/239_218.mp4  \n",
            "  inflating: /content/manipulated_sequences/Deepfakes/c23/videos/240_290.mp4  \n",
            "  inflating: /content/manipulated_sequences/Deepfakes/c23/videos/241_210.mp4  \n",
            "  inflating: /content/manipulated_sequences/Deepfakes/c23/videos/242_182.mp4  \n",
            "  inflating: /content/manipulated_sequences/Deepfakes/c23/videos/243_156.mp4  \n",
            "  inflating: /content/manipulated_sequences/Deepfakes/c23/videos/244_822.mp4  \n",
            "  inflating: /content/manipulated_sequences/Deepfakes/c23/videos/245_157.mp4  \n",
            "  inflating: /content/manipulated_sequences/Deepfakes/c23/videos/246_258.mp4  \n",
            "  inflating: /content/manipulated_sequences/Deepfakes/c23/videos/247_229.mp4  \n",
            "  inflating: /content/manipulated_sequences/Deepfakes/c23/videos/248_232.mp4  \n",
            "  inflating: /content/manipulated_sequences/Deepfakes/c23/videos/249_280.mp4  \n",
            "  inflating: /content/manipulated_sequences/Deepfakes/c23/videos/250_461.mp4  \n",
            "  inflating: /content/manipulated_sequences/Deepfakes/c23/videos/251_375.mp4  \n",
            "  inflating: /content/manipulated_sequences/Deepfakes/c23/videos/252_266.mp4  \n",
            "  inflating: /content/manipulated_sequences/Deepfakes/c23/videos/253_183.mp4  \n",
            "  inflating: /content/manipulated_sequences/Deepfakes/c23/videos/254_261.mp4  \n",
            "  inflating: /content/manipulated_sequences/Deepfakes/c23/videos/255_214.mp4  \n",
            "  inflating: /content/manipulated_sequences/Deepfakes/c23/videos/256_146.mp4  \n",
            "  inflating: /content/manipulated_sequences/Deepfakes/c23/videos/257_420.mp4  \n",
            "  inflating: /content/manipulated_sequences/Deepfakes/c23/videos/258_246.mp4  \n",
            "  inflating: /content/manipulated_sequences/Deepfakes/c23/videos/259_345.mp4  \n",
            "  inflating: /content/manipulated_sequences/Deepfakes/c23/videos/260_331.mp4  \n",
            "  inflating: /content/manipulated_sequences/Deepfakes/c23/videos/261_254.mp4  \n",
            "  inflating: /content/manipulated_sequences/Deepfakes/c23/videos/262_301.mp4  \n",
            "  inflating: /content/manipulated_sequences/Deepfakes/c23/videos/263_284.mp4  \n",
            "  inflating: /content/manipulated_sequences/Deepfakes/c23/videos/264_271.mp4  \n",
            "  inflating: /content/manipulated_sequences/Deepfakes/c23/videos/265_475.mp4  \n",
            "  inflating: /content/manipulated_sequences/Deepfakes/c23/videos/266_252.mp4  \n",
            "  inflating: /content/manipulated_sequences/Deepfakes/c23/videos/267_286.mp4  \n",
            "  inflating: /content/manipulated_sequences/Deepfakes/c23/videos/268_269.mp4  \n",
            "  inflating: /content/manipulated_sequences/Deepfakes/c23/videos/269_268.mp4  \n",
            "  inflating: /content/manipulated_sequences/Deepfakes/c23/videos/270_297.mp4  \n",
            "  inflating: /content/manipulated_sequences/Deepfakes/c23/videos/271_264.mp4  \n",
            "  inflating: /content/manipulated_sequences/Deepfakes/c23/videos/272_396.mp4  \n",
            "  inflating: /content/manipulated_sequences/Deepfakes/c23/videos/273_807.mp4  \n",
            "  inflating: /content/manipulated_sequences/Deepfakes/c23/videos/274_412.mp4  \n",
            "  inflating: /content/manipulated_sequences/Deepfakes/c23/videos/275_887.mp4  \n",
            "  inflating: /content/manipulated_sequences/Deepfakes/c23/videos/276_185.mp4  \n",
            "  inflating: /content/manipulated_sequences/Deepfakes/c23/videos/277_335.mp4  \n",
            "  inflating: /content/manipulated_sequences/Deepfakes/c23/videos/278_306.mp4  \n",
            "  inflating: /content/manipulated_sequences/Deepfakes/c23/videos/279_298.mp4  \n",
            "  inflating: /content/manipulated_sequences/Deepfakes/c23/videos/280_249.mp4  \n",
            "  inflating: /content/manipulated_sequences/Deepfakes/c23/videos/281_474.mp4  \n",
            "  inflating: /content/manipulated_sequences/Deepfakes/c23/videos/282_238.mp4  \n",
            "  inflating: /content/manipulated_sequences/Deepfakes/c23/videos/283_313.mp4  \n",
            "  inflating: /content/manipulated_sequences/Deepfakes/c23/videos/284_263.mp4  \n",
            "  inflating: /content/manipulated_sequences/Deepfakes/c23/videos/285_136.mp4  \n",
            "  inflating: /content/manipulated_sequences/Deepfakes/c23/videos/286_267.mp4  \n",
            "  inflating: /content/manipulated_sequences/Deepfakes/c23/videos/287_426.mp4  \n",
            "  inflating: /content/manipulated_sequences/Deepfakes/c23/videos/288_321.mp4  \n",
            "  inflating: /content/manipulated_sequences/Deepfakes/c23/videos/289_228.mp4  \n",
            "  inflating: /content/manipulated_sequences/Deepfakes/c23/videos/290_240.mp4  \n",
            "  inflating: /content/manipulated_sequences/Deepfakes/c23/videos/291_874.mp4  \n",
            "  inflating: /content/manipulated_sequences/Deepfakes/c23/videos/292_294.mp4  \n",
            "  inflating: /content/manipulated_sequences/Deepfakes/c23/videos/293_296.mp4  \n",
            "  inflating: /content/manipulated_sequences/Deepfakes/c23/videos/294_292.mp4  \n",
            "  inflating: /content/manipulated_sequences/Deepfakes/c23/videos/295_099.mp4  \n",
            "  inflating: /content/manipulated_sequences/Deepfakes/c23/videos/296_293.mp4  \n",
            "  inflating: /content/manipulated_sequences/Deepfakes/c23/videos/297_270.mp4  \n",
            "  inflating: /content/manipulated_sequences/Deepfakes/c23/videos/298_279.mp4  \n",
            "  inflating: /content/manipulated_sequences/Deepfakes/c23/videos/299_145.mp4  \n",
            "  inflating: /content/manipulated_sequences/Deepfakes/c23/videos/300_304.mp4  \n",
            "  inflating: /content/manipulated_sequences/Deepfakes/c23/videos/301_262.mp4  \n",
            "  inflating: /content/manipulated_sequences/Deepfakes/c23/videos/302_323.mp4  \n",
            "  inflating: /content/manipulated_sequences/Deepfakes/c23/videos/303_309.mp4  \n",
            "  inflating: /content/manipulated_sequences/Deepfakes/c23/videos/304_300.mp4  \n",
            "  inflating: /content/manipulated_sequences/Deepfakes/c23/videos/305_513.mp4  \n",
            "  inflating: /content/manipulated_sequences/Deepfakes/c23/videos/306_278.mp4  \n",
            "  inflating: /content/manipulated_sequences/Deepfakes/c23/videos/307_365.mp4  \n",
            "  inflating: /content/manipulated_sequences/Deepfakes/c23/videos/308_388.mp4  \n",
            "  inflating: /content/manipulated_sequences/Deepfakes/c23/videos/309_303.mp4  \n",
            "  inflating: /content/manipulated_sequences/Deepfakes/c23/videos/310_196.mp4  \n",
            "  inflating: /content/manipulated_sequences/Deepfakes/c23/videos/311_387.mp4  \n",
            "  inflating: /content/manipulated_sequences/Deepfakes/c23/videos/312_021.mp4  \n",
            "  inflating: /content/manipulated_sequences/Deepfakes/c23/videos/313_283.mp4  \n",
            "  inflating: /content/manipulated_sequences/Deepfakes/c23/videos/314_347.mp4  \n",
            "  inflating: /content/manipulated_sequences/Deepfakes/c23/videos/315_322.mp4  \n",
            "  inflating: /content/manipulated_sequences/Deepfakes/c23/videos/316_369.mp4  \n",
            "  inflating: /content/manipulated_sequences/Deepfakes/c23/videos/317_359.mp4  \n",
            "  inflating: /content/manipulated_sequences/Deepfakes/c23/videos/318_334.mp4  \n",
            "  inflating: /content/manipulated_sequences/Deepfakes/c23/videos/319_352.mp4  \n",
            "  inflating: /content/manipulated_sequences/Deepfakes/c23/videos/320_328.mp4  \n",
            "  inflating: /content/manipulated_sequences/Deepfakes/c23/videos/321_288.mp4  \n",
            "  inflating: /content/manipulated_sequences/Deepfakes/c23/videos/322_315.mp4  \n",
            "  inflating: /content/manipulated_sequences/Deepfakes/c23/videos/323_302.mp4  \n",
            "  inflating: /content/manipulated_sequences/Deepfakes/c23/videos/324_356.mp4  \n",
            "  inflating: /content/manipulated_sequences/Deepfakes/c23/videos/325_492.mp4  \n",
            "  inflating: /content/manipulated_sequences/Deepfakes/c23/videos/326_501.mp4  \n",
            "  inflating: /content/manipulated_sequences/Deepfakes/c23/videos/327_329.mp4  \n",
            "  inflating: /content/manipulated_sequences/Deepfakes/c23/videos/328_320.mp4  \n",
            "  inflating: /content/manipulated_sequences/Deepfakes/c23/videos/329_327.mp4  \n",
            "  inflating: /content/manipulated_sequences/Deepfakes/c23/videos/330_162.mp4  \n",
            "  inflating: /content/manipulated_sequences/Deepfakes/c23/videos/331_260.mp4  \n",
            "  inflating: /content/manipulated_sequences/Deepfakes/c23/videos/332_051.mp4  \n",
            "  inflating: /content/manipulated_sequences/Deepfakes/c23/videos/333_377.mp4  \n",
            "  inflating: /content/manipulated_sequences/Deepfakes/c23/videos/334_318.mp4  \n",
            "  inflating: /content/manipulated_sequences/Deepfakes/c23/videos/335_277.mp4  \n",
            "  inflating: /content/manipulated_sequences/Deepfakes/c23/videos/336_338.mp4  \n",
            "  inflating: /content/manipulated_sequences/Deepfakes/c23/videos/337_522.mp4  \n",
            "  inflating: /content/manipulated_sequences/Deepfakes/c23/videos/338_336.mp4  \n",
            "  inflating: /content/manipulated_sequences/Deepfakes/c23/videos/339_392.mp4  \n",
            "  inflating: /content/manipulated_sequences/Deepfakes/c23/videos/340_341.mp4  \n",
            "  inflating: /content/manipulated_sequences/Deepfakes/c23/videos/341_340.mp4  \n",
            "  inflating: /content/manipulated_sequences/Deepfakes/c23/videos/342_416.mp4  \n",
            "  inflating: /content/manipulated_sequences/Deepfakes/c23/videos/343_363.mp4  \n",
            "  inflating: /content/manipulated_sequences/Deepfakes/c23/videos/344_020.mp4  \n",
            "  inflating: /content/manipulated_sequences/Deepfakes/c23/videos/345_259.mp4  \n",
            "  inflating: /content/manipulated_sequences/Deepfakes/c23/videos/346_351.mp4  \n",
            "  inflating: /content/manipulated_sequences/Deepfakes/c23/videos/347_314.mp4  \n",
            "  inflating: /content/manipulated_sequences/Deepfakes/c23/videos/348_202.mp4  \n",
            "  inflating: /content/manipulated_sequences/Deepfakes/c23/videos/349_350.mp4  \n",
            "  inflating: /content/manipulated_sequences/Deepfakes/c23/videos/350_349.mp4  \n",
            "  inflating: /content/manipulated_sequences/Deepfakes/c23/videos/351_346.mp4  \n",
            "  inflating: /content/manipulated_sequences/Deepfakes/c23/videos/352_319.mp4  \n",
            "  inflating: /content/manipulated_sequences/Deepfakes/c23/videos/353_383.mp4  \n",
            "  inflating: /content/manipulated_sequences/Deepfakes/c23/videos/354_362.mp4  \n",
            "  inflating: /content/manipulated_sequences/Deepfakes/c23/videos/355_748.mp4  \n",
            "  inflating: /content/manipulated_sequences/Deepfakes/c23/videos/356_324.mp4  \n",
            "  inflating: /content/manipulated_sequences/Deepfakes/c23/videos/357_432.mp4  \n",
            "  inflating: /content/manipulated_sequences/Deepfakes/c23/videos/358_380.mp4  \n",
            "  inflating: /content/manipulated_sequences/Deepfakes/c23/videos/359_317.mp4  \n",
            "  inflating: /content/manipulated_sequences/Deepfakes/c23/videos/360_437.mp4  \n",
            "  inflating: /content/manipulated_sequences/Deepfakes/c23/videos/361_448.mp4  \n",
            "  inflating: /content/manipulated_sequences/Deepfakes/c23/videos/362_354.mp4  \n",
            "  inflating: /content/manipulated_sequences/Deepfakes/c23/videos/363_343.mp4  \n",
            "  inflating: /content/manipulated_sequences/Deepfakes/c23/videos/364_440.mp4  \n",
            "  inflating: /content/manipulated_sequences/Deepfakes/c23/videos/365_307.mp4  \n",
            "  inflating: /content/manipulated_sequences/Deepfakes/c23/videos/366_473.mp4  \n",
            "  inflating: /content/manipulated_sequences/Deepfakes/c23/videos/367_371.mp4  \n",
            "  inflating: /content/manipulated_sequences/Deepfakes/c23/videos/368_378.mp4  \n",
            "  inflating: /content/manipulated_sequences/Deepfakes/c23/videos/369_316.mp4  \n",
            "  inflating: /content/manipulated_sequences/Deepfakes/c23/videos/370_483.mp4  \n",
            "  inflating: /content/manipulated_sequences/Deepfakes/c23/videos/371_367.mp4  \n",
            "  inflating: /content/manipulated_sequences/Deepfakes/c23/videos/372_413.mp4  \n",
            "  inflating: /content/manipulated_sequences/Deepfakes/c23/videos/373_394.mp4  \n",
            "  inflating: /content/manipulated_sequences/Deepfakes/c23/videos/374_407.mp4  \n",
            "  inflating: /content/manipulated_sequences/Deepfakes/c23/videos/375_251.mp4  \n",
            "  inflating: /content/manipulated_sequences/Deepfakes/c23/videos/376_381.mp4  \n",
            "  inflating: /content/manipulated_sequences/Deepfakes/c23/videos/377_333.mp4  \n",
            "  inflating: /content/manipulated_sequences/Deepfakes/c23/videos/378_368.mp4  \n",
            "  inflating: /content/manipulated_sequences/Deepfakes/c23/videos/379_158.mp4  \n",
            "  inflating: /content/manipulated_sequences/Deepfakes/c23/videos/380_358.mp4  \n",
            "  inflating: /content/manipulated_sequences/Deepfakes/c23/videos/381_376.mp4  \n",
            "  inflating: /content/manipulated_sequences/Deepfakes/c23/videos/382_409.mp4  \n",
            "  inflating: /content/manipulated_sequences/Deepfakes/c23/videos/383_353.mp4  \n",
            "  inflating: /content/manipulated_sequences/Deepfakes/c23/videos/384_932.mp4  \n",
            "  inflating: /content/manipulated_sequences/Deepfakes/c23/videos/385_414.mp4  \n",
            "  inflating: /content/manipulated_sequences/Deepfakes/c23/videos/386_154.mp4  \n",
            "  inflating: /content/manipulated_sequences/Deepfakes/c23/videos/387_311.mp4  \n",
            "  inflating: /content/manipulated_sequences/Deepfakes/c23/videos/388_308.mp4  \n",
            "  inflating: /content/manipulated_sequences/Deepfakes/c23/videos/389_480.mp4  \n",
            "  inflating: /content/manipulated_sequences/Deepfakes/c23/videos/390_709.mp4  \n",
            "  inflating: /content/manipulated_sequences/Deepfakes/c23/videos/391_406.mp4  \n",
            "  inflating: /content/manipulated_sequences/Deepfakes/c23/videos/392_339.mp4  \n",
            "  inflating: /content/manipulated_sequences/Deepfakes/c23/videos/393_405.mp4  \n",
            "  inflating: /content/manipulated_sequences/Deepfakes/c23/videos/394_373.mp4  \n",
            "  inflating: /content/manipulated_sequences/Deepfakes/c23/videos/395_401.mp4  \n",
            "  inflating: /content/manipulated_sequences/Deepfakes/c23/videos/396_272.mp4  \n",
            "  inflating: /content/manipulated_sequences/Deepfakes/c23/videos/397_602.mp4  \n",
            "  inflating: /content/manipulated_sequences/Deepfakes/c23/videos/398_457.mp4  \n",
            "  inflating: /content/manipulated_sequences/Deepfakes/c23/videos/399_488.mp4  \n",
            "  inflating: /content/manipulated_sequences/Deepfakes/c23/videos/400_476.mp4  \n",
            "  inflating: /content/manipulated_sequences/Deepfakes/c23/videos/401_395.mp4  \n",
            "  inflating: /content/manipulated_sequences/Deepfakes/c23/videos/402_453.mp4  \n",
            "  inflating: /content/manipulated_sequences/Deepfakes/c23/videos/403_497.mp4  \n",
            "  inflating: /content/manipulated_sequences/Deepfakes/c23/videos/404_429.mp4  \n",
            "  inflating: /content/manipulated_sequences/Deepfakes/c23/videos/405_393.mp4  \n",
            "  inflating: /content/manipulated_sequences/Deepfakes/c23/videos/406_391.mp4  \n",
            "  inflating: /content/manipulated_sequences/Deepfakes/c23/videos/407_374.mp4  \n",
            "  inflating: /content/manipulated_sequences/Deepfakes/c23/videos/408_424.mp4  \n",
            "  inflating: /content/manipulated_sequences/Deepfakes/c23/videos/409_382.mp4  \n",
            "  inflating: /content/manipulated_sequences/Deepfakes/c23/videos/410_411.mp4  \n",
            "  inflating: /content/manipulated_sequences/Deepfakes/c23/videos/411_410.mp4  \n",
            "  inflating: /content/manipulated_sequences/Deepfakes/c23/videos/412_274.mp4  \n",
            "  inflating: /content/manipulated_sequences/Deepfakes/c23/videos/413_372.mp4  \n",
            "  inflating: /content/manipulated_sequences/Deepfakes/c23/videos/414_385.mp4  \n",
            "  inflating: /content/manipulated_sequences/Deepfakes/c23/videos/415_484.mp4  \n",
            "  inflating: /content/manipulated_sequences/Deepfakes/c23/videos/416_342.mp4  \n",
            "  inflating: /content/manipulated_sequences/Deepfakes/c23/videos/417_496.mp4  \n",
            "  inflating: /content/manipulated_sequences/Deepfakes/c23/videos/418_507.mp4  \n",
            "  inflating: /content/manipulated_sequences/Deepfakes/c23/videos/419_824.mp4  \n",
            "  inflating: /content/manipulated_sequences/Deepfakes/c23/videos/420_257.mp4  \n",
            "  inflating: /content/manipulated_sequences/Deepfakes/c23/videos/421_423.mp4  \n",
            "  inflating: /content/manipulated_sequences/Deepfakes/c23/videos/422_695.mp4  \n",
            "  inflating: /content/manipulated_sequences/Deepfakes/c23/videos/423_421.mp4  \n",
            "  inflating: /content/manipulated_sequences/Deepfakes/c23/videos/424_408.mp4  \n",
            "  inflating: /content/manipulated_sequences/Deepfakes/c23/videos/425_485.mp4  \n",
            "  inflating: /content/manipulated_sequences/Deepfakes/c23/videos/426_287.mp4  \n",
            "  inflating: /content/manipulated_sequences/Deepfakes/c23/videos/427_637.mp4  \n",
            "  inflating: /content/manipulated_sequences/Deepfakes/c23/videos/428_466.mp4  \n",
            "  inflating: /content/manipulated_sequences/Deepfakes/c23/videos/429_404.mp4  \n",
            "  inflating: /content/manipulated_sequences/Deepfakes/c23/videos/430_459.mp4  \n",
            "  inflating: /content/manipulated_sequences/Deepfakes/c23/videos/431_447.mp4  \n",
            "  inflating: /content/manipulated_sequences/Deepfakes/c23/videos/432_357.mp4  \n",
            "  inflating: /content/manipulated_sequences/Deepfakes/c23/videos/433_498.mp4  \n",
            "  inflating: /content/manipulated_sequences/Deepfakes/c23/videos/434_438.mp4  \n",
            "  inflating: /content/manipulated_sequences/Deepfakes/c23/videos/435_456.mp4  \n",
            "  inflating: /content/manipulated_sequences/Deepfakes/c23/videos/436_526.mp4  \n",
            "  inflating: /content/manipulated_sequences/Deepfakes/c23/videos/437_360.mp4  \n",
            "  inflating: /content/manipulated_sequences/Deepfakes/c23/videos/438_434.mp4  \n",
            "  inflating: /content/manipulated_sequences/Deepfakes/c23/videos/439_441.mp4  \n",
            "  inflating: /content/manipulated_sequences/Deepfakes/c23/videos/440_364.mp4  \n",
            "  inflating: /content/manipulated_sequences/Deepfakes/c23/videos/441_439.mp4  \n",
            "  inflating: /content/manipulated_sequences/Deepfakes/c23/videos/442_195.mp4  \n",
            "  inflating: /content/manipulated_sequences/Deepfakes/c23/videos/443_514.mp4  \n",
            "  inflating: /content/manipulated_sequences/Deepfakes/c23/videos/444_655.mp4  \n",
            "  inflating: /content/manipulated_sequences/Deepfakes/c23/videos/445_494.mp4  \n",
            "  inflating: /content/manipulated_sequences/Deepfakes/c23/videos/446_667.mp4  \n",
            "  inflating: /content/manipulated_sequences/Deepfakes/c23/videos/447_431.mp4  \n",
            "  inflating: /content/manipulated_sequences/Deepfakes/c23/videos/448_361.mp4  \n",
            "  inflating: /content/manipulated_sequences/Deepfakes/c23/videos/449_451.mp4  \n",
            "  inflating: /content/manipulated_sequences/Deepfakes/c23/videos/450_533.mp4  \n",
            "  inflating: /content/manipulated_sequences/Deepfakes/c23/videos/451_449.mp4  \n",
            "  inflating: /content/manipulated_sequences/Deepfakes/c23/videos/452_550.mp4  \n",
            "  inflating: /content/manipulated_sequences/Deepfakes/c23/videos/453_402.mp4  \n",
            "  inflating: /content/manipulated_sequences/Deepfakes/c23/videos/454_527.mp4  \n",
            "  inflating: /content/manipulated_sequences/Deepfakes/c23/videos/455_471.mp4  \n",
            "  inflating: /content/manipulated_sequences/Deepfakes/c23/videos/456_435.mp4  \n",
            "  inflating: /content/manipulated_sequences/Deepfakes/c23/videos/457_398.mp4  \n",
            "  inflating: /content/manipulated_sequences/Deepfakes/c23/videos/458_722.mp4  \n",
            "  inflating: /content/manipulated_sequences/Deepfakes/c23/videos/459_430.mp4  \n",
            "  inflating: /content/manipulated_sequences/Deepfakes/c23/videos/460_678.mp4  \n",
            "  inflating: /content/manipulated_sequences/Deepfakes/c23/videos/461_250.mp4  \n",
            "  inflating: /content/manipulated_sequences/Deepfakes/c23/videos/462_467.mp4  \n",
            "  inflating: /content/manipulated_sequences/Deepfakes/c23/videos/463_464.mp4  \n",
            "  inflating: /content/manipulated_sequences/Deepfakes/c23/videos/464_463.mp4  \n",
            "  inflating: /content/manipulated_sequences/Deepfakes/c23/videos/465_482.mp4  \n",
            "  inflating: /content/manipulated_sequences/Deepfakes/c23/videos/466_428.mp4  \n",
            "  inflating: /content/manipulated_sequences/Deepfakes/c23/videos/467_462.mp4  \n",
            "  inflating: /content/manipulated_sequences/Deepfakes/c23/videos/468_470.mp4  \n",
            "  inflating: /content/manipulated_sequences/Deepfakes/c23/videos/469_481.mp4  \n",
            "  inflating: /content/manipulated_sequences/Deepfakes/c23/videos/470_468.mp4  \n",
            "  inflating: /content/manipulated_sequences/Deepfakes/c23/videos/471_455.mp4  \n",
            "  inflating: /content/manipulated_sequences/Deepfakes/c23/videos/472_511.mp4  \n",
            "  inflating: /content/manipulated_sequences/Deepfakes/c23/videos/473_366.mp4  \n",
            "  inflating: /content/manipulated_sequences/Deepfakes/c23/videos/474_281.mp4  \n",
            "  inflating: /content/manipulated_sequences/Deepfakes/c23/videos/475_265.mp4  \n",
            "  inflating: /content/manipulated_sequences/Deepfakes/c23/videos/476_400.mp4  \n",
            "  inflating: /content/manipulated_sequences/Deepfakes/c23/videos/477_487.mp4  \n",
            "  inflating: /content/manipulated_sequences/Deepfakes/c23/videos/478_506.mp4  \n",
            "  inflating: /content/manipulated_sequences/Deepfakes/c23/videos/479_706.mp4  \n",
            "  inflating: /content/manipulated_sequences/Deepfakes/c23/videos/480_389.mp4  \n",
            "  inflating: /content/manipulated_sequences/Deepfakes/c23/videos/481_469.mp4  \n",
            "  inflating: /content/manipulated_sequences/Deepfakes/c23/videos/482_465.mp4  \n",
            "  inflating: /content/manipulated_sequences/Deepfakes/c23/videos/483_370.mp4  \n",
            "  inflating: /content/manipulated_sequences/Deepfakes/c23/videos/484_415.mp4  \n",
            "  inflating: /content/manipulated_sequences/Deepfakes/c23/videos/485_425.mp4  \n",
            "  inflating: /content/manipulated_sequences/Deepfakes/c23/videos/486_680.mp4  \n",
            "  inflating: /content/manipulated_sequences/Deepfakes/c23/videos/487_477.mp4  \n",
            "  inflating: /content/manipulated_sequences/Deepfakes/c23/videos/488_399.mp4  \n",
            "  inflating: /content/manipulated_sequences/Deepfakes/c23/videos/489_022.mp4  \n",
            "  inflating: /content/manipulated_sequences/Deepfakes/c23/videos/490_534.mp4  \n",
            "  inflating: /content/manipulated_sequences/Deepfakes/c23/videos/491_226.mp4  \n",
            "  inflating: /content/manipulated_sequences/Deepfakes/c23/videos/492_325.mp4  \n",
            "  inflating: /content/manipulated_sequences/Deepfakes/c23/videos/493_538.mp4  \n",
            "  inflating: /content/manipulated_sequences/Deepfakes/c23/videos/494_445.mp4  \n",
            "  inflating: /content/manipulated_sequences/Deepfakes/c23/videos/495_512.mp4  \n",
            "  inflating: /content/manipulated_sequences/Deepfakes/c23/videos/496_417.mp4  \n",
            "  inflating: /content/manipulated_sequences/Deepfakes/c23/videos/497_403.mp4  \n",
            "  inflating: /content/manipulated_sequences/Deepfakes/c23/videos/498_433.mp4  \n",
            "  inflating: /content/manipulated_sequences/Deepfakes/c23/videos/499_539.mp4  \n",
            "  inflating: /content/manipulated_sequences/Deepfakes/c23/videos/500_592.mp4  \n",
            "  inflating: /content/manipulated_sequences/Deepfakes/c23/videos/501_326.mp4  \n",
            "  inflating: /content/manipulated_sequences/Deepfakes/c23/videos/502_504.mp4  \n",
            "  inflating: /content/manipulated_sequences/Deepfakes/c23/videos/503_756.mp4  \n",
            "  inflating: /content/manipulated_sequences/Deepfakes/c23/videos/504_502.mp4  \n",
            "  inflating: /content/manipulated_sequences/Deepfakes/c23/videos/505_600.mp4  \n",
            "  inflating: /content/manipulated_sequences/Deepfakes/c23/videos/506_478.mp4  \n",
            "  inflating: /content/manipulated_sequences/Deepfakes/c23/videos/507_418.mp4  \n",
            "  inflating: /content/manipulated_sequences/Deepfakes/c23/videos/508_831.mp4  \n",
            "  inflating: /content/manipulated_sequences/Deepfakes/c23/videos/509_525.mp4  \n",
            "  inflating: /content/manipulated_sequences/Deepfakes/c23/videos/510_528.mp4  \n",
            "  inflating: /content/manipulated_sequences/Deepfakes/c23/videos/511_472.mp4  \n",
            "  inflating: /content/manipulated_sequences/Deepfakes/c23/videos/512_495.mp4  \n",
            "  inflating: /content/manipulated_sequences/Deepfakes/c23/videos/513_305.mp4  \n",
            "  inflating: /content/manipulated_sequences/Deepfakes/c23/videos/514_443.mp4  \n",
            "  inflating: /content/manipulated_sequences/Deepfakes/c23/videos/515_519.mp4  \n",
            "  inflating: /content/manipulated_sequences/Deepfakes/c23/videos/516_555.mp4  \n",
            "  inflating: /content/manipulated_sequences/Deepfakes/c23/videos/517_521.mp4  \n",
            "  inflating: /content/manipulated_sequences/Deepfakes/c23/videos/518_131.mp4  \n",
            "  inflating: /content/manipulated_sequences/Deepfakes/c23/videos/519_515.mp4  \n",
            "  inflating: /content/manipulated_sequences/Deepfakes/c23/videos/520_542.mp4  \n",
            "  inflating: /content/manipulated_sequences/Deepfakes/c23/videos/521_517.mp4  \n",
            "  inflating: /content/manipulated_sequences/Deepfakes/c23/videos/522_337.mp4  \n",
            "  inflating: /content/manipulated_sequences/Deepfakes/c23/videos/523_541.mp4  \n",
            "  inflating: /content/manipulated_sequences/Deepfakes/c23/videos/524_580.mp4  \n",
            "  inflating: /content/manipulated_sequences/Deepfakes/c23/videos/525_509.mp4  \n",
            "  inflating: /content/manipulated_sequences/Deepfakes/c23/videos/526_436.mp4  \n",
            "  inflating: /content/manipulated_sequences/Deepfakes/c23/videos/527_454.mp4  \n",
            "  inflating: /content/manipulated_sequences/Deepfakes/c23/videos/528_510.mp4  \n",
            "  inflating: /content/manipulated_sequences/Deepfakes/c23/videos/529_633.mp4  \n",
            "  inflating: /content/manipulated_sequences/Deepfakes/c23/videos/530_594.mp4  \n",
            "  inflating: /content/manipulated_sequences/Deepfakes/c23/videos/531_549.mp4  \n",
            "  inflating: /content/manipulated_sequences/Deepfakes/c23/videos/532_544.mp4  \n",
            "  inflating: /content/manipulated_sequences/Deepfakes/c23/videos/533_450.mp4  \n",
            "  inflating: /content/manipulated_sequences/Deepfakes/c23/videos/534_490.mp4  \n",
            "  inflating: /content/manipulated_sequences/Deepfakes/c23/videos/535_587.mp4  \n",
            "  inflating: /content/manipulated_sequences/Deepfakes/c23/videos/536_540.mp4  \n",
            "  inflating: /content/manipulated_sequences/Deepfakes/c23/videos/537_563.mp4  \n",
            "  inflating: /content/manipulated_sequences/Deepfakes/c23/videos/538_493.mp4  \n",
            "  inflating: /content/manipulated_sequences/Deepfakes/c23/videos/539_499.mp4  \n",
            "  inflating: /content/manipulated_sequences/Deepfakes/c23/videos/540_536.mp4  \n",
            "  inflating: /content/manipulated_sequences/Deepfakes/c23/videos/541_523.mp4  \n",
            "  inflating: /content/manipulated_sequences/Deepfakes/c23/videos/542_520.mp4  \n",
            "  inflating: /content/manipulated_sequences/Deepfakes/c23/videos/543_559.mp4  \n",
            "  inflating: /content/manipulated_sequences/Deepfakes/c23/videos/544_532.mp4  \n",
            "  inflating: /content/manipulated_sequences/Deepfakes/c23/videos/545_553.mp4  \n",
            "  inflating: /content/manipulated_sequences/Deepfakes/c23/videos/546_621.mp4  \n",
            "  inflating: /content/manipulated_sequences/Deepfakes/c23/videos/547_574.mp4  \n",
            "  inflating: /content/manipulated_sequences/Deepfakes/c23/videos/548_632.mp4  \n",
            "  inflating: /content/manipulated_sequences/Deepfakes/c23/videos/549_531.mp4  \n",
            "  inflating: /content/manipulated_sequences/Deepfakes/c23/videos/550_452.mp4  \n",
            "  inflating: /content/manipulated_sequences/Deepfakes/c23/videos/551_631.mp4  \n",
            "  inflating: /content/manipulated_sequences/Deepfakes/c23/videos/552_851.mp4  \n",
            "  inflating: /content/manipulated_sequences/Deepfakes/c23/videos/553_545.mp4  \n",
            "  inflating: /content/manipulated_sequences/Deepfakes/c23/videos/554_572.mp4  \n",
            "  inflating: /content/manipulated_sequences/Deepfakes/c23/videos/555_516.mp4  \n",
            "  inflating: /content/manipulated_sequences/Deepfakes/c23/videos/556_588.mp4  \n",
            "  inflating: /content/manipulated_sequences/Deepfakes/c23/videos/557_560.mp4  \n",
            "  inflating: /content/manipulated_sequences/Deepfakes/c23/videos/558_583.mp4  \n",
            "  inflating: /content/manipulated_sequences/Deepfakes/c23/videos/559_543.mp4  \n",
            "  inflating: /content/manipulated_sequences/Deepfakes/c23/videos/560_557.mp4  \n",
            "  inflating: /content/manipulated_sequences/Deepfakes/c23/videos/561_998.mp4  \n",
            "  inflating: /content/manipulated_sequences/Deepfakes/c23/videos/562_626.mp4  \n",
            "  inflating: /content/manipulated_sequences/Deepfakes/c23/videos/563_537.mp4  \n",
            "  inflating: /content/manipulated_sequences/Deepfakes/c23/videos/564_971.mp4  \n",
            "  inflating: /content/manipulated_sequences/Deepfakes/c23/videos/565_589.mp4  \n",
            "  inflating: /content/manipulated_sequences/Deepfakes/c23/videos/566_617.mp4  \n",
            "  inflating: /content/manipulated_sequences/Deepfakes/c23/videos/567_606.mp4  \n",
            "  inflating: /content/manipulated_sequences/Deepfakes/c23/videos/568_628.mp4  \n",
            "  inflating: /content/manipulated_sequences/Deepfakes/c23/videos/569_921.mp4  \n",
            "  inflating: /content/manipulated_sequences/Deepfakes/c23/videos/570_624.mp4  \n",
            "  inflating: /content/manipulated_sequences/Deepfakes/c23/videos/571_746.mp4  \n",
            "  inflating: /content/manipulated_sequences/Deepfakes/c23/videos/572_554.mp4  \n",
            "  inflating: /content/manipulated_sequences/Deepfakes/c23/videos/573_757.mp4  \n",
            "  inflating: /content/manipulated_sequences/Deepfakes/c23/videos/574_547.mp4  \n",
            "  inflating: /content/manipulated_sequences/Deepfakes/c23/videos/575_603.mp4  \n",
            "  inflating: /content/manipulated_sequences/Deepfakes/c23/videos/576_155.mp4  \n",
            "  inflating: /content/manipulated_sequences/Deepfakes/c23/videos/577_593.mp4  \n",
            "  inflating: /content/manipulated_sequences/Deepfakes/c23/videos/578_636.mp4  \n",
            "  inflating: /content/manipulated_sequences/Deepfakes/c23/videos/579_701.mp4  \n",
            "  inflating: /content/manipulated_sequences/Deepfakes/c23/videos/580_524.mp4  \n",
            "  inflating: /content/manipulated_sequences/Deepfakes/c23/videos/581_697.mp4  \n",
            "  inflating: /content/manipulated_sequences/Deepfakes/c23/videos/582_172.mp4  \n",
            "  inflating: /content/manipulated_sequences/Deepfakes/c23/videos/583_558.mp4  \n",
            "  inflating: /content/manipulated_sequences/Deepfakes/c23/videos/584_823.mp4  \n",
            "  inflating: /content/manipulated_sequences/Deepfakes/c23/videos/585_599.mp4  \n",
            "  inflating: /content/manipulated_sequences/Deepfakes/c23/videos/586_223.mp4  \n",
            "  inflating: /content/manipulated_sequences/Deepfakes/c23/videos/587_535.mp4  \n",
            "  inflating: /content/manipulated_sequences/Deepfakes/c23/videos/588_556.mp4  \n",
            "  inflating: /content/manipulated_sequences/Deepfakes/c23/videos/589_565.mp4  \n",
            "  inflating: /content/manipulated_sequences/Deepfakes/c23/videos/590_034.mp4  \n",
            "  inflating: /content/manipulated_sequences/Deepfakes/c23/videos/591_605.mp4  \n",
            "  inflating: /content/manipulated_sequences/Deepfakes/c23/videos/592_500.mp4  \n",
            "  inflating: /content/manipulated_sequences/Deepfakes/c23/videos/593_577.mp4  \n",
            "  inflating: /content/manipulated_sequences/Deepfakes/c23/videos/594_530.mp4  \n",
            "  inflating: /content/manipulated_sequences/Deepfakes/c23/videos/595_597.mp4  \n",
            "  inflating: /content/manipulated_sequences/Deepfakes/c23/videos/596_609.mp4  \n",
            "  inflating: /content/manipulated_sequences/Deepfakes/c23/videos/597_595.mp4  \n",
            "  inflating: /content/manipulated_sequences/Deepfakes/c23/videos/598_178.mp4  \n",
            "  inflating: /content/manipulated_sequences/Deepfakes/c23/videos/599_585.mp4  \n",
            "  inflating: /content/manipulated_sequences/Deepfakes/c23/videos/600_505.mp4  \n",
            "  inflating: /content/manipulated_sequences/Deepfakes/c23/videos/601_653.mp4  \n",
            "  inflating: /content/manipulated_sequences/Deepfakes/c23/videos/602_397.mp4  \n",
            "  inflating: /content/manipulated_sequences/Deepfakes/c23/videos/603_575.mp4  \n",
            "  inflating: /content/manipulated_sequences/Deepfakes/c23/videos/604_703.mp4  \n",
            "  inflating: /content/manipulated_sequences/Deepfakes/c23/videos/605_591.mp4  \n",
            "  inflating: /content/manipulated_sequences/Deepfakes/c23/videos/606_567.mp4  \n",
            "  inflating: /content/manipulated_sequences/Deepfakes/c23/videos/607_683.mp4  \n",
            "  inflating: /content/manipulated_sequences/Deepfakes/c23/videos/608_675.mp4  \n",
            "  inflating: /content/manipulated_sequences/Deepfakes/c23/videos/609_596.mp4  \n",
            "  inflating: /content/manipulated_sequences/Deepfakes/c23/videos/610_692.mp4  \n",
            "  inflating: /content/manipulated_sequences/Deepfakes/c23/videos/611_760.mp4  \n",
            "  inflating: /content/manipulated_sequences/Deepfakes/c23/videos/612_702.mp4  \n",
            "  inflating: /content/manipulated_sequences/Deepfakes/c23/videos/613_685.mp4  \n",
            "  inflating: /content/manipulated_sequences/Deepfakes/c23/videos/614_616.mp4  \n",
            "  inflating: /content/manipulated_sequences/Deepfakes/c23/videos/615_687.mp4  \n",
            "  inflating: /content/manipulated_sequences/Deepfakes/c23/videos/616_614.mp4  \n",
            "  inflating: /content/manipulated_sequences/Deepfakes/c23/videos/617_566.mp4  \n",
            "  inflating: /content/manipulated_sequences/Deepfakes/c23/videos/618_629.mp4  \n",
            "  inflating: /content/manipulated_sequences/Deepfakes/c23/videos/619_620.mp4  \n",
            "  inflating: /content/manipulated_sequences/Deepfakes/c23/videos/620_619.mp4  \n",
            "  inflating: /content/manipulated_sequences/Deepfakes/c23/videos/621_546.mp4  \n",
            "  inflating: /content/manipulated_sequences/Deepfakes/c23/videos/622_647.mp4  \n",
            "  inflating: /content/manipulated_sequences/Deepfakes/c23/videos/623_630.mp4  \n",
            "  inflating: /content/manipulated_sequences/Deepfakes/c23/videos/624_570.mp4  \n",
            "  inflating: /content/manipulated_sequences/Deepfakes/c23/videos/625_650.mp4  \n",
            "  inflating: /content/manipulated_sequences/Deepfakes/c23/videos/626_562.mp4  \n",
            "  inflating: /content/manipulated_sequences/Deepfakes/c23/videos/627_658.mp4  \n",
            "  inflating: /content/manipulated_sequences/Deepfakes/c23/videos/628_568.mp4  \n",
            "  inflating: /content/manipulated_sequences/Deepfakes/c23/videos/629_618.mp4  \n",
            "  inflating: /content/manipulated_sequences/Deepfakes/c23/videos/630_623.mp4  \n",
            "  inflating: /content/manipulated_sequences/Deepfakes/c23/videos/631_551.mp4  \n",
            "  inflating: /content/manipulated_sequences/Deepfakes/c23/videos/632_548.mp4  \n",
            "  inflating: /content/manipulated_sequences/Deepfakes/c23/videos/633_529.mp4  \n",
            "  inflating: /content/manipulated_sequences/Deepfakes/c23/videos/634_660.mp4  \n",
            "  inflating: /content/manipulated_sequences/Deepfakes/c23/videos/635_642.mp4  \n",
            "  inflating: /content/manipulated_sequences/Deepfakes/c23/videos/636_578.mp4  \n",
            "  inflating: /content/manipulated_sequences/Deepfakes/c23/videos/637_427.mp4  \n",
            "  inflating: /content/manipulated_sequences/Deepfakes/c23/videos/638_640.mp4  \n",
            "  inflating: /content/manipulated_sequences/Deepfakes/c23/videos/639_841.mp4  \n",
            "  inflating: /content/manipulated_sequences/Deepfakes/c23/videos/640_638.mp4  \n",
            "  inflating: /content/manipulated_sequences/Deepfakes/c23/videos/641_662.mp4  \n",
            "  inflating: /content/manipulated_sequences/Deepfakes/c23/videos/642_635.mp4  \n",
            "  inflating: /content/manipulated_sequences/Deepfakes/c23/videos/643_646.mp4  \n",
            "  inflating: /content/manipulated_sequences/Deepfakes/c23/videos/644_657.mp4  \n",
            "  inflating: /content/manipulated_sequences/Deepfakes/c23/videos/645_688.mp4  \n",
            "  inflating: /content/manipulated_sequences/Deepfakes/c23/videos/646_643.mp4  \n",
            "  inflating: /content/manipulated_sequences/Deepfakes/c23/videos/647_622.mp4  \n",
            "  inflating: /content/manipulated_sequences/Deepfakes/c23/videos/648_654.mp4  \n",
            "  inflating: /content/manipulated_sequences/Deepfakes/c23/videos/649_816.mp4  \n",
            "  inflating: /content/manipulated_sequences/Deepfakes/c23/videos/650_625.mp4  \n",
            "  inflating: /content/manipulated_sequences/Deepfakes/c23/videos/651_835.mp4  \n",
            "  inflating: /content/manipulated_sequences/Deepfakes/c23/videos/652_773.mp4  \n",
            "  inflating: /content/manipulated_sequences/Deepfakes/c23/videos/653_601.mp4  \n",
            "  inflating: /content/manipulated_sequences/Deepfakes/c23/videos/654_648.mp4  \n",
            "  inflating: /content/manipulated_sequences/Deepfakes/c23/videos/655_444.mp4  \n",
            "  inflating: /content/manipulated_sequences/Deepfakes/c23/videos/656_666.mp4  \n",
            "  inflating: /content/manipulated_sequences/Deepfakes/c23/videos/657_644.mp4  \n",
            "  inflating: /content/manipulated_sequences/Deepfakes/c23/videos/658_627.mp4  \n",
            "  inflating: /content/manipulated_sequences/Deepfakes/c23/videos/659_749.mp4  \n",
            "  inflating: /content/manipulated_sequences/Deepfakes/c23/videos/660_634.mp4  \n",
            "  inflating: /content/manipulated_sequences/Deepfakes/c23/videos/661_670.mp4  \n",
            "  inflating: /content/manipulated_sequences/Deepfakes/c23/videos/662_641.mp4  \n",
            "  inflating: /content/manipulated_sequences/Deepfakes/c23/videos/663_231.mp4  \n",
            "  inflating: /content/manipulated_sequences/Deepfakes/c23/videos/664_668.mp4  \n",
            "  inflating: /content/manipulated_sequences/Deepfakes/c23/videos/665_679.mp4  \n",
            "  inflating: /content/manipulated_sequences/Deepfakes/c23/videos/666_656.mp4  \n",
            "  inflating: /content/manipulated_sequences/Deepfakes/c23/videos/667_446.mp4  \n",
            "  inflating: /content/manipulated_sequences/Deepfakes/c23/videos/668_664.mp4  \n",
            "  inflating: /content/manipulated_sequences/Deepfakes/c23/videos/669_682.mp4  \n",
            "  inflating: /content/manipulated_sequences/Deepfakes/c23/videos/670_661.mp4  \n",
            "  inflating: /content/manipulated_sequences/Deepfakes/c23/videos/671_677.mp4  \n",
            "  inflating: /content/manipulated_sequences/Deepfakes/c23/videos/672_720.mp4  \n",
            "  inflating: /content/manipulated_sequences/Deepfakes/c23/videos/673_728.mp4  \n",
            "  inflating: /content/manipulated_sequences/Deepfakes/c23/videos/674_744.mp4  \n",
            "  inflating: /content/manipulated_sequences/Deepfakes/c23/videos/675_608.mp4  \n",
            "  inflating: /content/manipulated_sequences/Deepfakes/c23/videos/676_776.mp4  \n",
            "  inflating: /content/manipulated_sequences/Deepfakes/c23/videos/677_671.mp4  \n",
            "  inflating: /content/manipulated_sequences/Deepfakes/c23/videos/678_460.mp4  \n",
            "  inflating: /content/manipulated_sequences/Deepfakes/c23/videos/679_665.mp4  \n",
            "  inflating: /content/manipulated_sequences/Deepfakes/c23/videos/680_486.mp4  \n",
            "  inflating: /content/manipulated_sequences/Deepfakes/c23/videos/681_711.mp4  \n",
            "  inflating: /content/manipulated_sequences/Deepfakes/c23/videos/682_669.mp4  \n",
            "  inflating: /content/manipulated_sequences/Deepfakes/c23/videos/683_607.mp4  \n",
            "  inflating: /content/manipulated_sequences/Deepfakes/c23/videos/684_717.mp4  \n",
            "  inflating: /content/manipulated_sequences/Deepfakes/c23/videos/685_613.mp4  \n",
            "  inflating: /content/manipulated_sequences/Deepfakes/c23/videos/686_696.mp4  \n",
            "  inflating: /content/manipulated_sequences/Deepfakes/c23/videos/687_615.mp4  \n",
            "  inflating: /content/manipulated_sequences/Deepfakes/c23/videos/688_645.mp4  \n",
            "  inflating: /content/manipulated_sequences/Deepfakes/c23/videos/689_690.mp4  \n",
            "  inflating: /content/manipulated_sequences/Deepfakes/c23/videos/690_689.mp4  \n",
            "  inflating: /content/manipulated_sequences/Deepfakes/c23/videos/691_732.mp4  \n",
            "  inflating: /content/manipulated_sequences/Deepfakes/c23/videos/692_610.mp4  \n",
            "  inflating: /content/manipulated_sequences/Deepfakes/c23/videos/693_698.mp4  \n",
            "  inflating: /content/manipulated_sequences/Deepfakes/c23/videos/694_767.mp4  \n",
            "  inflating: /content/manipulated_sequences/Deepfakes/c23/videos/695_422.mp4  \n",
            "  inflating: /content/manipulated_sequences/Deepfakes/c23/videos/696_686.mp4  \n",
            "  inflating: /content/manipulated_sequences/Deepfakes/c23/videos/697_581.mp4  \n",
            "  inflating: /content/manipulated_sequences/Deepfakes/c23/videos/698_693.mp4  \n",
            "  inflating: /content/manipulated_sequences/Deepfakes/c23/videos/699_734.mp4  \n",
            "  inflating: /content/manipulated_sequences/Deepfakes/c23/videos/700_813.mp4  \n",
            "  inflating: /content/manipulated_sequences/Deepfakes/c23/videos/701_579.mp4  \n",
            "  inflating: /content/manipulated_sequences/Deepfakes/c23/videos/702_612.mp4  \n",
            "  inflating: /content/manipulated_sequences/Deepfakes/c23/videos/703_604.mp4  \n",
            "  inflating: /content/manipulated_sequences/Deepfakes/c23/videos/704_723.mp4  \n",
            "  inflating: /content/manipulated_sequences/Deepfakes/c23/videos/705_707.mp4  \n",
            "  inflating: /content/manipulated_sequences/Deepfakes/c23/videos/706_479.mp4  \n",
            "  inflating: /content/manipulated_sequences/Deepfakes/c23/videos/707_705.mp4  \n",
            "  inflating: /content/manipulated_sequences/Deepfakes/c23/videos/708_772.mp4  \n",
            "  inflating: /content/manipulated_sequences/Deepfakes/c23/videos/709_390.mp4  \n",
            "  inflating: /content/manipulated_sequences/Deepfakes/c23/videos/710_788.mp4  \n",
            "  inflating: /content/manipulated_sequences/Deepfakes/c23/videos/711_681.mp4  \n",
            "  inflating: /content/manipulated_sequences/Deepfakes/c23/videos/712_716.mp4  \n",
            "  inflating: /content/manipulated_sequences/Deepfakes/c23/videos/713_726.mp4  \n",
            "  inflating: /content/manipulated_sequences/Deepfakes/c23/videos/714_842.mp4  \n",
            "  inflating: /content/manipulated_sequences/Deepfakes/c23/videos/715_721.mp4  \n",
            "  inflating: /content/manipulated_sequences/Deepfakes/c23/videos/716_712.mp4  \n",
            "  inflating: /content/manipulated_sequences/Deepfakes/c23/videos/717_684.mp4  \n",
            "  inflating: /content/manipulated_sequences/Deepfakes/c23/videos/718_972.mp4  \n",
            "  inflating: /content/manipulated_sequences/Deepfakes/c23/videos/719_737.mp4  \n",
            "  inflating: /content/manipulated_sequences/Deepfakes/c23/videos/720_672.mp4  \n",
            "  inflating: /content/manipulated_sequences/Deepfakes/c23/videos/721_715.mp4  \n",
            "  inflating: /content/manipulated_sequences/Deepfakes/c23/videos/722_458.mp4  \n",
            "  inflating: /content/manipulated_sequences/Deepfakes/c23/videos/723_704.mp4  \n",
            "  inflating: /content/manipulated_sequences/Deepfakes/c23/videos/724_725.mp4  \n",
            "  inflating: /content/manipulated_sequences/Deepfakes/c23/videos/725_724.mp4  \n",
            "  inflating: /content/manipulated_sequences/Deepfakes/c23/videos/726_713.mp4  \n",
            "  inflating: /content/manipulated_sequences/Deepfakes/c23/videos/727_729.mp4  \n",
            "  inflating: /content/manipulated_sequences/Deepfakes/c23/videos/728_673.mp4  \n",
            "  inflating: /content/manipulated_sequences/Deepfakes/c23/videos/729_727.mp4  \n",
            "  inflating: /content/manipulated_sequences/Deepfakes/c23/videos/730_815.mp4  \n",
            "  inflating: /content/manipulated_sequences/Deepfakes/c23/videos/731_741.mp4  \n",
            "  inflating: /content/manipulated_sequences/Deepfakes/c23/videos/732_691.mp4  \n",
            "  inflating: /content/manipulated_sequences/Deepfakes/c23/videos/733_935.mp4  \n",
            "  inflating: /content/manipulated_sequences/Deepfakes/c23/videos/734_699.mp4  \n",
            "  inflating: /content/manipulated_sequences/Deepfakes/c23/videos/735_774.mp4  \n",
            "  inflating: /content/manipulated_sequences/Deepfakes/c23/videos/736_785.mp4  \n",
            "  inflating: /content/manipulated_sequences/Deepfakes/c23/videos/737_719.mp4  \n",
            "  inflating: /content/manipulated_sequences/Deepfakes/c23/videos/738_804.mp4  \n",
            "  inflating: /content/manipulated_sequences/Deepfakes/c23/videos/739_865.mp4  \n",
            "  inflating: /content/manipulated_sequences/Deepfakes/c23/videos/740_796.mp4  \n",
            "  inflating: /content/manipulated_sequences/Deepfakes/c23/videos/741_731.mp4  \n",
            "  inflating: /content/manipulated_sequences/Deepfakes/c23/videos/742_775.mp4  \n",
            "  inflating: /content/manipulated_sequences/Deepfakes/c23/videos/743_750.mp4  \n",
            "  inflating: /content/manipulated_sequences/Deepfakes/c23/videos/744_674.mp4  \n",
            "  inflating: /content/manipulated_sequences/Deepfakes/c23/videos/745_777.mp4  \n",
            "  inflating: /content/manipulated_sequences/Deepfakes/c23/videos/746_571.mp4  \n",
            "  inflating: /content/manipulated_sequences/Deepfakes/c23/videos/747_854.mp4  \n",
            "  inflating: /content/manipulated_sequences/Deepfakes/c23/videos/748_355.mp4  \n",
            "  inflating: /content/manipulated_sequences/Deepfakes/c23/videos/749_659.mp4  \n",
            "  inflating: /content/manipulated_sequences/Deepfakes/c23/videos/750_743.mp4  \n",
            "  inflating: /content/manipulated_sequences/Deepfakes/c23/videos/751_752.mp4  \n",
            "  inflating: /content/manipulated_sequences/Deepfakes/c23/videos/752_751.mp4  \n",
            "  inflating: /content/manipulated_sequences/Deepfakes/c23/videos/753_789.mp4  \n",
            "  inflating: /content/manipulated_sequences/Deepfakes/c23/videos/754_758.mp4  \n",
            "  inflating: /content/manipulated_sequences/Deepfakes/c23/videos/755_759.mp4  \n",
            "  inflating: /content/manipulated_sequences/Deepfakes/c23/videos/756_503.mp4  \n",
            "  inflating: /content/manipulated_sequences/Deepfakes/c23/videos/757_573.mp4  \n",
            "  inflating: /content/manipulated_sequences/Deepfakes/c23/videos/758_754.mp4  \n",
            "  inflating: /content/manipulated_sequences/Deepfakes/c23/videos/759_755.mp4  \n",
            "  inflating: /content/manipulated_sequences/Deepfakes/c23/videos/760_611.mp4  \n",
            "  inflating: /content/manipulated_sequences/Deepfakes/c23/videos/761_766.mp4  \n",
            "  inflating: /content/manipulated_sequences/Deepfakes/c23/videos/762_832.mp4  \n",
            "  inflating: /content/manipulated_sequences/Deepfakes/c23/videos/763_930.mp4  \n",
            "  inflating: /content/manipulated_sequences/Deepfakes/c23/videos/764_850.mp4  \n",
            "  inflating: /content/manipulated_sequences/Deepfakes/c23/videos/765_867.mp4  \n",
            "  inflating: /content/manipulated_sequences/Deepfakes/c23/videos/766_761.mp4  \n",
            "  inflating: /content/manipulated_sequences/Deepfakes/c23/videos/767_694.mp4  \n",
            "  inflating: /content/manipulated_sequences/Deepfakes/c23/videos/768_793.mp4  \n",
            "  inflating: /content/manipulated_sequences/Deepfakes/c23/videos/769_784.mp4  \n",
            "  inflating: /content/manipulated_sequences/Deepfakes/c23/videos/770_791.mp4  \n",
            "  inflating: /content/manipulated_sequences/Deepfakes/c23/videos/771_849.mp4  \n",
            "  inflating: /content/manipulated_sequences/Deepfakes/c23/videos/772_708.mp4  \n",
            "  inflating: /content/manipulated_sequences/Deepfakes/c23/videos/773_652.mp4  \n",
            "  inflating: /content/manipulated_sequences/Deepfakes/c23/videos/774_735.mp4  \n",
            "  inflating: /content/manipulated_sequences/Deepfakes/c23/videos/775_742.mp4  \n",
            "  inflating: /content/manipulated_sequences/Deepfakes/c23/videos/776_676.mp4  \n",
            "  inflating: /content/manipulated_sequences/Deepfakes/c23/videos/777_745.mp4  \n",
            "  inflating: /content/manipulated_sequences/Deepfakes/c23/videos/778_798.mp4  \n",
            "  inflating: /content/manipulated_sequences/Deepfakes/c23/videos/779_794.mp4  \n",
            "  inflating: /content/manipulated_sequences/Deepfakes/c23/videos/780_869.mp4  \n",
            "  inflating: /content/manipulated_sequences/Deepfakes/c23/videos/781_806.mp4  \n",
            "  inflating: /content/manipulated_sequences/Deepfakes/c23/videos/782_787.mp4  \n",
            "  inflating: /content/manipulated_sequences/Deepfakes/c23/videos/783_916.mp4  \n",
            "  inflating: /content/manipulated_sequences/Deepfakes/c23/videos/784_769.mp4  \n",
            "  inflating: /content/manipulated_sequences/Deepfakes/c23/videos/785_736.mp4  \n",
            "  inflating: /content/manipulated_sequences/Deepfakes/c23/videos/786_819.mp4  \n",
            "  inflating: /content/manipulated_sequences/Deepfakes/c23/videos/787_782.mp4  \n",
            "  inflating: /content/manipulated_sequences/Deepfakes/c23/videos/788_710.mp4  \n",
            "  inflating: /content/manipulated_sequences/Deepfakes/c23/videos/789_753.mp4  \n",
            "  inflating: /content/manipulated_sequences/Deepfakes/c23/videos/790_014.mp4  \n",
            "  inflating: /content/manipulated_sequences/Deepfakes/c23/videos/791_770.mp4  \n",
            "  inflating: /content/manipulated_sequences/Deepfakes/c23/videos/792_903.mp4  \n",
            "  inflating: /content/manipulated_sequences/Deepfakes/c23/videos/793_768.mp4  \n",
            "  inflating: /content/manipulated_sequences/Deepfakes/c23/videos/794_779.mp4  \n",
            "  inflating: /content/manipulated_sequences/Deepfakes/c23/videos/795_907.mp4  \n",
            "  inflating: /content/manipulated_sequences/Deepfakes/c23/videos/796_740.mp4  \n",
            "  inflating: /content/manipulated_sequences/Deepfakes/c23/videos/797_844.mp4  \n",
            "  inflating: /content/manipulated_sequences/Deepfakes/c23/videos/798_778.mp4  \n",
            "  inflating: /content/manipulated_sequences/Deepfakes/c23/videos/799_809.mp4  \n",
            "  inflating: /content/manipulated_sequences/Deepfakes/c23/videos/800_840.mp4  \n",
            "  inflating: /content/manipulated_sequences/Deepfakes/c23/videos/801_855.mp4  \n",
            "  inflating: /content/manipulated_sequences/Deepfakes/c23/videos/802_885.mp4  \n",
            "  inflating: /content/manipulated_sequences/Deepfakes/c23/videos/803_017.mp4  \n",
            "  inflating: /content/manipulated_sequences/Deepfakes/c23/videos/804_738.mp4  \n",
            "  inflating: /content/manipulated_sequences/Deepfakes/c23/videos/805_011.mp4  \n",
            "  inflating: /content/manipulated_sequences/Deepfakes/c23/videos/806_781.mp4  \n",
            "  inflating: /content/manipulated_sequences/Deepfakes/c23/videos/807_273.mp4  \n",
            "  inflating: /content/manipulated_sequences/Deepfakes/c23/videos/808_829.mp4  \n",
            "  inflating: /content/manipulated_sequences/Deepfakes/c23/videos/809_799.mp4  \n",
            "  inflating: /content/manipulated_sequences/Deepfakes/c23/videos/810_838.mp4  \n",
            "  inflating: /content/manipulated_sequences/Deepfakes/c23/videos/811_920.mp4  \n",
            "  inflating: /content/manipulated_sequences/Deepfakes/c23/videos/812_821.mp4  \n",
            "  inflating: /content/manipulated_sequences/Deepfakes/c23/videos/813_700.mp4  \n",
            "  inflating: /content/manipulated_sequences/Deepfakes/c23/videos/814_871.mp4  \n",
            "  inflating: /content/manipulated_sequences/Deepfakes/c23/videos/815_730.mp4  \n",
            "  inflating: /content/manipulated_sequences/Deepfakes/c23/videos/816_649.mp4  \n",
            "  inflating: /content/manipulated_sequences/Deepfakes/c23/videos/817_827.mp4  \n",
            "  inflating: /content/manipulated_sequences/Deepfakes/c23/videos/818_820.mp4  \n",
            "  inflating: /content/manipulated_sequences/Deepfakes/c23/videos/819_786.mp4  \n",
            "  inflating: /content/manipulated_sequences/Deepfakes/c23/videos/820_818.mp4  \n",
            "  inflating: /content/manipulated_sequences/Deepfakes/c23/videos/821_812.mp4  \n",
            "  inflating: /content/manipulated_sequences/Deepfakes/c23/videos/822_244.mp4  \n",
            "  inflating: /content/manipulated_sequences/Deepfakes/c23/videos/823_584.mp4  \n",
            "  inflating: /content/manipulated_sequences/Deepfakes/c23/videos/824_419.mp4  \n",
            "  inflating: /content/manipulated_sequences/Deepfakes/c23/videos/825_074.mp4  \n",
            "  inflating: /content/manipulated_sequences/Deepfakes/c23/videos/826_833.mp4  \n",
            "  inflating: /content/manipulated_sequences/Deepfakes/c23/videos/827_817.mp4  \n",
            "  inflating: /content/manipulated_sequences/Deepfakes/c23/videos/828_830.mp4  \n",
            "  inflating: /content/manipulated_sequences/Deepfakes/c23/videos/829_808.mp4  \n",
            "  inflating: /content/manipulated_sequences/Deepfakes/c23/videos/830_828.mp4  \n",
            "  inflating: /content/manipulated_sequences/Deepfakes/c23/videos/831_508.mp4  \n",
            "  inflating: /content/manipulated_sequences/Deepfakes/c23/videos/832_762.mp4  \n",
            "  inflating: /content/manipulated_sequences/Deepfakes/c23/videos/833_826.mp4  \n",
            "  inflating: /content/manipulated_sequences/Deepfakes/c23/videos/834_852.mp4  \n",
            "  inflating: /content/manipulated_sequences/Deepfakes/c23/videos/835_651.mp4  \n",
            "  inflating: /content/manipulated_sequences/Deepfakes/c23/videos/836_950.mp4  \n",
            "  inflating: /content/manipulated_sequences/Deepfakes/c23/videos/837_890.mp4  \n",
            "  inflating: /content/manipulated_sequences/Deepfakes/c23/videos/838_810.mp4  \n",
            "  inflating: /content/manipulated_sequences/Deepfakes/c23/videos/839_864.mp4  \n",
            "  inflating: /content/manipulated_sequences/Deepfakes/c23/videos/840_800.mp4  \n",
            "  inflating: /content/manipulated_sequences/Deepfakes/c23/videos/841_639.mp4  \n",
            "  inflating: /content/manipulated_sequences/Deepfakes/c23/videos/842_714.mp4  \n",
            "  inflating: /content/manipulated_sequences/Deepfakes/c23/videos/843_859.mp4  \n",
            "  inflating: /content/manipulated_sequences/Deepfakes/c23/videos/844_797.mp4  \n",
            "  inflating: /content/manipulated_sequences/Deepfakes/c23/videos/845_846.mp4  \n",
            "  inflating: /content/manipulated_sequences/Deepfakes/c23/videos/846_845.mp4  \n",
            "  inflating: /content/manipulated_sequences/Deepfakes/c23/videos/847_906.mp4  \n",
            "  inflating: /content/manipulated_sequences/Deepfakes/c23/videos/848_894.mp4  \n",
            "  inflating: /content/manipulated_sequences/Deepfakes/c23/videos/849_771.mp4  \n",
            "  inflating: /content/manipulated_sequences/Deepfakes/c23/videos/850_764.mp4  \n",
            "  inflating: /content/manipulated_sequences/Deepfakes/c23/videos/851_552.mp4  \n",
            "  inflating: /content/manipulated_sequences/Deepfakes/c23/videos/852_834.mp4  \n",
            "  inflating: /content/manipulated_sequences/Deepfakes/c23/videos/853_863.mp4  \n",
            "  inflating: /content/manipulated_sequences/Deepfakes/c23/videos/854_747.mp4  \n",
            "  inflating: /content/manipulated_sequences/Deepfakes/c23/videos/855_801.mp4  \n",
            "  inflating: /content/manipulated_sequences/Deepfakes/c23/videos/856_881.mp4  \n",
            "  inflating: /content/manipulated_sequences/Deepfakes/c23/videos/857_909.mp4  \n",
            "  inflating: /content/manipulated_sequences/Deepfakes/c23/videos/858_861.mp4  \n",
            "  inflating: /content/manipulated_sequences/Deepfakes/c23/videos/859_843.mp4  \n",
            "  inflating: /content/manipulated_sequences/Deepfakes/c23/videos/860_905.mp4  \n",
            "  inflating: /content/manipulated_sequences/Deepfakes/c23/videos/861_858.mp4  \n",
            "  inflating: /content/manipulated_sequences/Deepfakes/c23/videos/862_047.mp4  \n",
            "  inflating: /content/manipulated_sequences/Deepfakes/c23/videos/863_853.mp4  \n",
            "  inflating: /content/manipulated_sequences/Deepfakes/c23/videos/864_839.mp4  \n",
            "  inflating: /content/manipulated_sequences/Deepfakes/c23/videos/865_739.mp4  \n",
            "  inflating: /content/manipulated_sequences/Deepfakes/c23/videos/866_878.mp4  \n",
            "  inflating: /content/manipulated_sequences/Deepfakes/c23/videos/867_765.mp4  \n",
            "  inflating: /content/manipulated_sequences/Deepfakes/c23/videos/868_949.mp4  \n",
            "  inflating: /content/manipulated_sequences/Deepfakes/c23/videos/869_780.mp4  \n",
            "  inflating: /content/manipulated_sequences/Deepfakes/c23/videos/870_001.mp4  \n",
            "  inflating: /content/manipulated_sequences/Deepfakes/c23/videos/871_814.mp4  \n",
            "  inflating: /content/manipulated_sequences/Deepfakes/c23/videos/872_873.mp4  \n",
            "  inflating: /content/manipulated_sequences/Deepfakes/c23/videos/873_872.mp4  \n",
            "  inflating: /content/manipulated_sequences/Deepfakes/c23/videos/874_291.mp4  \n",
            "  inflating: /content/manipulated_sequences/Deepfakes/c23/videos/875_979.mp4  \n",
            "  inflating: /content/manipulated_sequences/Deepfakes/c23/videos/876_891.mp4  \n",
            "  inflating: /content/manipulated_sequences/Deepfakes/c23/videos/877_886.mp4  \n",
            "  inflating: /content/manipulated_sequences/Deepfakes/c23/videos/878_866.mp4  \n",
            "  inflating: /content/manipulated_sequences/Deepfakes/c23/videos/879_963.mp4  \n",
            "  inflating: /content/manipulated_sequences/Deepfakes/c23/videos/880_135.mp4  \n",
            "  inflating: /content/manipulated_sequences/Deepfakes/c23/videos/881_856.mp4  \n",
            "  inflating: /content/manipulated_sequences/Deepfakes/c23/videos/882_952.mp4  \n",
            "  inflating: /content/manipulated_sequences/Deepfakes/c23/videos/883_013.mp4  \n",
            "  inflating: /content/manipulated_sequences/Deepfakes/c23/videos/884_968.mp4  \n",
            "  inflating: /content/manipulated_sequences/Deepfakes/c23/videos/885_802.mp4  \n",
            "  inflating: /content/manipulated_sequences/Deepfakes/c23/videos/886_877.mp4  \n",
            "  inflating: /content/manipulated_sequences/Deepfakes/c23/videos/887_275.mp4  \n",
            "  inflating: /content/manipulated_sequences/Deepfakes/c23/videos/888_937.mp4  \n",
            "  inflating: /content/manipulated_sequences/Deepfakes/c23/videos/889_045.mp4  \n",
            "  inflating: /content/manipulated_sequences/Deepfakes/c23/videos/890_837.mp4  \n",
            "  inflating: /content/manipulated_sequences/Deepfakes/c23/videos/891_876.mp4  \n",
            "  inflating: /content/manipulated_sequences/Deepfakes/c23/videos/892_112.mp4  \n",
            "  inflating: /content/manipulated_sequences/Deepfakes/c23/videos/893_913.mp4  \n",
            "  inflating: /content/manipulated_sequences/Deepfakes/c23/videos/894_848.mp4  \n",
            "  inflating: /content/manipulated_sequences/Deepfakes/c23/videos/895_915.mp4  \n",
            "  inflating: /content/manipulated_sequences/Deepfakes/c23/videos/896_128.mp4  \n",
            "  inflating: /content/manipulated_sequences/Deepfakes/c23/videos/897_969.mp4  \n",
            "  inflating: /content/manipulated_sequences/Deepfakes/c23/videos/898_922.mp4  \n",
            "  inflating: /content/manipulated_sequences/Deepfakes/c23/videos/899_914.mp4  \n",
            "  inflating: /content/manipulated_sequences/Deepfakes/c23/videos/900_926.mp4  \n",
            "  inflating: /content/manipulated_sequences/Deepfakes/c23/videos/901_902.mp4  \n",
            "  inflating: /content/manipulated_sequences/Deepfakes/c23/videos/902_901.mp4  \n",
            "  inflating: /content/manipulated_sequences/Deepfakes/c23/videos/903_792.mp4  \n",
            "  inflating: /content/manipulated_sequences/Deepfakes/c23/videos/904_046.mp4  \n",
            "  inflating: /content/manipulated_sequences/Deepfakes/c23/videos/905_860.mp4  \n",
            "  inflating: /content/manipulated_sequences/Deepfakes/c23/videos/906_847.mp4  \n",
            "  inflating: /content/manipulated_sequences/Deepfakes/c23/videos/907_795.mp4  \n",
            "  inflating: /content/manipulated_sequences/Deepfakes/c23/videos/908_207.mp4  \n",
            "  inflating: /content/manipulated_sequences/Deepfakes/c23/videos/909_857.mp4  \n",
            "  inflating: /content/manipulated_sequences/Deepfakes/c23/videos/910_911.mp4  \n",
            "  inflating: /content/manipulated_sequences/Deepfakes/c23/videos/911_910.mp4  \n",
            "  inflating: /content/manipulated_sequences/Deepfakes/c23/videos/912_927.mp4  \n",
            "  inflating: /content/manipulated_sequences/Deepfakes/c23/videos/913_893.mp4  \n",
            "  inflating: /content/manipulated_sequences/Deepfakes/c23/videos/914_899.mp4  \n",
            "  inflating: /content/manipulated_sequences/Deepfakes/c23/videos/915_895.mp4  \n",
            "  inflating: /content/manipulated_sequences/Deepfakes/c23/videos/916_783.mp4  \n",
            "  inflating: /content/manipulated_sequences/Deepfakes/c23/videos/917_924.mp4  \n",
            "  inflating: /content/manipulated_sequences/Deepfakes/c23/videos/918_934.mp4  \n",
            "  inflating: /content/manipulated_sequences/Deepfakes/c23/videos/919_015.mp4  \n",
            "  inflating: /content/manipulated_sequences/Deepfakes/c23/videos/920_811.mp4  \n",
            "  inflating: /content/manipulated_sequences/Deepfakes/c23/videos/921_569.mp4  \n",
            "  inflating: /content/manipulated_sequences/Deepfakes/c23/videos/922_898.mp4  \n",
            "  inflating: /content/manipulated_sequences/Deepfakes/c23/videos/923_023.mp4  \n",
            "  inflating: /content/manipulated_sequences/Deepfakes/c23/videos/924_917.mp4  \n",
            "  inflating: /content/manipulated_sequences/Deepfakes/c23/videos/925_933.mp4  \n",
            "  inflating: /content/manipulated_sequences/Deepfakes/c23/videos/926_900.mp4  \n",
            "  inflating: /content/manipulated_sequences/Deepfakes/c23/videos/927_912.mp4  \n",
            "  inflating: /content/manipulated_sequences/Deepfakes/c23/videos/928_160.mp4  \n",
            "  inflating: /content/manipulated_sequences/Deepfakes/c23/videos/929_962.mp4  \n",
            "  inflating: /content/manipulated_sequences/Deepfakes/c23/videos/930_763.mp4  \n",
            "  inflating: /content/manipulated_sequences/Deepfakes/c23/videos/931_936.mp4  \n",
            "  inflating: /content/manipulated_sequences/Deepfakes/c23/videos/932_384.mp4  \n",
            "  inflating: /content/manipulated_sequences/Deepfakes/c23/videos/933_925.mp4  \n",
            "  inflating: /content/manipulated_sequences/Deepfakes/c23/videos/934_918.mp4  \n",
            "  inflating: /content/manipulated_sequences/Deepfakes/c23/videos/935_733.mp4  \n",
            "  inflating: /content/manipulated_sequences/Deepfakes/c23/videos/936_931.mp4  \n",
            "  inflating: /content/manipulated_sequences/Deepfakes/c23/videos/937_888.mp4  \n",
            "  inflating: /content/manipulated_sequences/Deepfakes/c23/videos/938_987.mp4  \n",
            "  inflating: /content/manipulated_sequences/Deepfakes/c23/videos/939_115.mp4  \n",
            "  inflating: /content/manipulated_sequences/Deepfakes/c23/videos/940_941.mp4  \n",
            "  inflating: /content/manipulated_sequences/Deepfakes/c23/videos/941_940.mp4  \n",
            "  inflating: /content/manipulated_sequences/Deepfakes/c23/videos/942_943.mp4  \n",
            "  inflating: /content/manipulated_sequences/Deepfakes/c23/videos/943_942.mp4  \n",
            "  inflating: /content/manipulated_sequences/Deepfakes/c23/videos/944_032.mp4  \n",
            "  inflating: /content/manipulated_sequences/Deepfakes/c23/videos/945_044.mp4  \n",
            "  inflating: /content/manipulated_sequences/Deepfakes/c23/videos/946_049.mp4  \n",
            "  inflating: /content/manipulated_sequences/Deepfakes/c23/videos/947_951.mp4  \n",
            "  inflating: /content/manipulated_sequences/Deepfakes/c23/videos/948_965.mp4  \n",
            "  inflating: /content/manipulated_sequences/Deepfakes/c23/videos/949_868.mp4  \n",
            "  inflating: /content/manipulated_sequences/Deepfakes/c23/videos/950_836.mp4  \n",
            "  inflating: /content/manipulated_sequences/Deepfakes/c23/videos/951_947.mp4  \n",
            "  inflating: /content/manipulated_sequences/Deepfakes/c23/videos/952_882.mp4  \n",
            "  inflating: /content/manipulated_sequences/Deepfakes/c23/videos/953_974.mp4  \n",
            "  inflating: /content/manipulated_sequences/Deepfakes/c23/videos/954_976.mp4  \n",
            "  inflating: /content/manipulated_sequences/Deepfakes/c23/videos/955_078.mp4  \n",
            "  inflating: /content/manipulated_sequences/Deepfakes/c23/videos/956_958.mp4  \n",
            "  inflating: /content/manipulated_sequences/Deepfakes/c23/videos/957_959.mp4  \n",
            "  inflating: /content/manipulated_sequences/Deepfakes/c23/videos/958_956.mp4  \n",
            "  inflating: /content/manipulated_sequences/Deepfakes/c23/videos/959_957.mp4  \n",
            "  inflating: /content/manipulated_sequences/Deepfakes/c23/videos/960_999.mp4  \n",
            "  inflating: /content/manipulated_sequences/Deepfakes/c23/videos/961_069.mp4  \n",
            "  inflating: /content/manipulated_sequences/Deepfakes/c23/videos/962_929.mp4  \n",
            "  inflating: /content/manipulated_sequences/Deepfakes/c23/videos/963_879.mp4  \n",
            "  inflating: /content/manipulated_sequences/Deepfakes/c23/videos/964_174.mp4  \n",
            "  inflating: /content/manipulated_sequences/Deepfakes/c23/videos/965_948.mp4  \n",
            "  inflating: /content/manipulated_sequences/Deepfakes/c23/videos/966_988.mp4  \n",
            "  inflating: /content/manipulated_sequences/Deepfakes/c23/videos/967_984.mp4  \n",
            "  inflating: /content/manipulated_sequences/Deepfakes/c23/videos/968_884.mp4  \n",
            "  inflating: /content/manipulated_sequences/Deepfakes/c23/videos/969_897.mp4  \n",
            "  inflating: /content/manipulated_sequences/Deepfakes/c23/videos/970_973.mp4  \n",
            "  inflating: /content/manipulated_sequences/Deepfakes/c23/videos/971_564.mp4  \n",
            "  inflating: /content/manipulated_sequences/Deepfakes/c23/videos/972_718.mp4  \n",
            "  inflating: /content/manipulated_sequences/Deepfakes/c23/videos/973_970.mp4  \n",
            "  inflating: /content/manipulated_sequences/Deepfakes/c23/videos/974_953.mp4  \n",
            "  inflating: /content/manipulated_sequences/Deepfakes/c23/videos/975_978.mp4  \n",
            "  inflating: /content/manipulated_sequences/Deepfakes/c23/videos/976_954.mp4  \n",
            "  inflating: /content/manipulated_sequences/Deepfakes/c23/videos/977_075.mp4  \n",
            "  inflating: /content/manipulated_sequences/Deepfakes/c23/videos/978_975.mp4  \n",
            "  inflating: /content/manipulated_sequences/Deepfakes/c23/videos/979_875.mp4  \n",
            "  inflating: /content/manipulated_sequences/Deepfakes/c23/videos/980_992.mp4  \n",
            "  inflating: /content/manipulated_sequences/Deepfakes/c23/videos/981_985.mp4  \n",
            "  inflating: /content/manipulated_sequences/Deepfakes/c23/videos/982_004.mp4  \n",
            "  inflating: /content/manipulated_sequences/Deepfakes/c23/videos/983_113.mp4  \n",
            "  inflating: /content/manipulated_sequences/Deepfakes/c23/videos/984_967.mp4  \n",
            "  inflating: /content/manipulated_sequences/Deepfakes/c23/videos/985_981.mp4  \n",
            "  inflating: /content/manipulated_sequences/Deepfakes/c23/videos/986_994.mp4  \n",
            "  inflating: /content/manipulated_sequences/Deepfakes/c23/videos/987_938.mp4  \n",
            "  inflating: /content/manipulated_sequences/Deepfakes/c23/videos/988_966.mp4  \n",
            "  inflating: /content/manipulated_sequences/Deepfakes/c23/videos/989_993.mp4  \n",
            "  inflating: /content/manipulated_sequences/Deepfakes/c23/videos/990_008.mp4  \n",
            "  inflating: /content/manipulated_sequences/Deepfakes/c23/videos/991_064.mp4  \n",
            "  inflating: /content/manipulated_sequences/Deepfakes/c23/videos/992_980.mp4  \n",
            "  inflating: /content/manipulated_sequences/Deepfakes/c23/videos/993_989.mp4  \n",
            "  inflating: /content/manipulated_sequences/Deepfakes/c23/videos/994_986.mp4  \n",
            "  inflating: /content/manipulated_sequences/Deepfakes/c23/videos/995_233.mp4  \n",
            "  inflating: /content/manipulated_sequences/Deepfakes/c23/videos/996_056.mp4  \n",
            "  inflating: /content/manipulated_sequences/Deepfakes/c23/videos/997_040.mp4  \n",
            "  inflating: /content/manipulated_sequences/Deepfakes/c23/videos/998_561.mp4  \n",
            "  inflating: /content/manipulated_sequences/Deepfakes/c23/videos/999_960.mp4  \n",
            "  inflating: /content/manipulated_sequences/Face2Face/c23/videos/000_003.mp4  \n",
            "  inflating: /content/manipulated_sequences/Face2Face/c23/videos/001_870.mp4  \n",
            "  inflating: /content/manipulated_sequences/Face2Face/c23/videos/002_006.mp4  \n",
            "  inflating: /content/manipulated_sequences/Face2Face/c23/videos/003_000.mp4  \n",
            "  inflating: /content/manipulated_sequences/Face2Face/c23/videos/004_982.mp4  \n",
            "  inflating: /content/manipulated_sequences/Face2Face/c23/videos/005_010.mp4  \n",
            "  inflating: /content/manipulated_sequences/Face2Face/c23/videos/006_002.mp4  \n",
            "  inflating: /content/manipulated_sequences/Face2Face/c23/videos/007_132.mp4  \n",
            "  inflating: /content/manipulated_sequences/Face2Face/c23/videos/008_990.mp4  \n",
            "  inflating: /content/manipulated_sequences/Face2Face/c23/videos/009_027.mp4  \n",
            "  inflating: /content/manipulated_sequences/Face2Face/c23/videos/010_005.mp4  \n",
            "  inflating: /content/manipulated_sequences/Face2Face/c23/videos/011_805.mp4  \n",
            "  inflating: /content/manipulated_sequences/Face2Face/c23/videos/012_026.mp4  \n",
            "  inflating: /content/manipulated_sequences/Face2Face/c23/videos/013_883.mp4  \n",
            "  inflating: /content/manipulated_sequences/Face2Face/c23/videos/014_790.mp4  \n",
            "  inflating: /content/manipulated_sequences/Face2Face/c23/videos/015_919.mp4  \n",
            "  inflating: /content/manipulated_sequences/Face2Face/c23/videos/016_209.mp4  \n",
            "  inflating: /content/manipulated_sequences/Face2Face/c23/videos/017_803.mp4  \n",
            "  inflating: /content/manipulated_sequences/Face2Face/c23/videos/018_019.mp4  \n",
            "  inflating: /content/manipulated_sequences/Face2Face/c23/videos/019_018.mp4  \n",
            "  inflating: /content/manipulated_sequences/Face2Face/c23/videos/020_344.mp4  \n",
            "  inflating: /content/manipulated_sequences/Face2Face/c23/videos/021_312.mp4  \n",
            "  inflating: /content/manipulated_sequences/Face2Face/c23/videos/022_489.mp4  \n",
            "  inflating: /content/manipulated_sequences/Face2Face/c23/videos/023_923.mp4  \n",
            "  inflating: /content/manipulated_sequences/Face2Face/c23/videos/024_073.mp4  \n",
            "  inflating: /content/manipulated_sequences/Face2Face/c23/videos/025_067.mp4  \n",
            "  inflating: /content/manipulated_sequences/Face2Face/c23/videos/026_012.mp4  \n",
            "  inflating: /content/manipulated_sequences/Face2Face/c23/videos/027_009.mp4  \n",
            "  inflating: /content/manipulated_sequences/Face2Face/c23/videos/028_068.mp4  \n",
            "  inflating: /content/manipulated_sequences/Face2Face/c23/videos/029_048.mp4  \n",
            "  inflating: /content/manipulated_sequences/Face2Face/c23/videos/030_193.mp4  \n",
            "  inflating: /content/manipulated_sequences/Face2Face/c23/videos/031_163.mp4  \n",
            "  inflating: /content/manipulated_sequences/Face2Face/c23/videos/032_944.mp4  \n",
            "  inflating: /content/manipulated_sequences/Face2Face/c23/videos/033_097.mp4  \n",
            "  inflating: /content/manipulated_sequences/Face2Face/c23/videos/034_590.mp4  \n",
            "  inflating: /content/manipulated_sequences/Face2Face/c23/videos/035_036.mp4  \n",
            "  inflating: /content/manipulated_sequences/Face2Face/c23/videos/036_035.mp4  \n",
            "  inflating: /content/manipulated_sequences/Face2Face/c23/videos/037_072.mp4  \n",
            "  inflating: /content/manipulated_sequences/Face2Face/c23/videos/038_125.mp4  \n",
            "  inflating: /content/manipulated_sequences/Face2Face/c23/videos/039_058.mp4  \n",
            "  inflating: /content/manipulated_sequences/Face2Face/c23/videos/040_997.mp4  \n",
            "  inflating: /content/manipulated_sequences/Face2Face/c23/videos/041_063.mp4  \n",
            "  inflating: /content/manipulated_sequences/Face2Face/c23/videos/042_084.mp4  \n",
            "  inflating: /content/manipulated_sequences/Face2Face/c23/videos/043_110.mp4  \n",
            "  inflating: /content/manipulated_sequences/Face2Face/c23/videos/044_945.mp4  \n",
            "  inflating: /content/manipulated_sequences/Face2Face/c23/videos/045_889.mp4  \n",
            "  inflating: /content/manipulated_sequences/Face2Face/c23/videos/046_904.mp4  \n",
            "  inflating: /content/manipulated_sequences/Face2Face/c23/videos/047_862.mp4  \n",
            "  inflating: /content/manipulated_sequences/Face2Face/c23/videos/048_029.mp4  \n",
            "  inflating: /content/manipulated_sequences/Face2Face/c23/videos/049_946.mp4  \n",
            "  inflating: /content/manipulated_sequences/Face2Face/c23/videos/050_059.mp4  \n",
            "  inflating: /content/manipulated_sequences/Face2Face/c23/videos/051_332.mp4  \n",
            "  inflating: /content/manipulated_sequences/Face2Face/c23/videos/052_108.mp4  \n",
            "  inflating: /content/manipulated_sequences/Face2Face/c23/videos/053_095.mp4  \n",
            "  inflating: /content/manipulated_sequences/Face2Face/c23/videos/054_071.mp4  \n",
            "  inflating: /content/manipulated_sequences/Face2Face/c23/videos/055_147.mp4  \n",
            "  inflating: /content/manipulated_sequences/Face2Face/c23/videos/056_996.mp4  \n",
            "  inflating: /content/manipulated_sequences/Face2Face/c23/videos/057_070.mp4  \n",
            "  inflating: /content/manipulated_sequences/Face2Face/c23/videos/058_039.mp4  \n",
            "  inflating: /content/manipulated_sequences/Face2Face/c23/videos/059_050.mp4  \n",
            "  inflating: /content/manipulated_sequences/Face2Face/c23/videos/060_088.mp4  \n",
            "  inflating: /content/manipulated_sequences/Face2Face/c23/videos/061_080.mp4  \n",
            "  inflating: /content/manipulated_sequences/Face2Face/c23/videos/062_066.mp4  \n",
            "  inflating: /content/manipulated_sequences/Face2Face/c23/videos/063_041.mp4  \n",
            "  inflating: /content/manipulated_sequences/Face2Face/c23/videos/064_991.mp4  \n",
            "  inflating: /content/manipulated_sequences/Face2Face/c23/videos/065_089.mp4  \n",
            "  inflating: /content/manipulated_sequences/Face2Face/c23/videos/066_062.mp4  \n",
            "  inflating: /content/manipulated_sequences/Face2Face/c23/videos/067_025.mp4  \n",
            "  inflating: /content/manipulated_sequences/Face2Face/c23/videos/068_028.mp4  \n",
            "  inflating: /content/manipulated_sequences/Face2Face/c23/videos/069_961.mp4  \n",
            "  inflating: /content/manipulated_sequences/Face2Face/c23/videos/070_057.mp4  \n",
            "  inflating: /content/manipulated_sequences/Face2Face/c23/videos/071_054.mp4  \n",
            "  inflating: /content/manipulated_sequences/Face2Face/c23/videos/072_037.mp4  \n",
            "  inflating: /content/manipulated_sequences/Face2Face/c23/videos/073_024.mp4  \n",
            "  inflating: /content/manipulated_sequences/Face2Face/c23/videos/074_825.mp4  \n",
            "  inflating: /content/manipulated_sequences/Face2Face/c23/videos/075_977.mp4  \n",
            "  inflating: /content/manipulated_sequences/Face2Face/c23/videos/076_079.mp4  \n",
            "  inflating: /content/manipulated_sequences/Face2Face/c23/videos/077_100.mp4  \n",
            "  inflating: /content/manipulated_sequences/Face2Face/c23/videos/078_955.mp4  \n",
            "  inflating: /content/manipulated_sequences/Face2Face/c23/videos/079_076.mp4  \n",
            "  inflating: /content/manipulated_sequences/Face2Face/c23/videos/080_061.mp4  \n",
            "  inflating: /content/manipulated_sequences/Face2Face/c23/videos/081_087.mp4  \n",
            "  inflating: /content/manipulated_sequences/Face2Face/c23/videos/082_103.mp4  \n",
            "  inflating: /content/manipulated_sequences/Face2Face/c23/videos/083_213.mp4  \n",
            "  inflating: /content/manipulated_sequences/Face2Face/c23/videos/084_042.mp4  \n",
            "  inflating: /content/manipulated_sequences/Face2Face/c23/videos/085_124.mp4  \n",
            "  inflating: /content/manipulated_sequences/Face2Face/c23/videos/086_090.mp4  \n",
            "  inflating: /content/manipulated_sequences/Face2Face/c23/videos/087_081.mp4  \n",
            "  inflating: /content/manipulated_sequences/Face2Face/c23/videos/088_060.mp4  \n",
            "  inflating: /content/manipulated_sequences/Face2Face/c23/videos/089_065.mp4  \n",
            "  inflating: /content/manipulated_sequences/Face2Face/c23/videos/090_086.mp4  \n",
            "  inflating: /content/manipulated_sequences/Face2Face/c23/videos/091_116.mp4  \n",
            "  inflating: /content/manipulated_sequences/Face2Face/c23/videos/092_098.mp4  \n",
            "  inflating: /content/manipulated_sequences/Face2Face/c23/videos/093_121.mp4  \n",
            "  inflating: /content/manipulated_sequences/Face2Face/c23/videos/094_111.mp4  \n",
            "  inflating: /content/manipulated_sequences/Face2Face/c23/videos/095_053.mp4  \n",
            "  inflating: /content/manipulated_sequences/Face2Face/c23/videos/096_101.mp4  \n",
            "  inflating: /content/manipulated_sequences/Face2Face/c23/videos/097_033.mp4  \n",
            "  inflating: /content/manipulated_sequences/Face2Face/c23/videos/098_092.mp4  \n",
            "  inflating: /content/manipulated_sequences/Face2Face/c23/videos/099_295.mp4  \n",
            "  inflating: /content/manipulated_sequences/Face2Face/c23/videos/100_077.mp4  \n",
            "  inflating: /content/manipulated_sequences/Face2Face/c23/videos/101_096.mp4  \n",
            "  inflating: /content/manipulated_sequences/Face2Face/c23/videos/102_114.mp4  \n",
            "  inflating: /content/manipulated_sequences/Face2Face/c23/videos/103_082.mp4  \n",
            "  inflating: /content/manipulated_sequences/Face2Face/c23/videos/104_126.mp4  \n",
            "  inflating: /content/manipulated_sequences/Face2Face/c23/videos/105_180.mp4  \n",
            "  inflating: /content/manipulated_sequences/Face2Face/c23/videos/106_198.mp4  \n",
            "  inflating: /content/manipulated_sequences/Face2Face/c23/videos/107_109.mp4  \n",
            "  inflating: /content/manipulated_sequences/Face2Face/c23/videos/108_052.mp4  \n",
            "  inflating: /content/manipulated_sequences/Face2Face/c23/videos/109_107.mp4  \n",
            "  inflating: /content/manipulated_sequences/Face2Face/c23/videos/110_043.mp4  \n",
            "  inflating: /content/manipulated_sequences/Face2Face/c23/videos/111_094.mp4  \n",
            "  inflating: /content/manipulated_sequences/Face2Face/c23/videos/112_892.mp4  \n",
            "  inflating: /content/manipulated_sequences/Face2Face/c23/videos/113_983.mp4  \n",
            "  inflating: /content/manipulated_sequences/Face2Face/c23/videos/114_102.mp4  \n",
            "  inflating: /content/manipulated_sequences/Face2Face/c23/videos/115_939.mp4  \n",
            "  inflating: /content/manipulated_sequences/Face2Face/c23/videos/116_091.mp4  \n",
            "  inflating: /content/manipulated_sequences/Face2Face/c23/videos/117_217.mp4  \n",
            "  inflating: /content/manipulated_sequences/Face2Face/c23/videos/118_120.mp4  \n",
            "  inflating: /content/manipulated_sequences/Face2Face/c23/videos/119_123.mp4  \n",
            "  inflating: /content/manipulated_sequences/Face2Face/c23/videos/120_118.mp4  \n",
            "  inflating: /content/manipulated_sequences/Face2Face/c23/videos/121_093.mp4  \n",
            "  inflating: /content/manipulated_sequences/Face2Face/c23/videos/122_144.mp4  \n",
            "  inflating: /content/manipulated_sequences/Face2Face/c23/videos/123_119.mp4  \n",
            "  inflating: /content/manipulated_sequences/Face2Face/c23/videos/124_085.mp4  \n",
            "  inflating: /content/manipulated_sequences/Face2Face/c23/videos/125_038.mp4  \n",
            "  inflating: /content/manipulated_sequences/Face2Face/c23/videos/126_104.mp4  \n",
            "  inflating: /content/manipulated_sequences/Face2Face/c23/videos/127_129.mp4  \n",
            "  inflating: /content/manipulated_sequences/Face2Face/c23/videos/128_896.mp4  \n",
            "  inflating: /content/manipulated_sequences/Face2Face/c23/videos/129_127.mp4  \n",
            "  inflating: /content/manipulated_sequences/Face2Face/c23/videos/130_139.mp4  \n",
            "  inflating: /content/manipulated_sequences/Face2Face/c23/videos/131_518.mp4  \n",
            "  inflating: /content/manipulated_sequences/Face2Face/c23/videos/132_007.mp4  \n",
            "  inflating: /content/manipulated_sequences/Face2Face/c23/videos/133_148.mp4  \n",
            "  inflating: /content/manipulated_sequences/Face2Face/c23/videos/134_192.mp4  \n",
            "  inflating: /content/manipulated_sequences/Face2Face/c23/videos/135_880.mp4  \n",
            "  inflating: /content/manipulated_sequences/Face2Face/c23/videos/136_285.mp4  \n",
            "  inflating: /content/manipulated_sequences/Face2Face/c23/videos/137_165.mp4  \n",
            "  inflating: /content/manipulated_sequences/Face2Face/c23/videos/138_142.mp4  \n",
            "  inflating: /content/manipulated_sequences/Face2Face/c23/videos/139_130.mp4  \n",
            "  inflating: /content/manipulated_sequences/Face2Face/c23/videos/140_143.mp4  \n",
            "  inflating: /content/manipulated_sequences/Face2Face/c23/videos/141_161.mp4  \n",
            "  inflating: /content/manipulated_sequences/Face2Face/c23/videos/142_138.mp4  \n",
            "  inflating: /content/manipulated_sequences/Face2Face/c23/videos/143_140.mp4  \n",
            "  inflating: /content/manipulated_sequences/Face2Face/c23/videos/144_122.mp4  \n",
            "  inflating: /content/manipulated_sequences/Face2Face/c23/videos/145_299.mp4  \n",
            "  inflating: /content/manipulated_sequences/Face2Face/c23/videos/146_256.mp4  \n",
            "  inflating: /content/manipulated_sequences/Face2Face/c23/videos/147_055.mp4  \n",
            "  inflating: /content/manipulated_sequences/Face2Face/c23/videos/148_133.mp4  \n",
            "  inflating: /content/manipulated_sequences/Face2Face/c23/videos/149_152.mp4  \n",
            "  inflating: /content/manipulated_sequences/Face2Face/c23/videos/150_153.mp4  \n",
            "  inflating: /content/manipulated_sequences/Face2Face/c23/videos/151_225.mp4  \n",
            "  inflating: /content/manipulated_sequences/Face2Face/c23/videos/152_149.mp4  \n",
            "  inflating: /content/manipulated_sequences/Face2Face/c23/videos/153_150.mp4  \n",
            "  inflating: /content/manipulated_sequences/Face2Face/c23/videos/154_386.mp4  \n",
            "  inflating: /content/manipulated_sequences/Face2Face/c23/videos/155_576.mp4  \n",
            "  inflating: /content/manipulated_sequences/Face2Face/c23/videos/156_243.mp4  \n",
            "  inflating: /content/manipulated_sequences/Face2Face/c23/videos/157_245.mp4  \n",
            "  inflating: /content/manipulated_sequences/Face2Face/c23/videos/158_379.mp4  \n",
            "  inflating: /content/manipulated_sequences/Face2Face/c23/videos/159_175.mp4  \n",
            "  inflating: /content/manipulated_sequences/Face2Face/c23/videos/160_928.mp4  \n",
            "  inflating: /content/manipulated_sequences/Face2Face/c23/videos/161_141.mp4  \n",
            "  inflating: /content/manipulated_sequences/Face2Face/c23/videos/162_330.mp4  \n",
            "  inflating: /content/manipulated_sequences/Face2Face/c23/videos/163_031.mp4  \n",
            "  inflating: /content/manipulated_sequences/Face2Face/c23/videos/164_216.mp4  \n",
            "  inflating: /content/manipulated_sequences/Face2Face/c23/videos/165_137.mp4  \n",
            "  inflating: /content/manipulated_sequences/Face2Face/c23/videos/166_167.mp4  \n",
            "  inflating: /content/manipulated_sequences/Face2Face/c23/videos/167_166.mp4  \n",
            "  inflating: /content/manipulated_sequences/Face2Face/c23/videos/168_222.mp4  \n",
            "  inflating: /content/manipulated_sequences/Face2Face/c23/videos/169_227.mp4  \n",
            "  inflating: /content/manipulated_sequences/Face2Face/c23/videos/170_186.mp4  \n",
            "  inflating: /content/manipulated_sequences/Face2Face/c23/videos/171_173.mp4  \n",
            "  inflating: /content/manipulated_sequences/Face2Face/c23/videos/172_582.mp4  \n",
            "  inflating: /content/manipulated_sequences/Face2Face/c23/videos/173_171.mp4  \n",
            "  inflating: /content/manipulated_sequences/Face2Face/c23/videos/174_964.mp4  \n",
            "  inflating: /content/manipulated_sequences/Face2Face/c23/videos/175_159.mp4  \n",
            "  inflating: /content/manipulated_sequences/Face2Face/c23/videos/176_190.mp4  \n",
            "  inflating: /content/manipulated_sequences/Face2Face/c23/videos/177_211.mp4  \n",
            "  inflating: /content/manipulated_sequences/Face2Face/c23/videos/178_598.mp4  \n",
            "  inflating: /content/manipulated_sequences/Face2Face/c23/videos/179_212.mp4  \n",
            "  inflating: /content/manipulated_sequences/Face2Face/c23/videos/180_105.mp4  \n",
            "  inflating: /content/manipulated_sequences/Face2Face/c23/videos/181_199.mp4  \n",
            "  inflating: /content/manipulated_sequences/Face2Face/c23/videos/182_242.mp4  \n",
            "  inflating: /content/manipulated_sequences/Face2Face/c23/videos/183_253.mp4  \n",
            "  inflating: /content/manipulated_sequences/Face2Face/c23/videos/184_205.mp4  \n",
            "  inflating: /content/manipulated_sequences/Face2Face/c23/videos/185_276.mp4  \n",
            "  inflating: /content/manipulated_sequences/Face2Face/c23/videos/186_170.mp4  \n",
            "  inflating: /content/manipulated_sequences/Face2Face/c23/videos/187_234.mp4  \n",
            "  inflating: /content/manipulated_sequences/Face2Face/c23/videos/188_191.mp4  \n",
            "  inflating: /content/manipulated_sequences/Face2Face/c23/videos/189_200.mp4  \n",
            "  inflating: /content/manipulated_sequences/Face2Face/c23/videos/190_176.mp4  \n",
            "  inflating: /content/manipulated_sequences/Face2Face/c23/videos/191_188.mp4  \n",
            "  inflating: /content/manipulated_sequences/Face2Face/c23/videos/192_134.mp4  \n",
            "  inflating: /content/manipulated_sequences/Face2Face/c23/videos/193_030.mp4  \n",
            "  inflating: /content/manipulated_sequences/Face2Face/c23/videos/194_235.mp4  \n",
            "  inflating: /content/manipulated_sequences/Face2Face/c23/videos/195_442.mp4  \n",
            "  inflating: /content/manipulated_sequences/Face2Face/c23/videos/196_310.mp4  \n",
            "  inflating: /content/manipulated_sequences/Face2Face/c23/videos/197_224.mp4  \n",
            "  inflating: /content/manipulated_sequences/Face2Face/c23/videos/198_106.mp4  \n",
            "  inflating: /content/manipulated_sequences/Face2Face/c23/videos/199_181.mp4  \n",
            "  inflating: /content/manipulated_sequences/Face2Face/c23/videos/200_189.mp4  \n",
            "  inflating: /content/manipulated_sequences/Face2Face/c23/videos/201_203.mp4  \n",
            "  inflating: /content/manipulated_sequences/Face2Face/c23/videos/202_348.mp4  \n",
            "  inflating: /content/manipulated_sequences/Face2Face/c23/videos/203_201.mp4  \n",
            "  inflating: /content/manipulated_sequences/Face2Face/c23/videos/204_230.mp4  \n",
            "  inflating: /content/manipulated_sequences/Face2Face/c23/videos/205_184.mp4  \n",
            "  inflating: /content/manipulated_sequences/Face2Face/c23/videos/206_221.mp4  \n",
            "  inflating: /content/manipulated_sequences/Face2Face/c23/videos/207_908.mp4  \n",
            "  inflating: /content/manipulated_sequences/Face2Face/c23/videos/208_215.mp4  \n",
            "  inflating: /content/manipulated_sequences/Face2Face/c23/videos/209_016.mp4  \n",
            "  inflating: /content/manipulated_sequences/Face2Face/c23/videos/210_241.mp4  \n",
            "  inflating: /content/manipulated_sequences/Face2Face/c23/videos/211_177.mp4  \n",
            "  inflating: /content/manipulated_sequences/Face2Face/c23/videos/212_179.mp4  \n",
            "  inflating: /content/manipulated_sequences/Face2Face/c23/videos/213_083.mp4  \n",
            "  inflating: /content/manipulated_sequences/Face2Face/c23/videos/214_255.mp4  \n",
            "  inflating: /content/manipulated_sequences/Face2Face/c23/videos/215_208.mp4  \n",
            "  inflating: /content/manipulated_sequences/Face2Face/c23/videos/216_164.mp4  \n",
            "  inflating: /content/manipulated_sequences/Face2Face/c23/videos/217_117.mp4  \n",
            "  inflating: /content/manipulated_sequences/Face2Face/c23/videos/218_239.mp4  \n",
            "  inflating: /content/manipulated_sequences/Face2Face/c23/videos/219_220.mp4  \n",
            "  inflating: /content/manipulated_sequences/Face2Face/c23/videos/220_219.mp4  \n",
            "  inflating: /content/manipulated_sequences/Face2Face/c23/videos/221_206.mp4  \n",
            "  inflating: /content/manipulated_sequences/Face2Face/c23/videos/222_168.mp4  \n",
            "  inflating: /content/manipulated_sequences/Face2Face/c23/videos/223_586.mp4  \n",
            "  inflating: /content/manipulated_sequences/Face2Face/c23/videos/224_197.mp4  \n",
            "  inflating: /content/manipulated_sequences/Face2Face/c23/videos/225_151.mp4  \n",
            "  inflating: /content/manipulated_sequences/Face2Face/c23/videos/226_491.mp4  \n",
            "  inflating: /content/manipulated_sequences/Face2Face/c23/videos/227_169.mp4  \n",
            "  inflating: /content/manipulated_sequences/Face2Face/c23/videos/228_289.mp4  \n",
            "  inflating: /content/manipulated_sequences/Face2Face/c23/videos/229_247.mp4  \n",
            "  inflating: /content/manipulated_sequences/Face2Face/c23/videos/230_204.mp4  \n",
            "  inflating: /content/manipulated_sequences/Face2Face/c23/videos/231_663.mp4  \n",
            "  inflating: /content/manipulated_sequences/Face2Face/c23/videos/232_248.mp4  \n",
            "  inflating: /content/manipulated_sequences/Face2Face/c23/videos/233_995.mp4  \n",
            "  inflating: /content/manipulated_sequences/Face2Face/c23/videos/234_187.mp4  \n",
            "  inflating: /content/manipulated_sequences/Face2Face/c23/videos/235_194.mp4  \n",
            "  inflating: /content/manipulated_sequences/Face2Face/c23/videos/236_237.mp4  \n",
            "  inflating: /content/manipulated_sequences/Face2Face/c23/videos/237_236.mp4  \n",
            "  inflating: /content/manipulated_sequences/Face2Face/c23/videos/238_282.mp4  \n",
            "  inflating: /content/manipulated_sequences/Face2Face/c23/videos/239_218.mp4  \n",
            "  inflating: /content/manipulated_sequences/Face2Face/c23/videos/240_290.mp4  \n",
            "  inflating: /content/manipulated_sequences/Face2Face/c23/videos/241_210.mp4  \n",
            "  inflating: /content/manipulated_sequences/Face2Face/c23/videos/242_182.mp4  \n",
            "  inflating: /content/manipulated_sequences/Face2Face/c23/videos/243_156.mp4  \n",
            "  inflating: /content/manipulated_sequences/Face2Face/c23/videos/244_822.mp4  \n",
            "  inflating: /content/manipulated_sequences/Face2Face/c23/videos/245_157.mp4  \n",
            "  inflating: /content/manipulated_sequences/Face2Face/c23/videos/246_258.mp4  \n",
            "  inflating: /content/manipulated_sequences/Face2Face/c23/videos/247_229.mp4  \n",
            "  inflating: /content/manipulated_sequences/Face2Face/c23/videos/248_232.mp4  \n",
            "  inflating: /content/manipulated_sequences/Face2Face/c23/videos/249_280.mp4  \n",
            "  inflating: /content/manipulated_sequences/Face2Face/c23/videos/250_461.mp4  \n",
            "  inflating: /content/manipulated_sequences/Face2Face/c23/videos/251_375.mp4  \n",
            "  inflating: /content/manipulated_sequences/Face2Face/c23/videos/252_266.mp4  \n",
            "  inflating: /content/manipulated_sequences/Face2Face/c23/videos/253_183.mp4  \n",
            "  inflating: /content/manipulated_sequences/Face2Face/c23/videos/254_261.mp4  \n",
            "  inflating: /content/manipulated_sequences/Face2Face/c23/videos/255_214.mp4  \n",
            "  inflating: /content/manipulated_sequences/Face2Face/c23/videos/256_146.mp4  \n",
            "  inflating: /content/manipulated_sequences/Face2Face/c23/videos/257_420.mp4  \n",
            "  inflating: /content/manipulated_sequences/Face2Face/c23/videos/258_246.mp4  \n",
            "  inflating: /content/manipulated_sequences/Face2Face/c23/videos/259_345.mp4  \n",
            "  inflating: /content/manipulated_sequences/Face2Face/c23/videos/260_331.mp4  \n",
            "  inflating: /content/manipulated_sequences/Face2Face/c23/videos/261_254.mp4  \n",
            "  inflating: /content/manipulated_sequences/Face2Face/c23/videos/262_301.mp4  \n",
            "  inflating: /content/manipulated_sequences/Face2Face/c23/videos/263_284.mp4  \n",
            "  inflating: /content/manipulated_sequences/Face2Face/c23/videos/264_271.mp4  \n",
            "  inflating: /content/manipulated_sequences/Face2Face/c23/videos/265_475.mp4  \n",
            "  inflating: /content/manipulated_sequences/Face2Face/c23/videos/266_252.mp4  \n",
            "  inflating: /content/manipulated_sequences/Face2Face/c23/videos/267_286.mp4  \n",
            "  inflating: /content/manipulated_sequences/Face2Face/c23/videos/268_269.mp4  \n",
            "  inflating: /content/manipulated_sequences/Face2Face/c23/videos/269_268.mp4  \n",
            "  inflating: /content/manipulated_sequences/Face2Face/c23/videos/270_297.mp4  \n",
            "  inflating: /content/manipulated_sequences/Face2Face/c23/videos/271_264.mp4  \n",
            "  inflating: /content/manipulated_sequences/Face2Face/c23/videos/272_396.mp4  \n",
            "  inflating: /content/manipulated_sequences/Face2Face/c23/videos/273_807.mp4  \n",
            "  inflating: /content/manipulated_sequences/Face2Face/c23/videos/274_412.mp4  \n",
            "  inflating: /content/manipulated_sequences/Face2Face/c23/videos/275_887.mp4  \n",
            "  inflating: /content/manipulated_sequences/Face2Face/c23/videos/276_185.mp4  \n",
            "  inflating: /content/manipulated_sequences/Face2Face/c23/videos/277_335.mp4  \n",
            "  inflating: /content/manipulated_sequences/Face2Face/c23/videos/278_306.mp4  \n",
            "  inflating: /content/manipulated_sequences/Face2Face/c23/videos/279_298.mp4  \n",
            "  inflating: /content/manipulated_sequences/Face2Face/c23/videos/280_249.mp4  \n",
            "  inflating: /content/manipulated_sequences/Face2Face/c23/videos/281_474.mp4  \n",
            "  inflating: /content/manipulated_sequences/Face2Face/c23/videos/282_238.mp4  \n",
            "  inflating: /content/manipulated_sequences/Face2Face/c23/videos/283_313.mp4  \n",
            "  inflating: /content/manipulated_sequences/Face2Face/c23/videos/284_263.mp4  \n",
            "  inflating: /content/manipulated_sequences/Face2Face/c23/videos/285_136.mp4  \n",
            "  inflating: /content/manipulated_sequences/Face2Face/c23/videos/286_267.mp4  \n",
            "  inflating: /content/manipulated_sequences/Face2Face/c23/videos/287_426.mp4  \n",
            "  inflating: /content/manipulated_sequences/Face2Face/c23/videos/288_321.mp4  \n",
            "  inflating: /content/manipulated_sequences/Face2Face/c23/videos/289_228.mp4  \n",
            "  inflating: /content/manipulated_sequences/Face2Face/c23/videos/290_240.mp4  \n",
            "  inflating: /content/manipulated_sequences/Face2Face/c23/videos/291_874.mp4  \n",
            "  inflating: /content/manipulated_sequences/Face2Face/c23/videos/292_294.mp4  \n",
            "  inflating: /content/manipulated_sequences/Face2Face/c23/videos/293_296.mp4  \n",
            "  inflating: /content/manipulated_sequences/Face2Face/c23/videos/294_292.mp4  \n",
            "  inflating: /content/manipulated_sequences/Face2Face/c23/videos/295_099.mp4  \n",
            "  inflating: /content/manipulated_sequences/Face2Face/c23/videos/296_293.mp4  \n",
            "  inflating: /content/manipulated_sequences/Face2Face/c23/videos/297_270.mp4  \n",
            "  inflating: /content/manipulated_sequences/Face2Face/c23/videos/298_279.mp4  \n",
            "  inflating: /content/manipulated_sequences/Face2Face/c23/videos/299_145.mp4  \n",
            "  inflating: /content/manipulated_sequences/Face2Face/c23/videos/300_304.mp4  \n",
            "  inflating: /content/manipulated_sequences/Face2Face/c23/videos/301_262.mp4  \n",
            "  inflating: /content/manipulated_sequences/Face2Face/c23/videos/302_323.mp4  \n",
            "  inflating: /content/manipulated_sequences/Face2Face/c23/videos/303_309.mp4  \n",
            "  inflating: /content/manipulated_sequences/Face2Face/c23/videos/304_300.mp4  \n",
            "  inflating: /content/manipulated_sequences/Face2Face/c23/videos/305_513.mp4  \n",
            "  inflating: /content/manipulated_sequences/Face2Face/c23/videos/306_278.mp4  \n",
            "  inflating: /content/manipulated_sequences/Face2Face/c23/videos/307_365.mp4  \n",
            "  inflating: /content/manipulated_sequences/Face2Face/c23/videos/308_388.mp4  \n",
            "  inflating: /content/manipulated_sequences/Face2Face/c23/videos/309_303.mp4  \n",
            "  inflating: /content/manipulated_sequences/Face2Face/c23/videos/310_196.mp4  \n",
            "  inflating: /content/manipulated_sequences/Face2Face/c23/videos/311_387.mp4  \n",
            "  inflating: /content/manipulated_sequences/Face2Face/c23/videos/312_021.mp4  \n",
            "  inflating: /content/manipulated_sequences/Face2Face/c23/videos/313_283.mp4  \n",
            "  inflating: /content/manipulated_sequences/Face2Face/c23/videos/314_347.mp4  \n",
            "  inflating: /content/manipulated_sequences/Face2Face/c23/videos/315_322.mp4  \n",
            "  inflating: /content/manipulated_sequences/Face2Face/c23/videos/316_369.mp4  \n",
            "  inflating: /content/manipulated_sequences/Face2Face/c23/videos/317_359.mp4  \n",
            "  inflating: /content/manipulated_sequences/Face2Face/c23/videos/318_334.mp4  \n",
            "  inflating: /content/manipulated_sequences/Face2Face/c23/videos/319_352.mp4  \n",
            "  inflating: /content/manipulated_sequences/Face2Face/c23/videos/320_328.mp4  \n",
            "  inflating: /content/manipulated_sequences/Face2Face/c23/videos/321_288.mp4  \n",
            "  inflating: /content/manipulated_sequences/Face2Face/c23/videos/322_315.mp4  \n",
            "  inflating: /content/manipulated_sequences/Face2Face/c23/videos/323_302.mp4  \n",
            "  inflating: /content/manipulated_sequences/Face2Face/c23/videos/324_356.mp4  \n",
            "  inflating: /content/manipulated_sequences/Face2Face/c23/videos/325_492.mp4  \n",
            "  inflating: /content/manipulated_sequences/Face2Face/c23/videos/326_501.mp4  \n",
            "  inflating: /content/manipulated_sequences/Face2Face/c23/videos/327_329.mp4  \n",
            "  inflating: /content/manipulated_sequences/Face2Face/c23/videos/328_320.mp4  \n",
            "  inflating: /content/manipulated_sequences/Face2Face/c23/videos/329_327.mp4  \n",
            "  inflating: /content/manipulated_sequences/Face2Face/c23/videos/330_162.mp4  \n",
            "  inflating: /content/manipulated_sequences/Face2Face/c23/videos/331_260.mp4  \n",
            "  inflating: /content/manipulated_sequences/Face2Face/c23/videos/332_051.mp4  \n",
            "  inflating: /content/manipulated_sequences/Face2Face/c23/videos/333_377.mp4  \n",
            "  inflating: /content/manipulated_sequences/Face2Face/c23/videos/334_318.mp4  \n",
            "  inflating: /content/manipulated_sequences/Face2Face/c23/videos/335_277.mp4  \n",
            "  inflating: /content/manipulated_sequences/Face2Face/c23/videos/336_338.mp4  \n",
            "  inflating: /content/manipulated_sequences/Face2Face/c23/videos/337_522.mp4  \n",
            "  inflating: /content/manipulated_sequences/Face2Face/c23/videos/338_336.mp4  \n",
            "  inflating: /content/manipulated_sequences/Face2Face/c23/videos/339_392.mp4  \n",
            "  inflating: /content/manipulated_sequences/Face2Face/c23/videos/340_341.mp4  \n",
            "  inflating: /content/manipulated_sequences/Face2Face/c23/videos/341_340.mp4  \n",
            "  inflating: /content/manipulated_sequences/Face2Face/c23/videos/342_416.mp4  \n",
            "  inflating: /content/manipulated_sequences/Face2Face/c23/videos/343_363.mp4  \n",
            "  inflating: /content/manipulated_sequences/Face2Face/c23/videos/344_020.mp4  \n",
            "  inflating: /content/manipulated_sequences/Face2Face/c23/videos/345_259.mp4  \n",
            "  inflating: /content/manipulated_sequences/Face2Face/c23/videos/346_351.mp4  \n",
            "  inflating: /content/manipulated_sequences/Face2Face/c23/videos/347_314.mp4  \n",
            "  inflating: /content/manipulated_sequences/Face2Face/c23/videos/348_202.mp4  \n",
            "  inflating: /content/manipulated_sequences/Face2Face/c23/videos/349_350.mp4  \n",
            "  inflating: /content/manipulated_sequences/Face2Face/c23/videos/350_349.mp4  \n",
            "  inflating: /content/manipulated_sequences/Face2Face/c23/videos/351_346.mp4  \n",
            "  inflating: /content/manipulated_sequences/Face2Face/c23/videos/352_319.mp4  \n",
            "  inflating: /content/manipulated_sequences/Face2Face/c23/videos/353_383.mp4  \n",
            "  inflating: /content/manipulated_sequences/Face2Face/c23/videos/354_362.mp4  \n",
            "  inflating: /content/manipulated_sequences/Face2Face/c23/videos/355_748.mp4  \n",
            "  inflating: /content/manipulated_sequences/Face2Face/c23/videos/356_324.mp4  \n",
            "  inflating: /content/manipulated_sequences/Face2Face/c23/videos/357_432.mp4  \n",
            "  inflating: /content/manipulated_sequences/Face2Face/c23/videos/358_380.mp4  \n",
            "  inflating: /content/manipulated_sequences/Face2Face/c23/videos/359_317.mp4  \n",
            "  inflating: /content/manipulated_sequences/Face2Face/c23/videos/360_437.mp4  \n",
            "  inflating: /content/manipulated_sequences/Face2Face/c23/videos/361_448.mp4  \n",
            "  inflating: /content/manipulated_sequences/Face2Face/c23/videos/362_354.mp4  \n",
            "  inflating: /content/manipulated_sequences/Face2Face/c23/videos/363_343.mp4  \n",
            "  inflating: /content/manipulated_sequences/Face2Face/c23/videos/364_440.mp4  \n",
            "  inflating: /content/manipulated_sequences/Face2Face/c23/videos/365_307.mp4  \n",
            "  inflating: /content/manipulated_sequences/Face2Face/c23/videos/366_473.mp4  \n",
            "  inflating: /content/manipulated_sequences/Face2Face/c23/videos/367_371.mp4  \n",
            "  inflating: /content/manipulated_sequences/Face2Face/c23/videos/368_378.mp4  \n",
            "  inflating: /content/manipulated_sequences/Face2Face/c23/videos/369_316.mp4  \n",
            "  inflating: /content/manipulated_sequences/Face2Face/c23/videos/370_483.mp4  \n",
            "  inflating: /content/manipulated_sequences/Face2Face/c23/videos/371_367.mp4  \n",
            "  inflating: /content/manipulated_sequences/Face2Face/c23/videos/372_413.mp4  \n",
            "  inflating: /content/manipulated_sequences/Face2Face/c23/videos/373_394.mp4  \n",
            "  inflating: /content/manipulated_sequences/Face2Face/c23/videos/374_407.mp4  \n",
            "  inflating: /content/manipulated_sequences/Face2Face/c23/videos/375_251.mp4  \n",
            "  inflating: /content/manipulated_sequences/Face2Face/c23/videos/376_381.mp4  \n",
            "  inflating: /content/manipulated_sequences/Face2Face/c23/videos/377_333.mp4  \n",
            "  inflating: /content/manipulated_sequences/Face2Face/c23/videos/378_368.mp4  \n",
            "  inflating: /content/manipulated_sequences/Face2Face/c23/videos/379_158.mp4  \n",
            "  inflating: /content/manipulated_sequences/Face2Face/c23/videos/380_358.mp4  \n",
            "  inflating: /content/manipulated_sequences/Face2Face/c23/videos/381_376.mp4  \n",
            "  inflating: /content/manipulated_sequences/Face2Face/c23/videos/382_409.mp4  \n",
            "  inflating: /content/manipulated_sequences/Face2Face/c23/videos/383_353.mp4  \n",
            "  inflating: /content/manipulated_sequences/Face2Face/c23/videos/384_932.mp4  \n",
            "  inflating: /content/manipulated_sequences/Face2Face/c23/videos/385_414.mp4  \n",
            "  inflating: /content/manipulated_sequences/Face2Face/c23/videos/386_154.mp4  \n",
            "  inflating: /content/manipulated_sequences/Face2Face/c23/videos/387_311.mp4  \n",
            "  inflating: /content/manipulated_sequences/Face2Face/c23/videos/388_308.mp4  \n",
            "  inflating: /content/manipulated_sequences/Face2Face/c23/videos/389_480.mp4  \n",
            "  inflating: /content/manipulated_sequences/Face2Face/c23/videos/390_709.mp4  \n",
            "  inflating: /content/manipulated_sequences/Face2Face/c23/videos/391_406.mp4  \n",
            "  inflating: /content/manipulated_sequences/Face2Face/c23/videos/392_339.mp4  \n",
            "  inflating: /content/manipulated_sequences/Face2Face/c23/videos/393_405.mp4  \n",
            "  inflating: /content/manipulated_sequences/Face2Face/c23/videos/394_373.mp4  \n",
            "  inflating: /content/manipulated_sequences/Face2Face/c23/videos/395_401.mp4  \n",
            "  inflating: /content/manipulated_sequences/Face2Face/c23/videos/396_272.mp4  \n",
            "  inflating: /content/manipulated_sequences/Face2Face/c23/videos/397_602.mp4  \n",
            "  inflating: /content/manipulated_sequences/Face2Face/c23/videos/398_457.mp4  \n",
            "  inflating: /content/manipulated_sequences/Face2Face/c23/videos/399_488.mp4  \n",
            "  inflating: /content/manipulated_sequences/Face2Face/c23/videos/400_476.mp4  \n",
            "  inflating: /content/manipulated_sequences/Face2Face/c23/videos/401_395.mp4  \n",
            "  inflating: /content/manipulated_sequences/Face2Face/c23/videos/402_453.mp4  \n",
            "  inflating: /content/manipulated_sequences/Face2Face/c23/videos/403_497.mp4  \n",
            "  inflating: /content/manipulated_sequences/Face2Face/c23/videos/404_429.mp4  \n",
            "  inflating: /content/manipulated_sequences/Face2Face/c23/videos/405_393.mp4  \n",
            "  inflating: /content/manipulated_sequences/Face2Face/c23/videos/406_391.mp4  \n",
            "  inflating: /content/manipulated_sequences/Face2Face/c23/videos/407_374.mp4  \n",
            "  inflating: /content/manipulated_sequences/Face2Face/c23/videos/408_424.mp4  \n",
            "  inflating: /content/manipulated_sequences/Face2Face/c23/videos/409_382.mp4  \n",
            "  inflating: /content/manipulated_sequences/Face2Face/c23/videos/410_411.mp4  \n",
            "  inflating: /content/manipulated_sequences/Face2Face/c23/videos/411_410.mp4  \n",
            "  inflating: /content/manipulated_sequences/Face2Face/c23/videos/412_274.mp4  \n",
            "  inflating: /content/manipulated_sequences/Face2Face/c23/videos/413_372.mp4  \n",
            "  inflating: /content/manipulated_sequences/Face2Face/c23/videos/414_385.mp4  \n",
            "  inflating: /content/manipulated_sequences/Face2Face/c23/videos/415_484.mp4  \n",
            "  inflating: /content/manipulated_sequences/Face2Face/c23/videos/416_342.mp4  \n",
            "  inflating: /content/manipulated_sequences/Face2Face/c23/videos/417_496.mp4  \n",
            "  inflating: /content/manipulated_sequences/Face2Face/c23/videos/418_507.mp4  \n",
            "  inflating: /content/manipulated_sequences/Face2Face/c23/videos/419_824.mp4  \n",
            "  inflating: /content/manipulated_sequences/Face2Face/c23/videos/420_257.mp4  \n",
            "  inflating: /content/manipulated_sequences/Face2Face/c23/videos/421_423.mp4  \n",
            "  inflating: /content/manipulated_sequences/Face2Face/c23/videos/422_695.mp4  \n",
            "  inflating: /content/manipulated_sequences/Face2Face/c23/videos/423_421.mp4  \n",
            "  inflating: /content/manipulated_sequences/Face2Face/c23/videos/424_408.mp4  \n",
            "  inflating: /content/manipulated_sequences/Face2Face/c23/videos/425_485.mp4  \n",
            "  inflating: /content/manipulated_sequences/Face2Face/c23/videos/426_287.mp4  \n",
            "  inflating: /content/manipulated_sequences/Face2Face/c23/videos/427_637.mp4  \n",
            "  inflating: /content/manipulated_sequences/Face2Face/c23/videos/428_466.mp4  \n",
            "  inflating: /content/manipulated_sequences/Face2Face/c23/videos/429_404.mp4  \n",
            "  inflating: /content/manipulated_sequences/Face2Face/c23/videos/430_459.mp4  \n",
            "  inflating: /content/manipulated_sequences/Face2Face/c23/videos/431_447.mp4  \n",
            "  inflating: /content/manipulated_sequences/Face2Face/c23/videos/432_357.mp4  \n",
            "  inflating: /content/manipulated_sequences/Face2Face/c23/videos/433_498.mp4  \n",
            "  inflating: /content/manipulated_sequences/Face2Face/c23/videos/434_438.mp4  \n",
            "  inflating: /content/manipulated_sequences/Face2Face/c23/videos/435_456.mp4  \n",
            "  inflating: /content/manipulated_sequences/Face2Face/c23/videos/436_526.mp4  \n",
            "  inflating: /content/manipulated_sequences/Face2Face/c23/videos/437_360.mp4  \n",
            "  inflating: /content/manipulated_sequences/Face2Face/c23/videos/438_434.mp4  \n",
            "  inflating: /content/manipulated_sequences/Face2Face/c23/videos/439_441.mp4  \n",
            "  inflating: /content/manipulated_sequences/Face2Face/c23/videos/440_364.mp4  \n",
            "  inflating: /content/manipulated_sequences/Face2Face/c23/videos/441_439.mp4  \n",
            "  inflating: /content/manipulated_sequences/Face2Face/c23/videos/442_195.mp4  \n",
            "  inflating: /content/manipulated_sequences/Face2Face/c23/videos/443_514.mp4  \n",
            "  inflating: /content/manipulated_sequences/Face2Face/c23/videos/444_655.mp4  \n",
            "  inflating: /content/manipulated_sequences/Face2Face/c23/videos/445_494.mp4  \n",
            "  inflating: /content/manipulated_sequences/Face2Face/c23/videos/446_667.mp4  \n",
            "  inflating: /content/manipulated_sequences/Face2Face/c23/videos/447_431.mp4  \n",
            "  inflating: /content/manipulated_sequences/Face2Face/c23/videos/448_361.mp4  \n",
            "  inflating: /content/manipulated_sequences/Face2Face/c23/videos/449_451.mp4  \n",
            "  inflating: /content/manipulated_sequences/Face2Face/c23/videos/450_533.mp4  \n",
            "  inflating: /content/manipulated_sequences/Face2Face/c23/videos/451_449.mp4  \n",
            "  inflating: /content/manipulated_sequences/Face2Face/c23/videos/452_550.mp4  \n",
            "  inflating: /content/manipulated_sequences/Face2Face/c23/videos/453_402.mp4  \n",
            "  inflating: /content/manipulated_sequences/Face2Face/c23/videos/454_527.mp4  \n",
            "  inflating: /content/manipulated_sequences/Face2Face/c23/videos/455_471.mp4  \n",
            "  inflating: /content/manipulated_sequences/Face2Face/c23/videos/456_435.mp4  \n",
            "  inflating: /content/manipulated_sequences/Face2Face/c23/videos/457_398.mp4  \n",
            "  inflating: /content/manipulated_sequences/Face2Face/c23/videos/458_722.mp4  \n",
            "  inflating: /content/manipulated_sequences/Face2Face/c23/videos/459_430.mp4  \n",
            "  inflating: /content/manipulated_sequences/Face2Face/c23/videos/460_678.mp4  \n",
            "  inflating: /content/manipulated_sequences/Face2Face/c23/videos/461_250.mp4  \n",
            "  inflating: /content/manipulated_sequences/Face2Face/c23/videos/462_467.mp4  \n",
            "  inflating: /content/manipulated_sequences/Face2Face/c23/videos/463_464.mp4  \n",
            "  inflating: /content/manipulated_sequences/Face2Face/c23/videos/464_463.mp4  \n",
            "  inflating: /content/manipulated_sequences/Face2Face/c23/videos/465_482.mp4  \n",
            "  inflating: /content/manipulated_sequences/Face2Face/c23/videos/466_428.mp4  \n",
            "  inflating: /content/manipulated_sequences/Face2Face/c23/videos/467_462.mp4  \n",
            "  inflating: /content/manipulated_sequences/Face2Face/c23/videos/468_470.mp4  \n",
            "  inflating: /content/manipulated_sequences/Face2Face/c23/videos/469_481.mp4  \n",
            "  inflating: /content/manipulated_sequences/Face2Face/c23/videos/470_468.mp4  \n",
            "  inflating: /content/manipulated_sequences/Face2Face/c23/videos/471_455.mp4  \n",
            "  inflating: /content/manipulated_sequences/Face2Face/c23/videos/472_511.mp4  \n",
            "  inflating: /content/manipulated_sequences/Face2Face/c23/videos/473_366.mp4  \n",
            "  inflating: /content/manipulated_sequences/Face2Face/c23/videos/474_281.mp4  \n",
            "  inflating: /content/manipulated_sequences/Face2Face/c23/videos/475_265.mp4  \n",
            "  inflating: /content/manipulated_sequences/Face2Face/c23/videos/476_400.mp4  \n",
            "  inflating: /content/manipulated_sequences/Face2Face/c23/videos/477_487.mp4  \n",
            "  inflating: /content/manipulated_sequences/Face2Face/c23/videos/478_506.mp4  \n",
            "  inflating: /content/manipulated_sequences/Face2Face/c23/videos/479_706.mp4  \n",
            "  inflating: /content/manipulated_sequences/Face2Face/c23/videos/480_389.mp4  \n",
            "  inflating: /content/manipulated_sequences/Face2Face/c23/videos/481_469.mp4  \n",
            "  inflating: /content/manipulated_sequences/Face2Face/c23/videos/482_465.mp4  \n",
            "  inflating: /content/manipulated_sequences/Face2Face/c23/videos/483_370.mp4  \n",
            "  inflating: /content/manipulated_sequences/Face2Face/c23/videos/484_415.mp4  \n",
            "  inflating: /content/manipulated_sequences/Face2Face/c23/videos/485_425.mp4  \n",
            "  inflating: /content/manipulated_sequences/Face2Face/c23/videos/486_680.mp4  \n",
            "  inflating: /content/manipulated_sequences/Face2Face/c23/videos/487_477.mp4  \n",
            "  inflating: /content/manipulated_sequences/Face2Face/c23/videos/488_399.mp4  \n",
            "  inflating: /content/manipulated_sequences/Face2Face/c23/videos/489_022.mp4  \n",
            "  inflating: /content/manipulated_sequences/Face2Face/c23/videos/490_534.mp4  \n",
            "  inflating: /content/manipulated_sequences/Face2Face/c23/videos/491_226.mp4  \n",
            "  inflating: /content/manipulated_sequences/Face2Face/c23/videos/492_325.mp4  \n",
            "  inflating: /content/manipulated_sequences/Face2Face/c23/videos/493_538.mp4  \n",
            "  inflating: /content/manipulated_sequences/Face2Face/c23/videos/494_445.mp4  \n",
            "  inflating: /content/manipulated_sequences/Face2Face/c23/videos/495_512.mp4  \n",
            "  inflating: /content/manipulated_sequences/Face2Face/c23/videos/496_417.mp4  \n",
            "  inflating: /content/manipulated_sequences/Face2Face/c23/videos/497_403.mp4  \n",
            "  inflating: /content/manipulated_sequences/Face2Face/c23/videos/498_433.mp4  \n",
            "  inflating: /content/manipulated_sequences/Face2Face/c23/videos/499_539.mp4  \n",
            "  inflating: /content/manipulated_sequences/Face2Face/c23/videos/500_592.mp4  \n",
            "  inflating: /content/manipulated_sequences/Face2Face/c23/videos/501_326.mp4  \n",
            "  inflating: /content/manipulated_sequences/Face2Face/c23/videos/502_504.mp4  \n",
            "  inflating: /content/manipulated_sequences/Face2Face/c23/videos/503_756.mp4  \n",
            "  inflating: /content/manipulated_sequences/Face2Face/c23/videos/504_502.mp4  \n",
            "  inflating: /content/manipulated_sequences/Face2Face/c23/videos/505_600.mp4  \n",
            "  inflating: /content/manipulated_sequences/Face2Face/c23/videos/506_478.mp4  \n",
            "  inflating: /content/manipulated_sequences/Face2Face/c23/videos/507_418.mp4  \n",
            "  inflating: /content/manipulated_sequences/Face2Face/c23/videos/508_831.mp4  \n",
            "  inflating: /content/manipulated_sequences/Face2Face/c23/videos/509_525.mp4  \n",
            "  inflating: /content/manipulated_sequences/Face2Face/c23/videos/510_528.mp4  \n",
            "  inflating: /content/manipulated_sequences/Face2Face/c23/videos/511_472.mp4  \n",
            "  inflating: /content/manipulated_sequences/Face2Face/c23/videos/512_495.mp4  \n",
            "  inflating: /content/manipulated_sequences/Face2Face/c23/videos/513_305.mp4  \n",
            "  inflating: /content/manipulated_sequences/Face2Face/c23/videos/514_443.mp4  \n",
            "  inflating: /content/manipulated_sequences/Face2Face/c23/videos/515_519.mp4  \n",
            "  inflating: /content/manipulated_sequences/Face2Face/c23/videos/516_555.mp4  \n",
            "  inflating: /content/manipulated_sequences/Face2Face/c23/videos/517_521.mp4  \n",
            "  inflating: /content/manipulated_sequences/Face2Face/c23/videos/518_131.mp4  \n",
            "  inflating: /content/manipulated_sequences/Face2Face/c23/videos/519_515.mp4  \n",
            "  inflating: /content/manipulated_sequences/Face2Face/c23/videos/520_542.mp4  \n",
            "  inflating: /content/manipulated_sequences/Face2Face/c23/videos/521_517.mp4  \n",
            "  inflating: /content/manipulated_sequences/Face2Face/c23/videos/522_337.mp4  \n",
            "  inflating: /content/manipulated_sequences/Face2Face/c23/videos/523_541.mp4  \n",
            "  inflating: /content/manipulated_sequences/Face2Face/c23/videos/524_580.mp4  \n",
            "  inflating: /content/manipulated_sequences/Face2Face/c23/videos/525_509.mp4  \n",
            "  inflating: /content/manipulated_sequences/Face2Face/c23/videos/526_436.mp4  \n",
            "  inflating: /content/manipulated_sequences/Face2Face/c23/videos/527_454.mp4  \n",
            "  inflating: /content/manipulated_sequences/Face2Face/c23/videos/528_510.mp4  \n",
            "  inflating: /content/manipulated_sequences/Face2Face/c23/videos/529_633.mp4  \n",
            "  inflating: /content/manipulated_sequences/Face2Face/c23/videos/530_594.mp4  \n",
            "  inflating: /content/manipulated_sequences/Face2Face/c23/videos/531_549.mp4  \n",
            "  inflating: /content/manipulated_sequences/Face2Face/c23/videos/532_544.mp4  \n",
            "  inflating: /content/manipulated_sequences/Face2Face/c23/videos/533_450.mp4  \n",
            "  inflating: /content/manipulated_sequences/Face2Face/c23/videos/534_490.mp4  \n",
            "  inflating: /content/manipulated_sequences/Face2Face/c23/videos/535_587.mp4  \n",
            "  inflating: /content/manipulated_sequences/Face2Face/c23/videos/536_540.mp4  \n",
            "  inflating: /content/manipulated_sequences/Face2Face/c23/videos/537_563.mp4  \n",
            "  inflating: /content/manipulated_sequences/Face2Face/c23/videos/538_493.mp4  \n",
            "  inflating: /content/manipulated_sequences/Face2Face/c23/videos/539_499.mp4  \n",
            "  inflating: /content/manipulated_sequences/Face2Face/c23/videos/540_536.mp4  \n",
            "  inflating: /content/manipulated_sequences/Face2Face/c23/videos/541_523.mp4  \n",
            "  inflating: /content/manipulated_sequences/Face2Face/c23/videos/542_520.mp4  \n",
            "  inflating: /content/manipulated_sequences/Face2Face/c23/videos/543_559.mp4  \n",
            "  inflating: /content/manipulated_sequences/Face2Face/c23/videos/544_532.mp4  \n",
            "  inflating: /content/manipulated_sequences/Face2Face/c23/videos/545_553.mp4  \n",
            "  inflating: /content/manipulated_sequences/Face2Face/c23/videos/546_621.mp4  \n",
            "  inflating: /content/manipulated_sequences/Face2Face/c23/videos/547_574.mp4  \n",
            "  inflating: /content/manipulated_sequences/Face2Face/c23/videos/548_632.mp4  \n",
            "  inflating: /content/manipulated_sequences/Face2Face/c23/videos/549_531.mp4  \n",
            "  inflating: /content/manipulated_sequences/Face2Face/c23/videos/550_452.mp4  \n",
            "  inflating: /content/manipulated_sequences/Face2Face/c23/videos/551_631.mp4  \n",
            "  inflating: /content/manipulated_sequences/Face2Face/c23/videos/552_851.mp4  \n",
            "  inflating: /content/manipulated_sequences/Face2Face/c23/videos/553_545.mp4  \n",
            "  inflating: /content/manipulated_sequences/Face2Face/c23/videos/554_572.mp4  \n",
            "  inflating: /content/manipulated_sequences/Face2Face/c23/videos/555_516.mp4  \n",
            "  inflating: /content/manipulated_sequences/Face2Face/c23/videos/556_588.mp4  \n",
            "  inflating: /content/manipulated_sequences/Face2Face/c23/videos/557_560.mp4  \n",
            "  inflating: /content/manipulated_sequences/Face2Face/c23/videos/558_583.mp4  \n",
            "  inflating: /content/manipulated_sequences/Face2Face/c23/videos/559_543.mp4  \n",
            "  inflating: /content/manipulated_sequences/Face2Face/c23/videos/560_557.mp4  \n",
            "  inflating: /content/manipulated_sequences/Face2Face/c23/videos/561_998.mp4  \n",
            "  inflating: /content/manipulated_sequences/Face2Face/c23/videos/562_626.mp4  \n",
            "  inflating: /content/manipulated_sequences/Face2Face/c23/videos/563_537.mp4  \n",
            "  inflating: /content/manipulated_sequences/Face2Face/c23/videos/564_971.mp4  \n",
            "  inflating: /content/manipulated_sequences/Face2Face/c23/videos/565_589.mp4  \n",
            "  inflating: /content/manipulated_sequences/Face2Face/c23/videos/566_617.mp4  \n",
            "  inflating: /content/manipulated_sequences/Face2Face/c23/videos/567_606.mp4  \n",
            "  inflating: /content/manipulated_sequences/Face2Face/c23/videos/568_628.mp4  \n",
            "  inflating: /content/manipulated_sequences/Face2Face/c23/videos/569_921.mp4  \n",
            "  inflating: /content/manipulated_sequences/Face2Face/c23/videos/570_624.mp4  \n",
            "  inflating: /content/manipulated_sequences/Face2Face/c23/videos/571_746.mp4  \n",
            "  inflating: /content/manipulated_sequences/Face2Face/c23/videos/572_554.mp4  \n",
            "  inflating: /content/manipulated_sequences/Face2Face/c23/videos/573_757.mp4  \n",
            "  inflating: /content/manipulated_sequences/Face2Face/c23/videos/574_547.mp4  \n",
            "  inflating: /content/manipulated_sequences/Face2Face/c23/videos/575_603.mp4  \n",
            "  inflating: /content/manipulated_sequences/Face2Face/c23/videos/576_155.mp4  \n",
            "  inflating: /content/manipulated_sequences/Face2Face/c23/videos/577_593.mp4  \n",
            "  inflating: /content/manipulated_sequences/Face2Face/c23/videos/578_636.mp4  \n",
            "  inflating: /content/manipulated_sequences/Face2Face/c23/videos/579_701.mp4  \n",
            "  inflating: /content/manipulated_sequences/Face2Face/c23/videos/580_524.mp4  \n",
            "  inflating: /content/manipulated_sequences/Face2Face/c23/videos/581_697.mp4  \n",
            "  inflating: /content/manipulated_sequences/Face2Face/c23/videos/582_172.mp4  \n",
            "  inflating: /content/manipulated_sequences/Face2Face/c23/videos/583_558.mp4  \n",
            "  inflating: /content/manipulated_sequences/Face2Face/c23/videos/584_823.mp4  \n",
            "  inflating: /content/manipulated_sequences/Face2Face/c23/videos/585_599.mp4  \n",
            "  inflating: /content/manipulated_sequences/Face2Face/c23/videos/586_223.mp4  \n",
            "  inflating: /content/manipulated_sequences/Face2Face/c23/videos/587_535.mp4  \n",
            "  inflating: /content/manipulated_sequences/Face2Face/c23/videos/588_556.mp4  \n",
            "  inflating: /content/manipulated_sequences/Face2Face/c23/videos/589_565.mp4  \n",
            "  inflating: /content/manipulated_sequences/Face2Face/c23/videos/590_034.mp4  \n",
            "  inflating: /content/manipulated_sequences/Face2Face/c23/videos/591_605.mp4  \n",
            "  inflating: /content/manipulated_sequences/Face2Face/c23/videos/592_500.mp4  \n",
            "  inflating: /content/manipulated_sequences/Face2Face/c23/videos/593_577.mp4  \n",
            "  inflating: /content/manipulated_sequences/Face2Face/c23/videos/594_530.mp4  \n",
            "  inflating: /content/manipulated_sequences/Face2Face/c23/videos/595_597.mp4  \n",
            "  inflating: /content/manipulated_sequences/Face2Face/c23/videos/596_609.mp4  \n",
            "  inflating: /content/manipulated_sequences/Face2Face/c23/videos/597_595.mp4  \n",
            "  inflating: /content/manipulated_sequences/Face2Face/c23/videos/598_178.mp4  \n",
            "  inflating: /content/manipulated_sequences/Face2Face/c23/videos/599_585.mp4  \n",
            "  inflating: /content/manipulated_sequences/Face2Face/c23/videos/600_505.mp4  \n",
            "  inflating: /content/manipulated_sequences/Face2Face/c23/videos/601_653.mp4  \n",
            "  inflating: /content/manipulated_sequences/Face2Face/c23/videos/602_397.mp4  \n",
            "  inflating: /content/manipulated_sequences/Face2Face/c23/videos/603_575.mp4  \n",
            "  inflating: /content/manipulated_sequences/Face2Face/c23/videos/604_703.mp4  \n",
            "  inflating: /content/manipulated_sequences/Face2Face/c23/videos/605_591.mp4  \n",
            "  inflating: /content/manipulated_sequences/Face2Face/c23/videos/606_567.mp4  \n",
            "  inflating: /content/manipulated_sequences/Face2Face/c23/videos/607_683.mp4  \n",
            "  inflating: /content/manipulated_sequences/Face2Face/c23/videos/608_675.mp4  \n",
            "  inflating: /content/manipulated_sequences/Face2Face/c23/videos/609_596.mp4  \n",
            "  inflating: /content/manipulated_sequences/Face2Face/c23/videos/610_692.mp4  \n",
            "  inflating: /content/manipulated_sequences/Face2Face/c23/videos/611_760.mp4  \n",
            "  inflating: /content/manipulated_sequences/Face2Face/c23/videos/612_702.mp4  \n",
            "  inflating: /content/manipulated_sequences/Face2Face/c23/videos/613_685.mp4  \n",
            "  inflating: /content/manipulated_sequences/Face2Face/c23/videos/614_616.mp4  \n",
            "  inflating: /content/manipulated_sequences/Face2Face/c23/videos/615_687.mp4  \n",
            "  inflating: /content/manipulated_sequences/Face2Face/c23/videos/616_614.mp4  \n",
            "  inflating: /content/manipulated_sequences/Face2Face/c23/videos/617_566.mp4  \n",
            "  inflating: /content/manipulated_sequences/Face2Face/c23/videos/618_629.mp4  \n",
            "  inflating: /content/manipulated_sequences/Face2Face/c23/videos/619_620.mp4  \n",
            "  inflating: /content/manipulated_sequences/Face2Face/c23/videos/620_619.mp4  \n",
            "  inflating: /content/manipulated_sequences/Face2Face/c23/videos/621_546.mp4  \n",
            "  inflating: /content/manipulated_sequences/Face2Face/c23/videos/622_647.mp4  \n",
            "  inflating: /content/manipulated_sequences/Face2Face/c23/videos/623_630.mp4  \n",
            "  inflating: /content/manipulated_sequences/Face2Face/c23/videos/624_570.mp4  \n",
            "  inflating: /content/manipulated_sequences/Face2Face/c23/videos/625_650.mp4  \n",
            "  inflating: /content/manipulated_sequences/Face2Face/c23/videos/626_562.mp4  \n",
            "  inflating: /content/manipulated_sequences/Face2Face/c23/videos/627_658.mp4  \n",
            "  inflating: /content/manipulated_sequences/Face2Face/c23/videos/628_568.mp4  \n",
            "  inflating: /content/manipulated_sequences/Face2Face/c23/videos/629_618.mp4  \n",
            "  inflating: /content/manipulated_sequences/Face2Face/c23/videos/630_623.mp4  \n",
            "  inflating: /content/manipulated_sequences/Face2Face/c23/videos/631_551.mp4  \n",
            "  inflating: /content/manipulated_sequences/Face2Face/c23/videos/632_548.mp4  \n",
            "  inflating: /content/manipulated_sequences/Face2Face/c23/videos/633_529.mp4  \n",
            "  inflating: /content/manipulated_sequences/Face2Face/c23/videos/634_660.mp4  \n",
            "  inflating: /content/manipulated_sequences/Face2Face/c23/videos/635_642.mp4  \n",
            "  inflating: /content/manipulated_sequences/Face2Face/c23/videos/636_578.mp4  \n",
            "  inflating: /content/manipulated_sequences/Face2Face/c23/videos/637_427.mp4  \n",
            "  inflating: /content/manipulated_sequences/Face2Face/c23/videos/638_640.mp4  \n",
            "  inflating: /content/manipulated_sequences/Face2Face/c23/videos/639_841.mp4  \n",
            "  inflating: /content/manipulated_sequences/Face2Face/c23/videos/640_638.mp4  \n",
            "  inflating: /content/manipulated_sequences/Face2Face/c23/videos/641_662.mp4  \n",
            "  inflating: /content/manipulated_sequences/Face2Face/c23/videos/642_635.mp4  \n",
            "  inflating: /content/manipulated_sequences/Face2Face/c23/videos/643_646.mp4  \n",
            "  inflating: /content/manipulated_sequences/Face2Face/c23/videos/644_657.mp4  \n",
            "  inflating: /content/manipulated_sequences/Face2Face/c23/videos/645_688.mp4  \n",
            "  inflating: /content/manipulated_sequences/Face2Face/c23/videos/646_643.mp4  \n",
            "  inflating: /content/manipulated_sequences/Face2Face/c23/videos/647_622.mp4  \n",
            "  inflating: /content/manipulated_sequences/Face2Face/c23/videos/648_654.mp4  \n",
            "  inflating: /content/manipulated_sequences/Face2Face/c23/videos/649_816.mp4  \n",
            "  inflating: /content/manipulated_sequences/Face2Face/c23/videos/650_625.mp4  \n",
            "  inflating: /content/manipulated_sequences/Face2Face/c23/videos/651_835.mp4  \n",
            "  inflating: /content/manipulated_sequences/Face2Face/c23/videos/652_773.mp4  \n",
            "  inflating: /content/manipulated_sequences/Face2Face/c23/videos/653_601.mp4  \n",
            "  inflating: /content/manipulated_sequences/Face2Face/c23/videos/654_648.mp4  \n",
            "  inflating: /content/manipulated_sequences/Face2Face/c23/videos/655_444.mp4  \n",
            "  inflating: /content/manipulated_sequences/Face2Face/c23/videos/656_666.mp4  \n",
            "  inflating: /content/manipulated_sequences/Face2Face/c23/videos/657_644.mp4  \n",
            "  inflating: /content/manipulated_sequences/Face2Face/c23/videos/658_627.mp4  \n",
            "  inflating: /content/manipulated_sequences/Face2Face/c23/videos/659_749.mp4  \n",
            "  inflating: /content/manipulated_sequences/Face2Face/c23/videos/660_634.mp4  \n",
            "  inflating: /content/manipulated_sequences/Face2Face/c23/videos/661_670.mp4  \n",
            "  inflating: /content/manipulated_sequences/Face2Face/c23/videos/662_641.mp4  \n",
            "  inflating: /content/manipulated_sequences/Face2Face/c23/videos/663_231.mp4  \n",
            "  inflating: /content/manipulated_sequences/Face2Face/c23/videos/664_668.mp4  \n",
            "  inflating: /content/manipulated_sequences/Face2Face/c23/videos/665_679.mp4  \n",
            "  inflating: /content/manipulated_sequences/Face2Face/c23/videos/666_656.mp4  \n",
            "  inflating: /content/manipulated_sequences/Face2Face/c23/videos/667_446.mp4  \n",
            "  inflating: /content/manipulated_sequences/Face2Face/c23/videos/668_664.mp4  \n",
            "  inflating: /content/manipulated_sequences/Face2Face/c23/videos/669_682.mp4  \n",
            "  inflating: /content/manipulated_sequences/Face2Face/c23/videos/670_661.mp4  \n",
            "  inflating: /content/manipulated_sequences/Face2Face/c23/videos/671_677.mp4  \n",
            "  inflating: /content/manipulated_sequences/Face2Face/c23/videos/672_720.mp4  \n",
            "  inflating: /content/manipulated_sequences/Face2Face/c23/videos/673_728.mp4  \n",
            "  inflating: /content/manipulated_sequences/Face2Face/c23/videos/674_744.mp4  \n",
            "  inflating: /content/manipulated_sequences/Face2Face/c23/videos/675_608.mp4  \n",
            "  inflating: /content/manipulated_sequences/Face2Face/c23/videos/676_776.mp4  \n",
            "  inflating: /content/manipulated_sequences/Face2Face/c23/videos/677_671.mp4  \n",
            "  inflating: /content/manipulated_sequences/Face2Face/c23/videos/678_460.mp4  \n",
            "  inflating: /content/manipulated_sequences/Face2Face/c23/videos/679_665.mp4  \n",
            "  inflating: /content/manipulated_sequences/Face2Face/c23/videos/680_486.mp4  \n",
            "  inflating: /content/manipulated_sequences/Face2Face/c23/videos/681_711.mp4  \n",
            "  inflating: /content/manipulated_sequences/Face2Face/c23/videos/682_669.mp4  \n",
            "  inflating: /content/manipulated_sequences/Face2Face/c23/videos/683_607.mp4  \n",
            "  inflating: /content/manipulated_sequences/Face2Face/c23/videos/684_717.mp4  \n",
            "  inflating: /content/manipulated_sequences/Face2Face/c23/videos/685_613.mp4  \n",
            "  inflating: /content/manipulated_sequences/Face2Face/c23/videos/686_696.mp4  \n",
            "  inflating: /content/manipulated_sequences/Face2Face/c23/videos/687_615.mp4  \n",
            "  inflating: /content/manipulated_sequences/Face2Face/c23/videos/688_645.mp4  \n",
            "  inflating: /content/manipulated_sequences/Face2Face/c23/videos/689_690.mp4  \n",
            "  inflating: /content/manipulated_sequences/Face2Face/c23/videos/690_689.mp4  \n",
            "  inflating: /content/manipulated_sequences/Face2Face/c23/videos/691_732.mp4  \n",
            "  inflating: /content/manipulated_sequences/Face2Face/c23/videos/692_610.mp4  \n",
            "  inflating: /content/manipulated_sequences/Face2Face/c23/videos/693_698.mp4  \n",
            "  inflating: /content/manipulated_sequences/Face2Face/c23/videos/694_767.mp4  \n",
            "  inflating: /content/manipulated_sequences/Face2Face/c23/videos/695_422.mp4  \n",
            "  inflating: /content/manipulated_sequences/Face2Face/c23/videos/696_686.mp4  \n",
            "  inflating: /content/manipulated_sequences/Face2Face/c23/videos/697_581.mp4  \n",
            "  inflating: /content/manipulated_sequences/Face2Face/c23/videos/698_693.mp4  \n",
            "  inflating: /content/manipulated_sequences/Face2Face/c23/videos/699_734.mp4  \n",
            "  inflating: /content/manipulated_sequences/Face2Face/c23/videos/700_813.mp4  \n",
            "  inflating: /content/manipulated_sequences/Face2Face/c23/videos/701_579.mp4  \n",
            "  inflating: /content/manipulated_sequences/Face2Face/c23/videos/702_612.mp4  \n",
            "  inflating: /content/manipulated_sequences/Face2Face/c23/videos/703_604.mp4  \n",
            "  inflating: /content/manipulated_sequences/Face2Face/c23/videos/704_723.mp4  \n",
            "  inflating: /content/manipulated_sequences/Face2Face/c23/videos/705_707.mp4  \n",
            "  inflating: /content/manipulated_sequences/Face2Face/c23/videos/706_479.mp4  \n",
            "  inflating: /content/manipulated_sequences/Face2Face/c23/videos/707_705.mp4  \n",
            "  inflating: /content/manipulated_sequences/Face2Face/c23/videos/708_772.mp4  \n",
            "  inflating: /content/manipulated_sequences/Face2Face/c23/videos/709_390.mp4  \n",
            "  inflating: /content/manipulated_sequences/Face2Face/c23/videos/710_788.mp4  \n",
            "  inflating: /content/manipulated_sequences/Face2Face/c23/videos/711_681.mp4  \n",
            "  inflating: /content/manipulated_sequences/Face2Face/c23/videos/712_716.mp4  \n",
            "  inflating: /content/manipulated_sequences/Face2Face/c23/videos/713_726.mp4  \n",
            "  inflating: /content/manipulated_sequences/Face2Face/c23/videos/714_842.mp4  \n",
            "  inflating: /content/manipulated_sequences/Face2Face/c23/videos/715_721.mp4  \n",
            "  inflating: /content/manipulated_sequences/Face2Face/c23/videos/716_712.mp4  \n",
            "  inflating: /content/manipulated_sequences/Face2Face/c23/videos/717_684.mp4  \n",
            "  inflating: /content/manipulated_sequences/Face2Face/c23/videos/718_972.mp4  \n",
            "  inflating: /content/manipulated_sequences/Face2Face/c23/videos/719_737.mp4  \n",
            "  inflating: /content/manipulated_sequences/Face2Face/c23/videos/720_672.mp4  \n",
            "  inflating: /content/manipulated_sequences/Face2Face/c23/videos/721_715.mp4  \n",
            "  inflating: /content/manipulated_sequences/Face2Face/c23/videos/722_458.mp4  \n",
            "  inflating: /content/manipulated_sequences/Face2Face/c23/videos/723_704.mp4  \n",
            "  inflating: /content/manipulated_sequences/Face2Face/c23/videos/724_725.mp4  \n",
            "  inflating: /content/manipulated_sequences/Face2Face/c23/videos/725_724.mp4  \n",
            "  inflating: /content/manipulated_sequences/Face2Face/c23/videos/726_713.mp4  \n",
            "  inflating: /content/manipulated_sequences/Face2Face/c23/videos/727_729.mp4  \n",
            "  inflating: /content/manipulated_sequences/Face2Face/c23/videos/728_673.mp4  \n",
            "  inflating: /content/manipulated_sequences/Face2Face/c23/videos/729_727.mp4  \n",
            "  inflating: /content/manipulated_sequences/Face2Face/c23/videos/730_815.mp4  \n",
            "  inflating: /content/manipulated_sequences/Face2Face/c23/videos/731_741.mp4  \n",
            "  inflating: /content/manipulated_sequences/Face2Face/c23/videos/732_691.mp4  \n",
            "  inflating: /content/manipulated_sequences/Face2Face/c23/videos/733_935.mp4  \n",
            "  inflating: /content/manipulated_sequences/Face2Face/c23/videos/734_699.mp4  \n",
            "  inflating: /content/manipulated_sequences/Face2Face/c23/videos/735_774.mp4  \n",
            "  inflating: /content/manipulated_sequences/Face2Face/c23/videos/736_785.mp4  \n",
            "  inflating: /content/manipulated_sequences/Face2Face/c23/videos/737_719.mp4  \n",
            "  inflating: /content/manipulated_sequences/Face2Face/c23/videos/738_804.mp4  \n",
            "  inflating: /content/manipulated_sequences/Face2Face/c23/videos/739_865.mp4  \n",
            "  inflating: /content/manipulated_sequences/Face2Face/c23/videos/740_796.mp4  \n",
            "  inflating: /content/manipulated_sequences/Face2Face/c23/videos/741_731.mp4  \n",
            "  inflating: /content/manipulated_sequences/Face2Face/c23/videos/742_775.mp4  \n",
            "  inflating: /content/manipulated_sequences/Face2Face/c23/videos/743_750.mp4  \n",
            "  inflating: /content/manipulated_sequences/Face2Face/c23/videos/744_674.mp4  \n",
            "  inflating: /content/manipulated_sequences/Face2Face/c23/videos/745_777.mp4  \n",
            "  inflating: /content/manipulated_sequences/Face2Face/c23/videos/746_571.mp4  \n",
            "  inflating: /content/manipulated_sequences/Face2Face/c23/videos/747_854.mp4  \n",
            "  inflating: /content/manipulated_sequences/Face2Face/c23/videos/748_355.mp4  \n",
            "  inflating: /content/manipulated_sequences/Face2Face/c23/videos/749_659.mp4  \n",
            "  inflating: /content/manipulated_sequences/Face2Face/c23/videos/750_743.mp4  \n",
            "  inflating: /content/manipulated_sequences/Face2Face/c23/videos/751_752.mp4  \n",
            "  inflating: /content/manipulated_sequences/Face2Face/c23/videos/752_751.mp4  \n",
            "  inflating: /content/manipulated_sequences/Face2Face/c23/videos/753_789.mp4  \n",
            "  inflating: /content/manipulated_sequences/Face2Face/c23/videos/754_758.mp4  \n",
            "  inflating: /content/manipulated_sequences/Face2Face/c23/videos/755_759.mp4  \n",
            "  inflating: /content/manipulated_sequences/Face2Face/c23/videos/756_503.mp4  \n",
            "  inflating: /content/manipulated_sequences/Face2Face/c23/videos/757_573.mp4  \n",
            "  inflating: /content/manipulated_sequences/Face2Face/c23/videos/758_754.mp4  \n",
            "  inflating: /content/manipulated_sequences/Face2Face/c23/videos/759_755.mp4  \n",
            "  inflating: /content/manipulated_sequences/Face2Face/c23/videos/760_611.mp4  \n",
            "  inflating: /content/manipulated_sequences/Face2Face/c23/videos/761_766.mp4  \n",
            "  inflating: /content/manipulated_sequences/Face2Face/c23/videos/762_832.mp4  \n",
            "  inflating: /content/manipulated_sequences/Face2Face/c23/videos/763_930.mp4  \n",
            "  inflating: /content/manipulated_sequences/Face2Face/c23/videos/764_850.mp4  \n",
            "  inflating: /content/manipulated_sequences/Face2Face/c23/videos/765_867.mp4  \n",
            "  inflating: /content/manipulated_sequences/Face2Face/c23/videos/766_761.mp4  \n",
            "  inflating: /content/manipulated_sequences/Face2Face/c23/videos/767_694.mp4  \n",
            "  inflating: /content/manipulated_sequences/Face2Face/c23/videos/768_793.mp4  \n",
            "  inflating: /content/manipulated_sequences/Face2Face/c23/videos/769_784.mp4  \n",
            "  inflating: /content/manipulated_sequences/Face2Face/c23/videos/770_791.mp4  \n",
            "  inflating: /content/manipulated_sequences/Face2Face/c23/videos/771_849.mp4  \n",
            "  inflating: /content/manipulated_sequences/Face2Face/c23/videos/772_708.mp4  \n",
            "  inflating: /content/manipulated_sequences/Face2Face/c23/videos/773_652.mp4  \n",
            "  inflating: /content/manipulated_sequences/Face2Face/c23/videos/774_735.mp4  \n",
            "  inflating: /content/manipulated_sequences/Face2Face/c23/videos/775_742.mp4  \n",
            "  inflating: /content/manipulated_sequences/Face2Face/c23/videos/776_676.mp4  \n",
            "  inflating: /content/manipulated_sequences/Face2Face/c23/videos/777_745.mp4  \n",
            "  inflating: /content/manipulated_sequences/Face2Face/c23/videos/778_798.mp4  \n",
            "  inflating: /content/manipulated_sequences/Face2Face/c23/videos/779_794.mp4  \n",
            "  inflating: /content/manipulated_sequences/Face2Face/c23/videos/780_869.mp4  \n",
            "  inflating: /content/manipulated_sequences/Face2Face/c23/videos/781_806.mp4  \n",
            "  inflating: /content/manipulated_sequences/Face2Face/c23/videos/782_787.mp4  \n",
            "  inflating: /content/manipulated_sequences/Face2Face/c23/videos/783_916.mp4  \n",
            "  inflating: /content/manipulated_sequences/Face2Face/c23/videos/784_769.mp4  \n",
            "  inflating: /content/manipulated_sequences/Face2Face/c23/videos/785_736.mp4  \n",
            "  inflating: /content/manipulated_sequences/Face2Face/c23/videos/786_819.mp4  \n",
            "  inflating: /content/manipulated_sequences/Face2Face/c23/videos/787_782.mp4  \n",
            "  inflating: /content/manipulated_sequences/Face2Face/c23/videos/788_710.mp4  \n",
            "  inflating: /content/manipulated_sequences/Face2Face/c23/videos/789_753.mp4  \n",
            "  inflating: /content/manipulated_sequences/Face2Face/c23/videos/790_014.mp4  \n",
            "  inflating: /content/manipulated_sequences/Face2Face/c23/videos/791_770.mp4  \n",
            "  inflating: /content/manipulated_sequences/Face2Face/c23/videos/792_903.mp4  \n",
            "  inflating: /content/manipulated_sequences/Face2Face/c23/videos/793_768.mp4  \n",
            "  inflating: /content/manipulated_sequences/Face2Face/c23/videos/794_779.mp4  \n",
            "  inflating: /content/manipulated_sequences/Face2Face/c23/videos/795_907.mp4  \n",
            "  inflating: /content/manipulated_sequences/Face2Face/c23/videos/796_740.mp4  \n",
            "  inflating: /content/manipulated_sequences/Face2Face/c23/videos/797_844.mp4  \n",
            "  inflating: /content/manipulated_sequences/Face2Face/c23/videos/798_778.mp4  \n",
            "  inflating: /content/manipulated_sequences/Face2Face/c23/videos/799_809.mp4  \n",
            "  inflating: /content/manipulated_sequences/Face2Face/c23/videos/800_840.mp4  \n",
            "  inflating: /content/manipulated_sequences/Face2Face/c23/videos/801_855.mp4  \n",
            "  inflating: /content/manipulated_sequences/Face2Face/c23/videos/802_885.mp4  \n",
            "  inflating: /content/manipulated_sequences/Face2Face/c23/videos/803_017.mp4  \n",
            "  inflating: /content/manipulated_sequences/Face2Face/c23/videos/804_738.mp4  \n",
            "  inflating: /content/manipulated_sequences/Face2Face/c23/videos/805_011.mp4  \n",
            "  inflating: /content/manipulated_sequences/Face2Face/c23/videos/806_781.mp4  \n",
            "  inflating: /content/manipulated_sequences/Face2Face/c23/videos/807_273.mp4  \n",
            "  inflating: /content/manipulated_sequences/Face2Face/c23/videos/808_829.mp4  \n",
            "  inflating: /content/manipulated_sequences/Face2Face/c23/videos/809_799.mp4  \n",
            "  inflating: /content/manipulated_sequences/Face2Face/c23/videos/810_838.mp4  \n",
            "  inflating: /content/manipulated_sequences/Face2Face/c23/videos/811_920.mp4  \n",
            "  inflating: /content/manipulated_sequences/Face2Face/c23/videos/812_821.mp4  \n",
            "  inflating: /content/manipulated_sequences/Face2Face/c23/videos/813_700.mp4  \n",
            "  inflating: /content/manipulated_sequences/Face2Face/c23/videos/814_871.mp4  \n",
            "  inflating: /content/manipulated_sequences/Face2Face/c23/videos/815_730.mp4  \n",
            "  inflating: /content/manipulated_sequences/Face2Face/c23/videos/816_649.mp4  \n",
            "  inflating: /content/manipulated_sequences/Face2Face/c23/videos/817_827.mp4  \n",
            "  inflating: /content/manipulated_sequences/Face2Face/c23/videos/818_820.mp4  \n",
            "  inflating: /content/manipulated_sequences/Face2Face/c23/videos/819_786.mp4  \n",
            "  inflating: /content/manipulated_sequences/Face2Face/c23/videos/820_818.mp4  \n",
            "  inflating: /content/manipulated_sequences/Face2Face/c23/videos/821_812.mp4  \n",
            "  inflating: /content/manipulated_sequences/Face2Face/c23/videos/822_244.mp4  \n",
            "  inflating: /content/manipulated_sequences/Face2Face/c23/videos/823_584.mp4  \n",
            "  inflating: /content/manipulated_sequences/Face2Face/c23/videos/824_419.mp4  \n",
            "  inflating: /content/manipulated_sequences/Face2Face/c23/videos/825_074.mp4  \n",
            "  inflating: /content/manipulated_sequences/Face2Face/c23/videos/826_833.mp4  \n",
            "  inflating: /content/manipulated_sequences/Face2Face/c23/videos/827_817.mp4  \n",
            "  inflating: /content/manipulated_sequences/Face2Face/c23/videos/828_830.mp4  \n",
            "  inflating: /content/manipulated_sequences/Face2Face/c23/videos/829_808.mp4  \n",
            "  inflating: /content/manipulated_sequences/Face2Face/c23/videos/830_828.mp4  \n",
            "  inflating: /content/manipulated_sequences/Face2Face/c23/videos/831_508.mp4  \n",
            "  inflating: /content/manipulated_sequences/Face2Face/c23/videos/832_762.mp4  \n",
            "  inflating: /content/manipulated_sequences/Face2Face/c23/videos/833_826.mp4  \n",
            "  inflating: /content/manipulated_sequences/Face2Face/c23/videos/834_852.mp4  \n",
            "  inflating: /content/manipulated_sequences/Face2Face/c23/videos/835_651.mp4  \n",
            "  inflating: /content/manipulated_sequences/Face2Face/c23/videos/836_950.mp4  \n",
            "  inflating: /content/manipulated_sequences/Face2Face/c23/videos/837_890.mp4  \n",
            "  inflating: /content/manipulated_sequences/Face2Face/c23/videos/838_810.mp4  \n",
            "  inflating: /content/manipulated_sequences/Face2Face/c23/videos/839_864.mp4  \n",
            "  inflating: /content/manipulated_sequences/Face2Face/c23/videos/840_800.mp4  \n",
            "  inflating: /content/manipulated_sequences/Face2Face/c23/videos/841_639.mp4  \n",
            "  inflating: /content/manipulated_sequences/Face2Face/c23/videos/842_714.mp4  \n",
            "  inflating: /content/manipulated_sequences/Face2Face/c23/videos/843_859.mp4  \n",
            "  inflating: /content/manipulated_sequences/Face2Face/c23/videos/844_797.mp4  \n",
            "  inflating: /content/manipulated_sequences/Face2Face/c23/videos/845_846.mp4  \n",
            "  inflating: /content/manipulated_sequences/Face2Face/c23/videos/846_845.mp4  \n",
            "  inflating: /content/manipulated_sequences/Face2Face/c23/videos/847_906.mp4  \n",
            "  inflating: /content/manipulated_sequences/Face2Face/c23/videos/848_894.mp4  \n",
            "  inflating: /content/manipulated_sequences/Face2Face/c23/videos/849_771.mp4  \n",
            "  inflating: /content/manipulated_sequences/Face2Face/c23/videos/850_764.mp4  \n",
            "  inflating: /content/manipulated_sequences/Face2Face/c23/videos/851_552.mp4  \n",
            "  inflating: /content/manipulated_sequences/Face2Face/c23/videos/852_834.mp4  \n",
            "  inflating: /content/manipulated_sequences/Face2Face/c23/videos/853_863.mp4  \n",
            "  inflating: /content/manipulated_sequences/Face2Face/c23/videos/854_747.mp4  \n",
            "  inflating: /content/manipulated_sequences/Face2Face/c23/videos/855_801.mp4  \n",
            "  inflating: /content/manipulated_sequences/Face2Face/c23/videos/856_881.mp4  \n",
            "  inflating: /content/manipulated_sequences/Face2Face/c23/videos/857_909.mp4  \n",
            "  inflating: /content/manipulated_sequences/Face2Face/c23/videos/858_861.mp4  \n",
            "  inflating: /content/manipulated_sequences/Face2Face/c23/videos/859_843.mp4  \n",
            "  inflating: /content/manipulated_sequences/Face2Face/c23/videos/860_905.mp4  \n",
            "  inflating: /content/manipulated_sequences/Face2Face/c23/videos/861_858.mp4  \n",
            "  inflating: /content/manipulated_sequences/Face2Face/c23/videos/862_047.mp4  \n",
            "  inflating: /content/manipulated_sequences/Face2Face/c23/videos/863_853.mp4  \n",
            "  inflating: /content/manipulated_sequences/Face2Face/c23/videos/864_839.mp4  \n",
            "  inflating: /content/manipulated_sequences/Face2Face/c23/videos/865_739.mp4  \n",
            "  inflating: /content/manipulated_sequences/Face2Face/c23/videos/866_878.mp4  \n",
            "  inflating: /content/manipulated_sequences/Face2Face/c23/videos/867_765.mp4  \n",
            "  inflating: /content/manipulated_sequences/Face2Face/c23/videos/868_949.mp4  \n",
            "  inflating: /content/manipulated_sequences/Face2Face/c23/videos/869_780.mp4  \n",
            "  inflating: /content/manipulated_sequences/Face2Face/c23/videos/870_001.mp4  \n",
            "  inflating: /content/manipulated_sequences/Face2Face/c23/videos/871_814.mp4  \n",
            "  inflating: /content/manipulated_sequences/Face2Face/c23/videos/872_873.mp4  \n",
            "  inflating: /content/manipulated_sequences/Face2Face/c23/videos/873_872.mp4  \n",
            "  inflating: /content/manipulated_sequences/Face2Face/c23/videos/874_291.mp4  \n",
            "  inflating: /content/manipulated_sequences/Face2Face/c23/videos/875_979.mp4  \n",
            "  inflating: /content/manipulated_sequences/Face2Face/c23/videos/876_891.mp4  \n",
            "  inflating: /content/manipulated_sequences/Face2Face/c23/videos/877_886.mp4  \n",
            "  inflating: /content/manipulated_sequences/Face2Face/c23/videos/878_866.mp4  \n",
            "  inflating: /content/manipulated_sequences/Face2Face/c23/videos/879_963.mp4  \n",
            "  inflating: /content/manipulated_sequences/Face2Face/c23/videos/880_135.mp4  \n",
            "  inflating: /content/manipulated_sequences/Face2Face/c23/videos/881_856.mp4  \n",
            "  inflating: /content/manipulated_sequences/Face2Face/c23/videos/882_952.mp4  \n",
            "  inflating: /content/manipulated_sequences/Face2Face/c23/videos/883_013.mp4  \n",
            "  inflating: /content/manipulated_sequences/Face2Face/c23/videos/884_968.mp4  \n",
            "  inflating: /content/manipulated_sequences/Face2Face/c23/videos/885_802.mp4  \n",
            "  inflating: /content/manipulated_sequences/Face2Face/c23/videos/886_877.mp4  \n",
            "  inflating: /content/manipulated_sequences/Face2Face/c23/videos/887_275.mp4  \n",
            "  inflating: /content/manipulated_sequences/Face2Face/c23/videos/888_937.mp4  \n",
            "  inflating: /content/manipulated_sequences/Face2Face/c23/videos/889_045.mp4  \n",
            "  inflating: /content/manipulated_sequences/Face2Face/c23/videos/890_837.mp4  \n",
            "  inflating: /content/manipulated_sequences/Face2Face/c23/videos/891_876.mp4  \n",
            "  inflating: /content/manipulated_sequences/Face2Face/c23/videos/892_112.mp4  \n",
            "  inflating: /content/manipulated_sequences/Face2Face/c23/videos/893_913.mp4  \n",
            "  inflating: /content/manipulated_sequences/Face2Face/c23/videos/894_848.mp4  \n",
            "  inflating: /content/manipulated_sequences/Face2Face/c23/videos/895_915.mp4  \n",
            "  inflating: /content/manipulated_sequences/Face2Face/c23/videos/896_128.mp4  \n",
            "  inflating: /content/manipulated_sequences/Face2Face/c23/videos/897_969.mp4  \n",
            "  inflating: /content/manipulated_sequences/Face2Face/c23/videos/898_922.mp4  \n",
            "  inflating: /content/manipulated_sequences/Face2Face/c23/videos/899_914.mp4  \n",
            "  inflating: /content/manipulated_sequences/Face2Face/c23/videos/900_926.mp4  \n",
            "  inflating: /content/manipulated_sequences/Face2Face/c23/videos/901_902.mp4  \n",
            "  inflating: /content/manipulated_sequences/Face2Face/c23/videos/902_901.mp4  \n",
            "  inflating: /content/manipulated_sequences/Face2Face/c23/videos/903_792.mp4  \n",
            "  inflating: /content/manipulated_sequences/Face2Face/c23/videos/904_046.mp4  \n",
            "  inflating: /content/manipulated_sequences/Face2Face/c23/videos/905_860.mp4  \n",
            "  inflating: /content/manipulated_sequences/Face2Face/c23/videos/906_847.mp4  \n",
            "  inflating: /content/manipulated_sequences/Face2Face/c23/videos/907_795.mp4  \n",
            "  inflating: /content/manipulated_sequences/Face2Face/c23/videos/908_207.mp4  \n",
            "  inflating: /content/manipulated_sequences/Face2Face/c23/videos/909_857.mp4  \n",
            "  inflating: /content/manipulated_sequences/Face2Face/c23/videos/910_911.mp4  \n",
            "  inflating: /content/manipulated_sequences/Face2Face/c23/videos/911_910.mp4  \n",
            "  inflating: /content/manipulated_sequences/Face2Face/c23/videos/912_927.mp4  \n",
            "  inflating: /content/manipulated_sequences/Face2Face/c23/videos/913_893.mp4  \n",
            "  inflating: /content/manipulated_sequences/Face2Face/c23/videos/914_899.mp4  \n",
            "  inflating: /content/manipulated_sequences/Face2Face/c23/videos/915_895.mp4  \n",
            "  inflating: /content/manipulated_sequences/Face2Face/c23/videos/916_783.mp4  \n",
            "  inflating: /content/manipulated_sequences/Face2Face/c23/videos/917_924.mp4  \n",
            "  inflating: /content/manipulated_sequences/Face2Face/c23/videos/918_934.mp4  \n",
            "  inflating: /content/manipulated_sequences/Face2Face/c23/videos/919_015.mp4  \n",
            "  inflating: /content/manipulated_sequences/Face2Face/c23/videos/920_811.mp4  \n",
            "  inflating: /content/manipulated_sequences/Face2Face/c23/videos/921_569.mp4  \n",
            "  inflating: /content/manipulated_sequences/Face2Face/c23/videos/922_898.mp4  \n",
            "  inflating: /content/manipulated_sequences/Face2Face/c23/videos/923_023.mp4  \n",
            "  inflating: /content/manipulated_sequences/Face2Face/c23/videos/924_917.mp4  \n",
            "  inflating: /content/manipulated_sequences/Face2Face/c23/videos/925_933.mp4  \n",
            "  inflating: /content/manipulated_sequences/Face2Face/c23/videos/926_900.mp4  \n",
            "  inflating: /content/manipulated_sequences/Face2Face/c23/videos/927_912.mp4  \n",
            "  inflating: /content/manipulated_sequences/Face2Face/c23/videos/928_160.mp4  \n",
            "  inflating: /content/manipulated_sequences/Face2Face/c23/videos/929_962.mp4  \n",
            "  inflating: /content/manipulated_sequences/Face2Face/c23/videos/930_763.mp4  \n",
            "  inflating: /content/manipulated_sequences/Face2Face/c23/videos/931_936.mp4  \n",
            "  inflating: /content/manipulated_sequences/Face2Face/c23/videos/932_384.mp4  \n",
            "  inflating: /content/manipulated_sequences/Face2Face/c23/videos/933_925.mp4  \n",
            "  inflating: /content/manipulated_sequences/Face2Face/c23/videos/934_918.mp4  \n",
            "  inflating: /content/manipulated_sequences/Face2Face/c23/videos/935_733.mp4  \n",
            "  inflating: /content/manipulated_sequences/Face2Face/c23/videos/936_931.mp4  \n",
            "  inflating: /content/manipulated_sequences/Face2Face/c23/videos/937_888.mp4  \n",
            "  inflating: /content/manipulated_sequences/Face2Face/c23/videos/938_987.mp4  \n",
            "  inflating: /content/manipulated_sequences/Face2Face/c23/videos/939_115.mp4  \n",
            "  inflating: /content/manipulated_sequences/Face2Face/c23/videos/940_941.mp4  \n",
            "  inflating: /content/manipulated_sequences/Face2Face/c23/videos/941_940.mp4  \n",
            "  inflating: /content/manipulated_sequences/Face2Face/c23/videos/942_943.mp4  \n",
            "  inflating: /content/manipulated_sequences/Face2Face/c23/videos/943_942.mp4  \n",
            "  inflating: /content/manipulated_sequences/Face2Face/c23/videos/944_032.mp4  \n",
            "  inflating: /content/manipulated_sequences/Face2Face/c23/videos/945_044.mp4  \n",
            "  inflating: /content/manipulated_sequences/Face2Face/c23/videos/946_049.mp4  \n",
            "  inflating: /content/manipulated_sequences/Face2Face/c23/videos/947_951.mp4  \n",
            "  inflating: /content/manipulated_sequences/Face2Face/c23/videos/948_965.mp4  \n",
            "  inflating: /content/manipulated_sequences/Face2Face/c23/videos/949_868.mp4  \n",
            "  inflating: /content/manipulated_sequences/Face2Face/c23/videos/950_836.mp4  \n",
            "  inflating: /content/manipulated_sequences/Face2Face/c23/videos/951_947.mp4  \n",
            "  inflating: /content/manipulated_sequences/Face2Face/c23/videos/952_882.mp4  \n",
            "  inflating: /content/manipulated_sequences/Face2Face/c23/videos/953_974.mp4  \n",
            "  inflating: /content/manipulated_sequences/Face2Face/c23/videos/954_976.mp4  \n",
            "  inflating: /content/manipulated_sequences/Face2Face/c23/videos/955_078.mp4  \n",
            "  inflating: /content/manipulated_sequences/Face2Face/c23/videos/956_958.mp4  \n",
            "  inflating: /content/manipulated_sequences/Face2Face/c23/videos/957_959.mp4  \n",
            "  inflating: /content/manipulated_sequences/Face2Face/c23/videos/958_956.mp4  \n",
            "  inflating: /content/manipulated_sequences/Face2Face/c23/videos/959_957.mp4  \n",
            "  inflating: /content/manipulated_sequences/Face2Face/c23/videos/960_999.mp4  \n",
            "  inflating: /content/manipulated_sequences/Face2Face/c23/videos/961_069.mp4  \n",
            "  inflating: /content/manipulated_sequences/Face2Face/c23/videos/962_929.mp4  \n",
            "  inflating: /content/manipulated_sequences/Face2Face/c23/videos/963_879.mp4  \n",
            "  inflating: /content/manipulated_sequences/Face2Face/c23/videos/964_174.mp4  \n",
            "  inflating: /content/manipulated_sequences/Face2Face/c23/videos/965_948.mp4  \n",
            "  inflating: /content/manipulated_sequences/Face2Face/c23/videos/966_988.mp4  \n",
            "  inflating: /content/manipulated_sequences/Face2Face/c23/videos/967_984.mp4  \n",
            "  inflating: /content/manipulated_sequences/Face2Face/c23/videos/968_884.mp4  \n",
            "  inflating: /content/manipulated_sequences/Face2Face/c23/videos/969_897.mp4  \n",
            "  inflating: /content/manipulated_sequences/Face2Face/c23/videos/970_973.mp4  \n",
            "  inflating: /content/manipulated_sequences/Face2Face/c23/videos/971_564.mp4  \n",
            "  inflating: /content/manipulated_sequences/Face2Face/c23/videos/972_718.mp4  \n",
            "  inflating: /content/manipulated_sequences/Face2Face/c23/videos/973_970.mp4  \n",
            "  inflating: /content/manipulated_sequences/Face2Face/c23/videos/974_953.mp4  \n",
            "  inflating: /content/manipulated_sequences/Face2Face/c23/videos/975_978.mp4  \n",
            "  inflating: /content/manipulated_sequences/Face2Face/c23/videos/976_954.mp4  \n",
            "  inflating: /content/manipulated_sequences/Face2Face/c23/videos/977_075.mp4  \n",
            "  inflating: /content/manipulated_sequences/Face2Face/c23/videos/978_975.mp4  \n",
            "  inflating: /content/manipulated_sequences/Face2Face/c23/videos/979_875.mp4  \n",
            "  inflating: /content/manipulated_sequences/Face2Face/c23/videos/980_992.mp4  \n",
            "  inflating: /content/manipulated_sequences/Face2Face/c23/videos/981_985.mp4  \n",
            "  inflating: /content/manipulated_sequences/Face2Face/c23/videos/982_004.mp4  \n",
            "  inflating: /content/manipulated_sequences/Face2Face/c23/videos/983_113.mp4  \n",
            "  inflating: /content/manipulated_sequences/Face2Face/c23/videos/984_967.mp4  \n",
            "  inflating: /content/manipulated_sequences/Face2Face/c23/videos/985_981.mp4  \n",
            "  inflating: /content/manipulated_sequences/Face2Face/c23/videos/986_994.mp4  \n",
            "  inflating: /content/manipulated_sequences/Face2Face/c23/videos/987_938.mp4  \n",
            "  inflating: /content/manipulated_sequences/Face2Face/c23/videos/988_966.mp4  \n",
            "  inflating: /content/manipulated_sequences/Face2Face/c23/videos/989_993.mp4  \n",
            "  inflating: /content/manipulated_sequences/Face2Face/c23/videos/990_008.mp4  \n",
            "  inflating: /content/manipulated_sequences/Face2Face/c23/videos/991_064.mp4  \n",
            "  inflating: /content/manipulated_sequences/Face2Face/c23/videos/992_980.mp4  \n",
            "  inflating: /content/manipulated_sequences/Face2Face/c23/videos/993_989.mp4  \n",
            "  inflating: /content/manipulated_sequences/Face2Face/c23/videos/994_986.mp4  \n",
            "  inflating: /content/manipulated_sequences/Face2Face/c23/videos/995_233.mp4  \n",
            "  inflating: /content/manipulated_sequences/Face2Face/c23/videos/996_056.mp4  \n",
            "  inflating: /content/manipulated_sequences/Face2Face/c23/videos/997_040.mp4  \n",
            "  inflating: /content/manipulated_sequences/Face2Face/c23/videos/998_561.mp4  \n",
            "  inflating: /content/manipulated_sequences/Face2Face/c23/videos/999_960.mp4  \n",
            "  inflating: /content/manipulated_sequences/FaceSwap/c23/videos/000_003.mp4  \n",
            "  inflating: /content/manipulated_sequences/FaceSwap/c23/videos/001_870.mp4  \n",
            "  inflating: /content/manipulated_sequences/FaceSwap/c23/videos/002_006.mp4  \n",
            "  inflating: /content/manipulated_sequences/FaceSwap/c23/videos/003_000.mp4  \n",
            "  inflating: /content/manipulated_sequences/FaceSwap/c23/videos/004_982.mp4  \n",
            "  inflating: /content/manipulated_sequences/FaceSwap/c23/videos/005_010.mp4  \n",
            "  inflating: /content/manipulated_sequences/FaceSwap/c23/videos/006_002.mp4  \n",
            "  inflating: /content/manipulated_sequences/FaceSwap/c23/videos/007_132.mp4  \n",
            "  inflating: /content/manipulated_sequences/FaceSwap/c23/videos/008_990.mp4  \n",
            "  inflating: /content/manipulated_sequences/FaceSwap/c23/videos/009_027.mp4  \n",
            "  inflating: /content/manipulated_sequences/FaceSwap/c23/videos/010_005.mp4  \n",
            "  inflating: /content/manipulated_sequences/FaceSwap/c23/videos/011_805.mp4  \n",
            "  inflating: /content/manipulated_sequences/FaceSwap/c23/videos/012_026.mp4  \n",
            "  inflating: /content/manipulated_sequences/FaceSwap/c23/videos/013_883.mp4  \n",
            "  inflating: /content/manipulated_sequences/FaceSwap/c23/videos/014_790.mp4  \n",
            "  inflating: /content/manipulated_sequences/FaceSwap/c23/videos/015_919.mp4  \n",
            "  inflating: /content/manipulated_sequences/FaceSwap/c23/videos/016_209.mp4  \n",
            "  inflating: /content/manipulated_sequences/FaceSwap/c23/videos/017_803.mp4  \n",
            "  inflating: /content/manipulated_sequences/FaceSwap/c23/videos/018_019.mp4  \n",
            "  inflating: /content/manipulated_sequences/FaceSwap/c23/videos/019_018.mp4  \n",
            "  inflating: /content/manipulated_sequences/FaceSwap/c23/videos/020_344.mp4  \n",
            "  inflating: /content/manipulated_sequences/FaceSwap/c23/videos/021_312.mp4  \n",
            "  inflating: /content/manipulated_sequences/FaceSwap/c23/videos/022_489.mp4  \n",
            "  inflating: /content/manipulated_sequences/FaceSwap/c23/videos/023_923.mp4  \n",
            "  inflating: /content/manipulated_sequences/FaceSwap/c23/videos/024_073.mp4  \n",
            "  inflating: /content/manipulated_sequences/FaceSwap/c23/videos/025_067.mp4  \n",
            "  inflating: /content/manipulated_sequences/FaceSwap/c23/videos/026_012.mp4  \n",
            "  inflating: /content/manipulated_sequences/FaceSwap/c23/videos/027_009.mp4  \n",
            "  inflating: /content/manipulated_sequences/FaceSwap/c23/videos/028_068.mp4  \n",
            "  inflating: /content/manipulated_sequences/FaceSwap/c23/videos/029_048.mp4  \n",
            "  inflating: /content/manipulated_sequences/FaceSwap/c23/videos/030_193.mp4  \n",
            "  inflating: /content/manipulated_sequences/FaceSwap/c23/videos/031_163.mp4  \n",
            "  inflating: /content/manipulated_sequences/FaceSwap/c23/videos/032_944.mp4  \n",
            "  inflating: /content/manipulated_sequences/FaceSwap/c23/videos/033_097.mp4  \n",
            "  inflating: /content/manipulated_sequences/FaceSwap/c23/videos/034_590.mp4  \n",
            "  inflating: /content/manipulated_sequences/FaceSwap/c23/videos/035_036.mp4  \n",
            "  inflating: /content/manipulated_sequences/FaceSwap/c23/videos/036_035.mp4  \n",
            "  inflating: /content/manipulated_sequences/FaceSwap/c23/videos/037_072.mp4  \n",
            "  inflating: /content/manipulated_sequences/FaceSwap/c23/videos/038_125.mp4  \n",
            "  inflating: /content/manipulated_sequences/FaceSwap/c23/videos/039_058.mp4  \n",
            "  inflating: /content/manipulated_sequences/FaceSwap/c23/videos/040_997.mp4  \n",
            "  inflating: /content/manipulated_sequences/FaceSwap/c23/videos/041_063.mp4  \n",
            "  inflating: /content/manipulated_sequences/FaceSwap/c23/videos/042_084.mp4  \n",
            "  inflating: /content/manipulated_sequences/FaceSwap/c23/videos/043_110.mp4  \n",
            "  inflating: /content/manipulated_sequences/FaceSwap/c23/videos/044_945.mp4  \n",
            "  inflating: /content/manipulated_sequences/FaceSwap/c23/videos/045_889.mp4  \n",
            "  inflating: /content/manipulated_sequences/FaceSwap/c23/videos/046_904.mp4  \n",
            "  inflating: /content/manipulated_sequences/FaceSwap/c23/videos/047_862.mp4  \n",
            "  inflating: /content/manipulated_sequences/FaceSwap/c23/videos/048_029.mp4  \n",
            "  inflating: /content/manipulated_sequences/FaceSwap/c23/videos/049_946.mp4  \n",
            "  inflating: /content/manipulated_sequences/FaceSwap/c23/videos/050_059.mp4  \n",
            "  inflating: /content/manipulated_sequences/FaceSwap/c23/videos/051_332.mp4  \n",
            "  inflating: /content/manipulated_sequences/FaceSwap/c23/videos/052_108.mp4  \n",
            "  inflating: /content/manipulated_sequences/FaceSwap/c23/videos/053_095.mp4  \n",
            "  inflating: /content/manipulated_sequences/FaceSwap/c23/videos/054_071.mp4  \n",
            "  inflating: /content/manipulated_sequences/FaceSwap/c23/videos/055_147.mp4  \n",
            "  inflating: /content/manipulated_sequences/FaceSwap/c23/videos/056_996.mp4  \n",
            "  inflating: /content/manipulated_sequences/FaceSwap/c23/videos/057_070.mp4  \n",
            "  inflating: /content/manipulated_sequences/FaceSwap/c23/videos/058_039.mp4  \n",
            "  inflating: /content/manipulated_sequences/FaceSwap/c23/videos/059_050.mp4  \n",
            "  inflating: /content/manipulated_sequences/FaceSwap/c23/videos/060_088.mp4  \n",
            "  inflating: /content/manipulated_sequences/FaceSwap/c23/videos/061_080.mp4  \n",
            "  inflating: /content/manipulated_sequences/FaceSwap/c23/videos/062_066.mp4  \n",
            "  inflating: /content/manipulated_sequences/FaceSwap/c23/videos/063_041.mp4  \n",
            "  inflating: /content/manipulated_sequences/FaceSwap/c23/videos/064_991.mp4  \n",
            "  inflating: /content/manipulated_sequences/FaceSwap/c23/videos/065_089.mp4  \n",
            "  inflating: /content/manipulated_sequences/FaceSwap/c23/videos/066_062.mp4  \n",
            "  inflating: /content/manipulated_sequences/FaceSwap/c23/videos/067_025.mp4  \n",
            "  inflating: /content/manipulated_sequences/FaceSwap/c23/videos/068_028.mp4  \n",
            "  inflating: /content/manipulated_sequences/FaceSwap/c23/videos/069_961.mp4  \n",
            "  inflating: /content/manipulated_sequences/FaceSwap/c23/videos/070_057.mp4  \n",
            "  inflating: /content/manipulated_sequences/FaceSwap/c23/videos/071_054.mp4  \n",
            "  inflating: /content/manipulated_sequences/FaceSwap/c23/videos/072_037.mp4  \n",
            "  inflating: /content/manipulated_sequences/FaceSwap/c23/videos/073_024.mp4  \n",
            "  inflating: /content/manipulated_sequences/FaceSwap/c23/videos/074_825.mp4  \n",
            "  inflating: /content/manipulated_sequences/FaceSwap/c23/videos/075_977.mp4  \n",
            "  inflating: /content/manipulated_sequences/FaceSwap/c23/videos/076_079.mp4  \n",
            "  inflating: /content/manipulated_sequences/FaceSwap/c23/videos/077_100.mp4  \n",
            "  inflating: /content/manipulated_sequences/FaceSwap/c23/videos/078_955.mp4  \n",
            "  inflating: /content/manipulated_sequences/FaceSwap/c23/videos/079_076.mp4  \n",
            "  inflating: /content/manipulated_sequences/FaceSwap/c23/videos/080_061.mp4  \n",
            "  inflating: /content/manipulated_sequences/FaceSwap/c23/videos/081_087.mp4  \n",
            "  inflating: /content/manipulated_sequences/FaceSwap/c23/videos/082_103.mp4  \n",
            "  inflating: /content/manipulated_sequences/FaceSwap/c23/videos/083_213.mp4  \n",
            "  inflating: /content/manipulated_sequences/FaceSwap/c23/videos/084_042.mp4  \n",
            "  inflating: /content/manipulated_sequences/FaceSwap/c23/videos/085_124.mp4  \n",
            "  inflating: /content/manipulated_sequences/FaceSwap/c23/videos/086_090.mp4  \n",
            "  inflating: /content/manipulated_sequences/FaceSwap/c23/videos/087_081.mp4  \n",
            "  inflating: /content/manipulated_sequences/FaceSwap/c23/videos/088_060.mp4  \n",
            "  inflating: /content/manipulated_sequences/FaceSwap/c23/videos/089_065.mp4  \n",
            "  inflating: /content/manipulated_sequences/FaceSwap/c23/videos/090_086.mp4  \n",
            "  inflating: /content/manipulated_sequences/FaceSwap/c23/videos/091_116.mp4  \n",
            "  inflating: /content/manipulated_sequences/FaceSwap/c23/videos/092_098.mp4  \n",
            "  inflating: /content/manipulated_sequences/FaceSwap/c23/videos/093_121.mp4  \n",
            "  inflating: /content/manipulated_sequences/FaceSwap/c23/videos/094_111.mp4  \n",
            "  inflating: /content/manipulated_sequences/FaceSwap/c23/videos/095_053.mp4  \n",
            "  inflating: /content/manipulated_sequences/FaceSwap/c23/videos/096_101.mp4  \n",
            "  inflating: /content/manipulated_sequences/FaceSwap/c23/videos/097_033.mp4  \n",
            "  inflating: /content/manipulated_sequences/FaceSwap/c23/videos/098_092.mp4  \n",
            "  inflating: /content/manipulated_sequences/FaceSwap/c23/videos/099_295.mp4  \n",
            "  inflating: /content/manipulated_sequences/FaceSwap/c23/videos/100_077.mp4  \n",
            "  inflating: /content/manipulated_sequences/FaceSwap/c23/videos/101_096.mp4  \n",
            "  inflating: /content/manipulated_sequences/FaceSwap/c23/videos/102_114.mp4  \n",
            "  inflating: /content/manipulated_sequences/FaceSwap/c23/videos/103_082.mp4  \n",
            "  inflating: /content/manipulated_sequences/FaceSwap/c23/videos/104_126.mp4  \n",
            "  inflating: /content/manipulated_sequences/FaceSwap/c23/videos/105_180.mp4  \n",
            "  inflating: /content/manipulated_sequences/FaceSwap/c23/videos/106_198.mp4  \n",
            "  inflating: /content/manipulated_sequences/FaceSwap/c23/videos/107_109.mp4  \n",
            "  inflating: /content/manipulated_sequences/FaceSwap/c23/videos/108_052.mp4  \n",
            "  inflating: /content/manipulated_sequences/FaceSwap/c23/videos/109_107.mp4  \n",
            "  inflating: /content/manipulated_sequences/FaceSwap/c23/videos/110_043.mp4  \n",
            "  inflating: /content/manipulated_sequences/FaceSwap/c23/videos/111_094.mp4  \n",
            "  inflating: /content/manipulated_sequences/FaceSwap/c23/videos/112_892.mp4  \n",
            "  inflating: /content/manipulated_sequences/FaceSwap/c23/videos/113_983.mp4  \n",
            "  inflating: /content/manipulated_sequences/FaceSwap/c23/videos/114_102.mp4  \n",
            "  inflating: /content/manipulated_sequences/FaceSwap/c23/videos/115_939.mp4  \n",
            "  inflating: /content/manipulated_sequences/FaceSwap/c23/videos/116_091.mp4  \n",
            "  inflating: /content/manipulated_sequences/FaceSwap/c23/videos/117_217.mp4  \n",
            "  inflating: /content/manipulated_sequences/FaceSwap/c23/videos/118_120.mp4  \n",
            "  inflating: /content/manipulated_sequences/FaceSwap/c23/videos/119_123.mp4  \n",
            "  inflating: /content/manipulated_sequences/FaceSwap/c23/videos/120_118.mp4  \n",
            "  inflating: /content/manipulated_sequences/FaceSwap/c23/videos/121_093.mp4  \n",
            "  inflating: /content/manipulated_sequences/FaceSwap/c23/videos/122_144.mp4  \n",
            "  inflating: /content/manipulated_sequences/FaceSwap/c23/videos/123_119.mp4  \n",
            "  inflating: /content/manipulated_sequences/FaceSwap/c23/videos/124_085.mp4  \n",
            "  inflating: /content/manipulated_sequences/FaceSwap/c23/videos/125_038.mp4  \n",
            "  inflating: /content/manipulated_sequences/FaceSwap/c23/videos/126_104.mp4  \n",
            "  inflating: /content/manipulated_sequences/FaceSwap/c23/videos/127_129.mp4  \n",
            "  inflating: /content/manipulated_sequences/FaceSwap/c23/videos/128_896.mp4  \n",
            "  inflating: /content/manipulated_sequences/FaceSwap/c23/videos/129_127.mp4  \n",
            "  inflating: /content/manipulated_sequences/FaceSwap/c23/videos/130_139.mp4  \n",
            "  inflating: /content/manipulated_sequences/FaceSwap/c23/videos/131_518.mp4  \n",
            "  inflating: /content/manipulated_sequences/FaceSwap/c23/videos/132_007.mp4  \n",
            "  inflating: /content/manipulated_sequences/FaceSwap/c23/videos/133_148.mp4  \n",
            "  inflating: /content/manipulated_sequences/FaceSwap/c23/videos/134_192.mp4  \n",
            "  inflating: /content/manipulated_sequences/FaceSwap/c23/videos/135_880.mp4  \n",
            "  inflating: /content/manipulated_sequences/FaceSwap/c23/videos/136_285.mp4  \n",
            "  inflating: /content/manipulated_sequences/FaceSwap/c23/videos/137_165.mp4  \n",
            "  inflating: /content/manipulated_sequences/FaceSwap/c23/videos/138_142.mp4  \n",
            "  inflating: /content/manipulated_sequences/FaceSwap/c23/videos/139_130.mp4  \n",
            "  inflating: /content/manipulated_sequences/FaceSwap/c23/videos/140_143.mp4  \n",
            "  inflating: /content/manipulated_sequences/FaceSwap/c23/videos/141_161.mp4  \n",
            "  inflating: /content/manipulated_sequences/FaceSwap/c23/videos/142_138.mp4  \n",
            "  inflating: /content/manipulated_sequences/FaceSwap/c23/videos/143_140.mp4  \n",
            "  inflating: /content/manipulated_sequences/FaceSwap/c23/videos/144_122.mp4  \n",
            "  inflating: /content/manipulated_sequences/FaceSwap/c23/videos/145_299.mp4  \n",
            "  inflating: /content/manipulated_sequences/FaceSwap/c23/videos/146_256.mp4  \n",
            "  inflating: /content/manipulated_sequences/FaceSwap/c23/videos/147_055.mp4  \n",
            "  inflating: /content/manipulated_sequences/FaceSwap/c23/videos/148_133.mp4  \n",
            "  inflating: /content/manipulated_sequences/FaceSwap/c23/videos/149_152.mp4  \n",
            "  inflating: /content/manipulated_sequences/FaceSwap/c23/videos/150_153.mp4  \n",
            "  inflating: /content/manipulated_sequences/FaceSwap/c23/videos/151_225.mp4  \n",
            "  inflating: /content/manipulated_sequences/FaceSwap/c23/videos/152_149.mp4  \n",
            "  inflating: /content/manipulated_sequences/FaceSwap/c23/videos/153_150.mp4  \n",
            "  inflating: /content/manipulated_sequences/FaceSwap/c23/videos/154_386.mp4  \n",
            "  inflating: /content/manipulated_sequences/FaceSwap/c23/videos/155_576.mp4  \n",
            "  inflating: /content/manipulated_sequences/FaceSwap/c23/videos/156_243.mp4  \n",
            "  inflating: /content/manipulated_sequences/FaceSwap/c23/videos/157_245.mp4  \n",
            "  inflating: /content/manipulated_sequences/FaceSwap/c23/videos/158_379.mp4  \n",
            "  inflating: /content/manipulated_sequences/FaceSwap/c23/videos/159_175.mp4  \n",
            "  inflating: /content/manipulated_sequences/FaceSwap/c23/videos/160_928.mp4  \n",
            "  inflating: /content/manipulated_sequences/FaceSwap/c23/videos/161_141.mp4  \n",
            "  inflating: /content/manipulated_sequences/FaceSwap/c23/videos/162_330.mp4  \n",
            "  inflating: /content/manipulated_sequences/FaceSwap/c23/videos/163_031.mp4  \n",
            "  inflating: /content/manipulated_sequences/FaceSwap/c23/videos/164_216.mp4  \n",
            "  inflating: /content/manipulated_sequences/FaceSwap/c23/videos/165_137.mp4  \n",
            "  inflating: /content/manipulated_sequences/FaceSwap/c23/videos/166_167.mp4  \n",
            "  inflating: /content/manipulated_sequences/FaceSwap/c23/videos/167_166.mp4  \n",
            "  inflating: /content/manipulated_sequences/FaceSwap/c23/videos/168_222.mp4  \n",
            "  inflating: /content/manipulated_sequences/FaceSwap/c23/videos/169_227.mp4  \n",
            "  inflating: /content/manipulated_sequences/FaceSwap/c23/videos/170_186.mp4  \n",
            "  inflating: /content/manipulated_sequences/FaceSwap/c23/videos/171_173.mp4  \n",
            "  inflating: /content/manipulated_sequences/FaceSwap/c23/videos/172_582.mp4  \n",
            "  inflating: /content/manipulated_sequences/FaceSwap/c23/videos/173_171.mp4  \n",
            "  inflating: /content/manipulated_sequences/FaceSwap/c23/videos/174_964.mp4  \n",
            "  inflating: /content/manipulated_sequences/FaceSwap/c23/videos/175_159.mp4  \n",
            "  inflating: /content/manipulated_sequences/FaceSwap/c23/videos/176_190.mp4  \n",
            "  inflating: /content/manipulated_sequences/FaceSwap/c23/videos/177_211.mp4  \n",
            "  inflating: /content/manipulated_sequences/FaceSwap/c23/videos/178_598.mp4  \n",
            "  inflating: /content/manipulated_sequences/FaceSwap/c23/videos/179_212.mp4  \n",
            "  inflating: /content/manipulated_sequences/FaceSwap/c23/videos/180_105.mp4  \n",
            "  inflating: /content/manipulated_sequences/FaceSwap/c23/videos/181_199.mp4  \n",
            "  inflating: /content/manipulated_sequences/FaceSwap/c23/videos/182_242.mp4  \n",
            "  inflating: /content/manipulated_sequences/FaceSwap/c23/videos/183_253.mp4  \n",
            "  inflating: /content/manipulated_sequences/FaceSwap/c23/videos/184_205.mp4  \n",
            "  inflating: /content/manipulated_sequences/FaceSwap/c23/videos/185_276.mp4  \n",
            "  inflating: /content/manipulated_sequences/FaceSwap/c23/videos/186_170.mp4  \n",
            "  inflating: /content/manipulated_sequences/FaceSwap/c23/videos/187_234.mp4  \n",
            "  inflating: /content/manipulated_sequences/FaceSwap/c23/videos/188_191.mp4  \n",
            "  inflating: /content/manipulated_sequences/FaceSwap/c23/videos/189_200.mp4  \n",
            "  inflating: /content/manipulated_sequences/FaceSwap/c23/videos/190_176.mp4  \n",
            "  inflating: /content/manipulated_sequences/FaceSwap/c23/videos/191_188.mp4  \n",
            "  inflating: /content/manipulated_sequences/FaceSwap/c23/videos/192_134.mp4  \n",
            "  inflating: /content/manipulated_sequences/FaceSwap/c23/videos/193_030.mp4  \n",
            "  inflating: /content/manipulated_sequences/FaceSwap/c23/videos/194_235.mp4  \n",
            "  inflating: /content/manipulated_sequences/FaceSwap/c23/videos/195_442.mp4  \n",
            "  inflating: /content/manipulated_sequences/FaceSwap/c23/videos/196_310.mp4  \n",
            "  inflating: /content/manipulated_sequences/FaceSwap/c23/videos/197_224.mp4  \n",
            "  inflating: /content/manipulated_sequences/FaceSwap/c23/videos/198_106.mp4  \n",
            "  inflating: /content/manipulated_sequences/FaceSwap/c23/videos/199_181.mp4  \n",
            "  inflating: /content/manipulated_sequences/FaceSwap/c23/videos/200_189.mp4  \n",
            "  inflating: /content/manipulated_sequences/FaceSwap/c23/videos/201_203.mp4  \n",
            "  inflating: /content/manipulated_sequences/FaceSwap/c23/videos/202_348.mp4  \n",
            "  inflating: /content/manipulated_sequences/FaceSwap/c23/videos/203_201.mp4  \n",
            "  inflating: /content/manipulated_sequences/FaceSwap/c23/videos/204_230.mp4  \n",
            "  inflating: /content/manipulated_sequences/FaceSwap/c23/videos/205_184.mp4  \n",
            "  inflating: /content/manipulated_sequences/FaceSwap/c23/videos/206_221.mp4  \n",
            "  inflating: /content/manipulated_sequences/FaceSwap/c23/videos/207_908.mp4  \n",
            "  inflating: /content/manipulated_sequences/FaceSwap/c23/videos/208_215.mp4  \n",
            "  inflating: /content/manipulated_sequences/FaceSwap/c23/videos/209_016.mp4  \n",
            "  inflating: /content/manipulated_sequences/FaceSwap/c23/videos/210_241.mp4  \n",
            "  inflating: /content/manipulated_sequences/FaceSwap/c23/videos/211_177.mp4  \n",
            "  inflating: /content/manipulated_sequences/FaceSwap/c23/videos/212_179.mp4  \n",
            "  inflating: /content/manipulated_sequences/FaceSwap/c23/videos/213_083.mp4  \n",
            "  inflating: /content/manipulated_sequences/FaceSwap/c23/videos/214_255.mp4  \n",
            "  inflating: /content/manipulated_sequences/FaceSwap/c23/videos/215_208.mp4  \n",
            "  inflating: /content/manipulated_sequences/FaceSwap/c23/videos/216_164.mp4  \n",
            "  inflating: /content/manipulated_sequences/FaceSwap/c23/videos/217_117.mp4  \n",
            "  inflating: /content/manipulated_sequences/FaceSwap/c23/videos/218_239.mp4  \n",
            "  inflating: /content/manipulated_sequences/FaceSwap/c23/videos/219_220.mp4  \n",
            "  inflating: /content/manipulated_sequences/FaceSwap/c23/videos/220_219.mp4  \n",
            "  inflating: /content/manipulated_sequences/FaceSwap/c23/videos/221_206.mp4  \n",
            "  inflating: /content/manipulated_sequences/FaceSwap/c23/videos/222_168.mp4  \n",
            "  inflating: /content/manipulated_sequences/FaceSwap/c23/videos/223_586.mp4  \n",
            "  inflating: /content/manipulated_sequences/FaceSwap/c23/videos/224_197.mp4  \n",
            "  inflating: /content/manipulated_sequences/FaceSwap/c23/videos/225_151.mp4  \n",
            "  inflating: /content/manipulated_sequences/FaceSwap/c23/videos/226_491.mp4  \n",
            "  inflating: /content/manipulated_sequences/FaceSwap/c23/videos/227_169.mp4  \n",
            "  inflating: /content/manipulated_sequences/FaceSwap/c23/videos/228_289.mp4  \n",
            "  inflating: /content/manipulated_sequences/FaceSwap/c23/videos/229_247.mp4  \n",
            "  inflating: /content/manipulated_sequences/FaceSwap/c23/videos/230_204.mp4  \n",
            "  inflating: /content/manipulated_sequences/FaceSwap/c23/videos/231_663.mp4  \n",
            "  inflating: /content/manipulated_sequences/FaceSwap/c23/videos/232_248.mp4  \n",
            "  inflating: /content/manipulated_sequences/FaceSwap/c23/videos/233_995.mp4  \n",
            "  inflating: /content/manipulated_sequences/FaceSwap/c23/videos/234_187.mp4  \n",
            "  inflating: /content/manipulated_sequences/FaceSwap/c23/videos/235_194.mp4  \n",
            "  inflating: /content/manipulated_sequences/FaceSwap/c23/videos/236_237.mp4  \n",
            "  inflating: /content/manipulated_sequences/FaceSwap/c23/videos/237_236.mp4  \n",
            "  inflating: /content/manipulated_sequences/FaceSwap/c23/videos/238_282.mp4  \n",
            "  inflating: /content/manipulated_sequences/FaceSwap/c23/videos/239_218.mp4  \n",
            "  inflating: /content/manipulated_sequences/FaceSwap/c23/videos/240_290.mp4  \n",
            "  inflating: /content/manipulated_sequences/FaceSwap/c23/videos/241_210.mp4  \n",
            "  inflating: /content/manipulated_sequences/FaceSwap/c23/videos/242_182.mp4  \n",
            "  inflating: /content/manipulated_sequences/FaceSwap/c23/videos/243_156.mp4  \n",
            "  inflating: /content/manipulated_sequences/FaceSwap/c23/videos/244_822.mp4  \n",
            "  inflating: /content/manipulated_sequences/FaceSwap/c23/videos/245_157.mp4  \n",
            "  inflating: /content/manipulated_sequences/FaceSwap/c23/videos/246_258.mp4  \n",
            "  inflating: /content/manipulated_sequences/FaceSwap/c23/videos/247_229.mp4  \n",
            "  inflating: /content/manipulated_sequences/FaceSwap/c23/videos/248_232.mp4  \n",
            "  inflating: /content/manipulated_sequences/FaceSwap/c23/videos/249_280.mp4  \n",
            "  inflating: /content/manipulated_sequences/FaceSwap/c23/videos/250_461.mp4  \n",
            "  inflating: /content/manipulated_sequences/FaceSwap/c23/videos/251_375.mp4  \n",
            "  inflating: /content/manipulated_sequences/FaceSwap/c23/videos/252_266.mp4  \n",
            "  inflating: /content/manipulated_sequences/FaceSwap/c23/videos/253_183.mp4  \n",
            "  inflating: /content/manipulated_sequences/FaceSwap/c23/videos/254_261.mp4  \n",
            "  inflating: /content/manipulated_sequences/FaceSwap/c23/videos/255_214.mp4  \n",
            "  inflating: /content/manipulated_sequences/FaceSwap/c23/videos/256_146.mp4  \n",
            "  inflating: /content/manipulated_sequences/FaceSwap/c23/videos/257_420.mp4  \n",
            "  inflating: /content/manipulated_sequences/FaceSwap/c23/videos/258_246.mp4  \n",
            "  inflating: /content/manipulated_sequences/FaceSwap/c23/videos/259_345.mp4  \n",
            "  inflating: /content/manipulated_sequences/FaceSwap/c23/videos/260_331.mp4  \n",
            "  inflating: /content/manipulated_sequences/FaceSwap/c23/videos/261_254.mp4  \n",
            "  inflating: /content/manipulated_sequences/FaceSwap/c23/videos/262_301.mp4  \n",
            "  inflating: /content/manipulated_sequences/FaceSwap/c23/videos/263_284.mp4  \n",
            "  inflating: /content/manipulated_sequences/FaceSwap/c23/videos/264_271.mp4  \n",
            "  inflating: /content/manipulated_sequences/FaceSwap/c23/videos/265_475.mp4  \n",
            "  inflating: /content/manipulated_sequences/FaceSwap/c23/videos/266_252.mp4  \n",
            "  inflating: /content/manipulated_sequences/FaceSwap/c23/videos/267_286.mp4  \n",
            "  inflating: /content/manipulated_sequences/FaceSwap/c23/videos/268_269.mp4  \n",
            "  inflating: /content/manipulated_sequences/FaceSwap/c23/videos/269_268.mp4  \n",
            "  inflating: /content/manipulated_sequences/FaceSwap/c23/videos/270_297.mp4  \n",
            "  inflating: /content/manipulated_sequences/FaceSwap/c23/videos/271_264.mp4  \n",
            "  inflating: /content/manipulated_sequences/FaceSwap/c23/videos/272_396.mp4  \n",
            "  inflating: /content/manipulated_sequences/FaceSwap/c23/videos/273_807.mp4  \n",
            "  inflating: /content/manipulated_sequences/FaceSwap/c23/videos/274_412.mp4  \n",
            "  inflating: /content/manipulated_sequences/FaceSwap/c23/videos/275_887.mp4  \n",
            "  inflating: /content/manipulated_sequences/FaceSwap/c23/videos/276_185.mp4  \n",
            "  inflating: /content/manipulated_sequences/FaceSwap/c23/videos/277_335.mp4  \n",
            "  inflating: /content/manipulated_sequences/FaceSwap/c23/videos/278_306.mp4  \n",
            "  inflating: /content/manipulated_sequences/FaceSwap/c23/videos/279_298.mp4  \n",
            "  inflating: /content/manipulated_sequences/FaceSwap/c23/videos/280_249.mp4  \n",
            "  inflating: /content/manipulated_sequences/FaceSwap/c23/videos/281_474.mp4  \n",
            "  inflating: /content/manipulated_sequences/FaceSwap/c23/videos/282_238.mp4  \n",
            "  inflating: /content/manipulated_sequences/FaceSwap/c23/videos/283_313.mp4  \n",
            "  inflating: /content/manipulated_sequences/FaceSwap/c23/videos/284_263.mp4  \n",
            "  inflating: /content/manipulated_sequences/FaceSwap/c23/videos/285_136.mp4  \n",
            "  inflating: /content/manipulated_sequences/FaceSwap/c23/videos/286_267.mp4  \n",
            "  inflating: /content/manipulated_sequences/FaceSwap/c23/videos/287_426.mp4  \n",
            "  inflating: /content/manipulated_sequences/FaceSwap/c23/videos/288_321.mp4  \n",
            "  inflating: /content/manipulated_sequences/FaceSwap/c23/videos/289_228.mp4  \n",
            "  inflating: /content/manipulated_sequences/FaceSwap/c23/videos/290_240.mp4  \n",
            "  inflating: /content/manipulated_sequences/FaceSwap/c23/videos/291_874.mp4  \n",
            "  inflating: /content/manipulated_sequences/FaceSwap/c23/videos/292_294.mp4  \n",
            "  inflating: /content/manipulated_sequences/FaceSwap/c23/videos/293_296.mp4  \n",
            "  inflating: /content/manipulated_sequences/FaceSwap/c23/videos/294_292.mp4  \n",
            "  inflating: /content/manipulated_sequences/FaceSwap/c23/videos/295_099.mp4  \n",
            "  inflating: /content/manipulated_sequences/FaceSwap/c23/videos/296_293.mp4  \n",
            "  inflating: /content/manipulated_sequences/FaceSwap/c23/videos/297_270.mp4  \n",
            "  inflating: /content/manipulated_sequences/FaceSwap/c23/videos/298_279.mp4  \n",
            "  inflating: /content/manipulated_sequences/FaceSwap/c23/videos/299_145.mp4  \n",
            "  inflating: /content/manipulated_sequences/FaceSwap/c23/videos/300_304.mp4  \n",
            "  inflating: /content/manipulated_sequences/FaceSwap/c23/videos/301_262.mp4  \n",
            "  inflating: /content/manipulated_sequences/FaceSwap/c23/videos/302_323.mp4  \n",
            "  inflating: /content/manipulated_sequences/FaceSwap/c23/videos/303_309.mp4  \n",
            "  inflating: /content/manipulated_sequences/FaceSwap/c23/videos/304_300.mp4  \n",
            "  inflating: /content/manipulated_sequences/FaceSwap/c23/videos/305_513.mp4  \n",
            "  inflating: /content/manipulated_sequences/FaceSwap/c23/videos/306_278.mp4  \n",
            "  inflating: /content/manipulated_sequences/FaceSwap/c23/videos/307_365.mp4  \n",
            "  inflating: /content/manipulated_sequences/FaceSwap/c23/videos/308_388.mp4  \n",
            "  inflating: /content/manipulated_sequences/FaceSwap/c23/videos/309_303.mp4  \n",
            "  inflating: /content/manipulated_sequences/FaceSwap/c23/videos/310_196.mp4  \n",
            "  inflating: /content/manipulated_sequences/FaceSwap/c23/videos/311_387.mp4  \n",
            "  inflating: /content/manipulated_sequences/FaceSwap/c23/videos/312_021.mp4  \n",
            "  inflating: /content/manipulated_sequences/FaceSwap/c23/videos/313_283.mp4  \n",
            "  inflating: /content/manipulated_sequences/FaceSwap/c23/videos/314_347.mp4  \n",
            "  inflating: /content/manipulated_sequences/FaceSwap/c23/videos/315_322.mp4  \n",
            "  inflating: /content/manipulated_sequences/FaceSwap/c23/videos/316_369.mp4  \n",
            "  inflating: /content/manipulated_sequences/FaceSwap/c23/videos/317_359.mp4  \n",
            "  inflating: /content/manipulated_sequences/FaceSwap/c23/videos/318_334.mp4  \n",
            "  inflating: /content/manipulated_sequences/FaceSwap/c23/videos/319_352.mp4  \n",
            "  inflating: /content/manipulated_sequences/FaceSwap/c23/videos/320_328.mp4  \n",
            "  inflating: /content/manipulated_sequences/FaceSwap/c23/videos/321_288.mp4  \n",
            "  inflating: /content/manipulated_sequences/FaceSwap/c23/videos/322_315.mp4  \n",
            "  inflating: /content/manipulated_sequences/FaceSwap/c23/videos/323_302.mp4  \n",
            "  inflating: /content/manipulated_sequences/FaceSwap/c23/videos/324_356.mp4  \n",
            "  inflating: /content/manipulated_sequences/FaceSwap/c23/videos/325_492.mp4  \n",
            "  inflating: /content/manipulated_sequences/FaceSwap/c23/videos/326_501.mp4  \n",
            "  inflating: /content/manipulated_sequences/FaceSwap/c23/videos/327_329.mp4  \n",
            "  inflating: /content/manipulated_sequences/FaceSwap/c23/videos/328_320.mp4  \n",
            "  inflating: /content/manipulated_sequences/FaceSwap/c23/videos/329_327.mp4  \n",
            "  inflating: /content/manipulated_sequences/FaceSwap/c23/videos/330_162.mp4  \n",
            "  inflating: /content/manipulated_sequences/FaceSwap/c23/videos/331_260.mp4  \n",
            "  inflating: /content/manipulated_sequences/FaceSwap/c23/videos/332_051.mp4  \n",
            "  inflating: /content/manipulated_sequences/FaceSwap/c23/videos/333_377.mp4  \n",
            "  inflating: /content/manipulated_sequences/FaceSwap/c23/videos/334_318.mp4  \n",
            "  inflating: /content/manipulated_sequences/FaceSwap/c23/videos/335_277.mp4  \n",
            "  inflating: /content/manipulated_sequences/FaceSwap/c23/videos/336_338.mp4  \n",
            "  inflating: /content/manipulated_sequences/FaceSwap/c23/videos/337_522.mp4  \n",
            "  inflating: /content/manipulated_sequences/FaceSwap/c23/videos/338_336.mp4  \n",
            "  inflating: /content/manipulated_sequences/FaceSwap/c23/videos/339_392.mp4  \n",
            "  inflating: /content/manipulated_sequences/FaceSwap/c23/videos/340_341.mp4  \n",
            "  inflating: /content/manipulated_sequences/FaceSwap/c23/videos/341_340.mp4  \n",
            "  inflating: /content/manipulated_sequences/FaceSwap/c23/videos/342_416.mp4  \n",
            "  inflating: /content/manipulated_sequences/FaceSwap/c23/videos/343_363.mp4  \n",
            "  inflating: /content/manipulated_sequences/FaceSwap/c23/videos/344_020.mp4  \n",
            "  inflating: /content/manipulated_sequences/FaceSwap/c23/videos/345_259.mp4  \n",
            "  inflating: /content/manipulated_sequences/FaceSwap/c23/videos/346_351.mp4  \n",
            "  inflating: /content/manipulated_sequences/FaceSwap/c23/videos/347_314.mp4  \n",
            "  inflating: /content/manipulated_sequences/FaceSwap/c23/videos/348_202.mp4  \n",
            "  inflating: /content/manipulated_sequences/FaceSwap/c23/videos/349_350.mp4  \n",
            "  inflating: /content/manipulated_sequences/FaceSwap/c23/videos/350_349.mp4  \n",
            "  inflating: /content/manipulated_sequences/FaceSwap/c23/videos/351_346.mp4  \n",
            "  inflating: /content/manipulated_sequences/FaceSwap/c23/videos/352_319.mp4  \n",
            "  inflating: /content/manipulated_sequences/FaceSwap/c23/videos/353_383.mp4  \n",
            "  inflating: /content/manipulated_sequences/FaceSwap/c23/videos/354_362.mp4  \n",
            "  inflating: /content/manipulated_sequences/FaceSwap/c23/videos/355_748.mp4  \n",
            "  inflating: /content/manipulated_sequences/FaceSwap/c23/videos/356_324.mp4  \n",
            "  inflating: /content/manipulated_sequences/FaceSwap/c23/videos/357_432.mp4  \n",
            "  inflating: /content/manipulated_sequences/FaceSwap/c23/videos/358_380.mp4  \n",
            "  inflating: /content/manipulated_sequences/FaceSwap/c23/videos/359_317.mp4  \n",
            "  inflating: /content/manipulated_sequences/FaceSwap/c23/videos/360_437.mp4  \n",
            "  inflating: /content/manipulated_sequences/FaceSwap/c23/videos/361_448.mp4  \n",
            "  inflating: /content/manipulated_sequences/FaceSwap/c23/videos/362_354.mp4  \n",
            "  inflating: /content/manipulated_sequences/FaceSwap/c23/videos/363_343.mp4  \n",
            "  inflating: /content/manipulated_sequences/FaceSwap/c23/videos/364_440.mp4  \n",
            "  inflating: /content/manipulated_sequences/FaceSwap/c23/videos/365_307.mp4  \n",
            "  inflating: /content/manipulated_sequences/FaceSwap/c23/videos/366_473.mp4  \n",
            "  inflating: /content/manipulated_sequences/FaceSwap/c23/videos/367_371.mp4  \n",
            "  inflating: /content/manipulated_sequences/FaceSwap/c23/videos/368_378.mp4  \n",
            "  inflating: /content/manipulated_sequences/FaceSwap/c23/videos/369_316.mp4  \n",
            "  inflating: /content/manipulated_sequences/FaceSwap/c23/videos/370_483.mp4  \n",
            "  inflating: /content/manipulated_sequences/FaceSwap/c23/videos/371_367.mp4  \n",
            "  inflating: /content/manipulated_sequences/FaceSwap/c23/videos/372_413.mp4  \n",
            "  inflating: /content/manipulated_sequences/FaceSwap/c23/videos/373_394.mp4  \n",
            "  inflating: /content/manipulated_sequences/FaceSwap/c23/videos/374_407.mp4  \n",
            "  inflating: /content/manipulated_sequences/FaceSwap/c23/videos/375_251.mp4  \n",
            "  inflating: /content/manipulated_sequences/FaceSwap/c23/videos/376_381.mp4  \n",
            "  inflating: /content/manipulated_sequences/FaceSwap/c23/videos/377_333.mp4  \n",
            "  inflating: /content/manipulated_sequences/FaceSwap/c23/videos/378_368.mp4  \n",
            "  inflating: /content/manipulated_sequences/FaceSwap/c23/videos/379_158.mp4  \n",
            "  inflating: /content/manipulated_sequences/FaceSwap/c23/videos/380_358.mp4  \n",
            "  inflating: /content/manipulated_sequences/FaceSwap/c23/videos/381_376.mp4  \n",
            "  inflating: /content/manipulated_sequences/FaceSwap/c23/videos/382_409.mp4  \n",
            "  inflating: /content/manipulated_sequences/FaceSwap/c23/videos/383_353.mp4  \n",
            "  inflating: /content/manipulated_sequences/FaceSwap/c23/videos/384_932.mp4  \n",
            "  inflating: /content/manipulated_sequences/FaceSwap/c23/videos/385_414.mp4  \n",
            "  inflating: /content/manipulated_sequences/FaceSwap/c23/videos/386_154.mp4  \n",
            "  inflating: /content/manipulated_sequences/FaceSwap/c23/videos/387_311.mp4  \n",
            "  inflating: /content/manipulated_sequences/FaceSwap/c23/videos/388_308.mp4  \n",
            "  inflating: /content/manipulated_sequences/FaceSwap/c23/videos/389_480.mp4  \n",
            "  inflating: /content/manipulated_sequences/FaceSwap/c23/videos/390_709.mp4  \n",
            "  inflating: /content/manipulated_sequences/FaceSwap/c23/videos/391_406.mp4  \n",
            "  inflating: /content/manipulated_sequences/FaceSwap/c23/videos/392_339.mp4  \n",
            "  inflating: /content/manipulated_sequences/FaceSwap/c23/videos/393_405.mp4  \n",
            "  inflating: /content/manipulated_sequences/FaceSwap/c23/videos/394_373.mp4  \n",
            "  inflating: /content/manipulated_sequences/FaceSwap/c23/videos/395_401.mp4  \n",
            "  inflating: /content/manipulated_sequences/FaceSwap/c23/videos/396_272.mp4  \n",
            "  inflating: /content/manipulated_sequences/FaceSwap/c23/videos/397_602.mp4  \n",
            "  inflating: /content/manipulated_sequences/FaceSwap/c23/videos/398_457.mp4  \n",
            "  inflating: /content/manipulated_sequences/FaceSwap/c23/videos/399_488.mp4  \n",
            "  inflating: /content/manipulated_sequences/FaceSwap/c23/videos/400_476.mp4  \n",
            "  inflating: /content/manipulated_sequences/FaceSwap/c23/videos/401_395.mp4  \n",
            "  inflating: /content/manipulated_sequences/FaceSwap/c23/videos/402_453.mp4  \n",
            "  inflating: /content/manipulated_sequences/FaceSwap/c23/videos/403_497.mp4  \n",
            "  inflating: /content/manipulated_sequences/FaceSwap/c23/videos/404_429.mp4  \n",
            "  inflating: /content/manipulated_sequences/FaceSwap/c23/videos/405_393.mp4  \n",
            "  inflating: /content/manipulated_sequences/FaceSwap/c23/videos/406_391.mp4  \n",
            "  inflating: /content/manipulated_sequences/FaceSwap/c23/videos/407_374.mp4  \n",
            "  inflating: /content/manipulated_sequences/FaceSwap/c23/videos/408_424.mp4  \n",
            "  inflating: /content/manipulated_sequences/FaceSwap/c23/videos/409_382.mp4  \n",
            "  inflating: /content/manipulated_sequences/FaceSwap/c23/videos/410_411.mp4  \n",
            "  inflating: /content/manipulated_sequences/FaceSwap/c23/videos/411_410.mp4  \n",
            "  inflating: /content/manipulated_sequences/FaceSwap/c23/videos/412_274.mp4  \n",
            "  inflating: /content/manipulated_sequences/FaceSwap/c23/videos/413_372.mp4  \n",
            "  inflating: /content/manipulated_sequences/FaceSwap/c23/videos/414_385.mp4  \n",
            "  inflating: /content/manipulated_sequences/FaceSwap/c23/videos/415_484.mp4  \n",
            "  inflating: /content/manipulated_sequences/FaceSwap/c23/videos/416_342.mp4  \n",
            "  inflating: /content/manipulated_sequences/FaceSwap/c23/videos/417_496.mp4  \n",
            "  inflating: /content/manipulated_sequences/FaceSwap/c23/videos/418_507.mp4  \n",
            "  inflating: /content/manipulated_sequences/FaceSwap/c23/videos/419_824.mp4  \n",
            "  inflating: /content/manipulated_sequences/FaceSwap/c23/videos/420_257.mp4  \n",
            "  inflating: /content/manipulated_sequences/FaceSwap/c23/videos/421_423.mp4  \n",
            "  inflating: /content/manipulated_sequences/FaceSwap/c23/videos/422_695.mp4  \n",
            "  inflating: /content/manipulated_sequences/FaceSwap/c23/videos/423_421.mp4  \n",
            "  inflating: /content/manipulated_sequences/FaceSwap/c23/videos/424_408.mp4  \n",
            "  inflating: /content/manipulated_sequences/FaceSwap/c23/videos/425_485.mp4  \n",
            "  inflating: /content/manipulated_sequences/FaceSwap/c23/videos/426_287.mp4  \n",
            "  inflating: /content/manipulated_sequences/FaceSwap/c23/videos/427_637.mp4  \n",
            "  inflating: /content/manipulated_sequences/FaceSwap/c23/videos/428_466.mp4  \n",
            "  inflating: /content/manipulated_sequences/FaceSwap/c23/videos/429_404.mp4  \n",
            "  inflating: /content/manipulated_sequences/FaceSwap/c23/videos/430_459.mp4  \n",
            "  inflating: /content/manipulated_sequences/FaceSwap/c23/videos/431_447.mp4  \n",
            "  inflating: /content/manipulated_sequences/FaceSwap/c23/videos/432_357.mp4  \n",
            "  inflating: /content/manipulated_sequences/FaceSwap/c23/videos/433_498.mp4  \n",
            "  inflating: /content/manipulated_sequences/FaceSwap/c23/videos/434_438.mp4  \n",
            "  inflating: /content/manipulated_sequences/FaceSwap/c23/videos/435_456.mp4  \n",
            "  inflating: /content/manipulated_sequences/FaceSwap/c23/videos/436_526.mp4  \n",
            "  inflating: /content/manipulated_sequences/FaceSwap/c23/videos/437_360.mp4  \n",
            "  inflating: /content/manipulated_sequences/FaceSwap/c23/videos/438_434.mp4  \n",
            "  inflating: /content/manipulated_sequences/FaceSwap/c23/videos/439_441.mp4  \n",
            "  inflating: /content/manipulated_sequences/FaceSwap/c23/videos/440_364.mp4  \n",
            "  inflating: /content/manipulated_sequences/FaceSwap/c23/videos/441_439.mp4  \n",
            "  inflating: /content/manipulated_sequences/FaceSwap/c23/videos/442_195.mp4  \n",
            "  inflating: /content/manipulated_sequences/FaceSwap/c23/videos/443_514.mp4  \n",
            "  inflating: /content/manipulated_sequences/FaceSwap/c23/videos/444_655.mp4  \n",
            "  inflating: /content/manipulated_sequences/FaceSwap/c23/videos/445_494.mp4  \n",
            "  inflating: /content/manipulated_sequences/FaceSwap/c23/videos/446_667.mp4  \n",
            "  inflating: /content/manipulated_sequences/FaceSwap/c23/videos/447_431.mp4  \n",
            "  inflating: /content/manipulated_sequences/FaceSwap/c23/videos/448_361.mp4  \n",
            "  inflating: /content/manipulated_sequences/FaceSwap/c23/videos/449_451.mp4  \n",
            "  inflating: /content/manipulated_sequences/FaceSwap/c23/videos/450_533.mp4  \n",
            "  inflating: /content/manipulated_sequences/FaceSwap/c23/videos/451_449.mp4  \n",
            "  inflating: /content/manipulated_sequences/FaceSwap/c23/videos/452_550.mp4  \n",
            "  inflating: /content/manipulated_sequences/FaceSwap/c23/videos/453_402.mp4  \n",
            "  inflating: /content/manipulated_sequences/FaceSwap/c23/videos/454_527.mp4  \n",
            "  inflating: /content/manipulated_sequences/FaceSwap/c23/videos/455_471.mp4  \n",
            "  inflating: /content/manipulated_sequences/FaceSwap/c23/videos/456_435.mp4  \n",
            "  inflating: /content/manipulated_sequences/FaceSwap/c23/videos/457_398.mp4  \n",
            "  inflating: /content/manipulated_sequences/FaceSwap/c23/videos/458_722.mp4  \n",
            "  inflating: /content/manipulated_sequences/FaceSwap/c23/videos/459_430.mp4  \n",
            "  inflating: /content/manipulated_sequences/FaceSwap/c23/videos/460_678.mp4  \n",
            "  inflating: /content/manipulated_sequences/FaceSwap/c23/videos/461_250.mp4  \n",
            "  inflating: /content/manipulated_sequences/FaceSwap/c23/videos/462_467.mp4  \n",
            "  inflating: /content/manipulated_sequences/FaceSwap/c23/videos/463_464.mp4  \n",
            "  inflating: /content/manipulated_sequences/FaceSwap/c23/videos/464_463.mp4  \n",
            "  inflating: /content/manipulated_sequences/FaceSwap/c23/videos/465_482.mp4  \n",
            "  inflating: /content/manipulated_sequences/FaceSwap/c23/videos/466_428.mp4  \n",
            "  inflating: /content/manipulated_sequences/FaceSwap/c23/videos/467_462.mp4  \n",
            "  inflating: /content/manipulated_sequences/FaceSwap/c23/videos/468_470.mp4  \n",
            "  inflating: /content/manipulated_sequences/FaceSwap/c23/videos/469_481.mp4  \n",
            "  inflating: /content/manipulated_sequences/FaceSwap/c23/videos/470_468.mp4  \n",
            "  inflating: /content/manipulated_sequences/FaceSwap/c23/videos/471_455.mp4  \n",
            "  inflating: /content/manipulated_sequences/FaceSwap/c23/videos/472_511.mp4  \n",
            "  inflating: /content/manipulated_sequences/FaceSwap/c23/videos/473_366.mp4  \n",
            "  inflating: /content/manipulated_sequences/FaceSwap/c23/videos/474_281.mp4  \n",
            "  inflating: /content/manipulated_sequences/FaceSwap/c23/videos/475_265.mp4  \n",
            "  inflating: /content/manipulated_sequences/FaceSwap/c23/videos/476_400.mp4  \n",
            "  inflating: /content/manipulated_sequences/FaceSwap/c23/videos/477_487.mp4  \n",
            "  inflating: /content/manipulated_sequences/FaceSwap/c23/videos/478_506.mp4  \n",
            "  inflating: /content/manipulated_sequences/FaceSwap/c23/videos/479_706.mp4  \n",
            "  inflating: /content/manipulated_sequences/FaceSwap/c23/videos/480_389.mp4  \n",
            "  inflating: /content/manipulated_sequences/FaceSwap/c23/videos/481_469.mp4  \n",
            "  inflating: /content/manipulated_sequences/FaceSwap/c23/videos/482_465.mp4  \n",
            "  inflating: /content/manipulated_sequences/FaceSwap/c23/videos/483_370.mp4  \n",
            "  inflating: /content/manipulated_sequences/FaceSwap/c23/videos/484_415.mp4  \n",
            "  inflating: /content/manipulated_sequences/FaceSwap/c23/videos/485_425.mp4  \n",
            "  inflating: /content/manipulated_sequences/FaceSwap/c23/videos/486_680.mp4  \n",
            "  inflating: /content/manipulated_sequences/FaceSwap/c23/videos/487_477.mp4  \n",
            "  inflating: /content/manipulated_sequences/FaceSwap/c23/videos/488_399.mp4  \n",
            "  inflating: /content/manipulated_sequences/FaceSwap/c23/videos/489_022.mp4  \n",
            "  inflating: /content/manipulated_sequences/FaceSwap/c23/videos/490_534.mp4  \n",
            "  inflating: /content/manipulated_sequences/FaceSwap/c23/videos/491_226.mp4  \n",
            "  inflating: /content/manipulated_sequences/FaceSwap/c23/videos/492_325.mp4  \n",
            "  inflating: /content/manipulated_sequences/FaceSwap/c23/videos/493_538.mp4  \n",
            "  inflating: /content/manipulated_sequences/FaceSwap/c23/videos/494_445.mp4  \n",
            "  inflating: /content/manipulated_sequences/FaceSwap/c23/videos/495_512.mp4  \n",
            "  inflating: /content/manipulated_sequences/FaceSwap/c23/videos/496_417.mp4  \n",
            "  inflating: /content/manipulated_sequences/FaceSwap/c23/videos/497_403.mp4  \n",
            "  inflating: /content/manipulated_sequences/FaceSwap/c23/videos/498_433.mp4  \n",
            "  inflating: /content/manipulated_sequences/FaceSwap/c23/videos/499_539.mp4  \n",
            "  inflating: /content/manipulated_sequences/FaceSwap/c23/videos/500_592.mp4  \n",
            "  inflating: /content/manipulated_sequences/FaceSwap/c23/videos/501_326.mp4  \n",
            "  inflating: /content/manipulated_sequences/FaceSwap/c23/videos/502_504.mp4  \n",
            "  inflating: /content/manipulated_sequences/FaceSwap/c23/videos/503_756.mp4  \n",
            "  inflating: /content/manipulated_sequences/FaceSwap/c23/videos/504_502.mp4  \n",
            "  inflating: /content/manipulated_sequences/FaceSwap/c23/videos/505_600.mp4  \n",
            "  inflating: /content/manipulated_sequences/FaceSwap/c23/videos/506_478.mp4  \n",
            "  inflating: /content/manipulated_sequences/FaceSwap/c23/videos/507_418.mp4  \n",
            "  inflating: /content/manipulated_sequences/FaceSwap/c23/videos/508_831.mp4  \n",
            "  inflating: /content/manipulated_sequences/FaceSwap/c23/videos/509_525.mp4  \n",
            "  inflating: /content/manipulated_sequences/FaceSwap/c23/videos/510_528.mp4  \n",
            "  inflating: /content/manipulated_sequences/FaceSwap/c23/videos/511_472.mp4  \n",
            "  inflating: /content/manipulated_sequences/FaceSwap/c23/videos/512_495.mp4  \n",
            "  inflating: /content/manipulated_sequences/FaceSwap/c23/videos/513_305.mp4  \n",
            "  inflating: /content/manipulated_sequences/FaceSwap/c23/videos/514_443.mp4  \n",
            "  inflating: /content/manipulated_sequences/FaceSwap/c23/videos/515_519.mp4  \n",
            "  inflating: /content/manipulated_sequences/FaceSwap/c23/videos/516_555.mp4  \n",
            "  inflating: /content/manipulated_sequences/FaceSwap/c23/videos/517_521.mp4  \n",
            "  inflating: /content/manipulated_sequences/FaceSwap/c23/videos/518_131.mp4  \n",
            "  inflating: /content/manipulated_sequences/FaceSwap/c23/videos/519_515.mp4  \n",
            "  inflating: /content/manipulated_sequences/FaceSwap/c23/videos/520_542.mp4  \n",
            "  inflating: /content/manipulated_sequences/FaceSwap/c23/videos/521_517.mp4  \n",
            "  inflating: /content/manipulated_sequences/FaceSwap/c23/videos/522_337.mp4  \n",
            "  inflating: /content/manipulated_sequences/FaceSwap/c23/videos/523_541.mp4  \n",
            "  inflating: /content/manipulated_sequences/FaceSwap/c23/videos/524_580.mp4  \n",
            "  inflating: /content/manipulated_sequences/FaceSwap/c23/videos/525_509.mp4  \n",
            "  inflating: /content/manipulated_sequences/FaceSwap/c23/videos/526_436.mp4  \n",
            "  inflating: /content/manipulated_sequences/FaceSwap/c23/videos/527_454.mp4  \n",
            "  inflating: /content/manipulated_sequences/FaceSwap/c23/videos/528_510.mp4  \n",
            "  inflating: /content/manipulated_sequences/FaceSwap/c23/videos/529_633.mp4  \n",
            "  inflating: /content/manipulated_sequences/FaceSwap/c23/videos/530_594.mp4  \n",
            "  inflating: /content/manipulated_sequences/FaceSwap/c23/videos/531_549.mp4  \n",
            "  inflating: /content/manipulated_sequences/FaceSwap/c23/videos/532_544.mp4  \n",
            "  inflating: /content/manipulated_sequences/FaceSwap/c23/videos/533_450.mp4  \n",
            "  inflating: /content/manipulated_sequences/FaceSwap/c23/videos/534_490.mp4  \n",
            "  inflating: /content/manipulated_sequences/FaceSwap/c23/videos/535_587.mp4  \n",
            "  inflating: /content/manipulated_sequences/FaceSwap/c23/videos/536_540.mp4  \n",
            "  inflating: /content/manipulated_sequences/FaceSwap/c23/videos/537_563.mp4  \n",
            "  inflating: /content/manipulated_sequences/FaceSwap/c23/videos/538_493.mp4  \n",
            "  inflating: /content/manipulated_sequences/FaceSwap/c23/videos/539_499.mp4  \n",
            "  inflating: /content/manipulated_sequences/FaceSwap/c23/videos/540_536.mp4  \n",
            "  inflating: /content/manipulated_sequences/FaceSwap/c23/videos/541_523.mp4  \n",
            "  inflating: /content/manipulated_sequences/FaceSwap/c23/videos/542_520.mp4  \n",
            "  inflating: /content/manipulated_sequences/FaceSwap/c23/videos/543_559.mp4  \n",
            "  inflating: /content/manipulated_sequences/FaceSwap/c23/videos/544_532.mp4  \n",
            "  inflating: /content/manipulated_sequences/FaceSwap/c23/videos/545_553.mp4  \n",
            "  inflating: /content/manipulated_sequences/FaceSwap/c23/videos/546_621.mp4  \n",
            "  inflating: /content/manipulated_sequences/FaceSwap/c23/videos/547_574.mp4  \n",
            "  inflating: /content/manipulated_sequences/FaceSwap/c23/videos/548_632.mp4  \n",
            "  inflating: /content/manipulated_sequences/FaceSwap/c23/videos/549_531.mp4  \n",
            "  inflating: /content/manipulated_sequences/FaceSwap/c23/videos/550_452.mp4  \n",
            "  inflating: /content/manipulated_sequences/FaceSwap/c23/videos/551_631.mp4  \n",
            "  inflating: /content/manipulated_sequences/FaceSwap/c23/videos/552_851.mp4  \n",
            "  inflating: /content/manipulated_sequences/FaceSwap/c23/videos/553_545.mp4  \n",
            "  inflating: /content/manipulated_sequences/FaceSwap/c23/videos/554_572.mp4  \n",
            "  inflating: /content/manipulated_sequences/FaceSwap/c23/videos/555_516.mp4  \n",
            "  inflating: /content/manipulated_sequences/FaceSwap/c23/videos/556_588.mp4  \n",
            "  inflating: /content/manipulated_sequences/FaceSwap/c23/videos/557_560.mp4  \n",
            "  inflating: /content/manipulated_sequences/FaceSwap/c23/videos/558_583.mp4  \n",
            "  inflating: /content/manipulated_sequences/FaceSwap/c23/videos/559_543.mp4  \n",
            "  inflating: /content/manipulated_sequences/FaceSwap/c23/videos/560_557.mp4  \n",
            "  inflating: /content/manipulated_sequences/FaceSwap/c23/videos/561_998.mp4  \n",
            "  inflating: /content/manipulated_sequences/FaceSwap/c23/videos/562_626.mp4  \n",
            "  inflating: /content/manipulated_sequences/FaceSwap/c23/videos/563_537.mp4  \n",
            "  inflating: /content/manipulated_sequences/FaceSwap/c23/videos/564_971.mp4  \n",
            "  inflating: /content/manipulated_sequences/FaceSwap/c23/videos/565_589.mp4  \n",
            "  inflating: /content/manipulated_sequences/FaceSwap/c23/videos/566_617.mp4  \n",
            "  inflating: /content/manipulated_sequences/FaceSwap/c23/videos/567_606.mp4  \n",
            "  inflating: /content/manipulated_sequences/FaceSwap/c23/videos/568_628.mp4  \n",
            "  inflating: /content/manipulated_sequences/FaceSwap/c23/videos/569_921.mp4  \n",
            "  inflating: /content/manipulated_sequences/FaceSwap/c23/videos/570_624.mp4  \n",
            "  inflating: /content/manipulated_sequences/FaceSwap/c23/videos/571_746.mp4  \n",
            "  inflating: /content/manipulated_sequences/FaceSwap/c23/videos/572_554.mp4  \n",
            "  inflating: /content/manipulated_sequences/FaceSwap/c23/videos/573_757.mp4  \n",
            "  inflating: /content/manipulated_sequences/FaceSwap/c23/videos/574_547.mp4  \n",
            "  inflating: /content/manipulated_sequences/FaceSwap/c23/videos/575_603.mp4  \n",
            "  inflating: /content/manipulated_sequences/FaceSwap/c23/videos/576_155.mp4  \n",
            "  inflating: /content/manipulated_sequences/FaceSwap/c23/videos/577_593.mp4  \n",
            "  inflating: /content/manipulated_sequences/FaceSwap/c23/videos/578_636.mp4  \n",
            "  inflating: /content/manipulated_sequences/FaceSwap/c23/videos/579_701.mp4  \n",
            "  inflating: /content/manipulated_sequences/FaceSwap/c23/videos/580_524.mp4  \n",
            "  inflating: /content/manipulated_sequences/FaceSwap/c23/videos/581_697.mp4  \n",
            "  inflating: /content/manipulated_sequences/FaceSwap/c23/videos/582_172.mp4  \n",
            "  inflating: /content/manipulated_sequences/FaceSwap/c23/videos/583_558.mp4  \n",
            "  inflating: /content/manipulated_sequences/FaceSwap/c23/videos/584_823.mp4  \n",
            "  inflating: /content/manipulated_sequences/FaceSwap/c23/videos/585_599.mp4  \n",
            "  inflating: /content/manipulated_sequences/FaceSwap/c23/videos/586_223.mp4  \n",
            "  inflating: /content/manipulated_sequences/FaceSwap/c23/videos/587_535.mp4  \n",
            "  inflating: /content/manipulated_sequences/FaceSwap/c23/videos/588_556.mp4  \n",
            "  inflating: /content/manipulated_sequences/FaceSwap/c23/videos/589_565.mp4  \n",
            "  inflating: /content/manipulated_sequences/FaceSwap/c23/videos/590_034.mp4  \n",
            "  inflating: /content/manipulated_sequences/FaceSwap/c23/videos/591_605.mp4  \n",
            "  inflating: /content/manipulated_sequences/FaceSwap/c23/videos/592_500.mp4  \n",
            "  inflating: /content/manipulated_sequences/FaceSwap/c23/videos/593_577.mp4  \n",
            "  inflating: /content/manipulated_sequences/FaceSwap/c23/videos/594_530.mp4  \n",
            "  inflating: /content/manipulated_sequences/FaceSwap/c23/videos/595_597.mp4  \n",
            "  inflating: /content/manipulated_sequences/FaceSwap/c23/videos/596_609.mp4  \n",
            "  inflating: /content/manipulated_sequences/FaceSwap/c23/videos/597_595.mp4  \n",
            "  inflating: /content/manipulated_sequences/FaceSwap/c23/videos/598_178.mp4  \n",
            "  inflating: /content/manipulated_sequences/FaceSwap/c23/videos/599_585.mp4  \n",
            "  inflating: /content/manipulated_sequences/FaceSwap/c23/videos/600_505.mp4  \n",
            "  inflating: /content/manipulated_sequences/FaceSwap/c23/videos/601_653.mp4  \n",
            "  inflating: /content/manipulated_sequences/FaceSwap/c23/videos/602_397.mp4  \n",
            "  inflating: /content/manipulated_sequences/FaceSwap/c23/videos/603_575.mp4  \n",
            "  inflating: /content/manipulated_sequences/FaceSwap/c23/videos/604_703.mp4  \n",
            "  inflating: /content/manipulated_sequences/FaceSwap/c23/videos/605_591.mp4  \n",
            "  inflating: /content/manipulated_sequences/FaceSwap/c23/videos/606_567.mp4  \n",
            "  inflating: /content/manipulated_sequences/FaceSwap/c23/videos/607_683.mp4  \n",
            "  inflating: /content/manipulated_sequences/FaceSwap/c23/videos/608_675.mp4  \n",
            "  inflating: /content/manipulated_sequences/FaceSwap/c23/videos/609_596.mp4  \n",
            "  inflating: /content/manipulated_sequences/FaceSwap/c23/videos/610_692.mp4  \n",
            "  inflating: /content/manipulated_sequences/FaceSwap/c23/videos/611_760.mp4  \n",
            "  inflating: /content/manipulated_sequences/FaceSwap/c23/videos/612_702.mp4  \n",
            "  inflating: /content/manipulated_sequences/FaceSwap/c23/videos/613_685.mp4  \n",
            "  inflating: /content/manipulated_sequences/FaceSwap/c23/videos/614_616.mp4  \n",
            "  inflating: /content/manipulated_sequences/FaceSwap/c23/videos/615_687.mp4  \n",
            "  inflating: /content/manipulated_sequences/FaceSwap/c23/videos/616_614.mp4  \n",
            "  inflating: /content/manipulated_sequences/FaceSwap/c23/videos/617_566.mp4  \n",
            "  inflating: /content/manipulated_sequences/FaceSwap/c23/videos/618_629.mp4  \n",
            "  inflating: /content/manipulated_sequences/FaceSwap/c23/videos/619_620.mp4  \n",
            "  inflating: /content/manipulated_sequences/FaceSwap/c23/videos/620_619.mp4  \n",
            "  inflating: /content/manipulated_sequences/FaceSwap/c23/videos/621_546.mp4  \n",
            "  inflating: /content/manipulated_sequences/FaceSwap/c23/videos/622_647.mp4  \n",
            "  inflating: /content/manipulated_sequences/FaceSwap/c23/videos/623_630.mp4  \n",
            "  inflating: /content/manipulated_sequences/FaceSwap/c23/videos/624_570.mp4  \n",
            "  inflating: /content/manipulated_sequences/FaceSwap/c23/videos/625_650.mp4  \n",
            "  inflating: /content/manipulated_sequences/FaceSwap/c23/videos/626_562.mp4  \n",
            "  inflating: /content/manipulated_sequences/FaceSwap/c23/videos/627_658.mp4  \n",
            "  inflating: /content/manipulated_sequences/FaceSwap/c23/videos/628_568.mp4  \n",
            "  inflating: /content/manipulated_sequences/FaceSwap/c23/videos/629_618.mp4  \n",
            "  inflating: /content/manipulated_sequences/FaceSwap/c23/videos/630_623.mp4  \n",
            "  inflating: /content/manipulated_sequences/FaceSwap/c23/videos/631_551.mp4  \n",
            "  inflating: /content/manipulated_sequences/FaceSwap/c23/videos/632_548.mp4  \n",
            "  inflating: /content/manipulated_sequences/FaceSwap/c23/videos/633_529.mp4  \n",
            "  inflating: /content/manipulated_sequences/FaceSwap/c23/videos/634_660.mp4  \n",
            "  inflating: /content/manipulated_sequences/FaceSwap/c23/videos/635_642.mp4  \n",
            "  inflating: /content/manipulated_sequences/FaceSwap/c23/videos/636_578.mp4  \n",
            "  inflating: /content/manipulated_sequences/FaceSwap/c23/videos/637_427.mp4  \n",
            "  inflating: /content/manipulated_sequences/FaceSwap/c23/videos/638_640.mp4  \n",
            "  inflating: /content/manipulated_sequences/FaceSwap/c23/videos/639_841.mp4  \n",
            "  inflating: /content/manipulated_sequences/FaceSwap/c23/videos/640_638.mp4  \n",
            "  inflating: /content/manipulated_sequences/FaceSwap/c23/videos/641_662.mp4  \n",
            "  inflating: /content/manipulated_sequences/FaceSwap/c23/videos/642_635.mp4  \n",
            "  inflating: /content/manipulated_sequences/FaceSwap/c23/videos/643_646.mp4  \n",
            "  inflating: /content/manipulated_sequences/FaceSwap/c23/videos/644_657.mp4  \n",
            "  inflating: /content/manipulated_sequences/FaceSwap/c23/videos/645_688.mp4  \n",
            "  inflating: /content/manipulated_sequences/FaceSwap/c23/videos/646_643.mp4  \n",
            "  inflating: /content/manipulated_sequences/FaceSwap/c23/videos/647_622.mp4  \n",
            "  inflating: /content/manipulated_sequences/FaceSwap/c23/videos/648_654.mp4  \n",
            "  inflating: /content/manipulated_sequences/FaceSwap/c23/videos/649_816.mp4  \n",
            "  inflating: /content/manipulated_sequences/FaceSwap/c23/videos/650_625.mp4  \n",
            "  inflating: /content/manipulated_sequences/FaceSwap/c23/videos/651_835.mp4  \n",
            "  inflating: /content/manipulated_sequences/FaceSwap/c23/videos/652_773.mp4  \n",
            "  inflating: /content/manipulated_sequences/FaceSwap/c23/videos/653_601.mp4  \n",
            "  inflating: /content/manipulated_sequences/FaceSwap/c23/videos/654_648.mp4  \n",
            "  inflating: /content/manipulated_sequences/FaceSwap/c23/videos/655_444.mp4  \n",
            "  inflating: /content/manipulated_sequences/FaceSwap/c23/videos/656_666.mp4  \n",
            "  inflating: /content/manipulated_sequences/FaceSwap/c23/videos/657_644.mp4  \n",
            "  inflating: /content/manipulated_sequences/FaceSwap/c23/videos/658_627.mp4  \n",
            "  inflating: /content/manipulated_sequences/FaceSwap/c23/videos/659_749.mp4  \n",
            "  inflating: /content/manipulated_sequences/FaceSwap/c23/videos/660_634.mp4  \n",
            "  inflating: /content/manipulated_sequences/FaceSwap/c23/videos/661_670.mp4  \n",
            "  inflating: /content/manipulated_sequences/FaceSwap/c23/videos/662_641.mp4  \n",
            "  inflating: /content/manipulated_sequences/FaceSwap/c23/videos/663_231.mp4  \n",
            "  inflating: /content/manipulated_sequences/FaceSwap/c23/videos/664_668.mp4  \n",
            "  inflating: /content/manipulated_sequences/FaceSwap/c23/videos/665_679.mp4  \n",
            "  inflating: /content/manipulated_sequences/FaceSwap/c23/videos/666_656.mp4  \n",
            "  inflating: /content/manipulated_sequences/FaceSwap/c23/videos/667_446.mp4  \n",
            "  inflating: /content/manipulated_sequences/FaceSwap/c23/videos/668_664.mp4  \n",
            "  inflating: /content/manipulated_sequences/FaceSwap/c23/videos/669_682.mp4  \n",
            "  inflating: /content/manipulated_sequences/FaceSwap/c23/videos/670_661.mp4  \n",
            "  inflating: /content/manipulated_sequences/FaceSwap/c23/videos/671_677.mp4  \n",
            "  inflating: /content/manipulated_sequences/FaceSwap/c23/videos/672_720.mp4  \n",
            "  inflating: /content/manipulated_sequences/FaceSwap/c23/videos/673_728.mp4  \n",
            "  inflating: /content/manipulated_sequences/FaceSwap/c23/videos/674_744.mp4  \n",
            "  inflating: /content/manipulated_sequences/FaceSwap/c23/videos/675_608.mp4  \n",
            "  inflating: /content/manipulated_sequences/FaceSwap/c23/videos/676_776.mp4  \n",
            "  inflating: /content/manipulated_sequences/FaceSwap/c23/videos/677_671.mp4  \n",
            "  inflating: /content/manipulated_sequences/FaceSwap/c23/videos/678_460.mp4  \n",
            "  inflating: /content/manipulated_sequences/FaceSwap/c23/videos/679_665.mp4  \n",
            "  inflating: /content/manipulated_sequences/FaceSwap/c23/videos/680_486.mp4  \n",
            "  inflating: /content/manipulated_sequences/FaceSwap/c23/videos/681_711.mp4  \n",
            "  inflating: /content/manipulated_sequences/FaceSwap/c23/videos/682_669.mp4  \n",
            "  inflating: /content/manipulated_sequences/FaceSwap/c23/videos/683_607.mp4  \n",
            "  inflating: /content/manipulated_sequences/FaceSwap/c23/videos/684_717.mp4  \n",
            "  inflating: /content/manipulated_sequences/FaceSwap/c23/videos/685_613.mp4  \n",
            "  inflating: /content/manipulated_sequences/FaceSwap/c23/videos/686_696.mp4  \n",
            "  inflating: /content/manipulated_sequences/FaceSwap/c23/videos/687_615.mp4  \n",
            "  inflating: /content/manipulated_sequences/FaceSwap/c23/videos/688_645.mp4  \n",
            "  inflating: /content/manipulated_sequences/FaceSwap/c23/videos/689_690.mp4  \n",
            "  inflating: /content/manipulated_sequences/FaceSwap/c23/videos/690_689.mp4  \n",
            "  inflating: /content/manipulated_sequences/FaceSwap/c23/videos/691_732.mp4  \n",
            "  inflating: /content/manipulated_sequences/FaceSwap/c23/videos/692_610.mp4  \n",
            "  inflating: /content/manipulated_sequences/FaceSwap/c23/videos/693_698.mp4  \n",
            "  inflating: /content/manipulated_sequences/FaceSwap/c23/videos/694_767.mp4  \n",
            "  inflating: /content/manipulated_sequences/FaceSwap/c23/videos/695_422.mp4  \n",
            "  inflating: /content/manipulated_sequences/FaceSwap/c23/videos/696_686.mp4  \n",
            "  inflating: /content/manipulated_sequences/FaceSwap/c23/videos/697_581.mp4  \n",
            "  inflating: /content/manipulated_sequences/FaceSwap/c23/videos/698_693.mp4  \n",
            "  inflating: /content/manipulated_sequences/FaceSwap/c23/videos/699_734.mp4  \n",
            "  inflating: /content/manipulated_sequences/FaceSwap/c23/videos/700_813.mp4  \n",
            "  inflating: /content/manipulated_sequences/FaceSwap/c23/videos/701_579.mp4  \n",
            "  inflating: /content/manipulated_sequences/FaceSwap/c23/videos/702_612.mp4  \n",
            "  inflating: /content/manipulated_sequences/FaceSwap/c23/videos/703_604.mp4  \n",
            "  inflating: /content/manipulated_sequences/FaceSwap/c23/videos/704_723.mp4  \n",
            "  inflating: /content/manipulated_sequences/FaceSwap/c23/videos/705_707.mp4  \n",
            "  inflating: /content/manipulated_sequences/FaceSwap/c23/videos/706_479.mp4  \n",
            "  inflating: /content/manipulated_sequences/FaceSwap/c23/videos/707_705.mp4  \n",
            "  inflating: /content/manipulated_sequences/FaceSwap/c23/videos/708_772.mp4  \n",
            "  inflating: /content/manipulated_sequences/FaceSwap/c23/videos/709_390.mp4  \n",
            "  inflating: /content/manipulated_sequences/FaceSwap/c23/videos/710_788.mp4  \n",
            "  inflating: /content/manipulated_sequences/FaceSwap/c23/videos/711_681.mp4  \n",
            "  inflating: /content/manipulated_sequences/FaceSwap/c23/videos/712_716.mp4  \n",
            "  inflating: /content/manipulated_sequences/FaceSwap/c23/videos/713_726.mp4  \n",
            "  inflating: /content/manipulated_sequences/FaceSwap/c23/videos/714_842.mp4  \n",
            "  inflating: /content/manipulated_sequences/FaceSwap/c23/videos/715_721.mp4  \n",
            "  inflating: /content/manipulated_sequences/FaceSwap/c23/videos/716_712.mp4  \n",
            "  inflating: /content/manipulated_sequences/FaceSwap/c23/videos/717_684.mp4  \n",
            "  inflating: /content/manipulated_sequences/FaceSwap/c23/videos/718_972.mp4  \n",
            "  inflating: /content/manipulated_sequences/FaceSwap/c23/videos/719_737.mp4  \n",
            "  inflating: /content/manipulated_sequences/FaceSwap/c23/videos/720_672.mp4  \n",
            "  inflating: /content/manipulated_sequences/FaceSwap/c23/videos/721_715.mp4  \n",
            "  inflating: /content/manipulated_sequences/FaceSwap/c23/videos/722_458.mp4  \n",
            "  inflating: /content/manipulated_sequences/FaceSwap/c23/videos/723_704.mp4  \n",
            "  inflating: /content/manipulated_sequences/FaceSwap/c23/videos/724_725.mp4  \n",
            "  inflating: /content/manipulated_sequences/FaceSwap/c23/videos/725_724.mp4  \n",
            "  inflating: /content/manipulated_sequences/FaceSwap/c23/videos/726_713.mp4  \n",
            "  inflating: /content/manipulated_sequences/FaceSwap/c23/videos/727_729.mp4  \n",
            "  inflating: /content/manipulated_sequences/FaceSwap/c23/videos/728_673.mp4  \n",
            "  inflating: /content/manipulated_sequences/FaceSwap/c23/videos/729_727.mp4  \n",
            "  inflating: /content/manipulated_sequences/FaceSwap/c23/videos/730_815.mp4  \n",
            "  inflating: /content/manipulated_sequences/FaceSwap/c23/videos/731_741.mp4  \n",
            "  inflating: /content/manipulated_sequences/FaceSwap/c23/videos/732_691.mp4  \n",
            "  inflating: /content/manipulated_sequences/FaceSwap/c23/videos/733_935.mp4  \n",
            "  inflating: /content/manipulated_sequences/FaceSwap/c23/videos/734_699.mp4  \n",
            "  inflating: /content/manipulated_sequences/FaceSwap/c23/videos/735_774.mp4  \n",
            "  inflating: /content/manipulated_sequences/FaceSwap/c23/videos/736_785.mp4  \n",
            "  inflating: /content/manipulated_sequences/FaceSwap/c23/videos/737_719.mp4  \n",
            "  inflating: /content/manipulated_sequences/FaceSwap/c23/videos/738_804.mp4  \n",
            "  inflating: /content/manipulated_sequences/FaceSwap/c23/videos/739_865.mp4  \n",
            "  inflating: /content/manipulated_sequences/FaceSwap/c23/videos/740_796.mp4  \n",
            "  inflating: /content/manipulated_sequences/FaceSwap/c23/videos/741_731.mp4  \n",
            "  inflating: /content/manipulated_sequences/FaceSwap/c23/videos/742_775.mp4  \n",
            "  inflating: /content/manipulated_sequences/FaceSwap/c23/videos/743_750.mp4  \n",
            "  inflating: /content/manipulated_sequences/FaceSwap/c23/videos/744_674.mp4  \n",
            "  inflating: /content/manipulated_sequences/FaceSwap/c23/videos/745_777.mp4  \n",
            "  inflating: /content/manipulated_sequences/FaceSwap/c23/videos/746_571.mp4  \n",
            "  inflating: /content/manipulated_sequences/FaceSwap/c23/videos/747_854.mp4  \n",
            "  inflating: /content/manipulated_sequences/FaceSwap/c23/videos/748_355.mp4  \n",
            "  inflating: /content/manipulated_sequences/FaceSwap/c23/videos/749_659.mp4  \n",
            "  inflating: /content/manipulated_sequences/FaceSwap/c23/videos/750_743.mp4  \n",
            "  inflating: /content/manipulated_sequences/FaceSwap/c23/videos/751_752.mp4  \n",
            "  inflating: /content/manipulated_sequences/FaceSwap/c23/videos/752_751.mp4  \n",
            "  inflating: /content/manipulated_sequences/FaceSwap/c23/videos/753_789.mp4  \n",
            "  inflating: /content/manipulated_sequences/FaceSwap/c23/videos/754_758.mp4  \n",
            "  inflating: /content/manipulated_sequences/FaceSwap/c23/videos/755_759.mp4  \n",
            "  inflating: /content/manipulated_sequences/FaceSwap/c23/videos/756_503.mp4  \n",
            "  inflating: /content/manipulated_sequences/FaceSwap/c23/videos/757_573.mp4  \n",
            "  inflating: /content/manipulated_sequences/FaceSwap/c23/videos/758_754.mp4  \n",
            "  inflating: /content/manipulated_sequences/FaceSwap/c23/videos/759_755.mp4  \n",
            "  inflating: /content/manipulated_sequences/FaceSwap/c23/videos/760_611.mp4  \n",
            "  inflating: /content/manipulated_sequences/FaceSwap/c23/videos/761_766.mp4  \n",
            "  inflating: /content/manipulated_sequences/FaceSwap/c23/videos/762_832.mp4  \n",
            "  inflating: /content/manipulated_sequences/FaceSwap/c23/videos/763_930.mp4  \n",
            "  inflating: /content/manipulated_sequences/FaceSwap/c23/videos/764_850.mp4  \n",
            "  inflating: /content/manipulated_sequences/FaceSwap/c23/videos/765_867.mp4  \n",
            "  inflating: /content/manipulated_sequences/FaceSwap/c23/videos/766_761.mp4  \n",
            "  inflating: /content/manipulated_sequences/FaceSwap/c23/videos/767_694.mp4  \n",
            "  inflating: /content/manipulated_sequences/FaceSwap/c23/videos/768_793.mp4  \n",
            "  inflating: /content/manipulated_sequences/FaceSwap/c23/videos/769_784.mp4  \n",
            "  inflating: /content/manipulated_sequences/FaceSwap/c23/videos/770_791.mp4  \n",
            "  inflating: /content/manipulated_sequences/FaceSwap/c23/videos/771_849.mp4  \n",
            "  inflating: /content/manipulated_sequences/FaceSwap/c23/videos/772_708.mp4  \n",
            "  inflating: /content/manipulated_sequences/FaceSwap/c23/videos/773_652.mp4  \n",
            "  inflating: /content/manipulated_sequences/FaceSwap/c23/videos/774_735.mp4  \n",
            "  inflating: /content/manipulated_sequences/FaceSwap/c23/videos/775_742.mp4  \n",
            "  inflating: /content/manipulated_sequences/FaceSwap/c23/videos/776_676.mp4  \n",
            "  inflating: /content/manipulated_sequences/FaceSwap/c23/videos/777_745.mp4  \n",
            "  inflating: /content/manipulated_sequences/FaceSwap/c23/videos/778_798.mp4  \n",
            "  inflating: /content/manipulated_sequences/FaceSwap/c23/videos/779_794.mp4  \n",
            "  inflating: /content/manipulated_sequences/FaceSwap/c23/videos/780_869.mp4  \n",
            "  inflating: /content/manipulated_sequences/FaceSwap/c23/videos/781_806.mp4  \n",
            "  inflating: /content/manipulated_sequences/FaceSwap/c23/videos/782_787.mp4  \n",
            "  inflating: /content/manipulated_sequences/FaceSwap/c23/videos/783_916.mp4  \n",
            "  inflating: /content/manipulated_sequences/FaceSwap/c23/videos/784_769.mp4  \n",
            "  inflating: /content/manipulated_sequences/FaceSwap/c23/videos/785_736.mp4  \n",
            "  inflating: /content/manipulated_sequences/FaceSwap/c23/videos/786_819.mp4  \n",
            "  inflating: /content/manipulated_sequences/FaceSwap/c23/videos/787_782.mp4  \n",
            "  inflating: /content/manipulated_sequences/FaceSwap/c23/videos/788_710.mp4  \n",
            "  inflating: /content/manipulated_sequences/FaceSwap/c23/videos/789_753.mp4  \n",
            "  inflating: /content/manipulated_sequences/FaceSwap/c23/videos/790_014.mp4  \n",
            "  inflating: /content/manipulated_sequences/FaceSwap/c23/videos/791_770.mp4  \n",
            "  inflating: /content/manipulated_sequences/FaceSwap/c23/videos/792_903.mp4  \n",
            "  inflating: /content/manipulated_sequences/FaceSwap/c23/videos/793_768.mp4  \n",
            "  inflating: /content/manipulated_sequences/FaceSwap/c23/videos/794_779.mp4  \n",
            "  inflating: /content/manipulated_sequences/FaceSwap/c23/videos/795_907.mp4  \n",
            "  inflating: /content/manipulated_sequences/FaceSwap/c23/videos/796_740.mp4  \n",
            "  inflating: /content/manipulated_sequences/FaceSwap/c23/videos/797_844.mp4  \n",
            "  inflating: /content/manipulated_sequences/FaceSwap/c23/videos/798_778.mp4  \n",
            "  inflating: /content/manipulated_sequences/FaceSwap/c23/videos/799_809.mp4  \n",
            "  inflating: /content/manipulated_sequences/FaceSwap/c23/videos/800_840.mp4  \n",
            "  inflating: /content/manipulated_sequences/FaceSwap/c23/videos/801_855.mp4  \n",
            "  inflating: /content/manipulated_sequences/FaceSwap/c23/videos/802_885.mp4  \n",
            "  inflating: /content/manipulated_sequences/FaceSwap/c23/videos/803_017.mp4  \n",
            "  inflating: /content/manipulated_sequences/FaceSwap/c23/videos/804_738.mp4  \n",
            "  inflating: /content/manipulated_sequences/FaceSwap/c23/videos/805_011.mp4  \n",
            "  inflating: /content/manipulated_sequences/FaceSwap/c23/videos/806_781.mp4  \n",
            "  inflating: /content/manipulated_sequences/FaceSwap/c23/videos/807_273.mp4  \n",
            "  inflating: /content/manipulated_sequences/FaceSwap/c23/videos/808_829.mp4  \n",
            "  inflating: /content/manipulated_sequences/FaceSwap/c23/videos/809_799.mp4  \n",
            "  inflating: /content/manipulated_sequences/FaceSwap/c23/videos/810_838.mp4  \n",
            "  inflating: /content/manipulated_sequences/FaceSwap/c23/videos/811_920.mp4  \n",
            "  inflating: /content/manipulated_sequences/FaceSwap/c23/videos/812_821.mp4  \n",
            "  inflating: /content/manipulated_sequences/FaceSwap/c23/videos/813_700.mp4  \n",
            "  inflating: /content/manipulated_sequences/FaceSwap/c23/videos/814_871.mp4  \n",
            "  inflating: /content/manipulated_sequences/FaceSwap/c23/videos/815_730.mp4  \n",
            "  inflating: /content/manipulated_sequences/FaceSwap/c23/videos/816_649.mp4  \n",
            "  inflating: /content/manipulated_sequences/FaceSwap/c23/videos/817_827.mp4  \n",
            "  inflating: /content/manipulated_sequences/FaceSwap/c23/videos/818_820.mp4  \n",
            "  inflating: /content/manipulated_sequences/FaceSwap/c23/videos/819_786.mp4  \n",
            "  inflating: /content/manipulated_sequences/FaceSwap/c23/videos/820_818.mp4  \n",
            "  inflating: /content/manipulated_sequences/FaceSwap/c23/videos/821_812.mp4  \n",
            "  inflating: /content/manipulated_sequences/FaceSwap/c23/videos/822_244.mp4  \n",
            "  inflating: /content/manipulated_sequences/FaceSwap/c23/videos/823_584.mp4  \n",
            "  inflating: /content/manipulated_sequences/FaceSwap/c23/videos/824_419.mp4  \n",
            "  inflating: /content/manipulated_sequences/FaceSwap/c23/videos/825_074.mp4  \n",
            "  inflating: /content/manipulated_sequences/FaceSwap/c23/videos/826_833.mp4  \n",
            "  inflating: /content/manipulated_sequences/FaceSwap/c23/videos/827_817.mp4  \n",
            "  inflating: /content/manipulated_sequences/FaceSwap/c23/videos/828_830.mp4  \n",
            "  inflating: /content/manipulated_sequences/FaceSwap/c23/videos/829_808.mp4  \n",
            "  inflating: /content/manipulated_sequences/FaceSwap/c23/videos/830_828.mp4  \n",
            "  inflating: /content/manipulated_sequences/FaceSwap/c23/videos/831_508.mp4  \n",
            "  inflating: /content/manipulated_sequences/FaceSwap/c23/videos/832_762.mp4  \n",
            "  inflating: /content/manipulated_sequences/FaceSwap/c23/videos/833_826.mp4  \n",
            "  inflating: /content/manipulated_sequences/FaceSwap/c23/videos/834_852.mp4  \n",
            "  inflating: /content/manipulated_sequences/FaceSwap/c23/videos/835_651.mp4  \n",
            "  inflating: /content/manipulated_sequences/FaceSwap/c23/videos/836_950.mp4  \n",
            "  inflating: /content/manipulated_sequences/FaceSwap/c23/videos/837_890.mp4  \n",
            "  inflating: /content/manipulated_sequences/FaceSwap/c23/videos/838_810.mp4  \n",
            "  inflating: /content/manipulated_sequences/FaceSwap/c23/videos/839_864.mp4  \n",
            "  inflating: /content/manipulated_sequences/FaceSwap/c23/videos/840_800.mp4  \n",
            "  inflating: /content/manipulated_sequences/FaceSwap/c23/videos/841_639.mp4  \n",
            "  inflating: /content/manipulated_sequences/FaceSwap/c23/videos/842_714.mp4  \n",
            "  inflating: /content/manipulated_sequences/FaceSwap/c23/videos/843_859.mp4  \n",
            "  inflating: /content/manipulated_sequences/FaceSwap/c23/videos/844_797.mp4  \n",
            "  inflating: /content/manipulated_sequences/FaceSwap/c23/videos/845_846.mp4  \n",
            "  inflating: /content/manipulated_sequences/FaceSwap/c23/videos/846_845.mp4  \n",
            "  inflating: /content/manipulated_sequences/FaceSwap/c23/videos/847_906.mp4  \n",
            "  inflating: /content/manipulated_sequences/FaceSwap/c23/videos/848_894.mp4  \n",
            "  inflating: /content/manipulated_sequences/FaceSwap/c23/videos/849_771.mp4  \n",
            "  inflating: /content/manipulated_sequences/FaceSwap/c23/videos/850_764.mp4  \n",
            "  inflating: /content/manipulated_sequences/FaceSwap/c23/videos/851_552.mp4  \n",
            "  inflating: /content/manipulated_sequences/FaceSwap/c23/videos/852_834.mp4  \n",
            "  inflating: /content/manipulated_sequences/FaceSwap/c23/videos/853_863.mp4  \n",
            "  inflating: /content/manipulated_sequences/FaceSwap/c23/videos/854_747.mp4  \n",
            "  inflating: /content/manipulated_sequences/FaceSwap/c23/videos/855_801.mp4  \n",
            "  inflating: /content/manipulated_sequences/FaceSwap/c23/videos/856_881.mp4  \n",
            "  inflating: /content/manipulated_sequences/FaceSwap/c23/videos/857_909.mp4  \n",
            "  inflating: /content/manipulated_sequences/FaceSwap/c23/videos/858_861.mp4  \n",
            "  inflating: /content/manipulated_sequences/FaceSwap/c23/videos/859_843.mp4  \n",
            "  inflating: /content/manipulated_sequences/FaceSwap/c23/videos/860_905.mp4  \n",
            "  inflating: /content/manipulated_sequences/FaceSwap/c23/videos/861_858.mp4  \n",
            "  inflating: /content/manipulated_sequences/FaceSwap/c23/videos/862_047.mp4  \n",
            "  inflating: /content/manipulated_sequences/FaceSwap/c23/videos/863_853.mp4  \n",
            "  inflating: /content/manipulated_sequences/FaceSwap/c23/videos/864_839.mp4  \n",
            "  inflating: /content/manipulated_sequences/FaceSwap/c23/videos/865_739.mp4  \n",
            "  inflating: /content/manipulated_sequences/FaceSwap/c23/videos/866_878.mp4  \n",
            "  inflating: /content/manipulated_sequences/FaceSwap/c23/videos/867_765.mp4  \n",
            "  inflating: /content/manipulated_sequences/FaceSwap/c23/videos/868_949.mp4  \n",
            "  inflating: /content/manipulated_sequences/FaceSwap/c23/videos/869_780.mp4  \n",
            "  inflating: /content/manipulated_sequences/FaceSwap/c23/videos/870_001.mp4  \n",
            "  inflating: /content/manipulated_sequences/FaceSwap/c23/videos/871_814.mp4  \n",
            "  inflating: /content/manipulated_sequences/FaceSwap/c23/videos/872_873.mp4  \n",
            "  inflating: /content/manipulated_sequences/FaceSwap/c23/videos/873_872.mp4  \n",
            "  inflating: /content/manipulated_sequences/FaceSwap/c23/videos/874_291.mp4  \n",
            "  inflating: /content/manipulated_sequences/FaceSwap/c23/videos/875_979.mp4  \n",
            "  inflating: /content/manipulated_sequences/FaceSwap/c23/videos/876_891.mp4  \n",
            "  inflating: /content/manipulated_sequences/FaceSwap/c23/videos/877_886.mp4  \n",
            "  inflating: /content/manipulated_sequences/FaceSwap/c23/videos/878_866.mp4  \n",
            "  inflating: /content/manipulated_sequences/FaceSwap/c23/videos/879_963.mp4  \n",
            "  inflating: /content/manipulated_sequences/FaceSwap/c23/videos/880_135.mp4  \n",
            "  inflating: /content/manipulated_sequences/FaceSwap/c23/videos/881_856.mp4  \n",
            "  inflating: /content/manipulated_sequences/FaceSwap/c23/videos/882_952.mp4  \n",
            "  inflating: /content/manipulated_sequences/FaceSwap/c23/videos/883_013.mp4  \n",
            "  inflating: /content/manipulated_sequences/FaceSwap/c23/videos/884_968.mp4  \n",
            "  inflating: /content/manipulated_sequences/FaceSwap/c23/videos/885_802.mp4  \n",
            "  inflating: /content/manipulated_sequences/FaceSwap/c23/videos/886_877.mp4  \n",
            "  inflating: /content/manipulated_sequences/FaceSwap/c23/videos/887_275.mp4  \n",
            "  inflating: /content/manipulated_sequences/FaceSwap/c23/videos/888_937.mp4  \n",
            "  inflating: /content/manipulated_sequences/FaceSwap/c23/videos/889_045.mp4  \n",
            "  inflating: /content/manipulated_sequences/FaceSwap/c23/videos/890_837.mp4  \n",
            "  inflating: /content/manipulated_sequences/FaceSwap/c23/videos/891_876.mp4  \n",
            "  inflating: /content/manipulated_sequences/FaceSwap/c23/videos/892_112.mp4  \n",
            "  inflating: /content/manipulated_sequences/FaceSwap/c23/videos/893_913.mp4  \n",
            "  inflating: /content/manipulated_sequences/FaceSwap/c23/videos/894_848.mp4  \n",
            "  inflating: /content/manipulated_sequences/FaceSwap/c23/videos/895_915.mp4  \n",
            "  inflating: /content/manipulated_sequences/FaceSwap/c23/videos/896_128.mp4  \n",
            "  inflating: /content/manipulated_sequences/FaceSwap/c23/videos/897_969.mp4  \n",
            "  inflating: /content/manipulated_sequences/FaceSwap/c23/videos/898_922.mp4  \n",
            "  inflating: /content/manipulated_sequences/FaceSwap/c23/videos/899_914.mp4  \n",
            "  inflating: /content/manipulated_sequences/FaceSwap/c23/videos/900_926.mp4  \n",
            "  inflating: /content/manipulated_sequences/FaceSwap/c23/videos/901_902.mp4  \n",
            "  inflating: /content/manipulated_sequences/FaceSwap/c23/videos/902_901.mp4  \n",
            "  inflating: /content/manipulated_sequences/FaceSwap/c23/videos/903_792.mp4  \n",
            "  inflating: /content/manipulated_sequences/FaceSwap/c23/videos/904_046.mp4  \n",
            "  inflating: /content/manipulated_sequences/FaceSwap/c23/videos/905_860.mp4  \n",
            "  inflating: /content/manipulated_sequences/FaceSwap/c23/videos/906_847.mp4  \n",
            "  inflating: /content/manipulated_sequences/FaceSwap/c23/videos/907_795.mp4  \n",
            "  inflating: /content/manipulated_sequences/FaceSwap/c23/videos/908_207.mp4  \n",
            "  inflating: /content/manipulated_sequences/FaceSwap/c23/videos/909_857.mp4  \n",
            "  inflating: /content/manipulated_sequences/FaceSwap/c23/videos/910_911.mp4  \n",
            "  inflating: /content/manipulated_sequences/FaceSwap/c23/videos/911_910.mp4  \n",
            "  inflating: /content/manipulated_sequences/FaceSwap/c23/videos/912_927.mp4  \n",
            "  inflating: /content/manipulated_sequences/FaceSwap/c23/videos/913_893.mp4  \n",
            "  inflating: /content/manipulated_sequences/FaceSwap/c23/videos/914_899.mp4  \n",
            "  inflating: /content/manipulated_sequences/FaceSwap/c23/videos/915_895.mp4  \n",
            "  inflating: /content/manipulated_sequences/FaceSwap/c23/videos/916_783.mp4  \n",
            "  inflating: /content/manipulated_sequences/FaceSwap/c23/videos/917_924.mp4  \n",
            "  inflating: /content/manipulated_sequences/FaceSwap/c23/videos/918_934.mp4  \n",
            "  inflating: /content/manipulated_sequences/FaceSwap/c23/videos/919_015.mp4  \n",
            "  inflating: /content/manipulated_sequences/FaceSwap/c23/videos/920_811.mp4  \n",
            "  inflating: /content/manipulated_sequences/FaceSwap/c23/videos/921_569.mp4  \n",
            "  inflating: /content/manipulated_sequences/FaceSwap/c23/videos/922_898.mp4  \n",
            "  inflating: /content/manipulated_sequences/FaceSwap/c23/videos/923_023.mp4  \n",
            "  inflating: /content/manipulated_sequences/FaceSwap/c23/videos/924_917.mp4  \n",
            "  inflating: /content/manipulated_sequences/FaceSwap/c23/videos/925_933.mp4  \n",
            "  inflating: /content/manipulated_sequences/FaceSwap/c23/videos/926_900.mp4  \n",
            "  inflating: /content/manipulated_sequences/FaceSwap/c23/videos/927_912.mp4  \n",
            "  inflating: /content/manipulated_sequences/FaceSwap/c23/videos/928_160.mp4  \n",
            "  inflating: /content/manipulated_sequences/FaceSwap/c23/videos/929_962.mp4  \n",
            "  inflating: /content/manipulated_sequences/FaceSwap/c23/videos/930_763.mp4  \n",
            "  inflating: /content/manipulated_sequences/FaceSwap/c23/videos/931_936.mp4  \n",
            "  inflating: /content/manipulated_sequences/FaceSwap/c23/videos/932_384.mp4  \n",
            "  inflating: /content/manipulated_sequences/FaceSwap/c23/videos/933_925.mp4  \n",
            "  inflating: /content/manipulated_sequences/FaceSwap/c23/videos/934_918.mp4  \n",
            "  inflating: /content/manipulated_sequences/FaceSwap/c23/videos/935_733.mp4  \n",
            "  inflating: /content/manipulated_sequences/FaceSwap/c23/videos/936_931.mp4  \n",
            "  inflating: /content/manipulated_sequences/FaceSwap/c23/videos/937_888.mp4  \n",
            "  inflating: /content/manipulated_sequences/FaceSwap/c23/videos/938_987.mp4  \n",
            "  inflating: /content/manipulated_sequences/FaceSwap/c23/videos/939_115.mp4  \n",
            "  inflating: /content/manipulated_sequences/FaceSwap/c23/videos/940_941.mp4  \n",
            "  inflating: /content/manipulated_sequences/FaceSwap/c23/videos/941_940.mp4  \n",
            "  inflating: /content/manipulated_sequences/FaceSwap/c23/videos/942_943.mp4  \n",
            "  inflating: /content/manipulated_sequences/FaceSwap/c23/videos/943_942.mp4  \n",
            "  inflating: /content/manipulated_sequences/FaceSwap/c23/videos/944_032.mp4  \n",
            "  inflating: /content/manipulated_sequences/FaceSwap/c23/videos/945_044.mp4  \n",
            "  inflating: /content/manipulated_sequences/FaceSwap/c23/videos/946_049.mp4  \n",
            "  inflating: /content/manipulated_sequences/FaceSwap/c23/videos/947_951.mp4  \n",
            "  inflating: /content/manipulated_sequences/FaceSwap/c23/videos/948_965.mp4  \n",
            "  inflating: /content/manipulated_sequences/FaceSwap/c23/videos/949_868.mp4  \n",
            "  inflating: /content/manipulated_sequences/FaceSwap/c23/videos/950_836.mp4  \n",
            "  inflating: /content/manipulated_sequences/FaceSwap/c23/videos/951_947.mp4  \n",
            "  inflating: /content/manipulated_sequences/FaceSwap/c23/videos/952_882.mp4  \n",
            "  inflating: /content/manipulated_sequences/FaceSwap/c23/videos/953_974.mp4  \n",
            "  inflating: /content/manipulated_sequences/FaceSwap/c23/videos/954_976.mp4  \n",
            "  inflating: /content/manipulated_sequences/FaceSwap/c23/videos/955_078.mp4  \n",
            "  inflating: /content/manipulated_sequences/FaceSwap/c23/videos/956_958.mp4  \n",
            "  inflating: /content/manipulated_sequences/FaceSwap/c23/videos/957_959.mp4  \n",
            "  inflating: /content/manipulated_sequences/FaceSwap/c23/videos/958_956.mp4  \n",
            "  inflating: /content/manipulated_sequences/FaceSwap/c23/videos/959_957.mp4  \n",
            "  inflating: /content/manipulated_sequences/FaceSwap/c23/videos/960_999.mp4  \n",
            "  inflating: /content/manipulated_sequences/FaceSwap/c23/videos/961_069.mp4  \n",
            "  inflating: /content/manipulated_sequences/FaceSwap/c23/videos/962_929.mp4  \n",
            "  inflating: /content/manipulated_sequences/FaceSwap/c23/videos/963_879.mp4  \n",
            "  inflating: /content/manipulated_sequences/FaceSwap/c23/videos/964_174.mp4  \n",
            "  inflating: /content/manipulated_sequences/FaceSwap/c23/videos/965_948.mp4  \n",
            "  inflating: /content/manipulated_sequences/FaceSwap/c23/videos/966_988.mp4  \n",
            "  inflating: /content/manipulated_sequences/FaceSwap/c23/videos/967_984.mp4  \n",
            "  inflating: /content/manipulated_sequences/FaceSwap/c23/videos/968_884.mp4  \n",
            "  inflating: /content/manipulated_sequences/FaceSwap/c23/videos/969_897.mp4  \n",
            "  inflating: /content/manipulated_sequences/FaceSwap/c23/videos/970_973.mp4  \n",
            "  inflating: /content/manipulated_sequences/FaceSwap/c23/videos/971_564.mp4  \n",
            "  inflating: /content/manipulated_sequences/FaceSwap/c23/videos/972_718.mp4  \n",
            "  inflating: /content/manipulated_sequences/FaceSwap/c23/videos/973_970.mp4  \n",
            "  inflating: /content/manipulated_sequences/FaceSwap/c23/videos/974_953.mp4  \n",
            "  inflating: /content/manipulated_sequences/FaceSwap/c23/videos/975_978.mp4  \n",
            "  inflating: /content/manipulated_sequences/FaceSwap/c23/videos/976_954.mp4  \n",
            "  inflating: /content/manipulated_sequences/FaceSwap/c23/videos/977_075.mp4  \n",
            "  inflating: /content/manipulated_sequences/FaceSwap/c23/videos/978_975.mp4  \n",
            "  inflating: /content/manipulated_sequences/FaceSwap/c23/videos/979_875.mp4  \n",
            "  inflating: /content/manipulated_sequences/FaceSwap/c23/videos/980_992.mp4  \n",
            "  inflating: /content/manipulated_sequences/FaceSwap/c23/videos/981_985.mp4  \n",
            "  inflating: /content/manipulated_sequences/FaceSwap/c23/videos/982_004.mp4  \n",
            "  inflating: /content/manipulated_sequences/FaceSwap/c23/videos/983_113.mp4  \n",
            "  inflating: /content/manipulated_sequences/FaceSwap/c23/videos/984_967.mp4  \n",
            "  inflating: /content/manipulated_sequences/FaceSwap/c23/videos/985_981.mp4  \n",
            "  inflating: /content/manipulated_sequences/FaceSwap/c23/videos/986_994.mp4  \n",
            "  inflating: /content/manipulated_sequences/FaceSwap/c23/videos/987_938.mp4  \n",
            "  inflating: /content/manipulated_sequences/FaceSwap/c23/videos/988_966.mp4  \n",
            "  inflating: /content/manipulated_sequences/FaceSwap/c23/videos/989_993.mp4  \n",
            "  inflating: /content/manipulated_sequences/FaceSwap/c23/videos/990_008.mp4  \n",
            "  inflating: /content/manipulated_sequences/FaceSwap/c23/videos/991_064.mp4  \n",
            "  inflating: /content/manipulated_sequences/FaceSwap/c23/videos/992_980.mp4  \n",
            "  inflating: /content/manipulated_sequences/FaceSwap/c23/videos/993_989.mp4  \n",
            "  inflating: /content/manipulated_sequences/FaceSwap/c23/videos/994_986.mp4  \n",
            "  inflating: /content/manipulated_sequences/FaceSwap/c23/videos/995_233.mp4  \n",
            "  inflating: /content/manipulated_sequences/FaceSwap/c23/videos/996_056.mp4  \n",
            "  inflating: /content/manipulated_sequences/FaceSwap/c23/videos/997_040.mp4  \n",
            "  inflating: /content/manipulated_sequences/FaceSwap/c23/videos/998_561.mp4  \n",
            "  inflating: /content/manipulated_sequences/FaceSwap/c23/videos/999_960.mp4  \n",
            "  inflating: /content/manipulated_sequences/NeuralTextures/c23/videos/000_003.mp4  \n",
            "  inflating: /content/manipulated_sequences/NeuralTextures/c23/videos/001_870.mp4  \n",
            "  inflating: /content/manipulated_sequences/NeuralTextures/c23/videos/002_006.mp4  \n",
            "  inflating: /content/manipulated_sequences/NeuralTextures/c23/videos/003_000.mp4  \n",
            "  inflating: /content/manipulated_sequences/NeuralTextures/c23/videos/004_982.mp4  \n",
            "  inflating: /content/manipulated_sequences/NeuralTextures/c23/videos/005_010.mp4  \n",
            "  inflating: /content/manipulated_sequences/NeuralTextures/c23/videos/006_002.mp4  \n",
            "  inflating: /content/manipulated_sequences/NeuralTextures/c23/videos/007_132.mp4  \n",
            "  inflating: /content/manipulated_sequences/NeuralTextures/c23/videos/008_990.mp4  \n",
            "  inflating: /content/manipulated_sequences/NeuralTextures/c23/videos/009_027.mp4  \n",
            "  inflating: /content/manipulated_sequences/NeuralTextures/c23/videos/010_005.mp4  \n",
            "  inflating: /content/manipulated_sequences/NeuralTextures/c23/videos/011_805.mp4  \n",
            "  inflating: /content/manipulated_sequences/NeuralTextures/c23/videos/012_026.mp4  \n",
            "  inflating: /content/manipulated_sequences/NeuralTextures/c23/videos/013_883.mp4  \n",
            "  inflating: /content/manipulated_sequences/NeuralTextures/c23/videos/014_790.mp4  \n",
            "  inflating: /content/manipulated_sequences/NeuralTextures/c23/videos/015_919.mp4  \n",
            "  inflating: /content/manipulated_sequences/NeuralTextures/c23/videos/016_209.mp4  \n",
            "  inflating: /content/manipulated_sequences/NeuralTextures/c23/videos/017_803.mp4  \n",
            "  inflating: /content/manipulated_sequences/NeuralTextures/c23/videos/018_019.mp4  \n",
            "  inflating: /content/manipulated_sequences/NeuralTextures/c23/videos/019_018.mp4  \n",
            "  inflating: /content/manipulated_sequences/NeuralTextures/c23/videos/020_344.mp4  \n",
            "  inflating: /content/manipulated_sequences/NeuralTextures/c23/videos/021_312.mp4  \n",
            "  inflating: /content/manipulated_sequences/NeuralTextures/c23/videos/022_489.mp4  \n",
            "  inflating: /content/manipulated_sequences/NeuralTextures/c23/videos/023_923.mp4  \n",
            "  inflating: /content/manipulated_sequences/NeuralTextures/c23/videos/024_073.mp4  \n",
            "  inflating: /content/manipulated_sequences/NeuralTextures/c23/videos/025_067.mp4  \n",
            "  inflating: /content/manipulated_sequences/NeuralTextures/c23/videos/026_012.mp4  \n",
            "  inflating: /content/manipulated_sequences/NeuralTextures/c23/videos/027_009.mp4  \n",
            "  inflating: /content/manipulated_sequences/NeuralTextures/c23/videos/028_068.mp4  \n",
            "  inflating: /content/manipulated_sequences/NeuralTextures/c23/videos/029_048.mp4  \n",
            "  inflating: /content/manipulated_sequences/NeuralTextures/c23/videos/030_193.mp4  \n",
            "  inflating: /content/manipulated_sequences/NeuralTextures/c23/videos/031_163.mp4  \n",
            "  inflating: /content/manipulated_sequences/NeuralTextures/c23/videos/032_944.mp4  \n",
            "  inflating: /content/manipulated_sequences/NeuralTextures/c23/videos/033_097.mp4  \n",
            "  inflating: /content/manipulated_sequences/NeuralTextures/c23/videos/034_590.mp4  \n",
            "  inflating: /content/manipulated_sequences/NeuralTextures/c23/videos/035_036.mp4  \n",
            "  inflating: /content/manipulated_sequences/NeuralTextures/c23/videos/036_035.mp4  \n",
            "  inflating: /content/manipulated_sequences/NeuralTextures/c23/videos/037_072.mp4  \n",
            "  inflating: /content/manipulated_sequences/NeuralTextures/c23/videos/038_125.mp4  \n",
            "  inflating: /content/manipulated_sequences/NeuralTextures/c23/videos/039_058.mp4  \n",
            "  inflating: /content/manipulated_sequences/NeuralTextures/c23/videos/040_997.mp4  \n",
            "  inflating: /content/manipulated_sequences/NeuralTextures/c23/videos/041_063.mp4  \n",
            "  inflating: /content/manipulated_sequences/NeuralTextures/c23/videos/042_084.mp4  \n",
            "  inflating: /content/manipulated_sequences/NeuralTextures/c23/videos/043_110.mp4  \n",
            "  inflating: /content/manipulated_sequences/NeuralTextures/c23/videos/044_945.mp4  \n",
            "  inflating: /content/manipulated_sequences/NeuralTextures/c23/videos/045_889.mp4  \n",
            "  inflating: /content/manipulated_sequences/NeuralTextures/c23/videos/046_904.mp4  \n",
            "  inflating: /content/manipulated_sequences/NeuralTextures/c23/videos/047_862.mp4  \n",
            "  inflating: /content/manipulated_sequences/NeuralTextures/c23/videos/048_029.mp4  \n",
            "  inflating: /content/manipulated_sequences/NeuralTextures/c23/videos/049_946.mp4  \n",
            "  inflating: /content/manipulated_sequences/NeuralTextures/c23/videos/050_059.mp4  \n",
            "  inflating: /content/manipulated_sequences/NeuralTextures/c23/videos/051_332.mp4  \n",
            "  inflating: /content/manipulated_sequences/NeuralTextures/c23/videos/052_108.mp4  \n",
            "  inflating: /content/manipulated_sequences/NeuralTextures/c23/videos/053_095.mp4  \n",
            "  inflating: /content/manipulated_sequences/NeuralTextures/c23/videos/054_071.mp4  \n",
            "  inflating: /content/manipulated_sequences/NeuralTextures/c23/videos/055_147.mp4  \n",
            "  inflating: /content/manipulated_sequences/NeuralTextures/c23/videos/056_996.mp4  \n",
            "  inflating: /content/manipulated_sequences/NeuralTextures/c23/videos/057_070.mp4  \n",
            "  inflating: /content/manipulated_sequences/NeuralTextures/c23/videos/058_039.mp4  \n",
            "  inflating: /content/manipulated_sequences/NeuralTextures/c23/videos/059_050.mp4  \n",
            "  inflating: /content/manipulated_sequences/NeuralTextures/c23/videos/060_088.mp4  \n",
            "  inflating: /content/manipulated_sequences/NeuralTextures/c23/videos/061_080.mp4  \n",
            "  inflating: /content/manipulated_sequences/NeuralTextures/c23/videos/062_066.mp4  \n",
            "  inflating: /content/manipulated_sequences/NeuralTextures/c23/videos/063_041.mp4  \n",
            "  inflating: /content/manipulated_sequences/NeuralTextures/c23/videos/064_991.mp4  \n",
            "  inflating: /content/manipulated_sequences/NeuralTextures/c23/videos/065_089.mp4  \n",
            "  inflating: /content/manipulated_sequences/NeuralTextures/c23/videos/066_062.mp4  \n",
            "  inflating: /content/manipulated_sequences/NeuralTextures/c23/videos/067_025.mp4  \n",
            "  inflating: /content/manipulated_sequences/NeuralTextures/c23/videos/068_028.mp4  \n",
            "  inflating: /content/manipulated_sequences/NeuralTextures/c23/videos/069_961.mp4  \n",
            "  inflating: /content/manipulated_sequences/NeuralTextures/c23/videos/070_057.mp4  \n",
            "  inflating: /content/manipulated_sequences/NeuralTextures/c23/videos/071_054.mp4  \n",
            "  inflating: /content/manipulated_sequences/NeuralTextures/c23/videos/072_037.mp4  \n",
            "  inflating: /content/manipulated_sequences/NeuralTextures/c23/videos/073_024.mp4  \n",
            "  inflating: /content/manipulated_sequences/NeuralTextures/c23/videos/074_825.mp4  \n",
            "  inflating: /content/manipulated_sequences/NeuralTextures/c23/videos/075_977.mp4  \n",
            "  inflating: /content/manipulated_sequences/NeuralTextures/c23/videos/076_079.mp4  \n",
            "  inflating: /content/manipulated_sequences/NeuralTextures/c23/videos/077_100.mp4  \n",
            "  inflating: /content/manipulated_sequences/NeuralTextures/c23/videos/078_955.mp4  \n",
            "  inflating: /content/manipulated_sequences/NeuralTextures/c23/videos/079_076.mp4  \n",
            "  inflating: /content/manipulated_sequences/NeuralTextures/c23/videos/080_061.mp4  \n",
            "  inflating: /content/manipulated_sequences/NeuralTextures/c23/videos/081_087.mp4  \n",
            "  inflating: /content/manipulated_sequences/NeuralTextures/c23/videos/082_103.mp4  \n",
            "  inflating: /content/manipulated_sequences/NeuralTextures/c23/videos/083_213.mp4  \n",
            "  inflating: /content/manipulated_sequences/NeuralTextures/c23/videos/084_042.mp4  \n",
            "  inflating: /content/manipulated_sequences/NeuralTextures/c23/videos/085_124.mp4  \n",
            "  inflating: /content/manipulated_sequences/NeuralTextures/c23/videos/086_090.mp4  \n",
            "  inflating: /content/manipulated_sequences/NeuralTextures/c23/videos/087_081.mp4  \n",
            "  inflating: /content/manipulated_sequences/NeuralTextures/c23/videos/088_060.mp4  \n",
            "  inflating: /content/manipulated_sequences/NeuralTextures/c23/videos/089_065.mp4  \n",
            "  inflating: /content/manipulated_sequences/NeuralTextures/c23/videos/090_086.mp4  \n",
            "  inflating: /content/manipulated_sequences/NeuralTextures/c23/videos/091_116.mp4  \n",
            "  inflating: /content/manipulated_sequences/NeuralTextures/c23/videos/092_098.mp4  \n",
            "  inflating: /content/manipulated_sequences/NeuralTextures/c23/videos/093_121.mp4  \n",
            "  inflating: /content/manipulated_sequences/NeuralTextures/c23/videos/094_111.mp4  \n",
            "  inflating: /content/manipulated_sequences/NeuralTextures/c23/videos/095_053.mp4  \n",
            "  inflating: /content/manipulated_sequences/NeuralTextures/c23/videos/096_101.mp4  \n",
            "  inflating: /content/manipulated_sequences/NeuralTextures/c23/videos/097_033.mp4  \n",
            "  inflating: /content/manipulated_sequences/NeuralTextures/c23/videos/098_092.mp4  \n",
            "  inflating: /content/manipulated_sequences/NeuralTextures/c23/videos/099_295.mp4  \n",
            "  inflating: /content/manipulated_sequences/NeuralTextures/c23/videos/100_077.mp4  \n",
            "  inflating: /content/manipulated_sequences/NeuralTextures/c23/videos/101_096.mp4  \n",
            "  inflating: /content/manipulated_sequences/NeuralTextures/c23/videos/102_114.mp4  \n",
            "  inflating: /content/manipulated_sequences/NeuralTextures/c23/videos/103_082.mp4  \n",
            "  inflating: /content/manipulated_sequences/NeuralTextures/c23/videos/104_126.mp4  \n",
            "  inflating: /content/manipulated_sequences/NeuralTextures/c23/videos/105_180.mp4  \n",
            "  inflating: /content/manipulated_sequences/NeuralTextures/c23/videos/106_198.mp4  \n",
            "  inflating: /content/manipulated_sequences/NeuralTextures/c23/videos/107_109.mp4  \n",
            "  inflating: /content/manipulated_sequences/NeuralTextures/c23/videos/108_052.mp4  \n",
            "  inflating: /content/manipulated_sequences/NeuralTextures/c23/videos/109_107.mp4  \n",
            "  inflating: /content/manipulated_sequences/NeuralTextures/c23/videos/110_043.mp4  \n",
            "  inflating: /content/manipulated_sequences/NeuralTextures/c23/videos/111_094.mp4  \n",
            "  inflating: /content/manipulated_sequences/NeuralTextures/c23/videos/112_892.mp4  \n",
            "  inflating: /content/manipulated_sequences/NeuralTextures/c23/videos/113_983.mp4  \n",
            "  inflating: /content/manipulated_sequences/NeuralTextures/c23/videos/114_102.mp4  \n",
            "  inflating: /content/manipulated_sequences/NeuralTextures/c23/videos/115_939.mp4  \n",
            "  inflating: /content/manipulated_sequences/NeuralTextures/c23/videos/116_091.mp4  \n",
            "  inflating: /content/manipulated_sequences/NeuralTextures/c23/videos/117_217.mp4  \n",
            "  inflating: /content/manipulated_sequences/NeuralTextures/c23/videos/118_120.mp4  \n",
            "  inflating: /content/manipulated_sequences/NeuralTextures/c23/videos/119_123.mp4  \n",
            "  inflating: /content/manipulated_sequences/NeuralTextures/c23/videos/120_118.mp4  \n",
            "  inflating: /content/manipulated_sequences/NeuralTextures/c23/videos/121_093.mp4  \n",
            "  inflating: /content/manipulated_sequences/NeuralTextures/c23/videos/122_144.mp4  \n",
            "  inflating: /content/manipulated_sequences/NeuralTextures/c23/videos/123_119.mp4  \n",
            "  inflating: /content/manipulated_sequences/NeuralTextures/c23/videos/124_085.mp4  \n",
            "  inflating: /content/manipulated_sequences/NeuralTextures/c23/videos/125_038.mp4  \n",
            "  inflating: /content/manipulated_sequences/NeuralTextures/c23/videos/126_104.mp4  \n",
            "  inflating: /content/manipulated_sequences/NeuralTextures/c23/videos/127_129.mp4  \n",
            "  inflating: /content/manipulated_sequences/NeuralTextures/c23/videos/128_896.mp4  \n",
            "  inflating: /content/manipulated_sequences/NeuralTextures/c23/videos/129_127.mp4  \n",
            "  inflating: /content/manipulated_sequences/NeuralTextures/c23/videos/130_139.mp4  \n",
            "  inflating: /content/manipulated_sequences/NeuralTextures/c23/videos/131_518.mp4  \n",
            "  inflating: /content/manipulated_sequences/NeuralTextures/c23/videos/132_007.mp4  \n",
            "  inflating: /content/manipulated_sequences/NeuralTextures/c23/videos/133_148.mp4  \n",
            "  inflating: /content/manipulated_sequences/NeuralTextures/c23/videos/134_192.mp4  \n",
            "  inflating: /content/manipulated_sequences/NeuralTextures/c23/videos/135_880.mp4  \n",
            "  inflating: /content/manipulated_sequences/NeuralTextures/c23/videos/136_285.mp4  \n",
            "  inflating: /content/manipulated_sequences/NeuralTextures/c23/videos/137_165.mp4  \n",
            "  inflating: /content/manipulated_sequences/NeuralTextures/c23/videos/138_142.mp4  \n",
            "  inflating: /content/manipulated_sequences/NeuralTextures/c23/videos/139_130.mp4  \n",
            "  inflating: /content/manipulated_sequences/NeuralTextures/c23/videos/140_143.mp4  \n",
            "  inflating: /content/manipulated_sequences/NeuralTextures/c23/videos/141_161.mp4  \n",
            "  inflating: /content/manipulated_sequences/NeuralTextures/c23/videos/142_138.mp4  \n",
            "  inflating: /content/manipulated_sequences/NeuralTextures/c23/videos/143_140.mp4  \n",
            "  inflating: /content/manipulated_sequences/NeuralTextures/c23/videos/144_122.mp4  \n",
            "  inflating: /content/manipulated_sequences/NeuralTextures/c23/videos/145_299.mp4  \n",
            "  inflating: /content/manipulated_sequences/NeuralTextures/c23/videos/146_256.mp4  \n",
            "  inflating: /content/manipulated_sequences/NeuralTextures/c23/videos/147_055.mp4  \n",
            "  inflating: /content/manipulated_sequences/NeuralTextures/c23/videos/148_133.mp4  \n",
            "  inflating: /content/manipulated_sequences/NeuralTextures/c23/videos/149_152.mp4  \n",
            "  inflating: /content/manipulated_sequences/NeuralTextures/c23/videos/150_153.mp4  \n",
            "  inflating: /content/manipulated_sequences/NeuralTextures/c23/videos/151_225.mp4  \n",
            "  inflating: /content/manipulated_sequences/NeuralTextures/c23/videos/152_149.mp4  \n",
            "  inflating: /content/manipulated_sequences/NeuralTextures/c23/videos/153_150.mp4  \n",
            "  inflating: /content/manipulated_sequences/NeuralTextures/c23/videos/154_386.mp4  \n",
            "  inflating: /content/manipulated_sequences/NeuralTextures/c23/videos/155_576.mp4  \n",
            "  inflating: /content/manipulated_sequences/NeuralTextures/c23/videos/156_243.mp4  \n",
            "  inflating: /content/manipulated_sequences/NeuralTextures/c23/videos/157_245.mp4  \n",
            "  inflating: /content/manipulated_sequences/NeuralTextures/c23/videos/158_379.mp4  \n",
            "  inflating: /content/manipulated_sequences/NeuralTextures/c23/videos/159_175.mp4  \n",
            "  inflating: /content/manipulated_sequences/NeuralTextures/c23/videos/160_928.mp4  \n",
            "  inflating: /content/manipulated_sequences/NeuralTextures/c23/videos/161_141.mp4  \n",
            "  inflating: /content/manipulated_sequences/NeuralTextures/c23/videos/162_330.mp4  \n",
            "  inflating: /content/manipulated_sequences/NeuralTextures/c23/videos/163_031.mp4  \n",
            "  inflating: /content/manipulated_sequences/NeuralTextures/c23/videos/164_216.mp4  \n",
            "  inflating: /content/manipulated_sequences/NeuralTextures/c23/videos/165_137.mp4  \n",
            "  inflating: /content/manipulated_sequences/NeuralTextures/c23/videos/166_167.mp4  \n",
            "  inflating: /content/manipulated_sequences/NeuralTextures/c23/videos/167_166.mp4  \n",
            "  inflating: /content/manipulated_sequences/NeuralTextures/c23/videos/168_222.mp4  \n",
            "  inflating: /content/manipulated_sequences/NeuralTextures/c23/videos/169_227.mp4  \n",
            "  inflating: /content/manipulated_sequences/NeuralTextures/c23/videos/170_186.mp4  \n",
            "  inflating: /content/manipulated_sequences/NeuralTextures/c23/videos/171_173.mp4  \n",
            "  inflating: /content/manipulated_sequences/NeuralTextures/c23/videos/172_582.mp4  \n",
            "  inflating: /content/manipulated_sequences/NeuralTextures/c23/videos/173_171.mp4  \n",
            "  inflating: /content/manipulated_sequences/NeuralTextures/c23/videos/174_964.mp4  \n",
            "  inflating: /content/manipulated_sequences/NeuralTextures/c23/videos/175_159.mp4  \n",
            "  inflating: /content/manipulated_sequences/NeuralTextures/c23/videos/176_190.mp4  \n",
            "  inflating: /content/manipulated_sequences/NeuralTextures/c23/videos/177_211.mp4  \n",
            "  inflating: /content/manipulated_sequences/NeuralTextures/c23/videos/178_598.mp4  \n",
            "  inflating: /content/manipulated_sequences/NeuralTextures/c23/videos/179_212.mp4  \n",
            "  inflating: /content/manipulated_sequences/NeuralTextures/c23/videos/180_105.mp4  \n",
            "  inflating: /content/manipulated_sequences/NeuralTextures/c23/videos/181_199.mp4  \n",
            "  inflating: /content/manipulated_sequences/NeuralTextures/c23/videos/182_242.mp4  \n",
            "  inflating: /content/manipulated_sequences/NeuralTextures/c23/videos/183_253.mp4  \n",
            "  inflating: /content/manipulated_sequences/NeuralTextures/c23/videos/184_205.mp4  \n",
            "  inflating: /content/manipulated_sequences/NeuralTextures/c23/videos/185_276.mp4  \n",
            "  inflating: /content/manipulated_sequences/NeuralTextures/c23/videos/186_170.mp4  \n",
            "  inflating: /content/manipulated_sequences/NeuralTextures/c23/videos/187_234.mp4  \n",
            "  inflating: /content/manipulated_sequences/NeuralTextures/c23/videos/188_191.mp4  \n",
            "  inflating: /content/manipulated_sequences/NeuralTextures/c23/videos/189_200.mp4  \n",
            "  inflating: /content/manipulated_sequences/NeuralTextures/c23/videos/190_176.mp4  \n",
            "  inflating: /content/manipulated_sequences/NeuralTextures/c23/videos/191_188.mp4  \n",
            "  inflating: /content/manipulated_sequences/NeuralTextures/c23/videos/192_134.mp4  \n",
            "  inflating: /content/manipulated_sequences/NeuralTextures/c23/videos/193_030.mp4  \n",
            "  inflating: /content/manipulated_sequences/NeuralTextures/c23/videos/194_235.mp4  \n",
            "  inflating: /content/manipulated_sequences/NeuralTextures/c23/videos/195_442.mp4  \n",
            "  inflating: /content/manipulated_sequences/NeuralTextures/c23/videos/196_310.mp4  \n",
            "  inflating: /content/manipulated_sequences/NeuralTextures/c23/videos/197_224.mp4  \n",
            "  inflating: /content/manipulated_sequences/NeuralTextures/c23/videos/198_106.mp4  \n",
            "  inflating: /content/manipulated_sequences/NeuralTextures/c23/videos/199_181.mp4  \n",
            "  inflating: /content/manipulated_sequences/NeuralTextures/c23/videos/200_189.mp4  \n",
            "  inflating: /content/manipulated_sequences/NeuralTextures/c23/videos/201_203.mp4  \n",
            "  inflating: /content/manipulated_sequences/NeuralTextures/c23/videos/202_348.mp4  \n",
            "  inflating: /content/manipulated_sequences/NeuralTextures/c23/videos/203_201.mp4  \n",
            "  inflating: /content/manipulated_sequences/NeuralTextures/c23/videos/204_230.mp4  \n",
            "  inflating: /content/manipulated_sequences/NeuralTextures/c23/videos/205_184.mp4  \n",
            "  inflating: /content/manipulated_sequences/NeuralTextures/c23/videos/206_221.mp4  \n",
            "  inflating: /content/manipulated_sequences/NeuralTextures/c23/videos/207_908.mp4  \n",
            "  inflating: /content/manipulated_sequences/NeuralTextures/c23/videos/208_215.mp4  \n",
            "  inflating: /content/manipulated_sequences/NeuralTextures/c23/videos/209_016.mp4  \n",
            "  inflating: /content/manipulated_sequences/NeuralTextures/c23/videos/210_241.mp4  \n",
            "  inflating: /content/manipulated_sequences/NeuralTextures/c23/videos/211_177.mp4  \n",
            "  inflating: /content/manipulated_sequences/NeuralTextures/c23/videos/212_179.mp4  \n",
            "  inflating: /content/manipulated_sequences/NeuralTextures/c23/videos/213_083.mp4  \n",
            "  inflating: /content/manipulated_sequences/NeuralTextures/c23/videos/214_255.mp4  \n",
            "  inflating: /content/manipulated_sequences/NeuralTextures/c23/videos/215_208.mp4  \n",
            "  inflating: /content/manipulated_sequences/NeuralTextures/c23/videos/216_164.mp4  \n",
            "  inflating: /content/manipulated_sequences/NeuralTextures/c23/videos/217_117.mp4  \n",
            "  inflating: /content/manipulated_sequences/NeuralTextures/c23/videos/218_239.mp4  \n",
            "  inflating: /content/manipulated_sequences/NeuralTextures/c23/videos/219_220.mp4  \n",
            "  inflating: /content/manipulated_sequences/NeuralTextures/c23/videos/220_219.mp4  \n",
            "  inflating: /content/manipulated_sequences/NeuralTextures/c23/videos/221_206.mp4  \n",
            "  inflating: /content/manipulated_sequences/NeuralTextures/c23/videos/222_168.mp4  \n",
            "  inflating: /content/manipulated_sequences/NeuralTextures/c23/videos/223_586.mp4  \n",
            "  inflating: /content/manipulated_sequences/NeuralTextures/c23/videos/224_197.mp4  \n",
            "  inflating: /content/manipulated_sequences/NeuralTextures/c23/videos/225_151.mp4  \n",
            "  inflating: /content/manipulated_sequences/NeuralTextures/c23/videos/226_491.mp4  \n",
            "  inflating: /content/manipulated_sequences/NeuralTextures/c23/videos/227_169.mp4  \n",
            "  inflating: /content/manipulated_sequences/NeuralTextures/c23/videos/228_289.mp4  \n",
            "  inflating: /content/manipulated_sequences/NeuralTextures/c23/videos/229_247.mp4  \n",
            "  inflating: /content/manipulated_sequences/NeuralTextures/c23/videos/230_204.mp4  \n",
            "  inflating: /content/manipulated_sequences/NeuralTextures/c23/videos/231_663.mp4  \n",
            "  inflating: /content/manipulated_sequences/NeuralTextures/c23/videos/232_248.mp4  \n",
            "  inflating: /content/manipulated_sequences/NeuralTextures/c23/videos/233_995.mp4  \n",
            "  inflating: /content/manipulated_sequences/NeuralTextures/c23/videos/234_187.mp4  \n",
            "  inflating: /content/manipulated_sequences/NeuralTextures/c23/videos/235_194.mp4  \n",
            "  inflating: /content/manipulated_sequences/NeuralTextures/c23/videos/236_237.mp4  \n",
            "  inflating: /content/manipulated_sequences/NeuralTextures/c23/videos/237_236.mp4  \n",
            "  inflating: /content/manipulated_sequences/NeuralTextures/c23/videos/238_282.mp4  \n",
            "  inflating: /content/manipulated_sequences/NeuralTextures/c23/videos/239_218.mp4  \n",
            "  inflating: /content/manipulated_sequences/NeuralTextures/c23/videos/240_290.mp4  \n",
            "  inflating: /content/manipulated_sequences/NeuralTextures/c23/videos/241_210.mp4  \n",
            "  inflating: /content/manipulated_sequences/NeuralTextures/c23/videos/242_182.mp4  \n",
            "  inflating: /content/manipulated_sequences/NeuralTextures/c23/videos/243_156.mp4  \n",
            "  inflating: /content/manipulated_sequences/NeuralTextures/c23/videos/244_822.mp4  \n",
            "  inflating: /content/manipulated_sequences/NeuralTextures/c23/videos/245_157.mp4  \n",
            "  inflating: /content/manipulated_sequences/NeuralTextures/c23/videos/246_258.mp4  \n",
            "  inflating: /content/manipulated_sequences/NeuralTextures/c23/videos/247_229.mp4  \n",
            "  inflating: /content/manipulated_sequences/NeuralTextures/c23/videos/248_232.mp4  \n",
            "  inflating: /content/manipulated_sequences/NeuralTextures/c23/videos/249_280.mp4  \n",
            "  inflating: /content/manipulated_sequences/NeuralTextures/c23/videos/250_461.mp4  \n",
            "  inflating: /content/manipulated_sequences/NeuralTextures/c23/videos/251_375.mp4  \n",
            "  inflating: /content/manipulated_sequences/NeuralTextures/c23/videos/252_266.mp4  \n",
            "  inflating: /content/manipulated_sequences/NeuralTextures/c23/videos/253_183.mp4  \n",
            "  inflating: /content/manipulated_sequences/NeuralTextures/c23/videos/254_261.mp4  \n",
            "  inflating: /content/manipulated_sequences/NeuralTextures/c23/videos/255_214.mp4  \n",
            "  inflating: /content/manipulated_sequences/NeuralTextures/c23/videos/256_146.mp4  \n",
            "  inflating: /content/manipulated_sequences/NeuralTextures/c23/videos/257_420.mp4  \n",
            "  inflating: /content/manipulated_sequences/NeuralTextures/c23/videos/258_246.mp4  \n",
            "  inflating: /content/manipulated_sequences/NeuralTextures/c23/videos/259_345.mp4  \n",
            "  inflating: /content/manipulated_sequences/NeuralTextures/c23/videos/260_331.mp4  \n",
            "  inflating: /content/manipulated_sequences/NeuralTextures/c23/videos/261_254.mp4  \n",
            "  inflating: /content/manipulated_sequences/NeuralTextures/c23/videos/262_301.mp4  \n",
            "  inflating: /content/manipulated_sequences/NeuralTextures/c23/videos/263_284.mp4  \n",
            "  inflating: /content/manipulated_sequences/NeuralTextures/c23/videos/264_271.mp4  \n",
            "  inflating: /content/manipulated_sequences/NeuralTextures/c23/videos/265_475.mp4  \n",
            "  inflating: /content/manipulated_sequences/NeuralTextures/c23/videos/266_252.mp4  \n",
            "  inflating: /content/manipulated_sequences/NeuralTextures/c23/videos/267_286.mp4  \n",
            "  inflating: /content/manipulated_sequences/NeuralTextures/c23/videos/268_269.mp4  \n",
            "  inflating: /content/manipulated_sequences/NeuralTextures/c23/videos/269_268.mp4  \n",
            "  inflating: /content/manipulated_sequences/NeuralTextures/c23/videos/270_297.mp4  \n",
            "  inflating: /content/manipulated_sequences/NeuralTextures/c23/videos/271_264.mp4  \n",
            "  inflating: /content/manipulated_sequences/NeuralTextures/c23/videos/272_396.mp4  \n",
            "  inflating: /content/manipulated_sequences/NeuralTextures/c23/videos/273_807.mp4  \n",
            "  inflating: /content/manipulated_sequences/NeuralTextures/c23/videos/274_412.mp4  \n",
            "  inflating: /content/manipulated_sequences/NeuralTextures/c23/videos/275_887.mp4  \n",
            "  inflating: /content/manipulated_sequences/NeuralTextures/c23/videos/276_185.mp4  \n",
            "  inflating: /content/manipulated_sequences/NeuralTextures/c23/videos/277_335.mp4  \n",
            "  inflating: /content/manipulated_sequences/NeuralTextures/c23/videos/278_306.mp4  \n",
            "  inflating: /content/manipulated_sequences/NeuralTextures/c23/videos/279_298.mp4  \n",
            "  inflating: /content/manipulated_sequences/NeuralTextures/c23/videos/280_249.mp4  \n",
            "  inflating: /content/manipulated_sequences/NeuralTextures/c23/videos/281_474.mp4  \n",
            "  inflating: /content/manipulated_sequences/NeuralTextures/c23/videos/282_238.mp4  \n",
            "  inflating: /content/manipulated_sequences/NeuralTextures/c23/videos/283_313.mp4  \n",
            "  inflating: /content/manipulated_sequences/NeuralTextures/c23/videos/284_263.mp4  \n",
            "  inflating: /content/manipulated_sequences/NeuralTextures/c23/videos/285_136.mp4  \n",
            "  inflating: /content/manipulated_sequences/NeuralTextures/c23/videos/286_267.mp4  \n",
            "  inflating: /content/manipulated_sequences/NeuralTextures/c23/videos/287_426.mp4  \n",
            "  inflating: /content/manipulated_sequences/NeuralTextures/c23/videos/288_321.mp4  \n",
            "  inflating: /content/manipulated_sequences/NeuralTextures/c23/videos/289_228.mp4  \n",
            "  inflating: /content/manipulated_sequences/NeuralTextures/c23/videos/290_240.mp4  \n",
            "  inflating: /content/manipulated_sequences/NeuralTextures/c23/videos/291_874.mp4  \n",
            "  inflating: /content/manipulated_sequences/NeuralTextures/c23/videos/292_294.mp4  \n",
            "  inflating: /content/manipulated_sequences/NeuralTextures/c23/videos/293_296.mp4  \n",
            "  inflating: /content/manipulated_sequences/NeuralTextures/c23/videos/294_292.mp4  \n",
            "  inflating: /content/manipulated_sequences/NeuralTextures/c23/videos/295_099.mp4  \n",
            "  inflating: /content/manipulated_sequences/NeuralTextures/c23/videos/296_293.mp4  \n",
            "  inflating: /content/manipulated_sequences/NeuralTextures/c23/videos/297_270.mp4  \n",
            "  inflating: /content/manipulated_sequences/NeuralTextures/c23/videos/298_279.mp4  \n",
            "  inflating: /content/manipulated_sequences/NeuralTextures/c23/videos/299_145.mp4  \n",
            "  inflating: /content/manipulated_sequences/NeuralTextures/c23/videos/300_304.mp4  \n",
            "  inflating: /content/manipulated_sequences/NeuralTextures/c23/videos/301_262.mp4  \n",
            "  inflating: /content/manipulated_sequences/NeuralTextures/c23/videos/302_323.mp4  \n",
            "  inflating: /content/manipulated_sequences/NeuralTextures/c23/videos/303_309.mp4  \n",
            "  inflating: /content/manipulated_sequences/NeuralTextures/c23/videos/304_300.mp4  \n",
            "  inflating: /content/manipulated_sequences/NeuralTextures/c23/videos/305_513.mp4  \n",
            "  inflating: /content/manipulated_sequences/NeuralTextures/c23/videos/306_278.mp4  \n",
            "  inflating: /content/manipulated_sequences/NeuralTextures/c23/videos/307_365.mp4  \n",
            "  inflating: /content/manipulated_sequences/NeuralTextures/c23/videos/308_388.mp4  \n",
            "  inflating: /content/manipulated_sequences/NeuralTextures/c23/videos/309_303.mp4  \n",
            "  inflating: /content/manipulated_sequences/NeuralTextures/c23/videos/310_196.mp4  \n",
            "  inflating: /content/manipulated_sequences/NeuralTextures/c23/videos/311_387.mp4  \n",
            "  inflating: /content/manipulated_sequences/NeuralTextures/c23/videos/312_021.mp4  \n",
            "  inflating: /content/manipulated_sequences/NeuralTextures/c23/videos/313_283.mp4  \n",
            "  inflating: /content/manipulated_sequences/NeuralTextures/c23/videos/314_347.mp4  \n",
            "  inflating: /content/manipulated_sequences/NeuralTextures/c23/videos/315_322.mp4  \n",
            "  inflating: /content/manipulated_sequences/NeuralTextures/c23/videos/316_369.mp4  \n",
            "  inflating: /content/manipulated_sequences/NeuralTextures/c23/videos/317_359.mp4  \n",
            "  inflating: /content/manipulated_sequences/NeuralTextures/c23/videos/318_334.mp4  \n",
            "  inflating: /content/manipulated_sequences/NeuralTextures/c23/videos/319_352.mp4  \n",
            "  inflating: /content/manipulated_sequences/NeuralTextures/c23/videos/320_328.mp4  \n",
            "  inflating: /content/manipulated_sequences/NeuralTextures/c23/videos/321_288.mp4  \n",
            "  inflating: /content/manipulated_sequences/NeuralTextures/c23/videos/322_315.mp4  \n",
            "  inflating: /content/manipulated_sequences/NeuralTextures/c23/videos/323_302.mp4  \n",
            "  inflating: /content/manipulated_sequences/NeuralTextures/c23/videos/324_356.mp4  \n",
            "  inflating: /content/manipulated_sequences/NeuralTextures/c23/videos/325_492.mp4  \n",
            "  inflating: /content/manipulated_sequences/NeuralTextures/c23/videos/326_501.mp4  \n",
            "  inflating: /content/manipulated_sequences/NeuralTextures/c23/videos/327_329.mp4  \n",
            "  inflating: /content/manipulated_sequences/NeuralTextures/c23/videos/328_320.mp4  \n",
            "  inflating: /content/manipulated_sequences/NeuralTextures/c23/videos/329_327.mp4  \n",
            "  inflating: /content/manipulated_sequences/NeuralTextures/c23/videos/330_162.mp4  \n",
            "  inflating: /content/manipulated_sequences/NeuralTextures/c23/videos/331_260.mp4  \n",
            "  inflating: /content/manipulated_sequences/NeuralTextures/c23/videos/332_051.mp4  \n",
            "  inflating: /content/manipulated_sequences/NeuralTextures/c23/videos/333_377.mp4  \n",
            "  inflating: /content/manipulated_sequences/NeuralTextures/c23/videos/334_318.mp4  \n",
            "  inflating: /content/manipulated_sequences/NeuralTextures/c23/videos/335_277.mp4  \n",
            "  inflating: /content/manipulated_sequences/NeuralTextures/c23/videos/336_338.mp4  \n",
            "  inflating: /content/manipulated_sequences/NeuralTextures/c23/videos/337_522.mp4  \n",
            "  inflating: /content/manipulated_sequences/NeuralTextures/c23/videos/338_336.mp4  \n",
            "  inflating: /content/manipulated_sequences/NeuralTextures/c23/videos/339_392.mp4  \n",
            "  inflating: /content/manipulated_sequences/NeuralTextures/c23/videos/340_341.mp4  \n",
            "  inflating: /content/manipulated_sequences/NeuralTextures/c23/videos/341_340.mp4  \n",
            "  inflating: /content/manipulated_sequences/NeuralTextures/c23/videos/342_416.mp4  \n",
            "  inflating: /content/manipulated_sequences/NeuralTextures/c23/videos/343_363.mp4  \n",
            "  inflating: /content/manipulated_sequences/NeuralTextures/c23/videos/344_020.mp4  \n",
            "  inflating: /content/manipulated_sequences/NeuralTextures/c23/videos/345_259.mp4  \n",
            "  inflating: /content/manipulated_sequences/NeuralTextures/c23/videos/346_351.mp4  \n",
            "  inflating: /content/manipulated_sequences/NeuralTextures/c23/videos/347_314.mp4  \n",
            "  inflating: /content/manipulated_sequences/NeuralTextures/c23/videos/348_202.mp4  \n",
            "  inflating: /content/manipulated_sequences/NeuralTextures/c23/videos/349_350.mp4  \n",
            "  inflating: /content/manipulated_sequences/NeuralTextures/c23/videos/350_349.mp4  \n",
            "  inflating: /content/manipulated_sequences/NeuralTextures/c23/videos/351_346.mp4  \n",
            "  inflating: /content/manipulated_sequences/NeuralTextures/c23/videos/352_319.mp4  \n",
            "  inflating: /content/manipulated_sequences/NeuralTextures/c23/videos/353_383.mp4  \n",
            "  inflating: /content/manipulated_sequences/NeuralTextures/c23/videos/354_362.mp4  \n",
            "  inflating: /content/manipulated_sequences/NeuralTextures/c23/videos/355_748.mp4  \n",
            "  inflating: /content/manipulated_sequences/NeuralTextures/c23/videos/356_324.mp4  \n",
            "  inflating: /content/manipulated_sequences/NeuralTextures/c23/videos/357_432.mp4  \n",
            "  inflating: /content/manipulated_sequences/NeuralTextures/c23/videos/358_380.mp4  \n",
            "  inflating: /content/manipulated_sequences/NeuralTextures/c23/videos/359_317.mp4  \n",
            "  inflating: /content/manipulated_sequences/NeuralTextures/c23/videos/360_437.mp4  \n",
            "  inflating: /content/manipulated_sequences/NeuralTextures/c23/videos/361_448.mp4  \n",
            "  inflating: /content/manipulated_sequences/NeuralTextures/c23/videos/362_354.mp4  \n",
            "  inflating: /content/manipulated_sequences/NeuralTextures/c23/videos/363_343.mp4  \n",
            "  inflating: /content/manipulated_sequences/NeuralTextures/c23/videos/364_440.mp4  \n",
            "  inflating: /content/manipulated_sequences/NeuralTextures/c23/videos/365_307.mp4  \n",
            "  inflating: /content/manipulated_sequences/NeuralTextures/c23/videos/366_473.mp4  \n",
            "  inflating: /content/manipulated_sequences/NeuralTextures/c23/videos/367_371.mp4  \n",
            "  inflating: /content/manipulated_sequences/NeuralTextures/c23/videos/368_378.mp4  \n",
            "  inflating: /content/manipulated_sequences/NeuralTextures/c23/videos/369_316.mp4  \n",
            "  inflating: /content/manipulated_sequences/NeuralTextures/c23/videos/370_483.mp4  \n",
            "  inflating: /content/manipulated_sequences/NeuralTextures/c23/videos/371_367.mp4  \n",
            "  inflating: /content/manipulated_sequences/NeuralTextures/c23/videos/372_413.mp4  \n",
            "  inflating: /content/manipulated_sequences/NeuralTextures/c23/videos/373_394.mp4  \n",
            "  inflating: /content/manipulated_sequences/NeuralTextures/c23/videos/374_407.mp4  \n",
            "  inflating: /content/manipulated_sequences/NeuralTextures/c23/videos/375_251.mp4  \n",
            "  inflating: /content/manipulated_sequences/NeuralTextures/c23/videos/376_381.mp4  \n",
            "  inflating: /content/manipulated_sequences/NeuralTextures/c23/videos/377_333.mp4  \n",
            "  inflating: /content/manipulated_sequences/NeuralTextures/c23/videos/378_368.mp4  \n",
            "  inflating: /content/manipulated_sequences/NeuralTextures/c23/videos/379_158.mp4  \n",
            "  inflating: /content/manipulated_sequences/NeuralTextures/c23/videos/380_358.mp4  \n",
            "  inflating: /content/manipulated_sequences/NeuralTextures/c23/videos/381_376.mp4  \n",
            "  inflating: /content/manipulated_sequences/NeuralTextures/c23/videos/382_409.mp4  \n",
            "  inflating: /content/manipulated_sequences/NeuralTextures/c23/videos/383_353.mp4  \n",
            "  inflating: /content/manipulated_sequences/NeuralTextures/c23/videos/384_932.mp4  \n",
            "  inflating: /content/manipulated_sequences/NeuralTextures/c23/videos/385_414.mp4  \n",
            "  inflating: /content/manipulated_sequences/NeuralTextures/c23/videos/386_154.mp4  \n",
            "  inflating: /content/manipulated_sequences/NeuralTextures/c23/videos/387_311.mp4  \n",
            "  inflating: /content/manipulated_sequences/NeuralTextures/c23/videos/388_308.mp4  \n",
            "  inflating: /content/manipulated_sequences/NeuralTextures/c23/videos/389_480.mp4  \n",
            "  inflating: /content/manipulated_sequences/NeuralTextures/c23/videos/390_709.mp4  \n",
            "  inflating: /content/manipulated_sequences/NeuralTextures/c23/videos/391_406.mp4  \n",
            "  inflating: /content/manipulated_sequences/NeuralTextures/c23/videos/392_339.mp4  \n",
            "  inflating: /content/manipulated_sequences/NeuralTextures/c23/videos/393_405.mp4  \n",
            "  inflating: /content/manipulated_sequences/NeuralTextures/c23/videos/394_373.mp4  \n",
            "  inflating: /content/manipulated_sequences/NeuralTextures/c23/videos/395_401.mp4  \n",
            "  inflating: /content/manipulated_sequences/NeuralTextures/c23/videos/396_272.mp4  \n",
            "  inflating: /content/manipulated_sequences/NeuralTextures/c23/videos/397_602.mp4  \n",
            "  inflating: /content/manipulated_sequences/NeuralTextures/c23/videos/398_457.mp4  \n",
            "  inflating: /content/manipulated_sequences/NeuralTextures/c23/videos/399_488.mp4  \n",
            "  inflating: /content/manipulated_sequences/NeuralTextures/c23/videos/400_476.mp4  \n",
            "  inflating: /content/manipulated_sequences/NeuralTextures/c23/videos/401_395.mp4  \n",
            "  inflating: /content/manipulated_sequences/NeuralTextures/c23/videos/402_453.mp4  \n",
            "  inflating: /content/manipulated_sequences/NeuralTextures/c23/videos/403_497.mp4  \n",
            "  inflating: /content/manipulated_sequences/NeuralTextures/c23/videos/404_429.mp4  \n",
            "  inflating: /content/manipulated_sequences/NeuralTextures/c23/videos/405_393.mp4  \n",
            "  inflating: /content/manipulated_sequences/NeuralTextures/c23/videos/406_391.mp4  \n",
            "  inflating: /content/manipulated_sequences/NeuralTextures/c23/videos/407_374.mp4  \n",
            "  inflating: /content/manipulated_sequences/NeuralTextures/c23/videos/408_424.mp4  \n",
            "  inflating: /content/manipulated_sequences/NeuralTextures/c23/videos/409_382.mp4  \n",
            "  inflating: /content/manipulated_sequences/NeuralTextures/c23/videos/410_411.mp4  \n",
            "  inflating: /content/manipulated_sequences/NeuralTextures/c23/videos/411_410.mp4  \n",
            "  inflating: /content/manipulated_sequences/NeuralTextures/c23/videos/412_274.mp4  \n",
            "  inflating: /content/manipulated_sequences/NeuralTextures/c23/videos/413_372.mp4  \n",
            "  inflating: /content/manipulated_sequences/NeuralTextures/c23/videos/414_385.mp4  \n",
            "  inflating: /content/manipulated_sequences/NeuralTextures/c23/videos/415_484.mp4  \n",
            "  inflating: /content/manipulated_sequences/NeuralTextures/c23/videos/416_342.mp4  \n",
            "  inflating: /content/manipulated_sequences/NeuralTextures/c23/videos/417_496.mp4  \n",
            "  inflating: /content/manipulated_sequences/NeuralTextures/c23/videos/418_507.mp4  \n",
            "  inflating: /content/manipulated_sequences/NeuralTextures/c23/videos/419_824.mp4  \n",
            "  inflating: /content/manipulated_sequences/NeuralTextures/c23/videos/420_257.mp4  \n",
            "  inflating: /content/manipulated_sequences/NeuralTextures/c23/videos/421_423.mp4  \n",
            "  inflating: /content/manipulated_sequences/NeuralTextures/c23/videos/422_695.mp4  \n",
            "  inflating: /content/manipulated_sequences/NeuralTextures/c23/videos/423_421.mp4  \n",
            "  inflating: /content/manipulated_sequences/NeuralTextures/c23/videos/424_408.mp4  \n",
            "  inflating: /content/manipulated_sequences/NeuralTextures/c23/videos/425_485.mp4  \n",
            "  inflating: /content/manipulated_sequences/NeuralTextures/c23/videos/426_287.mp4  \n",
            "  inflating: /content/manipulated_sequences/NeuralTextures/c23/videos/427_637.mp4  \n",
            "  inflating: /content/manipulated_sequences/NeuralTextures/c23/videos/428_466.mp4  \n",
            "  inflating: /content/manipulated_sequences/NeuralTextures/c23/videos/429_404.mp4  \n",
            "  inflating: /content/manipulated_sequences/NeuralTextures/c23/videos/430_459.mp4  \n",
            "  inflating: /content/manipulated_sequences/NeuralTextures/c23/videos/431_447.mp4  \n",
            "  inflating: /content/manipulated_sequences/NeuralTextures/c23/videos/432_357.mp4  \n",
            "  inflating: /content/manipulated_sequences/NeuralTextures/c23/videos/433_498.mp4  \n",
            "  inflating: /content/manipulated_sequences/NeuralTextures/c23/videos/434_438.mp4  \n",
            "  inflating: /content/manipulated_sequences/NeuralTextures/c23/videos/435_456.mp4  \n",
            "  inflating: /content/manipulated_sequences/NeuralTextures/c23/videos/436_526.mp4  \n",
            "  inflating: /content/manipulated_sequences/NeuralTextures/c23/videos/437_360.mp4  \n",
            "  inflating: /content/manipulated_sequences/NeuralTextures/c23/videos/438_434.mp4  \n",
            "  inflating: /content/manipulated_sequences/NeuralTextures/c23/videos/439_441.mp4  \n",
            "  inflating: /content/manipulated_sequences/NeuralTextures/c23/videos/440_364.mp4  \n",
            "  inflating: /content/manipulated_sequences/NeuralTextures/c23/videos/441_439.mp4  \n",
            "  inflating: /content/manipulated_sequences/NeuralTextures/c23/videos/442_195.mp4  \n",
            "  inflating: /content/manipulated_sequences/NeuralTextures/c23/videos/443_514.mp4  \n",
            "  inflating: /content/manipulated_sequences/NeuralTextures/c23/videos/444_655.mp4  \n",
            "  inflating: /content/manipulated_sequences/NeuralTextures/c23/videos/445_494.mp4  \n",
            "  inflating: /content/manipulated_sequences/NeuralTextures/c23/videos/446_667.mp4  \n",
            "  inflating: /content/manipulated_sequences/NeuralTextures/c23/videos/447_431.mp4  \n",
            "  inflating: /content/manipulated_sequences/NeuralTextures/c23/videos/448_361.mp4  \n",
            "  inflating: /content/manipulated_sequences/NeuralTextures/c23/videos/449_451.mp4  \n",
            "  inflating: /content/manipulated_sequences/NeuralTextures/c23/videos/450_533.mp4  \n",
            "  inflating: /content/manipulated_sequences/NeuralTextures/c23/videos/451_449.mp4  \n",
            "  inflating: /content/manipulated_sequences/NeuralTextures/c23/videos/452_550.mp4  \n",
            "  inflating: /content/manipulated_sequences/NeuralTextures/c23/videos/453_402.mp4  \n",
            "  inflating: /content/manipulated_sequences/NeuralTextures/c23/videos/454_527.mp4  \n",
            "  inflating: /content/manipulated_sequences/NeuralTextures/c23/videos/455_471.mp4  \n",
            "  inflating: /content/manipulated_sequences/NeuralTextures/c23/videos/456_435.mp4  \n",
            "  inflating: /content/manipulated_sequences/NeuralTextures/c23/videos/457_398.mp4  \n",
            "  inflating: /content/manipulated_sequences/NeuralTextures/c23/videos/458_722.mp4  \n",
            "  inflating: /content/manipulated_sequences/NeuralTextures/c23/videos/459_430.mp4  \n",
            "  inflating: /content/manipulated_sequences/NeuralTextures/c23/videos/460_678.mp4  \n",
            "  inflating: /content/manipulated_sequences/NeuralTextures/c23/videos/461_250.mp4  \n",
            "  inflating: /content/manipulated_sequences/NeuralTextures/c23/videos/462_467.mp4  \n",
            "  inflating: /content/manipulated_sequences/NeuralTextures/c23/videos/463_464.mp4  \n",
            "  inflating: /content/manipulated_sequences/NeuralTextures/c23/videos/464_463.mp4  \n",
            "  inflating: /content/manipulated_sequences/NeuralTextures/c23/videos/465_482.mp4  \n",
            "  inflating: /content/manipulated_sequences/NeuralTextures/c23/videos/466_428.mp4  \n",
            "  inflating: /content/manipulated_sequences/NeuralTextures/c23/videos/467_462.mp4  \n",
            "  inflating: /content/manipulated_sequences/NeuralTextures/c23/videos/468_470.mp4  \n",
            "  inflating: /content/manipulated_sequences/NeuralTextures/c23/videos/469_481.mp4  \n",
            "  inflating: /content/manipulated_sequences/NeuralTextures/c23/videos/470_468.mp4  \n",
            "  inflating: /content/manipulated_sequences/NeuralTextures/c23/videos/471_455.mp4  \n",
            "  inflating: /content/manipulated_sequences/NeuralTextures/c23/videos/472_511.mp4  \n",
            "  inflating: /content/manipulated_sequences/NeuralTextures/c23/videos/473_366.mp4  \n",
            "  inflating: /content/manipulated_sequences/NeuralTextures/c23/videos/474_281.mp4  \n",
            "  inflating: /content/manipulated_sequences/NeuralTextures/c23/videos/475_265.mp4  \n",
            "  inflating: /content/manipulated_sequences/NeuralTextures/c23/videos/476_400.mp4  \n",
            "  inflating: /content/manipulated_sequences/NeuralTextures/c23/videos/477_487.mp4  \n",
            "  inflating: /content/manipulated_sequences/NeuralTextures/c23/videos/478_506.mp4  \n",
            "  inflating: /content/manipulated_sequences/NeuralTextures/c23/videos/479_706.mp4  \n",
            "  inflating: /content/manipulated_sequences/NeuralTextures/c23/videos/480_389.mp4  \n",
            "  inflating: /content/manipulated_sequences/NeuralTextures/c23/videos/481_469.mp4  \n",
            "  inflating: /content/manipulated_sequences/NeuralTextures/c23/videos/482_465.mp4  \n",
            "  inflating: /content/manipulated_sequences/NeuralTextures/c23/videos/483_370.mp4  \n",
            "  inflating: /content/manipulated_sequences/NeuralTextures/c23/videos/484_415.mp4  \n",
            "  inflating: /content/manipulated_sequences/NeuralTextures/c23/videos/485_425.mp4  \n",
            "  inflating: /content/manipulated_sequences/NeuralTextures/c23/videos/486_680.mp4  \n",
            "  inflating: /content/manipulated_sequences/NeuralTextures/c23/videos/487_477.mp4  \n",
            "  inflating: /content/manipulated_sequences/NeuralTextures/c23/videos/488_399.mp4  \n",
            "  inflating: /content/manipulated_sequences/NeuralTextures/c23/videos/489_022.mp4  \n",
            "  inflating: /content/manipulated_sequences/NeuralTextures/c23/videos/490_534.mp4  \n",
            "  inflating: /content/manipulated_sequences/NeuralTextures/c23/videos/491_226.mp4  \n",
            "  inflating: /content/manipulated_sequences/NeuralTextures/c23/videos/492_325.mp4  \n",
            "  inflating: /content/manipulated_sequences/NeuralTextures/c23/videos/493_538.mp4  \n",
            "  inflating: /content/manipulated_sequences/NeuralTextures/c23/videos/494_445.mp4  \n",
            "  inflating: /content/manipulated_sequences/NeuralTextures/c23/videos/495_512.mp4  \n",
            "  inflating: /content/manipulated_sequences/NeuralTextures/c23/videos/496_417.mp4  \n",
            "  inflating: /content/manipulated_sequences/NeuralTextures/c23/videos/497_403.mp4  \n",
            "  inflating: /content/manipulated_sequences/NeuralTextures/c23/videos/498_433.mp4  \n",
            "  inflating: /content/manipulated_sequences/NeuralTextures/c23/videos/499_539.mp4  \n",
            "  inflating: /content/manipulated_sequences/NeuralTextures/c23/videos/500_592.mp4  \n",
            "  inflating: /content/manipulated_sequences/NeuralTextures/c23/videos/501_326.mp4  \n",
            "  inflating: /content/manipulated_sequences/NeuralTextures/c23/videos/502_504.mp4  \n",
            "  inflating: /content/manipulated_sequences/NeuralTextures/c23/videos/503_756.mp4  \n",
            "  inflating: /content/manipulated_sequences/NeuralTextures/c23/videos/504_502.mp4  \n",
            "  inflating: /content/manipulated_sequences/NeuralTextures/c23/videos/505_600.mp4  \n",
            "  inflating: /content/manipulated_sequences/NeuralTextures/c23/videos/506_478.mp4  \n",
            "  inflating: /content/manipulated_sequences/NeuralTextures/c23/videos/507_418.mp4  \n",
            "  inflating: /content/manipulated_sequences/NeuralTextures/c23/videos/508_831.mp4  \n",
            "  inflating: /content/manipulated_sequences/NeuralTextures/c23/videos/509_525.mp4  \n",
            "  inflating: /content/manipulated_sequences/NeuralTextures/c23/videos/510_528.mp4  \n",
            "  inflating: /content/manipulated_sequences/NeuralTextures/c23/videos/511_472.mp4  \n",
            "  inflating: /content/manipulated_sequences/NeuralTextures/c23/videos/512_495.mp4  \n",
            "  inflating: /content/manipulated_sequences/NeuralTextures/c23/videos/513_305.mp4  \n",
            "  inflating: /content/manipulated_sequences/NeuralTextures/c23/videos/514_443.mp4  \n",
            "  inflating: /content/manipulated_sequences/NeuralTextures/c23/videos/515_519.mp4  \n",
            "  inflating: /content/manipulated_sequences/NeuralTextures/c23/videos/516_555.mp4  \n",
            "  inflating: /content/manipulated_sequences/NeuralTextures/c23/videos/517_521.mp4  \n",
            "  inflating: /content/manipulated_sequences/NeuralTextures/c23/videos/518_131.mp4  \n",
            "  inflating: /content/manipulated_sequences/NeuralTextures/c23/videos/519_515.mp4  \n",
            "  inflating: /content/manipulated_sequences/NeuralTextures/c23/videos/520_542.mp4  \n",
            "  inflating: /content/manipulated_sequences/NeuralTextures/c23/videos/521_517.mp4  \n",
            "  inflating: /content/manipulated_sequences/NeuralTextures/c23/videos/522_337.mp4  \n",
            "  inflating: /content/manipulated_sequences/NeuralTextures/c23/videos/523_541.mp4  \n",
            "  inflating: /content/manipulated_sequences/NeuralTextures/c23/videos/524_580.mp4  \n",
            "  inflating: /content/manipulated_sequences/NeuralTextures/c23/videos/525_509.mp4  \n",
            "  inflating: /content/manipulated_sequences/NeuralTextures/c23/videos/526_436.mp4  \n",
            "  inflating: /content/manipulated_sequences/NeuralTextures/c23/videos/527_454.mp4  \n",
            "  inflating: /content/manipulated_sequences/NeuralTextures/c23/videos/528_510.mp4  \n",
            "  inflating: /content/manipulated_sequences/NeuralTextures/c23/videos/529_633.mp4  \n",
            "  inflating: /content/manipulated_sequences/NeuralTextures/c23/videos/530_594.mp4  \n",
            "  inflating: /content/manipulated_sequences/NeuralTextures/c23/videos/531_549.mp4  \n",
            "  inflating: /content/manipulated_sequences/NeuralTextures/c23/videos/532_544.mp4  \n",
            "  inflating: /content/manipulated_sequences/NeuralTextures/c23/videos/533_450.mp4  \n",
            "  inflating: /content/manipulated_sequences/NeuralTextures/c23/videos/534_490.mp4  \n",
            "  inflating: /content/manipulated_sequences/NeuralTextures/c23/videos/535_587.mp4  \n",
            "  inflating: /content/manipulated_sequences/NeuralTextures/c23/videos/536_540.mp4  \n",
            "  inflating: /content/manipulated_sequences/NeuralTextures/c23/videos/537_563.mp4  \n",
            "  inflating: /content/manipulated_sequences/NeuralTextures/c23/videos/538_493.mp4  \n",
            "  inflating: /content/manipulated_sequences/NeuralTextures/c23/videos/539_499.mp4  \n",
            "  inflating: /content/manipulated_sequences/NeuralTextures/c23/videos/540_536.mp4  \n",
            "  inflating: /content/manipulated_sequences/NeuralTextures/c23/videos/541_523.mp4  \n",
            "  inflating: /content/manipulated_sequences/NeuralTextures/c23/videos/542_520.mp4  \n",
            "  inflating: /content/manipulated_sequences/NeuralTextures/c23/videos/543_559.mp4  \n",
            "  inflating: /content/manipulated_sequences/NeuralTextures/c23/videos/544_532.mp4  \n",
            "  inflating: /content/manipulated_sequences/NeuralTextures/c23/videos/545_553.mp4  \n",
            "  inflating: /content/manipulated_sequences/NeuralTextures/c23/videos/546_621.mp4  \n",
            "  inflating: /content/manipulated_sequences/NeuralTextures/c23/videos/547_574.mp4  \n",
            "  inflating: /content/manipulated_sequences/NeuralTextures/c23/videos/548_632.mp4  \n",
            "  inflating: /content/manipulated_sequences/NeuralTextures/c23/videos/549_531.mp4  \n",
            "  inflating: /content/manipulated_sequences/NeuralTextures/c23/videos/550_452.mp4  \n",
            "  inflating: /content/manipulated_sequences/NeuralTextures/c23/videos/551_631.mp4  \n",
            "  inflating: /content/manipulated_sequences/NeuralTextures/c23/videos/552_851.mp4  \n",
            "  inflating: /content/manipulated_sequences/NeuralTextures/c23/videos/553_545.mp4  \n",
            "  inflating: /content/manipulated_sequences/NeuralTextures/c23/videos/554_572.mp4  \n",
            "  inflating: /content/manipulated_sequences/NeuralTextures/c23/videos/555_516.mp4  \n",
            "  inflating: /content/manipulated_sequences/NeuralTextures/c23/videos/556_588.mp4  \n",
            "  inflating: /content/manipulated_sequences/NeuralTextures/c23/videos/557_560.mp4  \n",
            "  inflating: /content/manipulated_sequences/NeuralTextures/c23/videos/558_583.mp4  \n",
            "  inflating: /content/manipulated_sequences/NeuralTextures/c23/videos/559_543.mp4  \n",
            "  inflating: /content/manipulated_sequences/NeuralTextures/c23/videos/560_557.mp4  \n",
            "  inflating: /content/manipulated_sequences/NeuralTextures/c23/videos/561_998.mp4  \n",
            "  inflating: /content/manipulated_sequences/NeuralTextures/c23/videos/562_626.mp4  \n",
            "  inflating: /content/manipulated_sequences/NeuralTextures/c23/videos/563_537.mp4  \n",
            "  inflating: /content/manipulated_sequences/NeuralTextures/c23/videos/564_971.mp4  \n",
            "  inflating: /content/manipulated_sequences/NeuralTextures/c23/videos/565_589.mp4  \n",
            "  inflating: /content/manipulated_sequences/NeuralTextures/c23/videos/566_617.mp4  \n",
            "  inflating: /content/manipulated_sequences/NeuralTextures/c23/videos/567_606.mp4  \n",
            "  inflating: /content/manipulated_sequences/NeuralTextures/c23/videos/568_628.mp4  \n",
            "  inflating: /content/manipulated_sequences/NeuralTextures/c23/videos/569_921.mp4  \n",
            "  inflating: /content/manipulated_sequences/NeuralTextures/c23/videos/570_624.mp4  \n",
            "  inflating: /content/manipulated_sequences/NeuralTextures/c23/videos/571_746.mp4  \n",
            "  inflating: /content/manipulated_sequences/NeuralTextures/c23/videos/572_554.mp4  \n",
            "  inflating: /content/manipulated_sequences/NeuralTextures/c23/videos/573_757.mp4  \n",
            "  inflating: /content/manipulated_sequences/NeuralTextures/c23/videos/574_547.mp4  \n",
            "  inflating: /content/manipulated_sequences/NeuralTextures/c23/videos/575_603.mp4  \n",
            "  inflating: /content/manipulated_sequences/NeuralTextures/c23/videos/576_155.mp4  \n",
            "  inflating: /content/manipulated_sequences/NeuralTextures/c23/videos/577_593.mp4  \n",
            "  inflating: /content/manipulated_sequences/NeuralTextures/c23/videos/578_636.mp4  \n",
            "  inflating: /content/manipulated_sequences/NeuralTextures/c23/videos/579_701.mp4  \n",
            "  inflating: /content/manipulated_sequences/NeuralTextures/c23/videos/580_524.mp4  \n",
            "  inflating: /content/manipulated_sequences/NeuralTextures/c23/videos/581_697.mp4  \n",
            "  inflating: /content/manipulated_sequences/NeuralTextures/c23/videos/582_172.mp4  \n",
            "  inflating: /content/manipulated_sequences/NeuralTextures/c23/videos/583_558.mp4  \n",
            "  inflating: /content/manipulated_sequences/NeuralTextures/c23/videos/584_823.mp4  \n",
            "  inflating: /content/manipulated_sequences/NeuralTextures/c23/videos/585_599.mp4  \n",
            "  inflating: /content/manipulated_sequences/NeuralTextures/c23/videos/586_223.mp4  \n",
            "  inflating: /content/manipulated_sequences/NeuralTextures/c23/videos/587_535.mp4  \n",
            "  inflating: /content/manipulated_sequences/NeuralTextures/c23/videos/588_556.mp4  \n",
            "  inflating: /content/manipulated_sequences/NeuralTextures/c23/videos/589_565.mp4  \n",
            "  inflating: /content/manipulated_sequences/NeuralTextures/c23/videos/590_034.mp4  \n",
            "  inflating: /content/manipulated_sequences/NeuralTextures/c23/videos/591_605.mp4  \n",
            "  inflating: /content/manipulated_sequences/NeuralTextures/c23/videos/592_500.mp4  \n",
            "  inflating: /content/manipulated_sequences/NeuralTextures/c23/videos/593_577.mp4  \n",
            "  inflating: /content/manipulated_sequences/NeuralTextures/c23/videos/594_530.mp4  \n",
            "  inflating: /content/manipulated_sequences/NeuralTextures/c23/videos/595_597.mp4  \n",
            "  inflating: /content/manipulated_sequences/NeuralTextures/c23/videos/596_609.mp4  \n",
            "  inflating: /content/manipulated_sequences/NeuralTextures/c23/videos/597_595.mp4  \n",
            "  inflating: /content/manipulated_sequences/NeuralTextures/c23/videos/598_178.mp4  \n",
            "  inflating: /content/manipulated_sequences/NeuralTextures/c23/videos/599_585.mp4  \n",
            "  inflating: /content/manipulated_sequences/NeuralTextures/c23/videos/600_505.mp4  \n",
            "  inflating: /content/manipulated_sequences/NeuralTextures/c23/videos/601_653.mp4  \n",
            "  inflating: /content/manipulated_sequences/NeuralTextures/c23/videos/602_397.mp4  \n",
            "  inflating: /content/manipulated_sequences/NeuralTextures/c23/videos/603_575.mp4  \n",
            "  inflating: /content/manipulated_sequences/NeuralTextures/c23/videos/604_703.mp4  \n",
            "  inflating: /content/manipulated_sequences/NeuralTextures/c23/videos/605_591.mp4  \n",
            "  inflating: /content/manipulated_sequences/NeuralTextures/c23/videos/606_567.mp4  \n",
            "  inflating: /content/manipulated_sequences/NeuralTextures/c23/videos/607_683.mp4  \n",
            "  inflating: /content/manipulated_sequences/NeuralTextures/c23/videos/608_675.mp4  \n",
            "  inflating: /content/manipulated_sequences/NeuralTextures/c23/videos/609_596.mp4  \n",
            "  inflating: /content/manipulated_sequences/NeuralTextures/c23/videos/610_692.mp4  \n",
            "  inflating: /content/manipulated_sequences/NeuralTextures/c23/videos/611_760.mp4  \n",
            "  inflating: /content/manipulated_sequences/NeuralTextures/c23/videos/612_702.mp4  \n",
            "  inflating: /content/manipulated_sequences/NeuralTextures/c23/videos/613_685.mp4  \n",
            "  inflating: /content/manipulated_sequences/NeuralTextures/c23/videos/614_616.mp4  \n",
            "  inflating: /content/manipulated_sequences/NeuralTextures/c23/videos/615_687.mp4  \n",
            "  inflating: /content/manipulated_sequences/NeuralTextures/c23/videos/616_614.mp4  \n",
            "  inflating: /content/manipulated_sequences/NeuralTextures/c23/videos/617_566.mp4  \n",
            "  inflating: /content/manipulated_sequences/NeuralTextures/c23/videos/618_629.mp4  \n",
            "  inflating: /content/manipulated_sequences/NeuralTextures/c23/videos/619_620.mp4  \n",
            "  inflating: /content/manipulated_sequences/NeuralTextures/c23/videos/620_619.mp4  \n",
            "  inflating: /content/manipulated_sequences/NeuralTextures/c23/videos/621_546.mp4  \n",
            "  inflating: /content/manipulated_sequences/NeuralTextures/c23/videos/622_647.mp4  \n",
            "  inflating: /content/manipulated_sequences/NeuralTextures/c23/videos/623_630.mp4  \n",
            "  inflating: /content/manipulated_sequences/NeuralTextures/c23/videos/624_570.mp4  \n",
            "  inflating: /content/manipulated_sequences/NeuralTextures/c23/videos/625_650.mp4  \n",
            "  inflating: /content/manipulated_sequences/NeuralTextures/c23/videos/626_562.mp4  \n",
            "  inflating: /content/manipulated_sequences/NeuralTextures/c23/videos/627_658.mp4  \n",
            "  inflating: /content/manipulated_sequences/NeuralTextures/c23/videos/628_568.mp4  \n",
            "  inflating: /content/manipulated_sequences/NeuralTextures/c23/videos/629_618.mp4  \n",
            "  inflating: /content/manipulated_sequences/NeuralTextures/c23/videos/630_623.mp4  \n",
            "  inflating: /content/manipulated_sequences/NeuralTextures/c23/videos/631_551.mp4  \n",
            "  inflating: /content/manipulated_sequences/NeuralTextures/c23/videos/632_548.mp4  \n",
            "  inflating: /content/manipulated_sequences/NeuralTextures/c23/videos/633_529.mp4  \n",
            "  inflating: /content/manipulated_sequences/NeuralTextures/c23/videos/634_660.mp4  \n",
            "  inflating: /content/manipulated_sequences/NeuralTextures/c23/videos/635_642.mp4  \n",
            "  inflating: /content/manipulated_sequences/NeuralTextures/c23/videos/636_578.mp4  \n",
            "  inflating: /content/manipulated_sequences/NeuralTextures/c23/videos/637_427.mp4  \n",
            "  inflating: /content/manipulated_sequences/NeuralTextures/c23/videos/638_640.mp4  \n",
            "  inflating: /content/manipulated_sequences/NeuralTextures/c23/videos/639_841.mp4  \n",
            "  inflating: /content/manipulated_sequences/NeuralTextures/c23/videos/640_638.mp4  \n",
            "  inflating: /content/manipulated_sequences/NeuralTextures/c23/videos/641_662.mp4  \n",
            "  inflating: /content/manipulated_sequences/NeuralTextures/c23/videos/642_635.mp4  \n",
            "  inflating: /content/manipulated_sequences/NeuralTextures/c23/videos/643_646.mp4  \n",
            "  inflating: /content/manipulated_sequences/NeuralTextures/c23/videos/644_657.mp4  \n",
            "  inflating: /content/manipulated_sequences/NeuralTextures/c23/videos/645_688.mp4  \n",
            "  inflating: /content/manipulated_sequences/NeuralTextures/c23/videos/646_643.mp4  \n",
            "  inflating: /content/manipulated_sequences/NeuralTextures/c23/videos/647_622.mp4  \n",
            "  inflating: /content/manipulated_sequences/NeuralTextures/c23/videos/648_654.mp4  \n",
            "  inflating: /content/manipulated_sequences/NeuralTextures/c23/videos/649_816.mp4  \n",
            "  inflating: /content/manipulated_sequences/NeuralTextures/c23/videos/650_625.mp4  \n",
            "  inflating: /content/manipulated_sequences/NeuralTextures/c23/videos/651_835.mp4  \n",
            "  inflating: /content/manipulated_sequences/NeuralTextures/c23/videos/652_773.mp4  \n",
            "  inflating: /content/manipulated_sequences/NeuralTextures/c23/videos/653_601.mp4  \n",
            "  inflating: /content/manipulated_sequences/NeuralTextures/c23/videos/654_648.mp4  \n",
            "  inflating: /content/manipulated_sequences/NeuralTextures/c23/videos/655_444.mp4  \n",
            "  inflating: /content/manipulated_sequences/NeuralTextures/c23/videos/656_666.mp4  \n",
            "  inflating: /content/manipulated_sequences/NeuralTextures/c23/videos/657_644.mp4  \n",
            "  inflating: /content/manipulated_sequences/NeuralTextures/c23/videos/658_627.mp4  \n",
            "  inflating: /content/manipulated_sequences/NeuralTextures/c23/videos/659_749.mp4  \n",
            "  inflating: /content/manipulated_sequences/NeuralTextures/c23/videos/660_634.mp4  \n",
            "  inflating: /content/manipulated_sequences/NeuralTextures/c23/videos/661_670.mp4  \n",
            "  inflating: /content/manipulated_sequences/NeuralTextures/c23/videos/662_641.mp4  \n",
            "  inflating: /content/manipulated_sequences/NeuralTextures/c23/videos/663_231.mp4  \n",
            "  inflating: /content/manipulated_sequences/NeuralTextures/c23/videos/664_668.mp4  \n",
            "  inflating: /content/manipulated_sequences/NeuralTextures/c23/videos/665_679.mp4  \n",
            "  inflating: /content/manipulated_sequences/NeuralTextures/c23/videos/666_656.mp4  \n",
            "  inflating: /content/manipulated_sequences/NeuralTextures/c23/videos/667_446.mp4  \n",
            "  inflating: /content/manipulated_sequences/NeuralTextures/c23/videos/668_664.mp4  \n",
            "  inflating: /content/manipulated_sequences/NeuralTextures/c23/videos/669_682.mp4  \n",
            "  inflating: /content/manipulated_sequences/NeuralTextures/c23/videos/670_661.mp4  \n",
            "  inflating: /content/manipulated_sequences/NeuralTextures/c23/videos/671_677.mp4  \n",
            "  inflating: /content/manipulated_sequences/NeuralTextures/c23/videos/672_720.mp4  \n",
            "  inflating: /content/manipulated_sequences/NeuralTextures/c23/videos/673_728.mp4  \n",
            "  inflating: /content/manipulated_sequences/NeuralTextures/c23/videos/674_744.mp4  \n",
            "  inflating: /content/manipulated_sequences/NeuralTextures/c23/videos/675_608.mp4  \n",
            "  inflating: /content/manipulated_sequences/NeuralTextures/c23/videos/676_776.mp4  \n",
            "  inflating: /content/manipulated_sequences/NeuralTextures/c23/videos/677_671.mp4  \n",
            "  inflating: /content/manipulated_sequences/NeuralTextures/c23/videos/678_460.mp4  \n",
            "  inflating: /content/manipulated_sequences/NeuralTextures/c23/videos/679_665.mp4  \n",
            "  inflating: /content/manipulated_sequences/NeuralTextures/c23/videos/680_486.mp4  \n",
            "  inflating: /content/manipulated_sequences/NeuralTextures/c23/videos/681_711.mp4  \n",
            "  inflating: /content/manipulated_sequences/NeuralTextures/c23/videos/682_669.mp4  \n",
            "  inflating: /content/manipulated_sequences/NeuralTextures/c23/videos/683_607.mp4  \n",
            "  inflating: /content/manipulated_sequences/NeuralTextures/c23/videos/684_717.mp4  \n",
            "  inflating: /content/manipulated_sequences/NeuralTextures/c23/videos/685_613.mp4  \n",
            "  inflating: /content/manipulated_sequences/NeuralTextures/c23/videos/686_696.mp4  \n",
            "  inflating: /content/manipulated_sequences/NeuralTextures/c23/videos/687_615.mp4  \n",
            "  inflating: /content/manipulated_sequences/NeuralTextures/c23/videos/688_645.mp4  \n",
            "  inflating: /content/manipulated_sequences/NeuralTextures/c23/videos/689_690.mp4  \n",
            "  inflating: /content/manipulated_sequences/NeuralTextures/c23/videos/690_689.mp4  \n",
            "  inflating: /content/manipulated_sequences/NeuralTextures/c23/videos/691_732.mp4  \n",
            "  inflating: /content/manipulated_sequences/NeuralTextures/c23/videos/692_610.mp4  \n",
            "  inflating: /content/manipulated_sequences/NeuralTextures/c23/videos/693_698.mp4  \n",
            "  inflating: /content/manipulated_sequences/NeuralTextures/c23/videos/694_767.mp4  \n",
            "  inflating: /content/manipulated_sequences/NeuralTextures/c23/videos/695_422.mp4  \n",
            "  inflating: /content/manipulated_sequences/NeuralTextures/c23/videos/696_686.mp4  \n",
            "  inflating: /content/manipulated_sequences/NeuralTextures/c23/videos/697_581.mp4  \n",
            "  inflating: /content/manipulated_sequences/NeuralTextures/c23/videos/698_693.mp4  \n",
            "  inflating: /content/manipulated_sequences/NeuralTextures/c23/videos/699_734.mp4  \n",
            "  inflating: /content/manipulated_sequences/NeuralTextures/c23/videos/700_813.mp4  \n",
            "  inflating: /content/manipulated_sequences/NeuralTextures/c23/videos/701_579.mp4  \n",
            "  inflating: /content/manipulated_sequences/NeuralTextures/c23/videos/702_612.mp4  \n",
            "  inflating: /content/manipulated_sequences/NeuralTextures/c23/videos/703_604.mp4  \n",
            "  inflating: /content/manipulated_sequences/NeuralTextures/c23/videos/704_723.mp4  \n",
            "  inflating: /content/manipulated_sequences/NeuralTextures/c23/videos/705_707.mp4  \n",
            "  inflating: /content/manipulated_sequences/NeuralTextures/c23/videos/706_479.mp4  \n",
            "  inflating: /content/manipulated_sequences/NeuralTextures/c23/videos/707_705.mp4  \n",
            "  inflating: /content/manipulated_sequences/NeuralTextures/c23/videos/708_772.mp4  \n",
            "  inflating: /content/manipulated_sequences/NeuralTextures/c23/videos/709_390.mp4  \n",
            "  inflating: /content/manipulated_sequences/NeuralTextures/c23/videos/710_788.mp4  \n",
            "  inflating: /content/manipulated_sequences/NeuralTextures/c23/videos/711_681.mp4  \n",
            "  inflating: /content/manipulated_sequences/NeuralTextures/c23/videos/712_716.mp4  \n",
            "  inflating: /content/manipulated_sequences/NeuralTextures/c23/videos/713_726.mp4  \n",
            "  inflating: /content/manipulated_sequences/NeuralTextures/c23/videos/714_842.mp4  \n",
            "  inflating: /content/manipulated_sequences/NeuralTextures/c23/videos/715_721.mp4  \n",
            "  inflating: /content/manipulated_sequences/NeuralTextures/c23/videos/716_712.mp4  \n",
            "  inflating: /content/manipulated_sequences/NeuralTextures/c23/videos/717_684.mp4  \n",
            "  inflating: /content/manipulated_sequences/NeuralTextures/c23/videos/718_972.mp4  \n",
            "  inflating: /content/manipulated_sequences/NeuralTextures/c23/videos/719_737.mp4  \n",
            "  inflating: /content/manipulated_sequences/NeuralTextures/c23/videos/720_672.mp4  \n",
            "  inflating: /content/manipulated_sequences/NeuralTextures/c23/videos/721_715.mp4  \n",
            "  inflating: /content/manipulated_sequences/NeuralTextures/c23/videos/722_458.mp4  \n",
            "  inflating: /content/manipulated_sequences/NeuralTextures/c23/videos/723_704.mp4  \n",
            "  inflating: /content/manipulated_sequences/NeuralTextures/c23/videos/724_725.mp4  \n",
            "  inflating: /content/manipulated_sequences/NeuralTextures/c23/videos/725_724.mp4  \n",
            "  inflating: /content/manipulated_sequences/NeuralTextures/c23/videos/726_713.mp4  \n",
            "  inflating: /content/manipulated_sequences/NeuralTextures/c23/videos/727_729.mp4  \n",
            "  inflating: /content/manipulated_sequences/NeuralTextures/c23/videos/728_673.mp4  \n",
            "  inflating: /content/manipulated_sequences/NeuralTextures/c23/videos/729_727.mp4  \n",
            "  inflating: /content/manipulated_sequences/NeuralTextures/c23/videos/730_815.mp4  \n",
            "  inflating: /content/manipulated_sequences/NeuralTextures/c23/videos/731_741.mp4  \n",
            "  inflating: /content/manipulated_sequences/NeuralTextures/c23/videos/732_691.mp4  \n",
            "  inflating: /content/manipulated_sequences/NeuralTextures/c23/videos/733_935.mp4  \n",
            "  inflating: /content/manipulated_sequences/NeuralTextures/c23/videos/734_699.mp4  \n",
            "  inflating: /content/manipulated_sequences/NeuralTextures/c23/videos/735_774.mp4  \n",
            "  inflating: /content/manipulated_sequences/NeuralTextures/c23/videos/736_785.mp4  \n",
            "  inflating: /content/manipulated_sequences/NeuralTextures/c23/videos/737_719.mp4  \n",
            "  inflating: /content/manipulated_sequences/NeuralTextures/c23/videos/738_804.mp4  \n",
            "  inflating: /content/manipulated_sequences/NeuralTextures/c23/videos/739_865.mp4  \n",
            "  inflating: /content/manipulated_sequences/NeuralTextures/c23/videos/740_796.mp4  \n",
            "  inflating: /content/manipulated_sequences/NeuralTextures/c23/videos/741_731.mp4  \n",
            "  inflating: /content/manipulated_sequences/NeuralTextures/c23/videos/742_775.mp4  \n",
            "  inflating: /content/manipulated_sequences/NeuralTextures/c23/videos/743_750.mp4  \n",
            "  inflating: /content/manipulated_sequences/NeuralTextures/c23/videos/744_674.mp4  \n",
            "  inflating: /content/manipulated_sequences/NeuralTextures/c23/videos/745_777.mp4  \n",
            "  inflating: /content/manipulated_sequences/NeuralTextures/c23/videos/746_571.mp4  \n",
            "  inflating: /content/manipulated_sequences/NeuralTextures/c23/videos/747_854.mp4  \n",
            "  inflating: /content/manipulated_sequences/NeuralTextures/c23/videos/748_355.mp4  \n",
            "  inflating: /content/manipulated_sequences/NeuralTextures/c23/videos/749_659.mp4  \n",
            "  inflating: /content/manipulated_sequences/NeuralTextures/c23/videos/750_743.mp4  \n",
            "  inflating: /content/manipulated_sequences/NeuralTextures/c23/videos/751_752.mp4  \n",
            "  inflating: /content/manipulated_sequences/NeuralTextures/c23/videos/752_751.mp4  \n",
            "  inflating: /content/manipulated_sequences/NeuralTextures/c23/videos/753_789.mp4  \n",
            "  inflating: /content/manipulated_sequences/NeuralTextures/c23/videos/754_758.mp4  \n",
            "  inflating: /content/manipulated_sequences/NeuralTextures/c23/videos/755_759.mp4  \n",
            "  inflating: /content/manipulated_sequences/NeuralTextures/c23/videos/756_503.mp4  \n",
            "  inflating: /content/manipulated_sequences/NeuralTextures/c23/videos/757_573.mp4  \n",
            "  inflating: /content/manipulated_sequences/NeuralTextures/c23/videos/758_754.mp4  \n",
            "  inflating: /content/manipulated_sequences/NeuralTextures/c23/videos/759_755.mp4  \n",
            "  inflating: /content/manipulated_sequences/NeuralTextures/c23/videos/760_611.mp4  \n",
            "  inflating: /content/manipulated_sequences/NeuralTextures/c23/videos/761_766.mp4  \n",
            "  inflating: /content/manipulated_sequences/NeuralTextures/c23/videos/762_832.mp4  \n",
            "  inflating: /content/manipulated_sequences/NeuralTextures/c23/videos/763_930.mp4  \n",
            "  inflating: /content/manipulated_sequences/NeuralTextures/c23/videos/764_850.mp4  \n",
            "  inflating: /content/manipulated_sequences/NeuralTextures/c23/videos/765_867.mp4  \n",
            "  inflating: /content/manipulated_sequences/NeuralTextures/c23/videos/766_761.mp4  \n",
            "  inflating: /content/manipulated_sequences/NeuralTextures/c23/videos/767_694.mp4  \n",
            "  inflating: /content/manipulated_sequences/NeuralTextures/c23/videos/768_793.mp4  \n",
            "  inflating: /content/manipulated_sequences/NeuralTextures/c23/videos/769_784.mp4  \n",
            "  inflating: /content/manipulated_sequences/NeuralTextures/c23/videos/770_791.mp4  \n",
            "  inflating: /content/manipulated_sequences/NeuralTextures/c23/videos/771_849.mp4  \n",
            "  inflating: /content/manipulated_sequences/NeuralTextures/c23/videos/772_708.mp4  \n",
            "  inflating: /content/manipulated_sequences/NeuralTextures/c23/videos/773_652.mp4  \n",
            "  inflating: /content/manipulated_sequences/NeuralTextures/c23/videos/774_735.mp4  \n",
            "  inflating: /content/manipulated_sequences/NeuralTextures/c23/videos/775_742.mp4  \n",
            "  inflating: /content/manipulated_sequences/NeuralTextures/c23/videos/776_676.mp4  \n",
            "  inflating: /content/manipulated_sequences/NeuralTextures/c23/videos/777_745.mp4  \n",
            "  inflating: /content/manipulated_sequences/NeuralTextures/c23/videos/778_798.mp4  \n",
            "  inflating: /content/manipulated_sequences/NeuralTextures/c23/videos/779_794.mp4  \n",
            "  inflating: /content/manipulated_sequences/NeuralTextures/c23/videos/780_869.mp4  \n",
            "  inflating: /content/manipulated_sequences/NeuralTextures/c23/videos/781_806.mp4  \n",
            "  inflating: /content/manipulated_sequences/NeuralTextures/c23/videos/782_787.mp4  \n",
            "  inflating: /content/manipulated_sequences/NeuralTextures/c23/videos/783_916.mp4  \n",
            "  inflating: /content/manipulated_sequences/NeuralTextures/c23/videos/784_769.mp4  \n",
            "  inflating: /content/manipulated_sequences/NeuralTextures/c23/videos/785_736.mp4  \n",
            "  inflating: /content/manipulated_sequences/NeuralTextures/c23/videos/786_819.mp4  \n",
            "  inflating: /content/manipulated_sequences/NeuralTextures/c23/videos/787_782.mp4  \n",
            "  inflating: /content/manipulated_sequences/NeuralTextures/c23/videos/788_710.mp4  \n",
            "  inflating: /content/manipulated_sequences/NeuralTextures/c23/videos/789_753.mp4  \n",
            "  inflating: /content/manipulated_sequences/NeuralTextures/c23/videos/790_014.mp4  \n",
            "  inflating: /content/manipulated_sequences/NeuralTextures/c23/videos/791_770.mp4  \n",
            "  inflating: /content/manipulated_sequences/NeuralTextures/c23/videos/792_903.mp4  \n",
            "  inflating: /content/manipulated_sequences/NeuralTextures/c23/videos/793_768.mp4  \n",
            "  inflating: /content/manipulated_sequences/NeuralTextures/c23/videos/794_779.mp4  \n",
            "  inflating: /content/manipulated_sequences/NeuralTextures/c23/videos/795_907.mp4  \n",
            "  inflating: /content/manipulated_sequences/NeuralTextures/c23/videos/796_740.mp4  \n",
            "  inflating: /content/manipulated_sequences/NeuralTextures/c23/videos/797_844.mp4  \n",
            "  inflating: /content/manipulated_sequences/NeuralTextures/c23/videos/798_778.mp4  \n",
            "  inflating: /content/manipulated_sequences/NeuralTextures/c23/videos/799_809.mp4  \n",
            "  inflating: /content/manipulated_sequences/NeuralTextures/c23/videos/800_840.mp4  \n",
            "  inflating: /content/manipulated_sequences/NeuralTextures/c23/videos/801_855.mp4  \n",
            "  inflating: /content/manipulated_sequences/NeuralTextures/c23/videos/802_885.mp4  \n",
            "  inflating: /content/manipulated_sequences/NeuralTextures/c23/videos/803_017.mp4  \n",
            "  inflating: /content/manipulated_sequences/NeuralTextures/c23/videos/804_738.mp4  \n",
            "  inflating: /content/manipulated_sequences/NeuralTextures/c23/videos/805_011.mp4  \n",
            "  inflating: /content/manipulated_sequences/NeuralTextures/c23/videos/806_781.mp4  \n",
            "  inflating: /content/manipulated_sequences/NeuralTextures/c23/videos/807_273.mp4  \n",
            "  inflating: /content/manipulated_sequences/NeuralTextures/c23/videos/808_829.mp4  \n",
            "  inflating: /content/manipulated_sequences/NeuralTextures/c23/videos/809_799.mp4  \n",
            "  inflating: /content/manipulated_sequences/NeuralTextures/c23/videos/810_838.mp4  \n",
            "  inflating: /content/manipulated_sequences/NeuralTextures/c23/videos/811_920.mp4  \n",
            "  inflating: /content/manipulated_sequences/NeuralTextures/c23/videos/812_821.mp4  \n",
            "  inflating: /content/manipulated_sequences/NeuralTextures/c23/videos/813_700.mp4  \n",
            "  inflating: /content/manipulated_sequences/NeuralTextures/c23/videos/814_871.mp4  \n",
            "  inflating: /content/manipulated_sequences/NeuralTextures/c23/videos/815_730.mp4  \n",
            "  inflating: /content/manipulated_sequences/NeuralTextures/c23/videos/816_649.mp4  \n",
            "  inflating: /content/manipulated_sequences/NeuralTextures/c23/videos/817_827.mp4  \n",
            "  inflating: /content/manipulated_sequences/NeuralTextures/c23/videos/818_820.mp4  \n",
            "  inflating: /content/manipulated_sequences/NeuralTextures/c23/videos/819_786.mp4  \n",
            "  inflating: /content/manipulated_sequences/NeuralTextures/c23/videos/820_818.mp4  \n",
            "  inflating: /content/manipulated_sequences/NeuralTextures/c23/videos/821_812.mp4  \n",
            "  inflating: /content/manipulated_sequences/NeuralTextures/c23/videos/822_244.mp4  \n",
            "  inflating: /content/manipulated_sequences/NeuralTextures/c23/videos/823_584.mp4  \n",
            "  inflating: /content/manipulated_sequences/NeuralTextures/c23/videos/824_419.mp4  \n",
            "  inflating: /content/manipulated_sequences/NeuralTextures/c23/videos/825_074.mp4  \n",
            "  inflating: /content/manipulated_sequences/NeuralTextures/c23/videos/826_833.mp4  \n",
            "  inflating: /content/manipulated_sequences/NeuralTextures/c23/videos/827_817.mp4  \n",
            "  inflating: /content/manipulated_sequences/NeuralTextures/c23/videos/828_830.mp4  \n",
            "  inflating: /content/manipulated_sequences/NeuralTextures/c23/videos/829_808.mp4  \n",
            "  inflating: /content/manipulated_sequences/NeuralTextures/c23/videos/830_828.mp4  \n",
            "  inflating: /content/manipulated_sequences/NeuralTextures/c23/videos/831_508.mp4  \n",
            "  inflating: /content/manipulated_sequences/NeuralTextures/c23/videos/832_762.mp4  \n",
            "  inflating: /content/manipulated_sequences/NeuralTextures/c23/videos/833_826.mp4  \n",
            "  inflating: /content/manipulated_sequences/NeuralTextures/c23/videos/834_852.mp4  \n",
            "  inflating: /content/manipulated_sequences/NeuralTextures/c23/videos/835_651.mp4  \n",
            "  inflating: /content/manipulated_sequences/NeuralTextures/c23/videos/836_950.mp4  \n",
            "  inflating: /content/manipulated_sequences/NeuralTextures/c23/videos/837_890.mp4  \n",
            "  inflating: /content/manipulated_sequences/NeuralTextures/c23/videos/838_810.mp4  \n",
            "  inflating: /content/manipulated_sequences/NeuralTextures/c23/videos/839_864.mp4  \n",
            "  inflating: /content/manipulated_sequences/NeuralTextures/c23/videos/840_800.mp4  \n",
            "  inflating: /content/manipulated_sequences/NeuralTextures/c23/videos/841_639.mp4  \n",
            "  inflating: /content/manipulated_sequences/NeuralTextures/c23/videos/842_714.mp4  \n",
            "  inflating: /content/manipulated_sequences/NeuralTextures/c23/videos/843_859.mp4  \n",
            "  inflating: /content/manipulated_sequences/NeuralTextures/c23/videos/844_797.mp4  \n",
            "  inflating: /content/manipulated_sequences/NeuralTextures/c23/videos/845_846.mp4  \n",
            "  inflating: /content/manipulated_sequences/NeuralTextures/c23/videos/846_845.mp4  \n",
            "  inflating: /content/manipulated_sequences/NeuralTextures/c23/videos/847_906.mp4  \n",
            "  inflating: /content/manipulated_sequences/NeuralTextures/c23/videos/848_894.mp4  \n",
            "  inflating: /content/manipulated_sequences/NeuralTextures/c23/videos/849_771.mp4  \n",
            "  inflating: /content/manipulated_sequences/NeuralTextures/c23/videos/850_764.mp4  \n",
            "  inflating: /content/manipulated_sequences/NeuralTextures/c23/videos/851_552.mp4  \n",
            "  inflating: /content/manipulated_sequences/NeuralTextures/c23/videos/852_834.mp4  \n",
            "  inflating: /content/manipulated_sequences/NeuralTextures/c23/videos/853_863.mp4  \n",
            "  inflating: /content/manipulated_sequences/NeuralTextures/c23/videos/854_747.mp4  \n",
            "  inflating: /content/manipulated_sequences/NeuralTextures/c23/videos/855_801.mp4  \n",
            "  inflating: /content/manipulated_sequences/NeuralTextures/c23/videos/856_881.mp4  \n",
            "  inflating: /content/manipulated_sequences/NeuralTextures/c23/videos/857_909.mp4  \n",
            "  inflating: /content/manipulated_sequences/NeuralTextures/c23/videos/858_861.mp4  \n",
            "  inflating: /content/manipulated_sequences/NeuralTextures/c23/videos/859_843.mp4  \n",
            "  inflating: /content/manipulated_sequences/NeuralTextures/c23/videos/860_905.mp4  \n",
            "  inflating: /content/manipulated_sequences/NeuralTextures/c23/videos/861_858.mp4  \n",
            "  inflating: /content/manipulated_sequences/NeuralTextures/c23/videos/862_047.mp4  \n",
            "  inflating: /content/manipulated_sequences/NeuralTextures/c23/videos/863_853.mp4  \n",
            "  inflating: /content/manipulated_sequences/NeuralTextures/c23/videos/864_839.mp4  \n",
            "  inflating: /content/manipulated_sequences/NeuralTextures/c23/videos/865_739.mp4  \n",
            "  inflating: /content/manipulated_sequences/NeuralTextures/c23/videos/866_878.mp4  \n",
            "  inflating: /content/manipulated_sequences/NeuralTextures/c23/videos/867_765.mp4  \n",
            "  inflating: /content/manipulated_sequences/NeuralTextures/c23/videos/868_949.mp4  \n",
            "  inflating: /content/manipulated_sequences/NeuralTextures/c23/videos/869_780.mp4  \n",
            "  inflating: /content/manipulated_sequences/NeuralTextures/c23/videos/870_001.mp4  \n",
            "  inflating: /content/manipulated_sequences/NeuralTextures/c23/videos/871_814.mp4  \n",
            "  inflating: /content/manipulated_sequences/NeuralTextures/c23/videos/872_873.mp4  \n",
            "  inflating: /content/manipulated_sequences/NeuralTextures/c23/videos/873_872.mp4  \n",
            "  inflating: /content/manipulated_sequences/NeuralTextures/c23/videos/874_291.mp4  \n",
            "  inflating: /content/manipulated_sequences/NeuralTextures/c23/videos/875_979.mp4  \n",
            "  inflating: /content/manipulated_sequences/NeuralTextures/c23/videos/876_891.mp4  \n",
            "  inflating: /content/manipulated_sequences/NeuralTextures/c23/videos/877_886.mp4  \n",
            "  inflating: /content/manipulated_sequences/NeuralTextures/c23/videos/878_866.mp4  \n",
            "  inflating: /content/manipulated_sequences/NeuralTextures/c23/videos/879_963.mp4  \n",
            "  inflating: /content/manipulated_sequences/NeuralTextures/c23/videos/880_135.mp4  \n",
            "  inflating: /content/manipulated_sequences/NeuralTextures/c23/videos/881_856.mp4  \n",
            "  inflating: /content/manipulated_sequences/NeuralTextures/c23/videos/882_952.mp4  \n",
            "  inflating: /content/manipulated_sequences/NeuralTextures/c23/videos/883_013.mp4  \n",
            "  inflating: /content/manipulated_sequences/NeuralTextures/c23/videos/884_968.mp4  \n",
            "  inflating: /content/manipulated_sequences/NeuralTextures/c23/videos/885_802.mp4  \n",
            "  inflating: /content/manipulated_sequences/NeuralTextures/c23/videos/886_877.mp4  \n",
            "  inflating: /content/manipulated_sequences/NeuralTextures/c23/videos/887_275.mp4  \n",
            "  inflating: /content/manipulated_sequences/NeuralTextures/c23/videos/888_937.mp4  \n",
            "  inflating: /content/manipulated_sequences/NeuralTextures/c23/videos/889_045.mp4  \n",
            "  inflating: /content/manipulated_sequences/NeuralTextures/c23/videos/890_837.mp4  \n",
            "  inflating: /content/manipulated_sequences/NeuralTextures/c23/videos/891_876.mp4  \n",
            "  inflating: /content/manipulated_sequences/NeuralTextures/c23/videos/892_112.mp4  \n",
            "  inflating: /content/manipulated_sequences/NeuralTextures/c23/videos/893_913.mp4  \n",
            "  inflating: /content/manipulated_sequences/NeuralTextures/c23/videos/894_848.mp4  \n",
            "  inflating: /content/manipulated_sequences/NeuralTextures/c23/videos/895_915.mp4  \n",
            "  inflating: /content/manipulated_sequences/NeuralTextures/c23/videos/896_128.mp4  \n",
            "  inflating: /content/manipulated_sequences/NeuralTextures/c23/videos/897_969.mp4  \n",
            "  inflating: /content/manipulated_sequences/NeuralTextures/c23/videos/898_922.mp4  \n",
            "  inflating: /content/manipulated_sequences/NeuralTextures/c23/videos/899_914.mp4  \n",
            "  inflating: /content/manipulated_sequences/NeuralTextures/c23/videos/900_926.mp4  \n",
            "  inflating: /content/manipulated_sequences/NeuralTextures/c23/videos/901_902.mp4  \n",
            "  inflating: /content/manipulated_sequences/NeuralTextures/c23/videos/902_901.mp4  \n",
            "  inflating: /content/manipulated_sequences/NeuralTextures/c23/videos/903_792.mp4  \n",
            "  inflating: /content/manipulated_sequences/NeuralTextures/c23/videos/904_046.mp4  \n",
            "  inflating: /content/manipulated_sequences/NeuralTextures/c23/videos/905_860.mp4  \n",
            "  inflating: /content/manipulated_sequences/NeuralTextures/c23/videos/906_847.mp4  \n",
            "  inflating: /content/manipulated_sequences/NeuralTextures/c23/videos/907_795.mp4  \n",
            "  inflating: /content/manipulated_sequences/NeuralTextures/c23/videos/908_207.mp4  \n",
            "  inflating: /content/manipulated_sequences/NeuralTextures/c23/videos/909_857.mp4  \n",
            "  inflating: /content/manipulated_sequences/NeuralTextures/c23/videos/910_911.mp4  \n",
            "  inflating: /content/manipulated_sequences/NeuralTextures/c23/videos/911_910.mp4  \n",
            "  inflating: /content/manipulated_sequences/NeuralTextures/c23/videos/912_927.mp4  \n",
            "  inflating: /content/manipulated_sequences/NeuralTextures/c23/videos/913_893.mp4  \n",
            "  inflating: /content/manipulated_sequences/NeuralTextures/c23/videos/914_899.mp4  \n",
            "  inflating: /content/manipulated_sequences/NeuralTextures/c23/videos/915_895.mp4  \n",
            "  inflating: /content/manipulated_sequences/NeuralTextures/c23/videos/916_783.mp4  \n",
            "  inflating: /content/manipulated_sequences/NeuralTextures/c23/videos/917_924.mp4  \n",
            "  inflating: /content/manipulated_sequences/NeuralTextures/c23/videos/918_934.mp4  \n",
            "  inflating: /content/manipulated_sequences/NeuralTextures/c23/videos/919_015.mp4  \n",
            "  inflating: /content/manipulated_sequences/NeuralTextures/c23/videos/920_811.mp4  \n",
            "  inflating: /content/manipulated_sequences/NeuralTextures/c23/videos/921_569.mp4  \n",
            "  inflating: /content/manipulated_sequences/NeuralTextures/c23/videos/922_898.mp4  \n",
            "  inflating: /content/manipulated_sequences/NeuralTextures/c23/videos/923_023.mp4  \n",
            "  inflating: /content/manipulated_sequences/NeuralTextures/c23/videos/924_917.mp4  \n",
            "  inflating: /content/manipulated_sequences/NeuralTextures/c23/videos/925_933.mp4  \n",
            "  inflating: /content/manipulated_sequences/NeuralTextures/c23/videos/926_900.mp4  \n",
            "  inflating: /content/manipulated_sequences/NeuralTextures/c23/videos/927_912.mp4  \n",
            "  inflating: /content/manipulated_sequences/NeuralTextures/c23/videos/928_160.mp4  \n",
            "  inflating: /content/manipulated_sequences/NeuralTextures/c23/videos/929_962.mp4  \n",
            "  inflating: /content/manipulated_sequences/NeuralTextures/c23/videos/930_763.mp4  \n",
            "  inflating: /content/manipulated_sequences/NeuralTextures/c23/videos/931_936.mp4  \n",
            "  inflating: /content/manipulated_sequences/NeuralTextures/c23/videos/932_384.mp4  \n",
            "  inflating: /content/manipulated_sequences/NeuralTextures/c23/videos/933_925.mp4  \n",
            "  inflating: /content/manipulated_sequences/NeuralTextures/c23/videos/934_918.mp4  \n",
            "  inflating: /content/manipulated_sequences/NeuralTextures/c23/videos/935_733.mp4  \n",
            "  inflating: /content/manipulated_sequences/NeuralTextures/c23/videos/936_931.mp4  \n",
            "  inflating: /content/manipulated_sequences/NeuralTextures/c23/videos/937_888.mp4  \n",
            "  inflating: /content/manipulated_sequences/NeuralTextures/c23/videos/938_987.mp4  \n",
            "  inflating: /content/manipulated_sequences/NeuralTextures/c23/videos/939_115.mp4  \n",
            "  inflating: /content/manipulated_sequences/NeuralTextures/c23/videos/940_941.mp4  \n",
            "  inflating: /content/manipulated_sequences/NeuralTextures/c23/videos/941_940.mp4  \n",
            "  inflating: /content/manipulated_sequences/NeuralTextures/c23/videos/942_943.mp4  \n",
            "  inflating: /content/manipulated_sequences/NeuralTextures/c23/videos/943_942.mp4  \n",
            "  inflating: /content/manipulated_sequences/NeuralTextures/c23/videos/944_032.mp4  \n",
            "  inflating: /content/manipulated_sequences/NeuralTextures/c23/videos/945_044.mp4  \n",
            "  inflating: /content/manipulated_sequences/NeuralTextures/c23/videos/946_049.mp4  \n",
            "  inflating: /content/manipulated_sequences/NeuralTextures/c23/videos/947_951.mp4  \n",
            "  inflating: /content/manipulated_sequences/NeuralTextures/c23/videos/948_965.mp4  \n",
            "  inflating: /content/manipulated_sequences/NeuralTextures/c23/videos/949_868.mp4  \n",
            "  inflating: /content/manipulated_sequences/NeuralTextures/c23/videos/950_836.mp4  \n",
            "  inflating: /content/manipulated_sequences/NeuralTextures/c23/videos/951_947.mp4  \n",
            "  inflating: /content/manipulated_sequences/NeuralTextures/c23/videos/952_882.mp4  \n",
            "  inflating: /content/manipulated_sequences/NeuralTextures/c23/videos/953_974.mp4  \n",
            "  inflating: /content/manipulated_sequences/NeuralTextures/c23/videos/954_976.mp4  \n",
            "  inflating: /content/manipulated_sequences/NeuralTextures/c23/videos/955_078.mp4  \n",
            "  inflating: /content/manipulated_sequences/NeuralTextures/c23/videos/956_958.mp4  \n",
            "  inflating: /content/manipulated_sequences/NeuralTextures/c23/videos/957_959.mp4  \n",
            "  inflating: /content/manipulated_sequences/NeuralTextures/c23/videos/958_956.mp4  \n",
            "  inflating: /content/manipulated_sequences/NeuralTextures/c23/videos/959_957.mp4  \n",
            "  inflating: /content/manipulated_sequences/NeuralTextures/c23/videos/960_999.mp4  \n",
            "  inflating: /content/manipulated_sequences/NeuralTextures/c23/videos/961_069.mp4  \n",
            "  inflating: /content/manipulated_sequences/NeuralTextures/c23/videos/962_929.mp4  \n",
            "  inflating: /content/manipulated_sequences/NeuralTextures/c23/videos/963_879.mp4  \n",
            "  inflating: /content/manipulated_sequences/NeuralTextures/c23/videos/964_174.mp4  \n",
            "  inflating: /content/manipulated_sequences/NeuralTextures/c23/videos/965_948.mp4  \n",
            "  inflating: /content/manipulated_sequences/NeuralTextures/c23/videos/966_988.mp4  \n",
            "  inflating: /content/manipulated_sequences/NeuralTextures/c23/videos/967_984.mp4  \n",
            "  inflating: /content/manipulated_sequences/NeuralTextures/c23/videos/968_884.mp4  \n",
            "  inflating: /content/manipulated_sequences/NeuralTextures/c23/videos/969_897.mp4  \n",
            "  inflating: /content/manipulated_sequences/NeuralTextures/c23/videos/970_973.mp4  \n",
            "  inflating: /content/manipulated_sequences/NeuralTextures/c23/videos/971_564.mp4  \n",
            "  inflating: /content/manipulated_sequences/NeuralTextures/c23/videos/972_718.mp4  \n",
            "  inflating: /content/manipulated_sequences/NeuralTextures/c23/videos/973_970.mp4  \n",
            "  inflating: /content/manipulated_sequences/NeuralTextures/c23/videos/974_953.mp4  \n",
            "  inflating: /content/manipulated_sequences/NeuralTextures/c23/videos/975_978.mp4  \n",
            "  inflating: /content/manipulated_sequences/NeuralTextures/c23/videos/976_954.mp4  \n",
            "  inflating: /content/manipulated_sequences/NeuralTextures/c23/videos/977_075.mp4  \n",
            "  inflating: /content/manipulated_sequences/NeuralTextures/c23/videos/978_975.mp4  \n",
            "  inflating: /content/manipulated_sequences/NeuralTextures/c23/videos/979_875.mp4  \n",
            "  inflating: /content/manipulated_sequences/NeuralTextures/c23/videos/980_992.mp4  \n",
            "  inflating: /content/manipulated_sequences/NeuralTextures/c23/videos/981_985.mp4  \n",
            "  inflating: /content/manipulated_sequences/NeuralTextures/c23/videos/982_004.mp4  \n",
            "  inflating: /content/manipulated_sequences/NeuralTextures/c23/videos/983_113.mp4  \n",
            "  inflating: /content/manipulated_sequences/NeuralTextures/c23/videos/984_967.mp4  \n",
            "  inflating: /content/manipulated_sequences/NeuralTextures/c23/videos/985_981.mp4  \n",
            "  inflating: /content/manipulated_sequences/NeuralTextures/c23/videos/986_994.mp4  \n",
            "  inflating: /content/manipulated_sequences/NeuralTextures/c23/videos/987_938.mp4  \n",
            "  inflating: /content/manipulated_sequences/NeuralTextures/c23/videos/988_966.mp4  \n",
            "  inflating: /content/manipulated_sequences/NeuralTextures/c23/videos/989_993.mp4  \n",
            "  inflating: /content/manipulated_sequences/NeuralTextures/c23/videos/990_008.mp4  \n",
            "  inflating: /content/manipulated_sequences/NeuralTextures/c23/videos/991_064.mp4  \n",
            "  inflating: /content/manipulated_sequences/NeuralTextures/c23/videos/992_980.mp4  \n",
            "  inflating: /content/manipulated_sequences/NeuralTextures/c23/videos/993_989.mp4  \n",
            "  inflating: /content/manipulated_sequences/NeuralTextures/c23/videos/994_986.mp4  \n",
            "  inflating: /content/manipulated_sequences/NeuralTextures/c23/videos/995_233.mp4  \n",
            "  inflating: /content/manipulated_sequences/NeuralTextures/c23/videos/996_056.mp4  \n",
            "  inflating: /content/manipulated_sequences/NeuralTextures/c23/videos/997_040.mp4  \n",
            "  inflating: /content/manipulated_sequences/NeuralTextures/c23/videos/998_561.mp4  \n",
            "  inflating: /content/manipulated_sequences/NeuralTextures/c23/videos/999_960.mp4  \n",
            "  inflating: /content/original_sequences/youtube/c23/videos/000.mp4  \n",
            "  inflating: /content/original_sequences/youtube/c23/videos/001.mp4  \n",
            "  inflating: /content/original_sequences/youtube/c23/videos/002.mp4  \n",
            "  inflating: /content/original_sequences/youtube/c23/videos/003.mp4  \n",
            "  inflating: /content/original_sequences/youtube/c23/videos/004.mp4  \n",
            "  inflating: /content/original_sequences/youtube/c23/videos/005.mp4  \n",
            "  inflating: /content/original_sequences/youtube/c23/videos/006.mp4  \n",
            "  inflating: /content/original_sequences/youtube/c23/videos/007.mp4  \n",
            "  inflating: /content/original_sequences/youtube/c23/videos/008.mp4  \n",
            "  inflating: /content/original_sequences/youtube/c23/videos/009.mp4  \n",
            "  inflating: /content/original_sequences/youtube/c23/videos/010.mp4  \n",
            "  inflating: /content/original_sequences/youtube/c23/videos/011.mp4  \n",
            "  inflating: /content/original_sequences/youtube/c23/videos/012.mp4  \n",
            "  inflating: /content/original_sequences/youtube/c23/videos/013.mp4  \n",
            "  inflating: /content/original_sequences/youtube/c23/videos/014.mp4  \n",
            "  inflating: /content/original_sequences/youtube/c23/videos/015.mp4  \n",
            "  inflating: /content/original_sequences/youtube/c23/videos/016.mp4  \n",
            "  inflating: /content/original_sequences/youtube/c23/videos/017.mp4  \n",
            "  inflating: /content/original_sequences/youtube/c23/videos/018.mp4  \n",
            "  inflating: /content/original_sequences/youtube/c23/videos/019.mp4  \n",
            "  inflating: /content/original_sequences/youtube/c23/videos/020.mp4  \n",
            "  inflating: /content/original_sequences/youtube/c23/videos/021.mp4  \n",
            "  inflating: /content/original_sequences/youtube/c23/videos/022.mp4  \n",
            "  inflating: /content/original_sequences/youtube/c23/videos/023.mp4  \n",
            "  inflating: /content/original_sequences/youtube/c23/videos/024.mp4  \n",
            "  inflating: /content/original_sequences/youtube/c23/videos/025.mp4  \n",
            "  inflating: /content/original_sequences/youtube/c23/videos/026.mp4  \n",
            "  inflating: /content/original_sequences/youtube/c23/videos/027.mp4  \n",
            "  inflating: /content/original_sequences/youtube/c23/videos/028.mp4  \n",
            "  inflating: /content/original_sequences/youtube/c23/videos/029.mp4  \n",
            "  inflating: /content/original_sequences/youtube/c23/videos/030.mp4  \n",
            "  inflating: /content/original_sequences/youtube/c23/videos/031.mp4  \n",
            "  inflating: /content/original_sequences/youtube/c23/videos/032.mp4  \n",
            "  inflating: /content/original_sequences/youtube/c23/videos/033.mp4  \n",
            "  inflating: /content/original_sequences/youtube/c23/videos/034.mp4  \n",
            "  inflating: /content/original_sequences/youtube/c23/videos/035.mp4  \n",
            "  inflating: /content/original_sequences/youtube/c23/videos/036.mp4  \n",
            "  inflating: /content/original_sequences/youtube/c23/videos/037.mp4  \n",
            "  inflating: /content/original_sequences/youtube/c23/videos/038.mp4  \n",
            "  inflating: /content/original_sequences/youtube/c23/videos/039.mp4  \n",
            "  inflating: /content/original_sequences/youtube/c23/videos/040.mp4  \n",
            "  inflating: /content/original_sequences/youtube/c23/videos/041.mp4  \n",
            "  inflating: /content/original_sequences/youtube/c23/videos/042.mp4  \n",
            "  inflating: /content/original_sequences/youtube/c23/videos/043.mp4  \n",
            "  inflating: /content/original_sequences/youtube/c23/videos/044.mp4  \n",
            "  inflating: /content/original_sequences/youtube/c23/videos/045.mp4  \n",
            "  inflating: /content/original_sequences/youtube/c23/videos/046.mp4  \n",
            "  inflating: /content/original_sequences/youtube/c23/videos/047.mp4  \n",
            "  inflating: /content/original_sequences/youtube/c23/videos/048.mp4  \n",
            "  inflating: /content/original_sequences/youtube/c23/videos/049.mp4  \n",
            "  inflating: /content/original_sequences/youtube/c23/videos/050.mp4  \n",
            "  inflating: /content/original_sequences/youtube/c23/videos/051.mp4  \n",
            "  inflating: /content/original_sequences/youtube/c23/videos/052.mp4  \n",
            "  inflating: /content/original_sequences/youtube/c23/videos/053.mp4  \n",
            "  inflating: /content/original_sequences/youtube/c23/videos/054.mp4  \n",
            "  inflating: /content/original_sequences/youtube/c23/videos/055.mp4  \n",
            "  inflating: /content/original_sequences/youtube/c23/videos/056.mp4  \n",
            "  inflating: /content/original_sequences/youtube/c23/videos/057.mp4  \n",
            "  inflating: /content/original_sequences/youtube/c23/videos/058.mp4  \n",
            "  inflating: /content/original_sequences/youtube/c23/videos/059.mp4  \n",
            "  inflating: /content/original_sequences/youtube/c23/videos/060.mp4  \n",
            "  inflating: /content/original_sequences/youtube/c23/videos/061.mp4  \n",
            "  inflating: /content/original_sequences/youtube/c23/videos/062.mp4  \n",
            "  inflating: /content/original_sequences/youtube/c23/videos/063.mp4  \n",
            "  inflating: /content/original_sequences/youtube/c23/videos/064.mp4  \n",
            "  inflating: /content/original_sequences/youtube/c23/videos/065.mp4  \n",
            "  inflating: /content/original_sequences/youtube/c23/videos/066.mp4  \n",
            "  inflating: /content/original_sequences/youtube/c23/videos/067.mp4  \n",
            "  inflating: /content/original_sequences/youtube/c23/videos/068.mp4  \n",
            "  inflating: /content/original_sequences/youtube/c23/videos/069.mp4  \n",
            "  inflating: /content/original_sequences/youtube/c23/videos/070.mp4  \n",
            "  inflating: /content/original_sequences/youtube/c23/videos/071.mp4  \n",
            "  inflating: /content/original_sequences/youtube/c23/videos/072.mp4  \n",
            "  inflating: /content/original_sequences/youtube/c23/videos/073.mp4  \n",
            "  inflating: /content/original_sequences/youtube/c23/videos/074.mp4  \n",
            "  inflating: /content/original_sequences/youtube/c23/videos/075.mp4  \n",
            "  inflating: /content/original_sequences/youtube/c23/videos/076.mp4  \n",
            "  inflating: /content/original_sequences/youtube/c23/videos/077.mp4  \n",
            "  inflating: /content/original_sequences/youtube/c23/videos/078.mp4  \n",
            "  inflating: /content/original_sequences/youtube/c23/videos/079.mp4  \n",
            "  inflating: /content/original_sequences/youtube/c23/videos/080.mp4  \n",
            "  inflating: /content/original_sequences/youtube/c23/videos/081.mp4  \n",
            "  inflating: /content/original_sequences/youtube/c23/videos/082.mp4  \n",
            "  inflating: /content/original_sequences/youtube/c23/videos/083.mp4  \n",
            "  inflating: /content/original_sequences/youtube/c23/videos/084.mp4  \n",
            "  inflating: /content/original_sequences/youtube/c23/videos/085.mp4  \n",
            "  inflating: /content/original_sequences/youtube/c23/videos/086.mp4  \n",
            "  inflating: /content/original_sequences/youtube/c23/videos/087.mp4  \n",
            "  inflating: /content/original_sequences/youtube/c23/videos/088.mp4  \n",
            "  inflating: /content/original_sequences/youtube/c23/videos/089.mp4  \n",
            "  inflating: /content/original_sequences/youtube/c23/videos/090.mp4  \n",
            "  inflating: /content/original_sequences/youtube/c23/videos/091.mp4  \n",
            "  inflating: /content/original_sequences/youtube/c23/videos/092.mp4  \n",
            "  inflating: /content/original_sequences/youtube/c23/videos/093.mp4  \n",
            "  inflating: /content/original_sequences/youtube/c23/videos/094.mp4  \n",
            "  inflating: /content/original_sequences/youtube/c23/videos/095.mp4  \n",
            "  inflating: /content/original_sequences/youtube/c23/videos/096.mp4  \n",
            "  inflating: /content/original_sequences/youtube/c23/videos/097.mp4  \n",
            "  inflating: /content/original_sequences/youtube/c23/videos/098.mp4  \n",
            "  inflating: /content/original_sequences/youtube/c23/videos/099.mp4  \n",
            "  inflating: /content/original_sequences/youtube/c23/videos/100.mp4  \n",
            "  inflating: /content/original_sequences/youtube/c23/videos/101.mp4  \n",
            "  inflating: /content/original_sequences/youtube/c23/videos/102.mp4  \n",
            "  inflating: /content/original_sequences/youtube/c23/videos/103.mp4  \n",
            "  inflating: /content/original_sequences/youtube/c23/videos/104.mp4  \n",
            "  inflating: /content/original_sequences/youtube/c23/videos/105.mp4  \n",
            "  inflating: /content/original_sequences/youtube/c23/videos/106.mp4  \n",
            "  inflating: /content/original_sequences/youtube/c23/videos/107.mp4  \n",
            "  inflating: /content/original_sequences/youtube/c23/videos/108.mp4  \n",
            "  inflating: /content/original_sequences/youtube/c23/videos/109.mp4  \n",
            "  inflating: /content/original_sequences/youtube/c23/videos/110.mp4  \n",
            "  inflating: /content/original_sequences/youtube/c23/videos/111.mp4  \n",
            "  inflating: /content/original_sequences/youtube/c23/videos/112.mp4  \n",
            "  inflating: /content/original_sequences/youtube/c23/videos/113.mp4  \n",
            "  inflating: /content/original_sequences/youtube/c23/videos/114.mp4  \n",
            "  inflating: /content/original_sequences/youtube/c23/videos/115.mp4  \n",
            "  inflating: /content/original_sequences/youtube/c23/videos/116.mp4  \n",
            "  inflating: /content/original_sequences/youtube/c23/videos/117.mp4  \n",
            "  inflating: /content/original_sequences/youtube/c23/videos/118.mp4  \n",
            "  inflating: /content/original_sequences/youtube/c23/videos/119.mp4  \n",
            "  inflating: /content/original_sequences/youtube/c23/videos/120.mp4  \n",
            "  inflating: /content/original_sequences/youtube/c23/videos/121.mp4  \n",
            "  inflating: /content/original_sequences/youtube/c23/videos/122.mp4  \n",
            "  inflating: /content/original_sequences/youtube/c23/videos/123.mp4  \n",
            "  inflating: /content/original_sequences/youtube/c23/videos/124.mp4  \n",
            "  inflating: /content/original_sequences/youtube/c23/videos/125.mp4  \n",
            "  inflating: /content/original_sequences/youtube/c23/videos/126.mp4  \n",
            "  inflating: /content/original_sequences/youtube/c23/videos/127.mp4  \n",
            "  inflating: /content/original_sequences/youtube/c23/videos/128.mp4  \n",
            "  inflating: /content/original_sequences/youtube/c23/videos/129.mp4  \n",
            "  inflating: /content/original_sequences/youtube/c23/videos/130.mp4  \n",
            "  inflating: /content/original_sequences/youtube/c23/videos/131.mp4  \n",
            "  inflating: /content/original_sequences/youtube/c23/videos/132.mp4  \n",
            "  inflating: /content/original_sequences/youtube/c23/videos/133.mp4  \n",
            "  inflating: /content/original_sequences/youtube/c23/videos/134.mp4  \n",
            "  inflating: /content/original_sequences/youtube/c23/videos/135.mp4  \n",
            "  inflating: /content/original_sequences/youtube/c23/videos/136.mp4  \n",
            "  inflating: /content/original_sequences/youtube/c23/videos/137.mp4  \n",
            "  inflating: /content/original_sequences/youtube/c23/videos/138.mp4  \n",
            "  inflating: /content/original_sequences/youtube/c23/videos/139.mp4  \n",
            "  inflating: /content/original_sequences/youtube/c23/videos/140.mp4  \n",
            "  inflating: /content/original_sequences/youtube/c23/videos/141.mp4  \n",
            "  inflating: /content/original_sequences/youtube/c23/videos/142.mp4  \n",
            "  inflating: /content/original_sequences/youtube/c23/videos/143.mp4  \n",
            "  inflating: /content/original_sequences/youtube/c23/videos/144.mp4  \n",
            "  inflating: /content/original_sequences/youtube/c23/videos/145.mp4  \n",
            "  inflating: /content/original_sequences/youtube/c23/videos/146.mp4  \n",
            "  inflating: /content/original_sequences/youtube/c23/videos/147.mp4  \n",
            "  inflating: /content/original_sequences/youtube/c23/videos/148.mp4  \n",
            "  inflating: /content/original_sequences/youtube/c23/videos/149.mp4  \n",
            "  inflating: /content/original_sequences/youtube/c23/videos/150.mp4  \n",
            "  inflating: /content/original_sequences/youtube/c23/videos/151.mp4  \n",
            "  inflating: /content/original_sequences/youtube/c23/videos/152.mp4  \n",
            "  inflating: /content/original_sequences/youtube/c23/videos/153.mp4  \n",
            "  inflating: /content/original_sequences/youtube/c23/videos/154.mp4  \n",
            "  inflating: /content/original_sequences/youtube/c23/videos/155.mp4  \n",
            "  inflating: /content/original_sequences/youtube/c23/videos/156.mp4  \n",
            "  inflating: /content/original_sequences/youtube/c23/videos/157.mp4  \n",
            "  inflating: /content/original_sequences/youtube/c23/videos/158.mp4  \n",
            "  inflating: /content/original_sequences/youtube/c23/videos/159.mp4  \n",
            "  inflating: /content/original_sequences/youtube/c23/videos/160.mp4  \n",
            "  inflating: /content/original_sequences/youtube/c23/videos/161.mp4  \n",
            "  inflating: /content/original_sequences/youtube/c23/videos/162.mp4  \n",
            "  inflating: /content/original_sequences/youtube/c23/videos/163.mp4  \n",
            "  inflating: /content/original_sequences/youtube/c23/videos/164.mp4  \n",
            "  inflating: /content/original_sequences/youtube/c23/videos/165.mp4  \n",
            "  inflating: /content/original_sequences/youtube/c23/videos/166.mp4  \n",
            "  inflating: /content/original_sequences/youtube/c23/videos/167.mp4  \n",
            "  inflating: /content/original_sequences/youtube/c23/videos/168.mp4  \n",
            "  inflating: /content/original_sequences/youtube/c23/videos/169.mp4  \n",
            "  inflating: /content/original_sequences/youtube/c23/videos/170.mp4  \n",
            "  inflating: /content/original_sequences/youtube/c23/videos/171.mp4  \n",
            "  inflating: /content/original_sequences/youtube/c23/videos/172.mp4  \n",
            "  inflating: /content/original_sequences/youtube/c23/videos/173.mp4  \n",
            "  inflating: /content/original_sequences/youtube/c23/videos/174.mp4  \n",
            "  inflating: /content/original_sequences/youtube/c23/videos/175.mp4  \n",
            "  inflating: /content/original_sequences/youtube/c23/videos/176.mp4  \n",
            "  inflating: /content/original_sequences/youtube/c23/videos/177.mp4  \n",
            "  inflating: /content/original_sequences/youtube/c23/videos/178.mp4  \n",
            "  inflating: /content/original_sequences/youtube/c23/videos/179.mp4  \n",
            "  inflating: /content/original_sequences/youtube/c23/videos/180.mp4  \n",
            "  inflating: /content/original_sequences/youtube/c23/videos/181.mp4  \n",
            "  inflating: /content/original_sequences/youtube/c23/videos/182.mp4  \n",
            "  inflating: /content/original_sequences/youtube/c23/videos/183.mp4  \n",
            "  inflating: /content/original_sequences/youtube/c23/videos/184.mp4  \n",
            "  inflating: /content/original_sequences/youtube/c23/videos/185.mp4  \n",
            "  inflating: /content/original_sequences/youtube/c23/videos/186.mp4  \n",
            "  inflating: /content/original_sequences/youtube/c23/videos/187.mp4  \n",
            "  inflating: /content/original_sequences/youtube/c23/videos/188.mp4  \n",
            "  inflating: /content/original_sequences/youtube/c23/videos/189.mp4  \n",
            "  inflating: /content/original_sequences/youtube/c23/videos/190.mp4  \n",
            "  inflating: /content/original_sequences/youtube/c23/videos/191.mp4  \n",
            "  inflating: /content/original_sequences/youtube/c23/videos/192.mp4  \n",
            "  inflating: /content/original_sequences/youtube/c23/videos/193.mp4  \n",
            "  inflating: /content/original_sequences/youtube/c23/videos/194.mp4  \n",
            "  inflating: /content/original_sequences/youtube/c23/videos/195.mp4  \n",
            "  inflating: /content/original_sequences/youtube/c23/videos/196.mp4  \n",
            "  inflating: /content/original_sequences/youtube/c23/videos/197.mp4  \n",
            "  inflating: /content/original_sequences/youtube/c23/videos/198.mp4  \n",
            "  inflating: /content/original_sequences/youtube/c23/videos/199.mp4  \n",
            "  inflating: /content/original_sequences/youtube/c23/videos/200.mp4  \n",
            "  inflating: /content/original_sequences/youtube/c23/videos/201.mp4  \n",
            "  inflating: /content/original_sequences/youtube/c23/videos/202.mp4  \n",
            "  inflating: /content/original_sequences/youtube/c23/videos/203.mp4  \n",
            "  inflating: /content/original_sequences/youtube/c23/videos/204.mp4  \n",
            "  inflating: /content/original_sequences/youtube/c23/videos/205.mp4  \n",
            "  inflating: /content/original_sequences/youtube/c23/videos/206.mp4  \n",
            "  inflating: /content/original_sequences/youtube/c23/videos/207.mp4  \n",
            "  inflating: /content/original_sequences/youtube/c23/videos/208.mp4  \n",
            "  inflating: /content/original_sequences/youtube/c23/videos/209.mp4  \n",
            "  inflating: /content/original_sequences/youtube/c23/videos/210.mp4  \n",
            "  inflating: /content/original_sequences/youtube/c23/videos/211.mp4  \n",
            "  inflating: /content/original_sequences/youtube/c23/videos/212.mp4  \n",
            "  inflating: /content/original_sequences/youtube/c23/videos/213.mp4  \n",
            "  inflating: /content/original_sequences/youtube/c23/videos/214.mp4  \n",
            "  inflating: /content/original_sequences/youtube/c23/videos/215.mp4  \n",
            "  inflating: /content/original_sequences/youtube/c23/videos/216.mp4  \n",
            "  inflating: /content/original_sequences/youtube/c23/videos/217.mp4  \n",
            "  inflating: /content/original_sequences/youtube/c23/videos/218.mp4  \n",
            "  inflating: /content/original_sequences/youtube/c23/videos/219.mp4  \n",
            "  inflating: /content/original_sequences/youtube/c23/videos/220.mp4  \n",
            "  inflating: /content/original_sequences/youtube/c23/videos/221.mp4  \n",
            "  inflating: /content/original_sequences/youtube/c23/videos/222.mp4  \n",
            "  inflating: /content/original_sequences/youtube/c23/videos/223.mp4  \n",
            "  inflating: /content/original_sequences/youtube/c23/videos/224.mp4  \n",
            "  inflating: /content/original_sequences/youtube/c23/videos/225.mp4  \n",
            "  inflating: /content/original_sequences/youtube/c23/videos/226.mp4  \n",
            "  inflating: /content/original_sequences/youtube/c23/videos/227.mp4  \n",
            "  inflating: /content/original_sequences/youtube/c23/videos/228.mp4  \n",
            "  inflating: /content/original_sequences/youtube/c23/videos/229.mp4  \n",
            "  inflating: /content/original_sequences/youtube/c23/videos/230.mp4  \n",
            "  inflating: /content/original_sequences/youtube/c23/videos/231.mp4  \n",
            "  inflating: /content/original_sequences/youtube/c23/videos/232.mp4  \n",
            "  inflating: /content/original_sequences/youtube/c23/videos/233.mp4  \n",
            "  inflating: /content/original_sequences/youtube/c23/videos/234.mp4  \n",
            "  inflating: /content/original_sequences/youtube/c23/videos/235.mp4  \n",
            "  inflating: /content/original_sequences/youtube/c23/videos/236.mp4  \n",
            "  inflating: /content/original_sequences/youtube/c23/videos/237.mp4  \n",
            "  inflating: /content/original_sequences/youtube/c23/videos/238.mp4  \n",
            "  inflating: /content/original_sequences/youtube/c23/videos/239.mp4  \n",
            "  inflating: /content/original_sequences/youtube/c23/videos/240.mp4  \n",
            "  inflating: /content/original_sequences/youtube/c23/videos/241.mp4  \n",
            "  inflating: /content/original_sequences/youtube/c23/videos/242.mp4  \n",
            "  inflating: /content/original_sequences/youtube/c23/videos/243.mp4  \n",
            "  inflating: /content/original_sequences/youtube/c23/videos/244.mp4  \n",
            "  inflating: /content/original_sequences/youtube/c23/videos/245.mp4  \n",
            "  inflating: /content/original_sequences/youtube/c23/videos/246.mp4  \n",
            "  inflating: /content/original_sequences/youtube/c23/videos/247.mp4  \n",
            "  inflating: /content/original_sequences/youtube/c23/videos/248.mp4  \n",
            "  inflating: /content/original_sequences/youtube/c23/videos/249.mp4  \n",
            "  inflating: /content/original_sequences/youtube/c23/videos/250.mp4  \n",
            "  inflating: /content/original_sequences/youtube/c23/videos/251.mp4  \n",
            "  inflating: /content/original_sequences/youtube/c23/videos/252.mp4  \n",
            "  inflating: /content/original_sequences/youtube/c23/videos/253.mp4  \n",
            "  inflating: /content/original_sequences/youtube/c23/videos/254.mp4  \n",
            "  inflating: /content/original_sequences/youtube/c23/videos/255.mp4  \n",
            "  inflating: /content/original_sequences/youtube/c23/videos/256.mp4  \n",
            "  inflating: /content/original_sequences/youtube/c23/videos/257.mp4  \n",
            "  inflating: /content/original_sequences/youtube/c23/videos/258.mp4  \n",
            "  inflating: /content/original_sequences/youtube/c23/videos/259.mp4  \n",
            "  inflating: /content/original_sequences/youtube/c23/videos/260.mp4  \n",
            "  inflating: /content/original_sequences/youtube/c23/videos/261.mp4  \n",
            "  inflating: /content/original_sequences/youtube/c23/videos/262.mp4  \n",
            "  inflating: /content/original_sequences/youtube/c23/videos/263.mp4  \n",
            "  inflating: /content/original_sequences/youtube/c23/videos/264.mp4  \n",
            "  inflating: /content/original_sequences/youtube/c23/videos/265.mp4  \n",
            "  inflating: /content/original_sequences/youtube/c23/videos/266.mp4  \n",
            "  inflating: /content/original_sequences/youtube/c23/videos/267.mp4  \n",
            "  inflating: /content/original_sequences/youtube/c23/videos/268.mp4  \n",
            "  inflating: /content/original_sequences/youtube/c23/videos/269.mp4  \n",
            "  inflating: /content/original_sequences/youtube/c23/videos/270.mp4  \n",
            "  inflating: /content/original_sequences/youtube/c23/videos/271.mp4  \n",
            "  inflating: /content/original_sequences/youtube/c23/videos/272.mp4  \n",
            "  inflating: /content/original_sequences/youtube/c23/videos/273.mp4  \n",
            "  inflating: /content/original_sequences/youtube/c23/videos/274.mp4  \n",
            "  inflating: /content/original_sequences/youtube/c23/videos/275.mp4  \n",
            "  inflating: /content/original_sequences/youtube/c23/videos/276.mp4  \n",
            "  inflating: /content/original_sequences/youtube/c23/videos/277.mp4  \n",
            "  inflating: /content/original_sequences/youtube/c23/videos/278.mp4  \n",
            "  inflating: /content/original_sequences/youtube/c23/videos/279.mp4  \n",
            "  inflating: /content/original_sequences/youtube/c23/videos/280.mp4  \n",
            "  inflating: /content/original_sequences/youtube/c23/videos/281.mp4  \n",
            "  inflating: /content/original_sequences/youtube/c23/videos/282.mp4  \n",
            "  inflating: /content/original_sequences/youtube/c23/videos/283.mp4  \n",
            "  inflating: /content/original_sequences/youtube/c23/videos/284.mp4  \n",
            "  inflating: /content/original_sequences/youtube/c23/videos/285.mp4  \n",
            "  inflating: /content/original_sequences/youtube/c23/videos/286.mp4  \n",
            "  inflating: /content/original_sequences/youtube/c23/videos/287.mp4  \n",
            "  inflating: /content/original_sequences/youtube/c23/videos/288.mp4  \n",
            "  inflating: /content/original_sequences/youtube/c23/videos/289.mp4  \n",
            "  inflating: /content/original_sequences/youtube/c23/videos/290.mp4  \n",
            "  inflating: /content/original_sequences/youtube/c23/videos/291.mp4  \n",
            "  inflating: /content/original_sequences/youtube/c23/videos/292.mp4  \n",
            "  inflating: /content/original_sequences/youtube/c23/videos/293.mp4  \n",
            "  inflating: /content/original_sequences/youtube/c23/videos/294.mp4  \n",
            "  inflating: /content/original_sequences/youtube/c23/videos/295.mp4  \n",
            "  inflating: /content/original_sequences/youtube/c23/videos/296.mp4  \n",
            "  inflating: /content/original_sequences/youtube/c23/videos/297.mp4  \n",
            "  inflating: /content/original_sequences/youtube/c23/videos/298.mp4  \n",
            "  inflating: /content/original_sequences/youtube/c23/videos/299.mp4  \n",
            "  inflating: /content/original_sequences/youtube/c23/videos/300.mp4  \n",
            "  inflating: /content/original_sequences/youtube/c23/videos/301.mp4  \n",
            "  inflating: /content/original_sequences/youtube/c23/videos/302.mp4  \n",
            "  inflating: /content/original_sequences/youtube/c23/videos/303.mp4  \n",
            "  inflating: /content/original_sequences/youtube/c23/videos/304.mp4  \n",
            "  inflating: /content/original_sequences/youtube/c23/videos/305.mp4  \n",
            "  inflating: /content/original_sequences/youtube/c23/videos/306.mp4  \n",
            "  inflating: /content/original_sequences/youtube/c23/videos/307.mp4  \n",
            "  inflating: /content/original_sequences/youtube/c23/videos/308.mp4  \n",
            "  inflating: /content/original_sequences/youtube/c23/videos/309.mp4  \n",
            "  inflating: /content/original_sequences/youtube/c23/videos/310.mp4  \n",
            "  inflating: /content/original_sequences/youtube/c23/videos/311.mp4  \n",
            "  inflating: /content/original_sequences/youtube/c23/videos/312.mp4  \n",
            "  inflating: /content/original_sequences/youtube/c23/videos/313.mp4  \n",
            "  inflating: /content/original_sequences/youtube/c23/videos/314.mp4  \n",
            "  inflating: /content/original_sequences/youtube/c23/videos/315.mp4  \n",
            "  inflating: /content/original_sequences/youtube/c23/videos/316.mp4  \n",
            "  inflating: /content/original_sequences/youtube/c23/videos/317.mp4  \n",
            "  inflating: /content/original_sequences/youtube/c23/videos/318.mp4  \n",
            "  inflating: /content/original_sequences/youtube/c23/videos/319.mp4  \n",
            "  inflating: /content/original_sequences/youtube/c23/videos/320.mp4  \n",
            "  inflating: /content/original_sequences/youtube/c23/videos/321.mp4  \n",
            "  inflating: /content/original_sequences/youtube/c23/videos/322.mp4  \n",
            "  inflating: /content/original_sequences/youtube/c23/videos/323.mp4  \n",
            "  inflating: /content/original_sequences/youtube/c23/videos/324.mp4  \n",
            "  inflating: /content/original_sequences/youtube/c23/videos/325.mp4  \n",
            "  inflating: /content/original_sequences/youtube/c23/videos/326.mp4  \n",
            "  inflating: /content/original_sequences/youtube/c23/videos/327.mp4  \n",
            "  inflating: /content/original_sequences/youtube/c23/videos/328.mp4  \n",
            "  inflating: /content/original_sequences/youtube/c23/videos/329.mp4  \n",
            "  inflating: /content/original_sequences/youtube/c23/videos/330.mp4  \n",
            "  inflating: /content/original_sequences/youtube/c23/videos/331.mp4  \n",
            "  inflating: /content/original_sequences/youtube/c23/videos/332.mp4  \n",
            "  inflating: /content/original_sequences/youtube/c23/videos/333.mp4  \n",
            "  inflating: /content/original_sequences/youtube/c23/videos/334.mp4  \n",
            "  inflating: /content/original_sequences/youtube/c23/videos/335.mp4  \n",
            "  inflating: /content/original_sequences/youtube/c23/videos/336.mp4  \n",
            "  inflating: /content/original_sequences/youtube/c23/videos/337.mp4  \n",
            "  inflating: /content/original_sequences/youtube/c23/videos/338.mp4  \n",
            "  inflating: /content/original_sequences/youtube/c23/videos/339.mp4  \n",
            "  inflating: /content/original_sequences/youtube/c23/videos/340.mp4  \n",
            "  inflating: /content/original_sequences/youtube/c23/videos/341.mp4  \n",
            "  inflating: /content/original_sequences/youtube/c23/videos/342.mp4  \n",
            "  inflating: /content/original_sequences/youtube/c23/videos/343.mp4  \n",
            "  inflating: /content/original_sequences/youtube/c23/videos/344.mp4  \n",
            "  inflating: /content/original_sequences/youtube/c23/videos/345.mp4  \n",
            "  inflating: /content/original_sequences/youtube/c23/videos/346.mp4  \n",
            "  inflating: /content/original_sequences/youtube/c23/videos/347.mp4  \n",
            "  inflating: /content/original_sequences/youtube/c23/videos/348.mp4  \n",
            "  inflating: /content/original_sequences/youtube/c23/videos/349.mp4  \n",
            "  inflating: /content/original_sequences/youtube/c23/videos/350.mp4  \n",
            "  inflating: /content/original_sequences/youtube/c23/videos/351.mp4  \n",
            "  inflating: /content/original_sequences/youtube/c23/videos/352.mp4  \n",
            "  inflating: /content/original_sequences/youtube/c23/videos/353.mp4  \n",
            "  inflating: /content/original_sequences/youtube/c23/videos/354.mp4  \n",
            "  inflating: /content/original_sequences/youtube/c23/videos/355.mp4  \n",
            "  inflating: /content/original_sequences/youtube/c23/videos/356.mp4  \n",
            "  inflating: /content/original_sequences/youtube/c23/videos/357.mp4  \n",
            "  inflating: /content/original_sequences/youtube/c23/videos/358.mp4  \n",
            "  inflating: /content/original_sequences/youtube/c23/videos/359.mp4  \n",
            "  inflating: /content/original_sequences/youtube/c23/videos/360.mp4  \n",
            "  inflating: /content/original_sequences/youtube/c23/videos/361.mp4  \n",
            "  inflating: /content/original_sequences/youtube/c23/videos/362.mp4  \n",
            "  inflating: /content/original_sequences/youtube/c23/videos/363.mp4  \n",
            "  inflating: /content/original_sequences/youtube/c23/videos/364.mp4  \n",
            "  inflating: /content/original_sequences/youtube/c23/videos/365.mp4  \n",
            "  inflating: /content/original_sequences/youtube/c23/videos/366.mp4  \n",
            "  inflating: /content/original_sequences/youtube/c23/videos/367.mp4  \n",
            "  inflating: /content/original_sequences/youtube/c23/videos/368.mp4  \n",
            "  inflating: /content/original_sequences/youtube/c23/videos/369.mp4  \n",
            "  inflating: /content/original_sequences/youtube/c23/videos/370.mp4  \n",
            "  inflating: /content/original_sequences/youtube/c23/videos/371.mp4  \n",
            "  inflating: /content/original_sequences/youtube/c23/videos/372.mp4  \n",
            "  inflating: /content/original_sequences/youtube/c23/videos/373.mp4  \n",
            "  inflating: /content/original_sequences/youtube/c23/videos/374.mp4  \n",
            "  inflating: /content/original_sequences/youtube/c23/videos/375.mp4  \n",
            "  inflating: /content/original_sequences/youtube/c23/videos/376.mp4  \n",
            "  inflating: /content/original_sequences/youtube/c23/videos/377.mp4  \n",
            "  inflating: /content/original_sequences/youtube/c23/videos/378.mp4  \n",
            "  inflating: /content/original_sequences/youtube/c23/videos/379.mp4  \n",
            "  inflating: /content/original_sequences/youtube/c23/videos/380.mp4  \n",
            "  inflating: /content/original_sequences/youtube/c23/videos/381.mp4  \n",
            "  inflating: /content/original_sequences/youtube/c23/videos/382.mp4  \n",
            "  inflating: /content/original_sequences/youtube/c23/videos/383.mp4  \n",
            "  inflating: /content/original_sequences/youtube/c23/videos/384.mp4  \n",
            "  inflating: /content/original_sequences/youtube/c23/videos/385.mp4  \n",
            "  inflating: /content/original_sequences/youtube/c23/videos/386.mp4  \n",
            "  inflating: /content/original_sequences/youtube/c23/videos/387.mp4  \n",
            "  inflating: /content/original_sequences/youtube/c23/videos/388.mp4  \n",
            "  inflating: /content/original_sequences/youtube/c23/videos/389.mp4  \n",
            "  inflating: /content/original_sequences/youtube/c23/videos/390.mp4  \n",
            "  inflating: /content/original_sequences/youtube/c23/videos/391.mp4  \n",
            "  inflating: /content/original_sequences/youtube/c23/videos/392.mp4  \n",
            "  inflating: /content/original_sequences/youtube/c23/videos/393.mp4  \n",
            "  inflating: /content/original_sequences/youtube/c23/videos/394.mp4  \n",
            "  inflating: /content/original_sequences/youtube/c23/videos/395.mp4  \n",
            "  inflating: /content/original_sequences/youtube/c23/videos/396.mp4  \n",
            "  inflating: /content/original_sequences/youtube/c23/videos/397.mp4  \n",
            "  inflating: /content/original_sequences/youtube/c23/videos/398.mp4  \n",
            "  inflating: /content/original_sequences/youtube/c23/videos/399.mp4  \n",
            "  inflating: /content/original_sequences/youtube/c23/videos/400.mp4  \n",
            "  inflating: /content/original_sequences/youtube/c23/videos/401.mp4  \n",
            "  inflating: /content/original_sequences/youtube/c23/videos/402.mp4  \n",
            "  inflating: /content/original_sequences/youtube/c23/videos/403.mp4  \n",
            "  inflating: /content/original_sequences/youtube/c23/videos/404.mp4  \n",
            "  inflating: /content/original_sequences/youtube/c23/videos/405.mp4  \n",
            "  inflating: /content/original_sequences/youtube/c23/videos/406.mp4  \n",
            "  inflating: /content/original_sequences/youtube/c23/videos/407.mp4  \n",
            "  inflating: /content/original_sequences/youtube/c23/videos/408.mp4  \n",
            "  inflating: /content/original_sequences/youtube/c23/videos/409.mp4  \n",
            "  inflating: /content/original_sequences/youtube/c23/videos/410.mp4  \n",
            "  inflating: /content/original_sequences/youtube/c23/videos/411.mp4  \n",
            "  inflating: /content/original_sequences/youtube/c23/videos/412.mp4  \n",
            "  inflating: /content/original_sequences/youtube/c23/videos/413.mp4  \n",
            "  inflating: /content/original_sequences/youtube/c23/videos/414.mp4  \n",
            "  inflating: /content/original_sequences/youtube/c23/videos/415.mp4  \n",
            "  inflating: /content/original_sequences/youtube/c23/videos/416.mp4  \n",
            "  inflating: /content/original_sequences/youtube/c23/videos/417.mp4  \n",
            "  inflating: /content/original_sequences/youtube/c23/videos/418.mp4  \n",
            "  inflating: /content/original_sequences/youtube/c23/videos/419.mp4  \n",
            "  inflating: /content/original_sequences/youtube/c23/videos/420.mp4  \n",
            "  inflating: /content/original_sequences/youtube/c23/videos/421.mp4  \n",
            "  inflating: /content/original_sequences/youtube/c23/videos/422.mp4  \n",
            "  inflating: /content/original_sequences/youtube/c23/videos/423.mp4  \n",
            "  inflating: /content/original_sequences/youtube/c23/videos/424.mp4  \n",
            "  inflating: /content/original_sequences/youtube/c23/videos/425.mp4  \n",
            "  inflating: /content/original_sequences/youtube/c23/videos/426.mp4  \n",
            "  inflating: /content/original_sequences/youtube/c23/videos/427.mp4  \n",
            "  inflating: /content/original_sequences/youtube/c23/videos/428.mp4  \n",
            "  inflating: /content/original_sequences/youtube/c23/videos/429.mp4  \n",
            "  inflating: /content/original_sequences/youtube/c23/videos/430.mp4  \n",
            "  inflating: /content/original_sequences/youtube/c23/videos/431.mp4  \n",
            "  inflating: /content/original_sequences/youtube/c23/videos/432.mp4  \n",
            "  inflating: /content/original_sequences/youtube/c23/videos/433.mp4  \n",
            "  inflating: /content/original_sequences/youtube/c23/videos/434.mp4  \n",
            "  inflating: /content/original_sequences/youtube/c23/videos/435.mp4  \n",
            "  inflating: /content/original_sequences/youtube/c23/videos/436.mp4  \n",
            "  inflating: /content/original_sequences/youtube/c23/videos/437.mp4  \n",
            "  inflating: /content/original_sequences/youtube/c23/videos/438.mp4  \n",
            "  inflating: /content/original_sequences/youtube/c23/videos/439.mp4  \n",
            "  inflating: /content/original_sequences/youtube/c23/videos/440.mp4  \n",
            "  inflating: /content/original_sequences/youtube/c23/videos/441.mp4  \n",
            "  inflating: /content/original_sequences/youtube/c23/videos/442.mp4  \n",
            "  inflating: /content/original_sequences/youtube/c23/videos/443.mp4  \n",
            "  inflating: /content/original_sequences/youtube/c23/videos/444.mp4  \n",
            "  inflating: /content/original_sequences/youtube/c23/videos/445.mp4  \n",
            "  inflating: /content/original_sequences/youtube/c23/videos/446.mp4  \n",
            "  inflating: /content/original_sequences/youtube/c23/videos/447.mp4  \n",
            "  inflating: /content/original_sequences/youtube/c23/videos/448.mp4  \n",
            "  inflating: /content/original_sequences/youtube/c23/videos/449.mp4  \n",
            "  inflating: /content/original_sequences/youtube/c23/videos/450.mp4  \n",
            "  inflating: /content/original_sequences/youtube/c23/videos/451.mp4  \n",
            "  inflating: /content/original_sequences/youtube/c23/videos/452.mp4  \n",
            "  inflating: /content/original_sequences/youtube/c23/videos/453.mp4  \n",
            "  inflating: /content/original_sequences/youtube/c23/videos/454.mp4  \n",
            "  inflating: /content/original_sequences/youtube/c23/videos/455.mp4  \n",
            "  inflating: /content/original_sequences/youtube/c23/videos/456.mp4  \n",
            "  inflating: /content/original_sequences/youtube/c23/videos/457.mp4  \n",
            "  inflating: /content/original_sequences/youtube/c23/videos/458.mp4  \n",
            "  inflating: /content/original_sequences/youtube/c23/videos/459.mp4  \n",
            "  inflating: /content/original_sequences/youtube/c23/videos/460.mp4  \n",
            "  inflating: /content/original_sequences/youtube/c23/videos/461.mp4  \n",
            "  inflating: /content/original_sequences/youtube/c23/videos/462.mp4  \n",
            "  inflating: /content/original_sequences/youtube/c23/videos/463.mp4  \n",
            "  inflating: /content/original_sequences/youtube/c23/videos/464.mp4  \n",
            "  inflating: /content/original_sequences/youtube/c23/videos/465.mp4  \n",
            "  inflating: /content/original_sequences/youtube/c23/videos/466.mp4  \n",
            "  inflating: /content/original_sequences/youtube/c23/videos/467.mp4  \n",
            "  inflating: /content/original_sequences/youtube/c23/videos/468.mp4  \n",
            "  inflating: /content/original_sequences/youtube/c23/videos/469.mp4  \n",
            "  inflating: /content/original_sequences/youtube/c23/videos/470.mp4  \n",
            "  inflating: /content/original_sequences/youtube/c23/videos/471.mp4  \n",
            "  inflating: /content/original_sequences/youtube/c23/videos/472.mp4  \n",
            "  inflating: /content/original_sequences/youtube/c23/videos/473.mp4  \n",
            "  inflating: /content/original_sequences/youtube/c23/videos/474.mp4  \n",
            "  inflating: /content/original_sequences/youtube/c23/videos/475.mp4  \n",
            "  inflating: /content/original_sequences/youtube/c23/videos/476.mp4  \n",
            "  inflating: /content/original_sequences/youtube/c23/videos/477.mp4  \n",
            "  inflating: /content/original_sequences/youtube/c23/videos/478.mp4  \n",
            "  inflating: /content/original_sequences/youtube/c23/videos/479.mp4  \n",
            "  inflating: /content/original_sequences/youtube/c23/videos/480.mp4  \n",
            "  inflating: /content/original_sequences/youtube/c23/videos/481.mp4  \n",
            "  inflating: /content/original_sequences/youtube/c23/videos/482.mp4  \n",
            "  inflating: /content/original_sequences/youtube/c23/videos/483.mp4  \n",
            "  inflating: /content/original_sequences/youtube/c23/videos/484.mp4  \n",
            "  inflating: /content/original_sequences/youtube/c23/videos/485.mp4  \n",
            "  inflating: /content/original_sequences/youtube/c23/videos/486.mp4  \n",
            "  inflating: /content/original_sequences/youtube/c23/videos/487.mp4  \n",
            "  inflating: /content/original_sequences/youtube/c23/videos/488.mp4  \n",
            "  inflating: /content/original_sequences/youtube/c23/videos/489.mp4  \n",
            "  inflating: /content/original_sequences/youtube/c23/videos/490.mp4  \n",
            "  inflating: /content/original_sequences/youtube/c23/videos/491.mp4  \n",
            "  inflating: /content/original_sequences/youtube/c23/videos/492.mp4  \n",
            "  inflating: /content/original_sequences/youtube/c23/videos/493.mp4  \n",
            "  inflating: /content/original_sequences/youtube/c23/videos/494.mp4  \n",
            "  inflating: /content/original_sequences/youtube/c23/videos/495.mp4  \n",
            "  inflating: /content/original_sequences/youtube/c23/videos/496.mp4  \n",
            "  inflating: /content/original_sequences/youtube/c23/videos/497.mp4  \n",
            "  inflating: /content/original_sequences/youtube/c23/videos/498.mp4  \n",
            "  inflating: /content/original_sequences/youtube/c23/videos/499.mp4  \n",
            "  inflating: /content/original_sequences/youtube/c23/videos/500.mp4  \n",
            "  inflating: /content/original_sequences/youtube/c23/videos/501.mp4  \n",
            "  inflating: /content/original_sequences/youtube/c23/videos/502.mp4  \n",
            "  inflating: /content/original_sequences/youtube/c23/videos/503.mp4  \n",
            "  inflating: /content/original_sequences/youtube/c23/videos/504.mp4  \n",
            "  inflating: /content/original_sequences/youtube/c23/videos/505.mp4  \n",
            "  inflating: /content/original_sequences/youtube/c23/videos/506.mp4  \n",
            "  inflating: /content/original_sequences/youtube/c23/videos/507.mp4  \n",
            "  inflating: /content/original_sequences/youtube/c23/videos/508.mp4  \n",
            "  inflating: /content/original_sequences/youtube/c23/videos/509.mp4  \n",
            "  inflating: /content/original_sequences/youtube/c23/videos/510.mp4  \n",
            "  inflating: /content/original_sequences/youtube/c23/videos/511.mp4  \n",
            "  inflating: /content/original_sequences/youtube/c23/videos/512.mp4  \n",
            "  inflating: /content/original_sequences/youtube/c23/videos/513.mp4  \n",
            "  inflating: /content/original_sequences/youtube/c23/videos/514.mp4  \n",
            "  inflating: /content/original_sequences/youtube/c23/videos/515.mp4  \n",
            "  inflating: /content/original_sequences/youtube/c23/videos/516.mp4  \n",
            "  inflating: /content/original_sequences/youtube/c23/videos/517.mp4  \n",
            "  inflating: /content/original_sequences/youtube/c23/videos/518.mp4  \n",
            "  inflating: /content/original_sequences/youtube/c23/videos/519.mp4  \n",
            "  inflating: /content/original_sequences/youtube/c23/videos/520.mp4  \n",
            "  inflating: /content/original_sequences/youtube/c23/videos/521.mp4  \n",
            "  inflating: /content/original_sequences/youtube/c23/videos/522.mp4  \n",
            "  inflating: /content/original_sequences/youtube/c23/videos/523.mp4  \n",
            "  inflating: /content/original_sequences/youtube/c23/videos/524.mp4  \n",
            "  inflating: /content/original_sequences/youtube/c23/videos/525.mp4  \n",
            "  inflating: /content/original_sequences/youtube/c23/videos/526.mp4  \n",
            "  inflating: /content/original_sequences/youtube/c23/videos/527.mp4  \n",
            "  inflating: /content/original_sequences/youtube/c23/videos/528.mp4  \n",
            "  inflating: /content/original_sequences/youtube/c23/videos/529.mp4  \n",
            "  inflating: /content/original_sequences/youtube/c23/videos/530.mp4  \n",
            "  inflating: /content/original_sequences/youtube/c23/videos/531.mp4  \n",
            "  inflating: /content/original_sequences/youtube/c23/videos/532.mp4  \n",
            "  inflating: /content/original_sequences/youtube/c23/videos/533.mp4  \n",
            "  inflating: /content/original_sequences/youtube/c23/videos/534.mp4  \n",
            "  inflating: /content/original_sequences/youtube/c23/videos/535.mp4  \n",
            "  inflating: /content/original_sequences/youtube/c23/videos/536.mp4  \n",
            "  inflating: /content/original_sequences/youtube/c23/videos/537.mp4  \n",
            "  inflating: /content/original_sequences/youtube/c23/videos/538.mp4  \n",
            "  inflating: /content/original_sequences/youtube/c23/videos/539.mp4  \n",
            "  inflating: /content/original_sequences/youtube/c23/videos/540.mp4  \n",
            "  inflating: /content/original_sequences/youtube/c23/videos/541.mp4  \n",
            "  inflating: /content/original_sequences/youtube/c23/videos/542.mp4  \n",
            "  inflating: /content/original_sequences/youtube/c23/videos/543.mp4  \n",
            "  inflating: /content/original_sequences/youtube/c23/videos/544.mp4  \n",
            "  inflating: /content/original_sequences/youtube/c23/videos/545.mp4  \n",
            "  inflating: /content/original_sequences/youtube/c23/videos/546.mp4  \n",
            "  inflating: /content/original_sequences/youtube/c23/videos/547.mp4  \n",
            "  inflating: /content/original_sequences/youtube/c23/videos/548.mp4  \n",
            "  inflating: /content/original_sequences/youtube/c23/videos/549.mp4  \n",
            "  inflating: /content/original_sequences/youtube/c23/videos/550.mp4  \n",
            "  inflating: /content/original_sequences/youtube/c23/videos/551.mp4  \n",
            "  inflating: /content/original_sequences/youtube/c23/videos/552.mp4  \n",
            "  inflating: /content/original_sequences/youtube/c23/videos/553.mp4  \n",
            "  inflating: /content/original_sequences/youtube/c23/videos/554.mp4  \n",
            "  inflating: /content/original_sequences/youtube/c23/videos/555.mp4  \n",
            "  inflating: /content/original_sequences/youtube/c23/videos/556.mp4  \n",
            "  inflating: /content/original_sequences/youtube/c23/videos/557.mp4  \n",
            "  inflating: /content/original_sequences/youtube/c23/videos/558.mp4  \n",
            "  inflating: /content/original_sequences/youtube/c23/videos/559.mp4  \n",
            "  inflating: /content/original_sequences/youtube/c23/videos/560.mp4  \n",
            "  inflating: /content/original_sequences/youtube/c23/videos/561.mp4  \n",
            "  inflating: /content/original_sequences/youtube/c23/videos/562.mp4  \n",
            "  inflating: /content/original_sequences/youtube/c23/videos/563.mp4  \n",
            "  inflating: /content/original_sequences/youtube/c23/videos/564.mp4  \n",
            "  inflating: /content/original_sequences/youtube/c23/videos/565.mp4  \n",
            "  inflating: /content/original_sequences/youtube/c23/videos/566.mp4  \n",
            "  inflating: /content/original_sequences/youtube/c23/videos/567.mp4  \n",
            "  inflating: /content/original_sequences/youtube/c23/videos/568.mp4  \n",
            "  inflating: /content/original_sequences/youtube/c23/videos/569.mp4  \n",
            "  inflating: /content/original_sequences/youtube/c23/videos/570.mp4  \n",
            "  inflating: /content/original_sequences/youtube/c23/videos/571.mp4  \n",
            "  inflating: /content/original_sequences/youtube/c23/videos/572.mp4  \n",
            "  inflating: /content/original_sequences/youtube/c23/videos/573.mp4  \n",
            "  inflating: /content/original_sequences/youtube/c23/videos/574.mp4  \n",
            "  inflating: /content/original_sequences/youtube/c23/videos/575.mp4  \n",
            "  inflating: /content/original_sequences/youtube/c23/videos/576.mp4  \n",
            "  inflating: /content/original_sequences/youtube/c23/videos/577.mp4  \n",
            "  inflating: /content/original_sequences/youtube/c23/videos/578.mp4  \n",
            "  inflating: /content/original_sequences/youtube/c23/videos/579.mp4  \n",
            "  inflating: /content/original_sequences/youtube/c23/videos/580.mp4  \n",
            "  inflating: /content/original_sequences/youtube/c23/videos/581.mp4  \n",
            "  inflating: /content/original_sequences/youtube/c23/videos/582.mp4  \n",
            "  inflating: /content/original_sequences/youtube/c23/videos/583.mp4  \n",
            "  inflating: /content/original_sequences/youtube/c23/videos/584.mp4  \n",
            "  inflating: /content/original_sequences/youtube/c23/videos/585.mp4  \n",
            "  inflating: /content/original_sequences/youtube/c23/videos/586.mp4  \n",
            "  inflating: /content/original_sequences/youtube/c23/videos/587.mp4  \n",
            "  inflating: /content/original_sequences/youtube/c23/videos/588.mp4  \n",
            "  inflating: /content/original_sequences/youtube/c23/videos/589.mp4  \n",
            "  inflating: /content/original_sequences/youtube/c23/videos/590.mp4  \n",
            "  inflating: /content/original_sequences/youtube/c23/videos/591.mp4  \n",
            "  inflating: /content/original_sequences/youtube/c23/videos/592.mp4  \n",
            "  inflating: /content/original_sequences/youtube/c23/videos/593.mp4  \n",
            "  inflating: /content/original_sequences/youtube/c23/videos/594.mp4  \n",
            "  inflating: /content/original_sequences/youtube/c23/videos/595.mp4  \n",
            "  inflating: /content/original_sequences/youtube/c23/videos/596.mp4  \n",
            "  inflating: /content/original_sequences/youtube/c23/videos/597.mp4  \n",
            "  inflating: /content/original_sequences/youtube/c23/videos/598.mp4  \n",
            "  inflating: /content/original_sequences/youtube/c23/videos/599.mp4  \n",
            "  inflating: /content/original_sequences/youtube/c23/videos/600.mp4  \n",
            "  inflating: /content/original_sequences/youtube/c23/videos/601.mp4  \n",
            "  inflating: /content/original_sequences/youtube/c23/videos/602.mp4  \n",
            "  inflating: /content/original_sequences/youtube/c23/videos/603.mp4  \n",
            "  inflating: /content/original_sequences/youtube/c23/videos/604.mp4  \n",
            "  inflating: /content/original_sequences/youtube/c23/videos/605.mp4  \n",
            "  inflating: /content/original_sequences/youtube/c23/videos/606.mp4  \n",
            "  inflating: /content/original_sequences/youtube/c23/videos/607.mp4  \n",
            "  inflating: /content/original_sequences/youtube/c23/videos/608.mp4  \n",
            "  inflating: /content/original_sequences/youtube/c23/videos/609.mp4  \n",
            "  inflating: /content/original_sequences/youtube/c23/videos/610.mp4  \n",
            "  inflating: /content/original_sequences/youtube/c23/videos/611.mp4  \n",
            "  inflating: /content/original_sequences/youtube/c23/videos/612.mp4  \n",
            "  inflating: /content/original_sequences/youtube/c23/videos/613.mp4  \n",
            "  inflating: /content/original_sequences/youtube/c23/videos/614.mp4  \n",
            "  inflating: /content/original_sequences/youtube/c23/videos/615.mp4  \n",
            "  inflating: /content/original_sequences/youtube/c23/videos/616.mp4  \n",
            "  inflating: /content/original_sequences/youtube/c23/videos/617.mp4  \n",
            "  inflating: /content/original_sequences/youtube/c23/videos/618.mp4  \n",
            "  inflating: /content/original_sequences/youtube/c23/videos/619.mp4  \n",
            "  inflating: /content/original_sequences/youtube/c23/videos/620.mp4  \n",
            "  inflating: /content/original_sequences/youtube/c23/videos/621.mp4  \n",
            "  inflating: /content/original_sequences/youtube/c23/videos/622.mp4  \n",
            "  inflating: /content/original_sequences/youtube/c23/videos/623.mp4  \n",
            "  inflating: /content/original_sequences/youtube/c23/videos/624.mp4  \n",
            "  inflating: /content/original_sequences/youtube/c23/videos/625.mp4  \n",
            "  inflating: /content/original_sequences/youtube/c23/videos/626.mp4  \n",
            "  inflating: /content/original_sequences/youtube/c23/videos/627.mp4  \n",
            "  inflating: /content/original_sequences/youtube/c23/videos/628.mp4  \n",
            "  inflating: /content/original_sequences/youtube/c23/videos/629.mp4  \n",
            "  inflating: /content/original_sequences/youtube/c23/videos/630.mp4  \n",
            "  inflating: /content/original_sequences/youtube/c23/videos/631.mp4  \n",
            "  inflating: /content/original_sequences/youtube/c23/videos/632.mp4  \n",
            "  inflating: /content/original_sequences/youtube/c23/videos/633.mp4  \n",
            "  inflating: /content/original_sequences/youtube/c23/videos/634.mp4  \n",
            "  inflating: /content/original_sequences/youtube/c23/videos/635.mp4  \n",
            "  inflating: /content/original_sequences/youtube/c23/videos/636.mp4  \n",
            "  inflating: /content/original_sequences/youtube/c23/videos/637.mp4  \n",
            "  inflating: /content/original_sequences/youtube/c23/videos/638.mp4  \n",
            "  inflating: /content/original_sequences/youtube/c23/videos/639.mp4  \n",
            "  inflating: /content/original_sequences/youtube/c23/videos/640.mp4  \n",
            "  inflating: /content/original_sequences/youtube/c23/videos/641.mp4  \n",
            "  inflating: /content/original_sequences/youtube/c23/videos/642.mp4  \n",
            "  inflating: /content/original_sequences/youtube/c23/videos/643.mp4  \n",
            "  inflating: /content/original_sequences/youtube/c23/videos/644.mp4  \n",
            "  inflating: /content/original_sequences/youtube/c23/videos/645.mp4  \n",
            "  inflating: /content/original_sequences/youtube/c23/videos/646.mp4  \n",
            "  inflating: /content/original_sequences/youtube/c23/videos/647.mp4  \n",
            "  inflating: /content/original_sequences/youtube/c23/videos/648.mp4  \n",
            "  inflating: /content/original_sequences/youtube/c23/videos/649.mp4  \n",
            "  inflating: /content/original_sequences/youtube/c23/videos/650.mp4  \n",
            "  inflating: /content/original_sequences/youtube/c23/videos/651.mp4  \n",
            "  inflating: /content/original_sequences/youtube/c23/videos/652.mp4  \n",
            "  inflating: /content/original_sequences/youtube/c23/videos/653.mp4  \n",
            "  inflating: /content/original_sequences/youtube/c23/videos/654.mp4  \n",
            "  inflating: /content/original_sequences/youtube/c23/videos/655.mp4  \n",
            "  inflating: /content/original_sequences/youtube/c23/videos/656.mp4  \n",
            "  inflating: /content/original_sequences/youtube/c23/videos/657.mp4  \n",
            "  inflating: /content/original_sequences/youtube/c23/videos/658.mp4  \n",
            "  inflating: /content/original_sequences/youtube/c23/videos/659.mp4  \n",
            "  inflating: /content/original_sequences/youtube/c23/videos/660.mp4  \n",
            "  inflating: /content/original_sequences/youtube/c23/videos/661.mp4  \n",
            "  inflating: /content/original_sequences/youtube/c23/videos/662.mp4  \n",
            "  inflating: /content/original_sequences/youtube/c23/videos/663.mp4  \n",
            "  inflating: /content/original_sequences/youtube/c23/videos/664.mp4  \n",
            "  inflating: /content/original_sequences/youtube/c23/videos/665.mp4  \n",
            "  inflating: /content/original_sequences/youtube/c23/videos/666.mp4  \n",
            "  inflating: /content/original_sequences/youtube/c23/videos/667.mp4  \n",
            "  inflating: /content/original_sequences/youtube/c23/videos/668.mp4  \n",
            "  inflating: /content/original_sequences/youtube/c23/videos/669.mp4  \n",
            "  inflating: /content/original_sequences/youtube/c23/videos/670.mp4  \n",
            "  inflating: /content/original_sequences/youtube/c23/videos/671.mp4  \n",
            "  inflating: /content/original_sequences/youtube/c23/videos/672.mp4  \n",
            "  inflating: /content/original_sequences/youtube/c23/videos/673.mp4  \n",
            "  inflating: /content/original_sequences/youtube/c23/videos/674.mp4  \n",
            "  inflating: /content/original_sequences/youtube/c23/videos/675.mp4  \n",
            "  inflating: /content/original_sequences/youtube/c23/videos/676.mp4  \n",
            "  inflating: /content/original_sequences/youtube/c23/videos/677.mp4  \n",
            "  inflating: /content/original_sequences/youtube/c23/videos/678.mp4  \n",
            "  inflating: /content/original_sequences/youtube/c23/videos/679.mp4  \n",
            "  inflating: /content/original_sequences/youtube/c23/videos/680.mp4  \n",
            "  inflating: /content/original_sequences/youtube/c23/videos/681.mp4  \n",
            "  inflating: /content/original_sequences/youtube/c23/videos/682.mp4  \n",
            "  inflating: /content/original_sequences/youtube/c23/videos/683.mp4  \n",
            "  inflating: /content/original_sequences/youtube/c23/videos/684.mp4  \n",
            "  inflating: /content/original_sequences/youtube/c23/videos/685.mp4  \n",
            "  inflating: /content/original_sequences/youtube/c23/videos/686.mp4  \n",
            "  inflating: /content/original_sequences/youtube/c23/videos/687.mp4  \n",
            "  inflating: /content/original_sequences/youtube/c23/videos/688.mp4  \n",
            "  inflating: /content/original_sequences/youtube/c23/videos/689.mp4  \n",
            "  inflating: /content/original_sequences/youtube/c23/videos/690.mp4  \n",
            "  inflating: /content/original_sequences/youtube/c23/videos/691.mp4  \n",
            "  inflating: /content/original_sequences/youtube/c23/videos/692.mp4  \n",
            "  inflating: /content/original_sequences/youtube/c23/videos/693.mp4  \n",
            "  inflating: /content/original_sequences/youtube/c23/videos/694.mp4  \n",
            "  inflating: /content/original_sequences/youtube/c23/videos/695.mp4  \n",
            "  inflating: /content/original_sequences/youtube/c23/videos/696.mp4  \n",
            "  inflating: /content/original_sequences/youtube/c23/videos/697.mp4  \n",
            "  inflating: /content/original_sequences/youtube/c23/videos/698.mp4  \n",
            "  inflating: /content/original_sequences/youtube/c23/videos/699.mp4  \n",
            "  inflating: /content/original_sequences/youtube/c23/videos/700.mp4  \n",
            "  inflating: /content/original_sequences/youtube/c23/videos/701.mp4  \n",
            "  inflating: /content/original_sequences/youtube/c23/videos/702.mp4  \n",
            "  inflating: /content/original_sequences/youtube/c23/videos/703.mp4  \n",
            "  inflating: /content/original_sequences/youtube/c23/videos/704.mp4  \n",
            "  inflating: /content/original_sequences/youtube/c23/videos/705.mp4  \n",
            "  inflating: /content/original_sequences/youtube/c23/videos/706.mp4  \n",
            "  inflating: /content/original_sequences/youtube/c23/videos/707.mp4  \n",
            "  inflating: /content/original_sequences/youtube/c23/videos/708.mp4  \n",
            "  inflating: /content/original_sequences/youtube/c23/videos/709.mp4  \n",
            "  inflating: /content/original_sequences/youtube/c23/videos/710.mp4  \n",
            "  inflating: /content/original_sequences/youtube/c23/videos/711.mp4  \n",
            "  inflating: /content/original_sequences/youtube/c23/videos/712.mp4  \n",
            "  inflating: /content/original_sequences/youtube/c23/videos/713.mp4  \n",
            "  inflating: /content/original_sequences/youtube/c23/videos/714.mp4  \n",
            "  inflating: /content/original_sequences/youtube/c23/videos/715.mp4  \n",
            "  inflating: /content/original_sequences/youtube/c23/videos/716.mp4  \n",
            "  inflating: /content/original_sequences/youtube/c23/videos/717.mp4  \n",
            "  inflating: /content/original_sequences/youtube/c23/videos/718.mp4  \n",
            "  inflating: /content/original_sequences/youtube/c23/videos/719.mp4  \n",
            "  inflating: /content/original_sequences/youtube/c23/videos/720.mp4  \n",
            "  inflating: /content/original_sequences/youtube/c23/videos/721.mp4  \n",
            "  inflating: /content/original_sequences/youtube/c23/videos/722.mp4  \n",
            "  inflating: /content/original_sequences/youtube/c23/videos/723.mp4  \n",
            "  inflating: /content/original_sequences/youtube/c23/videos/724.mp4  \n",
            "  inflating: /content/original_sequences/youtube/c23/videos/725.mp4  \n",
            "  inflating: /content/original_sequences/youtube/c23/videos/726.mp4  \n",
            "  inflating: /content/original_sequences/youtube/c23/videos/727.mp4  \n",
            "  inflating: /content/original_sequences/youtube/c23/videos/728.mp4  \n",
            "  inflating: /content/original_sequences/youtube/c23/videos/729.mp4  \n",
            "  inflating: /content/original_sequences/youtube/c23/videos/730.mp4  \n",
            "  inflating: /content/original_sequences/youtube/c23/videos/731.mp4  \n",
            "  inflating: /content/original_sequences/youtube/c23/videos/732.mp4  \n",
            "  inflating: /content/original_sequences/youtube/c23/videos/733.mp4  \n",
            "  inflating: /content/original_sequences/youtube/c23/videos/734.mp4  \n",
            "  inflating: /content/original_sequences/youtube/c23/videos/735.mp4  \n",
            "  inflating: /content/original_sequences/youtube/c23/videos/736.mp4  \n",
            "  inflating: /content/original_sequences/youtube/c23/videos/737.mp4  \n",
            "  inflating: /content/original_sequences/youtube/c23/videos/738.mp4  \n",
            "  inflating: /content/original_sequences/youtube/c23/videos/739.mp4  \n",
            "  inflating: /content/original_sequences/youtube/c23/videos/740.mp4  \n",
            "  inflating: /content/original_sequences/youtube/c23/videos/741.mp4  \n",
            "  inflating: /content/original_sequences/youtube/c23/videos/742.mp4  \n",
            "  inflating: /content/original_sequences/youtube/c23/videos/743.mp4  \n",
            "  inflating: /content/original_sequences/youtube/c23/videos/744.mp4  \n",
            "  inflating: /content/original_sequences/youtube/c23/videos/745.mp4  \n",
            "  inflating: /content/original_sequences/youtube/c23/videos/746.mp4  \n",
            "  inflating: /content/original_sequences/youtube/c23/videos/747.mp4  \n",
            "  inflating: /content/original_sequences/youtube/c23/videos/748.mp4  \n",
            "  inflating: /content/original_sequences/youtube/c23/videos/749.mp4  \n",
            "  inflating: /content/original_sequences/youtube/c23/videos/750.mp4  \n",
            "  inflating: /content/original_sequences/youtube/c23/videos/751.mp4  \n",
            "  inflating: /content/original_sequences/youtube/c23/videos/752.mp4  \n",
            "  inflating: /content/original_sequences/youtube/c23/videos/753.mp4  \n",
            "  inflating: /content/original_sequences/youtube/c23/videos/754.mp4  \n",
            "  inflating: /content/original_sequences/youtube/c23/videos/755.mp4  \n",
            "  inflating: /content/original_sequences/youtube/c23/videos/756.mp4  \n",
            "  inflating: /content/original_sequences/youtube/c23/videos/757.mp4  \n",
            "  inflating: /content/original_sequences/youtube/c23/videos/758.mp4  \n",
            "  inflating: /content/original_sequences/youtube/c23/videos/759.mp4  \n",
            "  inflating: /content/original_sequences/youtube/c23/videos/760.mp4  \n",
            "  inflating: /content/original_sequences/youtube/c23/videos/761.mp4  \n",
            "  inflating: /content/original_sequences/youtube/c23/videos/762.mp4  \n",
            "  inflating: /content/original_sequences/youtube/c23/videos/763.mp4  \n",
            "  inflating: /content/original_sequences/youtube/c23/videos/764.mp4  \n",
            "  inflating: /content/original_sequences/youtube/c23/videos/765.mp4  \n",
            "  inflating: /content/original_sequences/youtube/c23/videos/766.mp4  \n",
            "  inflating: /content/original_sequences/youtube/c23/videos/767.mp4  \n",
            "  inflating: /content/original_sequences/youtube/c23/videos/768.mp4  \n",
            "  inflating: /content/original_sequences/youtube/c23/videos/769.mp4  \n",
            "  inflating: /content/original_sequences/youtube/c23/videos/770.mp4  \n",
            "  inflating: /content/original_sequences/youtube/c23/videos/771.mp4  \n",
            "  inflating: /content/original_sequences/youtube/c23/videos/772.mp4  \n",
            "  inflating: /content/original_sequences/youtube/c23/videos/773.mp4  \n",
            "  inflating: /content/original_sequences/youtube/c23/videos/774.mp4  \n",
            "  inflating: /content/original_sequences/youtube/c23/videos/775.mp4  \n",
            "  inflating: /content/original_sequences/youtube/c23/videos/776.mp4  \n",
            "  inflating: /content/original_sequences/youtube/c23/videos/777.mp4  \n",
            "  inflating: /content/original_sequences/youtube/c23/videos/778.mp4  \n",
            "  inflating: /content/original_sequences/youtube/c23/videos/779.mp4  \n",
            "  inflating: /content/original_sequences/youtube/c23/videos/780.mp4  \n",
            "  inflating: /content/original_sequences/youtube/c23/videos/781.mp4  \n",
            "  inflating: /content/original_sequences/youtube/c23/videos/782.mp4  \n",
            "  inflating: /content/original_sequences/youtube/c23/videos/783.mp4  \n",
            "  inflating: /content/original_sequences/youtube/c23/videos/784.mp4  \n",
            "  inflating: /content/original_sequences/youtube/c23/videos/785.mp4  \n",
            "  inflating: /content/original_sequences/youtube/c23/videos/786.mp4  \n",
            "  inflating: /content/original_sequences/youtube/c23/videos/787.mp4  \n",
            "  inflating: /content/original_sequences/youtube/c23/videos/788.mp4  \n",
            "  inflating: /content/original_sequences/youtube/c23/videos/789.mp4  \n",
            "  inflating: /content/original_sequences/youtube/c23/videos/790.mp4  \n",
            "  inflating: /content/original_sequences/youtube/c23/videos/791.mp4  \n",
            "  inflating: /content/original_sequences/youtube/c23/videos/792.mp4  \n",
            "  inflating: /content/original_sequences/youtube/c23/videos/793.mp4  \n",
            "  inflating: /content/original_sequences/youtube/c23/videos/794.mp4  \n",
            "  inflating: /content/original_sequences/youtube/c23/videos/795.mp4  \n",
            "  inflating: /content/original_sequences/youtube/c23/videos/796.mp4  \n",
            "  inflating: /content/original_sequences/youtube/c23/videos/797.mp4  \n",
            "  inflating: /content/original_sequences/youtube/c23/videos/798.mp4  \n",
            "  inflating: /content/original_sequences/youtube/c23/videos/799.mp4  \n",
            "  inflating: /content/original_sequences/youtube/c23/videos/800.mp4  \n",
            "  inflating: /content/original_sequences/youtube/c23/videos/801.mp4  \n",
            "  inflating: /content/original_sequences/youtube/c23/videos/802.mp4  \n",
            "  inflating: /content/original_sequences/youtube/c23/videos/803.mp4  \n",
            "  inflating: /content/original_sequences/youtube/c23/videos/804.mp4  \n",
            "  inflating: /content/original_sequences/youtube/c23/videos/805.mp4  \n",
            "  inflating: /content/original_sequences/youtube/c23/videos/806.mp4  \n",
            "  inflating: /content/original_sequences/youtube/c23/videos/807.mp4  \n",
            "  inflating: /content/original_sequences/youtube/c23/videos/808.mp4  \n",
            "  inflating: /content/original_sequences/youtube/c23/videos/809.mp4  \n",
            "  inflating: /content/original_sequences/youtube/c23/videos/810.mp4  \n",
            "  inflating: /content/original_sequences/youtube/c23/videos/811.mp4  \n",
            "  inflating: /content/original_sequences/youtube/c23/videos/812.mp4  \n",
            "  inflating: /content/original_sequences/youtube/c23/videos/813.mp4  \n",
            "  inflating: /content/original_sequences/youtube/c23/videos/814.mp4  \n",
            "  inflating: /content/original_sequences/youtube/c23/videos/815.mp4  \n",
            "  inflating: /content/original_sequences/youtube/c23/videos/816.mp4  \n",
            "  inflating: /content/original_sequences/youtube/c23/videos/817.mp4  \n",
            "  inflating: /content/original_sequences/youtube/c23/videos/818.mp4  \n",
            "  inflating: /content/original_sequences/youtube/c23/videos/819.mp4  \n",
            "  inflating: /content/original_sequences/youtube/c23/videos/820.mp4  \n",
            "  inflating: /content/original_sequences/youtube/c23/videos/821.mp4  \n",
            "  inflating: /content/original_sequences/youtube/c23/videos/822.mp4  \n",
            "  inflating: /content/original_sequences/youtube/c23/videos/823.mp4  \n",
            "  inflating: /content/original_sequences/youtube/c23/videos/824.mp4  \n",
            "  inflating: /content/original_sequences/youtube/c23/videos/825.mp4  \n",
            "  inflating: /content/original_sequences/youtube/c23/videos/826.mp4  \n",
            "  inflating: /content/original_sequences/youtube/c23/videos/827.mp4  \n",
            "  inflating: /content/original_sequences/youtube/c23/videos/828.mp4  \n",
            "  inflating: /content/original_sequences/youtube/c23/videos/829.mp4  \n",
            "  inflating: /content/original_sequences/youtube/c23/videos/830.mp4  \n",
            "  inflating: /content/original_sequences/youtube/c23/videos/831.mp4  \n",
            "  inflating: /content/original_sequences/youtube/c23/videos/832.mp4  \n",
            "  inflating: /content/original_sequences/youtube/c23/videos/833.mp4  \n",
            "  inflating: /content/original_sequences/youtube/c23/videos/834.mp4  \n",
            "  inflating: /content/original_sequences/youtube/c23/videos/835.mp4  \n",
            "  inflating: /content/original_sequences/youtube/c23/videos/836.mp4  \n",
            "  inflating: /content/original_sequences/youtube/c23/videos/837.mp4  \n",
            "  inflating: /content/original_sequences/youtube/c23/videos/838.mp4  \n",
            "  inflating: /content/original_sequences/youtube/c23/videos/839.mp4  \n",
            "  inflating: /content/original_sequences/youtube/c23/videos/840.mp4  \n",
            "  inflating: /content/original_sequences/youtube/c23/videos/841.mp4  \n",
            "  inflating: /content/original_sequences/youtube/c23/videos/842.mp4  \n",
            "  inflating: /content/original_sequences/youtube/c23/videos/843.mp4  \n",
            "  inflating: /content/original_sequences/youtube/c23/videos/844.mp4  \n",
            "  inflating: /content/original_sequences/youtube/c23/videos/845.mp4  \n",
            "  inflating: /content/original_sequences/youtube/c23/videos/846.mp4  \n",
            "  inflating: /content/original_sequences/youtube/c23/videos/847.mp4  \n",
            "  inflating: /content/original_sequences/youtube/c23/videos/848.mp4  \n",
            "  inflating: /content/original_sequences/youtube/c23/videos/849.mp4  \n",
            "  inflating: /content/original_sequences/youtube/c23/videos/850.mp4  \n",
            "  inflating: /content/original_sequences/youtube/c23/videos/851.mp4  \n",
            "  inflating: /content/original_sequences/youtube/c23/videos/852.mp4  \n",
            "  inflating: /content/original_sequences/youtube/c23/videos/853.mp4  \n",
            "  inflating: /content/original_sequences/youtube/c23/videos/854.mp4  \n",
            "  inflating: /content/original_sequences/youtube/c23/videos/855.mp4  \n",
            "  inflating: /content/original_sequences/youtube/c23/videos/856.mp4  \n",
            "  inflating: /content/original_sequences/youtube/c23/videos/857.mp4  \n",
            "  inflating: /content/original_sequences/youtube/c23/videos/858.mp4  \n",
            "  inflating: /content/original_sequences/youtube/c23/videos/859.mp4  \n",
            "  inflating: /content/original_sequences/youtube/c23/videos/860.mp4  \n",
            "  inflating: /content/original_sequences/youtube/c23/videos/861.mp4  \n",
            "  inflating: /content/original_sequences/youtube/c23/videos/862.mp4  \n",
            "  inflating: /content/original_sequences/youtube/c23/videos/863.mp4  \n",
            "  inflating: /content/original_sequences/youtube/c23/videos/864.mp4  \n",
            "  inflating: /content/original_sequences/youtube/c23/videos/865.mp4  \n",
            "  inflating: /content/original_sequences/youtube/c23/videos/866.mp4  \n",
            "  inflating: /content/original_sequences/youtube/c23/videos/867.mp4  \n",
            "  inflating: /content/original_sequences/youtube/c23/videos/868.mp4  \n",
            "  inflating: /content/original_sequences/youtube/c23/videos/869.mp4  \n",
            "  inflating: /content/original_sequences/youtube/c23/videos/870.mp4  \n",
            "  inflating: /content/original_sequences/youtube/c23/videos/871.mp4  \n",
            "  inflating: /content/original_sequences/youtube/c23/videos/872.mp4  \n",
            "  inflating: /content/original_sequences/youtube/c23/videos/873.mp4  \n",
            "  inflating: /content/original_sequences/youtube/c23/videos/874.mp4  \n",
            "  inflating: /content/original_sequences/youtube/c23/videos/875.mp4  \n",
            "  inflating: /content/original_sequences/youtube/c23/videos/876.mp4  \n",
            "  inflating: /content/original_sequences/youtube/c23/videos/877.mp4  \n",
            "  inflating: /content/original_sequences/youtube/c23/videos/878.mp4  \n",
            "  inflating: /content/original_sequences/youtube/c23/videos/879.mp4  \n",
            "  inflating: /content/original_sequences/youtube/c23/videos/880.mp4  \n",
            "  inflating: /content/original_sequences/youtube/c23/videos/881.mp4  \n",
            "  inflating: /content/original_sequences/youtube/c23/videos/882.mp4  \n",
            "  inflating: /content/original_sequences/youtube/c23/videos/883.mp4  \n",
            "  inflating: /content/original_sequences/youtube/c23/videos/884.mp4  \n",
            "  inflating: /content/original_sequences/youtube/c23/videos/885.mp4  \n",
            "  inflating: /content/original_sequences/youtube/c23/videos/886.mp4  \n",
            "  inflating: /content/original_sequences/youtube/c23/videos/887.mp4  \n",
            "  inflating: /content/original_sequences/youtube/c23/videos/888.mp4  \n",
            "  inflating: /content/original_sequences/youtube/c23/videos/889.mp4  \n",
            "  inflating: /content/original_sequences/youtube/c23/videos/890.mp4  \n",
            "  inflating: /content/original_sequences/youtube/c23/videos/891.mp4  \n",
            "  inflating: /content/original_sequences/youtube/c23/videos/892.mp4  \n",
            "  inflating: /content/original_sequences/youtube/c23/videos/893.mp4  \n",
            "  inflating: /content/original_sequences/youtube/c23/videos/894.mp4  \n",
            "  inflating: /content/original_sequences/youtube/c23/videos/895.mp4  \n",
            "  inflating: /content/original_sequences/youtube/c23/videos/896.mp4  \n",
            "  inflating: /content/original_sequences/youtube/c23/videos/897.mp4  \n",
            "  inflating: /content/original_sequences/youtube/c23/videos/898.mp4  \n",
            "  inflating: /content/original_sequences/youtube/c23/videos/899.mp4  \n",
            "  inflating: /content/original_sequences/youtube/c23/videos/900.mp4  \n",
            "  inflating: /content/original_sequences/youtube/c23/videos/901.mp4  \n",
            "  inflating: /content/original_sequences/youtube/c23/videos/902.mp4  \n",
            "  inflating: /content/original_sequences/youtube/c23/videos/903.mp4  \n",
            "  inflating: /content/original_sequences/youtube/c23/videos/904.mp4  \n",
            "  inflating: /content/original_sequences/youtube/c23/videos/905.mp4  \n",
            "  inflating: /content/original_sequences/youtube/c23/videos/906.mp4  \n",
            "  inflating: /content/original_sequences/youtube/c23/videos/907.mp4  \n",
            "  inflating: /content/original_sequences/youtube/c23/videos/908.mp4  \n",
            "  inflating: /content/original_sequences/youtube/c23/videos/909.mp4  \n",
            "  inflating: /content/original_sequences/youtube/c23/videos/910.mp4  \n",
            "  inflating: /content/original_sequences/youtube/c23/videos/911.mp4  \n",
            "  inflating: /content/original_sequences/youtube/c23/videos/912.mp4  \n",
            "  inflating: /content/original_sequences/youtube/c23/videos/913.mp4  \n",
            "  inflating: /content/original_sequences/youtube/c23/videos/914.mp4  \n",
            "  inflating: /content/original_sequences/youtube/c23/videos/915.mp4  \n",
            "  inflating: /content/original_sequences/youtube/c23/videos/916.mp4  \n",
            "  inflating: /content/original_sequences/youtube/c23/videos/917.mp4  \n",
            "  inflating: /content/original_sequences/youtube/c23/videos/918.mp4  \n",
            "  inflating: /content/original_sequences/youtube/c23/videos/919.mp4  \n",
            "  inflating: /content/original_sequences/youtube/c23/videos/920.mp4  \n",
            "  inflating: /content/original_sequences/youtube/c23/videos/921.mp4  \n",
            "  inflating: /content/original_sequences/youtube/c23/videos/922.mp4  \n",
            "  inflating: /content/original_sequences/youtube/c23/videos/923.mp4  \n",
            "  inflating: /content/original_sequences/youtube/c23/videos/924.mp4  \n",
            "  inflating: /content/original_sequences/youtube/c23/videos/925.mp4  \n",
            "  inflating: /content/original_sequences/youtube/c23/videos/926.mp4  \n",
            "  inflating: /content/original_sequences/youtube/c23/videos/927.mp4  \n",
            "  inflating: /content/original_sequences/youtube/c23/videos/928.mp4  \n",
            "  inflating: /content/original_sequences/youtube/c23/videos/929.mp4  \n",
            "  inflating: /content/original_sequences/youtube/c23/videos/930.mp4  \n",
            "  inflating: /content/original_sequences/youtube/c23/videos/931.mp4  \n",
            "  inflating: /content/original_sequences/youtube/c23/videos/932.mp4  \n",
            "  inflating: /content/original_sequences/youtube/c23/videos/933.mp4  \n",
            "  inflating: /content/original_sequences/youtube/c23/videos/934.mp4  \n",
            "  inflating: /content/original_sequences/youtube/c23/videos/935.mp4  \n",
            "  inflating: /content/original_sequences/youtube/c23/videos/936.mp4  \n",
            "  inflating: /content/original_sequences/youtube/c23/videos/937.mp4  \n",
            "  inflating: /content/original_sequences/youtube/c23/videos/938.mp4  \n",
            "  inflating: /content/original_sequences/youtube/c23/videos/939.mp4  \n",
            "  inflating: /content/original_sequences/youtube/c23/videos/940.mp4  \n",
            "  inflating: /content/original_sequences/youtube/c23/videos/941.mp4  \n",
            "  inflating: /content/original_sequences/youtube/c23/videos/942.mp4  \n",
            "  inflating: /content/original_sequences/youtube/c23/videos/943.mp4  \n",
            "  inflating: /content/original_sequences/youtube/c23/videos/944.mp4  \n",
            "  inflating: /content/original_sequences/youtube/c23/videos/945.mp4  \n",
            "  inflating: /content/original_sequences/youtube/c23/videos/946.mp4  \n",
            "  inflating: /content/original_sequences/youtube/c23/videos/947.mp4  \n",
            "  inflating: /content/original_sequences/youtube/c23/videos/948.mp4  \n",
            "  inflating: /content/original_sequences/youtube/c23/videos/949.mp4  \n",
            "  inflating: /content/original_sequences/youtube/c23/videos/950.mp4  \n",
            "  inflating: /content/original_sequences/youtube/c23/videos/951.mp4  \n",
            "  inflating: /content/original_sequences/youtube/c23/videos/952.mp4  \n",
            "  inflating: /content/original_sequences/youtube/c23/videos/953.mp4  \n",
            "  inflating: /content/original_sequences/youtube/c23/videos/954.mp4  \n",
            "  inflating: /content/original_sequences/youtube/c23/videos/955.mp4  \n",
            "  inflating: /content/original_sequences/youtube/c23/videos/956.mp4  \n",
            "  inflating: /content/original_sequences/youtube/c23/videos/957.mp4  \n",
            "  inflating: /content/original_sequences/youtube/c23/videos/958.mp4  \n",
            "  inflating: /content/original_sequences/youtube/c23/videos/959.mp4  \n",
            "  inflating: /content/original_sequences/youtube/c23/videos/960.mp4  \n",
            "  inflating: /content/original_sequences/youtube/c23/videos/961.mp4  \n",
            "  inflating: /content/original_sequences/youtube/c23/videos/962.mp4  \n",
            "  inflating: /content/original_sequences/youtube/c23/videos/963.mp4  \n",
            "  inflating: /content/original_sequences/youtube/c23/videos/964.mp4  \n",
            "  inflating: /content/original_sequences/youtube/c23/videos/965.mp4  \n",
            "  inflating: /content/original_sequences/youtube/c23/videos/966.mp4  \n",
            "  inflating: /content/original_sequences/youtube/c23/videos/967.mp4  \n",
            "  inflating: /content/original_sequences/youtube/c23/videos/968.mp4  \n",
            "  inflating: /content/original_sequences/youtube/c23/videos/969.mp4  \n",
            "  inflating: /content/original_sequences/youtube/c23/videos/970.mp4  \n",
            "  inflating: /content/original_sequences/youtube/c23/videos/971.mp4  \n",
            "  inflating: /content/original_sequences/youtube/c23/videos/972.mp4  \n",
            "  inflating: /content/original_sequences/youtube/c23/videos/973.mp4  \n",
            "  inflating: /content/original_sequences/youtube/c23/videos/974.mp4  \n",
            "  inflating: /content/original_sequences/youtube/c23/videos/975.mp4  \n",
            "  inflating: /content/original_sequences/youtube/c23/videos/976.mp4  \n",
            "  inflating: /content/original_sequences/youtube/c23/videos/977.mp4  \n",
            "  inflating: /content/original_sequences/youtube/c23/videos/978.mp4  \n",
            "  inflating: /content/original_sequences/youtube/c23/videos/979.mp4  \n",
            "  inflating: /content/original_sequences/youtube/c23/videos/980.mp4  \n",
            "  inflating: /content/original_sequences/youtube/c23/videos/981.mp4  \n",
            "  inflating: /content/original_sequences/youtube/c23/videos/982.mp4  \n",
            "  inflating: /content/original_sequences/youtube/c23/videos/983.mp4  \n",
            "  inflating: /content/original_sequences/youtube/c23/videos/984.mp4  \n",
            "  inflating: /content/original_sequences/youtube/c23/videos/985.mp4  \n",
            "  inflating: /content/original_sequences/youtube/c23/videos/986.mp4  \n",
            "  inflating: /content/original_sequences/youtube/c23/videos/987.mp4  \n",
            "  inflating: /content/original_sequences/youtube/c23/videos/988.mp4  \n",
            "  inflating: /content/original_sequences/youtube/c23/videos/989.mp4  \n",
            "  inflating: /content/original_sequences/youtube/c23/videos/990.mp4  \n",
            "  inflating: /content/original_sequences/youtube/c23/videos/991.mp4  \n",
            "  inflating: /content/original_sequences/youtube/c23/videos/992.mp4  \n",
            "  inflating: /content/original_sequences/youtube/c23/videos/993.mp4  \n",
            "  inflating: /content/original_sequences/youtube/c23/videos/994.mp4  \n",
            "  inflating: /content/original_sequences/youtube/c23/videos/995.mp4  \n",
            "  inflating: /content/original_sequences/youtube/c23/videos/996.mp4  \n",
            "  inflating: /content/original_sequences/youtube/c23/videos/997.mp4  \n",
            "  inflating: /content/original_sequences/youtube/c23/videos/998.mp4  \n",
            "  inflating: /content/original_sequences/youtube/c23/videos/999.mp4  \n"
          ]
        }
      ],
      "source": [
        "!kaggle datasets download -d sorokin/faceforensics\n",
        "!unzip faceforensics.zip -d /content/"
      ]
    },
    {
      "cell_type": "code",
      "source": [
        "# from google.colab import drive\n",
        "# drive.mount('/content/drive')"
      ],
      "metadata": {
        "id": "2TDpKwFaSOD-"
      },
      "execution_count": 4,
      "outputs": []
    },
    {
      "cell_type": "code",
      "source": [
        ""
      ],
      "metadata": {
        "id": "rn1NK-WpXZLy"
      },
      "execution_count": 4,
      "outputs": []
    },
    {
      "cell_type": "code",
      "source": [
        ""
      ],
      "metadata": {
        "id": "7fRZv8eydP8S"
      },
      "execution_count": 4,
      "outputs": []
    },
    {
      "cell_type": "code",
      "source": [
        ""
      ],
      "metadata": {
        "id": "DHK96j7D8ZbD"
      },
      "execution_count": 4,
      "outputs": []
    },
    {
      "cell_type": "code",
      "source": [
        ""
      ],
      "metadata": {
        "id": "dI61rS9AwWEy"
      },
      "execution_count": 4,
      "outputs": []
    },
    {
      "cell_type": "code",
      "source": [
        "import cv2\n",
        "import tqdm\n",
        "import os\n",
        "import numpy as np\n",
        "import math\n",
        "import mediapipe as mp"
      ],
      "metadata": {
        "id": "rZxu0We18Va1"
      },
      "execution_count": 5,
      "outputs": []
    },
    {
      "cell_type": "code",
      "source": [
        "a=[]\n",
        "d=1\n",
        "class VideoProcess():\n",
        "    \n",
        "    \n",
        "    def getFrame(self, file_list, file_num=\"all\", frame_num=5, type=0):\n",
        "        \n",
        "        \n",
        "        \n",
        "        if len(file_list) == 0 : return None\n",
        "        \n",
        "        if file_num == 'all' :\n",
        "            file_list = file_list[:]\n",
        "        elif len(file_list) > file_num:\n",
        "            file_list = file_list[:file_num]\n",
        "        else:\n",
        "            file_list = file_list[:]\n",
        "            \n",
        "        \n",
        "        frame_num = 5\n",
        "        pic_num = len(file_list)\n",
        "        img_arr = [[] for i in range(pic_num)]\n",
        "        for (index1,file) in enumerate(file_list):\n",
        "            # filename = os.path.join(videos_dir, file)\n",
        "            # print(file)\n",
        "            cap=cv2.VideoCapture(file.decode(\"utf-8\") )\n",
        "            frame_count = int(cap.get(cv2.CAP_PROP_FRAME_COUNT))\n",
        "            if frame_count <= 0 : continue\n",
        "            \n",
        "            # type : linspace\n",
        "            if type == 0:\n",
        "                frame_idxs = np.linspace(0, frame_count - 1, frame_num, endpoint=True, dtype=np.int)\n",
        "                frame_idxs = np.unique(frame_idxs)\n",
        "\n",
        "            for (index2,idx) in enumerate(frame_idxs):\n",
        "                cap.set(cv2.CAP_PROP_POS_FRAMES, idx)\n",
        "                ret, frame  = cap.read()\n",
        "                resized = cv2.resize(frame, (128,128), interpolation = cv2.INTER_AREA)\n",
        "                img_arr[index1].append(resized)\n",
        "            \n",
        "        return img_arr\n",
        "\n",
        "#     def blazeFace(self, imgs):\n",
        "\n",
        "#         mp_face_detection = mp.solutions.face_detection\n",
        "#         net = mp_face_detection.FaceDetection()\n",
        "\n",
        "#         # Optionally change the thresholds:\n",
        "#         net.min_score_thresh = 0.75\n",
        "#         net.min_suppression_threshold = 0.3\n",
        "#         pic_num = 2#5len(imgs)\n",
        "\n",
        "#         if pic_num == 0: return None\n",
        "\n",
        "#         frame_num = 5#len(imgs)\n",
        "\n",
        "#         res = [[] for i in range(pic_num)]\n",
        "#         for i in range(pic_num):\n",
        "#             for j in range(frame_num):\n",
        "#                 img = imgs[i][j]\n",
        "#                 detections = net.process(cv2.resize(img,(128,128))).detections\n",
        "#                 a.append((detections))\n",
        "#                 if detections == None : continue\n",
        "#                 res[i].append(self.findFace(img, detections))\n",
        "#         return res     \n",
        "\n",
        "#     def findFace(self, img, detections):\n",
        "# #         print(\"detections nums\", len(detections))\n",
        "#         i = 0\n",
        "#         box = detections.location_data.relative_bounding_box\n",
        "#         ymin = math.floor(box.ymin * img.shape[0])\n",
        "#         xmin = math.floor(box.xmin* img.shape[1])\n",
        "#         ymax = math.ceil(box.height * img.shape[0])\n",
        "#         xmax = math.ceil(box.width * img.shape[1])\n",
        "# #         print(detections[i, 0], detections[i, 1],detections[i, 2], detections[i, 3])\n",
        "# #         print(img.shape)v\n",
        "# #         print(xmin, xmax, ymin, ymax)\n",
        "#         face = img[ymin:ymax, xmin:xmax+1]\n",
        "# #         print(face.shape)\n",
        "\n",
        "#         return face\n",
        "\n",
        "    \n",
        "        "
      ],
      "metadata": {
        "id": "dVorxpdy64Kt"
      },
      "execution_count": 6,
      "outputs": []
    },
    {
      "cell_type": "code",
      "source": [
        "\n",
        "# # os.listdir('/content/original_sequences/youtube/c23/videos/000.mp4')\n",
        "# video_process = VideoProcess()\n",
        "# img = video_process.getFrame(\n",
        "#     (list(train_dataset.as_numpy_iterator()))[0][0][:]\n",
        "    \n",
        "    \n",
        "#     , file_num=500, frame_num=5, type=0)\n"
      ],
      "metadata": {
        "id": "Mui22NAzPiFP"
      },
      "execution_count": 7,
      "outputs": []
    },
    {
      "cell_type": "code",
      "source": [
        "# len(img[31])"
      ],
      "metadata": {
        "id": "vKQNTVblSZyV"
      },
      "execution_count": 8,
      "outputs": []
    },
    {
      "cell_type": "code",
      "source": [
        "# video_process = VideoProcess()\n",
        "# videos_dir = \"/content/original_sequences/youtube/c23/videos\"\n",
        "# deepfake_dir = \"/content/manipulated_sequences/Deepfakes/c23/videos\"\n",
        "\n",
        "\n",
        "# imgs = video_process.getFrame(videos_dir, file_num=500, frame_num=5, type=0)\n",
        "# # print(\"GetFrame Over!\")\n",
        "# # res = video_process.blazeFace(imgs)\n",
        "# print(\"Blaze Over!\")"
      ],
      "metadata": {
        "id": "xqeYQvlTbSJu"
      },
      "execution_count": 9,
      "outputs": []
    },
    {
      "cell_type": "code",
      "source": [
        "import os\n",
        "import tensorflow as tf\n",
        "import numpy as np\n",
        "import pandas as pd\n",
        "from os.path import isfile, join\n",
        "from os import rename, listdir, rename, makedirs\n",
        "from shutil import copyfile"
      ],
      "metadata": {
        "id": "jDkwVhSrtlBz"
      },
      "execution_count": 10,
      "outputs": []
    },
    {
      "cell_type": "code",
      "source": [
        "df = {\n",
        "    'path':[],\n",
        "    'label':[]\n",
        "}\n",
        "source_folder_1 = '/content/original_sequences/youtube/c23/videos'\n",
        "source_folder_2 = '/content/manipulated_sequences/Deepfakes/c23/videos'\n",
        "source_folder_3 = '/content/manipulated_sequences/Face2Face/c23/videos'\n",
        "source_folder_4 = '/content/manipulated_sequences/FaceSwap/c23/videos'\n",
        "source_folder_5 = '/content/manipulated_sequences/NeuralTextures/c23/videos'"
      ],
      "metadata": {
        "id": "_vxEbx2C74Li"
      },
      "execution_count": 11,
      "outputs": []
    },
    {
      "cell_type": "code",
      "source": [
        "for i in listdir(source_folder_1):\n",
        "  df['path'].append(join(source_folder_1,i))\n",
        "  df['label'].append(0)\n",
        "for i in listdir(source_folder_2):\n",
        "  df['path'].append(join(source_folder_2,i))\n",
        "  df['label'].append(1)\n",
        "for i in listdir(source_folder_3):\n",
        "  df['path'].append(join(source_folder_3,i))\n",
        "  df['label'].append(2)\n",
        "for i in listdir(source_folder_4):\n",
        "  df['path'].append(join(source_folder_4,i))\n",
        "  df['label'].append(3)  \n",
        "for i in listdir(source_folder_5):\n",
        "  df['path'].append(join(source_folder_5,i))\n",
        "  df['label'].append(4)\n"
      ],
      "metadata": {
        "id": "Z9UApyBl79cz"
      },
      "execution_count": 12,
      "outputs": []
    },
    {
      "cell_type": "code",
      "source": [
        " df =pd.DataFrame(df)\n",
        " "
      ],
      "metadata": {
        "id": "__WasJz3MFnj"
      },
      "execution_count": 13,
      "outputs": []
    },
    {
      "cell_type": "code",
      "source": [
        "df"
      ],
      "metadata": {
        "id": "SnPv1o5IMJ9P",
        "colab": {
          "base_uri": "https://localhost:8080/",
          "height": 424
        },
        "outputId": "ba4854fb-3012-4f3e-b919-73ed882e11c2"
      },
      "execution_count": 14,
      "outputs": [
        {
          "output_type": "execute_result",
          "data": {
            "text/plain": [
              "                                                   path  label\n",
              "0     /content/original_sequences/youtube/c23/videos...      0\n",
              "1     /content/original_sequences/youtube/c23/videos...      0\n",
              "2     /content/original_sequences/youtube/c23/videos...      0\n",
              "3     /content/original_sequences/youtube/c23/videos...      0\n",
              "4     /content/original_sequences/youtube/c23/videos...      0\n",
              "...                                                 ...    ...\n",
              "4995  /content/manipulated_sequences/NeuralTextures/...      4\n",
              "4996  /content/manipulated_sequences/NeuralTextures/...      4\n",
              "4997  /content/manipulated_sequences/NeuralTextures/...      4\n",
              "4998  /content/manipulated_sequences/NeuralTextures/...      4\n",
              "4999  /content/manipulated_sequences/NeuralTextures/...      4\n",
              "\n",
              "[5000 rows x 2 columns]"
            ],
            "text/html": [
              "\n",
              "  <div id=\"df-03db702d-f01a-4c18-89ef-7e9fde5048ce\">\n",
              "    <div class=\"colab-df-container\">\n",
              "      <div>\n",
              "<style scoped>\n",
              "    .dataframe tbody tr th:only-of-type {\n",
              "        vertical-align: middle;\n",
              "    }\n",
              "\n",
              "    .dataframe tbody tr th {\n",
              "        vertical-align: top;\n",
              "    }\n",
              "\n",
              "    .dataframe thead th {\n",
              "        text-align: right;\n",
              "    }\n",
              "</style>\n",
              "<table border=\"1\" class=\"dataframe\">\n",
              "  <thead>\n",
              "    <tr style=\"text-align: right;\">\n",
              "      <th></th>\n",
              "      <th>path</th>\n",
              "      <th>label</th>\n",
              "    </tr>\n",
              "  </thead>\n",
              "  <tbody>\n",
              "    <tr>\n",
              "      <th>0</th>\n",
              "      <td>/content/original_sequences/youtube/c23/videos...</td>\n",
              "      <td>0</td>\n",
              "    </tr>\n",
              "    <tr>\n",
              "      <th>1</th>\n",
              "      <td>/content/original_sequences/youtube/c23/videos...</td>\n",
              "      <td>0</td>\n",
              "    </tr>\n",
              "    <tr>\n",
              "      <th>2</th>\n",
              "      <td>/content/original_sequences/youtube/c23/videos...</td>\n",
              "      <td>0</td>\n",
              "    </tr>\n",
              "    <tr>\n",
              "      <th>3</th>\n",
              "      <td>/content/original_sequences/youtube/c23/videos...</td>\n",
              "      <td>0</td>\n",
              "    </tr>\n",
              "    <tr>\n",
              "      <th>4</th>\n",
              "      <td>/content/original_sequences/youtube/c23/videos...</td>\n",
              "      <td>0</td>\n",
              "    </tr>\n",
              "    <tr>\n",
              "      <th>...</th>\n",
              "      <td>...</td>\n",
              "      <td>...</td>\n",
              "    </tr>\n",
              "    <tr>\n",
              "      <th>4995</th>\n",
              "      <td>/content/manipulated_sequences/NeuralTextures/...</td>\n",
              "      <td>4</td>\n",
              "    </tr>\n",
              "    <tr>\n",
              "      <th>4996</th>\n",
              "      <td>/content/manipulated_sequences/NeuralTextures/...</td>\n",
              "      <td>4</td>\n",
              "    </tr>\n",
              "    <tr>\n",
              "      <th>4997</th>\n",
              "      <td>/content/manipulated_sequences/NeuralTextures/...</td>\n",
              "      <td>4</td>\n",
              "    </tr>\n",
              "    <tr>\n",
              "      <th>4998</th>\n",
              "      <td>/content/manipulated_sequences/NeuralTextures/...</td>\n",
              "      <td>4</td>\n",
              "    </tr>\n",
              "    <tr>\n",
              "      <th>4999</th>\n",
              "      <td>/content/manipulated_sequences/NeuralTextures/...</td>\n",
              "      <td>4</td>\n",
              "    </tr>\n",
              "  </tbody>\n",
              "</table>\n",
              "<p>5000 rows × 2 columns</p>\n",
              "</div>\n",
              "      <button class=\"colab-df-convert\" onclick=\"convertToInteractive('df-03db702d-f01a-4c18-89ef-7e9fde5048ce')\"\n",
              "              title=\"Convert this dataframe to an interactive table.\"\n",
              "              style=\"display:none;\">\n",
              "        \n",
              "  <svg xmlns=\"http://www.w3.org/2000/svg\" height=\"24px\"viewBox=\"0 0 24 24\"\n",
              "       width=\"24px\">\n",
              "    <path d=\"M0 0h24v24H0V0z\" fill=\"none\"/>\n",
              "    <path d=\"M18.56 5.44l.94 2.06.94-2.06 2.06-.94-2.06-.94-.94-2.06-.94 2.06-2.06.94zm-11 1L8.5 8.5l.94-2.06 2.06-.94-2.06-.94L8.5 2.5l-.94 2.06-2.06.94zm10 10l.94 2.06.94-2.06 2.06-.94-2.06-.94-.94-2.06-.94 2.06-2.06.94z\"/><path d=\"M17.41 7.96l-1.37-1.37c-.4-.4-.92-.59-1.43-.59-.52 0-1.04.2-1.43.59L10.3 9.45l-7.72 7.72c-.78.78-.78 2.05 0 2.83L4 21.41c.39.39.9.59 1.41.59.51 0 1.02-.2 1.41-.59l7.78-7.78 2.81-2.81c.8-.78.8-2.07 0-2.86zM5.41 20L4 18.59l7.72-7.72 1.47 1.35L5.41 20z\"/>\n",
              "  </svg>\n",
              "      </button>\n",
              "      \n",
              "  <style>\n",
              "    .colab-df-container {\n",
              "      display:flex;\n",
              "      flex-wrap:wrap;\n",
              "      gap: 12px;\n",
              "    }\n",
              "\n",
              "    .colab-df-convert {\n",
              "      background-color: #E8F0FE;\n",
              "      border: none;\n",
              "      border-radius: 50%;\n",
              "      cursor: pointer;\n",
              "      display: none;\n",
              "      fill: #1967D2;\n",
              "      height: 32px;\n",
              "      padding: 0 0 0 0;\n",
              "      width: 32px;\n",
              "    }\n",
              "\n",
              "    .colab-df-convert:hover {\n",
              "      background-color: #E2EBFA;\n",
              "      box-shadow: 0px 1px 2px rgba(60, 64, 67, 0.3), 0px 1px 3px 1px rgba(60, 64, 67, 0.15);\n",
              "      fill: #174EA6;\n",
              "    }\n",
              "\n",
              "    [theme=dark] .colab-df-convert {\n",
              "      background-color: #3B4455;\n",
              "      fill: #D2E3FC;\n",
              "    }\n",
              "\n",
              "    [theme=dark] .colab-df-convert:hover {\n",
              "      background-color: #434B5C;\n",
              "      box-shadow: 0px 1px 3px 1px rgba(0, 0, 0, 0.15);\n",
              "      filter: drop-shadow(0px 1px 2px rgba(0, 0, 0, 0.3));\n",
              "      fill: #FFFFFF;\n",
              "    }\n",
              "  </style>\n",
              "\n",
              "      <script>\n",
              "        const buttonEl =\n",
              "          document.querySelector('#df-03db702d-f01a-4c18-89ef-7e9fde5048ce button.colab-df-convert');\n",
              "        buttonEl.style.display =\n",
              "          google.colab.kernel.accessAllowed ? 'block' : 'none';\n",
              "\n",
              "        async function convertToInteractive(key) {\n",
              "          const element = document.querySelector('#df-03db702d-f01a-4c18-89ef-7e9fde5048ce');\n",
              "          const dataTable =\n",
              "            await google.colab.kernel.invokeFunction('convertToInteractive',\n",
              "                                                     [key], {});\n",
              "          if (!dataTable) return;\n",
              "\n",
              "          const docLinkHtml = 'Like what you see? Visit the ' +\n",
              "            '<a target=\"_blank\" href=https://colab.research.google.com/notebooks/data_table.ipynb>data table notebook</a>'\n",
              "            + ' to learn more about interactive tables.';\n",
              "          element.innerHTML = '';\n",
              "          dataTable['output_type'] = 'display_data';\n",
              "          await google.colab.output.renderOutput(dataTable, element);\n",
              "          const docLink = document.createElement('div');\n",
              "          docLink.innerHTML = docLinkHtml;\n",
              "          element.appendChild(docLink);\n",
              "        }\n",
              "      </script>\n",
              "    </div>\n",
              "  </div>\n",
              "  "
            ]
          },
          "metadata": {},
          "execution_count": 14
        }
      ]
    },
    {
      "cell_type": "code",
      "source": [
        ""
      ],
      "metadata": {
        "id": "GThEoWfg-iRM"
      },
      "execution_count": 14,
      "outputs": []
    },
    {
      "cell_type": "code",
      "source": [
        "\n",
        "def get_dataset_partitions_pd(df, train_split=0.8, val_split=0.1, test_split=0.1):\n",
        "    assert (train_split + test_split + val_split) == 1\n",
        "    \n",
        "    # Only allows for equal validation and test splits\n",
        "    assert val_split == test_split \n",
        "\n",
        "    # Specify seed to always have the same split distribution between runs\n",
        "    df_sample = df.sample(frac=1, random_state=12)\n",
        "    indices_or_sections = [int(train_split * len(df)), int((1 - val_split - test_split) * len(df))]\n",
        "    \n",
        "    train_ds, val_ds, test_ds = np.split(df_sample, indices_or_sections)\n",
        "    \n",
        "    return train_ds, val_ds, test_ds"
      ],
      "metadata": {
        "id": "jDKZLVKL_8z2"
      },
      "execution_count": 15,
      "outputs": []
    },
    {
      "cell_type": "code",
      "source": [
        "train_ds, val_ds, test_ds=get_dataset_partitions_pd(df[:1000])"
      ],
      "metadata": {
        "id": "yaqIndiBfjkc"
      },
      "execution_count": 25,
      "outputs": []
    },
    {
      "cell_type": "code",
      "source": [
        ""
      ],
      "metadata": {
        "id": "0HQWH-OGhMEV"
      },
      "execution_count": 16,
      "outputs": []
    },
    {
      "cell_type": "code",
      "source": [
        "train_dataset = tf.data.Dataset.from_tensor_slices((train_ds['path'],train_ds['label']))\n",
        "train_dataset = train_dataset.shuffle(buffer_size=1024).batch(16)\n",
        "\n",
        "# Prepare the validation dataset.\n",
        "val_dataset = tf.data.Dataset.from_tensor_slices((val_ds['path'],val_ds['label']))\n",
        "val_dataset = val_dataset.batch(16)"
      ],
      "metadata": {
        "id": "SEDoqT2brgru"
      },
      "execution_count": 26,
      "outputs": []
    },
    {
      "cell_type": "markdown",
      "source": [
        ""
      ],
      "metadata": {
        "id": "o0XqujI3yg3F"
      }
    },
    {
      "cell_type": "code",
      "source": [
        "def sub_model():\n",
        "  base = tf.keras.applications.xception.Xception(include_top=False,weights='imagenet',input_shape=(128,128,3))\n",
        "  inputs = tf.keras.Input(shape=(128,128,3))\n",
        "  scale_layer = tf.keras.layers.Rescaling(scale=1. / 255.)\n",
        "  x = scale_layer(inputs)\n",
        "  \n",
        "  x = base(x)\n",
        "  x = tf.keras.layers.GlobalAveragePooling2D()(x)\n",
        "  x = tf.keras.layers.Dense(512, activation=\"relu\", kernel_initializer=\"he_uniform\")(x)\n",
        "  x = tf.keras.layers.Dropout(0.4)(x)\n",
        "  x = tf.keras.layers.Dropout(0.5)(x)\n",
        "  predictions = tf.keras.layers.Dense(5,activation=\"softmax\",kernel_initializer=\"he_uniform\")(x)\n",
        "  model = tf.keras.Model(inputs=inputs, outputs=predictions)\n",
        "\n",
        "  for layer in base.layers:\n",
        "      layer.trainable = True\n",
        "\n",
        "  optimizer=tf.keras.optimizers.Adam(\n",
        "    learning_rate=0.001,\n",
        "    beta_1=0.9,\n",
        "    beta_2=0.999,\n",
        "    epsilon=1e-06)\n",
        "\n",
        "  model.compile(\n",
        "        loss=\"categorical_crossentropy\",\n",
        "        optimizer=optimizer,\n",
        "        metrics=[\"accuracy\"])\n",
        "  return model\n",
        "\n",
        "  \n",
        "    "
      ],
      "metadata": {
        "id": "uMvhp0Hz_yvM"
      },
      "execution_count": 27,
      "outputs": []
    },
    {
      "cell_type": "code",
      "source": [
        "from tensorflow.keras.layers import TimeDistributed, GRU, Dense, Dropout\n",
        "def build_model(shape=(5, 128, 128, 3), nbout=5):\n",
        "    # Create our convnet with (112, 112, 3) input shape\n",
        "    convnet = sub_model()\n",
        "    \n",
        "    # then create our final model\n",
        "    model = tf.keras.Sequential()\n",
        "    # add the convnet with (5, 112, 112, 3) shape\n",
        "    model.add(TimeDistributed(convnet, input_shape=shape))\n",
        "    # here, you can also use GRU or LSTM\n",
        "    model.add(GRU(64))\n",
        "    # and finally, we make a decision network\n",
        "    model.add(Dense(1024, activation='relu'))\n",
        "    model.add(Dropout(.5))\n",
        "    model.add(Dense(512, activation='relu'))\n",
        "    model.add(Dropout(.5))\n",
        "    model.add(Dense(128, activation='relu'))\n",
        "    model.add(Dropout(.5))\n",
        "    model.add(Dense(64, activation='relu'))\n",
        "    model.add(Dense(nbout, activation='softmax'))\n",
        "    return model"
      ],
      "metadata": {
        "id": "OTWgor3W8M7u"
      },
      "execution_count": 28,
      "outputs": []
    },
    {
      "cell_type": "code",
      "source": [
        "tf.keras.backend.clear_session()"
      ],
      "metadata": {
        "id": "BB9jUPMxHs_o"
      },
      "execution_count": 29,
      "outputs": []
    },
    {
      "cell_type": "code",
      "source": [
        "from keras.utils.vis_utils import plot_model\n",
        "model = build_model()\n",
        "plot_model(model, to_file='model_plot.png', show_shapes=True, show_layer_names=True)\n"
      ],
      "metadata": {
        "id": "gtWGhJdqiKWW",
        "colab": {
          "base_uri": "https://localhost:8080/",
          "height": 1000
        },
        "outputId": "e9f4054d-6d84-456d-879a-815994ceec1b"
      },
      "execution_count": 30,
      "outputs": [
        {
          "output_type": "execute_result",
          "data": {
            "text/plain": [
              "<IPython.core.display.Image object>"
            ],
            "image/png": "[encoded data removed]"
          },
          "metadata": {},
          "execution_count": 30
        }
      ]
    },
    {
      "cell_type": "code",
      "source": [
        "\n",
        "# train_loss_results = []\n",
        "# train_accuracy_results = []\n",
        "\n",
        "# num_epochs = 201\n",
        "\n",
        "# for epoch in range(num_epochs):\n",
        "#   epoch_loss_avg = tf.keras.metrics.Mean()\n",
        "#   epoch_accuracy = tf.keras.metrics.SparseCategoricalAccuracy()\n",
        "\n",
        "#   # Training loop - using batches of 32\n",
        "#   for x, y in ds_train_batch:\n",
        "#     # Optimize the model\n",
        "#     loss_value, grads = grad(model, x, y)\n",
        "#     optimizer.apply_gradients(zip(grads, model.trainable_variables))\n",
        "\n",
        "#     # Track progress\n",
        "#     epoch_loss_avg.update_state(loss_value)  # Add current batch loss\n",
        "#     # Compare predicted label to actual label\n",
        "#     # training=True is needed only if there are layers with different\n",
        "#     # behavior during training versus inference (e.g. Dropout).\n",
        "#     epoch_accuracy.update_state(y, model(x, training=True))\n",
        "\n",
        "#   # End epoch\n",
        "#   train_loss_results.append(epoch_loss_avg.result())\n",
        "#   train_accuracy_results.append(epoch_accuracy.result())\n",
        "\n",
        "#   if epoch % 50 == 0:\n",
        "#     print(\"Epoch {:03d}: Loss: {:.3f}, Accuracy: {:.3%}\".format(epoch,\n",
        "#                                                                 epoch_loss_avg.result(),\n",
        "#                                                                 epoch_accuracy.result()))"
      ],
      "metadata": {
        "id": "utR0G6uUk7Sj"
      },
      "execution_count": 22,
      "outputs": []
    },
    {
      "cell_type": "code",
      "source": [
        "loss_object = tf.keras.losses.SparseCategoricalCrossentropy(from_logits=True)\n",
        "optimizer=tf.keras.optimizers.Adam(\n",
        "    learning_rate=0.001,\n",
        "    beta_1=0.9,\n",
        "    beta_2=0.999,\n",
        "    epsilon=1e-06)\n"
      ],
      "metadata": {
        "id": "dNQxUJ7BOFQS"
      },
      "execution_count": 31,
      "outputs": []
    },
    {
      "cell_type": "code",
      "source": [
        "epochs = 6\n",
        "video_process = VideoProcess()\n",
        "val_loss_results = []\n",
        "val_accuracy_results = []\n",
        "train_loss_results = []\n",
        "train_accuracy_results = []\n",
        "for epoch in range(epochs):\n",
        "    epoch_loss_avg = tf.keras.metrics.Mean()\n",
        "    epoch_accuracy = tf.keras.metrics.SparseCategoricalAccuracy()\n",
        "    print(\"\\nStart of epoch %d\" % (epoch))\n",
        "    val_loss_avg = tf.keras.metrics.Mean()\n",
        "    val_acc_metric = tf.keras.metrics.SparseCategoricalAccuracy()\n",
        "    # Iterate over the batches of the dataset.\n",
        "    for step, (x_batch_train, y_batch_train) in tqdm.tqdm(enumerate(train_dataset.as_numpy_iterator())):\n",
        "\n",
        "        \n",
        "        imgs = video_process.getFrame(x_batch_train, file_num=500, frame_num=5, type=0);\n",
        "\n",
        "        # res = video_process.blazeFace(imgs)\n",
        "        print(\"Step is over\"  )\n",
        "\n",
        "        with tf.GradientTape() as tape:\n",
        "\n",
        "            \n",
        "            logits = model([np.array(imgs)], training=True)  \n",
        "\n",
        "            # Compute the loss value for this minibatch.\n",
        "            loss_value = loss_object(y_batch_train,logits)\n",
        "\n",
        "\n",
        "        grads = tape.gradient(loss_value, model.trainable_weights)\n",
        "\n",
        "        # Run one step of gradient descent by updating\n",
        "        # the value of the variables to minimize the loss.\n",
        "        optimizer.apply_gradients(zip(grads, model.trainable_weights))\n",
        "        epoch_loss_avg.update_state(loss_value)  # Add current batch loss\n",
        "\n",
        "\n",
        "\n",
        "    # Compare predicted label to actual label\n",
        "    # training=True is needed only if there are layers with different\n",
        "    # behavior during training versus inference (e.g. Dropout).\n",
        "        epoch_accuracy.update_state(y_batch_train, model([np.array(imgs)], training=True))\n",
        "\n",
        "          \n",
        "\n",
        "        # Log every 200 batches.\n",
        "        if step % 1 == 0:\n",
        "            print(\n",
        "                \"Training loss (for one batch) at step %d: %.4f\"\n",
        "                % (step, float(loss_value))\n",
        "            )\n",
        "            print(\"Seen so far: %s samples\" % ((step + 1) * 16))\n",
        "        \n",
        "      # End epoch\n",
        "\n",
        "\n",
        "    for step, (x_batch_val, y_batch_val) in tqdm.tqdm(enumerate(val_dataset.as_numpy_iterator())):\n",
        "        val_logits = model(x_batch_val, training=False)\n",
        "        # Update val metrics\n",
        "        val_acc_metric.update_state(y_batch_val, val_logits)\n",
        "    val_acc = val_acc_metric.result()\n",
        "    val_acc_metric.reset_states()\n",
        "    print(\"Validation acc: %.4f\" % (float(val_acc),))\n",
        "    # print(\"Time taken: %.2fs\" % (time.time() - start_time))\n",
        "\n",
        "    # for step, (x_batch_val, y_batch_val) in tqdm.tqdm(enumerate(val_dataset.as_numpy_iterator())):\n",
        "    #     val_logits = model(x_batch_val, training=False)\n",
        "    #     val_loss_value = loss_object(y_batch_val,val_logits)\n",
        "    #     val_loss_avg.update_state(val_loss_value)\n",
        "    #     # Update val metrics\n",
        "    #     val_acc_metric.update_state(y_batch_val, val_logits)\n",
        "    # val_acc = val_acc_metric.result()\n",
        "    # val_loss =  val_loss_avg.result()\n",
        "\n",
        "    # print(\"Validation acc: %.4f\" % (float(val_acc),))\n",
        "    # print(\"Validation loss: %.4f\" % (float(val_loss),))\n",
        "    # # print(\"Time taken: %.2fs\" % (time.time() - start_time))\n",
        "    val_loss_results.append(val_loss_avg.result())\n",
        "    val_accuracy_results.append(val_acc_metric.result())\n",
        "    # val_acc_metric.reset_states()\n",
        "    # val_loss_avg.reset_states()\n",
        "    train_loss_results.append(epoch_loss_avg.result())\n",
        "    train_accuracy_results.append(epoch_accuracy.result())\n",
        "      "
      ],
      "metadata": {
        "id": "6JStf-CsQluH",
        "colab": {
          "base_uri": "https://localhost:8080/"
        },
        "outputId": "c464eb9d-31c2-4605-badd-bd4a545437e2"
      },
      "execution_count": 34,
      "outputs": [
        {
          "output_type": "stream",
          "name": "stdout",
          "text": [
            "\n",
            "Start of epoch 0\n"
          ]
        },
        {
          "output_type": "stream",
          "name": "stderr",
          "text": [
            "\r0it [00:00, ?it/s]/usr/local/lib/python3.7/dist-packages/ipykernel_launcher.py:32: DeprecationWarning: `np.int` is a deprecated alias for the builtin `int`. To silence this warning, use `int` by itself. Doing this will not modify any behavior and is safe. When replacing `np.int`, you may wish to use e.g. `np.int64` or `np.int32` to specify the precision. If you wish to review your current use, check the release note link for additional information.\n",
            "Deprecated in NumPy 1.20; for more details and guidance: https://numpy.org/devdocs/release/1.20.0-notes.html#deprecations\n"
          ]
        },
        {
          "output_type": "stream",
          "name": "stdout",
          "text": [
            "Step is over\n"
          ]
        },
        {
          "output_type": "stream",
          "name": "stderr",
          "text": [
            "/usr/local/lib/python3.7/dist-packages/tensorflow/python/util/dispatch.py:1082: UserWarning: \"`sparse_categorical_crossentropy` received `from_logits=True`, but the `output` argument was produced by a sigmoid or softmax activation and thus does not represent logits. Was this intended?\"\n",
            "  return dispatch_target(*args, **kwargs)\n",
            "1it [01:32, 92.86s/it]"
          ]
        },
        {
          "output_type": "stream",
          "name": "stdout",
          "text": [
            "Training loss (for one batch) at step 0: 1.6385\n",
            "Seen so far: 16 samples\n",
            "Step is over\n"
          ]
        },
        {
          "output_type": "stream",
          "name": "stderr",
          "text": [
            "\r2it [02:48, 82.87s/it]"
          ]
        },
        {
          "output_type": "stream",
          "name": "stdout",
          "text": [
            "Training loss (for one batch) at step 1: 1.5914\n",
            "Seen so far: 32 samples\n",
            "Step is over\n"
          ]
        },
        {
          "output_type": "stream",
          "name": "stderr",
          "text": [
            "\r3it [04:10, 82.51s/it]"
          ]
        },
        {
          "output_type": "stream",
          "name": "stdout",
          "text": [
            "Training loss (for one batch) at step 2: 1.5514\n",
            "Seen so far: 48 samples\n",
            "Step is over\n"
          ]
        },
        {
          "output_type": "stream",
          "name": "stderr",
          "text": [
            "\r4it [05:48, 88.34s/it]"
          ]
        },
        {
          "output_type": "stream",
          "name": "stdout",
          "text": [
            "Training loss (for one batch) at step 3: 1.4878\n",
            "Seen so far: 64 samples\n",
            "Step is over\n"
          ]
        },
        {
          "output_type": "stream",
          "name": "stderr",
          "text": [
            "\r5it [07:10, 86.24s/it]"
          ]
        },
        {
          "output_type": "stream",
          "name": "stdout",
          "text": [
            "Training loss (for one batch) at step 4: 1.4208\n",
            "Seen so far: 80 samples\n",
            "Step is over\n"
          ]
        },
        {
          "output_type": "stream",
          "name": "stderr",
          "text": [
            "\r6it [08:44, 88.71s/it]"
          ]
        },
        {
          "output_type": "stream",
          "name": "stdout",
          "text": [
            "Training loss (for one batch) at step 5: 1.2705\n",
            "Seen so far: 96 samples\n",
            "Step is over\n"
          ]
        },
        {
          "output_type": "stream",
          "name": "stderr",
          "text": [
            "\r7it [10:13, 88.87s/it]"
          ]
        },
        {
          "output_type": "stream",
          "name": "stdout",
          "text": [
            "Training loss (for one batch) at step 6: 1.1020\n",
            "Seen so far: 112 samples\n",
            "Step is over\n"
          ]
        },
        {
          "output_type": "stream",
          "name": "stderr",
          "text": [
            "\r8it [11:38, 87.77s/it]"
          ]
        },
        {
          "output_type": "stream",
          "name": "stdout",
          "text": [
            "Training loss (for one batch) at step 7: 0.8685\n",
            "Seen so far: 128 samples\n",
            "Step is over\n"
          ]
        },
        {
          "output_type": "stream",
          "name": "stderr",
          "text": [
            "\r9it [13:11, 89.38s/it]"
          ]
        },
        {
          "output_type": "stream",
          "name": "stdout",
          "text": [
            "Training loss (for one batch) at step 8: 0.6313\n",
            "Seen so far: 144 samples\n",
            "Step is over\n"
          ]
        },
        {
          "output_type": "stream",
          "name": "stderr",
          "text": [
            "\r10it [14:41, 89.42s/it]"
          ]
        },
        {
          "output_type": "stream",
          "name": "stdout",
          "text": [
            "Training loss (for one batch) at step 9: 0.3773\n",
            "Seen so far: 160 samples\n",
            "Step is over\n"
          ]
        },
        {
          "output_type": "stream",
          "name": "stderr",
          "text": [
            "\r11it [16:06, 88.29s/it]"
          ]
        },
        {
          "output_type": "stream",
          "name": "stdout",
          "text": [
            "Training loss (for one batch) at step 10: 0.1661\n",
            "Seen so far: 176 samples\n",
            "Step is over\n"
          ]
        },
        {
          "output_type": "stream",
          "name": "stderr",
          "text": [
            "\r12it [17:41, 90.17s/it]"
          ]
        },
        {
          "output_type": "stream",
          "name": "stdout",
          "text": [
            "Training loss (for one batch) at step 11: 0.0940\n",
            "Seen so far: 192 samples\n",
            "Step is over\n"
          ]
        },
        {
          "output_type": "stream",
          "name": "stderr",
          "text": [
            "\r13it [19:29, 95.71s/it]"
          ]
        },
        {
          "output_type": "stream",
          "name": "stdout",
          "text": [
            "Training loss (for one batch) at step 12: 0.0222\n",
            "Seen so far: 208 samples\n",
            "Step is over\n"
          ]
        },
        {
          "output_type": "stream",
          "name": "stderr",
          "text": [
            "\r14it [21:06, 95.87s/it]"
          ]
        },
        {
          "output_type": "stream",
          "name": "stdout",
          "text": [
            "Training loss (for one batch) at step 13: 0.0078\n",
            "Seen so far: 224 samples\n",
            "Step is over\n"
          ]
        },
        {
          "output_type": "stream",
          "name": "stderr",
          "text": [
            "\r15it [22:36, 94.33s/it]"
          ]
        },
        {
          "output_type": "stream",
          "name": "stdout",
          "text": [
            "Training loss (for one batch) at step 14: 0.0010\n",
            "Seen so far: 240 samples\n",
            "Step is over\n"
          ]
        },
        {
          "output_type": "stream",
          "name": "stderr",
          "text": [
            "\r16it [24:10, 94.09s/it]"
          ]
        },
        {
          "output_type": "stream",
          "name": "stdout",
          "text": [
            "Training loss (for one batch) at step 15: 0.0020\n",
            "Seen so far: 256 samples\n",
            "Step is over\n"
          ]
        },
        {
          "output_type": "stream",
          "name": "stderr",
          "text": [
            "\r17it [25:38, 92.42s/it]"
          ]
        },
        {
          "output_type": "stream",
          "name": "stdout",
          "text": [
            "Training loss (for one batch) at step 16: 0.0001\n",
            "Seen so far: 272 samples\n",
            "Step is over\n"
          ]
        },
        {
          "output_type": "stream",
          "name": "stderr",
          "text": [
            "\r18it [27:09, 91.98s/it]"
          ]
        },
        {
          "output_type": "stream",
          "name": "stdout",
          "text": [
            "Training loss (for one batch) at step 17: 0.0000\n",
            "Seen so far: 288 samples\n",
            "Step is over\n"
          ]
        },
        {
          "output_type": "stream",
          "name": "stderr",
          "text": [
            "\r19it [28:46, 93.36s/it]"
          ]
        },
        {
          "output_type": "stream",
          "name": "stdout",
          "text": [
            "Training loss (for one batch) at step 18: 0.0000\n",
            "Seen so far: 304 samples\n",
            "Step is over\n"
          ]
        },
        {
          "output_type": "stream",
          "name": "stderr",
          "text": [
            "\r20it [30:21, 93.91s/it]"
          ]
        },
        {
          "output_type": "stream",
          "name": "stdout",
          "text": [
            "Training loss (for one batch) at step 19: 0.0000\n",
            "Seen so far: 320 samples\n",
            "Step is over\n"
          ]
        },
        {
          "output_type": "stream",
          "name": "stderr",
          "text": [
            "\r21it [31:48, 91.92s/it]"
          ]
        },
        {
          "output_type": "stream",
          "name": "stdout",
          "text": [
            "Training loss (for one batch) at step 20: 0.0000\n",
            "Seen so far: 336 samples\n",
            "Step is over\n"
          ]
        },
        {
          "output_type": "stream",
          "name": "stderr",
          "text": [
            "\r22it [33:10, 88.79s/it]"
          ]
        },
        {
          "output_type": "stream",
          "name": "stdout",
          "text": [
            "Training loss (for one batch) at step 21: 0.0000\n",
            "Seen so far: 352 samples\n",
            "Step is over\n"
          ]
        },
        {
          "output_type": "stream",
          "name": "stderr",
          "text": [
            "\r23it [34:47, 91.20s/it]"
          ]
        },
        {
          "output_type": "stream",
          "name": "stdout",
          "text": [
            "Training loss (for one batch) at step 22: 0.0000\n",
            "Seen so far: 368 samples\n",
            "Step is over\n"
          ]
        },
        {
          "output_type": "stream",
          "name": "stderr",
          "text": [
            "\r24it [36:09, 88.43s/it]"
          ]
        },
        {
          "output_type": "stream",
          "name": "stdout",
          "text": [
            "Training loss (for one batch) at step 23: 0.0000\n",
            "Seen so far: 384 samples\n",
            "Step is over\n"
          ]
        },
        {
          "output_type": "stream",
          "name": "stderr",
          "text": [
            "\r25it [37:48, 91.83s/it]"
          ]
        },
        {
          "output_type": "stream",
          "name": "stdout",
          "text": [
            "Training loss (for one batch) at step 24: 0.0000\n",
            "Seen so far: 400 samples\n",
            "Step is over\n"
          ]
        },
        {
          "output_type": "stream",
          "name": "stderr",
          "text": [
            "\r26it [39:52, 101.37s/it]"
          ]
        },
        {
          "output_type": "stream",
          "name": "stdout",
          "text": [
            "Training loss (for one batch) at step 25: 0.0000\n",
            "Seen so far: 416 samples\n",
            "Step is over\n"
          ]
        },
        {
          "output_type": "stream",
          "name": "stderr",
          "text": [
            "\r27it [41:13, 95.13s/it] "
          ]
        },
        {
          "output_type": "stream",
          "name": "stdout",
          "text": [
            "Training loss (for one batch) at step 26: 0.0000\n",
            "Seen so far: 432 samples\n",
            "Step is over\n"
          ]
        },
        {
          "output_type": "stream",
          "name": "stderr",
          "text": [
            "\r28it [42:39, 92.37s/it]"
          ]
        },
        {
          "output_type": "stream",
          "name": "stdout",
          "text": [
            "Training loss (for one batch) at step 27: 0.0000\n",
            "Seen so far: 448 samples\n",
            "Step is over\n"
          ]
        },
        {
          "output_type": "stream",
          "name": "stderr",
          "text": [
            "\r29it [44:09, 91.78s/it]"
          ]
        },
        {
          "output_type": "stream",
          "name": "stdout",
          "text": [
            "Training loss (for one batch) at step 28: 0.0000\n",
            "Seen so far: 464 samples\n",
            "Step is over\n"
          ]
        },
        {
          "output_type": "stream",
          "name": "stderr",
          "text": [
            "\r30it [45:36, 90.36s/it]"
          ]
        },
        {
          "output_type": "stream",
          "name": "stdout",
          "text": [
            "Training loss (for one batch) at step 29: 0.0000\n",
            "Seen so far: 480 samples\n",
            "Step is over\n"
          ]
        },
        {
          "output_type": "stream",
          "name": "stderr",
          "text": [
            "\r31it [47:05, 90.05s/it]"
          ]
        },
        {
          "output_type": "stream",
          "name": "stdout",
          "text": [
            "Training loss (for one batch) at step 30: 0.0000\n",
            "Seen so far: 496 samples\n",
            "Step is over\n"
          ]
        },
        {
          "output_type": "stream",
          "name": "stderr",
          "text": [
            "\r32it [48:41, 91.59s/it]"
          ]
        },
        {
          "output_type": "stream",
          "name": "stdout",
          "text": [
            "Training loss (for one batch) at step 31: 0.0000\n",
            "Seen so far: 512 samples\n",
            "Step is over\n"
          ]
        },
        {
          "output_type": "stream",
          "name": "stderr",
          "text": [
            "\r33it [50:13, 91.97s/it]"
          ]
        },
        {
          "output_type": "stream",
          "name": "stdout",
          "text": [
            "Training loss (for one batch) at step 32: 0.0000\n",
            "Seen so far: 528 samples\n",
            "Step is over\n"
          ]
        },
        {
          "output_type": "stream",
          "name": "stderr",
          "text": [
            "\r34it [51:46, 92.21s/it]"
          ]
        },
        {
          "output_type": "stream",
          "name": "stdout",
          "text": [
            "Training loss (for one batch) at step 33: 0.0000\n",
            "Seen so far: 544 samples\n",
            "Step is over\n"
          ]
        },
        {
          "output_type": "stream",
          "name": "stderr",
          "text": [
            "\r35it [53:08, 89.02s/it]"
          ]
        },
        {
          "output_type": "stream",
          "name": "stdout",
          "text": [
            "Training loss (for one batch) at step 34: 0.0000\n",
            "Seen so far: 560 samples\n",
            "Step is over\n"
          ]
        },
        {
          "output_type": "stream",
          "name": "stderr",
          "text": [
            "\r36it [54:43, 90.88s/it]"
          ]
        },
        {
          "output_type": "stream",
          "name": "stdout",
          "text": [
            "Training loss (for one batch) at step 35: 0.0000\n",
            "Seen so far: 576 samples\n",
            "Step is over\n"
          ]
        },
        {
          "output_type": "stream",
          "name": "stderr",
          "text": [
            "\r37it [56:12, 90.31s/it]"
          ]
        },
        {
          "output_type": "stream",
          "name": "stdout",
          "text": [
            "Training loss (for one batch) at step 36: 0.0000\n",
            "Seen so far: 592 samples\n",
            "Step is over\n"
          ]
        },
        {
          "output_type": "stream",
          "name": "stderr",
          "text": [
            "\r38it [57:29, 86.26s/it]"
          ]
        },
        {
          "output_type": "stream",
          "name": "stdout",
          "text": [
            "Training loss (for one batch) at step 37: 0.0000\n",
            "Seen so far: 608 samples\n",
            "Step is over\n"
          ]
        },
        {
          "output_type": "stream",
          "name": "stderr",
          "text": [
            "\r39it [59:04, 88.87s/it]"
          ]
        },
        {
          "output_type": "stream",
          "name": "stdout",
          "text": [
            "Training loss (for one batch) at step 38: 0.0000\n",
            "Seen so far: 624 samples\n",
            "Step is over\n"
          ]
        },
        {
          "output_type": "stream",
          "name": "stderr",
          "text": [
            "\r40it [1:00:39, 90.71s/it]"
          ]
        },
        {
          "output_type": "stream",
          "name": "stdout",
          "text": [
            "Training loss (for one batch) at step 39: 0.0000\n",
            "Seen so far: 640 samples\n",
            "Step is over\n"
          ]
        },
        {
          "output_type": "stream",
          "name": "stderr",
          "text": [
            "\r41it [1:02:20, 93.85s/it]"
          ]
        },
        {
          "output_type": "stream",
          "name": "stdout",
          "text": [
            "Training loss (for one batch) at step 40: 0.0000\n",
            "Seen so far: 656 samples\n",
            "Step is over\n"
          ]
        },
        {
          "output_type": "stream",
          "name": "stderr",
          "text": [
            "\r42it [1:03:52, 93.37s/it]"
          ]
        },
        {
          "output_type": "stream",
          "name": "stdout",
          "text": [
            "Training loss (for one batch) at step 41: 0.0000\n",
            "Seen so far: 672 samples\n",
            "Step is over\n"
          ]
        },
        {
          "output_type": "stream",
          "name": "stderr",
          "text": [
            "\r43it [1:05:15, 90.08s/it]"
          ]
        },
        {
          "output_type": "stream",
          "name": "stdout",
          "text": [
            "Training loss (for one batch) at step 42: 0.0000\n",
            "Seen so far: 688 samples\n",
            "Step is over\n"
          ]
        },
        {
          "output_type": "stream",
          "name": "stderr",
          "text": [
            "\r44it [1:06:49, 91.30s/it]"
          ]
        },
        {
          "output_type": "stream",
          "name": "stdout",
          "text": [
            "Training loss (for one batch) at step 43: 0.0000\n",
            "Seen so far: 704 samples\n",
            "Step is over\n"
          ]
        },
        {
          "output_type": "stream",
          "name": "stderr",
          "text": [
            "\r45it [1:08:05, 86.84s/it]"
          ]
        },
        {
          "output_type": "stream",
          "name": "stdout",
          "text": [
            "Training loss (for one batch) at step 44: 0.0000\n",
            "Seen so far: 720 samples\n",
            "Step is over\n"
          ]
        },
        {
          "output_type": "stream",
          "name": "stderr",
          "text": [
            "\r46it [1:09:46, 90.96s/it]"
          ]
        },
        {
          "output_type": "stream",
          "name": "stdout",
          "text": [
            "Training loss (for one batch) at step 45: 0.0000\n",
            "Seen so far: 736 samples\n",
            "Step is over\n"
          ]
        },
        {
          "output_type": "stream",
          "name": "stderr",
          "text": [
            "\r47it [1:11:30, 95.11s/it]"
          ]
        },
        {
          "output_type": "stream",
          "name": "stdout",
          "text": [
            "Training loss (for one batch) at step 46: 0.0000\n",
            "Seen so far: 752 samples\n",
            "Step is over\n"
          ]
        },
        {
          "output_type": "stream",
          "name": "stderr",
          "text": [
            "\r48it [1:12:54, 91.65s/it]"
          ]
        },
        {
          "output_type": "stream",
          "name": "stdout",
          "text": [
            "Training loss (for one batch) at step 47: 0.0000\n",
            "Seen so far: 768 samples\n",
            "Step is over\n"
          ]
        },
        {
          "output_type": "stream",
          "name": "stderr",
          "text": [
            "\r49it [1:14:28, 92.20s/it]"
          ]
        },
        {
          "output_type": "stream",
          "name": "stdout",
          "text": [
            "Training loss (for one batch) at step 48: 0.0000\n",
            "Seen so far: 784 samples\n",
            "Step is over\n"
          ]
        },
        {
          "output_type": "stream",
          "name": "stderr",
          "text": [
            "50it [1:16:03, 91.26s/it]\n"
          ]
        },
        {
          "output_type": "stream",
          "name": "stdout",
          "text": [
            "Training loss (for one batch) at step 49: 0.0000\n",
            "Seen so far: 800 samples\n"
          ]
        },
        {
          "output_type": "stream",
          "name": "stderr",
          "text": [
            "0it [00:00, ?it/s]\n"
          ]
        },
        {
          "output_type": "stream",
          "name": "stdout",
          "text": [
            "Validation acc: 0.0000\n",
            "\n",
            "Start of epoch 1\n"
          ]
        },
        {
          "output_type": "stream",
          "name": "stderr",
          "text": [
            "\r0it [00:00, ?it/s]"
          ]
        },
        {
          "output_type": "stream",
          "name": "stdout",
          "text": [
            "Step is over\n"
          ]
        },
        {
          "output_type": "stream",
          "name": "stderr",
          "text": [
            "\r1it [01:42, 102.37s/it]"
          ]
        },
        {
          "output_type": "stream",
          "name": "stdout",
          "text": [
            "Training loss (for one batch) at step 0: 0.0000\n",
            "Seen so far: 16 samples\n",
            "Step is over\n"
          ]
        },
        {
          "output_type": "stream",
          "name": "stderr",
          "text": [
            "\r2it [03:17, 98.02s/it] "
          ]
        },
        {
          "output_type": "stream",
          "name": "stdout",
          "text": [
            "Training loss (for one batch) at step 1: 0.0000\n",
            "Seen so far: 32 samples\n",
            "Step is over\n"
          ]
        },
        {
          "output_type": "stream",
          "name": "stderr",
          "text": [
            "\r3it [04:59, 99.90s/it]"
          ]
        },
        {
          "output_type": "stream",
          "name": "stdout",
          "text": [
            "Training loss (for one batch) at step 2: 0.0000\n",
            "Seen so far: 48 samples\n",
            "Step is over\n"
          ]
        },
        {
          "output_type": "stream",
          "name": "stderr",
          "text": [
            "\r4it [06:36, 98.84s/it]"
          ]
        },
        {
          "output_type": "stream",
          "name": "stdout",
          "text": [
            "Training loss (for one batch) at step 3: 0.0000\n",
            "Seen so far: 64 samples\n",
            "Step is over\n"
          ]
        },
        {
          "output_type": "stream",
          "name": "stderr",
          "text": [
            "\r5it [08:22, 101.30s/it]"
          ]
        },
        {
          "output_type": "stream",
          "name": "stdout",
          "text": [
            "Training loss (for one batch) at step 4: 0.0000\n",
            "Seen so far: 80 samples\n",
            "Step is over\n"
          ]
        },
        {
          "output_type": "stream",
          "name": "stderr",
          "text": [
            "\r6it [09:54, 98.20s/it] "
          ]
        },
        {
          "output_type": "stream",
          "name": "stdout",
          "text": [
            "Training loss (for one batch) at step 5: 0.0000\n",
            "Seen so far: 96 samples\n",
            "Step is over\n"
          ]
        },
        {
          "output_type": "stream",
          "name": "stderr",
          "text": [
            "\r7it [11:17, 93.24s/it]"
          ]
        },
        {
          "output_type": "stream",
          "name": "stdout",
          "text": [
            "Training loss (for one batch) at step 6: 0.0000\n",
            "Seen so far: 112 samples\n",
            "Step is over\n"
          ]
        },
        {
          "output_type": "stream",
          "name": "stderr",
          "text": [
            "\r8it [12:53, 94.01s/it]"
          ]
        },
        {
          "output_type": "stream",
          "name": "stdout",
          "text": [
            "Training loss (for one batch) at step 7: 0.0000\n",
            "Seen so far: 128 samples\n",
            "Step is over\n"
          ]
        },
        {
          "output_type": "stream",
          "name": "stderr",
          "text": [
            "\r9it [14:36, 96.81s/it]"
          ]
        },
        {
          "output_type": "stream",
          "name": "stdout",
          "text": [
            "Training loss (for one batch) at step 8: 0.0000\n",
            "Seen so far: 144 samples\n",
            "Step is over\n"
          ]
        },
        {
          "output_type": "stream",
          "name": "stderr",
          "text": [
            "\r10it [16:07, 95.12s/it]"
          ]
        },
        {
          "output_type": "stream",
          "name": "stdout",
          "text": [
            "Training loss (for one batch) at step 9: 0.0000\n",
            "Seen so far: 160 samples\n",
            "Step is over\n"
          ]
        },
        {
          "output_type": "stream",
          "name": "stderr",
          "text": [
            "\r11it [17:41, 94.79s/it]"
          ]
        },
        {
          "output_type": "stream",
          "name": "stdout",
          "text": [
            "Training loss (for one batch) at step 10: 0.0000\n",
            "Seen so far: 176 samples\n",
            "Step is over\n"
          ]
        },
        {
          "output_type": "stream",
          "name": "stderr",
          "text": [
            "\r12it [19:06, 91.73s/it]"
          ]
        },
        {
          "output_type": "stream",
          "name": "stdout",
          "text": [
            "Training loss (for one batch) at step 11: 0.0000\n",
            "Seen so far: 192 samples\n",
            "Step is over\n"
          ]
        },
        {
          "output_type": "stream",
          "name": "stderr",
          "text": [
            "\r13it [20:38, 91.80s/it]"
          ]
        },
        {
          "output_type": "stream",
          "name": "stdout",
          "text": [
            "Training loss (for one batch) at step 12: 0.0000\n",
            "Seen so far: 208 samples\n",
            "Step is over\n"
          ]
        },
        {
          "output_type": "stream",
          "name": "stderr",
          "text": [
            "\r14it [22:04, 90.14s/it]"
          ]
        },
        {
          "output_type": "stream",
          "name": "stdout",
          "text": [
            "Training loss (for one batch) at step 13: 0.0000\n",
            "Seen so far: 224 samples\n",
            "Step is over\n"
          ]
        },
        {
          "output_type": "stream",
          "name": "stderr",
          "text": [
            "\r15it [23:26, 87.67s/it]"
          ]
        },
        {
          "output_type": "stream",
          "name": "stdout",
          "text": [
            "Training loss (for one batch) at step 14: 0.0000\n",
            "Seen so far: 240 samples\n",
            "Step is over\n"
          ]
        },
        {
          "output_type": "stream",
          "name": "stderr",
          "text": [
            "\r16it [25:31, 98.79s/it]"
          ]
        },
        {
          "output_type": "stream",
          "name": "stdout",
          "text": [
            "Training loss (for one batch) at step 15: 0.0000\n",
            "Seen so far: 256 samples\n",
            "Step is over\n"
          ]
        },
        {
          "output_type": "stream",
          "name": "stderr",
          "text": [
            "\r17it [27:23, 102.94s/it]"
          ]
        },
        {
          "output_type": "stream",
          "name": "stdout",
          "text": [
            "Training loss (for one batch) at step 16: 0.0000\n",
            "Seen so far: 272 samples\n",
            "Step is over\n"
          ]
        },
        {
          "output_type": "stream",
          "name": "stderr",
          "text": [
            "\r18it [28:57, 100.11s/it]"
          ]
        },
        {
          "output_type": "stream",
          "name": "stdout",
          "text": [
            "Training loss (for one batch) at step 17: 0.0000\n",
            "Seen so far: 288 samples\n",
            "Step is over\n"
          ]
        },
        {
          "output_type": "stream",
          "name": "stderr",
          "text": [
            "\r19it [30:20, 95.19s/it] "
          ]
        },
        {
          "output_type": "stream",
          "name": "stdout",
          "text": [
            "Training loss (for one batch) at step 18: 0.0000\n",
            "Seen so far: 304 samples\n",
            "Step is over\n"
          ]
        },
        {
          "output_type": "stream",
          "name": "stderr",
          "text": [
            "\r20it [32:02, 97.08s/it]"
          ]
        },
        {
          "output_type": "stream",
          "name": "stdout",
          "text": [
            "Training loss (for one batch) at step 19: 0.0000\n",
            "Seen so far: 320 samples\n",
            "Step is over\n"
          ]
        },
        {
          "output_type": "stream",
          "name": "stderr",
          "text": [
            "\r21it [33:35, 95.79s/it]"
          ]
        },
        {
          "output_type": "stream",
          "name": "stdout",
          "text": [
            "Training loss (for one batch) at step 20: 0.0000\n",
            "Seen so far: 336 samples\n",
            "Step is over\n"
          ]
        },
        {
          "output_type": "stream",
          "name": "stderr",
          "text": [
            "\r22it [35:19, 98.43s/it]"
          ]
        },
        {
          "output_type": "stream",
          "name": "stdout",
          "text": [
            "Training loss (for one batch) at step 21: 0.0000\n",
            "Seen so far: 352 samples\n",
            "Step is over\n"
          ]
        },
        {
          "output_type": "stream",
          "name": "stderr",
          "text": [
            "\r23it [36:54, 97.41s/it]"
          ]
        },
        {
          "output_type": "stream",
          "name": "stdout",
          "text": [
            "Training loss (for one batch) at step 22: 0.0000\n",
            "Seen so far: 368 samples\n",
            "Step is over\n"
          ]
        },
        {
          "output_type": "stream",
          "name": "stderr",
          "text": [
            "\r24it [38:19, 93.65s/it]"
          ]
        },
        {
          "output_type": "stream",
          "name": "stdout",
          "text": [
            "Training loss (for one batch) at step 23: 0.0000\n",
            "Seen so far: 384 samples\n",
            "Step is over\n"
          ]
        },
        {
          "output_type": "stream",
          "name": "stderr",
          "text": [
            "\r25it [39:57, 94.91s/it]"
          ]
        },
        {
          "output_type": "stream",
          "name": "stdout",
          "text": [
            "Training loss (for one batch) at step 24: 0.0000\n",
            "Seen so far: 400 samples\n",
            "Step is over\n"
          ]
        },
        {
          "output_type": "stream",
          "name": "stderr",
          "text": [
            "\r26it [41:42, 97.89s/it]"
          ]
        },
        {
          "output_type": "stream",
          "name": "stdout",
          "text": [
            "Training loss (for one batch) at step 25: 0.0000\n",
            "Seen so far: 416 samples\n",
            "Step is over\n"
          ]
        },
        {
          "output_type": "stream",
          "name": "stderr",
          "text": [
            "\r27it [43:06, 93.62s/it]"
          ]
        },
        {
          "output_type": "stream",
          "name": "stdout",
          "text": [
            "Training loss (for one batch) at step 26: 0.0000\n",
            "Seen so far: 432 samples\n",
            "Step is over\n"
          ]
        },
        {
          "output_type": "stream",
          "name": "stderr",
          "text": [
            "\r28it [44:55, 98.25s/it]"
          ]
        },
        {
          "output_type": "stream",
          "name": "stdout",
          "text": [
            "Training loss (for one batch) at step 27: 0.0000\n",
            "Seen so far: 448 samples\n",
            "Step is over\n"
          ]
        },
        {
          "output_type": "stream",
          "name": "stderr",
          "text": [
            "\r29it [46:33, 98.26s/it]"
          ]
        },
        {
          "output_type": "stream",
          "name": "stdout",
          "text": [
            "Training loss (for one batch) at step 28: 0.0000\n",
            "Seen so far: 464 samples\n",
            "Step is over\n"
          ]
        },
        {
          "output_type": "stream",
          "name": "stderr",
          "text": [
            "\r30it [48:01, 95.23s/it]"
          ]
        },
        {
          "output_type": "stream",
          "name": "stdout",
          "text": [
            "Training loss (for one batch) at step 29: 0.0000\n",
            "Seen so far: 480 samples\n",
            "Step is over\n"
          ]
        },
        {
          "output_type": "stream",
          "name": "stderr",
          "text": [
            "\r31it [49:46, 98.13s/it]"
          ]
        },
        {
          "output_type": "stream",
          "name": "stdout",
          "text": [
            "Training loss (for one batch) at step 30: 0.0000\n",
            "Seen so far: 496 samples\n",
            "Step is over\n"
          ]
        },
        {
          "output_type": "stream",
          "name": "stderr",
          "text": [
            "\r32it [51:33, 100.66s/it]"
          ]
        },
        {
          "output_type": "stream",
          "name": "stdout",
          "text": [
            "Training loss (for one batch) at step 31: 0.0000\n",
            "Seen so far: 512 samples\n",
            "Step is over\n"
          ]
        },
        {
          "output_type": "stream",
          "name": "stderr",
          "text": [
            "\r33it [53:01, 96.85s/it] "
          ]
        },
        {
          "output_type": "stream",
          "name": "stdout",
          "text": [
            "Training loss (for one batch) at step 32: 0.0000\n",
            "Seen so far: 528 samples\n",
            "Step is over\n"
          ]
        },
        {
          "output_type": "stream",
          "name": "stderr",
          "text": [
            "\r34it [54:32, 95.26s/it]"
          ]
        },
        {
          "output_type": "stream",
          "name": "stdout",
          "text": [
            "Training loss (for one batch) at step 33: 0.0000\n",
            "Seen so far: 544 samples\n",
            "Step is over\n"
          ]
        },
        {
          "output_type": "stream",
          "name": "stderr",
          "text": [
            "\r35it [56:01, 93.42s/it]"
          ]
        },
        {
          "output_type": "stream",
          "name": "stdout",
          "text": [
            "Training loss (for one batch) at step 34: 0.0000\n",
            "Seen so far: 560 samples\n",
            "Step is over\n"
          ]
        },
        {
          "output_type": "stream",
          "name": "stderr",
          "text": [
            "\r36it [57:35, 93.65s/it]"
          ]
        },
        {
          "output_type": "stream",
          "name": "stdout",
          "text": [
            "Training loss (for one batch) at step 35: 0.0000\n",
            "Seen so far: 576 samples\n",
            "Step is over\n"
          ]
        },
        {
          "output_type": "stream",
          "name": "stderr",
          "text": [
            "\r37it [59:15, 95.31s/it]"
          ]
        },
        {
          "output_type": "stream",
          "name": "stdout",
          "text": [
            "Training loss (for one batch) at step 36: 0.0000\n",
            "Seen so far: 592 samples\n",
            "Step is over\n"
          ]
        },
        {
          "output_type": "stream",
          "name": "stderr",
          "text": [
            "\r38it [1:00:46, 94.11s/it]"
          ]
        },
        {
          "output_type": "stream",
          "name": "stdout",
          "text": [
            "Training loss (for one batch) at step 37: 0.0000\n",
            "Seen so far: 608 samples\n",
            "Step is over\n"
          ]
        },
        {
          "output_type": "stream",
          "name": "stderr",
          "text": [
            "\r39it [1:02:12, 91.59s/it]"
          ]
        },
        {
          "output_type": "stream",
          "name": "stdout",
          "text": [
            "Training loss (for one batch) at step 38: 0.0000\n",
            "Seen so far: 624 samples\n",
            "Step is over\n"
          ]
        },
        {
          "output_type": "stream",
          "name": "stderr",
          "text": [
            "\r40it [1:03:38, 90.13s/it]"
          ]
        },
        {
          "output_type": "stream",
          "name": "stdout",
          "text": [
            "Training loss (for one batch) at step 39: 0.0000\n",
            "Seen so far: 640 samples\n",
            "Step is over\n"
          ]
        },
        {
          "output_type": "stream",
          "name": "stderr",
          "text": [
            "\r41it [1:05:33, 97.54s/it]"
          ]
        },
        {
          "output_type": "stream",
          "name": "stdout",
          "text": [
            "Training loss (for one batch) at step 40: 0.0000\n",
            "Seen so far: 656 samples\n",
            "Step is over\n"
          ]
        },
        {
          "output_type": "stream",
          "name": "stderr",
          "text": [
            "\r42it [1:07:17, 99.47s/it]"
          ]
        },
        {
          "output_type": "stream",
          "name": "stdout",
          "text": [
            "Training loss (for one batch) at step 41: 0.0000\n",
            "Seen so far: 672 samples\n",
            "Step is over\n"
          ]
        },
        {
          "output_type": "stream",
          "name": "stderr",
          "text": [
            "\r43it [1:08:43, 95.34s/it]"
          ]
        },
        {
          "output_type": "stream",
          "name": "stdout",
          "text": [
            "Training loss (for one batch) at step 42: 0.0000\n",
            "Seen so far: 688 samples\n",
            "Step is over\n"
          ]
        },
        {
          "output_type": "stream",
          "name": "stderr",
          "text": [
            "\r44it [1:10:15, 94.44s/it]"
          ]
        },
        {
          "output_type": "stream",
          "name": "stdout",
          "text": [
            "Training loss (for one batch) at step 43: 0.0000\n",
            "Seen so far: 704 samples\n",
            "Step is over\n"
          ]
        },
        {
          "output_type": "stream",
          "name": "stderr",
          "text": [
            "\r45it [1:11:58, 96.99s/it]"
          ]
        },
        {
          "output_type": "stream",
          "name": "stdout",
          "text": [
            "Training loss (for one batch) at step 44: 0.0000\n",
            "Seen so far: 720 samples\n",
            "Step is over\n"
          ]
        },
        {
          "output_type": "stream",
          "name": "stderr",
          "text": [
            "\r46it [1:13:37, 97.70s/it]"
          ]
        },
        {
          "output_type": "stream",
          "name": "stdout",
          "text": [
            "Training loss (for one batch) at step 45: 0.0000\n",
            "Seen so far: 736 samples\n",
            "Step is over\n"
          ]
        },
        {
          "output_type": "stream",
          "name": "stderr",
          "text": [
            "\r47it [1:15:20, 99.27s/it]"
          ]
        },
        {
          "output_type": "stream",
          "name": "stdout",
          "text": [
            "Training loss (for one batch) at step 46: 0.0000\n",
            "Seen so far: 752 samples\n",
            "Step is over\n"
          ]
        },
        {
          "output_type": "stream",
          "name": "stderr",
          "text": [
            "\r48it [1:16:46, 95.26s/it]"
          ]
        },
        {
          "output_type": "stream",
          "name": "stdout",
          "text": [
            "Training loss (for one batch) at step 47: 0.0000\n",
            "Seen so far: 768 samples\n",
            "Step is over\n"
          ]
        },
        {
          "output_type": "stream",
          "name": "stderr",
          "text": [
            "\r49it [1:18:11, 92.14s/it]"
          ]
        },
        {
          "output_type": "stream",
          "name": "stdout",
          "text": [
            "Training loss (for one batch) at step 48: 0.0000\n",
            "Seen so far: 784 samples\n",
            "Step is over\n"
          ]
        },
        {
          "output_type": "stream",
          "name": "stderr",
          "text": [
            "50it [1:19:35, 95.52s/it]"
          ]
        },
        {
          "output_type": "stream",
          "name": "stdout",
          "text": [
            "Training loss (for one batch) at step 49: 0.0000\n",
            "Seen so far: 800 samples\n"
          ]
        },
        {
          "output_type": "stream",
          "name": "stderr",
          "text": [
            "\n",
            "0it [00:00, ?it/s]\n"
          ]
        },
        {
          "output_type": "stream",
          "name": "stdout",
          "text": [
            "Validation acc: 0.0000\n",
            "\n",
            "Start of epoch 2\n"
          ]
        },
        {
          "output_type": "stream",
          "name": "stderr",
          "text": [
            "\r0it [00:00, ?it/s]"
          ]
        },
        {
          "output_type": "stream",
          "name": "stdout",
          "text": [
            "Step is over\n"
          ]
        },
        {
          "output_type": "stream",
          "name": "stderr",
          "text": [
            "\r1it [01:30, 90.86s/it]"
          ]
        },
        {
          "output_type": "stream",
          "name": "stdout",
          "text": [
            "Training loss (for one batch) at step 0: 0.0000\n",
            "Seen so far: 16 samples\n",
            "Step is over\n"
          ]
        },
        {
          "output_type": "stream",
          "name": "stderr",
          "text": [
            "\r2it [03:03, 91.86s/it]"
          ]
        },
        {
          "output_type": "stream",
          "name": "stdout",
          "text": [
            "Training loss (for one batch) at step 1: 0.0000\n",
            "Seen so far: 32 samples\n",
            "Step is over\n"
          ]
        },
        {
          "output_type": "stream",
          "name": "stderr",
          "text": [
            "\r3it [04:50, 98.73s/it]"
          ]
        },
        {
          "output_type": "stream",
          "name": "stdout",
          "text": [
            "Training loss (for one batch) at step 2: 0.0000\n",
            "Seen so far: 48 samples\n",
            "Step is over\n"
          ]
        },
        {
          "output_type": "stream",
          "name": "stderr",
          "text": [
            "\r4it [06:29, 98.85s/it]"
          ]
        },
        {
          "output_type": "stream",
          "name": "stdout",
          "text": [
            "Training loss (for one batch) at step 3: 0.0000\n",
            "Seen so far: 64 samples\n",
            "Step is over\n"
          ]
        },
        {
          "output_type": "stream",
          "name": "stderr",
          "text": [
            "\r5it [08:10, 99.52s/it]"
          ]
        },
        {
          "output_type": "stream",
          "name": "stdout",
          "text": [
            "Training loss (for one batch) at step 4: 0.0000\n",
            "Seen so far: 80 samples\n",
            "Step is over\n"
          ]
        },
        {
          "output_type": "stream",
          "name": "stderr",
          "text": [
            "\r6it [09:50, 99.95s/it]"
          ]
        },
        {
          "output_type": "stream",
          "name": "stdout",
          "text": [
            "Training loss (for one batch) at step 5: 0.0000\n",
            "Seen so far: 96 samples\n",
            "Step is over\n"
          ]
        },
        {
          "output_type": "stream",
          "name": "stderr",
          "text": [
            "\r7it [11:29, 99.46s/it]"
          ]
        },
        {
          "output_type": "stream",
          "name": "stdout",
          "text": [
            "Training loss (for one batch) at step 6: 0.0000\n",
            "Seen so far: 112 samples\n",
            "Step is over\n"
          ]
        },
        {
          "output_type": "stream",
          "name": "stderr",
          "text": [
            "\r8it [12:56, 95.61s/it]"
          ]
        },
        {
          "output_type": "stream",
          "name": "stdout",
          "text": [
            "Training loss (for one batch) at step 7: 0.0000\n",
            "Seen so far: 128 samples\n",
            "Step is over\n"
          ]
        },
        {
          "output_type": "stream",
          "name": "stderr",
          "text": [
            "\r9it [14:12, 89.57s/it]"
          ]
        },
        {
          "output_type": "stream",
          "name": "stdout",
          "text": [
            "Training loss (for one batch) at step 8: 0.0000\n",
            "Seen so far: 144 samples\n",
            "Step is over\n"
          ]
        },
        {
          "output_type": "stream",
          "name": "stderr",
          "text": [
            "\r10it [15:47, 91.20s/it]"
          ]
        },
        {
          "output_type": "stream",
          "name": "stdout",
          "text": [
            "Training loss (for one batch) at step 9: 0.0000\n",
            "Seen so far: 160 samples\n",
            "Step is over\n"
          ]
        },
        {
          "output_type": "stream",
          "name": "stderr",
          "text": [
            "\r11it [17:17, 90.73s/it]"
          ]
        },
        {
          "output_type": "stream",
          "name": "stdout",
          "text": [
            "Training loss (for one batch) at step 10: 0.0000\n",
            "Seen so far: 176 samples\n",
            "Step is over\n"
          ]
        },
        {
          "output_type": "stream",
          "name": "stderr",
          "text": [
            "\r12it [18:53, 92.23s/it]"
          ]
        },
        {
          "output_type": "stream",
          "name": "stdout",
          "text": [
            "Training loss (for one batch) at step 11: 0.0000\n",
            "Seen so far: 192 samples\n",
            "Step is over\n"
          ]
        },
        {
          "output_type": "stream",
          "name": "stderr",
          "text": [
            "\r13it [20:19, 90.46s/it]"
          ]
        },
        {
          "output_type": "stream",
          "name": "stdout",
          "text": [
            "Training loss (for one batch) at step 12: 0.0000\n",
            "Seen so far: 208 samples\n",
            "Step is over\n"
          ]
        },
        {
          "output_type": "stream",
          "name": "stderr",
          "text": [
            "\r14it [21:29, 84.42s/it]"
          ]
        },
        {
          "output_type": "stream",
          "name": "stdout",
          "text": [
            "Training loss (for one batch) at step 13: 0.0000\n",
            "Seen so far: 224 samples\n",
            "Step is over\n"
          ]
        },
        {
          "output_type": "stream",
          "name": "stderr",
          "text": [
            "\r15it [22:57, 85.25s/it]"
          ]
        },
        {
          "output_type": "stream",
          "name": "stdout",
          "text": [
            "Training loss (for one batch) at step 14: 0.0000\n",
            "Seen so far: 240 samples\n",
            "Step is over\n"
          ]
        },
        {
          "output_type": "stream",
          "name": "stderr",
          "text": [
            "\r16it [24:23, 85.57s/it]"
          ]
        },
        {
          "output_type": "stream",
          "name": "stdout",
          "text": [
            "Training loss (for one batch) at step 15: 0.0000\n",
            "Seen so far: 256 samples\n",
            "Step is over\n"
          ]
        },
        {
          "output_type": "stream",
          "name": "stderr",
          "text": [
            "\r17it [25:53, 86.97s/it]"
          ]
        },
        {
          "output_type": "stream",
          "name": "stdout",
          "text": [
            "Training loss (for one batch) at step 16: 0.0000\n",
            "Seen so far: 272 samples\n",
            "Step is over\n"
          ]
        },
        {
          "output_type": "stream",
          "name": "stderr",
          "text": [
            "\r18it [27:19, 86.52s/it]"
          ]
        },
        {
          "output_type": "stream",
          "name": "stdout",
          "text": [
            "Training loss (for one batch) at step 17: 0.0000\n",
            "Seen so far: 288 samples\n",
            "Step is over\n"
          ]
        },
        {
          "output_type": "stream",
          "name": "stderr",
          "text": [
            "\r19it [28:46, 86.83s/it]"
          ]
        },
        {
          "output_type": "stream",
          "name": "stdout",
          "text": [
            "Training loss (for one batch) at step 18: 0.0000\n",
            "Seen so far: 304 samples\n",
            "Step is over\n"
          ]
        },
        {
          "output_type": "stream",
          "name": "stderr",
          "text": [
            "\r20it [30:05, 84.52s/it]"
          ]
        },
        {
          "output_type": "stream",
          "name": "stdout",
          "text": [
            "Training loss (for one batch) at step 19: 0.0000\n",
            "Seen so far: 320 samples\n",
            "Step is over\n"
          ]
        },
        {
          "output_type": "stream",
          "name": "stderr",
          "text": [
            "\r21it [31:39, 87.34s/it]"
          ]
        },
        {
          "output_type": "stream",
          "name": "stdout",
          "text": [
            "Training loss (for one batch) at step 20: 0.0000\n",
            "Seen so far: 336 samples\n",
            "Step is over\n"
          ]
        },
        {
          "output_type": "stream",
          "name": "stderr",
          "text": [
            "\r22it [33:02, 85.95s/it]"
          ]
        },
        {
          "output_type": "stream",
          "name": "stdout",
          "text": [
            "Training loss (for one batch) at step 21: 0.0000\n",
            "Seen so far: 352 samples\n",
            "Step is over\n"
          ]
        },
        {
          "output_type": "stream",
          "name": "stderr",
          "text": [
            "\r23it [34:21, 83.79s/it]"
          ]
        },
        {
          "output_type": "stream",
          "name": "stdout",
          "text": [
            "Training loss (for one batch) at step 22: 0.0000\n",
            "Seen so far: 368 samples\n",
            "Step is over\n"
          ]
        },
        {
          "output_type": "stream",
          "name": "stderr",
          "text": [
            "\r24it [35:48, 84.87s/it]"
          ]
        },
        {
          "output_type": "stream",
          "name": "stdout",
          "text": [
            "Training loss (for one batch) at step 23: 0.0000\n",
            "Seen so far: 384 samples\n",
            "Step is over\n"
          ]
        },
        {
          "output_type": "stream",
          "name": "stderr",
          "text": [
            "\r25it [37:39, 92.66s/it]"
          ]
        },
        {
          "output_type": "stream",
          "name": "stdout",
          "text": [
            "Training loss (for one batch) at step 24: 0.0000\n",
            "Seen so far: 400 samples\n",
            "Step is over\n"
          ]
        },
        {
          "output_type": "stream",
          "name": "stderr",
          "text": [
            "\r26it [39:01, 89.61s/it]"
          ]
        },
        {
          "output_type": "stream",
          "name": "stdout",
          "text": [
            "Training loss (for one batch) at step 25: 0.0000\n",
            "Seen so far: 416 samples\n",
            "Step is over\n"
          ]
        },
        {
          "output_type": "stream",
          "name": "stderr",
          "text": [
            "\r27it [40:24, 87.42s/it]"
          ]
        },
        {
          "output_type": "stream",
          "name": "stdout",
          "text": [
            "Training loss (for one batch) at step 26: 0.0000\n",
            "Seen so far: 432 samples\n",
            "Step is over\n"
          ]
        },
        {
          "output_type": "stream",
          "name": "stderr",
          "text": [
            "\r28it [41:58, 89.56s/it]"
          ]
        },
        {
          "output_type": "stream",
          "name": "stdout",
          "text": [
            "Training loss (for one batch) at step 27: 0.0000\n",
            "Seen so far: 448 samples\n",
            "Step is over\n"
          ]
        },
        {
          "output_type": "stream",
          "name": "stderr",
          "text": [
            "\r29it [43:28, 89.67s/it]"
          ]
        },
        {
          "output_type": "stream",
          "name": "stdout",
          "text": [
            "Training loss (for one batch) at step 28: 0.0000\n",
            "Seen so far: 464 samples\n",
            "Step is over\n"
          ]
        },
        {
          "output_type": "stream",
          "name": "stderr",
          "text": [
            "\r30it [44:47, 86.30s/it]"
          ]
        },
        {
          "output_type": "stream",
          "name": "stdout",
          "text": [
            "Training loss (for one batch) at step 29: 0.0000\n",
            "Seen so far: 480 samples\n",
            "Step is over\n"
          ]
        },
        {
          "output_type": "stream",
          "name": "stderr",
          "text": [
            "\r31it [46:12, 86.09s/it]"
          ]
        },
        {
          "output_type": "stream",
          "name": "stdout",
          "text": [
            "Training loss (for one batch) at step 30: 0.0000\n",
            "Seen so far: 496 samples\n",
            "Step is over\n"
          ]
        },
        {
          "output_type": "stream",
          "name": "stderr",
          "text": [
            "\r32it [47:44, 87.79s/it]"
          ]
        },
        {
          "output_type": "stream",
          "name": "stdout",
          "text": [
            "Training loss (for one batch) at step 31: 0.0000\n",
            "Seen so far: 512 samples\n",
            "Step is over\n"
          ]
        },
        {
          "output_type": "stream",
          "name": "stderr",
          "text": [
            "\r33it [49:06, 86.09s/it]"
          ]
        },
        {
          "output_type": "stream",
          "name": "stdout",
          "text": [
            "Training loss (for one batch) at step 32: 0.0000\n",
            "Seen so far: 528 samples\n",
            "Step is over\n"
          ]
        },
        {
          "output_type": "stream",
          "name": "stderr",
          "text": [
            "\r34it [50:39, 88.05s/it]"
          ]
        },
        {
          "output_type": "stream",
          "name": "stdout",
          "text": [
            "Training loss (for one batch) at step 33: 0.0000\n",
            "Seen so far: 544 samples\n",
            "Step is over\n"
          ]
        },
        {
          "output_type": "stream",
          "name": "stderr",
          "text": [
            "\r35it [52:12, 89.71s/it]"
          ]
        },
        {
          "output_type": "stream",
          "name": "stdout",
          "text": [
            "Training loss (for one batch) at step 34: 0.0000\n",
            "Seen so far: 560 samples\n",
            "Step is over\n"
          ]
        },
        {
          "output_type": "stream",
          "name": "stderr",
          "text": [
            "\r36it [53:34, 87.28s/it]"
          ]
        },
        {
          "output_type": "stream",
          "name": "stdout",
          "text": [
            "Training loss (for one batch) at step 35: 0.0000\n",
            "Seen so far: 576 samples\n",
            "Step is over\n"
          ]
        },
        {
          "output_type": "stream",
          "name": "stderr",
          "text": [
            "\r37it [55:12, 90.61s/it]"
          ]
        },
        {
          "output_type": "stream",
          "name": "stdout",
          "text": [
            "Training loss (for one batch) at step 36: 0.0000\n",
            "Seen so far: 592 samples\n",
            "Step is over\n"
          ]
        },
        {
          "output_type": "stream",
          "name": "stderr",
          "text": [
            "\r38it [56:41, 89.93s/it]"
          ]
        },
        {
          "output_type": "stream",
          "name": "stdout",
          "text": [
            "Training loss (for one batch) at step 37: 0.0000\n",
            "Seen so far: 608 samples\n",
            "Step is over\n"
          ]
        },
        {
          "output_type": "stream",
          "name": "stderr",
          "text": [
            "\r39it [58:10, 89.74s/it]"
          ]
        },
        {
          "output_type": "stream",
          "name": "stdout",
          "text": [
            "Training loss (for one batch) at step 38: 0.0000\n",
            "Seen so far: 624 samples\n",
            "Step is over\n"
          ]
        },
        {
          "output_type": "stream",
          "name": "stderr",
          "text": [
            "\r40it [59:46, 91.72s/it]"
          ]
        },
        {
          "output_type": "stream",
          "name": "stdout",
          "text": [
            "Training loss (for one batch) at step 39: 0.0000\n",
            "Seen so far: 640 samples\n",
            "Step is over\n"
          ]
        },
        {
          "output_type": "stream",
          "name": "stderr",
          "text": [
            "\r41it [1:01:22, 92.95s/it]"
          ]
        },
        {
          "output_type": "stream",
          "name": "stdout",
          "text": [
            "Training loss (for one batch) at step 40: 0.0000\n",
            "Seen so far: 656 samples\n",
            "Step is over\n"
          ]
        },
        {
          "output_type": "stream",
          "name": "stderr",
          "text": [
            "\r42it [1:02:55, 92.93s/it]"
          ]
        },
        {
          "output_type": "stream",
          "name": "stdout",
          "text": [
            "Training loss (for one batch) at step 41: 0.0000\n",
            "Seen so far: 672 samples\n",
            "Step is over\n"
          ]
        },
        {
          "output_type": "stream",
          "name": "stderr",
          "text": [
            "\r43it [1:04:13, 88.43s/it]"
          ]
        },
        {
          "output_type": "stream",
          "name": "stdout",
          "text": [
            "Training loss (for one batch) at step 42: 0.0000\n",
            "Seen so far: 688 samples\n",
            "Step is over\n"
          ]
        },
        {
          "output_type": "stream",
          "name": "stderr",
          "text": [
            "\r44it [1:05:33, 85.85s/it]"
          ]
        },
        {
          "output_type": "stream",
          "name": "stdout",
          "text": [
            "Training loss (for one batch) at step 43: 0.0000\n",
            "Seen so far: 704 samples\n",
            "Step is over\n"
          ]
        },
        {
          "output_type": "stream",
          "name": "stderr",
          "text": [
            "\r45it [1:07:02, 86.95s/it]"
          ]
        },
        {
          "output_type": "stream",
          "name": "stdout",
          "text": [
            "Training loss (for one batch) at step 44: 0.0000\n",
            "Seen so far: 720 samples\n",
            "Step is over\n"
          ]
        },
        {
          "output_type": "stream",
          "name": "stderr",
          "text": [
            "\r46it [1:08:28, 86.42s/it]"
          ]
        },
        {
          "output_type": "stream",
          "name": "stdout",
          "text": [
            "Training loss (for one batch) at step 45: 0.0000\n",
            "Seen so far: 736 samples\n",
            "Step is over\n"
          ]
        },
        {
          "output_type": "stream",
          "name": "stderr",
          "text": [
            "\r47it [1:09:54, 86.48s/it]"
          ]
        },
        {
          "output_type": "stream",
          "name": "stdout",
          "text": [
            "Training loss (for one batch) at step 46: 0.0000\n",
            "Seen so far: 752 samples\n",
            "Step is over\n"
          ]
        },
        {
          "output_type": "stream",
          "name": "stderr",
          "text": [
            "\r48it [1:11:20, 86.44s/it]"
          ]
        },
        {
          "output_type": "stream",
          "name": "stdout",
          "text": [
            "Training loss (for one batch) at step 47: 0.0000\n",
            "Seen so far: 768 samples\n",
            "Step is over\n"
          ]
        },
        {
          "output_type": "stream",
          "name": "stderr",
          "text": [
            "\r49it [1:12:41, 84.52s/it]"
          ]
        },
        {
          "output_type": "stream",
          "name": "stdout",
          "text": [
            "Training loss (for one batch) at step 48: 0.0000\n",
            "Seen so far: 784 samples\n",
            "Step is over\n"
          ]
        },
        {
          "output_type": "stream",
          "name": "stderr",
          "text": [
            "50it [1:14:18, 89.18s/it]\n"
          ]
        },
        {
          "output_type": "stream",
          "name": "stdout",
          "text": [
            "Training loss (for one batch) at step 49: 0.0000\n",
            "Seen so far: 800 samples\n"
          ]
        },
        {
          "output_type": "stream",
          "name": "stderr",
          "text": [
            "0it [00:00, ?it/s]\n"
          ]
        },
        {
          "output_type": "stream",
          "name": "stdout",
          "text": [
            "Validation acc: 0.0000\n",
            "\n",
            "Start of epoch 3\n"
          ]
        },
        {
          "output_type": "stream",
          "name": "stderr",
          "text": [
            "\r0it [00:00, ?it/s]"
          ]
        },
        {
          "output_type": "stream",
          "name": "stdout",
          "text": [
            "Step is over\n"
          ]
        },
        {
          "output_type": "stream",
          "name": "stderr",
          "text": [
            "\r1it [01:20, 80.45s/it]"
          ]
        },
        {
          "output_type": "stream",
          "name": "stdout",
          "text": [
            "Training loss (for one batch) at step 0: 0.0000\n",
            "Seen so far: 16 samples\n",
            "Step is over\n"
          ]
        },
        {
          "output_type": "stream",
          "name": "stderr",
          "text": [
            "\r2it [02:51, 86.40s/it]"
          ]
        },
        {
          "output_type": "stream",
          "name": "stdout",
          "text": [
            "Training loss (for one batch) at step 1: 0.0000\n",
            "Seen so far: 32 samples\n",
            "Step is over\n"
          ]
        },
        {
          "output_type": "stream",
          "name": "stderr",
          "text": [
            "\r3it [04:12, 84.33s/it]"
          ]
        },
        {
          "output_type": "stream",
          "name": "stdout",
          "text": [
            "Training loss (for one batch) at step 2: 0.0000\n",
            "Seen so far: 48 samples\n",
            "Step is over\n"
          ]
        },
        {
          "output_type": "stream",
          "name": "stderr",
          "text": [
            "\r4it [05:40, 85.80s/it]"
          ]
        },
        {
          "output_type": "stream",
          "name": "stdout",
          "text": [
            "Training loss (for one batch) at step 3: 0.0000\n",
            "Seen so far: 64 samples\n",
            "Step is over\n"
          ]
        },
        {
          "output_type": "stream",
          "name": "stderr",
          "text": [
            "\r5it [07:12, 88.05s/it]"
          ]
        },
        {
          "output_type": "stream",
          "name": "stdout",
          "text": [
            "Training loss (for one batch) at step 4: 0.0000\n",
            "Seen so far: 80 samples\n",
            "Step is over\n"
          ]
        },
        {
          "output_type": "stream",
          "name": "stderr",
          "text": [
            "\r6it [08:45, 89.60s/it]"
          ]
        },
        {
          "output_type": "stream",
          "name": "stdout",
          "text": [
            "Training loss (for one batch) at step 5: 0.0000\n",
            "Seen so far: 96 samples\n",
            "Step is over\n"
          ]
        },
        {
          "output_type": "stream",
          "name": "stderr",
          "text": [
            "\r7it [10:17, 90.30s/it]"
          ]
        },
        {
          "output_type": "stream",
          "name": "stdout",
          "text": [
            "Training loss (for one batch) at step 6: 0.0000\n",
            "Seen so far: 112 samples\n",
            "Step is over\n"
          ]
        },
        {
          "output_type": "stream",
          "name": "stderr",
          "text": [
            "\r8it [11:37, 87.08s/it]"
          ]
        },
        {
          "output_type": "stream",
          "name": "stdout",
          "text": [
            "Training loss (for one batch) at step 7: 0.0000\n",
            "Seen so far: 128 samples\n",
            "Step is over\n"
          ]
        },
        {
          "output_type": "stream",
          "name": "stderr",
          "text": [
            "\r9it [13:12, 89.64s/it]"
          ]
        },
        {
          "output_type": "stream",
          "name": "stdout",
          "text": [
            "Training loss (for one batch) at step 8: 0.0000\n",
            "Seen so far: 144 samples\n",
            "Step is over\n"
          ]
        },
        {
          "output_type": "stream",
          "name": "stderr",
          "text": [
            "\r10it [14:31, 86.25s/it]"
          ]
        },
        {
          "output_type": "stream",
          "name": "stdout",
          "text": [
            "Training loss (for one batch) at step 9: 0.0000\n",
            "Seen so far: 160 samples\n",
            "Step is over\n"
          ]
        },
        {
          "output_type": "stream",
          "name": "stderr",
          "text": [
            "\r11it [15:50, 83.97s/it]"
          ]
        },
        {
          "output_type": "stream",
          "name": "stdout",
          "text": [
            "Training loss (for one batch) at step 10: 0.0000\n",
            "Seen so far: 176 samples\n",
            "Step is over\n"
          ]
        },
        {
          "output_type": "stream",
          "name": "stderr",
          "text": [
            "\r12it [17:25, 87.54s/it]"
          ]
        },
        {
          "output_type": "stream",
          "name": "stdout",
          "text": [
            "Training loss (for one batch) at step 11: 0.0000\n",
            "Seen so far: 192 samples\n",
            "Step is over\n"
          ]
        },
        {
          "output_type": "stream",
          "name": "stderr",
          "text": [
            "\r13it [18:50, 86.77s/it]"
          ]
        },
        {
          "output_type": "stream",
          "name": "stdout",
          "text": [
            "Training loss (for one batch) at step 12: 0.0000\n",
            "Seen so far: 208 samples\n",
            "Step is over\n"
          ]
        },
        {
          "output_type": "stream",
          "name": "stderr",
          "text": [
            "\r14it [20:26, 89.54s/it]"
          ]
        },
        {
          "output_type": "stream",
          "name": "stdout",
          "text": [
            "Training loss (for one batch) at step 13: 0.0000\n",
            "Seen so far: 224 samples\n",
            "Step is over\n"
          ]
        },
        {
          "output_type": "stream",
          "name": "stderr",
          "text": [
            "\r15it [22:01, 91.18s/it]"
          ]
        },
        {
          "output_type": "stream",
          "name": "stdout",
          "text": [
            "Training loss (for one batch) at step 14: 0.0000\n",
            "Seen so far: 240 samples\n",
            "Step is over\n"
          ]
        },
        {
          "output_type": "stream",
          "name": "stderr",
          "text": [
            "\r16it [23:43, 94.23s/it]"
          ]
        },
        {
          "output_type": "stream",
          "name": "stdout",
          "text": [
            "Training loss (for one batch) at step 15: 0.0000\n",
            "Seen so far: 256 samples\n",
            "Step is over\n"
          ]
        },
        {
          "output_type": "stream",
          "name": "stderr",
          "text": [
            "\r17it [25:00, 89.12s/it]"
          ]
        },
        {
          "output_type": "stream",
          "name": "stdout",
          "text": [
            "Training loss (for one batch) at step 16: 0.0000\n",
            "Seen so far: 272 samples\n",
            "Step is over\n"
          ]
        },
        {
          "output_type": "stream",
          "name": "stderr",
          "text": [
            "\r18it [26:34, 90.50s/it]"
          ]
        },
        {
          "output_type": "stream",
          "name": "stdout",
          "text": [
            "Training loss (for one batch) at step 17: 0.0000\n",
            "Seen so far: 288 samples\n",
            "Step is over\n"
          ]
        },
        {
          "output_type": "stream",
          "name": "stderr",
          "text": [
            "\r19it [28:14, 93.36s/it]"
          ]
        },
        {
          "output_type": "stream",
          "name": "stdout",
          "text": [
            "Training loss (for one batch) at step 18: 0.0000\n",
            "Seen so far: 304 samples\n",
            "Step is over\n"
          ]
        },
        {
          "output_type": "stream",
          "name": "stderr",
          "text": [
            "\r20it [29:42, 91.76s/it]"
          ]
        },
        {
          "output_type": "stream",
          "name": "stdout",
          "text": [
            "Training loss (for one batch) at step 19: 0.0000\n",
            "Seen so far: 320 samples\n",
            "Step is over\n"
          ]
        },
        {
          "output_type": "stream",
          "name": "stderr",
          "text": [
            "\r21it [30:59, 87.41s/it]"
          ]
        },
        {
          "output_type": "stream",
          "name": "stdout",
          "text": [
            "Training loss (for one batch) at step 20: 0.0000\n",
            "Seen so far: 336 samples\n",
            "Step is over\n"
          ]
        },
        {
          "output_type": "stream",
          "name": "stderr",
          "text": [
            "\r22it [32:32, 89.21s/it]"
          ]
        },
        {
          "output_type": "stream",
          "name": "stdout",
          "text": [
            "Training loss (for one batch) at step 21: 0.0000\n",
            "Seen so far: 352 samples\n",
            "Step is over\n"
          ]
        },
        {
          "output_type": "stream",
          "name": "stderr",
          "text": [
            "\r23it [33:54, 87.06s/it]"
          ]
        },
        {
          "output_type": "stream",
          "name": "stdout",
          "text": [
            "Training loss (for one batch) at step 22: 0.0000\n",
            "Seen so far: 368 samples\n",
            "Step is over\n"
          ]
        },
        {
          "output_type": "stream",
          "name": "stderr",
          "text": [
            "\r24it [35:23, 87.46s/it]"
          ]
        },
        {
          "output_type": "stream",
          "name": "stdout",
          "text": [
            "Training loss (for one batch) at step 23: 0.0000\n",
            "Seen so far: 384 samples\n",
            "Step is over\n"
          ]
        },
        {
          "output_type": "stream",
          "name": "stderr",
          "text": [
            "\r25it [36:57, 89.35s/it]"
          ]
        },
        {
          "output_type": "stream",
          "name": "stdout",
          "text": [
            "Training loss (for one batch) at step 24: 0.0000\n",
            "Seen so far: 400 samples\n",
            "Step is over\n"
          ]
        },
        {
          "output_type": "stream",
          "name": "stderr",
          "text": [
            "\r26it [38:23, 88.36s/it]"
          ]
        },
        {
          "output_type": "stream",
          "name": "stdout",
          "text": [
            "Training loss (for one batch) at step 25: 0.0000\n",
            "Seen so far: 416 samples\n",
            "Step is over\n"
          ]
        },
        {
          "output_type": "stream",
          "name": "stderr",
          "text": [
            "\r27it [39:53, 89.00s/it]"
          ]
        },
        {
          "output_type": "stream",
          "name": "stdout",
          "text": [
            "Training loss (for one batch) at step 26: 0.0000\n",
            "Seen so far: 432 samples\n",
            "Step is over\n"
          ]
        },
        {
          "output_type": "stream",
          "name": "stderr",
          "text": [
            "\r28it [41:17, 87.55s/it]"
          ]
        },
        {
          "output_type": "stream",
          "name": "stdout",
          "text": [
            "Training loss (for one batch) at step 27: 0.0000\n",
            "Seen so far: 448 samples\n",
            "Step is over\n"
          ]
        },
        {
          "output_type": "stream",
          "name": "stderr",
          "text": [
            "\r29it [42:40, 86.11s/it]"
          ]
        },
        {
          "output_type": "stream",
          "name": "stdout",
          "text": [
            "Training loss (for one batch) at step 28: 0.0000\n",
            "Seen so far: 464 samples\n",
            "Step is over\n"
          ]
        },
        {
          "output_type": "stream",
          "name": "stderr",
          "text": [
            "\r30it [44:18, 89.82s/it]"
          ]
        },
        {
          "output_type": "stream",
          "name": "stdout",
          "text": [
            "Training loss (for one batch) at step 29: 0.0000\n",
            "Seen so far: 480 samples\n",
            "Step is over\n"
          ]
        },
        {
          "output_type": "stream",
          "name": "stderr",
          "text": [
            "\r31it [45:48, 89.84s/it]"
          ]
        },
        {
          "output_type": "stream",
          "name": "stdout",
          "text": [
            "Training loss (for one batch) at step 30: 0.0000\n",
            "Seen so far: 496 samples\n",
            "Step is over\n"
          ]
        },
        {
          "output_type": "stream",
          "name": "stderr",
          "text": [
            "\r32it [47:31, 93.65s/it]"
          ]
        },
        {
          "output_type": "stream",
          "name": "stdout",
          "text": [
            "Training loss (for one batch) at step 31: 0.0000\n",
            "Seen so far: 512 samples\n",
            "Step is over\n"
          ]
        },
        {
          "output_type": "stream",
          "name": "stderr",
          "text": [
            "\r33it [48:53, 90.34s/it]"
          ]
        },
        {
          "output_type": "stream",
          "name": "stdout",
          "text": [
            "Training loss (for one batch) at step 32: 0.0000\n",
            "Seen so far: 528 samples\n",
            "Step is over\n"
          ]
        },
        {
          "output_type": "stream",
          "name": "stderr",
          "text": [
            "\r34it [50:12, 86.70s/it]"
          ]
        },
        {
          "output_type": "stream",
          "name": "stdout",
          "text": [
            "Training loss (for one batch) at step 33: 0.0000\n",
            "Seen so far: 544 samples\n",
            "Step is over\n"
          ]
        },
        {
          "output_type": "stream",
          "name": "stderr",
          "text": [
            "\r35it [51:42, 87.87s/it]"
          ]
        },
        {
          "output_type": "stream",
          "name": "stdout",
          "text": [
            "Training loss (for one batch) at step 34: 0.0000\n",
            "Seen so far: 560 samples\n",
            "Step is over\n"
          ]
        },
        {
          "output_type": "stream",
          "name": "stderr",
          "text": [
            "\r36it [53:16, 89.63s/it]"
          ]
        },
        {
          "output_type": "stream",
          "name": "stdout",
          "text": [
            "Training loss (for one batch) at step 35: 0.0000\n",
            "Seen so far: 576 samples\n",
            "Step is over\n"
          ]
        },
        {
          "output_type": "stream",
          "name": "stderr",
          "text": [
            "\r37it [54:41, 88.13s/it]"
          ]
        },
        {
          "output_type": "stream",
          "name": "stdout",
          "text": [
            "Training loss (for one batch) at step 36: 0.0000\n",
            "Seen so far: 592 samples\n",
            "Step is over\n"
          ]
        },
        {
          "output_type": "stream",
          "name": "stderr",
          "text": [
            "\r38it [56:18, 90.82s/it]"
          ]
        },
        {
          "output_type": "stream",
          "name": "stdout",
          "text": [
            "Training loss (for one batch) at step 37: 0.0000\n",
            "Seen so far: 608 samples\n",
            "Step is over\n"
          ]
        },
        {
          "output_type": "stream",
          "name": "stderr",
          "text": [
            "\r39it [57:46, 90.00s/it]"
          ]
        },
        {
          "output_type": "stream",
          "name": "stdout",
          "text": [
            "Training loss (for one batch) at step 38: 0.0000\n",
            "Seen so far: 624 samples\n",
            "Step is over\n"
          ]
        },
        {
          "output_type": "stream",
          "name": "stderr",
          "text": [
            "\r40it [59:13, 89.26s/it]"
          ]
        },
        {
          "output_type": "stream",
          "name": "stdout",
          "text": [
            "Training loss (for one batch) at step 39: 0.0000\n",
            "Seen so far: 640 samples\n",
            "Step is over\n"
          ]
        },
        {
          "output_type": "stream",
          "name": "stderr",
          "text": [
            "\r41it [1:00:30, 85.47s/it]"
          ]
        },
        {
          "output_type": "stream",
          "name": "stdout",
          "text": [
            "Training loss (for one batch) at step 40: 0.0000\n",
            "Seen so far: 656 samples\n",
            "Step is over\n"
          ]
        },
        {
          "output_type": "stream",
          "name": "stderr",
          "text": [
            "\r42it [1:01:57, 85.83s/it]"
          ]
        },
        {
          "output_type": "stream",
          "name": "stdout",
          "text": [
            "Training loss (for one batch) at step 41: 0.0000\n",
            "Seen so far: 672 samples\n",
            "Step is over\n"
          ]
        },
        {
          "output_type": "stream",
          "name": "stderr",
          "text": [
            "\r43it [1:03:31, 88.40s/it]"
          ]
        },
        {
          "output_type": "stream",
          "name": "stdout",
          "text": [
            "Training loss (for one batch) at step 42: 0.0000\n",
            "Seen so far: 688 samples\n",
            "Step is over\n"
          ]
        },
        {
          "output_type": "stream",
          "name": "stderr",
          "text": [
            "\r44it [1:05:09, 91.14s/it]"
          ]
        },
        {
          "output_type": "stream",
          "name": "stdout",
          "text": [
            "Training loss (for one batch) at step 43: 0.0000\n",
            "Seen so far: 704 samples\n",
            "Step is over\n"
          ]
        },
        {
          "output_type": "stream",
          "name": "stderr",
          "text": [
            "\r45it [1:06:45, 92.81s/it]"
          ]
        },
        {
          "output_type": "stream",
          "name": "stdout",
          "text": [
            "Training loss (for one batch) at step 44: 0.0000\n",
            "Seen so far: 720 samples\n",
            "Step is over\n"
          ]
        },
        {
          "output_type": "stream",
          "name": "stderr",
          "text": [
            "\r46it [1:08:05, 88.91s/it]"
          ]
        },
        {
          "output_type": "stream",
          "name": "stdout",
          "text": [
            "Training loss (for one batch) at step 45: 0.0000\n",
            "Seen so far: 736 samples\n",
            "Step is over\n"
          ]
        },
        {
          "output_type": "stream",
          "name": "stderr",
          "text": [
            "\r47it [1:09:24, 85.79s/it]"
          ]
        },
        {
          "output_type": "stream",
          "name": "stdout",
          "text": [
            "Training loss (for one batch) at step 46: 0.0000\n",
            "Seen so far: 752 samples\n",
            "Step is over\n"
          ]
        },
        {
          "output_type": "stream",
          "name": "stderr",
          "text": [
            "\r48it [1:10:50, 86.08s/it]"
          ]
        },
        {
          "output_type": "stream",
          "name": "stdout",
          "text": [
            "Training loss (for one batch) at step 47: 0.0000\n",
            "Seen so far: 768 samples\n",
            "Step is over\n"
          ]
        },
        {
          "output_type": "stream",
          "name": "stderr",
          "text": [
            "\r49it [1:12:28, 89.56s/it]"
          ]
        },
        {
          "output_type": "stream",
          "name": "stdout",
          "text": [
            "Training loss (for one batch) at step 48: 0.0000\n",
            "Seen so far: 784 samples\n",
            "Step is over\n"
          ]
        },
        {
          "output_type": "stream",
          "name": "stderr",
          "text": [
            "50it [1:14:03, 88.88s/it]"
          ]
        },
        {
          "output_type": "stream",
          "name": "stdout",
          "text": [
            "Training loss (for one batch) at step 49: 0.0000\n",
            "Seen so far: 800 samples\n"
          ]
        },
        {
          "output_type": "stream",
          "name": "stderr",
          "text": [
            "\n",
            "0it [00:00, ?it/s]\n"
          ]
        },
        {
          "output_type": "stream",
          "name": "stdout",
          "text": [
            "Validation acc: 0.0000\n",
            "\n",
            "Start of epoch 4\n"
          ]
        },
        {
          "output_type": "stream",
          "name": "stderr",
          "text": [
            "\r0it [00:00, ?it/s]"
          ]
        },
        {
          "output_type": "stream",
          "name": "stdout",
          "text": [
            "Step is over\n"
          ]
        },
        {
          "output_type": "stream",
          "name": "stderr",
          "text": [
            "\r1it [01:35, 95.35s/it]"
          ]
        },
        {
          "output_type": "stream",
          "name": "stdout",
          "text": [
            "Training loss (for one batch) at step 0: 0.0000\n",
            "Seen so far: 16 samples\n",
            "Step is over\n"
          ]
        },
        {
          "output_type": "stream",
          "name": "stderr",
          "text": [
            "\r2it [02:54, 85.60s/it]"
          ]
        },
        {
          "output_type": "stream",
          "name": "stdout",
          "text": [
            "Training loss (for one batch) at step 1: 0.0000\n",
            "Seen so far: 32 samples\n",
            "Step is over\n"
          ]
        },
        {
          "output_type": "stream",
          "name": "stderr",
          "text": [
            "\r3it [04:25, 88.31s/it]"
          ]
        },
        {
          "output_type": "stream",
          "name": "stdout",
          "text": [
            "Training loss (for one batch) at step 2: 0.0000\n",
            "Seen so far: 48 samples\n",
            "Step is over\n"
          ]
        },
        {
          "output_type": "stream",
          "name": "stderr",
          "text": [
            "\r4it [05:56, 89.21s/it]"
          ]
        },
        {
          "output_type": "stream",
          "name": "stdout",
          "text": [
            "Training loss (for one batch) at step 3: 0.0000\n",
            "Seen so far: 64 samples\n",
            "Step is over\n"
          ]
        },
        {
          "output_type": "stream",
          "name": "stderr",
          "text": [
            "\r5it [07:24, 88.92s/it]"
          ]
        },
        {
          "output_type": "stream",
          "name": "stdout",
          "text": [
            "Training loss (for one batch) at step 4: 0.0000\n",
            "Seen so far: 80 samples\n",
            "Step is over\n"
          ]
        },
        {
          "output_type": "stream",
          "name": "stderr",
          "text": [
            "\r6it [08:53, 88.98s/it]"
          ]
        },
        {
          "output_type": "stream",
          "name": "stdout",
          "text": [
            "Training loss (for one batch) at step 5: 0.0000\n",
            "Seen so far: 96 samples\n",
            "Step is over\n"
          ]
        },
        {
          "output_type": "stream",
          "name": "stderr",
          "text": [
            "\r7it [10:35, 93.09s/it]"
          ]
        },
        {
          "output_type": "stream",
          "name": "stdout",
          "text": [
            "Training loss (for one batch) at step 6: 0.0000\n",
            "Seen so far: 112 samples\n",
            "Step is over\n"
          ]
        },
        {
          "output_type": "stream",
          "name": "stderr",
          "text": [
            "\r8it [11:59, 90.16s/it]"
          ]
        },
        {
          "output_type": "stream",
          "name": "stdout",
          "text": [
            "Training loss (for one batch) at step 7: 0.0000\n",
            "Seen so far: 128 samples\n",
            "Step is over\n"
          ]
        },
        {
          "output_type": "stream",
          "name": "stderr",
          "text": [
            "\r9it [13:27, 89.64s/it]"
          ]
        },
        {
          "output_type": "stream",
          "name": "stdout",
          "text": [
            "Training loss (for one batch) at step 8: 0.0000\n",
            "Seen so far: 144 samples\n",
            "Step is over\n"
          ]
        },
        {
          "output_type": "stream",
          "name": "stderr",
          "text": [
            "\r10it [15:04, 91.90s/it]"
          ]
        },
        {
          "output_type": "stream",
          "name": "stdout",
          "text": [
            "Training loss (for one batch) at step 9: 0.0000\n",
            "Seen so far: 160 samples\n",
            "Step is over\n"
          ]
        },
        {
          "output_type": "stream",
          "name": "stderr",
          "text": [
            "\r11it [16:34, 91.18s/it]"
          ]
        },
        {
          "output_type": "stream",
          "name": "stdout",
          "text": [
            "Training loss (for one batch) at step 10: 0.0000\n",
            "Seen so far: 176 samples\n",
            "Step is over\n"
          ]
        },
        {
          "output_type": "stream",
          "name": "stderr",
          "text": [
            "\r12it [18:06, 91.39s/it]"
          ]
        },
        {
          "output_type": "stream",
          "name": "stdout",
          "text": [
            "Training loss (for one batch) at step 11: 0.0000\n",
            "Seen so far: 192 samples\n",
            "Step is over\n"
          ]
        },
        {
          "output_type": "stream",
          "name": "stderr",
          "text": [
            "\r13it [19:38, 91.61s/it]"
          ]
        },
        {
          "output_type": "stream",
          "name": "stdout",
          "text": [
            "Training loss (for one batch) at step 12: 0.0000\n",
            "Seen so far: 208 samples\n",
            "Step is over\n"
          ]
        },
        {
          "output_type": "stream",
          "name": "stderr",
          "text": [
            "\r14it [20:58, 88.26s/it]"
          ]
        },
        {
          "output_type": "stream",
          "name": "stdout",
          "text": [
            "Training loss (for one batch) at step 13: 0.0000\n",
            "Seen so far: 224 samples\n",
            "Step is over\n"
          ]
        },
        {
          "output_type": "stream",
          "name": "stderr",
          "text": [
            "\r15it [22:37, 91.50s/it]"
          ]
        },
        {
          "output_type": "stream",
          "name": "stdout",
          "text": [
            "Training loss (for one batch) at step 14: 0.0000\n",
            "Seen so far: 240 samples\n",
            "Step is over\n"
          ]
        },
        {
          "output_type": "stream",
          "name": "stderr",
          "text": [
            "\r16it [24:02, 89.44s/it]"
          ]
        },
        {
          "output_type": "stream",
          "name": "stdout",
          "text": [
            "Training loss (for one batch) at step 15: 0.0000\n",
            "Seen so far: 256 samples\n",
            "Step is over\n"
          ]
        },
        {
          "output_type": "stream",
          "name": "stderr",
          "text": [
            "\r17it [25:24, 87.23s/it]"
          ]
        },
        {
          "output_type": "stream",
          "name": "stdout",
          "text": [
            "Training loss (for one batch) at step 16: 0.0000\n",
            "Seen so far: 272 samples\n",
            "Step is over\n"
          ]
        },
        {
          "output_type": "stream",
          "name": "stderr",
          "text": [
            "\r18it [26:50, 86.93s/it]"
          ]
        },
        {
          "output_type": "stream",
          "name": "stdout",
          "text": [
            "Training loss (for one batch) at step 17: 0.0000\n",
            "Seen so far: 288 samples\n",
            "Step is over\n"
          ]
        },
        {
          "output_type": "stream",
          "name": "stderr",
          "text": [
            "\r19it [28:39, 93.43s/it]"
          ]
        },
        {
          "output_type": "stream",
          "name": "stdout",
          "text": [
            "Training loss (for one batch) at step 18: 0.0000\n",
            "Seen so far: 304 samples\n",
            "Step is over\n"
          ]
        },
        {
          "output_type": "stream",
          "name": "stderr",
          "text": [
            "\r20it [30:27, 97.74s/it]"
          ]
        },
        {
          "output_type": "stream",
          "name": "stdout",
          "text": [
            "Training loss (for one batch) at step 19: 0.0000\n",
            "Seen so far: 320 samples\n",
            "Step is over\n"
          ]
        },
        {
          "output_type": "stream",
          "name": "stderr",
          "text": [
            "\r21it [31:45, 91.82s/it]"
          ]
        },
        {
          "output_type": "stream",
          "name": "stdout",
          "text": [
            "Training loss (for one batch) at step 20: 0.0000\n",
            "Seen so far: 336 samples\n",
            "Step is over\n"
          ]
        },
        {
          "output_type": "stream",
          "name": "stderr",
          "text": [
            "\r22it [33:00, 86.78s/it]"
          ]
        },
        {
          "output_type": "stream",
          "name": "stdout",
          "text": [
            "Training loss (for one batch) at step 21: 0.0000\n",
            "Seen so far: 352 samples\n",
            "Step is over\n"
          ]
        },
        {
          "output_type": "stream",
          "name": "stderr",
          "text": [
            "\r23it [34:23, 85.75s/it]"
          ]
        },
        {
          "output_type": "stream",
          "name": "stdout",
          "text": [
            "Training loss (for one batch) at step 22: 0.0000\n",
            "Seen so far: 368 samples\n",
            "Step is over\n"
          ]
        },
        {
          "output_type": "stream",
          "name": "stderr",
          "text": [
            "\r24it [35:49, 85.82s/it]"
          ]
        },
        {
          "output_type": "stream",
          "name": "stdout",
          "text": [
            "Training loss (for one batch) at step 23: 0.0000\n",
            "Seen so far: 384 samples\n",
            "Step is over\n"
          ]
        },
        {
          "output_type": "stream",
          "name": "stderr",
          "text": [
            "\r25it [37:21, 87.73s/it]"
          ]
        },
        {
          "output_type": "stream",
          "name": "stdout",
          "text": [
            "Training loss (for one batch) at step 24: 0.0000\n",
            "Seen so far: 400 samples\n",
            "Step is over\n"
          ]
        },
        {
          "output_type": "stream",
          "name": "stderr",
          "text": [
            "\r26it [39:12, 94.76s/it]"
          ]
        },
        {
          "output_type": "stream",
          "name": "stdout",
          "text": [
            "Training loss (for one batch) at step 25: 0.0000\n",
            "Seen so far: 416 samples\n",
            "Step is over\n"
          ]
        },
        {
          "output_type": "stream",
          "name": "stderr",
          "text": [
            "\r27it [40:36, 91.58s/it]"
          ]
        },
        {
          "output_type": "stream",
          "name": "stdout",
          "text": [
            "Training loss (for one batch) at step 26: 0.0000\n",
            "Seen so far: 432 samples\n",
            "Step is over\n"
          ]
        },
        {
          "output_type": "stream",
          "name": "stderr",
          "text": [
            "\r28it [41:47, 85.30s/it]"
          ]
        },
        {
          "output_type": "stream",
          "name": "stdout",
          "text": [
            "Training loss (for one batch) at step 27: 0.0000\n",
            "Seen so far: 448 samples\n",
            "Step is over\n"
          ]
        },
        {
          "output_type": "stream",
          "name": "stderr",
          "text": [
            "\r29it [43:10, 84.49s/it]"
          ]
        },
        {
          "output_type": "stream",
          "name": "stdout",
          "text": [
            "Training loss (for one batch) at step 28: 0.0000\n",
            "Seen so far: 464 samples\n",
            "Step is over\n"
          ]
        },
        {
          "output_type": "stream",
          "name": "stderr",
          "text": [
            "\r30it [44:31, 83.61s/it]"
          ]
        },
        {
          "output_type": "stream",
          "name": "stdout",
          "text": [
            "Training loss (for one batch) at step 29: 0.0000\n",
            "Seen so far: 480 samples\n",
            "Step is over\n"
          ]
        },
        {
          "output_type": "stream",
          "name": "stderr",
          "text": [
            "\r31it [45:59, 84.72s/it]"
          ]
        },
        {
          "output_type": "stream",
          "name": "stdout",
          "text": [
            "Training loss (for one batch) at step 30: 0.0000\n",
            "Seen so far: 496 samples\n",
            "Step is over\n"
          ]
        },
        {
          "output_type": "stream",
          "name": "stderr",
          "text": [
            "\r32it [47:20, 83.75s/it]"
          ]
        },
        {
          "output_type": "stream",
          "name": "stdout",
          "text": [
            "Training loss (for one batch) at step 31: 0.0000\n",
            "Seen so far: 512 samples\n",
            "Step is over\n"
          ]
        },
        {
          "output_type": "stream",
          "name": "stderr",
          "text": [
            "\r33it [48:43, 83.56s/it]"
          ]
        },
        {
          "output_type": "stream",
          "name": "stdout",
          "text": [
            "Training loss (for one batch) at step 32: 0.0000\n",
            "Seen so far: 528 samples\n",
            "Step is over\n"
          ]
        },
        {
          "output_type": "stream",
          "name": "stderr",
          "text": [
            "\r34it [50:16, 86.21s/it]"
          ]
        },
        {
          "output_type": "stream",
          "name": "stdout",
          "text": [
            "Training loss (for one batch) at step 33: 0.0000\n",
            "Seen so far: 544 samples\n",
            "Step is over\n"
          ]
        },
        {
          "output_type": "stream",
          "name": "stderr",
          "text": [
            "\r35it [51:52, 89.24s/it]"
          ]
        },
        {
          "output_type": "stream",
          "name": "stdout",
          "text": [
            "Training loss (for one batch) at step 34: 0.0000\n",
            "Seen so far: 560 samples\n",
            "Step is over\n"
          ]
        },
        {
          "output_type": "stream",
          "name": "stderr",
          "text": [
            "\r36it [53:14, 87.23s/it]"
          ]
        },
        {
          "output_type": "stream",
          "name": "stdout",
          "text": [
            "Training loss (for one batch) at step 35: 0.0000\n",
            "Seen so far: 576 samples\n",
            "Step is over\n"
          ]
        },
        {
          "output_type": "stream",
          "name": "stderr",
          "text": [
            "\r37it [54:41, 87.19s/it]"
          ]
        },
        {
          "output_type": "stream",
          "name": "stdout",
          "text": [
            "Training loss (for one batch) at step 36: 0.0000\n",
            "Seen so far: 592 samples\n",
            "Step is over\n"
          ]
        },
        {
          "output_type": "stream",
          "name": "stderr",
          "text": [
            "\r38it [56:00, 84.56s/it]"
          ]
        },
        {
          "output_type": "stream",
          "name": "stdout",
          "text": [
            "Training loss (for one batch) at step 37: 0.0000\n",
            "Seen so far: 608 samples\n",
            "Step is over\n"
          ]
        },
        {
          "output_type": "stream",
          "name": "stderr",
          "text": [
            "\r39it [57:32, 86.82s/it]"
          ]
        },
        {
          "output_type": "stream",
          "name": "stdout",
          "text": [
            "Training loss (for one batch) at step 38: 0.0000\n",
            "Seen so far: 624 samples\n",
            "Step is over\n"
          ]
        },
        {
          "output_type": "stream",
          "name": "stderr",
          "text": [
            "\r40it [59:14, 91.44s/it]"
          ]
        },
        {
          "output_type": "stream",
          "name": "stdout",
          "text": [
            "Training loss (for one batch) at step 39: 0.0000\n",
            "Seen so far: 640 samples\n",
            "Step is over\n"
          ]
        },
        {
          "output_type": "stream",
          "name": "stderr",
          "text": [
            "\r41it [1:00:53, 93.69s/it]"
          ]
        },
        {
          "output_type": "stream",
          "name": "stdout",
          "text": [
            "Training loss (for one batch) at step 40: 0.0000\n",
            "Seen so far: 656 samples\n",
            "Step is over\n"
          ]
        },
        {
          "output_type": "stream",
          "name": "stderr",
          "text": [
            "\r42it [1:02:22, 92.23s/it]"
          ]
        },
        {
          "output_type": "stream",
          "name": "stdout",
          "text": [
            "Training loss (for one batch) at step 41: 0.0000\n",
            "Seen so far: 672 samples\n",
            "Step is over\n"
          ]
        },
        {
          "output_type": "stream",
          "name": "stderr",
          "text": [
            "\r43it [1:03:45, 89.55s/it]"
          ]
        },
        {
          "output_type": "stream",
          "name": "stdout",
          "text": [
            "Training loss (for one batch) at step 42: 0.0000\n",
            "Seen so far: 688 samples\n",
            "Step is over\n"
          ]
        },
        {
          "output_type": "stream",
          "name": "stderr",
          "text": [
            "\r44it [1:05:00, 85.19s/it]"
          ]
        },
        {
          "output_type": "stream",
          "name": "stdout",
          "text": [
            "Training loss (for one batch) at step 43: 0.0000\n",
            "Seen so far: 704 samples\n",
            "Step is over\n"
          ]
        },
        {
          "output_type": "stream",
          "name": "stderr",
          "text": [
            "\r45it [1:06:36, 88.32s/it]"
          ]
        },
        {
          "output_type": "stream",
          "name": "stdout",
          "text": [
            "Training loss (for one batch) at step 44: 0.0000\n",
            "Seen so far: 720 samples\n",
            "Step is over\n"
          ]
        },
        {
          "output_type": "stream",
          "name": "stderr",
          "text": [
            "\r46it [1:07:51, 84.30s/it]"
          ]
        },
        {
          "output_type": "stream",
          "name": "stdout",
          "text": [
            "Training loss (for one batch) at step 45: 0.0000\n",
            "Seen so far: 736 samples\n",
            "Step is over\n"
          ]
        },
        {
          "output_type": "stream",
          "name": "stderr",
          "text": [
            "\r47it [1:09:21, 86.01s/it]"
          ]
        },
        {
          "output_type": "stream",
          "name": "stdout",
          "text": [
            "Training loss (for one batch) at step 46: 0.0000\n",
            "Seen so far: 752 samples\n",
            "Step is over\n"
          ]
        },
        {
          "output_type": "stream",
          "name": "stderr",
          "text": [
            "\r48it [1:10:47, 85.96s/it]"
          ]
        },
        {
          "output_type": "stream",
          "name": "stdout",
          "text": [
            "Training loss (for one batch) at step 47: 0.0000\n",
            "Seen so far: 768 samples\n",
            "Step is over\n"
          ]
        },
        {
          "output_type": "stream",
          "name": "stderr",
          "text": [
            "\r49it [1:12:18, 87.63s/it]"
          ]
        },
        {
          "output_type": "stream",
          "name": "stdout",
          "text": [
            "Training loss (for one batch) at step 48: 0.0000\n",
            "Seen so far: 784 samples\n",
            "Step is over\n"
          ]
        },
        {
          "output_type": "stream",
          "name": "stderr",
          "text": [
            "50it [1:13:41, 88.42s/it]\n"
          ]
        },
        {
          "output_type": "stream",
          "name": "stdout",
          "text": [
            "Training loss (for one batch) at step 49: 0.0000\n",
            "Seen so far: 800 samples\n"
          ]
        },
        {
          "output_type": "stream",
          "name": "stderr",
          "text": [
            "0it [00:00, ?it/s]\n"
          ]
        },
        {
          "output_type": "stream",
          "name": "stdout",
          "text": [
            "Validation acc: 0.0000\n",
            "\n",
            "Start of epoch 5\n"
          ]
        },
        {
          "output_type": "stream",
          "name": "stderr",
          "text": [
            "\r0it [00:00, ?it/s]"
          ]
        },
        {
          "output_type": "stream",
          "name": "stdout",
          "text": [
            "Step is over\n"
          ]
        },
        {
          "output_type": "stream",
          "name": "stderr",
          "text": [
            "\r1it [01:27, 87.77s/it]"
          ]
        },
        {
          "output_type": "stream",
          "name": "stdout",
          "text": [
            "Training loss (for one batch) at step 0: 0.0000\n",
            "Seen so far: 16 samples\n",
            "Step is over\n"
          ]
        },
        {
          "output_type": "stream",
          "name": "stderr",
          "text": [
            "\r2it [02:54, 87.26s/it]"
          ]
        },
        {
          "output_type": "stream",
          "name": "stdout",
          "text": [
            "Training loss (for one batch) at step 1: 0.0000\n",
            "Seen so far: 32 samples\n",
            "Step is over\n"
          ]
        },
        {
          "output_type": "stream",
          "name": "stderr",
          "text": [
            "\r3it [04:08, 81.16s/it]"
          ]
        },
        {
          "output_type": "stream",
          "name": "stdout",
          "text": [
            "Training loss (for one batch) at step 2: 0.0000\n",
            "Seen so far: 48 samples\n",
            "Step is over\n"
          ]
        },
        {
          "output_type": "stream",
          "name": "stderr",
          "text": [
            "\r4it [05:27, 80.13s/it]"
          ]
        },
        {
          "output_type": "stream",
          "name": "stdout",
          "text": [
            "Training loss (for one batch) at step 3: 0.0000\n",
            "Seen so far: 64 samples\n",
            "Step is over\n"
          ]
        },
        {
          "output_type": "stream",
          "name": "stderr",
          "text": [
            "\r5it [07:06, 87.06s/it]"
          ]
        },
        {
          "output_type": "stream",
          "name": "stdout",
          "text": [
            "Training loss (for one batch) at step 4: 0.0000\n",
            "Seen so far: 80 samples\n",
            "Step is over\n"
          ]
        },
        {
          "output_type": "stream",
          "name": "stderr",
          "text": [
            "\r6it [08:41, 89.69s/it]"
          ]
        },
        {
          "output_type": "stream",
          "name": "stdout",
          "text": [
            "Training loss (for one batch) at step 5: 0.0000\n",
            "Seen so far: 96 samples\n",
            "Step is over\n"
          ]
        },
        {
          "output_type": "stream",
          "name": "stderr",
          "text": [
            "\r7it [10:04, 87.44s/it]"
          ]
        },
        {
          "output_type": "stream",
          "name": "stdout",
          "text": [
            "Training loss (for one batch) at step 6: 0.0000\n",
            "Seen so far: 112 samples\n",
            "Step is over\n"
          ]
        },
        {
          "output_type": "stream",
          "name": "stderr",
          "text": [
            "\r8it [11:25, 85.57s/it]"
          ]
        },
        {
          "output_type": "stream",
          "name": "stdout",
          "text": [
            "Training loss (for one batch) at step 7: 0.0000\n",
            "Seen so far: 128 samples\n",
            "Step is over\n"
          ]
        },
        {
          "output_type": "stream",
          "name": "stderr",
          "text": [
            "\r9it [12:50, 85.23s/it]"
          ]
        },
        {
          "output_type": "stream",
          "name": "stdout",
          "text": [
            "Training loss (for one batch) at step 8: 0.0000\n",
            "Seen so far: 144 samples\n",
            "Step is over\n"
          ]
        },
        {
          "output_type": "stream",
          "name": "stderr",
          "text": [
            "\r10it [14:17, 85.77s/it]"
          ]
        },
        {
          "output_type": "stream",
          "name": "stdout",
          "text": [
            "Training loss (for one batch) at step 9: 0.0000\n",
            "Seen so far: 160 samples\n",
            "Step is over\n"
          ]
        },
        {
          "output_type": "stream",
          "name": "stderr",
          "text": [
            "\r11it [15:39, 84.88s/it]"
          ]
        },
        {
          "output_type": "stream",
          "name": "stdout",
          "text": [
            "Training loss (for one batch) at step 10: 0.0000\n",
            "Seen so far: 176 samples\n",
            "Step is over\n"
          ]
        },
        {
          "output_type": "stream",
          "name": "stderr",
          "text": [
            "\r12it [17:07, 85.78s/it]"
          ]
        },
        {
          "output_type": "stream",
          "name": "stdout",
          "text": [
            "Training loss (for one batch) at step 11: 0.0000\n",
            "Seen so far: 192 samples\n",
            "Step is over\n"
          ]
        },
        {
          "output_type": "stream",
          "name": "stderr",
          "text": [
            "\r13it [18:50, 90.97s/it]"
          ]
        },
        {
          "output_type": "stream",
          "name": "stdout",
          "text": [
            "Training loss (for one batch) at step 12: 0.0000\n",
            "Seen so far: 208 samples\n",
            "Step is over\n"
          ]
        },
        {
          "output_type": "stream",
          "name": "stderr",
          "text": [
            "\r14it [20:18, 90.00s/it]"
          ]
        },
        {
          "output_type": "stream",
          "name": "stdout",
          "text": [
            "Training loss (for one batch) at step 13: 0.0000\n",
            "Seen so far: 224 samples\n",
            "Step is over\n"
          ]
        },
        {
          "output_type": "stream",
          "name": "stderr",
          "text": [
            "\r15it [21:37, 86.55s/it]"
          ]
        },
        {
          "output_type": "stream",
          "name": "stdout",
          "text": [
            "Training loss (for one batch) at step 14: 0.0000\n",
            "Seen so far: 240 samples\n",
            "Step is over\n"
          ]
        },
        {
          "output_type": "stream",
          "name": "stderr",
          "text": [
            "\r16it [22:57, 84.85s/it]"
          ]
        },
        {
          "output_type": "stream",
          "name": "stdout",
          "text": [
            "Training loss (for one batch) at step 15: 0.0000\n",
            "Seen so far: 256 samples\n",
            "Step is over\n"
          ]
        },
        {
          "output_type": "stream",
          "name": "stderr",
          "text": [
            "\r17it [24:24, 85.40s/it]"
          ]
        },
        {
          "output_type": "stream",
          "name": "stdout",
          "text": [
            "Training loss (for one batch) at step 16: 0.0000\n",
            "Seen so far: 272 samples\n",
            "Step is over\n"
          ]
        },
        {
          "output_type": "stream",
          "name": "stderr",
          "text": [
            "\r18it [25:59, 88.20s/it]"
          ]
        },
        {
          "output_type": "stream",
          "name": "stdout",
          "text": [
            "Training loss (for one batch) at step 17: 0.0000\n",
            "Seen so far: 288 samples\n",
            "Step is over\n"
          ]
        },
        {
          "output_type": "stream",
          "name": "stderr",
          "text": [
            "\r19it [27:32, 89.70s/it]"
          ]
        },
        {
          "output_type": "stream",
          "name": "stdout",
          "text": [
            "Training loss (for one batch) at step 18: 0.0000\n",
            "Seen so far: 304 samples\n",
            "Step is over\n"
          ]
        },
        {
          "output_type": "stream",
          "name": "stderr",
          "text": [
            "\r20it [28:55, 87.70s/it]"
          ]
        },
        {
          "output_type": "stream",
          "name": "stdout",
          "text": [
            "Training loss (for one batch) at step 19: 0.0000\n",
            "Seen so far: 320 samples\n",
            "Step is over\n"
          ]
        },
        {
          "output_type": "stream",
          "name": "stderr",
          "text": [
            "\r21it [30:23, 87.88s/it]"
          ]
        },
        {
          "output_type": "stream",
          "name": "stdout",
          "text": [
            "Training loss (for one batch) at step 20: 0.0000\n",
            "Seen so far: 336 samples\n",
            "Step is over\n"
          ]
        },
        {
          "output_type": "stream",
          "name": "stderr",
          "text": [
            "\r22it [31:49, 87.30s/it]"
          ]
        },
        {
          "output_type": "stream",
          "name": "stdout",
          "text": [
            "Training loss (for one batch) at step 21: 0.0000\n",
            "Seen so far: 352 samples\n",
            "Step is over\n"
          ]
        },
        {
          "output_type": "stream",
          "name": "stderr",
          "text": [
            "\r23it [33:23, 89.20s/it]"
          ]
        },
        {
          "output_type": "stream",
          "name": "stdout",
          "text": [
            "Training loss (for one batch) at step 22: 0.0000\n",
            "Seen so far: 368 samples\n",
            "Step is over\n"
          ]
        },
        {
          "output_type": "stream",
          "name": "stderr",
          "text": [
            "\r24it [34:53, 89.56s/it]"
          ]
        },
        {
          "output_type": "stream",
          "name": "stdout",
          "text": [
            "Training loss (for one batch) at step 23: 0.0000\n",
            "Seen so far: 384 samples\n",
            "Step is over\n"
          ]
        },
        {
          "output_type": "stream",
          "name": "stderr",
          "text": [
            "\r25it [36:27, 90.78s/it]"
          ]
        },
        {
          "output_type": "stream",
          "name": "stdout",
          "text": [
            "Training loss (for one batch) at step 24: 0.0000\n",
            "Seen so far: 400 samples\n",
            "Step is over\n"
          ]
        },
        {
          "output_type": "stream",
          "name": "stderr",
          "text": [
            "\r26it [38:06, 93.18s/it]"
          ]
        },
        {
          "output_type": "stream",
          "name": "stdout",
          "text": [
            "Training loss (for one batch) at step 25: 0.0000\n",
            "Seen so far: 416 samples\n",
            "Step is over\n"
          ]
        },
        {
          "output_type": "stream",
          "name": "stderr",
          "text": [
            "\r27it [39:27, 89.50s/it]"
          ]
        },
        {
          "output_type": "stream",
          "name": "stdout",
          "text": [
            "Training loss (for one batch) at step 26: 0.0000\n",
            "Seen so far: 432 samples\n",
            "Step is over\n"
          ]
        },
        {
          "output_type": "stream",
          "name": "stderr",
          "text": [
            "\r28it [40:48, 87.05s/it]"
          ]
        },
        {
          "output_type": "stream",
          "name": "stdout",
          "text": [
            "Training loss (for one batch) at step 27: 0.0000\n",
            "Seen so far: 448 samples\n",
            "Step is over\n"
          ]
        },
        {
          "output_type": "stream",
          "name": "stderr",
          "text": [
            "\r29it [42:10, 85.43s/it]"
          ]
        },
        {
          "output_type": "stream",
          "name": "stdout",
          "text": [
            "Training loss (for one batch) at step 28: 0.0000\n",
            "Seen so far: 464 samples\n",
            "Step is over\n"
          ]
        },
        {
          "output_type": "stream",
          "name": "stderr",
          "text": [
            "\r30it [43:38, 86.40s/it]"
          ]
        },
        {
          "output_type": "stream",
          "name": "stdout",
          "text": [
            "Training loss (for one batch) at step 29: 0.0000\n",
            "Seen so far: 480 samples\n",
            "Step is over\n"
          ]
        },
        {
          "output_type": "stream",
          "name": "stderr",
          "text": [
            "\r31it [45:03, 85.98s/it]"
          ]
        },
        {
          "output_type": "stream",
          "name": "stdout",
          "text": [
            "Training loss (for one batch) at step 30: 0.0000\n",
            "Seen so far: 496 samples\n",
            "Step is over\n"
          ]
        },
        {
          "output_type": "stream",
          "name": "stderr",
          "text": [
            "\r32it [47:00, 95.11s/it]"
          ]
        },
        {
          "output_type": "stream",
          "name": "stdout",
          "text": [
            "Training loss (for one batch) at step 31: 0.0000\n",
            "Seen so far: 512 samples\n",
            "Step is over\n"
          ]
        },
        {
          "output_type": "stream",
          "name": "stderr",
          "text": [
            "\r33it [48:26, 92.44s/it]"
          ]
        },
        {
          "output_type": "stream",
          "name": "stdout",
          "text": [
            "Training loss (for one batch) at step 32: 0.0000\n",
            "Seen so far: 528 samples\n",
            "Step is over\n"
          ]
        },
        {
          "output_type": "stream",
          "name": "stderr",
          "text": [
            "\r34it [50:17, 97.94s/it]"
          ]
        },
        {
          "output_type": "stream",
          "name": "stdout",
          "text": [
            "Training loss (for one batch) at step 33: 0.0000\n",
            "Seen so far: 544 samples\n",
            "Step is over\n"
          ]
        },
        {
          "output_type": "stream",
          "name": "stderr",
          "text": [
            "\r35it [51:37, 92.49s/it]"
          ]
        },
        {
          "output_type": "stream",
          "name": "stdout",
          "text": [
            "Training loss (for one batch) at step 34: 0.0000\n",
            "Seen so far: 560 samples\n",
            "Step is over\n"
          ]
        },
        {
          "output_type": "stream",
          "name": "stderr",
          "text": [
            "\r36it [53:08, 92.23s/it]"
          ]
        },
        {
          "output_type": "stream",
          "name": "stdout",
          "text": [
            "Training loss (for one batch) at step 35: 0.0000\n",
            "Seen so far: 576 samples\n",
            "Step is over\n"
          ]
        },
        {
          "output_type": "stream",
          "name": "stderr",
          "text": [
            "\r37it [54:31, 89.51s/it]"
          ]
        },
        {
          "output_type": "stream",
          "name": "stdout",
          "text": [
            "Training loss (for one batch) at step 36: 0.0000\n",
            "Seen so far: 592 samples\n",
            "Step is over\n"
          ]
        },
        {
          "output_type": "stream",
          "name": "stderr",
          "text": [
            "\r38it [56:14, 93.54s/it]"
          ]
        },
        {
          "output_type": "stream",
          "name": "stdout",
          "text": [
            "Training loss (for one batch) at step 37: 0.0000\n",
            "Seen so far: 608 samples\n",
            "Step is over\n"
          ]
        },
        {
          "output_type": "stream",
          "name": "stderr",
          "text": [
            "\r39it [57:52, 94.72s/it]"
          ]
        },
        {
          "output_type": "stream",
          "name": "stdout",
          "text": [
            "Training loss (for one batch) at step 38: 0.0000\n",
            "Seen so far: 624 samples\n",
            "Step is over\n"
          ]
        },
        {
          "output_type": "stream",
          "name": "stderr",
          "text": [
            "\r40it [59:30, 95.85s/it]"
          ]
        },
        {
          "output_type": "stream",
          "name": "stdout",
          "text": [
            "Training loss (for one batch) at step 39: 0.0000\n",
            "Seen so far: 640 samples\n",
            "Step is over\n"
          ]
        },
        {
          "output_type": "stream",
          "name": "stderr",
          "text": [
            "\r41it [1:00:55, 92.64s/it]"
          ]
        },
        {
          "output_type": "stream",
          "name": "stdout",
          "text": [
            "Training loss (for one batch) at step 40: 0.0000\n",
            "Seen so far: 656 samples\n",
            "Step is over\n"
          ]
        },
        {
          "output_type": "stream",
          "name": "stderr",
          "text": [
            "\r42it [1:02:38, 95.77s/it]"
          ]
        },
        {
          "output_type": "stream",
          "name": "stdout",
          "text": [
            "Training loss (for one batch) at step 41: 0.0000\n",
            "Seen so far: 672 samples\n",
            "Step is over\n"
          ]
        },
        {
          "output_type": "stream",
          "name": "stderr",
          "text": [
            "\r43it [1:04:00, 91.66s/it]"
          ]
        },
        {
          "output_type": "stream",
          "name": "stdout",
          "text": [
            "Training loss (for one batch) at step 42: 0.0000\n",
            "Seen so far: 688 samples\n",
            "Step is over\n"
          ]
        },
        {
          "output_type": "stream",
          "name": "stderr",
          "text": [
            "\r44it [1:05:25, 89.63s/it]"
          ]
        },
        {
          "output_type": "stream",
          "name": "stdout",
          "text": [
            "Training loss (for one batch) at step 43: 0.0000\n",
            "Seen so far: 704 samples\n",
            "Step is over\n"
          ]
        },
        {
          "output_type": "stream",
          "name": "stderr",
          "text": [
            "\r45it [1:06:46, 86.78s/it]"
          ]
        },
        {
          "output_type": "stream",
          "name": "stdout",
          "text": [
            "Training loss (for one batch) at step 44: 0.0000\n",
            "Seen so far: 720 samples\n",
            "Step is over\n"
          ]
        },
        {
          "output_type": "stream",
          "name": "stderr",
          "text": [
            "\r46it [1:08:26, 91.03s/it]"
          ]
        },
        {
          "output_type": "stream",
          "name": "stdout",
          "text": [
            "Training loss (for one batch) at step 45: 0.0000\n",
            "Seen so far: 736 samples\n",
            "Step is over\n"
          ]
        },
        {
          "output_type": "stream",
          "name": "stderr",
          "text": [
            "\r47it [1:09:50, 88.89s/it]"
          ]
        },
        {
          "output_type": "stream",
          "name": "stdout",
          "text": [
            "Training loss (for one batch) at step 46: 0.0000\n",
            "Seen so far: 752 samples\n",
            "Step is over\n"
          ]
        },
        {
          "output_type": "stream",
          "name": "stderr",
          "text": [
            "\r48it [1:11:18, 88.48s/it]"
          ]
        },
        {
          "output_type": "stream",
          "name": "stdout",
          "text": [
            "Training loss (for one batch) at step 47: 0.0000\n",
            "Seen so far: 768 samples\n",
            "Step is over\n"
          ]
        },
        {
          "output_type": "stream",
          "name": "stderr",
          "text": [
            "\r49it [1:12:53, 90.41s/it]"
          ]
        },
        {
          "output_type": "stream",
          "name": "stdout",
          "text": [
            "Training loss (for one batch) at step 48: 0.0000\n",
            "Seen so far: 784 samples\n",
            "Step is over\n"
          ]
        },
        {
          "output_type": "stream",
          "name": "stderr",
          "text": [
            "50it [1:14:26, 89.33s/it]"
          ]
        },
        {
          "output_type": "stream",
          "name": "stdout",
          "text": [
            "Training loss (for one batch) at step 49: 0.0000\n",
            "Seen so far: 800 samples\n"
          ]
        },
        {
          "output_type": "stream",
          "name": "stderr",
          "text": [
            "\n",
            "0it [00:00, ?it/s]"
          ]
        },
        {
          "output_type": "stream",
          "name": "stdout",
          "text": [
            "Validation acc: 0.0000\n"
          ]
        },
        {
          "output_type": "stream",
          "name": "stderr",
          "text": [
            "\n"
          ]
        }
      ]
    },
    {
      "cell_type": "code",
      "source": [
        "import matplotlib.pyplot as plt"
      ],
      "metadata": {
        "id": "abqnwnUHRm4H"
      },
      "execution_count": 35,
      "outputs": []
    },
    {
      "cell_type": "code",
      "source": [
        "fig, axes = plt.subplots(2, sharex=True, figsize=(12, 8))\n",
        "fig.suptitle('Training Metrics')\n",
        "\n",
        "axes[0].set_ylabel(\"Loss\", fontsize=14)\n",
        "axes[0].plot(train_loss_results)\n",
        "# axes[0].plot(val_loss_results)\n",
        "\n",
        "\n",
        "axes[1].set_ylabel(\"Accuracy\", fontsize=14)\n",
        "axes[1].set_xlabel(\"Epoch\", fontsize=14)\n",
        "axes[1].plot(train_accuracy_results)\n",
        "# axes[0].plot(val_accuracy_results)\n",
        "plt.show()"
      ],
      "metadata": {
        "id": "qDZHQCxbFnvI",
        "colab": {
          "base_uri": "https://localhost:8080/",
          "height": 558
        },
        "outputId": "28a66765-e66c-4b51-cdc1-78fda95ac023"
      },
      "execution_count": 36,
      "outputs": [
        {
          "output_type": "display_data",
          "data": {
            "text/plain": [
              "<Figure size 864x576 with 2 Axes>"
            ],
            "image/png": "[encoded data removed]"
          },
          "metadata": {
            "needs_background": "light"
          }
        }
      ]
    },
    {
      "cell_type": "code",
      "source": [
        "video_process = VideoProcess()\n",
        "imgs = video_process.getFrame([b\"/content/manipulated_sequences/Face2Face/c23/videos/001_870.mp4\"])\n",
        "logits = model([np.array(imgs)]) \n",
        "print(logits)"
      ],
      "metadata": {
        "id": "iHbXUNO6PyYj",
        "colab": {
          "base_uri": "https://localhost:8080/"
        },
        "outputId": "fc462284-0345-4b96-dc23-e22551abeeea"
      },
      "execution_count": 43,
      "outputs": [
        {
          "output_type": "stream",
          "name": "stderr",
          "text": [
            "/usr/local/lib/python3.7/dist-packages/ipykernel_launcher.py:32: DeprecationWarning: `np.int` is a deprecated alias for the builtin `int`. To silence this warning, use `int` by itself. Doing this will not modify any behavior and is safe. When replacing `np.int`, you may wish to use e.g. `np.int64` or `np.int32` to specify the precision. If you wish to review your current use, check the release note link for additional information.\n",
            "Deprecated in NumPy 1.20; for more details and guidance: https://numpy.org/devdocs/release/1.20.0-notes.html#deprecations\n"
          ]
        },
        {
          "output_type": "stream",
          "name": "stdout",
          "text": [
            "tf.Tensor([[1.0000000e+00 3.0334343e-30 1.5150440e-28 0.0000000e+00 4.3863114e-38]], shape=(1, 5), dtype=float32)\n"
          ]
        }
      ]
    },
    {
      "cell_type": "code",
      "source": [
        "import matplotlib.pyplot as plt\n",
        "from sklearn.datasets import make_classification\n",
        "from sklearn.metrics import plot_confusion_matrix\n",
        "from sklearn.model_selection import train_test_split\n",
        "from sklearn.svm import SVC\n",
        "x, y = make_classification(random_state=0)\n",
        "\n",
        "clf = SVC(random_state=0)\n",
        "clf.fit(x_batch_train, y_batch_train)\n",
        "\n",
        "plot_confusion_matrix(clf, x_batch_val, y_batch_val)  \n",
        "plt.show()"
      ],
      "metadata": {
        "id": "lBeD-a5Oysn9",
        "colab": {
          "base_uri": "https://localhost:8080/",
          "height": 397
        },
        "outputId": "1f5db7ed-0afb-458a-dd58-2028de2104df"
      },
      "execution_count": 46,
      "outputs": [
        {
          "output_type": "error",
          "ename": "ValueError",
          "evalue": "ignored",
          "traceback": [
            "\u001b[0;31m---------------------------------------------------------------------------\u001b[0m",
            "\u001b[0;31mValueError\u001b[0m                                Traceback (most recent call last)",
            "\u001b[0;32m<ipython-input-46-51bc31c25c2f>\u001b[0m in \u001b[0;36m<module>\u001b[0;34m()\u001b[0m\n\u001b[1;32m      7\u001b[0m \u001b[0;34m\u001b[0m\u001b[0m\n\u001b[1;32m      8\u001b[0m \u001b[0mclf\u001b[0m \u001b[0;34m=\u001b[0m \u001b[0mSVC\u001b[0m\u001b[0;34m(\u001b[0m\u001b[0mrandom_state\u001b[0m\u001b[0;34m=\u001b[0m\u001b[0;36m0\u001b[0m\u001b[0;34m)\u001b[0m\u001b[0;34m\u001b[0m\u001b[0;34m\u001b[0m\u001b[0m\n\u001b[0;32m----> 9\u001b[0;31m \u001b[0mclf\u001b[0m\u001b[0;34m.\u001b[0m\u001b[0mfit\u001b[0m\u001b[0;34m(\u001b[0m\u001b[0mx_batch_train\u001b[0m\u001b[0;34m,\u001b[0m \u001b[0my_batch_train\u001b[0m\u001b[0;34m)\u001b[0m\u001b[0;34m\u001b[0m\u001b[0;34m\u001b[0m\u001b[0m\n\u001b[0m\u001b[1;32m     10\u001b[0m \u001b[0;34m\u001b[0m\u001b[0m\n\u001b[1;32m     11\u001b[0m \u001b[0mplot_confusion_matrix\u001b[0m\u001b[0;34m(\u001b[0m\u001b[0mclf\u001b[0m\u001b[0;34m,\u001b[0m \u001b[0mx_batch_val\u001b[0m\u001b[0;34m,\u001b[0m \u001b[0my_batch_val\u001b[0m\u001b[0;34m)\u001b[0m\u001b[0;34m\u001b[0m\u001b[0;34m\u001b[0m\u001b[0m\n",
            "\u001b[0;32m/usr/local/lib/python3.7/dist-packages/sklearn/svm/_base.py\u001b[0m in \u001b[0;36mfit\u001b[0;34m(self, X, y, sample_weight)\u001b[0m\n\u001b[1;32m    194\u001b[0m                 \u001b[0morder\u001b[0m\u001b[0;34m=\u001b[0m\u001b[0;34m\"C\"\u001b[0m\u001b[0;34m,\u001b[0m\u001b[0;34m\u001b[0m\u001b[0;34m\u001b[0m\u001b[0m\n\u001b[1;32m    195\u001b[0m                 \u001b[0maccept_sparse\u001b[0m\u001b[0;34m=\u001b[0m\u001b[0;34m\"csr\"\u001b[0m\u001b[0;34m,\u001b[0m\u001b[0;34m\u001b[0m\u001b[0;34m\u001b[0m\u001b[0m\n\u001b[0;32m--> 196\u001b[0;31m                 \u001b[0maccept_large_sparse\u001b[0m\u001b[0;34m=\u001b[0m\u001b[0;32mFalse\u001b[0m\u001b[0;34m,\u001b[0m\u001b[0;34m\u001b[0m\u001b[0;34m\u001b[0m\u001b[0m\n\u001b[0m\u001b[1;32m    197\u001b[0m             )\n\u001b[1;32m    198\u001b[0m \u001b[0;34m\u001b[0m\u001b[0m\n",
            "\u001b[0;32m/usr/local/lib/python3.7/dist-packages/sklearn/base.py\u001b[0m in \u001b[0;36m_validate_data\u001b[0;34m(self, X, y, reset, validate_separately, **check_params)\u001b[0m\n\u001b[1;32m    579\u001b[0m                 \u001b[0my\u001b[0m \u001b[0;34m=\u001b[0m \u001b[0mcheck_array\u001b[0m\u001b[0;34m(\u001b[0m\u001b[0my\u001b[0m\u001b[0;34m,\u001b[0m \u001b[0;34m**\u001b[0m\u001b[0mcheck_y_params\u001b[0m\u001b[0;34m)\u001b[0m\u001b[0;34m\u001b[0m\u001b[0;34m\u001b[0m\u001b[0m\n\u001b[1;32m    580\u001b[0m             \u001b[0;32melse\u001b[0m\u001b[0;34m:\u001b[0m\u001b[0;34m\u001b[0m\u001b[0;34m\u001b[0m\u001b[0m\n\u001b[0;32m--> 581\u001b[0;31m                 \u001b[0mX\u001b[0m\u001b[0;34m,\u001b[0m \u001b[0my\u001b[0m \u001b[0;34m=\u001b[0m \u001b[0mcheck_X_y\u001b[0m\u001b[0;34m(\u001b[0m\u001b[0mX\u001b[0m\u001b[0;34m,\u001b[0m \u001b[0my\u001b[0m\u001b[0;34m,\u001b[0m \u001b[0;34m**\u001b[0m\u001b[0mcheck_params\u001b[0m\u001b[0;34m)\u001b[0m\u001b[0;34m\u001b[0m\u001b[0;34m\u001b[0m\u001b[0m\n\u001b[0m\u001b[1;32m    582\u001b[0m             \u001b[0mout\u001b[0m \u001b[0;34m=\u001b[0m \u001b[0mX\u001b[0m\u001b[0;34m,\u001b[0m \u001b[0my\u001b[0m\u001b[0;34m\u001b[0m\u001b[0;34m\u001b[0m\u001b[0m\n\u001b[1;32m    583\u001b[0m \u001b[0;34m\u001b[0m\u001b[0m\n",
            "\u001b[0;32m/usr/local/lib/python3.7/dist-packages/sklearn/utils/validation.py\u001b[0m in \u001b[0;36mcheck_X_y\u001b[0;34m(X, y, accept_sparse, accept_large_sparse, dtype, order, copy, force_all_finite, ensure_2d, allow_nd, multi_output, ensure_min_samples, ensure_min_features, y_numeric, estimator)\u001b[0m\n\u001b[1;32m    974\u001b[0m         \u001b[0mensure_min_samples\u001b[0m\u001b[0;34m=\u001b[0m\u001b[0mensure_min_samples\u001b[0m\u001b[0;34m,\u001b[0m\u001b[0;34m\u001b[0m\u001b[0;34m\u001b[0m\u001b[0m\n\u001b[1;32m    975\u001b[0m         \u001b[0mensure_min_features\u001b[0m\u001b[0;34m=\u001b[0m\u001b[0mensure_min_features\u001b[0m\u001b[0;34m,\u001b[0m\u001b[0;34m\u001b[0m\u001b[0;34m\u001b[0m\u001b[0m\n\u001b[0;32m--> 976\u001b[0;31m         \u001b[0mestimator\u001b[0m\u001b[0;34m=\u001b[0m\u001b[0mestimator\u001b[0m\u001b[0;34m,\u001b[0m\u001b[0;34m\u001b[0m\u001b[0;34m\u001b[0m\u001b[0m\n\u001b[0m\u001b[1;32m    977\u001b[0m     )\n\u001b[1;32m    978\u001b[0m \u001b[0;34m\u001b[0m\u001b[0m\n",
            "\u001b[0;32m/usr/local/lib/python3.7/dist-packages/sklearn/utils/validation.py\u001b[0m in \u001b[0;36mcheck_array\u001b[0;34m(array, accept_sparse, accept_large_sparse, dtype, order, copy, force_all_finite, ensure_2d, allow_nd, ensure_min_samples, ensure_min_features, estimator)\u001b[0m\n\u001b[1;32m    744\u001b[0m                     \u001b[0marray\u001b[0m \u001b[0;34m=\u001b[0m \u001b[0marray\u001b[0m\u001b[0;34m.\u001b[0m\u001b[0mastype\u001b[0m\u001b[0;34m(\u001b[0m\u001b[0mdtype\u001b[0m\u001b[0;34m,\u001b[0m \u001b[0mcasting\u001b[0m\u001b[0;34m=\u001b[0m\u001b[0;34m\"unsafe\"\u001b[0m\u001b[0;34m,\u001b[0m \u001b[0mcopy\u001b[0m\u001b[0;34m=\u001b[0m\u001b[0;32mFalse\u001b[0m\u001b[0;34m)\u001b[0m\u001b[0;34m\u001b[0m\u001b[0;34m\u001b[0m\u001b[0m\n\u001b[1;32m    745\u001b[0m                 \u001b[0;32melse\u001b[0m\u001b[0;34m:\u001b[0m\u001b[0;34m\u001b[0m\u001b[0;34m\u001b[0m\u001b[0m\n\u001b[0;32m--> 746\u001b[0;31m                     \u001b[0marray\u001b[0m \u001b[0;34m=\u001b[0m \u001b[0mnp\u001b[0m\u001b[0;34m.\u001b[0m\u001b[0masarray\u001b[0m\u001b[0;34m(\u001b[0m\u001b[0marray\u001b[0m\u001b[0;34m,\u001b[0m \u001b[0morder\u001b[0m\u001b[0;34m=\u001b[0m\u001b[0morder\u001b[0m\u001b[0;34m,\u001b[0m \u001b[0mdtype\u001b[0m\u001b[0;34m=\u001b[0m\u001b[0mdtype\u001b[0m\u001b[0;34m)\u001b[0m\u001b[0;34m\u001b[0m\u001b[0;34m\u001b[0m\u001b[0m\n\u001b[0m\u001b[1;32m    747\u001b[0m             \u001b[0;32mexcept\u001b[0m \u001b[0mComplexWarning\u001b[0m \u001b[0;32mas\u001b[0m \u001b[0mcomplex_warning\u001b[0m\u001b[0;34m:\u001b[0m\u001b[0;34m\u001b[0m\u001b[0;34m\u001b[0m\u001b[0m\n\u001b[1;32m    748\u001b[0m                 raise ValueError(\n",
            "\u001b[0;31mValueError\u001b[0m: could not convert string to float: b'/content/original_sequences/youtube/c23/videos/212.mp4'"
          ]
        }
      ]
    },
    {
      "cell_type": "code",
      "source": [
        ""
      ],
      "metadata": {
        "id": "mqg2yfxClZUJ"
      },
      "execution_count": null,
      "outputs": []
    }
  ]
}